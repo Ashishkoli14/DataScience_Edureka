{
  "cells": [
    {
      "cell_type": "markdown",
      "metadata": {
        "id": "R3LRk-rX3cPu"
      },
      "source": [
        "### Group By - Use Case 2"
      ]
    },
    {
      "cell_type": "code",
      "execution_count": null,
      "metadata": {
        "colab": {
          "base_uri": "https://localhost:8080/",
          "height": 206
        },
        "id": "ClC6e_I815T2",
        "outputId": "80586fca-f8f7-4331-bf56-3d7d473e34f0"
      },
      "outputs": [
        {
          "data": {
            "text/html": [
              "<div>\n",
              "<style scoped>\n",
              "    .dataframe tbody tr th:only-of-type {\n",
              "        vertical-align: middle;\n",
              "    }\n",
              "\n",
              "    .dataframe tbody tr th {\n",
              "        vertical-align: top;\n",
              "    }\n",
              "\n",
              "    .dataframe thead th {\n",
              "        text-align: right;\n",
              "    }\n",
              "</style>\n",
              "<table border=\"1\" class=\"dataframe\">\n",
              "  <thead>\n",
              "    <tr style=\"text-align: right;\">\n",
              "      <th></th>\n",
              "      <th>CustID</th>\n",
              "      <th>City</th>\n",
              "      <th>Store Number</th>\n",
              "      <th>Sales (INR)</th>\n",
              "      <th>Customer Age</th>\n",
              "      <th>Gender</th>\n",
              "    </tr>\n",
              "  </thead>\n",
              "  <tbody>\n",
              "    <tr>\n",
              "      <th>0</th>\n",
              "      <td>1001</td>\n",
              "      <td>Mumbai</td>\n",
              "      <td>10</td>\n",
              "      <td>123</td>\n",
              "      <td>38</td>\n",
              "      <td>M</td>\n",
              "    </tr>\n",
              "    <tr>\n",
              "      <th>1</th>\n",
              "      <td>1003</td>\n",
              "      <td>Bangalore</td>\n",
              "      <td>23</td>\n",
              "      <td>543</td>\n",
              "      <td>40</td>\n",
              "      <td>M</td>\n",
              "    </tr>\n",
              "    <tr>\n",
              "      <th>2</th>\n",
              "      <td>1006</td>\n",
              "      <td>Delhi</td>\n",
              "      <td>15</td>\n",
              "      <td>220</td>\n",
              "      <td>30</td>\n",
              "      <td>F</td>\n",
              "    </tr>\n",
              "    <tr>\n",
              "      <th>3</th>\n",
              "      <td>1007</td>\n",
              "      <td>Chennai</td>\n",
              "      <td>17</td>\n",
              "      <td>190</td>\n",
              "      <td>45</td>\n",
              "      <td>F</td>\n",
              "    </tr>\n",
              "    <tr>\n",
              "      <th>4</th>\n",
              "      <td>1009</td>\n",
              "      <td>Mumbai</td>\n",
              "      <td>11</td>\n",
              "      <td>269</td>\n",
              "      <td>28</td>\n",
              "      <td>F</td>\n",
              "    </tr>\n",
              "  </tbody>\n",
              "</table>\n",
              "</div>"
            ],
            "text/plain": [
              "   CustID       City  Store Number  Sales (INR)  Customer Age Gender\n",
              "0    1001     Mumbai            10          123            38      M\n",
              "1    1003  Bangalore            23          543            40      M\n",
              "2    1006      Delhi            15          220            30      F\n",
              "3    1007    Chennai            17          190            45      F\n",
              "4    1009     Mumbai            11          269            28      F"
            ]
          },
          "execution_count": 4,
          "metadata": {},
          "output_type": "execute_result"
        }
      ],
      "source": [
        "# Import pandas\n",
        "import pandas as pd\n",
        "\n",
        "# Read the input file into a Dataframe\n",
        "purchases = pd.read_csv(\"Xtra-Mart.csv\")\n",
        "\n",
        "# Display the first five rows of the Dataframe\n",
        "purchases.head()"
      ]
    },
    {
      "cell_type": "code",
      "execution_count": null,
      "metadata": {
        "colab": {
          "base_uri": "https://localhost:8080/"
        },
        "id": "yNWd4Jra16-j",
        "outputId": "1cdcc940-0761-4618-b24e-53bf4f11008c"
      },
      "outputs": [
        {
          "name": "stdout",
          "output_type": "stream",
          "text": [
            "City       Store Number\n",
            "Bangalore  21              140.0\n",
            "           23              543.0\n",
            "Chennai    17              216.0\n",
            "Delhi      15              220.0\n",
            "           16              190.0\n",
            "           18              120.0\n",
            "Mumbai     10              198.0\n",
            "           11              214.5\n",
            "           13              175.0\n",
            "Name: Sales (INR), dtype: float64\n"
          ]
        }
      ],
      "source": [
        "print(purchases.groupby(['City', 'Store Number'])['Sales (INR)'].mean())"
      ]
    },
    {
      "cell_type": "code",
      "execution_count": null,
      "metadata": {
        "colab": {
          "base_uri": "https://localhost:8080/"
        },
        "id": "Gq-iZB0t2IeP",
        "outputId": "6d872ed2-cb22-477c-de37-0b30f2e17d19"
      },
      "outputs": [
        {
          "name": "stdout",
          "output_type": "stream",
          "text": [
            "   CustID       City  Store Number  Sales (INR)  Customer Age Gender\n",
            "1    1003  Bangalore            23          543            40      M\n",
            "5    1010  Bangalore            21          130            56      M\n",
            "9    1014  Bangalore            21          150            29      F\n"
          ]
        }
      ],
      "source": [
        "print(purchases.groupby('City').get_group(\"Bangalore\"))"
      ]
    },
    {
      "cell_type": "markdown",
      "metadata": {
        "id": "gVybttyH3HjG"
      },
      "source": [
        "#### Conclusion: Using groupby we combine various forms of data"
      ]
    },
    {
      "cell_type": "code",
      "execution_count": null,
      "metadata": {
        "id": "bGjtyZ1x8noo"
      },
      "outputs": [],
      "source": [
        ""
      ]
    }
  ],
  "metadata": {
    "colab": {
      "name": "groupby.ipynb",
      "provenance": []
    },
    "kernelspec": {
      "display_name": "Python 3 (ipykernel)",
      "language": "python",
      "name": "python3"
    },
    "language_info": {
      "codemirror_mode": {
        "name": "ipython",
        "version": 3
      },
      "file_extension": ".py",
      "mimetype": "text/x-python",
      "name": "python",
      "nbconvert_exporter": "python",
      "pygments_lexer": "ipython3",
      "version": "3.9.7"
    }
  },
  "nbformat": 4,
  "nbformat_minor": 0
}