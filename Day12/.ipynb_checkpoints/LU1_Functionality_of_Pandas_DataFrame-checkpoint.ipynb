{
 "cells": [
  {
   "cell_type": "markdown",
   "metadata": {
    "id": "HMLWbuv3LCd4"
   },
   "source": [
    "<h2>Demo - Functionality of Pandas DataFrame</h2>\n",
    "\n",
    "In this demo, you will be shown how to use dataFrames to represent data using Python."
   ]
  },
  {
   "cell_type": "markdown",
   "metadata": {
    "id": "6DKfX-kGLCeL"
   },
   "source": [
    "##### Question 1:\n",
    "\n",
    "Perform the following Pandas Operations\n",
    "\n",
    "    1) From the raw data below create a data frame\n",
    "    \n",
    "    'first_name': ['Jason', 'Molly', 'Tina', 'Jake', 'Amy'], \n",
    "    'last_name': ['Miller', 'Jacobson', \".\", 'Milner', 'Cooze'], \n",
    "    'age': [42, 52, 36, 24, 73], \n",
    "    'preTestScore': [4, 24, 31, \".\", \".\"],\n",
    "    'postTestScore': [\"25,000\", \"94,000\", 57, 62, 70]\n",
    "\n",
    "    2) Save the dataframe into a csv file as example.csv\n",
    "    3) Read the example.csv and print the data frame\n",
    "    4) Read the example.csv without column heading\n",
    "    5) Read the example.csv and make the index columns as 'First Name’ and 'Last   Name'\n",
    "    6) Read the first 3 rows of the dataFrame and print the dataFrame\n",
    "    7) The column 'postTestScore' has \",\" in their values around numbers to represent thousands. Load example.csv file which ignores the default behaviour of comma while reading the 'postTestScore' column \n"
   ]
  },
  {
   "cell_type": "code",
   "execution_count": null,
   "metadata": {
    "id": "Ip682fPzLCeO",
    "outputId": "f2d5a89b-a379-42b7-cf84-49d51ef7c634"
   },
   "outputs": [
    {
     "name": "stdout",
     "output_type": "stream",
     "text": [
      "  first_name last_name  age preTestScore postTestScore\n",
      "0      Jason    Miller   42            4        25,000\n",
      "1      Molly  Jacobson   52           24        94,000\n",
      "2       Tina         .   36           31            57\n",
      "3       Jake    Milner   24            .            62\n",
      "4        Amy     Cooze   73            .            70\n"
     ]
    }
   ],
   "source": [
    "# Import the required libraries\n",
    "\n",
    "import pandas as pd\n",
    "import numpy as np\n",
    "\n",
    "# 1.1\n",
    "\n",
    "raw_data = {'first_name': ['Jason', 'Molly', 'Tina', 'Jake', 'Amy'],\n",
    "        'last_name': ['Miller', 'Jacobson', \".\", 'Milner', 'Cooze'],\n",
    "        'age': [42, 52, 36, 24, 73],\n",
    "        'preTestScore': [4, 24, 31, \".\", \".\"],\n",
    "        'postTestScore': [\"25,000\", \"94,000\", 57, 62, 70]}\n",
    "df = pd.DataFrame(raw_data, columns = ['first_name', 'last_name', 'age', 'preTestScore', 'postTestScore'])\n",
    "print(df)\n"
   ]
  },
  {
   "cell_type": "code",
   "execution_count": null,
   "metadata": {
    "id": "Fm55IzfMLCeU"
   },
   "outputs": [],
   "source": [
    "# 1.2 Save the dataFrame into a CSV file\n",
    "\n",
    "df.to_csv('example.csv')"
   ]
  },
  {
   "cell_type": "code",
   "execution_count": null,
   "metadata": {
    "id": "7bmDn1iHLCeW",
    "outputId": "5b29f223-f987-4600-fdf4-578332836814"
   },
   "outputs": [
    {
     "name": "stdout",
     "output_type": "stream",
     "text": [
      "   Unnamed: 0 first_name last_name  age preTestScore postTestScore\n",
      "0           0      Jason    Miller   42            4        25,000\n",
      "1           1      Molly  Jacobson   52           24        94,000\n",
      "2           2       Tina         .   36           31            57\n",
      "3           3       Jake    Milner   24            .            62\n",
      "4           4        Amy     Cooze   73            .            70\n"
     ]
    }
   ],
   "source": [
    "# 1.3 Read data from CSV and print the dataFrame\n",
    "\n",
    "df = pd.read_csv('example.csv', header=0)\n",
    "print(df)"
   ]
  },
  {
   "cell_type": "code",
   "execution_count": null,
   "metadata": {
    "id": "yI13_cXNLCeX",
    "outputId": "3443cd09-3376-4a22-f800-c8e8fea3024c"
   },
   "outputs": [
    {
     "name": "stdout",
     "output_type": "stream",
     "text": [
      "     0           1          2    3             4              5\n",
      "0  NaN  first_name  last_name  age  preTestScore  postTestScore\n",
      "1  0.0       Jason     Miller   42             4         25,000\n",
      "2  1.0       Molly   Jacobson   52            24         94,000\n",
      "3  2.0        Tina          .   36            31             57\n",
      "4  3.0        Jake     Milner   24             .             62\n",
      "5  4.0         Amy      Cooze   73             .             70\n"
     ]
    }
   ],
   "source": [
    "# 1.4 Read data from CSV without headers\n",
    "\n",
    "df = pd.read_csv('example.csv', header=None)\n",
    "print(df)"
   ]
  },
  {
   "cell_type": "code",
   "execution_count": null,
   "metadata": {
    "id": "jk9CoQwLLCec",
    "outputId": "e435403c-2ff9-405a-c7aa-1b89783f1637"
   },
   "outputs": [
    {
     "name": "stdout",
     "output_type": "stream",
     "text": [
      "                      UID  Age Pre-Test Score Post-Test Score\n",
      "First Name Last Name                                         \n",
      "Jason      Miller       0   42              4          25,000\n",
      "Molly      Jacobson     1   52             24          94,000\n",
      "Tina       .            2   36             31              57\n",
      "Jake       Milner       3   24              .              62\n",
      "Amy        Cooze        4   73              .              70\n"
     ]
    }
   ],
   "source": [
    "# 1.5 Read the data again with headers and make the index columns as 'First Name’ and 'Last Name'\n",
    "\n",
    "df = pd.read_csv('example.csv', header=0, index_col=['First Name', 'Last Name'], \n",
    "                 names=['UID', 'First Name', 'Last Name', 'Age', 'Pre-Test Score', 'Post-Test Score'])\n",
    "print(df)"
   ]
  },
  {
   "cell_type": "code",
   "execution_count": null,
   "metadata": {
    "id": "R0VTITkvLCeg",
    "outputId": "0242fe2a-7eb6-4f5d-e075-7fb079f9b9e0"
   },
   "outputs": [
    {
     "name": "stdout",
     "output_type": "stream",
     "text": [
      "   Unnamed: 0 first_name last_name  age  preTestScore postTestScore\n",
      "0           0      Jason    Miller   42             4        25,000\n",
      "1           1      Molly  Jacobson   52            24        94,000\n",
      "2           2       Tina         .   36            31            57\n"
     ]
    }
   ],
   "source": [
    "# 1.6 Read the first 3 rows of the dataFrame and print the dataFrame\n",
    "\n",
    "df = pd.read_csv('example.csv', nrows=3)\n",
    "print(df)"
   ]
  },
  {
   "cell_type": "code",
   "execution_count": null,
   "metadata": {
    "id": "eb5GyXpaLCei",
    "outputId": "82034b5a-b412-4ff8-8992-d472fd9b1826"
   },
   "outputs": [
    {
     "name": "stdout",
     "output_type": "stream",
     "text": [
      "   Unnamed: 0 first_name last_name  age preTestScore  postTestScore\n",
      "0           0      Jason    Miller   42            4          25000\n",
      "1           1      Molly  Jacobson   52           24          94000\n",
      "2           2       Tina         .   36           31             57\n",
      "3           3       Jake    Milner   24            .             62\n",
      "4           4        Amy     Cooze   73            .             70\n"
     ]
    }
   ],
   "source": [
    "# 1.7\n",
    "df = pd.read_csv('example.csv',  thousands=',')\n",
    "print(df)"
   ]
  }
 ],
 "metadata": {
  "colab": {
   "name": "Demo Functionality of Pandas DataFrame.ipynb",
   "provenance": []
  },
  "kernelspec": {
   "display_name": "Python 3 (ipykernel)",
   "language": "python",
   "name": "python3"
  },
  "language_info": {
   "codemirror_mode": {
    "name": "ipython",
    "version": 3
   },
   "file_extension": ".py",
   "mimetype": "text/x-python",
   "name": "python",
   "nbconvert_exporter": "python",
   "pygments_lexer": "ipython3",
   "version": "3.10.9"
  }
 },
 "nbformat": 4,
 "nbformat_minor": 1
}
