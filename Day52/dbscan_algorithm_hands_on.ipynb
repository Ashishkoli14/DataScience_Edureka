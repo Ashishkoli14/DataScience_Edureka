{
  "nbformat": 4,
  "nbformat_minor": 0,
  "metadata": {
    "colab": {
      "name": "dbscan algorithm hands on.ipynb",
      "provenance": [],
      "collapsed_sections": []
    },
    "kernelspec": {
      "name": "python3",
      "display_name": "Python 3"
    },
    "language_info": {
      "name": "python"
    }
  },
  "cells": [
    {
      "cell_type": "code",
      "execution_count": 3,
      "metadata": {
        "id": "QjYchzCSCLh8"
      },
      "outputs": [],
      "source": [
        "import matplotlib.pyplot as plt\n",
        "import numpy as np\n",
        "from sklearn.cluster import DBSCAN\n",
        "from sklearn.datasets import make_blobs\n",
        "from sklearn.preprocessing import StandardScaler\n",
        "from sklearn import datasets"
      ]
    },
    {
      "cell_type": "code",
      "source": [
        "X,y_true = make_blobs(n_samples=300, centers=4, cluster_std=0.5, random_state=0)"
      ],
      "metadata": {
        "id": "En-PR_4WCl20"
      },
      "execution_count": 4,
      "outputs": []
    },
    {
      "cell_type": "code",
      "source": [
        "db = DBSCAN(eps=0.3, min_samples=10)\n",
        "db.fit(X)"
      ],
      "metadata": {
        "colab": {
          "base_uri": "https://localhost:8080/"
        },
        "id": "em39H0IVC2Yz",
        "outputId": "8ffa10d0-2e5f-4706-ee12-0123f4acbaf5"
      },
      "execution_count": 5,
      "outputs": [
        {
          "output_type": "execute_result",
          "data": {
            "text/plain": [
              "DBSCAN(eps=0.3, min_samples=10)"
            ]
          },
          "metadata": {},
          "execution_count": 5
        }
      ]
    },
    {
      "cell_type": "code",
      "source": [
        "core_samples_mask = np.zeros_like(db.labels_,dtype=bool)\n",
        "core_samples_mask[db.core_sample_indices_] = True\n",
        "labels = db.labels_"
      ],
      "metadata": {
        "id": "7NahuoR6C-C1"
      },
      "execution_count": 8,
      "outputs": []
    },
    {
      "cell_type": "code",
      "source": [
        "labels"
      ],
      "metadata": {
        "colab": {
          "base_uri": "https://localhost:8080/"
        },
        "id": "TbpIvgmYDPO6",
        "outputId": "4716a00f-38e6-4666-df8b-931866235b55"
      },
      "execution_count": 9,
      "outputs": [
        {
          "output_type": "execute_result",
          "data": {
            "text/plain": [
              "array([-1,  0, -1,  0, -1, -1, -1,  2, -1, -1,  1, -1,  2, -1, -1,  2,  2,\n",
              "        3,  1, -1, -1,  3,  2,  1,  1, -1,  3,  2, -1, -1, -1,  0, -1, -1,\n",
              "        0, -1,  0, -1,  1,  3, -1,  1, -1, -1,  1,  1,  0,  1,  0, -1,  1,\n",
              "        3, -1,  3, -1,  1, -1, -1,  0,  3, -1,  2, -1,  1,  1,  1, -1,  3,\n",
              "       -1,  1,  2, -1,  0,  1, -1,  0,  1,  2,  3,  0, -1,  2, -1,  3,  0,\n",
              "       -1,  3,  2, -1,  0,  2,  3, -1,  1,  1, -1, -1,  3, -1, -1, -1, -1,\n",
              "       -1,  3,  2,  3, -1,  2, -1, -1, -1,  1,  3, -1,  3, -1,  0, -1, -1,\n",
              "       -1, -1,  3,  1,  3, -1,  3,  3,  1, -1,  1, -1,  1,  1, -1,  0, -1,\n",
              "       -1,  0, -1, -1, -1,  1, -1, -1, -1,  1,  0, -1,  0,  0,  0,  2, -1,\n",
              "        2, -1,  1,  0,  1,  3,  2, -1,  2,  2, -1,  2, -1, -1, -1, -1, -1,\n",
              "        2,  0,  3, -1, -1,  0, -1,  3,  2,  1,  3, -1,  1,  1,  2,  2, -1,\n",
              "        2, -1,  0, -1,  1,  2,  2,  1,  1, -1, -1,  1,  0, -1,  1, -1,  1,\n",
              "       -1, -1,  1, -1,  2, -1,  2,  1, -1, -1,  0,  1,  1,  3, -1,  2,  0,\n",
              "        3,  3, -1, -1, -1, -1, -1,  0, -1,  2, -1,  2, -1,  1,  2,  3,  1,\n",
              "       -1,  1, -1,  2, -1,  0,  0,  0,  0,  1,  1, -1, -1,  1,  3,  2,  1,\n",
              "       -1, -1, -1,  3,  0,  2,  2, -1,  3, -1,  1, -1, -1, -1,  3,  3, -1,\n",
              "        1, -1, -1, -1, -1, -1,  0,  0, -1,  3, -1,  3,  3, -1,  0, -1, -1,\n",
              "        2, -1,  3,  0, -1,  0, -1, -1,  2, -1,  1])"
            ]
          },
          "metadata": {},
          "execution_count": 9
        }
      ]
    },
    {
      "cell_type": "code",
      "source": [
        "core_samples_mask"
      ],
      "metadata": {
        "colab": {
          "base_uri": "https://localhost:8080/"
        },
        "id": "ZmdXdmg4DcCp",
        "outputId": "c5fecd75-dce0-4cbf-e66c-ae2479153fca"
      },
      "execution_count": 10,
      "outputs": [
        {
          "output_type": "execute_result",
          "data": {
            "text/plain": [
              "array([False,  True, False, False, False, False, False, False, False,\n",
              "       False,  True, False,  True, False, False, False,  True, False,\n",
              "        True, False, False, False, False, False,  True, False,  True,\n",
              "        True, False, False, False, False, False, False,  True, False,\n",
              "       False, False, False,  True, False, False, False, False,  True,\n",
              "        True,  True,  True,  True, False, False, False, False,  True,\n",
              "       False,  True, False, False,  True, False, False,  True, False,\n",
              "        True, False,  True, False,  True, False,  True, False, False,\n",
              "        True,  True, False, False,  True,  True,  True,  True, False,\n",
              "        True, False, False, False, False,  True, False, False,  True,\n",
              "       False,  True, False,  True,  True, False, False, False, False,\n",
              "       False, False, False, False, False,  True, False, False, False,\n",
              "       False, False, False, False, False, False,  True, False,  True,\n",
              "       False, False, False, False,  True, False,  True, False,  True,\n",
              "        True, False, False, False, False,  True,  True, False, False,\n",
              "       False, False, False, False, False, False,  True, False, False,\n",
              "       False,  True,  True, False, False,  True,  True,  True, False,\n",
              "       False, False,  True, False,  True,  True, False, False,  True,\n",
              "        True, False,  True, False, False, False, False, False, False,\n",
              "       False,  True, False, False,  True, False, False,  True,  True,\n",
              "       False, False, False,  True, False, False, False,  True, False,\n",
              "       False, False,  True,  True,  True, False, False, False, False,\n",
              "       False, False, False,  True, False, False, False, False,  True,\n",
              "       False,  True, False, False,  True, False, False,  True, False,\n",
              "        True, False, False, False,  True, False, False, False, False,\n",
              "       False, False, False, False, False,  True, False, False, False,\n",
              "        True,  True,  True,  True, False,  True, False, False, False,\n",
              "        True,  True,  True, False, False,  True, False, False,  True,\n",
              "        True,  True,  True, False, False, False,  True,  True,  True,\n",
              "       False, False,  True, False,  True, False, False, False, False,\n",
              "       False, False, False, False, False, False, False, False, False,\n",
              "        True, False, False, False,  True,  True, False,  True, False,\n",
              "       False, False, False, False, False, False,  True, False, False,\n",
              "        True, False,  True])"
            ]
          },
          "metadata": {},
          "execution_count": 10
        }
      ]
    },
    {
      "cell_type": "code",
      "source": [
        "# Number of clusters in labels, ignoring noise if present.\n",
        "n_clusters_ = len(set(labels)) - (1 if -1 in labels else 0)\n",
        "  \n",
        "print(labels)\n",
        "  \n",
        "# Plot result\n",
        "  \n",
        "# Black removed and is used for noise instead.\n",
        "unique_labels = set(labels)\n",
        "colors = ['y', 'b', 'g', 'r']\n",
        "print(colors)\n",
        "for k, col in zip(unique_labels, colors):\n",
        "    if k == -1:\n",
        "        # Black used for noise.\n",
        "        col = 'k'\n",
        "  \n",
        "    class_member_mask = (labels == k)\n",
        "  \n",
        "    xy = X[class_member_mask & core_samples_mask]\n",
        "    plt.plot(xy[:, 0], xy[:, 1], 'o', markerfacecolor=col,\n",
        "             markeredgecolor='k',\n",
        "             markersize=6)\n",
        "  \n",
        "    xy = X[class_member_mask & ~core_samples_mask]\n",
        "    plt.plot(xy[:, 0], xy[:, 1], 'o', markerfacecolor=col,\n",
        "             markeredgecolor='k',\n",
        "             markersize=6)\n",
        "  \n",
        "plt.title('number of clusters: %d' % n_clusters_)\n",
        "plt.show()"
      ],
      "metadata": {
        "colab": {
          "base_uri": "https://localhost:8080/",
          "height": 531
        },
        "id": "ZDrcWnv7DdJm",
        "outputId": "4b7b27f1-8297-4272-f004-6e51d743c965"
      },
      "execution_count": 11,
      "outputs": [
        {
          "output_type": "stream",
          "name": "stdout",
          "text": [
            "[-1  0 -1  0 -1 -1 -1  2 -1 -1  1 -1  2 -1 -1  2  2  3  1 -1 -1  3  2  1\n",
            "  1 -1  3  2 -1 -1 -1  0 -1 -1  0 -1  0 -1  1  3 -1  1 -1 -1  1  1  0  1\n",
            "  0 -1  1  3 -1  3 -1  1 -1 -1  0  3 -1  2 -1  1  1  1 -1  3 -1  1  2 -1\n",
            "  0  1 -1  0  1  2  3  0 -1  2 -1  3  0 -1  3  2 -1  0  2  3 -1  1  1 -1\n",
            " -1  3 -1 -1 -1 -1 -1  3  2  3 -1  2 -1 -1 -1  1  3 -1  3 -1  0 -1 -1 -1\n",
            " -1  3  1  3 -1  3  3  1 -1  1 -1  1  1 -1  0 -1 -1  0 -1 -1 -1  1 -1 -1\n",
            " -1  1  0 -1  0  0  0  2 -1  2 -1  1  0  1  3  2 -1  2  2 -1  2 -1 -1 -1\n",
            " -1 -1  2  0  3 -1 -1  0 -1  3  2  1  3 -1  1  1  2  2 -1  2 -1  0 -1  1\n",
            "  2  2  1  1 -1 -1  1  0 -1  1 -1  1 -1 -1  1 -1  2 -1  2  1 -1 -1  0  1\n",
            "  1  3 -1  2  0  3  3 -1 -1 -1 -1 -1  0 -1  2 -1  2 -1  1  2  3  1 -1  1\n",
            " -1  2 -1  0  0  0  0  1  1 -1 -1  1  3  2  1 -1 -1 -1  3  0  2  2 -1  3\n",
            " -1  1 -1 -1 -1  3  3 -1  1 -1 -1 -1 -1 -1  0  0 -1  3 -1  3  3 -1  0 -1\n",
            " -1  2 -1  3  0 -1  0 -1 -1  2 -1  1]\n",
            "['y', 'b', 'g', 'r']\n"
          ]
        },
        {
          "output_type": "display_data",
          "data": {
            "text/plain": [
              "<Figure size 432x288 with 1 Axes>"
            ],
            "image/png": "[encoded data removed]"
          },
          "metadata": {
            "needs_background": "light"
          }
        }
      ]
    },
    {
      "cell_type": "code",
      "source": [
        ""
      ],
      "metadata": {
        "id": "AK78UDMSDsln"
      },
      "execution_count": null,
      "outputs": []
    }
  ]
}