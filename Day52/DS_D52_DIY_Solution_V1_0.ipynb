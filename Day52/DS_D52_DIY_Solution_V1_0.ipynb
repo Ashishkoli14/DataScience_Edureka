{
  "nbformat": 4,
  "nbformat_minor": 0,
  "metadata": {
    "colab": {
      "name": "DS_D52_DIY_Solution.V1.0.ipynb",
      "provenance": [],
      "collapsed_sections": []
    },
    "kernelspec": {
      "name": "python3",
      "display_name": "Python 3"
    },
    "language_info": {
      "name": "python"
    }
  },
  "cells": [
    {
      "cell_type": "markdown",
      "source": [
        "##Day 52 - DIY Solution"
      ],
      "metadata": {
        "id": "-RpU2IhgSK5y"
      }
    },
    {
      "cell_type": "markdown",
      "source": [
        "**Q1. Problem Statement: DBSCAN Clustering**\n",
        "\n",
        "Load the \"Mall_Customers.csv\" dataset into a DataFrame to perform the following tasks:\n",
        "1.\tFind the correlation among the all the columns and drop the column/s with the least correlation\n",
        "2.\tEncode the \"Gender\" column using get_dummies() function\n",
        "3.\tPerform Density-Based Spatial Clustering of Applications with Noise (DBSCAN) clustering with eps=12.5 and min_samples=4\n",
        "4.\tPrint the size of each cluster and also the size of outliers' cluster\n",
        "5.\tUsing a scatter plot shows how annual income corresponds to the spending rates of customers\n"
      ],
      "metadata": {
        "id": "CE8uBY6xSPcl"
      }
    },
    {
      "cell_type": "markdown",
      "source": [
        "**Step-1:** Importing the required libraries."
      ],
      "metadata": {
        "id": "2kxI7zCUSpiP"
      }
    },
    {
      "cell_type": "code",
      "execution_count": null,
      "metadata": {
        "id": "wyx_-dorR2__"
      },
      "outputs": [],
      "source": [
        "import numpy as np # linear algebra\n",
        "import pandas as pd # data processing, CSV file I/O (e.g. pd.read_csv)\n",
        "import matplotlib.pyplot as plt\n",
        "import seaborn as sns"
      ]
    },
    {
      "cell_type": "markdown",
      "source": [
        "**Step-2:** Loading the dataset into a DataFrame and performing initial analysis."
      ],
      "metadata": {
        "id": "b4u5C-hqSwxm"
      }
    },
    {
      "cell_type": "code",
      "source": [
        "df=pd.read_csv(\"/content/Mall_Customers.csv\")\n",
        "df.head()"
      ],
      "metadata": {
        "colab": {
          "base_uri": "https://localhost:8080/",
          "height": 206
        },
        "id": "Y1vg2_9ZS3vf",
        "outputId": "9d4496d1-51b5-4e2d-d1cf-f810d79763d9"
      },
      "execution_count": null,
      "outputs": [
        {
          "output_type": "execute_result",
          "data": {
            "text/plain": [
              "   CustomerID  Gender  Age  Annual Income (k$)  Spending Score (1-100)\n",
              "0           1    Male   19                  15                      39\n",
              "1           2    Male   21                  15                      81\n",
              "2           3  Female   20                  16                       6\n",
              "3           4  Female   23                  16                      77\n",
              "4           5  Female   31                  17                      40"
            ],
            "text/html": [
              "\n",
              "  <div id=\"df-211da298-d01f-4816-af7b-0bb7d4ab67df\">\n",
              "    <div class=\"colab-df-container\">\n",
              "      <div>\n",
              "<style scoped>\n",
              "    .dataframe tbody tr th:only-of-type {\n",
              "        vertical-align: middle;\n",
              "    }\n",
              "\n",
              "    .dataframe tbody tr th {\n",
              "        vertical-align: top;\n",
              "    }\n",
              "\n",
              "    .dataframe thead th {\n",
              "        text-align: right;\n",
              "    }\n",
              "</style>\n",
              "<table border=\"1\" class=\"dataframe\">\n",
              "  <thead>\n",
              "    <tr style=\"text-align: right;\">\n",
              "      <th></th>\n",
              "      <th>CustomerID</th>\n",
              "      <th>Gender</th>\n",
              "      <th>Age</th>\n",
              "      <th>Annual Income (k$)</th>\n",
              "      <th>Spending Score (1-100)</th>\n",
              "    </tr>\n",
              "  </thead>\n",
              "  <tbody>\n",
              "    <tr>\n",
              "      <th>0</th>\n",
              "      <td>1</td>\n",
              "      <td>Male</td>\n",
              "      <td>19</td>\n",
              "      <td>15</td>\n",
              "      <td>39</td>\n",
              "    </tr>\n",
              "    <tr>\n",
              "      <th>1</th>\n",
              "      <td>2</td>\n",
              "      <td>Male</td>\n",
              "      <td>21</td>\n",
              "      <td>15</td>\n",
              "      <td>81</td>\n",
              "    </tr>\n",
              "    <tr>\n",
              "      <th>2</th>\n",
              "      <td>3</td>\n",
              "      <td>Female</td>\n",
              "      <td>20</td>\n",
              "      <td>16</td>\n",
              "      <td>6</td>\n",
              "    </tr>\n",
              "    <tr>\n",
              "      <th>3</th>\n",
              "      <td>4</td>\n",
              "      <td>Female</td>\n",
              "      <td>23</td>\n",
              "      <td>16</td>\n",
              "      <td>77</td>\n",
              "    </tr>\n",
              "    <tr>\n",
              "      <th>4</th>\n",
              "      <td>5</td>\n",
              "      <td>Female</td>\n",
              "      <td>31</td>\n",
              "      <td>17</td>\n",
              "      <td>40</td>\n",
              "    </tr>\n",
              "  </tbody>\n",
              "</table>\n",
              "</div>\n",
              "      <button class=\"colab-df-convert\" onclick=\"convertToInteractive('df-211da298-d01f-4816-af7b-0bb7d4ab67df')\"\n",
              "              title=\"Convert this dataframe to an interactive table.\"\n",
              "              style=\"display:none;\">\n",
              "        \n",
              "  <svg xmlns=\"http://www.w3.org/2000/svg\" height=\"24px\"viewBox=\"0 0 24 24\"\n",
              "       width=\"24px\">\n",
              "    <path d=\"M0 0h24v24H0V0z\" fill=\"none\"/>\n",
              "    <path d=\"M18.56 5.44l.94 2.06.94-2.06 2.06-.94-2.06-.94-.94-2.06-.94 2.06-2.06.94zm-11 1L8.5 8.5l.94-2.06 2.06-.94-2.06-.94L8.5 2.5l-.94 2.06-2.06.94zm10 10l.94 2.06.94-2.06 2.06-.94-2.06-.94-.94-2.06-.94 2.06-2.06.94z\"/><path d=\"M17.41 7.96l-1.37-1.37c-.4-.4-.92-.59-1.43-.59-.52 0-1.04.2-1.43.59L10.3 9.45l-7.72 7.72c-.78.78-.78 2.05 0 2.83L4 21.41c.39.39.9.59 1.41.59.51 0 1.02-.2 1.41-.59l7.78-7.78 2.81-2.81c.8-.78.8-2.07 0-2.86zM5.41 20L4 18.59l7.72-7.72 1.47 1.35L5.41 20z\"/>\n",
              "  </svg>\n",
              "      </button>\n",
              "      \n",
              "  <style>\n",
              "    .colab-df-container {\n",
              "      display:flex;\n",
              "      flex-wrap:wrap;\n",
              "      gap: 12px;\n",
              "    }\n",
              "\n",
              "    .colab-df-convert {\n",
              "      background-color: #E8F0FE;\n",
              "      border: none;\n",
              "      border-radius: 50%;\n",
              "      cursor: pointer;\n",
              "      display: none;\n",
              "      fill: #1967D2;\n",
              "      height: 32px;\n",
              "      padding: 0 0 0 0;\n",
              "      width: 32px;\n",
              "    }\n",
              "\n",
              "    .colab-df-convert:hover {\n",
              "      background-color: #E2EBFA;\n",
              "      box-shadow: 0px 1px 2px rgba(60, 64, 67, 0.3), 0px 1px 3px 1px rgba(60, 64, 67, 0.15);\n",
              "      fill: #174EA6;\n",
              "    }\n",
              "\n",
              "    [theme=dark] .colab-df-convert {\n",
              "      background-color: #3B4455;\n",
              "      fill: #D2E3FC;\n",
              "    }\n",
              "\n",
              "    [theme=dark] .colab-df-convert:hover {\n",
              "      background-color: #434B5C;\n",
              "      box-shadow: 0px 1px 3px 1px rgba(0, 0, 0, 0.15);\n",
              "      filter: drop-shadow(0px 1px 2px rgba(0, 0, 0, 0.3));\n",
              "      fill: #FFFFFF;\n",
              "    }\n",
              "  </style>\n",
              "\n",
              "      <script>\n",
              "        const buttonEl =\n",
              "          document.querySelector('#df-211da298-d01f-4816-af7b-0bb7d4ab67df button.colab-df-convert');\n",
              "        buttonEl.style.display =\n",
              "          google.colab.kernel.accessAllowed ? 'block' : 'none';\n",
              "\n",
              "        async function convertToInteractive(key) {\n",
              "          const element = document.querySelector('#df-211da298-d01f-4816-af7b-0bb7d4ab67df');\n",
              "          const dataTable =\n",
              "            await google.colab.kernel.invokeFunction('convertToInteractive',\n",
              "                                                     [key], {});\n",
              "          if (!dataTable) return;\n",
              "\n",
              "          const docLinkHtml = 'Like what you see? Visit the ' +\n",
              "            '<a target=\"_blank\" href=https://colab.research.google.com/notebooks/data_table.ipynb>data table notebook</a>'\n",
              "            + ' to learn more about interactive tables.';\n",
              "          element.innerHTML = '';\n",
              "          dataTable['output_type'] = 'display_data';\n",
              "          await google.colab.output.renderOutput(dataTable, element);\n",
              "          const docLink = document.createElement('div');\n",
              "          docLink.innerHTML = docLinkHtml;\n",
              "          element.appendChild(docLink);\n",
              "        }\n",
              "      </script>\n",
              "    </div>\n",
              "  </div>\n",
              "  "
            ]
          },
          "metadata": {},
          "execution_count": 48
        }
      ]
    },
    {
      "cell_type": "code",
      "source": [
        "df.info()"
      ],
      "metadata": {
        "colab": {
          "base_uri": "https://localhost:8080/"
        },
        "id": "I1ThpV3VTC6o",
        "outputId": "409bf607-c48c-4d32-988f-1d8080005be9"
      },
      "execution_count": null,
      "outputs": [
        {
          "output_type": "stream",
          "name": "stdout",
          "text": [
            "<class 'pandas.core.frame.DataFrame'>\n",
            "RangeIndex: 200 entries, 0 to 199\n",
            "Data columns (total 5 columns):\n",
            " #   Column                  Non-Null Count  Dtype \n",
            "---  ------                  --------------  ----- \n",
            " 0   CustomerID              200 non-null    int64 \n",
            " 1   Gender                  200 non-null    object\n",
            " 2   Age                     200 non-null    int64 \n",
            " 3   Annual Income (k$)      200 non-null    int64 \n",
            " 4   Spending Score (1-100)  200 non-null    int64 \n",
            "dtypes: int64(4), object(1)\n",
            "memory usage: 7.9+ KB\n"
          ]
        }
      ]
    },
    {
      "cell_type": "code",
      "source": [
        "df.describe()"
      ],
      "metadata": {
        "colab": {
          "base_uri": "https://localhost:8080/",
          "height": 300
        },
        "id": "5795fEqwTHiX",
        "outputId": "f856e165-e49d-4b86-e951-b126ae7c98e5"
      },
      "execution_count": null,
      "outputs": [
        {
          "output_type": "execute_result",
          "data": {
            "text/plain": [
              "       CustomerID         Age  Annual Income (k$)  Spending Score (1-100)\n",
              "count  200.000000  200.000000          200.000000              200.000000\n",
              "mean   100.500000   38.850000           60.560000               50.200000\n",
              "std     57.879185   13.969007           26.264721               25.823522\n",
              "min      1.000000   18.000000           15.000000                1.000000\n",
              "25%     50.750000   28.750000           41.500000               34.750000\n",
              "50%    100.500000   36.000000           61.500000               50.000000\n",
              "75%    150.250000   49.000000           78.000000               73.000000\n",
              "max    200.000000   70.000000          137.000000               99.000000"
            ],
            "text/html": [
              "\n",
              "  <div id=\"df-fe26b8ec-57c3-4664-a253-190edb78e44e\">\n",
              "    <div class=\"colab-df-container\">\n",
              "      <div>\n",
              "<style scoped>\n",
              "    .dataframe tbody tr th:only-of-type {\n",
              "        vertical-align: middle;\n",
              "    }\n",
              "\n",
              "    .dataframe tbody tr th {\n",
              "        vertical-align: top;\n",
              "    }\n",
              "\n",
              "    .dataframe thead th {\n",
              "        text-align: right;\n",
              "    }\n",
              "</style>\n",
              "<table border=\"1\" class=\"dataframe\">\n",
              "  <thead>\n",
              "    <tr style=\"text-align: right;\">\n",
              "      <th></th>\n",
              "      <th>CustomerID</th>\n",
              "      <th>Age</th>\n",
              "      <th>Annual Income (k$)</th>\n",
              "      <th>Spending Score (1-100)</th>\n",
              "    </tr>\n",
              "  </thead>\n",
              "  <tbody>\n",
              "    <tr>\n",
              "      <th>count</th>\n",
              "      <td>200.000000</td>\n",
              "      <td>200.000000</td>\n",
              "      <td>200.000000</td>\n",
              "      <td>200.000000</td>\n",
              "    </tr>\n",
              "    <tr>\n",
              "      <th>mean</th>\n",
              "      <td>100.500000</td>\n",
              "      <td>38.850000</td>\n",
              "      <td>60.560000</td>\n",
              "      <td>50.200000</td>\n",
              "    </tr>\n",
              "    <tr>\n",
              "      <th>std</th>\n",
              "      <td>57.879185</td>\n",
              "      <td>13.969007</td>\n",
              "      <td>26.264721</td>\n",
              "      <td>25.823522</td>\n",
              "    </tr>\n",
              "    <tr>\n",
              "      <th>min</th>\n",
              "      <td>1.000000</td>\n",
              "      <td>18.000000</td>\n",
              "      <td>15.000000</td>\n",
              "      <td>1.000000</td>\n",
              "    </tr>\n",
              "    <tr>\n",
              "      <th>25%</th>\n",
              "      <td>50.750000</td>\n",
              "      <td>28.750000</td>\n",
              "      <td>41.500000</td>\n",
              "      <td>34.750000</td>\n",
              "    </tr>\n",
              "    <tr>\n",
              "      <th>50%</th>\n",
              "      <td>100.500000</td>\n",
              "      <td>36.000000</td>\n",
              "      <td>61.500000</td>\n",
              "      <td>50.000000</td>\n",
              "    </tr>\n",
              "    <tr>\n",
              "      <th>75%</th>\n",
              "      <td>150.250000</td>\n",
              "      <td>49.000000</td>\n",
              "      <td>78.000000</td>\n",
              "      <td>73.000000</td>\n",
              "    </tr>\n",
              "    <tr>\n",
              "      <th>max</th>\n",
              "      <td>200.000000</td>\n",
              "      <td>70.000000</td>\n",
              "      <td>137.000000</td>\n",
              "      <td>99.000000</td>\n",
              "    </tr>\n",
              "  </tbody>\n",
              "</table>\n",
              "</div>\n",
              "      <button class=\"colab-df-convert\" onclick=\"convertToInteractive('df-fe26b8ec-57c3-4664-a253-190edb78e44e')\"\n",
              "              title=\"Convert this dataframe to an interactive table.\"\n",
              "              style=\"display:none;\">\n",
              "        \n",
              "  <svg xmlns=\"http://www.w3.org/2000/svg\" height=\"24px\"viewBox=\"0 0 24 24\"\n",
              "       width=\"24px\">\n",
              "    <path d=\"M0 0h24v24H0V0z\" fill=\"none\"/>\n",
              "    <path d=\"M18.56 5.44l.94 2.06.94-2.06 2.06-.94-2.06-.94-.94-2.06-.94 2.06-2.06.94zm-11 1L8.5 8.5l.94-2.06 2.06-.94-2.06-.94L8.5 2.5l-.94 2.06-2.06.94zm10 10l.94 2.06.94-2.06 2.06-.94-2.06-.94-.94-2.06-.94 2.06-2.06.94z\"/><path d=\"M17.41 7.96l-1.37-1.37c-.4-.4-.92-.59-1.43-.59-.52 0-1.04.2-1.43.59L10.3 9.45l-7.72 7.72c-.78.78-.78 2.05 0 2.83L4 21.41c.39.39.9.59 1.41.59.51 0 1.02-.2 1.41-.59l7.78-7.78 2.81-2.81c.8-.78.8-2.07 0-2.86zM5.41 20L4 18.59l7.72-7.72 1.47 1.35L5.41 20z\"/>\n",
              "  </svg>\n",
              "      </button>\n",
              "      \n",
              "  <style>\n",
              "    .colab-df-container {\n",
              "      display:flex;\n",
              "      flex-wrap:wrap;\n",
              "      gap: 12px;\n",
              "    }\n",
              "\n",
              "    .colab-df-convert {\n",
              "      background-color: #E8F0FE;\n",
              "      border: none;\n",
              "      border-radius: 50%;\n",
              "      cursor: pointer;\n",
              "      display: none;\n",
              "      fill: #1967D2;\n",
              "      height: 32px;\n",
              "      padding: 0 0 0 0;\n",
              "      width: 32px;\n",
              "    }\n",
              "\n",
              "    .colab-df-convert:hover {\n",
              "      background-color: #E2EBFA;\n",
              "      box-shadow: 0px 1px 2px rgba(60, 64, 67, 0.3), 0px 1px 3px 1px rgba(60, 64, 67, 0.15);\n",
              "      fill: #174EA6;\n",
              "    }\n",
              "\n",
              "    [theme=dark] .colab-df-convert {\n",
              "      background-color: #3B4455;\n",
              "      fill: #D2E3FC;\n",
              "    }\n",
              "\n",
              "    [theme=dark] .colab-df-convert:hover {\n",
              "      background-color: #434B5C;\n",
              "      box-shadow: 0px 1px 3px 1px rgba(0, 0, 0, 0.15);\n",
              "      filter: drop-shadow(0px 1px 2px rgba(0, 0, 0, 0.3));\n",
              "      fill: #FFFFFF;\n",
              "    }\n",
              "  </style>\n",
              "\n",
              "      <script>\n",
              "        const buttonEl =\n",
              "          document.querySelector('#df-fe26b8ec-57c3-4664-a253-190edb78e44e button.colab-df-convert');\n",
              "        buttonEl.style.display =\n",
              "          google.colab.kernel.accessAllowed ? 'block' : 'none';\n",
              "\n",
              "        async function convertToInteractive(key) {\n",
              "          const element = document.querySelector('#df-fe26b8ec-57c3-4664-a253-190edb78e44e');\n",
              "          const dataTable =\n",
              "            await google.colab.kernel.invokeFunction('convertToInteractive',\n",
              "                                                     [key], {});\n",
              "          if (!dataTable) return;\n",
              "\n",
              "          const docLinkHtml = 'Like what you see? Visit the ' +\n",
              "            '<a target=\"_blank\" href=https://colab.research.google.com/notebooks/data_table.ipynb>data table notebook</a>'\n",
              "            + ' to learn more about interactive tables.';\n",
              "          element.innerHTML = '';\n",
              "          dataTable['output_type'] = 'display_data';\n",
              "          await google.colab.output.renderOutput(dataTable, element);\n",
              "          const docLink = document.createElement('div');\n",
              "          docLink.innerHTML = docLinkHtml;\n",
              "          element.appendChild(docLink);\n",
              "        }\n",
              "      </script>\n",
              "    </div>\n",
              "  </div>\n",
              "  "
            ]
          },
          "metadata": {},
          "execution_count": 50
        }
      ]
    },
    {
      "cell_type": "code",
      "source": [
        "df.isnull().sum()"
      ],
      "metadata": {
        "colab": {
          "base_uri": "https://localhost:8080/"
        },
        "id": "OwDzupPoTK5Y",
        "outputId": "e2149cab-d4bc-41be-fd77-c23a66c97492"
      },
      "execution_count": null,
      "outputs": [
        {
          "output_type": "execute_result",
          "data": {
            "text/plain": [
              "CustomerID                0\n",
              "Gender                    0\n",
              "Age                       0\n",
              "Annual Income (k$)        0\n",
              "Spending Score (1-100)    0\n",
              "dtype: int64"
            ]
          },
          "metadata": {},
          "execution_count": 51
        }
      ]
    },
    {
      "cell_type": "markdown",
      "source": [
        "**Step-3:** Finding correlation among the columns."
      ],
      "metadata": {
        "id": "gqQf_WeDTeqi"
      }
    },
    {
      "cell_type": "code",
      "source": [
        "corr_mat = df.corr()\n",
        "corr_mat"
      ],
      "metadata": {
        "colab": {
          "base_uri": "https://localhost:8080/",
          "height": 174
        },
        "id": "f0pF0mzmTkCY",
        "outputId": "c4786db6-58ac-45a0-a5e2-164169a52622"
      },
      "execution_count": null,
      "outputs": [
        {
          "output_type": "execute_result",
          "data": {
            "text/plain": [
              "                        CustomerID       Age  Annual Income (k$)  \\\n",
              "CustomerID                1.000000 -0.026763            0.977548   \n",
              "Age                      -0.026763  1.000000           -0.012398   \n",
              "Annual Income (k$)        0.977548 -0.012398            1.000000   \n",
              "Spending Score (1-100)    0.013835 -0.327227            0.009903   \n",
              "\n",
              "                        Spending Score (1-100)  \n",
              "CustomerID                            0.013835  \n",
              "Age                                  -0.327227  \n",
              "Annual Income (k$)                    0.009903  \n",
              "Spending Score (1-100)                1.000000  "
            ],
            "text/html": [
              "\n",
              "  <div id=\"df-82398c91-ebb1-4d7b-94d9-0b55d9f9cda8\">\n",
              "    <div class=\"colab-df-container\">\n",
              "      <div>\n",
              "<style scoped>\n",
              "    .dataframe tbody tr th:only-of-type {\n",
              "        vertical-align: middle;\n",
              "    }\n",
              "\n",
              "    .dataframe tbody tr th {\n",
              "        vertical-align: top;\n",
              "    }\n",
              "\n",
              "    .dataframe thead th {\n",
              "        text-align: right;\n",
              "    }\n",
              "</style>\n",
              "<table border=\"1\" class=\"dataframe\">\n",
              "  <thead>\n",
              "    <tr style=\"text-align: right;\">\n",
              "      <th></th>\n",
              "      <th>CustomerID</th>\n",
              "      <th>Age</th>\n",
              "      <th>Annual Income (k$)</th>\n",
              "      <th>Spending Score (1-100)</th>\n",
              "    </tr>\n",
              "  </thead>\n",
              "  <tbody>\n",
              "    <tr>\n",
              "      <th>CustomerID</th>\n",
              "      <td>1.000000</td>\n",
              "      <td>-0.026763</td>\n",
              "      <td>0.977548</td>\n",
              "      <td>0.013835</td>\n",
              "    </tr>\n",
              "    <tr>\n",
              "      <th>Age</th>\n",
              "      <td>-0.026763</td>\n",
              "      <td>1.000000</td>\n",
              "      <td>-0.012398</td>\n",
              "      <td>-0.327227</td>\n",
              "    </tr>\n",
              "    <tr>\n",
              "      <th>Annual Income (k$)</th>\n",
              "      <td>0.977548</td>\n",
              "      <td>-0.012398</td>\n",
              "      <td>1.000000</td>\n",
              "      <td>0.009903</td>\n",
              "    </tr>\n",
              "    <tr>\n",
              "      <th>Spending Score (1-100)</th>\n",
              "      <td>0.013835</td>\n",
              "      <td>-0.327227</td>\n",
              "      <td>0.009903</td>\n",
              "      <td>1.000000</td>\n",
              "    </tr>\n",
              "  </tbody>\n",
              "</table>\n",
              "</div>\n",
              "      <button class=\"colab-df-convert\" onclick=\"convertToInteractive('df-82398c91-ebb1-4d7b-94d9-0b55d9f9cda8')\"\n",
              "              title=\"Convert this dataframe to an interactive table.\"\n",
              "              style=\"display:none;\">\n",
              "        \n",
              "  <svg xmlns=\"http://www.w3.org/2000/svg\" height=\"24px\"viewBox=\"0 0 24 24\"\n",
              "       width=\"24px\">\n",
              "    <path d=\"M0 0h24v24H0V0z\" fill=\"none\"/>\n",
              "    <path d=\"M18.56 5.44l.94 2.06.94-2.06 2.06-.94-2.06-.94-.94-2.06-.94 2.06-2.06.94zm-11 1L8.5 8.5l.94-2.06 2.06-.94-2.06-.94L8.5 2.5l-.94 2.06-2.06.94zm10 10l.94 2.06.94-2.06 2.06-.94-2.06-.94-.94-2.06-.94 2.06-2.06.94z\"/><path d=\"M17.41 7.96l-1.37-1.37c-.4-.4-.92-.59-1.43-.59-.52 0-1.04.2-1.43.59L10.3 9.45l-7.72 7.72c-.78.78-.78 2.05 0 2.83L4 21.41c.39.39.9.59 1.41.59.51 0 1.02-.2 1.41-.59l7.78-7.78 2.81-2.81c.8-.78.8-2.07 0-2.86zM5.41 20L4 18.59l7.72-7.72 1.47 1.35L5.41 20z\"/>\n",
              "  </svg>\n",
              "      </button>\n",
              "      \n",
              "  <style>\n",
              "    .colab-df-container {\n",
              "      display:flex;\n",
              "      flex-wrap:wrap;\n",
              "      gap: 12px;\n",
              "    }\n",
              "\n",
              "    .colab-df-convert {\n",
              "      background-color: #E8F0FE;\n",
              "      border: none;\n",
              "      border-radius: 50%;\n",
              "      cursor: pointer;\n",
              "      display: none;\n",
              "      fill: #1967D2;\n",
              "      height: 32px;\n",
              "      padding: 0 0 0 0;\n",
              "      width: 32px;\n",
              "    }\n",
              "\n",
              "    .colab-df-convert:hover {\n",
              "      background-color: #E2EBFA;\n",
              "      box-shadow: 0px 1px 2px rgba(60, 64, 67, 0.3), 0px 1px 3px 1px rgba(60, 64, 67, 0.15);\n",
              "      fill: #174EA6;\n",
              "    }\n",
              "\n",
              "    [theme=dark] .colab-df-convert {\n",
              "      background-color: #3B4455;\n",
              "      fill: #D2E3FC;\n",
              "    }\n",
              "\n",
              "    [theme=dark] .colab-df-convert:hover {\n",
              "      background-color: #434B5C;\n",
              "      box-shadow: 0px 1px 3px 1px rgba(0, 0, 0, 0.15);\n",
              "      filter: drop-shadow(0px 1px 2px rgba(0, 0, 0, 0.3));\n",
              "      fill: #FFFFFF;\n",
              "    }\n",
              "  </style>\n",
              "\n",
              "      <script>\n",
              "        const buttonEl =\n",
              "          document.querySelector('#df-82398c91-ebb1-4d7b-94d9-0b55d9f9cda8 button.colab-df-convert');\n",
              "        buttonEl.style.display =\n",
              "          google.colab.kernel.accessAllowed ? 'block' : 'none';\n",
              "\n",
              "        async function convertToInteractive(key) {\n",
              "          const element = document.querySelector('#df-82398c91-ebb1-4d7b-94d9-0b55d9f9cda8');\n",
              "          const dataTable =\n",
              "            await google.colab.kernel.invokeFunction('convertToInteractive',\n",
              "                                                     [key], {});\n",
              "          if (!dataTable) return;\n",
              "\n",
              "          const docLinkHtml = 'Like what you see? Visit the ' +\n",
              "            '<a target=\"_blank\" href=https://colab.research.google.com/notebooks/data_table.ipynb>data table notebook</a>'\n",
              "            + ' to learn more about interactive tables.';\n",
              "          element.innerHTML = '';\n",
              "          dataTable['output_type'] = 'display_data';\n",
              "          await google.colab.output.renderOutput(dataTable, element);\n",
              "          const docLink = document.createElement('div');\n",
              "          docLink.innerHTML = docLinkHtml;\n",
              "          element.appendChild(docLink);\n",
              "        }\n",
              "      </script>\n",
              "    </div>\n",
              "  </div>\n",
              "  "
            ]
          },
          "metadata": {},
          "execution_count": 52
        }
      ]
    },
    {
      "cell_type": "code",
      "source": [
        "#plotting correlation matrix\n",
        "plt.subplots(figsize=(12,9))\n",
        "sns.heatmap(corr_mat,annot=True)\n",
        "plt.title('Correlation between CustomerID, Age, Annual Income, Spending Score', fontsize = 20)\n",
        "plt.show()"
      ],
      "metadata": {
        "colab": {
          "base_uri": "https://localhost:8080/",
          "height": 558
        },
        "id": "RE6QvuHjTn4t",
        "outputId": "130c59df-7e30-4d98-f573-8234ee9d2cff"
      },
      "execution_count": null,
      "outputs": [
        {
          "output_type": "display_data",
          "data": {
            "text/plain": [
              "<Figure size 864x648 with 2 Axes>"
            ],
            "image/png": "[encoded data removed]"
          },
          "metadata": {
            "needs_background": "light"
          }
        }
      ]
    },
    {
      "cell_type": "markdown",
      "source": [
        "**Step-5:** Dropping \"CustomerID\" column since it has negligible correlation with other columns and labeling the \"Gender\" column with 0 and 1."
      ],
      "metadata": {
        "id": "QBRPzURcUNUS"
      }
    },
    {
      "cell_type": "code",
      "source": [
        "df=df.drop(['CustomerID'],axis=1)\n",
        "df.head()"
      ],
      "metadata": {
        "colab": {
          "base_uri": "https://localhost:8080/",
          "height": 206
        },
        "id": "5-GHnqMyUb4r",
        "outputId": "fc9ea802-3945-4dbc-e898-de356b8ccfa8"
      },
      "execution_count": null,
      "outputs": [
        {
          "output_type": "execute_result",
          "data": {
            "text/plain": [
              "   Gender  Age  Annual Income (k$)  Spending Score (1-100)\n",
              "0    Male   19                  15                      39\n",
              "1    Male   21                  15                      81\n",
              "2  Female   20                  16                       6\n",
              "3  Female   23                  16                      77\n",
              "4  Female   31                  17                      40"
            ],
            "text/html": [
              "\n",
              "  <div id=\"df-274a2b55-b6f2-4215-882d-cba69a6d854d\">\n",
              "    <div class=\"colab-df-container\">\n",
              "      <div>\n",
              "<style scoped>\n",
              "    .dataframe tbody tr th:only-of-type {\n",
              "        vertical-align: middle;\n",
              "    }\n",
              "\n",
              "    .dataframe tbody tr th {\n",
              "        vertical-align: top;\n",
              "    }\n",
              "\n",
              "    .dataframe thead th {\n",
              "        text-align: right;\n",
              "    }\n",
              "</style>\n",
              "<table border=\"1\" class=\"dataframe\">\n",
              "  <thead>\n",
              "    <tr style=\"text-align: right;\">\n",
              "      <th></th>\n",
              "      <th>Gender</th>\n",
              "      <th>Age</th>\n",
              "      <th>Annual Income (k$)</th>\n",
              "      <th>Spending Score (1-100)</th>\n",
              "    </tr>\n",
              "  </thead>\n",
              "  <tbody>\n",
              "    <tr>\n",
              "      <th>0</th>\n",
              "      <td>Male</td>\n",
              "      <td>19</td>\n",
              "      <td>15</td>\n",
              "      <td>39</td>\n",
              "    </tr>\n",
              "    <tr>\n",
              "      <th>1</th>\n",
              "      <td>Male</td>\n",
              "      <td>21</td>\n",
              "      <td>15</td>\n",
              "      <td>81</td>\n",
              "    </tr>\n",
              "    <tr>\n",
              "      <th>2</th>\n",
              "      <td>Female</td>\n",
              "      <td>20</td>\n",
              "      <td>16</td>\n",
              "      <td>6</td>\n",
              "    </tr>\n",
              "    <tr>\n",
              "      <th>3</th>\n",
              "      <td>Female</td>\n",
              "      <td>23</td>\n",
              "      <td>16</td>\n",
              "      <td>77</td>\n",
              "    </tr>\n",
              "    <tr>\n",
              "      <th>4</th>\n",
              "      <td>Female</td>\n",
              "      <td>31</td>\n",
              "      <td>17</td>\n",
              "      <td>40</td>\n",
              "    </tr>\n",
              "  </tbody>\n",
              "</table>\n",
              "</div>\n",
              "      <button class=\"colab-df-convert\" onclick=\"convertToInteractive('df-274a2b55-b6f2-4215-882d-cba69a6d854d')\"\n",
              "              title=\"Convert this dataframe to an interactive table.\"\n",
              "              style=\"display:none;\">\n",
              "        \n",
              "  <svg xmlns=\"http://www.w3.org/2000/svg\" height=\"24px\"viewBox=\"0 0 24 24\"\n",
              "       width=\"24px\">\n",
              "    <path d=\"M0 0h24v24H0V0z\" fill=\"none\"/>\n",
              "    <path d=\"M18.56 5.44l.94 2.06.94-2.06 2.06-.94-2.06-.94-.94-2.06-.94 2.06-2.06.94zm-11 1L8.5 8.5l.94-2.06 2.06-.94-2.06-.94L8.5 2.5l-.94 2.06-2.06.94zm10 10l.94 2.06.94-2.06 2.06-.94-2.06-.94-.94-2.06-.94 2.06-2.06.94z\"/><path d=\"M17.41 7.96l-1.37-1.37c-.4-.4-.92-.59-1.43-.59-.52 0-1.04.2-1.43.59L10.3 9.45l-7.72 7.72c-.78.78-.78 2.05 0 2.83L4 21.41c.39.39.9.59 1.41.59.51 0 1.02-.2 1.41-.59l7.78-7.78 2.81-2.81c.8-.78.8-2.07 0-2.86zM5.41 20L4 18.59l7.72-7.72 1.47 1.35L5.41 20z\"/>\n",
              "  </svg>\n",
              "      </button>\n",
              "      \n",
              "  <style>\n",
              "    .colab-df-container {\n",
              "      display:flex;\n",
              "      flex-wrap:wrap;\n",
              "      gap: 12px;\n",
              "    }\n",
              "\n",
              "    .colab-df-convert {\n",
              "      background-color: #E8F0FE;\n",
              "      border: none;\n",
              "      border-radius: 50%;\n",
              "      cursor: pointer;\n",
              "      display: none;\n",
              "      fill: #1967D2;\n",
              "      height: 32px;\n",
              "      padding: 0 0 0 0;\n",
              "      width: 32px;\n",
              "    }\n",
              "\n",
              "    .colab-df-convert:hover {\n",
              "      background-color: #E2EBFA;\n",
              "      box-shadow: 0px 1px 2px rgba(60, 64, 67, 0.3), 0px 1px 3px 1px rgba(60, 64, 67, 0.15);\n",
              "      fill: #174EA6;\n",
              "    }\n",
              "\n",
              "    [theme=dark] .colab-df-convert {\n",
              "      background-color: #3B4455;\n",
              "      fill: #D2E3FC;\n",
              "    }\n",
              "\n",
              "    [theme=dark] .colab-df-convert:hover {\n",
              "      background-color: #434B5C;\n",
              "      box-shadow: 0px 1px 3px 1px rgba(0, 0, 0, 0.15);\n",
              "      filter: drop-shadow(0px 1px 2px rgba(0, 0, 0, 0.3));\n",
              "      fill: #FFFFFF;\n",
              "    }\n",
              "  </style>\n",
              "\n",
              "      <script>\n",
              "        const buttonEl =\n",
              "          document.querySelector('#df-274a2b55-b6f2-4215-882d-cba69a6d854d button.colab-df-convert');\n",
              "        buttonEl.style.display =\n",
              "          google.colab.kernel.accessAllowed ? 'block' : 'none';\n",
              "\n",
              "        async function convertToInteractive(key) {\n",
              "          const element = document.querySelector('#df-274a2b55-b6f2-4215-882d-cba69a6d854d');\n",
              "          const dataTable =\n",
              "            await google.colab.kernel.invokeFunction('convertToInteractive',\n",
              "                                                     [key], {});\n",
              "          if (!dataTable) return;\n",
              "\n",
              "          const docLinkHtml = 'Like what you see? Visit the ' +\n",
              "            '<a target=\"_blank\" href=https://colab.research.google.com/notebooks/data_table.ipynb>data table notebook</a>'\n",
              "            + ' to learn more about interactive tables.';\n",
              "          element.innerHTML = '';\n",
              "          dataTable['output_type'] = 'display_data';\n",
              "          await google.colab.output.renderOutput(dataTable, element);\n",
              "          const docLink = document.createElement('div');\n",
              "          docLink.innerHTML = docLinkHtml;\n",
              "          element.appendChild(docLink);\n",
              "        }\n",
              "      </script>\n",
              "    </div>\n",
              "  </div>\n",
              "  "
            ]
          },
          "metadata": {},
          "execution_count": 54
        }
      ]
    },
    {
      "cell_type": "code",
      "source": [
        "df= pd.get_dummies(df, columns = ['Gender'])\n",
        "df.head()"
      ],
      "metadata": {
        "colab": {
          "base_uri": "https://localhost:8080/",
          "height": 206
        },
        "id": "Yhr3j7iypiei",
        "outputId": "f56cba49-6916-43fc-f1ab-04dca4f6b7d1"
      },
      "execution_count": null,
      "outputs": [
        {
          "output_type": "execute_result",
          "data": {
            "text/plain": [
              "   Age  Annual Income (k$)  Spending Score (1-100)  Gender_Female  Gender_Male\n",
              "0   19                  15                      39              0            1\n",
              "1   21                  15                      81              0            1\n",
              "2   20                  16                       6              1            0\n",
              "3   23                  16                      77              1            0\n",
              "4   31                  17                      40              1            0"
            ],
            "text/html": [
              "\n",
              "  <div id=\"df-acde6f18-3cc2-4a8f-b57d-87b0164c3440\">\n",
              "    <div class=\"colab-df-container\">\n",
              "      <div>\n",
              "<style scoped>\n",
              "    .dataframe tbody tr th:only-of-type {\n",
              "        vertical-align: middle;\n",
              "    }\n",
              "\n",
              "    .dataframe tbody tr th {\n",
              "        vertical-align: top;\n",
              "    }\n",
              "\n",
              "    .dataframe thead th {\n",
              "        text-align: right;\n",
              "    }\n",
              "</style>\n",
              "<table border=\"1\" class=\"dataframe\">\n",
              "  <thead>\n",
              "    <tr style=\"text-align: right;\">\n",
              "      <th></th>\n",
              "      <th>Age</th>\n",
              "      <th>Annual Income (k$)</th>\n",
              "      <th>Spending Score (1-100)</th>\n",
              "      <th>Gender_Female</th>\n",
              "      <th>Gender_Male</th>\n",
              "    </tr>\n",
              "  </thead>\n",
              "  <tbody>\n",
              "    <tr>\n",
              "      <th>0</th>\n",
              "      <td>19</td>\n",
              "      <td>15</td>\n",
              "      <td>39</td>\n",
              "      <td>0</td>\n",
              "      <td>1</td>\n",
              "    </tr>\n",
              "    <tr>\n",
              "      <th>1</th>\n",
              "      <td>21</td>\n",
              "      <td>15</td>\n",
              "      <td>81</td>\n",
              "      <td>0</td>\n",
              "      <td>1</td>\n",
              "    </tr>\n",
              "    <tr>\n",
              "      <th>2</th>\n",
              "      <td>20</td>\n",
              "      <td>16</td>\n",
              "      <td>6</td>\n",
              "      <td>1</td>\n",
              "      <td>0</td>\n",
              "    </tr>\n",
              "    <tr>\n",
              "      <th>3</th>\n",
              "      <td>23</td>\n",
              "      <td>16</td>\n",
              "      <td>77</td>\n",
              "      <td>1</td>\n",
              "      <td>0</td>\n",
              "    </tr>\n",
              "    <tr>\n",
              "      <th>4</th>\n",
              "      <td>31</td>\n",
              "      <td>17</td>\n",
              "      <td>40</td>\n",
              "      <td>1</td>\n",
              "      <td>0</td>\n",
              "    </tr>\n",
              "  </tbody>\n",
              "</table>\n",
              "</div>\n",
              "      <button class=\"colab-df-convert\" onclick=\"convertToInteractive('df-acde6f18-3cc2-4a8f-b57d-87b0164c3440')\"\n",
              "              title=\"Convert this dataframe to an interactive table.\"\n",
              "              style=\"display:none;\">\n",
              "        \n",
              "  <svg xmlns=\"http://www.w3.org/2000/svg\" height=\"24px\"viewBox=\"0 0 24 24\"\n",
              "       width=\"24px\">\n",
              "    <path d=\"M0 0h24v24H0V0z\" fill=\"none\"/>\n",
              "    <path d=\"M18.56 5.44l.94 2.06.94-2.06 2.06-.94-2.06-.94-.94-2.06-.94 2.06-2.06.94zm-11 1L8.5 8.5l.94-2.06 2.06-.94-2.06-.94L8.5 2.5l-.94 2.06-2.06.94zm10 10l.94 2.06.94-2.06 2.06-.94-2.06-.94-.94-2.06-.94 2.06-2.06.94z\"/><path d=\"M17.41 7.96l-1.37-1.37c-.4-.4-.92-.59-1.43-.59-.52 0-1.04.2-1.43.59L10.3 9.45l-7.72 7.72c-.78.78-.78 2.05 0 2.83L4 21.41c.39.39.9.59 1.41.59.51 0 1.02-.2 1.41-.59l7.78-7.78 2.81-2.81c.8-.78.8-2.07 0-2.86zM5.41 20L4 18.59l7.72-7.72 1.47 1.35L5.41 20z\"/>\n",
              "  </svg>\n",
              "      </button>\n",
              "      \n",
              "  <style>\n",
              "    .colab-df-container {\n",
              "      display:flex;\n",
              "      flex-wrap:wrap;\n",
              "      gap: 12px;\n",
              "    }\n",
              "\n",
              "    .colab-df-convert {\n",
              "      background-color: #E8F0FE;\n",
              "      border: none;\n",
              "      border-radius: 50%;\n",
              "      cursor: pointer;\n",
              "      display: none;\n",
              "      fill: #1967D2;\n",
              "      height: 32px;\n",
              "      padding: 0 0 0 0;\n",
              "      width: 32px;\n",
              "    }\n",
              "\n",
              "    .colab-df-convert:hover {\n",
              "      background-color: #E2EBFA;\n",
              "      box-shadow: 0px 1px 2px rgba(60, 64, 67, 0.3), 0px 1px 3px 1px rgba(60, 64, 67, 0.15);\n",
              "      fill: #174EA6;\n",
              "    }\n",
              "\n",
              "    [theme=dark] .colab-df-convert {\n",
              "      background-color: #3B4455;\n",
              "      fill: #D2E3FC;\n",
              "    }\n",
              "\n",
              "    [theme=dark] .colab-df-convert:hover {\n",
              "      background-color: #434B5C;\n",
              "      box-shadow: 0px 1px 3px 1px rgba(0, 0, 0, 0.15);\n",
              "      filter: drop-shadow(0px 1px 2px rgba(0, 0, 0, 0.3));\n",
              "      fill: #FFFFFF;\n",
              "    }\n",
              "  </style>\n",
              "\n",
              "      <script>\n",
              "        const buttonEl =\n",
              "          document.querySelector('#df-acde6f18-3cc2-4a8f-b57d-87b0164c3440 button.colab-df-convert');\n",
              "        buttonEl.style.display =\n",
              "          google.colab.kernel.accessAllowed ? 'block' : 'none';\n",
              "\n",
              "        async function convertToInteractive(key) {\n",
              "          const element = document.querySelector('#df-acde6f18-3cc2-4a8f-b57d-87b0164c3440');\n",
              "          const dataTable =\n",
              "            await google.colab.kernel.invokeFunction('convertToInteractive',\n",
              "                                                     [key], {});\n",
              "          if (!dataTable) return;\n",
              "\n",
              "          const docLinkHtml = 'Like what you see? Visit the ' +\n",
              "            '<a target=\"_blank\" href=https://colab.research.google.com/notebooks/data_table.ipynb>data table notebook</a>'\n",
              "            + ' to learn more about interactive tables.';\n",
              "          element.innerHTML = '';\n",
              "          dataTable['output_type'] = 'display_data';\n",
              "          await google.colab.output.renderOutput(dataTable, element);\n",
              "          const docLink = document.createElement('div');\n",
              "          docLink.innerHTML = docLinkHtml;\n",
              "          element.appendChild(docLink);\n",
              "        }\n",
              "      </script>\n",
              "    </div>\n",
              "  </div>\n",
              "  "
            ]
          },
          "metadata": {},
          "execution_count": 55
        }
      ]
    },
    {
      "cell_type": "markdown",
      "source": [
        "**step-6:** Applying Density Based Spacial Clustering of Applications with noise (DBSCAN) on the data. Here we are creating clusters with eps = 12.5 and min_samples = 4."
      ],
      "metadata": {
        "id": "ikSVxTWYUxLC"
      }
    },
    {
      "cell_type": "code",
      "source": [
        "from sklearn.cluster import DBSCAN\n",
        "from sklearn.metrics import silhouette_score\n",
        "from itertools import product"
      ],
      "metadata": {
        "id": "nHNCIz28U4bH"
      },
      "execution_count": null,
      "outputs": []
    },
    {
      "cell_type": "code",
      "source": [
        "DBS_clustering = DBSCAN(eps=12.5, min_samples=4).fit(df)\n",
        "\n",
        "DBSCAN_clustered = df.copy()\n",
        "DBSCAN_clustered.loc[:,'Cluster'] = DBS_clustering.labels_ # append l"
      ],
      "metadata": {
        "id": "4Vz3sluNq0XO"
      },
      "execution_count": null,
      "outputs": []
    },
    {
      "cell_type": "markdown",
      "source": [
        "**step-7:** Calculate the size of each cluster created and also the number of outliers."
      ],
      "metadata": {
        "id": "F0QfcoKDwW31"
      }
    },
    {
      "cell_type": "code",
      "source": [
        "#Calculating the size of each cluster created\n",
        "DBSCAN_clust_sizes = DBSCAN_clustered.groupby('Cluster').size().to_frame()\n",
        "DBSCAN_clust_sizes.columns = [\"DBSCAN_size\"]\n",
        "DBSCAN_clust_sizes"
      ],
      "metadata": {
        "colab": {
          "base_uri": "https://localhost:8080/",
          "height": 269
        },
        "id": "PmVPxJVDqpIY",
        "outputId": "2de676ab-6bc3-4399-8e58-6242153e6bf2"
      },
      "execution_count": null,
      "outputs": [
        {
          "output_type": "execute_result",
          "data": {
            "text/plain": [
              "         DBSCAN_size\n",
              "Cluster             \n",
              "-1                18\n",
              " 0               112\n",
              " 1                 8\n",
              " 2                34\n",
              " 3                24\n",
              " 4                 4"
            ],
            "text/html": [
              "\n",
              "  <div id=\"df-13ac8a97-0cff-4b50-8c90-6c5bc8726a91\">\n",
              "    <div class=\"colab-df-container\">\n",
              "      <div>\n",
              "<style scoped>\n",
              "    .dataframe tbody tr th:only-of-type {\n",
              "        vertical-align: middle;\n",
              "    }\n",
              "\n",
              "    .dataframe tbody tr th {\n",
              "        vertical-align: top;\n",
              "    }\n",
              "\n",
              "    .dataframe thead th {\n",
              "        text-align: right;\n",
              "    }\n",
              "</style>\n",
              "<table border=\"1\" class=\"dataframe\">\n",
              "  <thead>\n",
              "    <tr style=\"text-align: right;\">\n",
              "      <th></th>\n",
              "      <th>DBSCAN_size</th>\n",
              "    </tr>\n",
              "    <tr>\n",
              "      <th>Cluster</th>\n",
              "      <th></th>\n",
              "    </tr>\n",
              "  </thead>\n",
              "  <tbody>\n",
              "    <tr>\n",
              "      <th>-1</th>\n",
              "      <td>18</td>\n",
              "    </tr>\n",
              "    <tr>\n",
              "      <th>0</th>\n",
              "      <td>112</td>\n",
              "    </tr>\n",
              "    <tr>\n",
              "      <th>1</th>\n",
              "      <td>8</td>\n",
              "    </tr>\n",
              "    <tr>\n",
              "      <th>2</th>\n",
              "      <td>34</td>\n",
              "    </tr>\n",
              "    <tr>\n",
              "      <th>3</th>\n",
              "      <td>24</td>\n",
              "    </tr>\n",
              "    <tr>\n",
              "      <th>4</th>\n",
              "      <td>4</td>\n",
              "    </tr>\n",
              "  </tbody>\n",
              "</table>\n",
              "</div>\n",
              "      <button class=\"colab-df-convert\" onclick=\"convertToInteractive('df-13ac8a97-0cff-4b50-8c90-6c5bc8726a91')\"\n",
              "              title=\"Convert this dataframe to an interactive table.\"\n",
              "              style=\"display:none;\">\n",
              "        \n",
              "  <svg xmlns=\"http://www.w3.org/2000/svg\" height=\"24px\"viewBox=\"0 0 24 24\"\n",
              "       width=\"24px\">\n",
              "    <path d=\"M0 0h24v24H0V0z\" fill=\"none\"/>\n",
              "    <path d=\"M18.56 5.44l.94 2.06.94-2.06 2.06-.94-2.06-.94-.94-2.06-.94 2.06-2.06.94zm-11 1L8.5 8.5l.94-2.06 2.06-.94-2.06-.94L8.5 2.5l-.94 2.06-2.06.94zm10 10l.94 2.06.94-2.06 2.06-.94-2.06-.94-.94-2.06-.94 2.06-2.06.94z\"/><path d=\"M17.41 7.96l-1.37-1.37c-.4-.4-.92-.59-1.43-.59-.52 0-1.04.2-1.43.59L10.3 9.45l-7.72 7.72c-.78.78-.78 2.05 0 2.83L4 21.41c.39.39.9.59 1.41.59.51 0 1.02-.2 1.41-.59l7.78-7.78 2.81-2.81c.8-.78.8-2.07 0-2.86zM5.41 20L4 18.59l7.72-7.72 1.47 1.35L5.41 20z\"/>\n",
              "  </svg>\n",
              "      </button>\n",
              "      \n",
              "  <style>\n",
              "    .colab-df-container {\n",
              "      display:flex;\n",
              "      flex-wrap:wrap;\n",
              "      gap: 12px;\n",
              "    }\n",
              "\n",
              "    .colab-df-convert {\n",
              "      background-color: #E8F0FE;\n",
              "      border: none;\n",
              "      border-radius: 50%;\n",
              "      cursor: pointer;\n",
              "      display: none;\n",
              "      fill: #1967D2;\n",
              "      height: 32px;\n",
              "      padding: 0 0 0 0;\n",
              "      width: 32px;\n",
              "    }\n",
              "\n",
              "    .colab-df-convert:hover {\n",
              "      background-color: #E2EBFA;\n",
              "      box-shadow: 0px 1px 2px rgba(60, 64, 67, 0.3), 0px 1px 3px 1px rgba(60, 64, 67, 0.15);\n",
              "      fill: #174EA6;\n",
              "    }\n",
              "\n",
              "    [theme=dark] .colab-df-convert {\n",
              "      background-color: #3B4455;\n",
              "      fill: #D2E3FC;\n",
              "    }\n",
              "\n",
              "    [theme=dark] .colab-df-convert:hover {\n",
              "      background-color: #434B5C;\n",
              "      box-shadow: 0px 1px 3px 1px rgba(0, 0, 0, 0.15);\n",
              "      filter: drop-shadow(0px 1px 2px rgba(0, 0, 0, 0.3));\n",
              "      fill: #FFFFFF;\n",
              "    }\n",
              "  </style>\n",
              "\n",
              "      <script>\n",
              "        const buttonEl =\n",
              "          document.querySelector('#df-13ac8a97-0cff-4b50-8c90-6c5bc8726a91 button.colab-df-convert');\n",
              "        buttonEl.style.display =\n",
              "          google.colab.kernel.accessAllowed ? 'block' : 'none';\n",
              "\n",
              "        async function convertToInteractive(key) {\n",
              "          const element = document.querySelector('#df-13ac8a97-0cff-4b50-8c90-6c5bc8726a91');\n",
              "          const dataTable =\n",
              "            await google.colab.kernel.invokeFunction('convertToInteractive',\n",
              "                                                     [key], {});\n",
              "          if (!dataTable) return;\n",
              "\n",
              "          const docLinkHtml = 'Like what you see? Visit the ' +\n",
              "            '<a target=\"_blank\" href=https://colab.research.google.com/notebooks/data_table.ipynb>data table notebook</a>'\n",
              "            + ' to learn more about interactive tables.';\n",
              "          element.innerHTML = '';\n",
              "          dataTable['output_type'] = 'display_data';\n",
              "          await google.colab.output.renderOutput(dataTable, element);\n",
              "          const docLink = document.createElement('div');\n",
              "          docLink.innerHTML = docLinkHtml;\n",
              "          element.appendChild(docLink);\n",
              "        }\n",
              "      </script>\n",
              "    </div>\n",
              "  </div>\n",
              "  "
            ]
          },
          "metadata": {},
          "execution_count": 12
        }
      ]
    },
    {
      "cell_type": "markdown",
      "source": [
        "**Step-8:**DBSCAN created 5 clusters plus outliers cluster (-1). Sizes of clusters 0-4 vary significantly - some have only 4 or 8 observations. There are 18 outliers. Now we can find out how annual income effects the spending rate of the potential customers using a scatter plot."
      ],
      "metadata": {
        "id": "j6dCHHo0rhB0"
      }
    },
    {
      "cell_type": "code",
      "source": [
        "#Defining the outliers\n",
        "outliers = DBSCAN_clustered[DBSCAN_clustered['Cluster']==-1]\n",
        "\n",
        "ax=sns.scatterplot('Annual Income (k$)', 'Spending Score (1-100)',\n",
        "                data=DBSCAN_clustered[DBSCAN_clustered['Cluster']!=-1],\n",
        "                hue='Cluster', palette='Set1', legend='full', s=45)\n",
        "\n",
        "ax.set_xlabel('Annual Income (k$)', fontsize = 10)\n",
        "ax.set_ylabel('Spending Score (1-100)', fontsize = 10)\n",
        "ax.set_title('How annual income corresponds to the spending rate ', fontsize = 15)"
      ],
      "metadata": {
        "colab": {
          "base_uri": "https://localhost:8080/",
          "height": 369
        },
        "id": "P1Tf0dcys8D1",
        "outputId": "f394d349-3276-4e1e-c08f-55dae6e75c79"
      },
      "execution_count": null,
      "outputs": [
        {
          "output_type": "stream",
          "name": "stderr",
          "text": [
            "/usr/local/lib/python3.7/dist-packages/seaborn/_decorators.py:43: FutureWarning: Pass the following variables as keyword args: x, y. From version 0.12, the only valid positional argument will be `data`, and passing other arguments without an explicit keyword will result in an error or misinterpretation.\n",
            "  FutureWarning\n"
          ]
        },
        {
          "output_type": "execute_result",
          "data": {
            "text/plain": [
              "Text(0.5, 1.0, 'How annual income corresponds to the spending rate ')"
            ]
          },
          "metadata": {},
          "execution_count": 13
        },
        {
          "output_type": "display_data",
          "data": {
            "text/plain": [
              "<Figure size 432x288 with 1 Axes>"
            ],
            "image/png": "[encoded data removed]"
          },
          "metadata": {
            "needs_background": "light"
          }
        }
      ]
    },
    {
      "cell_type": "markdown",
      "source": [
        "**Results:** From the sactter plot we can infer that people who earn around 40k$ to 70k$ anually, spend more money in the mall."
      ],
      "metadata": {
        "id": "P9z5oxnow9ZT"
      }
    },
    {
      "cell_type": "markdown",
      "source": [
        "**Q2. Problem Statement: Fuzzy C Means Clustering**\n",
        "\n",
        "**Note:** This problem is in continuation with the previous problem.\n",
        "\n",
        "With the same DataFrame as in the previous problem, perform tasks:\n",
        "1.\tConvert the DataFrame into a NumPy array using to_numpy()function\n",
        "2.\tPerforming the Fuzzy-C-Means clustering with cluster size – 2\n",
        "3.\tPlot the clustered data using a scatter plot to analyze, How the Age of the customers corresponds to the spending rate\n",
        "4.\tPredicting the spending capability of the mall customers using the fcm.predict() function\n",
        "5.\tUsing a scatter plot, predicting which of the age group/cluster has will be having highest spending capability\n",
        "\n"
      ],
      "metadata": {
        "id": "_HBo1F1w5JBb"
      }
    },
    {
      "cell_type": "markdown",
      "source": [
        "**Step-1:** Downloading/Updaing the fuzz-c-means algorithm."
      ],
      "metadata": {
        "id": "aFAqMxS2iElG"
      }
    },
    {
      "cell_type": "code",
      "source": [
        "pip install fuzzy-c-means"
      ],
      "metadata": {
        "colab": {
          "base_uri": "https://localhost:8080/"
        },
        "id": "-IovGVMfhA2E",
        "outputId": "2dd9d2d0-599f-4949-b1b1-8074573963ff"
      },
      "execution_count": null,
      "outputs": [
        {
          "output_type": "stream",
          "name": "stdout",
          "text": [
            "Collecting fuzzy-c-means\n",
            "  Downloading fuzzy_c_means-1.6.3-py3-none-any.whl (9.1 kB)\n",
            "Collecting pydantic<2.0.0,>=1.8.2\n",
            "  Downloading pydantic-1.9.0-cp37-cp37m-manylinux_2_17_x86_64.manylinux2014_x86_64.whl (10.9 MB)\n",
            "\u001b[K     |████████████████████████████████| 10.9 MB 5.2 MB/s \n",
            "\u001b[?25hRequirement already satisfied: tabulate<0.9.0,>=0.8.9 in /usr/local/lib/python3.7/dist-packages (from fuzzy-c-means) (0.8.9)\n",
            "Requirement already satisfied: numpy<2.0.0,>=1.21.1 in /usr/local/lib/python3.7/dist-packages (from fuzzy-c-means) (1.21.5)\n",
            "Collecting typer<0.4.0,>=0.3.2\n",
            "  Downloading typer-0.3.2-py3-none-any.whl (21 kB)\n",
            "Requirement already satisfied: typing-extensions>=3.7.4.3 in /usr/local/lib/python3.7/dist-packages (from pydantic<2.0.0,>=1.8.2->fuzzy-c-means) (4.1.1)\n",
            "Requirement already satisfied: click<7.2.0,>=7.1.1 in /usr/local/lib/python3.7/dist-packages (from typer<0.4.0,>=0.3.2->fuzzy-c-means) (7.1.2)\n",
            "Installing collected packages: typer, pydantic, fuzzy-c-means\n",
            "Successfully installed fuzzy-c-means-1.6.3 pydantic-1.9.0 typer-0.3.2\n"
          ]
        }
      ]
    },
    {
      "cell_type": "code",
      "source": [
        "pip install -U scikit-fuzzy"
      ],
      "metadata": {
        "colab": {
          "base_uri": "https://localhost:8080/"
        },
        "id": "Ra_avG4AyHdC",
        "outputId": "8bbadd03-3d2e-42f2-a753-b78775f36c38"
      },
      "execution_count": null,
      "outputs": [
        {
          "output_type": "stream",
          "name": "stdout",
          "text": [
            "Collecting scikit-fuzzy\n",
            "  Downloading scikit-fuzzy-0.4.2.tar.gz (993 kB)\n",
            "\u001b[?25l\r\u001b[K     |▎                               | 10 kB 15.5 MB/s eta 0:00:01\r\u001b[K     |▋                               | 20 kB 12.7 MB/s eta 0:00:01\r\u001b[K     |█                               | 30 kB 8.9 MB/s eta 0:00:01\r\u001b[K     |█▎                              | 40 kB 8.5 MB/s eta 0:00:01\r\u001b[K     |█▋                              | 51 kB 4.4 MB/s eta 0:00:01\r\u001b[K     |██                              | 61 kB 5.1 MB/s eta 0:00:01\r\u001b[K     |██▎                             | 71 kB 5.5 MB/s eta 0:00:01\r\u001b[K     |██▋                             | 81 kB 4.3 MB/s eta 0:00:01\r\u001b[K     |███                             | 92 kB 4.8 MB/s eta 0:00:01\r\u001b[K     |███▎                            | 102 kB 5.3 MB/s eta 0:00:01\r\u001b[K     |███▋                            | 112 kB 5.3 MB/s eta 0:00:01\r\u001b[K     |████                            | 122 kB 5.3 MB/s eta 0:00:01\r\u001b[K     |████▎                           | 133 kB 5.3 MB/s eta 0:00:01\r\u001b[K     |████▋                           | 143 kB 5.3 MB/s eta 0:00:01\r\u001b[K     |█████                           | 153 kB 5.3 MB/s eta 0:00:01\r\u001b[K     |█████▎                          | 163 kB 5.3 MB/s eta 0:00:01\r\u001b[K     |█████▋                          | 174 kB 5.3 MB/s eta 0:00:01\r\u001b[K     |██████                          | 184 kB 5.3 MB/s eta 0:00:01\r\u001b[K     |██████▎                         | 194 kB 5.3 MB/s eta 0:00:01\r\u001b[K     |██████▋                         | 204 kB 5.3 MB/s eta 0:00:01\r\u001b[K     |███████                         | 215 kB 5.3 MB/s eta 0:00:01\r\u001b[K     |███████▎                        | 225 kB 5.3 MB/s eta 0:00:01\r\u001b[K     |███████▋                        | 235 kB 5.3 MB/s eta 0:00:01\r\u001b[K     |████████                        | 245 kB 5.3 MB/s eta 0:00:01\r\u001b[K     |████████▎                       | 256 kB 5.3 MB/s eta 0:00:01\r\u001b[K     |████████▋                       | 266 kB 5.3 MB/s eta 0:00:01\r\u001b[K     |█████████                       | 276 kB 5.3 MB/s eta 0:00:01\r\u001b[K     |█████████▎                      | 286 kB 5.3 MB/s eta 0:00:01\r\u001b[K     |█████████▋                      | 296 kB 5.3 MB/s eta 0:00:01\r\u001b[K     |██████████                      | 307 kB 5.3 MB/s eta 0:00:01\r\u001b[K     |██████████▏                     | 317 kB 5.3 MB/s eta 0:00:01\r\u001b[K     |██████████▌                     | 327 kB 5.3 MB/s eta 0:00:01\r\u001b[K     |██████████▉                     | 337 kB 5.3 MB/s eta 0:00:01\r\u001b[K     |███████████▏                    | 348 kB 5.3 MB/s eta 0:00:01\r\u001b[K     |███████████▌                    | 358 kB 5.3 MB/s eta 0:00:01\r\u001b[K     |███████████▉                    | 368 kB 5.3 MB/s eta 0:00:01\r\u001b[K     |████████████▏                   | 378 kB 5.3 MB/s eta 0:00:01\r\u001b[K     |████████████▌                   | 389 kB 5.3 MB/s eta 0:00:01\r\u001b[K     |████████████▉                   | 399 kB 5.3 MB/s eta 0:00:01\r\u001b[K     |█████████████▏                  | 409 kB 5.3 MB/s eta 0:00:01\r\u001b[K     |█████████████▌                  | 419 kB 5.3 MB/s eta 0:00:01\r\u001b[K     |█████████████▉                  | 430 kB 5.3 MB/s eta 0:00:01\r\u001b[K     |██████████████▏                 | 440 kB 5.3 MB/s eta 0:00:01\r\u001b[K     |██████████████▌                 | 450 kB 5.3 MB/s eta 0:00:01\r\u001b[K     |██████████████▉                 | 460 kB 5.3 MB/s eta 0:00:01\r\u001b[K     |███████████████▏                | 471 kB 5.3 MB/s eta 0:00:01\r\u001b[K     |███████████████▌                | 481 kB 5.3 MB/s eta 0:00:01\r\u001b[K     |███████████████▉                | 491 kB 5.3 MB/s eta 0:00:01\r\u001b[K     |████████████████▏               | 501 kB 5.3 MB/s eta 0:00:01\r\u001b[K     |████████████████▌               | 512 kB 5.3 MB/s eta 0:00:01\r\u001b[K     |████████████████▉               | 522 kB 5.3 MB/s eta 0:00:01\r\u001b[K     |█████████████████▏              | 532 kB 5.3 MB/s eta 0:00:01\r\u001b[K     |█████████████████▌              | 542 kB 5.3 MB/s eta 0:00:01\r\u001b[K     |█████████████████▉              | 552 kB 5.3 MB/s eta 0:00:01\r\u001b[K     |██████████████████▏             | 563 kB 5.3 MB/s eta 0:00:01\r\u001b[K     |██████████████████▌             | 573 kB 5.3 MB/s eta 0:00:01\r\u001b[K     |██████████████████▉             | 583 kB 5.3 MB/s eta 0:00:01\r\u001b[K     |███████████████████▏            | 593 kB 5.3 MB/s eta 0:00:01\r\u001b[K     |███████████████████▌            | 604 kB 5.3 MB/s eta 0:00:01\r\u001b[K     |███████████████████▉            | 614 kB 5.3 MB/s eta 0:00:01\r\u001b[K     |████████████████████            | 624 kB 5.3 MB/s eta 0:00:01\r\u001b[K     |████████████████████▍           | 634 kB 5.3 MB/s eta 0:00:01\r\u001b[K     |████████████████████▊           | 645 kB 5.3 MB/s eta 0:00:01\r\u001b[K     |█████████████████████           | 655 kB 5.3 MB/s eta 0:00:01\r\u001b[K     |█████████████████████▍          | 665 kB 5.3 MB/s eta 0:00:01\r\u001b[K     |█████████████████████▊          | 675 kB 5.3 MB/s eta 0:00:01\r\u001b[K     |██████████████████████          | 686 kB 5.3 MB/s eta 0:00:01\r\u001b[K     |██████████████████████▍         | 696 kB 5.3 MB/s eta 0:00:01\r\u001b[K     |██████████████████████▊         | 706 kB 5.3 MB/s eta 0:00:01\r\u001b[K     |███████████████████████         | 716 kB 5.3 MB/s eta 0:00:01\r\u001b[K     |███████████████████████▍        | 727 kB 5.3 MB/s eta 0:00:01\r\u001b[K     |███████████████████████▊        | 737 kB 5.3 MB/s eta 0:00:01\r\u001b[K     |████████████████████████        | 747 kB 5.3 MB/s eta 0:00:01\r\u001b[K     |████████████████████████▍       | 757 kB 5.3 MB/s eta 0:00:01\r\u001b[K     |████████████████████████▊       | 768 kB 5.3 MB/s eta 0:00:01\r\u001b[K     |█████████████████████████       | 778 kB 5.3 MB/s eta 0:00:01\r\u001b[K     |█████████████████████████▍      | 788 kB 5.3 MB/s eta 0:00:01\r\u001b[K     |█████████████████████████▊      | 798 kB 5.3 MB/s eta 0:00:01\r\u001b[K     |██████████████████████████      | 808 kB 5.3 MB/s eta 0:00:01\r\u001b[K     |██████████████████████████▍     | 819 kB 5.3 MB/s eta 0:00:01\r\u001b[K     |██████████████████████████▊     | 829 kB 5.3 MB/s eta 0:00:01\r\u001b[K     |███████████████████████████     | 839 kB 5.3 MB/s eta 0:00:01\r\u001b[K     |███████████████████████████▍    | 849 kB 5.3 MB/s eta 0:00:01\r\u001b[K     |███████████████████████████▊    | 860 kB 5.3 MB/s eta 0:00:01\r\u001b[K     |████████████████████████████    | 870 kB 5.3 MB/s eta 0:00:01\r\u001b[K     |████████████████████████████▍   | 880 kB 5.3 MB/s eta 0:00:01\r\u001b[K     |████████████████████████████▊   | 890 kB 5.3 MB/s eta 0:00:01\r\u001b[K     |█████████████████████████████   | 901 kB 5.3 MB/s eta 0:00:01\r\u001b[K     |█████████████████████████████▍  | 911 kB 5.3 MB/s eta 0:00:01\r\u001b[K     |█████████████████████████████▊  | 921 kB 5.3 MB/s eta 0:00:01\r\u001b[K     |██████████████████████████████  | 931 kB 5.3 MB/s eta 0:00:01\r\u001b[K     |██████████████████████████████▎ | 942 kB 5.3 MB/s eta 0:00:01\r\u001b[K     |██████████████████████████████▋ | 952 kB 5.3 MB/s eta 0:00:01\r\u001b[K     |███████████████████████████████ | 962 kB 5.3 MB/s eta 0:00:01\r\u001b[K     |███████████████████████████████▎| 972 kB 5.3 MB/s eta 0:00:01\r\u001b[K     |███████████████████████████████▋| 983 kB 5.3 MB/s eta 0:00:01\r\u001b[K     |████████████████████████████████| 993 kB 5.3 MB/s eta 0:00:01\r\u001b[K     |████████████████████████████████| 993 kB 5.3 MB/s \n",
            "\u001b[?25hRequirement already satisfied: numpy>=1.6.0 in /usr/local/lib/python3.7/dist-packages (from scikit-fuzzy) (1.21.5)\n",
            "Requirement already satisfied: scipy>=0.9.0 in /usr/local/lib/python3.7/dist-packages (from scikit-fuzzy) (1.4.1)\n",
            "Requirement already satisfied: networkx>=1.9.0 in /usr/local/lib/python3.7/dist-packages (from scikit-fuzzy) (2.6.3)\n",
            "Building wheels for collected packages: scikit-fuzzy\n",
            "  Building wheel for scikit-fuzzy (setup.py) ... \u001b[?25l\u001b[?25hdone\n",
            "  Created wheel for scikit-fuzzy: filename=scikit_fuzzy-0.4.2-py3-none-any.whl size=894089 sha256=cabdd7df6d1372b0e3d7bc821d35e61fdaa70d88166a9ba5523d17f6fc55563d\n",
            "  Stored in directory: /root/.cache/pip/wheels/d5/74/fc/38588a3d2e3f34f74588e6daa3aa5b0a322bd6f9420a707131\n",
            "Successfully built scikit-fuzzy\n",
            "Installing collected packages: scikit-fuzzy\n",
            "Successfully installed scikit-fuzzy-0.4.2\n"
          ]
        }
      ]
    },
    {
      "cell_type": "markdown",
      "source": [
        "**Step-2:** importing the required libraries."
      ],
      "metadata": {
        "id": "z9nnkv1SiR5Q"
      }
    },
    {
      "cell_type": "code",
      "source": [
        "%matplotlib inline\n",
        "import numpy as np\n",
        "from fcmeans import FCM\n",
        "from matplotlib import pyplot as plt"
      ],
      "metadata": {
        "id": "f0Bl8R8dgXTP"
      },
      "execution_count": null,
      "outputs": []
    },
    {
      "cell_type": "markdown",
      "source": [
        "**Step-3:** Converting the DataFrame into a NumPy array."
      ],
      "metadata": {
        "id": "QiMD5vh5iXSM"
      }
    },
    {
      "cell_type": "code",
      "source": [
        "X= df.to_numpy()"
      ],
      "metadata": {
        "id": "rt4AuxEQjWgu"
      },
      "execution_count": null,
      "outputs": []
    },
    {
      "cell_type": "code",
      "source": [
        "X"
      ],
      "metadata": {
        "colab": {
          "base_uri": "https://localhost:8080/"
        },
        "id": "D1s4aTJ7V3z0",
        "outputId": "27c03cd1-534f-4091-906d-09995448260b"
      },
      "execution_count": null,
      "outputs": [
        {
          "output_type": "execute_result",
          "data": {
            "text/plain": [
              "array([[ 19,  15,  39,   0,   1],\n",
              "       [ 21,  15,  81,   0,   1],\n",
              "       [ 20,  16,   6,   1,   0],\n",
              "       [ 23,  16,  77,   1,   0],\n",
              "       [ 31,  17,  40,   1,   0],\n",
              "       [ 22,  17,  76,   1,   0],\n",
              "       [ 35,  18,   6,   1,   0],\n",
              "       [ 23,  18,  94,   1,   0],\n",
              "       [ 64,  19,   3,   0,   1],\n",
              "       [ 30,  19,  72,   1,   0],\n",
              "       [ 67,  19,  14,   0,   1],\n",
              "       [ 35,  19,  99,   1,   0],\n",
              "       [ 58,  20,  15,   1,   0],\n",
              "       [ 24,  20,  77,   1,   0],\n",
              "       [ 37,  20,  13,   0,   1],\n",
              "       [ 22,  20,  79,   0,   1],\n",
              "       [ 35,  21,  35,   1,   0],\n",
              "       [ 20,  21,  66,   0,   1],\n",
              "       [ 52,  23,  29,   0,   1],\n",
              "       [ 35,  23,  98,   1,   0],\n",
              "       [ 35,  24,  35,   0,   1],\n",
              "       [ 25,  24,  73,   0,   1],\n",
              "       [ 46,  25,   5,   1,   0],\n",
              "       [ 31,  25,  73,   0,   1],\n",
              "       [ 54,  28,  14,   1,   0],\n",
              "       [ 29,  28,  82,   0,   1],\n",
              "       [ 45,  28,  32,   1,   0],\n",
              "       [ 35,  28,  61,   0,   1],\n",
              "       [ 40,  29,  31,   1,   0],\n",
              "       [ 23,  29,  87,   1,   0],\n",
              "       [ 60,  30,   4,   0,   1],\n",
              "       [ 21,  30,  73,   1,   0],\n",
              "       [ 53,  33,   4,   0,   1],\n",
              "       [ 18,  33,  92,   0,   1],\n",
              "       [ 49,  33,  14,   1,   0],\n",
              "       [ 21,  33,  81,   1,   0],\n",
              "       [ 42,  34,  17,   1,   0],\n",
              "       [ 30,  34,  73,   1,   0],\n",
              "       [ 36,  37,  26,   1,   0],\n",
              "       [ 20,  37,  75,   1,   0],\n",
              "       [ 65,  38,  35,   1,   0],\n",
              "       [ 24,  38,  92,   0,   1],\n",
              "       [ 48,  39,  36,   0,   1],\n",
              "       [ 31,  39,  61,   1,   0],\n",
              "       [ 49,  39,  28,   1,   0],\n",
              "       [ 24,  39,  65,   1,   0],\n",
              "       [ 50,  40,  55,   1,   0],\n",
              "       [ 27,  40,  47,   1,   0],\n",
              "       [ 29,  40,  42,   1,   0],\n",
              "       [ 31,  40,  42,   1,   0],\n",
              "       [ 49,  42,  52,   1,   0],\n",
              "       [ 33,  42,  60,   0,   1],\n",
              "       [ 31,  43,  54,   1,   0],\n",
              "       [ 59,  43,  60,   0,   1],\n",
              "       [ 50,  43,  45,   1,   0],\n",
              "       [ 47,  43,  41,   0,   1],\n",
              "       [ 51,  44,  50,   1,   0],\n",
              "       [ 69,  44,  46,   0,   1],\n",
              "       [ 27,  46,  51,   1,   0],\n",
              "       [ 53,  46,  46,   0,   1],\n",
              "       [ 70,  46,  56,   0,   1],\n",
              "       [ 19,  46,  55,   0,   1],\n",
              "       [ 67,  47,  52,   1,   0],\n",
              "       [ 54,  47,  59,   1,   0],\n",
              "       [ 63,  48,  51,   0,   1],\n",
              "       [ 18,  48,  59,   0,   1],\n",
              "       [ 43,  48,  50,   1,   0],\n",
              "       [ 68,  48,  48,   1,   0],\n",
              "       [ 19,  48,  59,   0,   1],\n",
              "       [ 32,  48,  47,   1,   0],\n",
              "       [ 70,  49,  55,   0,   1],\n",
              "       [ 47,  49,  42,   1,   0],\n",
              "       [ 60,  50,  49,   1,   0],\n",
              "       [ 60,  50,  56,   1,   0],\n",
              "       [ 59,  54,  47,   0,   1],\n",
              "       [ 26,  54,  54,   0,   1],\n",
              "       [ 45,  54,  53,   1,   0],\n",
              "       [ 40,  54,  48,   0,   1],\n",
              "       [ 23,  54,  52,   1,   0],\n",
              "       [ 49,  54,  42,   1,   0],\n",
              "       [ 57,  54,  51,   0,   1],\n",
              "       [ 38,  54,  55,   0,   1],\n",
              "       [ 67,  54,  41,   0,   1],\n",
              "       [ 46,  54,  44,   1,   0],\n",
              "       [ 21,  54,  57,   1,   0],\n",
              "       [ 48,  54,  46,   0,   1],\n",
              "       [ 55,  57,  58,   1,   0],\n",
              "       [ 22,  57,  55,   1,   0],\n",
              "       [ 34,  58,  60,   1,   0],\n",
              "       [ 50,  58,  46,   1,   0],\n",
              "       [ 68,  59,  55,   1,   0],\n",
              "       [ 18,  59,  41,   0,   1],\n",
              "       [ 48,  60,  49,   0,   1],\n",
              "       [ 40,  60,  40,   1,   0],\n",
              "       [ 32,  60,  42,   1,   0],\n",
              "       [ 24,  60,  52,   0,   1],\n",
              "       [ 47,  60,  47,   1,   0],\n",
              "       [ 27,  60,  50,   1,   0],\n",
              "       [ 48,  61,  42,   0,   1],\n",
              "       [ 20,  61,  49,   0,   1],\n",
              "       [ 23,  62,  41,   1,   0],\n",
              "       [ 49,  62,  48,   1,   0],\n",
              "       [ 67,  62,  59,   0,   1],\n",
              "       [ 26,  62,  55,   0,   1],\n",
              "       [ 49,  62,  56,   0,   1],\n",
              "       [ 21,  62,  42,   1,   0],\n",
              "       [ 66,  63,  50,   1,   0],\n",
              "       [ 54,  63,  46,   0,   1],\n",
              "       [ 68,  63,  43,   0,   1],\n",
              "       [ 66,  63,  48,   0,   1],\n",
              "       [ 65,  63,  52,   0,   1],\n",
              "       [ 19,  63,  54,   1,   0],\n",
              "       [ 38,  64,  42,   1,   0],\n",
              "       [ 19,  64,  46,   0,   1],\n",
              "       [ 18,  65,  48,   1,   0],\n",
              "       [ 19,  65,  50,   1,   0],\n",
              "       [ 63,  65,  43,   1,   0],\n",
              "       [ 49,  65,  59,   1,   0],\n",
              "       [ 51,  67,  43,   1,   0],\n",
              "       [ 50,  67,  57,   1,   0],\n",
              "       [ 27,  67,  56,   0,   1],\n",
              "       [ 38,  67,  40,   1,   0],\n",
              "       [ 40,  69,  58,   1,   0],\n",
              "       [ 39,  69,  91,   0,   1],\n",
              "       [ 23,  70,  29,   1,   0],\n",
              "       [ 31,  70,  77,   1,   0],\n",
              "       [ 43,  71,  35,   0,   1],\n",
              "       [ 40,  71,  95,   0,   1],\n",
              "       [ 59,  71,  11,   0,   1],\n",
              "       [ 38,  71,  75,   0,   1],\n",
              "       [ 47,  71,   9,   0,   1],\n",
              "       [ 39,  71,  75,   0,   1],\n",
              "       [ 25,  72,  34,   1,   0],\n",
              "       [ 31,  72,  71,   1,   0],\n",
              "       [ 20,  73,   5,   0,   1],\n",
              "       [ 29,  73,  88,   1,   0],\n",
              "       [ 44,  73,   7,   1,   0],\n",
              "       [ 32,  73,  73,   0,   1],\n",
              "       [ 19,  74,  10,   0,   1],\n",
              "       [ 35,  74,  72,   1,   0],\n",
              "       [ 57,  75,   5,   1,   0],\n",
              "       [ 32,  75,  93,   0,   1],\n",
              "       [ 28,  76,  40,   1,   0],\n",
              "       [ 32,  76,  87,   1,   0],\n",
              "       [ 25,  77,  12,   0,   1],\n",
              "       [ 28,  77,  97,   0,   1],\n",
              "       [ 48,  77,  36,   0,   1],\n",
              "       [ 32,  77,  74,   1,   0],\n",
              "       [ 34,  78,  22,   1,   0],\n",
              "       [ 34,  78,  90,   0,   1],\n",
              "       [ 43,  78,  17,   0,   1],\n",
              "       [ 39,  78,  88,   0,   1],\n",
              "       [ 44,  78,  20,   1,   0],\n",
              "       [ 38,  78,  76,   1,   0],\n",
              "       [ 47,  78,  16,   1,   0],\n",
              "       [ 27,  78,  89,   1,   0],\n",
              "       [ 37,  78,   1,   0,   1],\n",
              "       [ 30,  78,  78,   1,   0],\n",
              "       [ 34,  78,   1,   0,   1],\n",
              "       [ 30,  78,  73,   1,   0],\n",
              "       [ 56,  79,  35,   1,   0],\n",
              "       [ 29,  79,  83,   1,   0],\n",
              "       [ 19,  81,   5,   0,   1],\n",
              "       [ 31,  81,  93,   1,   0],\n",
              "       [ 50,  85,  26,   0,   1],\n",
              "       [ 36,  85,  75,   1,   0],\n",
              "       [ 42,  86,  20,   0,   1],\n",
              "       [ 33,  86,  95,   1,   0],\n",
              "       [ 36,  87,  27,   1,   0],\n",
              "       [ 32,  87,  63,   0,   1],\n",
              "       [ 40,  87,  13,   0,   1],\n",
              "       [ 28,  87,  75,   0,   1],\n",
              "       [ 36,  87,  10,   0,   1],\n",
              "       [ 36,  87,  92,   0,   1],\n",
              "       [ 52,  88,  13,   1,   0],\n",
              "       [ 30,  88,  86,   1,   0],\n",
              "       [ 58,  88,  15,   0,   1],\n",
              "       [ 27,  88,  69,   0,   1],\n",
              "       [ 59,  93,  14,   0,   1],\n",
              "       [ 35,  93,  90,   0,   1],\n",
              "       [ 37,  97,  32,   1,   0],\n",
              "       [ 32,  97,  86,   1,   0],\n",
              "       [ 46,  98,  15,   0,   1],\n",
              "       [ 29,  98,  88,   1,   0],\n",
              "       [ 41,  99,  39,   1,   0],\n",
              "       [ 30,  99,  97,   0,   1],\n",
              "       [ 54, 101,  24,   1,   0],\n",
              "       [ 28, 101,  68,   0,   1],\n",
              "       [ 41, 103,  17,   1,   0],\n",
              "       [ 36, 103,  85,   1,   0],\n",
              "       [ 34, 103,  23,   1,   0],\n",
              "       [ 32, 103,  69,   1,   0],\n",
              "       [ 33, 113,   8,   0,   1],\n",
              "       [ 38, 113,  91,   1,   0],\n",
              "       [ 47, 120,  16,   1,   0],\n",
              "       [ 35, 120,  79,   1,   0],\n",
              "       [ 45, 126,  28,   1,   0],\n",
              "       [ 32, 126,  74,   0,   1],\n",
              "       [ 32, 137,  18,   0,   1],\n",
              "       [ 30, 137,  83,   0,   1]])"
            ]
          },
          "metadata": {},
          "execution_count": 36
        }
      ]
    },
    {
      "cell_type": "markdown",
      "source": [
        "**Step-4:** Performing the Fuzzy-C-Means clustering with cluster size-2."
      ],
      "metadata": {
        "id": "DNCp5nO8ig6Z"
      }
    },
    {
      "cell_type": "code",
      "source": [
        "fcm = FCM(n_clusters=2)\n",
        "fcm.fit(X)"
      ],
      "metadata": {
        "id": "56ayDlu4hc1C"
      },
      "execution_count": null,
      "outputs": []
    },
    {
      "cell_type": "markdown",
      "source": [
        "**Step-5:** Plotting the clsutered data using a scatter plot to analyze, How Age of the customers corresponds to the Spending Rate."
      ],
      "metadata": {
        "id": "gPnwGo5-iuBK"
      }
    },
    {
      "cell_type": "code",
      "source": [
        "ax=sns.scatterplot(X[:,0], X[:,1])\n",
        "\n",
        "ax.set_xlabel('Age (Years)', fontsize = 10)\n",
        "ax.set_ylabel('Spending Score (1-100)', fontsize = 10)\n",
        "ax.set_title('Analysing How Age of the Customers Corresponds to the Spending Rate', fontsize = 15)"
      ],
      "metadata": {
        "colab": {
          "base_uri": "https://localhost:8080/",
          "height": 369
        },
        "id": "FEK7ETwJTxT4",
        "outputId": "9633381a-988f-44f4-d642-bac290ba8bba"
      },
      "execution_count": null,
      "outputs": [
        {
          "output_type": "stream",
          "name": "stderr",
          "text": [
            "/usr/local/lib/python3.7/dist-packages/seaborn/_decorators.py:43: FutureWarning: Pass the following variables as keyword args: x, y. From version 0.12, the only valid positional argument will be `data`, and passing other arguments without an explicit keyword will result in an error or misinterpretation.\n",
            "  FutureWarning\n"
          ]
        },
        {
          "output_type": "execute_result",
          "data": {
            "text/plain": [
              "Text(0.5, 1.0, 'Analysing How Age of the Customers Corresponds to the Spending Rate')"
            ]
          },
          "metadata": {},
          "execution_count": 45
        },
        {
          "output_type": "display_data",
          "data": {
            "text/plain": [
              "<Figure size 432x288 with 1 Axes>"
            ],
            "image/png": "[encoded data removed]"
          },
          "metadata": {
            "needs_background": "light"
          }
        }
      ]
    },
    {
      "cell_type": "markdown",
      "source": [
        "**Step-6:** Predicting the spending capability of the mall customers using fcm.predict() function."
      ],
      "metadata": {
        "id": "54I2X_P8jBFn"
      }
    },
    {
      "cell_type": "code",
      "source": [
        "#outputs\n",
        "fcm_centers = fcm.centers\n",
        "fcm_labels = fcm.predict(X)"
      ],
      "metadata": {
        "id": "_2nn0kGmVbGG"
      },
      "execution_count": null,
      "outputs": []
    },
    {
      "cell_type": "code",
      "source": [
        "fcm_centers"
      ],
      "metadata": {
        "colab": {
          "base_uri": "https://localhost:8080/"
        },
        "id": "_N6r2DKpWzy5",
        "outputId": "3004e30d-7f1e-417c-80f3-01ffb3c68e3f"
      },
      "execution_count": null,
      "outputs": [
        {
          "output_type": "execute_result",
          "data": {
            "text/plain": [
              "array([[32.95930252, 70.38883698, 68.08060941,  0.56259138,  0.43740862],\n",
              "       [43.92198275, 54.10613966, 38.6398114 ,  0.57053616,  0.42946384]])"
            ]
          },
          "metadata": {},
          "execution_count": 43
        }
      ]
    },
    {
      "cell_type": "code",
      "source": [
        "fcm_labels"
      ],
      "metadata": {
        "colab": {
          "base_uri": "https://localhost:8080/"
        },
        "id": "yVoTlaNwWxm4",
        "outputId": "5cade28a-edcd-4a15-adf2-13b1a86bb752"
      },
      "execution_count": null,
      "outputs": [
        {
          "output_type": "execute_result",
          "data": {
            "text/plain": [
              "array([1, 0, 1, 0, 1, 0, 1, 0, 1, 1, 1, 0, 1, 0, 1, 0, 1, 1, 1, 0, 1, 0,\n",
              "       1, 0, 1, 0, 1, 1, 1, 0, 1, 0, 1, 0, 1, 0, 1, 0, 1, 0, 1, 0, 1, 1,\n",
              "       1, 0, 1, 1, 1, 1, 1, 1, 1, 1, 1, 1, 1, 1, 1, 1, 1, 1, 1, 1, 1, 0,\n",
              "       1, 1, 0, 1, 1, 1, 1, 1, 1, 0, 1, 1, 1, 1, 1, 1, 1, 1, 0, 1, 1, 0,\n",
              "       0, 1, 1, 1, 1, 1, 1, 0, 1, 1, 1, 0, 1, 1, 1, 0, 1, 1, 1, 1, 1, 1,\n",
              "       1, 0, 1, 0, 0, 0, 1, 0, 1, 0, 0, 1, 0, 0, 1, 0, 1, 0, 1, 0, 1, 0,\n",
              "       1, 0, 1, 0, 1, 0, 1, 0, 1, 0, 1, 0, 1, 0, 1, 0, 1, 0, 1, 0, 1, 0,\n",
              "       1, 0, 1, 0, 1, 0, 1, 0, 1, 0, 1, 0, 1, 0, 1, 0, 1, 0, 1, 0, 1, 0,\n",
              "       1, 0, 1, 0, 1, 0, 1, 0, 0, 0, 1, 0, 1, 0, 1, 0, 1, 0, 1, 0, 0, 0,\n",
              "       0, 0])"
            ]
          },
          "metadata": {},
          "execution_count": 42
        }
      ]
    },
    {
      "cell_type": "markdown",
      "source": [
        "**Step-7:** Using a scatter plot, predicting which of the age group/cluster has will be having highest spending capability."
      ],
      "metadata": {
        "id": "FOnu8ogtjaWB"
      }
    },
    {
      "cell_type": "code",
      "source": [
        "ax=sns.scatterplot(X[:,0], X[:,1], c=fcm_labels)\n",
        "ax.scatter(fcm_centers[:,0], fcm_centers[:,1], marker=\"+\", s=500, c='w')\n",
        "ax.set_xlabel('Age (Years)', fontsize = 10)\n",
        "ax.set_ylabel('Spending Score (1-100)', fontsize = 10)\n",
        "ax.set_title('Predicting How Age of the Customers Corresponds to the Spending Rate', fontsize = 15)\n",
        "\n",
        "#axes[1].scatter(X[:,0], X[:,1], c=fcm_labels, alpha=.1)\n",
        "#axes[1].scatter(fcm_centers[:,0], fcm_centers[:,1], marker=\"+\", s=500, c='w')\n",
        "#plt.savefig('images/basic-clustering-output.jpg')\n",
        "#plt.show()"
      ],
      "metadata": {
        "colab": {
          "base_uri": "https://localhost:8080/",
          "height": 369
        },
        "id": "G3lsH3XCWGX3",
        "outputId": "0c945439-c9dc-4176-e638-6112dd9bd957"
      },
      "execution_count": null,
      "outputs": [
        {
          "output_type": "stream",
          "name": "stderr",
          "text": [
            "/usr/local/lib/python3.7/dist-packages/seaborn/_decorators.py:43: FutureWarning: Pass the following variables as keyword args: x, y. From version 0.12, the only valid positional argument will be `data`, and passing other arguments without an explicit keyword will result in an error or misinterpretation.\n",
            "  FutureWarning\n"
          ]
        },
        {
          "output_type": "execute_result",
          "data": {
            "text/plain": [
              "Text(0.5, 1.0, 'Predictng How Age of the Customers Corresponds to the Spending Rate')"
            ]
          },
          "metadata": {},
          "execution_count": 44
        },
        {
          "output_type": "display_data",
          "data": {
            "text/plain": [
              "<Figure size 432x288 with 1 Axes>"
            ],
            "image/png": "[encoded data removed]"
          },
          "metadata": {
            "needs_background": "light"
          }
        }
      ]
    },
    {
      "cell_type": "markdown",
      "source": [
        "**Result:** From the scatter plot we can infer that, people of age group 20 years to 40 years spend the more money in the mall. also male customers spend more money compared to thier female counterparts of the same age group.   "
      ],
      "metadata": {
        "id": "hEvsonkMgQtZ"
      }
    }
  ]
}