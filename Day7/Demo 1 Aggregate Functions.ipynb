{
 "cells": [
  {
   "cell_type": "markdown",
   "metadata": {},
   "source": [
    "## Demo 1: Aggregate Functions"
   ]
  },
  {
   "cell_type": "markdown",
   "metadata": {},
   "source": [
    "In this demo, you will be shown how to implement aggregate functions."
   ]
  },
  {
   "cell_type": "markdown",
   "metadata": {},
   "source": [
    "#### Description about Hill Cipher"
   ]
  },
  {
   "cell_type": "markdown",
   "metadata": {},
   "source": [
    "'''\n",
    "Hill Cipher is a polygraphic substitution cipher based on linear algebra.\n",
    "Here the plain text is converted into encrypted form.\n",
    "Each letter of plain text is represented by a number modulo 26.\n",
    "Often the simple scheme A=0, B=1,....Z=25 is used\n",
    "To encrypt a message, each block of n letters is multiplied by an invertible n × n matrix, against modulus 26\n",
    "The matrix used for encryption is the cipher key, and it should be chosen randomly\n",
    "Lets us take plain text = edureka and cipher key = [11 9\n",
    "                                                     8 17]\n",
    "Plain text is converted into 2×1 matrix format i.e. [e d] [u r] [e k]\n",
    "Again plain text is converted into numbers i.e. [4 3] [20 11] [4 10]\n",
    "So, encryption of hill cipher = (each column of plain text)*(key)*mod 26\n",
    "'''"
   ]
  },
  {
   "cell_type": "markdown",
   "metadata": {},
   "source": [
    "#### Question: Perform aggregate function on marks.csv file"
   ]
  },
  {
   "cell_type": "markdown",
   "metadata": {},
   "source": [
    "### Step 1: Import the libraries"
   ]
  },
  {
   "cell_type": "code",
   "execution_count": 1,
   "metadata": {},
   "outputs": [],
   "source": [
    "import numpy as np"
   ]
  },
  {
   "cell_type": "markdown",
   "metadata": {},
   "source": [
    "### Step 2: Load marks.csv file"
   ]
  },
  {
   "cell_type": "code",
   "execution_count": 7,
   "metadata": {},
   "outputs": [],
   "source": [
    "data = np.loadtxt('marks.csv',delimiter=',',usecols=(5),skiprows=1)"
   ]
  },
  {
   "cell_type": "markdown",
   "metadata": {},
   "source": [
    "### Step 3: Display the column on which we are going to perform different aggregate functions"
   ]
  },
  {
   "cell_type": "code",
   "execution_count": 8,
   "metadata": {},
   "outputs": [
    {
     "name": "stdout",
     "output_type": "stream",
     "text": [
      "Data: [420. 280. 350. 269. 317. 470. 333. 365. 305. 350. 460. 474. 409. 377.\n",
      " 415. 382. 298. 462. 370. 313. 464. 302. 252. 259. 308. 392. 424. 403.\n",
      " 370. 328. 398. 434. 291. 472. 263. 439. 464. 449. 401. 364. 296. 292.\n",
      " 438. 357. 331. 317. 429. 407. 321. 274. 447. 274. 437. 411. 257. 310.\n",
      " 396. 270. 311. 459. 378. 316. 283. 266. 381. 409. 313. 306. 448. 348.\n",
      " 292. 400. 352. 441. 428. 309. 441. 439. 264. 281. 302. 432. 423. 336.\n",
      " 383. 321. 469. 270. 341. 281. 403. 333. 323. 348. 345. 397. 449. 261.\n",
      " 456. 370. 322. 379. 446. 404. 301. 254. 351. 444. 264. 286. 463. 273.\n",
      " 316. 324. 465. 398. 324. 340. 414. 346. 408. 332. 394. 474. 398. 262.\n",
      " 410. 391. 444. 461.]\n"
     ]
    }
   ],
   "source": [
    "print(\"Data:\", data)"
   ]
  },
  {
   "cell_type": "markdown",
   "metadata": {},
   "source": [
    "### Step 4: Calculate different aggregate function on marks.csv file"
   ]
  },
  {
   "cell_type": "code",
   "execution_count": 10,
   "metadata": {},
   "outputs": [
    {
     "name": "stdout",
     "output_type": "stream",
     "text": [
      "Sum: 47356.0\n"
     ]
    }
   ],
   "source": [
    "#Calculating sum of the given data\n",
    "print(\"Sum:\",data.sum())"
   ]
  },
  {
   "cell_type": "code",
   "execution_count": 9,
   "metadata": {},
   "outputs": [
    {
     "name": "stdout",
     "output_type": "stream",
     "text": [
      "Minimum: 252.0\n"
     ]
    }
   ],
   "source": [
    "#Calculating minimum from the given data\n",
    "print(\"Minimum:\",data.min())"
   ]
  },
  {
   "cell_type": "code",
   "execution_count": 11,
   "metadata": {},
   "outputs": [
    {
     "name": "stdout",
     "output_type": "stream",
     "text": [
      "Maximum: 474.0\n"
     ]
    }
   ],
   "source": [
    "#Calculating maximum from the given data\n",
    "print(\"Maximum:\",data.max())"
   ]
  },
  {
   "cell_type": "code",
   "execution_count": 12,
   "metadata": {},
   "outputs": [
    {
     "name": "stdout",
     "output_type": "stream",
     "text": [
      "Mean: 364.2769230769231\n"
     ]
    }
   ],
   "source": [
    "#Calculating mean of the given data\n",
    "print(\"Mean:\",data.mean())"
   ]
  },
  {
   "cell_type": "code",
   "execution_count": 13,
   "metadata": {},
   "outputs": [
    {
     "name": "stdout",
     "output_type": "stream",
     "text": [
      "Standard Deviation: 66.17947803971762\n"
     ]
    }
   ],
   "source": [
    "#Calculating standard deviation of  the given data\n",
    "print(\"Standard Deviation:\",data.std())"
   ]
  },
  {
   "cell_type": "markdown",
   "metadata": {},
   "source": [
    "#### Conclusion: This code demonstrates how to calculate aggregate functions"
   ]
  }
 ],
 "metadata": {
  "kernelspec": {
   "display_name": "Python 3 (ipykernel)",
   "language": "python",
   "name": "python3"
  },
  "language_info": {
   "codemirror_mode": {
    "name": "ipython",
    "version": 3
   },
   "file_extension": ".py",
   "mimetype": "text/x-python",
   "name": "python",
   "nbconvert_exporter": "python",
   "pygments_lexer": "ipython3",
   "version": "3.10.11"
  }
 },
 "nbformat": 4,
 "nbformat_minor": 2
}
