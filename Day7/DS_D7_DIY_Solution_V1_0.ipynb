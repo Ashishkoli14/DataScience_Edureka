{
  "cells": [
    {
      "cell_type": "markdown",
      "metadata": {
        "id": "fjZL60WwS0Mq"
      },
      "source": [
        "##Day 7 - DIY Solution"
      ]
    },
    {
      "cell_type": "markdown",
      "metadata": {
        "id": "MaLFYAa4S36M"
      },
      "source": [
        "**Q1. Problem Statement: Understanding Array Functions**\n",
        "\n",
        "Write a Python program that takes the speeds of any vehicle to store it in a NumPy array and calculates the average speed.\n",
        "\n",
        "**Note:** Use NumPy functions to get the desired output.\n"
      ]
    },
    {
      "cell_type": "code",
      "execution_count": null,
      "metadata": {
        "colab": {
          "base_uri": "https://localhost:8080/"
        },
        "id": "BXql1r5lSsRl",
        "outputId": "3838be61-0621-4691-8ea4-40f867299f9a"
      },
      "outputs": [
        {
          "name": "stdout",
          "output_type": "stream",
          "text": [
            "What number of speeds you want to enter?3\n",
            "Enter the speeds in Km/hr: 45\n",
            "Enter the speeds in Km/hr: 50\n",
            "Enter the speeds in Km/hr: 37\n",
            "The Average speed is: 44.0 Km/hr\n"
          ]
        }
      ],
      "source": [
        "#Numpy arrays- Calculating mean of array elements\n",
        "import numpy\n",
        "\n",
        "my_array = []\n",
        "a = int(input(\"What number of speeds you want to enter?\"))\n",
        "for i in range(a):\n",
        "    my_array.append(float(input(\"Enter the speeds in Km/hr: \")))\n",
        "my_array = numpy.array(my_array)\n",
        "mean = sum(my_array)//len(my_array)\n",
        "print(\"The Average speed is:\", mean, \"Km/hr\")"
      ]
    },
    {
      "cell_type": "markdown",
      "metadata": {
        "id": "GoOKlnw3TOt9"
      },
      "source": [
        "**Q2. Problem Statement: Array Indexing/Slicing**\n",
        "\n",
        "Write a Python program to generate a 3-D array with integers of your choice, perform indexing, and print the first two rows and last two columns of the array.\n",
        "\n",
        "**Note:** Use NumPy arange() function to generate a random array.\n"
      ]
    },
    {
      "cell_type": "code",
      "execution_count": 2,
      "metadata": {
        "colab": {
          "base_uri": "https://localhost:8080/"
        },
        "id": "fNfebRtXTWNs",
        "outputId": "42160d5e-85c5-4fa9-cb66-0db80d070fbf"
      },
      "outputs": [
        {
          "name": "stdout",
          "output_type": "stream",
          "text": [
            "The array is:\n",
            "[[ 0  1  2  3]\n",
            " [ 4  5  6  7]\n",
            " [ 8  9 10 11]\n",
            " [12 13 14 15]\n",
            " [16 17 18 19]]\n",
            "The first two rows are:\n",
            "[[0 1 2 3]\n",
            " [4 5 6 7]]\n",
            "The last two coloumns are:\n",
            "[[ 2  3]\n",
            " [ 6  7]\n",
            " [10 11]\n",
            " [14 15]\n",
            " [18 19]]\n"
          ]
        }
      ],
      "source": [
        "#Slicing ndarray\n",
        "import numpy as np\n",
        "\n",
        "a = np.arange(20).reshape((5,4))\n",
        "\n",
        "#printing the array\n",
        "print(\"The array is:\")\n",
        "print(a)\n",
        "\n",
        "# Select first two rows\n",
        "print(\"The first two rows are:\")\n",
        "print(a[[0, 1], :])\n",
        "# array([[ 0,  1,  2,  3],\n",
        "#        [ 4,  5,  6,  7],\n",
        "#        [12, 13, 14, 15]])\n",
        "\n",
        "#Select first two columns\n",
        "print(\"The last two coloumns are:\")\n",
        "print(a[:,[-2, -1]])\n"
      ]
    }
  ],
  "metadata": {
    "colab": {
      "collapsed_sections": [],
      "name": "DS_D7_DIY_Solution_V1.0.ipynb",
      "provenance": []
    },
    "kernelspec": {
      "display_name": "Python 3",
      "name": "python3"
    },
    "language_info": {
      "codemirror_mode": {
        "name": "ipython",
        "version": 3
      },
      "file_extension": ".py",
      "mimetype": "text/x-python",
      "name": "python",
      "nbconvert_exporter": "python",
      "pygments_lexer": "ipython3",
      "version": "3.10.11"
    }
  },
  "nbformat": 4,
  "nbformat_minor": 0
}
