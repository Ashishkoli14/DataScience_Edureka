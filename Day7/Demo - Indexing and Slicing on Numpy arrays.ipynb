{
  "cells": [
    {
      "cell_type": "markdown",
      "id": "429fda08",
      "metadata": {
        "id": "429fda08"
      },
      "source": [
        "## Numpy"
      ]
    },
    {
      "cell_type": "code",
      "execution_count": null,
      "id": "b5199bbc",
      "metadata": {
        "id": "b5199bbc"
      },
      "outputs": [],
      "source": [
        "import numpy as np"
      ]
    },
    {
      "cell_type": "code",
      "execution_count": null,
      "id": "d7b07402",
      "metadata": {
        "id": "d7b07402"
      },
      "outputs": [],
      "source": [
        "arr1 = np.random.randint(0,100,(4,4))"
      ]
    },
    {
      "cell_type": "code",
      "execution_count": null,
      "id": "71393058",
      "metadata": {
        "id": "71393058",
        "outputId": "7fb2cfaf-7303-4998-81e0-65eb50b7191b"
      },
      "outputs": [
        {
          "data": {
            "text/plain": [
              "array([[64,  6, 90, 14],\n",
              "       [ 6, 94, 80, 87],\n",
              "       [60, 20, 46, 92],\n",
              "       [95, 37, 30, 80]])"
            ]
          },
          "execution_count": 17,
          "metadata": {},
          "output_type": "execute_result"
        }
      ],
      "source": [
        "arr1"
      ]
    },
    {
      "cell_type": "markdown",
      "id": "b2d61ca0",
      "metadata": {
        "id": "b2d61ca0"
      },
      "source": [
        "### Indexing"
      ]
    },
    {
      "cell_type": "code",
      "execution_count": null,
      "id": "7094643c",
      "metadata": {
        "id": "7094643c",
        "outputId": "84c61683-4631-4692-db24-dab2aa272e04"
      },
      "outputs": [
        {
          "data": {
            "text/plain": [
              "array([64,  6, 90, 14])"
            ]
          },
          "execution_count": 18,
          "metadata": {},
          "output_type": "execute_result"
        }
      ],
      "source": [
        "arr1[0]"
      ]
    },
    {
      "cell_type": "code",
      "execution_count": null,
      "id": "d5da3c9f",
      "metadata": {
        "id": "d5da3c9f",
        "outputId": "627e3a15-bd3a-46ad-ad1c-527f13d5addb"
      },
      "outputs": [
        {
          "data": {
            "text/plain": [
              "array([60, 20, 46, 92])"
            ]
          },
          "execution_count": 19,
          "metadata": {},
          "output_type": "execute_result"
        }
      ],
      "source": [
        "arr1[2]"
      ]
    },
    {
      "cell_type": "code",
      "execution_count": null,
      "id": "8c31144c",
      "metadata": {
        "id": "8c31144c",
        "outputId": "9ab5adcb-712e-44f5-f8b8-a12038d19988"
      },
      "outputs": [
        {
          "data": {
            "text/plain": [
              "87"
            ]
          },
          "execution_count": 20,
          "metadata": {},
          "output_type": "execute_result"
        }
      ],
      "source": [
        "arr1[1,3]"
      ]
    },
    {
      "cell_type": "code",
      "execution_count": null,
      "id": "22f8ca19",
      "metadata": {
        "id": "22f8ca19",
        "outputId": "d5caffc0-eb70-4cb2-de31-92178efdeeef"
      },
      "outputs": [
        {
          "data": {
            "text/plain": [
              "46"
            ]
          },
          "execution_count": 21,
          "metadata": {},
          "output_type": "execute_result"
        }
      ],
      "source": [
        "arr1[2,2]"
      ]
    },
    {
      "cell_type": "markdown",
      "id": "5dcaa956",
      "metadata": {
        "id": "5dcaa956"
      },
      "source": [
        "### Slicing"
      ]
    },
    {
      "cell_type": "code",
      "execution_count": null,
      "id": "39904024",
      "metadata": {
        "id": "39904024",
        "outputId": "1f29b70b-3680-4e0a-b0ae-e0f72c213fe0"
      },
      "outputs": [
        {
          "data": {
            "text/plain": [
              "array([[64,  6, 90, 14],\n",
              "       [ 6, 94, 80, 87],\n",
              "       [60, 20, 46, 92],\n",
              "       [95, 37, 30, 80]])"
            ]
          },
          "execution_count": 22,
          "metadata": {},
          "output_type": "execute_result"
        }
      ],
      "source": [
        "arr1"
      ]
    },
    {
      "cell_type": "code",
      "execution_count": null,
      "id": "6f0b7c30",
      "metadata": {
        "id": "6f0b7c30",
        "outputId": "5975ea5d-d343-4862-8719-ae6c0b2a634e"
      },
      "outputs": [
        {
          "data": {
            "text/plain": [
              "array([[ 6, 94, 80, 87],\n",
              "       [60, 20, 46, 92]])"
            ]
          },
          "execution_count": 23,
          "metadata": {},
          "output_type": "execute_result"
        }
      ],
      "source": [
        "arr1[1:3]"
      ]
    },
    {
      "cell_type": "code",
      "execution_count": null,
      "id": "85e69604",
      "metadata": {
        "id": "85e69604",
        "outputId": "18671d71-006a-4d10-91c7-ab06ca7ac9ea"
      },
      "outputs": [
        {
          "data": {
            "text/plain": [
              "array([[94, 80, 87],\n",
              "       [20, 46, 92]])"
            ]
          },
          "execution_count": 24,
          "metadata": {},
          "output_type": "execute_result"
        }
      ],
      "source": [
        "arr1[1:3,1:4]"
      ]
    },
    {
      "cell_type": "markdown",
      "id": "80b5bf94",
      "metadata": {
        "id": "80b5bf94"
      },
      "source": [
        "### Fancy Indexing"
      ]
    },
    {
      "cell_type": "code",
      "execution_count": null,
      "id": "3b87bc9e",
      "metadata": {
        "id": "3b87bc9e",
        "outputId": "2d10b3c5-f4b7-47a3-9ab2-9d864f348198"
      },
      "outputs": [
        {
          "data": {
            "text/plain": [
              "array([[64,  6, 90, 14],\n",
              "       [ 6, 94, 80, 87],\n",
              "       [60, 20, 46, 92],\n",
              "       [95, 37, 30, 80]])"
            ]
          },
          "execution_count": 25,
          "metadata": {},
          "output_type": "execute_result"
        }
      ],
      "source": [
        "arr1"
      ]
    },
    {
      "cell_type": "code",
      "execution_count": null,
      "id": "68b13f08",
      "metadata": {
        "id": "68b13f08",
        "outputId": "679f7e9e-a3c4-4dbd-a29a-08cd6f768ef8"
      },
      "outputs": [
        {
          "data": {
            "text/plain": [
              "array([[ 6, 94, 80, 87],\n",
              "       [64,  6, 90, 14],\n",
              "       [95, 37, 30, 80]])"
            ]
          },
          "execution_count": 26,
          "metadata": {},
          "output_type": "execute_result"
        }
      ],
      "source": [
        "arr1[[1,0,3]]"
      ]
    },
    {
      "cell_type": "markdown",
      "id": "dfdbcab3",
      "metadata": {
        "id": "dfdbcab3"
      },
      "source": [
        "### iterator"
      ]
    },
    {
      "cell_type": "code",
      "execution_count": null,
      "id": "97669907",
      "metadata": {
        "id": "97669907",
        "outputId": "4c1bd36b-606d-4fde-bdfa-f91f8c8ae774"
      },
      "outputs": [
        {
          "name": "stdout",
          "output_type": "stream",
          "text": [
            "64\n",
            "6\n",
            "90\n",
            "14\n",
            "6\n",
            "94\n",
            "80\n",
            "87\n",
            "60\n",
            "20\n",
            "46\n",
            "92\n",
            "95\n",
            "37\n",
            "30\n",
            "80\n"
          ]
        }
      ],
      "source": [
        "for x in np.nditer(arr1):\n",
        "    print(x)"
      ]
    },
    {
      "cell_type": "code",
      "execution_count": null,
      "id": "9d8d9b37",
      "metadata": {
        "id": "9d8d9b37"
      },
      "outputs": [],
      "source": [
        ""
      ]
    }
  ],
  "metadata": {
    "kernelspec": {
      "display_name": "Python 3 (ipykernel)",
      "language": "python",
      "name": "python3"
    },
    "language_info": {
      "codemirror_mode": {
        "name": "ipython",
        "version": 3
      },
      "file_extension": ".py",
      "mimetype": "text/x-python",
      "name": "python",
      "nbconvert_exporter": "python",
      "pygments_lexer": "ipython3",
      "version": "3.9.7"
    },
    "colab": {
      "name": "Demo - Indexing and Slicing on Numpy arrays.ipynb",
      "provenance": []
    }
  },
  "nbformat": 4,
  "nbformat_minor": 5
}