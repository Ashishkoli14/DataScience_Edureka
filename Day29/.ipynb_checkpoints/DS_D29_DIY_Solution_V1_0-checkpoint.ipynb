{
 "cells": [
  {
   "cell_type": "markdown",
   "metadata": {
    "id": "x1c7l-u3iZ9V"
   },
   "source": [
    "##Day 29 - DIY Solution"
   ]
  },
  {
   "cell_type": "markdown",
   "metadata": {
    "id": "m0Xs9do2iVF2"
   },
   "source": [
    "\n",
    "**Q1. Problem Statement: Hypothesis Testing** <br>\n",
    "\n",
    "Write a Python program that reads the Life Expectancy Data.csv (provided on LMS) file into a DataFrame, then drops null values and performs hypothesis testing for the given scenario.\n",
    "\n",
    "<br>\n",
    "H0:u  = average life expectancy of Afghanistan is the same as the average Life expectancy of the world (Null hypothesis)\n",
    "<br>\n",
    "H1:u = average life expectancy of Afghanistan is not the same as the average Life expectancy of the world (Alternate hypothesis)\n",
    "<br>\n",
    "\n",
    "1.\tLoad dataset into a data frame\n",
    "2.\tDrop all missing values \n",
    "3.\tTake the mean of the whole target variable and extract data from ‘Afghanistan’\n",
    "4.\tconsider a significance level of 0.05, perform a T-tail test using the stats library and calculate P-value and conclude hypothesis testing.\n",
    "\n"
   ]
  },
  {
   "cell_type": "code",
   "execution_count": 19,
   "metadata": {
    "executionInfo": {
     "elapsed": 744,
     "status": "ok",
     "timestamp": 1650992628683,
     "user": {
      "displayName": "Abhishek Dodiya",
      "userId": "05457856945198063411"
     },
     "user_tz": -330
    },
    "id": "GwwXFDSyiVF7"
   },
   "outputs": [],
   "source": []
  },
  {
   "cell_type": "markdown",
   "metadata": {
    "id": "SLmimdUZiVF8"
   },
   "source": [
    "**Step-1:** Importing Libraries."
   ]
  },
  {
   "cell_type": "code",
   "execution_count": 20,
   "metadata": {
    "executionInfo": {
     "elapsed": 23,
     "status": "ok",
     "timestamp": 1650992629419,
     "user": {
      "displayName": "Abhishek Dodiya",
      "userId": "05457856945198063411"
     },
     "user_tz": -330
    },
    "id": "oQo77FnXiVF9"
   },
   "outputs": [],
   "source": [
    "import pandas as pd\n",
    "import numpy as np\n",
    "from scipy import stats"
   ]
  },
  {
   "cell_type": "markdown",
   "metadata": {
    "id": "T0U63W5DiVF-"
   },
   "source": [
    "**Step-2:** Load the CSV file in to a DataFrame "
   ]
  },
  {
   "cell_type": "code",
   "execution_count": 21,
   "metadata": {
    "colab": {
     "base_uri": "https://localhost:8080/",
     "height": 539
    },
    "executionInfo": {
     "elapsed": 23,
     "status": "ok",
     "timestamp": 1650992629420,
     "user": {
      "displayName": "Abhishek Dodiya",
      "userId": "05457856945198063411"
     },
     "user_tz": -330
    },
    "id": "GTacZ1NYiVF_",
    "outputId": "8a571ef3-4d5e-483d-bfc2-1272843e829b"
   },
   "outputs": [
    {
     "data": {
      "text/html": [
       "\n",
       "  <div id=\"df-3d2b1929-dedc-489c-a0fe-20ebff3e5b4c\">\n",
       "    <div class=\"colab-df-container\">\n",
       "      <div>\n",
       "<style scoped>\n",
       "    .dataframe tbody tr th:only-of-type {\n",
       "        vertical-align: middle;\n",
       "    }\n",
       "\n",
       "    .dataframe tbody tr th {\n",
       "        vertical-align: top;\n",
       "    }\n",
       "\n",
       "    .dataframe thead th {\n",
       "        text-align: right;\n",
       "    }\n",
       "</style>\n",
       "<table border=\"1\" class=\"dataframe\">\n",
       "  <thead>\n",
       "    <tr style=\"text-align: right;\">\n",
       "      <th></th>\n",
       "      <th>Country</th>\n",
       "      <th>Year</th>\n",
       "      <th>Status</th>\n",
       "      <th>Adult Mortality</th>\n",
       "      <th>infant deaths</th>\n",
       "      <th>Alcohol</th>\n",
       "      <th>percentage expenditure</th>\n",
       "      <th>Hepatitis B</th>\n",
       "      <th>Measles</th>\n",
       "      <th>BMI</th>\n",
       "      <th>...</th>\n",
       "      <th>Total expenditure</th>\n",
       "      <th>Diphtheria</th>\n",
       "      <th>HIV/AIDS</th>\n",
       "      <th>GDP</th>\n",
       "      <th>Population</th>\n",
       "      <th>thinness  1-19 years</th>\n",
       "      <th>thinness 5-9 years</th>\n",
       "      <th>Income composition of resources</th>\n",
       "      <th>Schooling</th>\n",
       "      <th>Life expectancy</th>\n",
       "    </tr>\n",
       "  </thead>\n",
       "  <tbody>\n",
       "    <tr>\n",
       "      <th>0</th>\n",
       "      <td>Afghanistan</td>\n",
       "      <td>2015</td>\n",
       "      <td>Developing</td>\n",
       "      <td>263.0</td>\n",
       "      <td>62</td>\n",
       "      <td>0.01</td>\n",
       "      <td>71.279624</td>\n",
       "      <td>65.0</td>\n",
       "      <td>1154</td>\n",
       "      <td>19.1</td>\n",
       "      <td>...</td>\n",
       "      <td>8.16</td>\n",
       "      <td>65.0</td>\n",
       "      <td>0.1</td>\n",
       "      <td>584.259210</td>\n",
       "      <td>33736494.0</td>\n",
       "      <td>17.2</td>\n",
       "      <td>17.3</td>\n",
       "      <td>0.479</td>\n",
       "      <td>10.1</td>\n",
       "      <td>65.0</td>\n",
       "    </tr>\n",
       "    <tr>\n",
       "      <th>1</th>\n",
       "      <td>Afghanistan</td>\n",
       "      <td>2014</td>\n",
       "      <td>Developing</td>\n",
       "      <td>271.0</td>\n",
       "      <td>64</td>\n",
       "      <td>0.01</td>\n",
       "      <td>73.523582</td>\n",
       "      <td>62.0</td>\n",
       "      <td>492</td>\n",
       "      <td>18.6</td>\n",
       "      <td>...</td>\n",
       "      <td>8.18</td>\n",
       "      <td>62.0</td>\n",
       "      <td>0.1</td>\n",
       "      <td>612.696514</td>\n",
       "      <td>327582.0</td>\n",
       "      <td>17.5</td>\n",
       "      <td>17.5</td>\n",
       "      <td>0.476</td>\n",
       "      <td>10.0</td>\n",
       "      <td>59.9</td>\n",
       "    </tr>\n",
       "    <tr>\n",
       "      <th>2</th>\n",
       "      <td>Afghanistan</td>\n",
       "      <td>2013</td>\n",
       "      <td>Developing</td>\n",
       "      <td>268.0</td>\n",
       "      <td>66</td>\n",
       "      <td>0.01</td>\n",
       "      <td>73.219243</td>\n",
       "      <td>64.0</td>\n",
       "      <td>430</td>\n",
       "      <td>18.1</td>\n",
       "      <td>...</td>\n",
       "      <td>8.13</td>\n",
       "      <td>64.0</td>\n",
       "      <td>0.1</td>\n",
       "      <td>631.744976</td>\n",
       "      <td>31731688.0</td>\n",
       "      <td>17.7</td>\n",
       "      <td>17.7</td>\n",
       "      <td>0.470</td>\n",
       "      <td>9.9</td>\n",
       "      <td>59.9</td>\n",
       "    </tr>\n",
       "    <tr>\n",
       "      <th>3</th>\n",
       "      <td>Afghanistan</td>\n",
       "      <td>2012</td>\n",
       "      <td>Developing</td>\n",
       "      <td>272.0</td>\n",
       "      <td>69</td>\n",
       "      <td>0.01</td>\n",
       "      <td>78.184215</td>\n",
       "      <td>67.0</td>\n",
       "      <td>2787</td>\n",
       "      <td>17.6</td>\n",
       "      <td>...</td>\n",
       "      <td>8.52</td>\n",
       "      <td>67.0</td>\n",
       "      <td>0.1</td>\n",
       "      <td>669.959000</td>\n",
       "      <td>3696958.0</td>\n",
       "      <td>17.9</td>\n",
       "      <td>18.0</td>\n",
       "      <td>0.463</td>\n",
       "      <td>9.8</td>\n",
       "      <td>59.5</td>\n",
       "    </tr>\n",
       "    <tr>\n",
       "      <th>4</th>\n",
       "      <td>Afghanistan</td>\n",
       "      <td>2011</td>\n",
       "      <td>Developing</td>\n",
       "      <td>275.0</td>\n",
       "      <td>71</td>\n",
       "      <td>0.01</td>\n",
       "      <td>7.097109</td>\n",
       "      <td>68.0</td>\n",
       "      <td>3013</td>\n",
       "      <td>17.2</td>\n",
       "      <td>...</td>\n",
       "      <td>7.87</td>\n",
       "      <td>68.0</td>\n",
       "      <td>0.1</td>\n",
       "      <td>63.537231</td>\n",
       "      <td>2978599.0</td>\n",
       "      <td>18.2</td>\n",
       "      <td>18.2</td>\n",
       "      <td>0.454</td>\n",
       "      <td>9.5</td>\n",
       "      <td>59.2</td>\n",
       "    </tr>\n",
       "    <tr>\n",
       "      <th>...</th>\n",
       "      <td>...</td>\n",
       "      <td>...</td>\n",
       "      <td>...</td>\n",
       "      <td>...</td>\n",
       "      <td>...</td>\n",
       "      <td>...</td>\n",
       "      <td>...</td>\n",
       "      <td>...</td>\n",
       "      <td>...</td>\n",
       "      <td>...</td>\n",
       "      <td>...</td>\n",
       "      <td>...</td>\n",
       "      <td>...</td>\n",
       "      <td>...</td>\n",
       "      <td>...</td>\n",
       "      <td>...</td>\n",
       "      <td>...</td>\n",
       "      <td>...</td>\n",
       "      <td>...</td>\n",
       "      <td>...</td>\n",
       "      <td>...</td>\n",
       "    </tr>\n",
       "    <tr>\n",
       "      <th>2933</th>\n",
       "      <td>Zimbabwe</td>\n",
       "      <td>2004</td>\n",
       "      <td>Developing</td>\n",
       "      <td>723.0</td>\n",
       "      <td>27</td>\n",
       "      <td>4.36</td>\n",
       "      <td>0.000000</td>\n",
       "      <td>68.0</td>\n",
       "      <td>31</td>\n",
       "      <td>27.1</td>\n",
       "      <td>...</td>\n",
       "      <td>7.13</td>\n",
       "      <td>65.0</td>\n",
       "      <td>33.6</td>\n",
       "      <td>454.366654</td>\n",
       "      <td>12777511.0</td>\n",
       "      <td>9.4</td>\n",
       "      <td>9.4</td>\n",
       "      <td>0.407</td>\n",
       "      <td>9.2</td>\n",
       "      <td>44.3</td>\n",
       "    </tr>\n",
       "    <tr>\n",
       "      <th>2934</th>\n",
       "      <td>Zimbabwe</td>\n",
       "      <td>2003</td>\n",
       "      <td>Developing</td>\n",
       "      <td>715.0</td>\n",
       "      <td>26</td>\n",
       "      <td>4.06</td>\n",
       "      <td>0.000000</td>\n",
       "      <td>7.0</td>\n",
       "      <td>998</td>\n",
       "      <td>26.7</td>\n",
       "      <td>...</td>\n",
       "      <td>6.52</td>\n",
       "      <td>68.0</td>\n",
       "      <td>36.7</td>\n",
       "      <td>453.351155</td>\n",
       "      <td>12633897.0</td>\n",
       "      <td>9.8</td>\n",
       "      <td>9.9</td>\n",
       "      <td>0.418</td>\n",
       "      <td>9.5</td>\n",
       "      <td>44.5</td>\n",
       "    </tr>\n",
       "    <tr>\n",
       "      <th>2935</th>\n",
       "      <td>Zimbabwe</td>\n",
       "      <td>2002</td>\n",
       "      <td>Developing</td>\n",
       "      <td>73.0</td>\n",
       "      <td>25</td>\n",
       "      <td>4.43</td>\n",
       "      <td>0.000000</td>\n",
       "      <td>73.0</td>\n",
       "      <td>304</td>\n",
       "      <td>26.3</td>\n",
       "      <td>...</td>\n",
       "      <td>6.53</td>\n",
       "      <td>71.0</td>\n",
       "      <td>39.8</td>\n",
       "      <td>57.348340</td>\n",
       "      <td>125525.0</td>\n",
       "      <td>1.2</td>\n",
       "      <td>1.3</td>\n",
       "      <td>0.427</td>\n",
       "      <td>10.0</td>\n",
       "      <td>44.8</td>\n",
       "    </tr>\n",
       "    <tr>\n",
       "      <th>2936</th>\n",
       "      <td>Zimbabwe</td>\n",
       "      <td>2001</td>\n",
       "      <td>Developing</td>\n",
       "      <td>686.0</td>\n",
       "      <td>25</td>\n",
       "      <td>1.72</td>\n",
       "      <td>0.000000</td>\n",
       "      <td>76.0</td>\n",
       "      <td>529</td>\n",
       "      <td>25.9</td>\n",
       "      <td>...</td>\n",
       "      <td>6.16</td>\n",
       "      <td>75.0</td>\n",
       "      <td>42.1</td>\n",
       "      <td>548.587312</td>\n",
       "      <td>12366165.0</td>\n",
       "      <td>1.6</td>\n",
       "      <td>1.7</td>\n",
       "      <td>0.427</td>\n",
       "      <td>9.8</td>\n",
       "      <td>45.3</td>\n",
       "    </tr>\n",
       "    <tr>\n",
       "      <th>2937</th>\n",
       "      <td>Zimbabwe</td>\n",
       "      <td>2000</td>\n",
       "      <td>Developing</td>\n",
       "      <td>665.0</td>\n",
       "      <td>24</td>\n",
       "      <td>1.68</td>\n",
       "      <td>0.000000</td>\n",
       "      <td>79.0</td>\n",
       "      <td>1483</td>\n",
       "      <td>25.5</td>\n",
       "      <td>...</td>\n",
       "      <td>7.10</td>\n",
       "      <td>78.0</td>\n",
       "      <td>43.5</td>\n",
       "      <td>547.358878</td>\n",
       "      <td>12222251.0</td>\n",
       "      <td>11.0</td>\n",
       "      <td>11.2</td>\n",
       "      <td>0.434</td>\n",
       "      <td>9.8</td>\n",
       "      <td>46.0</td>\n",
       "    </tr>\n",
       "  </tbody>\n",
       "</table>\n",
       "<p>2938 rows × 22 columns</p>\n",
       "</div>\n",
       "      <button class=\"colab-df-convert\" onclick=\"convertToInteractive('df-3d2b1929-dedc-489c-a0fe-20ebff3e5b4c')\"\n",
       "              title=\"Convert this dataframe to an interactive table.\"\n",
       "              style=\"display:none;\">\n",
       "        \n",
       "  <svg xmlns=\"http://www.w3.org/2000/svg\" height=\"24px\"viewBox=\"0 0 24 24\"\n",
       "       width=\"24px\">\n",
       "    <path d=\"M0 0h24v24H0V0z\" fill=\"none\"/>\n",
       "    <path d=\"M18.56 5.44l.94 2.06.94-2.06 2.06-.94-2.06-.94-.94-2.06-.94 2.06-2.06.94zm-11 1L8.5 8.5l.94-2.06 2.06-.94-2.06-.94L8.5 2.5l-.94 2.06-2.06.94zm10 10l.94 2.06.94-2.06 2.06-.94-2.06-.94-.94-2.06-.94 2.06-2.06.94z\"/><path d=\"M17.41 7.96l-1.37-1.37c-.4-.4-.92-.59-1.43-.59-.52 0-1.04.2-1.43.59L10.3 9.45l-7.72 7.72c-.78.78-.78 2.05 0 2.83L4 21.41c.39.39.9.59 1.41.59.51 0 1.02-.2 1.41-.59l7.78-7.78 2.81-2.81c.8-.78.8-2.07 0-2.86zM5.41 20L4 18.59l7.72-7.72 1.47 1.35L5.41 20z\"/>\n",
       "  </svg>\n",
       "      </button>\n",
       "      \n",
       "  <style>\n",
       "    .colab-df-container {\n",
       "      display:flex;\n",
       "      flex-wrap:wrap;\n",
       "      gap: 12px;\n",
       "    }\n",
       "\n",
       "    .colab-df-convert {\n",
       "      background-color: #E8F0FE;\n",
       "      border: none;\n",
       "      border-radius: 50%;\n",
       "      cursor: pointer;\n",
       "      display: none;\n",
       "      fill: #1967D2;\n",
       "      height: 32px;\n",
       "      padding: 0 0 0 0;\n",
       "      width: 32px;\n",
       "    }\n",
       "\n",
       "    .colab-df-convert:hover {\n",
       "      background-color: #E2EBFA;\n",
       "      box-shadow: 0px 1px 2px rgba(60, 64, 67, 0.3), 0px 1px 3px 1px rgba(60, 64, 67, 0.15);\n",
       "      fill: #174EA6;\n",
       "    }\n",
       "\n",
       "    [theme=dark] .colab-df-convert {\n",
       "      background-color: #3B4455;\n",
       "      fill: #D2E3FC;\n",
       "    }\n",
       "\n",
       "    [theme=dark] .colab-df-convert:hover {\n",
       "      background-color: #434B5C;\n",
       "      box-shadow: 0px 1px 3px 1px rgba(0, 0, 0, 0.15);\n",
       "      filter: drop-shadow(0px 1px 2px rgba(0, 0, 0, 0.3));\n",
       "      fill: #FFFFFF;\n",
       "    }\n",
       "  </style>\n",
       "\n",
       "      <script>\n",
       "        const buttonEl =\n",
       "          document.querySelector('#df-3d2b1929-dedc-489c-a0fe-20ebff3e5b4c button.colab-df-convert');\n",
       "        buttonEl.style.display =\n",
       "          google.colab.kernel.accessAllowed ? 'block' : 'none';\n",
       "\n",
       "        async function convertToInteractive(key) {\n",
       "          const element = document.querySelector('#df-3d2b1929-dedc-489c-a0fe-20ebff3e5b4c');\n",
       "          const dataTable =\n",
       "            await google.colab.kernel.invokeFunction('convertToInteractive',\n",
       "                                                     [key], {});\n",
       "          if (!dataTable) return;\n",
       "\n",
       "          const docLinkHtml = 'Like what you see? Visit the ' +\n",
       "            '<a target=\"_blank\" href=https://colab.research.google.com/notebooks/data_table.ipynb>data table notebook</a>'\n",
       "            + ' to learn more about interactive tables.';\n",
       "          element.innerHTML = '';\n",
       "          dataTable['output_type'] = 'display_data';\n",
       "          await google.colab.output.renderOutput(dataTable, element);\n",
       "          const docLink = document.createElement('div');\n",
       "          docLink.innerHTML = docLinkHtml;\n",
       "          element.appendChild(docLink);\n",
       "        }\n",
       "      </script>\n",
       "    </div>\n",
       "  </div>\n",
       "  "
      ],
      "text/plain": [
       "          Country  Year      Status  Adult Mortality  infant deaths  Alcohol  \\\n",
       "0     Afghanistan  2015  Developing            263.0             62     0.01   \n",
       "1     Afghanistan  2014  Developing            271.0             64     0.01   \n",
       "2     Afghanistan  2013  Developing            268.0             66     0.01   \n",
       "3     Afghanistan  2012  Developing            272.0             69     0.01   \n",
       "4     Afghanistan  2011  Developing            275.0             71     0.01   \n",
       "...           ...   ...         ...              ...            ...      ...   \n",
       "2933     Zimbabwe  2004  Developing            723.0             27     4.36   \n",
       "2934     Zimbabwe  2003  Developing            715.0             26     4.06   \n",
       "2935     Zimbabwe  2002  Developing             73.0             25     4.43   \n",
       "2936     Zimbabwe  2001  Developing            686.0             25     1.72   \n",
       "2937     Zimbabwe  2000  Developing            665.0             24     1.68   \n",
       "\n",
       "      percentage expenditure  Hepatitis B  Measles    BMI   ...  \\\n",
       "0                  71.279624         65.0      1154   19.1  ...   \n",
       "1                  73.523582         62.0       492   18.6  ...   \n",
       "2                  73.219243         64.0       430   18.1  ...   \n",
       "3                  78.184215         67.0      2787   17.6  ...   \n",
       "4                   7.097109         68.0      3013   17.2  ...   \n",
       "...                      ...          ...       ...    ...  ...   \n",
       "2933                0.000000         68.0        31   27.1  ...   \n",
       "2934                0.000000          7.0       998   26.7  ...   \n",
       "2935                0.000000         73.0       304   26.3  ...   \n",
       "2936                0.000000         76.0       529   25.9  ...   \n",
       "2937                0.000000         79.0      1483   25.5  ...   \n",
       "\n",
       "      Total expenditure  Diphtheria    HIV/AIDS         GDP  Population  \\\n",
       "0                  8.16         65.0        0.1  584.259210  33736494.0   \n",
       "1                  8.18         62.0        0.1  612.696514    327582.0   \n",
       "2                  8.13         64.0        0.1  631.744976  31731688.0   \n",
       "3                  8.52         67.0        0.1  669.959000   3696958.0   \n",
       "4                  7.87         68.0        0.1   63.537231   2978599.0   \n",
       "...                 ...          ...        ...         ...         ...   \n",
       "2933               7.13         65.0       33.6  454.366654  12777511.0   \n",
       "2934               6.52         68.0       36.7  453.351155  12633897.0   \n",
       "2935               6.53         71.0       39.8   57.348340    125525.0   \n",
       "2936               6.16         75.0       42.1  548.587312  12366165.0   \n",
       "2937               7.10         78.0       43.5  547.358878  12222251.0   \n",
       "\n",
       "       thinness  1-19 years   thinness 5-9 years  \\\n",
       "0                      17.2                 17.3   \n",
       "1                      17.5                 17.5   \n",
       "2                      17.7                 17.7   \n",
       "3                      17.9                 18.0   \n",
       "4                      18.2                 18.2   \n",
       "...                     ...                  ...   \n",
       "2933                    9.4                  9.4   \n",
       "2934                    9.8                  9.9   \n",
       "2935                    1.2                  1.3   \n",
       "2936                    1.6                  1.7   \n",
       "2937                   11.0                 11.2   \n",
       "\n",
       "      Income composition of resources  Schooling  Life expectancy   \n",
       "0                               0.479       10.1              65.0  \n",
       "1                               0.476       10.0              59.9  \n",
       "2                               0.470        9.9              59.9  \n",
       "3                               0.463        9.8              59.5  \n",
       "4                               0.454        9.5              59.2  \n",
       "...                               ...        ...               ...  \n",
       "2933                            0.407        9.2              44.3  \n",
       "2934                            0.418        9.5              44.5  \n",
       "2935                            0.427       10.0              44.8  \n",
       "2936                            0.427        9.8              45.3  \n",
       "2937                            0.434        9.8              46.0  \n",
       "\n",
       "[2938 rows x 22 columns]"
      ]
     },
     "execution_count": 21,
     "metadata": {},
     "output_type": "execute_result"
    }
   ],
   "source": [
    "df = pd.read_csv(\"Life Expectancy Data.csv\")\n",
    "df"
   ]
  },
  {
   "cell_type": "markdown",
   "metadata": {
    "id": "-boFUgc2iVGA"
   },
   "source": [
    "**Step-3:** Drop missing values from DataFrame."
   ]
  },
  {
   "cell_type": "code",
   "execution_count": 22,
   "metadata": {
    "executionInfo": {
     "elapsed": 10,
     "status": "ok",
     "timestamp": 1650992630064,
     "user": {
      "displayName": "Abhishek Dodiya",
      "userId": "05457856945198063411"
     },
     "user_tz": -330
    },
    "id": "XmxX0Oh8iVGB"
   },
   "outputs": [],
   "source": [
    "data = df.dropna()"
   ]
  },
  {
   "cell_type": "markdown",
   "metadata": {
    "id": "so0_msfqiVGB"
   },
   "source": [
    "<b> hypothesis statement</b><br>\n",
    "<b>Null Hypothesis (H0):</b> average life expetancy  of the afghanistan is  same as  average Life expectancy of world<br>\n",
    "<b>Alternative Hypothesis (H1):</b> average life expetancy  of the  afghanistan is  not same as  average Life expectancy of world \n",
    "\n",
    "<b>2. Collecting data</b><br>\n",
    "A sample data of data collected where country is afghanistan\n"
   ]
  },
  {
   "cell_type": "markdown",
   "metadata": {
    "id": "MilNSrH2iVGC"
   },
   "source": [
    "**Step-4:** Extract the average life expectancy of world."
   ]
  },
  {
   "cell_type": "code",
   "execution_count": 23,
   "metadata": {
    "colab": {
     "base_uri": "https://localhost:8080/"
    },
    "executionInfo": {
     "elapsed": 22,
     "status": "ok",
     "timestamp": 1650992630797,
     "user": {
      "displayName": "Abhishek Dodiya",
      "userId": "05457856945198063411"
     },
     "user_tz": -330
    },
    "id": "13r-OIpYiVGC",
    "outputId": "20e65f18-b7ad-4730-e06c-35f6110894eb"
   },
   "outputs": [
    {
     "data": {
      "text/plain": [
       "69.30230442692543"
      ]
     },
     "execution_count": 23,
     "metadata": {},
     "output_type": "execute_result"
    }
   ],
   "source": [
    "avg_world = data[\"Life expectancy \"].mean()\n",
    "avg_world"
   ]
  },
  {
   "cell_type": "markdown",
   "metadata": {
    "id": "DDXZHJjDiVGD"
   },
   "source": [
    "**Step-5:** Extract data of afghanistan in new DataFrame for sample generation."
   ]
  },
  {
   "cell_type": "code",
   "execution_count": 24,
   "metadata": {
    "colab": {
     "base_uri": "https://localhost:8080/",
     "height": 351
    },
    "executionInfo": {
     "elapsed": 18,
     "status": "ok",
     "timestamp": 1650992630798,
     "user": {
      "displayName": "Abhishek Dodiya",
      "userId": "05457856945198063411"
     },
     "user_tz": -330
    },
    "id": "YkWSG8EmiVGD",
    "outputId": "02143c47-a59d-4670-f528-f246a3f52267"
   },
   "outputs": [
    {
     "data": {
      "text/html": [
       "\n",
       "  <div id=\"df-a0dbdae7-d6f2-4992-9ac3-5976ecb253d7\">\n",
       "    <div class=\"colab-df-container\">\n",
       "      <div>\n",
       "<style scoped>\n",
       "    .dataframe tbody tr th:only-of-type {\n",
       "        vertical-align: middle;\n",
       "    }\n",
       "\n",
       "    .dataframe tbody tr th {\n",
       "        vertical-align: top;\n",
       "    }\n",
       "\n",
       "    .dataframe thead th {\n",
       "        text-align: right;\n",
       "    }\n",
       "</style>\n",
       "<table border=\"1\" class=\"dataframe\">\n",
       "  <thead>\n",
       "    <tr style=\"text-align: right;\">\n",
       "      <th></th>\n",
       "      <th>Country</th>\n",
       "      <th>Year</th>\n",
       "      <th>Status</th>\n",
       "      <th>Adult Mortality</th>\n",
       "      <th>infant deaths</th>\n",
       "      <th>Alcohol</th>\n",
       "      <th>percentage expenditure</th>\n",
       "      <th>Hepatitis B</th>\n",
       "      <th>Measles</th>\n",
       "      <th>BMI</th>\n",
       "      <th>...</th>\n",
       "      <th>Total expenditure</th>\n",
       "      <th>Diphtheria</th>\n",
       "      <th>HIV/AIDS</th>\n",
       "      <th>GDP</th>\n",
       "      <th>Population</th>\n",
       "      <th>thinness  1-19 years</th>\n",
       "      <th>thinness 5-9 years</th>\n",
       "      <th>Income composition of resources</th>\n",
       "      <th>Schooling</th>\n",
       "      <th>Life expectancy</th>\n",
       "    </tr>\n",
       "  </thead>\n",
       "  <tbody>\n",
       "    <tr>\n",
       "      <th>3</th>\n",
       "      <td>Afghanistan</td>\n",
       "      <td>2012</td>\n",
       "      <td>Developing</td>\n",
       "      <td>272.0</td>\n",
       "      <td>69</td>\n",
       "      <td>0.01</td>\n",
       "      <td>78.184215</td>\n",
       "      <td>67.0</td>\n",
       "      <td>2787</td>\n",
       "      <td>17.6</td>\n",
       "      <td>...</td>\n",
       "      <td>8.52</td>\n",
       "      <td>67.0</td>\n",
       "      <td>0.1</td>\n",
       "      <td>669.959000</td>\n",
       "      <td>3696958.0</td>\n",
       "      <td>17.9</td>\n",
       "      <td>18.0</td>\n",
       "      <td>0.463</td>\n",
       "      <td>9.8</td>\n",
       "      <td>59.5</td>\n",
       "    </tr>\n",
       "    <tr>\n",
       "      <th>13</th>\n",
       "      <td>Afghanistan</td>\n",
       "      <td>2002</td>\n",
       "      <td>Developing</td>\n",
       "      <td>3.0</td>\n",
       "      <td>88</td>\n",
       "      <td>0.01</td>\n",
       "      <td>16.887351</td>\n",
       "      <td>64.0</td>\n",
       "      <td>2486</td>\n",
       "      <td>13.0</td>\n",
       "      <td>...</td>\n",
       "      <td>7.76</td>\n",
       "      <td>36.0</td>\n",
       "      <td>0.1</td>\n",
       "      <td>187.845950</td>\n",
       "      <td>21979923.0</td>\n",
       "      <td>19.9</td>\n",
       "      <td>2.2</td>\n",
       "      <td>0.341</td>\n",
       "      <td>6.2</td>\n",
       "      <td>56.2</td>\n",
       "    </tr>\n",
       "    <tr>\n",
       "      <th>7</th>\n",
       "      <td>Afghanistan</td>\n",
       "      <td>2008</td>\n",
       "      <td>Developing</td>\n",
       "      <td>287.0</td>\n",
       "      <td>80</td>\n",
       "      <td>0.03</td>\n",
       "      <td>25.873925</td>\n",
       "      <td>64.0</td>\n",
       "      <td>1599</td>\n",
       "      <td>15.7</td>\n",
       "      <td>...</td>\n",
       "      <td>8.33</td>\n",
       "      <td>64.0</td>\n",
       "      <td>0.1</td>\n",
       "      <td>373.361116</td>\n",
       "      <td>2729431.0</td>\n",
       "      <td>18.8</td>\n",
       "      <td>18.9</td>\n",
       "      <td>0.433</td>\n",
       "      <td>8.7</td>\n",
       "      <td>58.1</td>\n",
       "    </tr>\n",
       "    <tr>\n",
       "      <th>2</th>\n",
       "      <td>Afghanistan</td>\n",
       "      <td>2013</td>\n",
       "      <td>Developing</td>\n",
       "      <td>268.0</td>\n",
       "      <td>66</td>\n",
       "      <td>0.01</td>\n",
       "      <td>73.219243</td>\n",
       "      <td>64.0</td>\n",
       "      <td>430</td>\n",
       "      <td>18.1</td>\n",
       "      <td>...</td>\n",
       "      <td>8.13</td>\n",
       "      <td>64.0</td>\n",
       "      <td>0.1</td>\n",
       "      <td>631.744976</td>\n",
       "      <td>31731688.0</td>\n",
       "      <td>17.7</td>\n",
       "      <td>17.7</td>\n",
       "      <td>0.470</td>\n",
       "      <td>9.9</td>\n",
       "      <td>59.9</td>\n",
       "    </tr>\n",
       "    <tr>\n",
       "      <th>6</th>\n",
       "      <td>Afghanistan</td>\n",
       "      <td>2009</td>\n",
       "      <td>Developing</td>\n",
       "      <td>281.0</td>\n",
       "      <td>77</td>\n",
       "      <td>0.01</td>\n",
       "      <td>56.762217</td>\n",
       "      <td>63.0</td>\n",
       "      <td>2861</td>\n",
       "      <td>16.2</td>\n",
       "      <td>...</td>\n",
       "      <td>9.42</td>\n",
       "      <td>63.0</td>\n",
       "      <td>0.1</td>\n",
       "      <td>445.893298</td>\n",
       "      <td>284331.0</td>\n",
       "      <td>18.6</td>\n",
       "      <td>18.7</td>\n",
       "      <td>0.434</td>\n",
       "      <td>8.9</td>\n",
       "      <td>58.6</td>\n",
       "    </tr>\n",
       "  </tbody>\n",
       "</table>\n",
       "<p>5 rows × 22 columns</p>\n",
       "</div>\n",
       "      <button class=\"colab-df-convert\" onclick=\"convertToInteractive('df-a0dbdae7-d6f2-4992-9ac3-5976ecb253d7')\"\n",
       "              title=\"Convert this dataframe to an interactive table.\"\n",
       "              style=\"display:none;\">\n",
       "        \n",
       "  <svg xmlns=\"http://www.w3.org/2000/svg\" height=\"24px\"viewBox=\"0 0 24 24\"\n",
       "       width=\"24px\">\n",
       "    <path d=\"M0 0h24v24H0V0z\" fill=\"none\"/>\n",
       "    <path d=\"M18.56 5.44l.94 2.06.94-2.06 2.06-.94-2.06-.94-.94-2.06-.94 2.06-2.06.94zm-11 1L8.5 8.5l.94-2.06 2.06-.94-2.06-.94L8.5 2.5l-.94 2.06-2.06.94zm10 10l.94 2.06.94-2.06 2.06-.94-2.06-.94-.94-2.06-.94 2.06-2.06.94z\"/><path d=\"M17.41 7.96l-1.37-1.37c-.4-.4-.92-.59-1.43-.59-.52 0-1.04.2-1.43.59L10.3 9.45l-7.72 7.72c-.78.78-.78 2.05 0 2.83L4 21.41c.39.39.9.59 1.41.59.51 0 1.02-.2 1.41-.59l7.78-7.78 2.81-2.81c.8-.78.8-2.07 0-2.86zM5.41 20L4 18.59l7.72-7.72 1.47 1.35L5.41 20z\"/>\n",
       "  </svg>\n",
       "      </button>\n",
       "      \n",
       "  <style>\n",
       "    .colab-df-container {\n",
       "      display:flex;\n",
       "      flex-wrap:wrap;\n",
       "      gap: 12px;\n",
       "    }\n",
       "\n",
       "    .colab-df-convert {\n",
       "      background-color: #E8F0FE;\n",
       "      border: none;\n",
       "      border-radius: 50%;\n",
       "      cursor: pointer;\n",
       "      display: none;\n",
       "      fill: #1967D2;\n",
       "      height: 32px;\n",
       "      padding: 0 0 0 0;\n",
       "      width: 32px;\n",
       "    }\n",
       "\n",
       "    .colab-df-convert:hover {\n",
       "      background-color: #E2EBFA;\n",
       "      box-shadow: 0px 1px 2px rgba(60, 64, 67, 0.3), 0px 1px 3px 1px rgba(60, 64, 67, 0.15);\n",
       "      fill: #174EA6;\n",
       "    }\n",
       "\n",
       "    [theme=dark] .colab-df-convert {\n",
       "      background-color: #3B4455;\n",
       "      fill: #D2E3FC;\n",
       "    }\n",
       "\n",
       "    [theme=dark] .colab-df-convert:hover {\n",
       "      background-color: #434B5C;\n",
       "      box-shadow: 0px 1px 3px 1px rgba(0, 0, 0, 0.15);\n",
       "      filter: drop-shadow(0px 1px 2px rgba(0, 0, 0, 0.3));\n",
       "      fill: #FFFFFF;\n",
       "    }\n",
       "  </style>\n",
       "\n",
       "      <script>\n",
       "        const buttonEl =\n",
       "          document.querySelector('#df-a0dbdae7-d6f2-4992-9ac3-5976ecb253d7 button.colab-df-convert');\n",
       "        buttonEl.style.display =\n",
       "          google.colab.kernel.accessAllowed ? 'block' : 'none';\n",
       "\n",
       "        async function convertToInteractive(key) {\n",
       "          const element = document.querySelector('#df-a0dbdae7-d6f2-4992-9ac3-5976ecb253d7');\n",
       "          const dataTable =\n",
       "            await google.colab.kernel.invokeFunction('convertToInteractive',\n",
       "                                                     [key], {});\n",
       "          if (!dataTable) return;\n",
       "\n",
       "          const docLinkHtml = 'Like what you see? Visit the ' +\n",
       "            '<a target=\"_blank\" href=https://colab.research.google.com/notebooks/data_table.ipynb>data table notebook</a>'\n",
       "            + ' to learn more about interactive tables.';\n",
       "          element.innerHTML = '';\n",
       "          dataTable['output_type'] = 'display_data';\n",
       "          await google.colab.output.renderOutput(dataTable, element);\n",
       "          const docLink = document.createElement('div');\n",
       "          docLink.innerHTML = docLinkHtml;\n",
       "          element.appendChild(docLink);\n",
       "        }\n",
       "      </script>\n",
       "    </div>\n",
       "  </div>\n",
       "  "
      ],
      "text/plain": [
       "        Country  Year      Status  Adult Mortality  infant deaths  Alcohol  \\\n",
       "3   Afghanistan  2012  Developing            272.0             69     0.01   \n",
       "13  Afghanistan  2002  Developing              3.0             88     0.01   \n",
       "7   Afghanistan  2008  Developing            287.0             80     0.03   \n",
       "2   Afghanistan  2013  Developing            268.0             66     0.01   \n",
       "6   Afghanistan  2009  Developing            281.0             77     0.01   \n",
       "\n",
       "    percentage expenditure  Hepatitis B  Measles    BMI   ...  \\\n",
       "3                78.184215         67.0      2787   17.6  ...   \n",
       "13               16.887351         64.0      2486   13.0  ...   \n",
       "7                25.873925         64.0      1599   15.7  ...   \n",
       "2                73.219243         64.0       430   18.1  ...   \n",
       "6                56.762217         63.0      2861   16.2  ...   \n",
       "\n",
       "    Total expenditure  Diphtheria    HIV/AIDS         GDP  Population  \\\n",
       "3                8.52         67.0        0.1  669.959000   3696958.0   \n",
       "13               7.76         36.0        0.1  187.845950  21979923.0   \n",
       "7                8.33         64.0        0.1  373.361116   2729431.0   \n",
       "2                8.13         64.0        0.1  631.744976  31731688.0   \n",
       "6                9.42         63.0        0.1  445.893298    284331.0   \n",
       "\n",
       "     thinness  1-19 years   thinness 5-9 years  \\\n",
       "3                    17.9                 18.0   \n",
       "13                   19.9                  2.2   \n",
       "7                    18.8                 18.9   \n",
       "2                    17.7                 17.7   \n",
       "6                    18.6                 18.7   \n",
       "\n",
       "    Income composition of resources  Schooling  Life expectancy   \n",
       "3                             0.463        9.8              59.5  \n",
       "13                            0.341        6.2              56.2  \n",
       "7                             0.433        8.7              58.1  \n",
       "2                             0.470        9.9              59.9  \n",
       "6                             0.434        8.9              58.6  \n",
       "\n",
       "[5 rows x 22 columns]"
      ]
     },
     "execution_count": 24,
     "metadata": {},
     "output_type": "execute_result"
    }
   ],
   "source": [
    "# afghanistan has  more Life expectancy than average world.\n",
    "#Q. Find whether the average life expetancy  of the afghanistan is more than average of world or not?\n",
    "age_afghani = data[data.Country == \"Afghanistan\"].sample(5, random_state = 1)\n",
    "age_afghani"
   ]
  },
  {
   "cell_type": "code",
   "execution_count": 25,
   "metadata": {
    "colab": {
     "base_uri": "https://localhost:8080/"
    },
    "executionInfo": {
     "elapsed": 15,
     "status": "ok",
     "timestamp": 1650992630799,
     "user": {
      "displayName": "Abhishek Dodiya",
      "userId": "05457856945198063411"
     },
     "user_tz": -330
    },
    "id": "avqAKmEDiVGE",
    "outputId": "7ce10517-7b4d-4673-eb6b-0d13a279cdde"
   },
   "outputs": [
    {
     "data": {
      "text/plain": [
       "58.46"
      ]
     },
     "execution_count": 25,
     "metadata": {},
     "output_type": "execute_result"
    }
   ],
   "source": [
    "#average age of sample\n",
    "age_afghani[\"Life expectancy \"].mean()"
   ]
  },
  {
   "cell_type": "markdown",
   "metadata": {
    "id": "GVJY4fDiiVGE"
   },
   "source": [
    "**Step-6:** Determine the significance level."
   ]
  },
  {
   "cell_type": "markdown",
   "metadata": {
    "id": "uto067mkiVGF"
   },
   "source": [
    "We have obtained the data required for the hypothesis test\n",
    "<br>\n",
    "Let us consider a significance level of 0.05, it means we are 95% confident about the hypothesis test"
   ]
  },
  {
   "cell_type": "code",
   "execution_count": 26,
   "metadata": {
    "executionInfo": {
     "elapsed": 8,
     "status": "ok",
     "timestamp": 1650992631696,
     "user": {
      "displayName": "Abhishek Dodiya",
      "userId": "05457856945198063411"
     },
     "user_tz": -330
    },
    "id": "Polb5u1diVGF"
   },
   "outputs": [],
   "source": [
    "# determining significance level\n",
    "\n",
    "alpha = 0.05"
   ]
  },
  {
   "cell_type": "markdown",
   "metadata": {
    "id": "-S6TL1kHiVGF"
   },
   "source": [
    "<b>Statitical Test</b><br>\n",
    "We can perform the t – test as we don’t know the population standard deviation\n",
    "\n",
    "Find the critical point using Percent Point Function(PPF) or by using t-table <br>\n",
    "We need significance level and degrees of freedom to find the critical value<br>\n",
    "\n",
    "alpha = 0.05<br>\n",
    "DOF = n-1 = 5-1 = 4"
   ]
  },
  {
   "cell_type": "markdown",
   "metadata": {
    "id": "Lh4PKNq6iVGG"
   },
   "source": [
    "**Step-7:** Importing Libraries and calculatecritical value."
   ]
  },
  {
   "cell_type": "code",
   "execution_count": 27,
   "metadata": {
    "colab": {
     "base_uri": "https://localhost:8080/"
    },
    "executionInfo": {
     "elapsed": 26,
     "status": "ok",
     "timestamp": 1650992632435,
     "user": {
      "displayName": "Abhishek Dodiya",
      "userId": "05457856945198063411"
     },
     "user_tz": -330
    },
    "id": "2XeCKiN6iVGG",
    "outputId": "060e2a1c-5c67-4307-8a97-a67e9cd8eecf"
   },
   "outputs": [
    {
     "name": "stdout",
     "output_type": "stream",
     "text": [
      "The critical value of 95% confidence level and with 4 degrees of freedom: 2.7764451051977987\n"
     ]
    }
   ],
   "source": [
    "# Student t-distribution Percent Point Function\n",
    "from scipy.stats import t\n",
    "\n",
    "# define probability\n",
    "p = 1-alpha/2\n",
    "df1 = 4\n",
    "\n",
    "# retrieve value <= probability\n",
    "critical_value = t.ppf(p, df1)\n",
    "print(\"The critical value of 95% confidence level and with 4 degrees of freedom:\",critical_value)"
   ]
  },
  {
   "cell_type": "markdown",
   "metadata": {
    "id": "EZBrGgG3iVGG"
   },
   "source": [
    "**Step-8:** calculate the T-statistic value<br>"
   ]
  },
  {
   "cell_type": "code",
   "execution_count": 28,
   "metadata": {
    "colab": {
     "base_uri": "https://localhost:8080/"
    },
    "executionInfo": {
     "elapsed": 21,
     "status": "ok",
     "timestamp": 1650992632437,
     "user": {
      "displayName": "Abhishek Dodiya",
      "userId": "05457856945198063411"
     },
     "user_tz": -330
    },
    "id": "FaVIO6UgiVGH",
    "outputId": "04c2d61a-d172-4688-c101-e3479f9cc4b3"
   },
   "outputs": [
    {
     "name": "stdout",
     "output_type": "stream",
     "text": [
      "The t-statistic value is -16.718101704395004\n",
      "The p-value is 7.500923702799806e-05\n"
     ]
    }
   ],
   "source": [
    "from scipy.stats import ttest_1samp\n",
    "\n",
    "# Calculating t-statistic and p-value\n",
    "t_statistic, p_value = ttest_1samp(age_afghani[\"Life expectancy \"], avg_world)\n",
    "print('The t-statistic value is',t_statistic)\n",
    "print('The p-value is',p_value)"
   ]
  },
  {
   "cell_type": "code",
   "execution_count": 29,
   "metadata": {
    "colab": {
     "base_uri": "https://localhost:8080/",
     "height": 35
    },
    "executionInfo": {
     "elapsed": 15,
     "status": "ok",
     "timestamp": 1650992632438,
     "user": {
      "displayName": "Abhishek Dodiya",
      "userId": "05457856945198063411"
     },
     "user_tz": -330
    },
    "id": "c7jRF4lXiVGH",
    "outputId": "004e4403-7563-4596-ae1a-e4e60c63c084"
   },
   "outputs": [
    {
     "data": {
      "application/vnd.google.colaboratory.intrinsic+json": {
       "type": "string"
      },
      "text/plain": [
       "'0.00007501'"
      ]
     },
     "execution_count": 29,
     "metadata": {},
     "output_type": "execute_result"
    }
   ],
   "source": [
    "p_value\n",
    "# and now with 'rounding'\n",
    "\"{:.8f}\".format(p_value)"
   ]
  },
  {
   "cell_type": "markdown",
   "metadata": {
    "id": "U3AX1CdtiVGH"
   },
   "source": [
    "**Step-9:** Interpret the Result based on P_value or critical value and conclude final statement."
   ]
  },
  {
   "cell_type": "code",
   "execution_count": 30,
   "metadata": {
    "colab": {
     "base_uri": "https://localhost:8080/"
    },
    "executionInfo": {
     "elapsed": 14,
     "status": "ok",
     "timestamp": 1650992632875,
     "user": {
      "displayName": "Abhishek Dodiya",
      "userId": "05457856945198063411"
     },
     "user_tz": -330
    },
    "id": "h-nIME_diVGI",
    "outputId": "b76520c1-2aba-4f71-f1aa-5e1c8113355b"
   },
   "outputs": [
    {
     "name": "stdout",
     "output_type": "stream",
     "text": [
      "We  reject the null hypothesis.\n",
      "The average Life expectancy of afghanistan is not same as  average Life expectancy of world.\n"
     ]
    }
   ],
   "source": [
    "# interpreting the result\n",
    "\n",
    "#if  -(critical_value) < t_statistic > +(critical_value):\n",
    "if p_value < alpha: #indicates that p value is less than 0.05 then we should reject null hypothesis.\n",
    "    print('We  reject the null hypothesis.\\nThe average Life expectancy of afghanistan is not same as  average Life expectancy of world.')\n",
    "else:\n",
    "    print('We fail to reject  the null hypothesis.\\nThe average Life expectancy of afghanistan is  same as average Life expectancy of world.')"
   ]
  },
  {
   "cell_type": "code",
   "execution_count": 30,
   "metadata": {
    "executionInfo": {
     "elapsed": 12,
     "status": "ok",
     "timestamp": 1650992632878,
     "user": {
      "displayName": "Abhishek Dodiya",
      "userId": "05457856945198063411"
     },
     "user_tz": -330
    },
    "id": "d9xhfdG8iVGI"
   },
   "outputs": [],
   "source": []
  }
 ],
 "metadata": {
  "colab": {
   "collapsed_sections": [],
   "name": "DS_D29_DIY_Solution_V1_0.ipynb",
   "provenance": []
  },
  "kernelspec": {
   "display_name": "Python 3 (ipykernel)",
   "language": "python",
   "name": "python3"
  },
  "language_info": {
   "codemirror_mode": {
    "name": "ipython",
    "version": 3
   },
   "file_extension": ".py",
   "mimetype": "text/x-python",
   "name": "python",
   "nbconvert_exporter": "python",
   "pygments_lexer": "ipython3",
   "version": "3.10.9"
  }
 },
 "nbformat": 4,
 "nbformat_minor": 1
}
