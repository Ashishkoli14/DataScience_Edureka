{
 "cells": [
  {
   "cell_type": "markdown",
   "metadata": {
    "id": "CyL8675ZYMxE"
   },
   "source": [
    "##Day 10 - DIY Solution"
   ]
  },
  {
   "cell_type": "markdown",
   "metadata": {
    "id": "l-ZbI8jQYRCK"
   },
   "source": [
    "**Q1. Problem Statement: Creating Pandas Series**\n",
    " \n",
    "Write a Python program to create two lists - one for countries and another for country codes. Create a pandas series from these two lists with the codes as index. Print the length, shape and size of the series too.\n",
    "\n",
    "\n"
   ]
  },
  {
   "cell_type": "code",
   "execution_count": null,
   "metadata": {
    "colab": {
     "base_uri": "https://localhost:8080/"
    },
    "id": "g5xZbzG8YG7g",
    "outputId": "b8b08f7c-7c84-4bf1-fe44-d3529f88e35d"
   },
   "outputs": [
    {
     "name": "stdout",
     "output_type": "stream",
     "text": [
      "The series is: \n",
      "IND        India\n",
      "CAN       Canada\n",
      "AUS    Australia\n",
      "JAP        Japan\n",
      "GER      Germany\n",
      "FRA       France\n",
      "dtype: object\n",
      "Length of the series is:  6\n",
      "Shape of the series is:  (6,)\n",
      "Size of the series is:  6\n"
     ]
    }
   ],
   "source": [
    "#Creating Series with a list \n",
    "import pandas as pd\n",
    " \n",
    "values = [\"India\", \"Canada\", \"Australia\",\n",
    "          \"Japan\", \"Germany\", \"France\"]\n",
    " \n",
    "code = [\"IND\", \"CAN\", \"AUS\", \"JAP\", \"GER\", \"FRA\"]\n",
    " \n",
    "ser1 = pd.Series(values, index=code)\n",
    "\n",
    "print(\"The series is: \")\n",
    "print(ser1)\n",
    "\n",
    "print(\"Length of the series is: \", len(ser1))\n",
    " \n",
    "print(\"Shape of the series is: \", ser1.shape)\n",
    " \n",
    "print(\"Size of the series is: \", ser1.size)"
   ]
  },
  {
   "cell_type": "markdown",
   "metadata": {
    "id": "sk_9FBxtcQE2"
   },
   "source": [
    "**Q2. Problem Statement: Creating Pandas DataFrame**\n",
    "\n",
    "Write a Python program that reads Name, Age, and Roll no., as input from the user and stores it into a DataFrame and print the DataFrame that you have created.\n"
   ]
  },
  {
   "cell_type": "code",
   "execution_count": null,
   "metadata": {
    "colab": {
     "base_uri": "https://localhost:8080/"
    },
    "id": "CnMmRiAYcSaS",
    "outputId": "8ce537c6-fd73-4c8e-8fd4-1325a6a1f3df"
   },
   "outputs": [
    {
     "name": "stdout",
     "output_type": "stream",
     "text": [
      "Enter the number of Student records you want to store: 2\n",
      "Enter the Name of the student: Shubham\n",
      "Enter the Age of the student in years: 25\n",
      "Enter the Roll no. of the student 36\n",
      "Enter the Name of the student: Harshit\n",
      "Enter the Age of the student in years: 25\n",
      "Enter the Roll no. of the student 43\n",
      "The DataFrame is-____________ \n",
      "      Name Age Roll No.\n",
      "0  Shubham  25       36\n",
      "1  Harshit  25       43\n"
     ]
    }
   ],
   "source": [
    "import pandas as pd\n",
    "\n",
    "df = pd.DataFrame(columns=[\"Name\", \"Age\", \"Roll No.\"])\n",
    "parts = int(input(\"Enter the number of Student records you want to store: \"))\n",
    "\n",
    "for _ in range(parts):\n",
    "    name = input(\"Enter the Name of the student: \")\n",
    "    age = input(\"Enter the Age of the student in years: \")\n",
    "    rollno = input(\"Enter the Roll no. of the student \")\n",
    "    df1 = pd.DataFrame(data=[[name,age,rollno]],columns=[\"Name\", \"Age\", \"Roll No.\"])\n",
    "    df = pd.concat([df,df1], axis=0)\n",
    "\n",
    "df.index = range(len(df.index))\n",
    "print(\"The DataFrame is-____________ \")\n",
    "print(df)"
   ]
  }
 ],
 "metadata": {
  "colab": {
   "collapsed_sections": [],
   "name": "DS_D10_DIY_Solution_V1.0.ipynb",
   "provenance": []
  },
  "kernelspec": {
   "display_name": "Python 3 (ipykernel)",
   "language": "python",
   "name": "python3"
  },
  "language_info": {
   "codemirror_mode": {
    "name": "ipython",
    "version": 3
   },
   "file_extension": ".py",
   "mimetype": "text/x-python",
   "name": "python",
   "nbconvert_exporter": "python",
   "pygments_lexer": "ipython3",
   "version": "3.10.9"
  }
 },
 "nbformat": 4,
 "nbformat_minor": 1
}
