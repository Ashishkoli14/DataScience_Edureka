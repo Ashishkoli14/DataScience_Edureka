{
  "nbformat": 4,
  "nbformat_minor": 0,
  "metadata": {
    "colab": {
      "name": "DS_D8_DIY_Solution_V1.0.ipynb",
      "provenance": [],
      "collapsed_sections": []
    },
    "kernelspec": {
      "name": "python3",
      "display_name": "Python 3"
    },
    "language_info": {
      "name": "python"
    }
  },
  "cells": [
    {
      "cell_type": "markdown",
      "source": [
        "##Day 8 - DIY Solution"
      ],
      "metadata": {
        "id": "paySR_dwUgfc"
      }
    },
    {
      "cell_type": "markdown",
      "source": [
        "**Q1. Problem Statement: Understanding NumPy Array Functions - I**\n",
        "\n",
        "Define a NumPy array with 4 * 5 dimensions, swap the array's dimensions to make it 5 * 4 using suitable functions.\n"
      ],
      "metadata": {
        "id": "pPik1Z7iUj1P"
      }
    },
    {
      "cell_type": "code",
      "execution_count": null,
      "metadata": {
        "colab": {
          "base_uri": "https://localhost:8080/"
        },
        "id": "UROCXizUUafb",
        "outputId": "0254c3c0-9165-4201-a5df-e5c683eef537"
      },
      "outputs": [
        {
          "output_type": "stream",
          "name": "stdout",
          "text": [
            "Original Array:\n",
            "[ 0  1  2  3  4  5  6  7  8  9 10 11 12 13 14 15 16 17 18 19]\n",
            "Reshaped Array:\n",
            "[[ 0  1  2  3]\n",
            " [ 4  5  6  7]\n",
            " [ 8  9 10 11]\n",
            " [12 13 14 15]\n",
            " [16 17 18 19]]\n",
            "Transpose of Array:\n",
            "[[ 0  1  2  3]\n",
            " [ 4  5  6  7]\n",
            " [ 8  9 10 11]\n",
            " [12 13 14 15]\n",
            " [16 17 18 19]]\n"
          ]
        }
      ],
      "source": [
        "#Array manipulation(reshape and transpose)\n",
        "import numpy as np\n",
        "a = np.arange(20)\n",
        "print(\"Original Array:\")\n",
        "print(a)\n",
        "#Printing Reshape result\n",
        "b = a.reshape((5,4))\n",
        "print(\"Reshaped Array:\")\n",
        "print(b)\n",
        "#Printing Transpose result\n",
        "c = a.transpose()\n",
        "print(\"Transpose of Array:\")\n",
        "print(b)"
      ]
    },
    {
      "cell_type": "markdown",
      "source": [
        "**Q2. Problem Statement: Understanding NumPy Array Functions - II**\n",
        "\n",
        "Write a Python program to create two 2-dimensional arrays and apply hstack(), vstack(), concatenate(), and split() functions.\n"
      ],
      "metadata": {
        "id": "dMuJm2xkVR0d"
      }
    },
    {
      "cell_type": "code",
      "source": [
        "#Slicing and Joining arrays\n",
        "import numpy as np\n",
        "a = np.arange(1,5).reshape(2,2)\n",
        "b= np.arange(6,10).reshape(2,2)\n",
        "print(\"First array is:\")\n",
        "print(a)\n",
        "print(\"Second array is:\")\n",
        "print(b)\n",
        "print(\"Applying hstack() function:\")\n",
        "arr1 = np.hstack((a, b))\n",
        "print(arr1)\n",
        "print(\"Applying vstack() function:\")\n",
        "arr2 = np.vstack((a, b))\n",
        "print(arr2)\n",
        "print(\"Applying concatenate() function:\")\n",
        "arr3 = np.concatenate((a, b))\n",
        "print(arr3)\n",
        "print(\"Applying split() function:\")\n",
        "arr4 = np.array_split(arr1, 2)\n",
        "print(arr4)"
      ],
      "metadata": {
        "id": "HrvOqYdFVY9u",
        "outputId": "e717f655-1765-417b-cace-53944752edc5",
        "colab": {
          "base_uri": "https://localhost:8080/"
        }
      },
      "execution_count": null,
      "outputs": [
        {
          "output_type": "stream",
          "name": "stdout",
          "text": [
            "First array is:\n",
            "[[1 2]\n",
            " [3 4]]\n",
            "Second array is:\n",
            "[[6 7]\n",
            " [8 9]]\n",
            "Applying hstack() function:\n",
            "[[1 2 6 7]\n",
            " [3 4 8 9]]\n",
            "Applying vstack() function:\n",
            "[[1 2]\n",
            " [3 4]\n",
            " [6 7]\n",
            " [8 9]]\n",
            "Applying concatenate() function:\n",
            "[[1 2]\n",
            " [3 4]\n",
            " [6 7]\n",
            " [8 9]]\n",
            "Applying split() function:\n",
            "[array([[1, 2, 6, 7]]), array([[3, 4, 8, 9]])]\n"
          ]
        }
      ]
    }
  ]
}