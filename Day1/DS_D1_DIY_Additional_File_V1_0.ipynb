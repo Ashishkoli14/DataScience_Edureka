{
 "cells": [
  {
   "cell_type": "markdown",
   "metadata": {
    "id": "PG60IRj6JEhR"
   },
   "source": [
    "## Day 1 - DIY Solution\n",
    "**Q1. Problem Statement: Hello World**\n",
    "\n",
    "\n",
    "Write a Python program to print “Hello World!”.\n"
   ]
  },
  {
   "cell_type": "code",
   "execution_count": 1,
   "metadata": {},
   "outputs": [
    {
     "name": "stdout",
     "output_type": "stream",
     "text": [
      "100\n"
     ]
    }
   ],
   "source": [
    "print(100)"
   ]
  },
  {
   "cell_type": "code",
   "execution_count": 2,
   "metadata": {},
   "outputs": [
    {
     "name": "stdout",
     "output_type": "stream",
     "text": [
      "hello\n"
     ]
    }
   ],
   "source": [
    "print(\"hello\")"
   ]
  },
  {
   "cell_type": "code",
   "execution_count": 3,
   "metadata": {
    "colab": {
     "base_uri": "https://localhost:8080/"
    },
    "id": "ZAhQrMlpIZdd",
    "outputId": "2cdfe09f-f4fc-4120-ccad-fafeb9d7341a"
   },
   "outputs": [
    {
     "name": "stdout",
     "output_type": "stream",
     "text": [
      "Hello World!\n"
     ]
    }
   ],
   "source": [
    "#Hello World\n",
    "print(\"Hello World!\")"
   ]
  },
  {
   "cell_type": "code",
   "execution_count": 4,
   "metadata": {},
   "outputs": [
    {
     "name": "stdout",
     "output_type": "stream",
     "text": [
      "100 Hello world 50\n"
     ]
    }
   ],
   "source": [
    "print(100,\"Hello world\",50)"
   ]
  },
  {
   "cell_type": "markdown",
   "metadata": {
    "id": "GOhE_L2PMLui"
   },
   "source": [
    "**Q2. Problem Statement: Understanding Variables**\n",
    "\n",
    "Write a Python program to create two variables, assign integer values to them and add them using “+” operator to store the result in another variable and print it. \n"
   ]
  },
  {
   "cell_type": "code",
   "execution_count": 5,
   "metadata": {},
   "outputs": [
    {
     "name": "stdout",
     "output_type": "stream",
     "text": [
      "70\n"
     ]
    }
   ],
   "source": [
    "#var = value\n",
    "v1 = 20\n",
    "v2 = 50\n",
    "add = v1+v2\n",
    "print(add)"
   ]
  },
  {
   "cell_type": "code",
   "execution_count": 6,
   "metadata": {},
   "outputs": [
    {
     "name": "stdout",
     "output_type": "stream",
     "text": [
      "30\n"
     ]
    }
   ],
   "source": [
    "add = 10+20\n",
    "print(add)"
   ]
  },
  {
   "cell_type": "code",
   "execution_count": 7,
   "metadata": {},
   "outputs": [
    {
     "name": "stdout",
     "output_type": "stream",
     "text": [
      "120\n"
     ]
    }
   ],
   "source": [
    "add = v1 + 100\n",
    "print(add)"
   ]
  },
  {
   "cell_type": "code",
   "execution_count": 8,
   "metadata": {
    "colab": {
     "base_uri": "https://localhost:8080/"
    },
    "id": "ABfy8szxhRUA",
    "outputId": "97eccbcb-8c16-4ee9-f936-5e177086cca8"
   },
   "outputs": [
    {
     "name": "stdout",
     "output_type": "stream",
     "text": [
      "Result of addition is:  30\n"
     ]
    }
   ],
   "source": [
    "A = 10\n",
    "B = 20\n",
    "Res = A+B\n",
    "print(\"Result of addition is: \", Res)"
   ]
  },
  {
   "cell_type": "markdown",
   "metadata": {
    "id": "UBI9Ez1lMs-c"
   },
   "source": [
    "**Q3. Problem Statement: Understanding Tokens**\n",
    "\n",
    "Write a Python program to create two variables, assign random values to them and add them using “+” operator to store the result in another variable and print it. \n"
   ]
  },
  {
   "cell_type": "code",
   "execution_count": 9,
   "metadata": {},
   "outputs": [
    {
     "name": "stdout",
     "output_type": "stream",
     "text": [
      "string 1string 2\n"
     ]
    }
   ],
   "source": [
    "a = \"string 1\"\n",
    "b = 'string 2'\n",
    "result = a+b\n",
    "print(result)"
   ]
  },
  {
   "cell_type": "code",
   "execution_count": 10,
   "metadata": {
    "colab": {
     "base_uri": "https://localhost:8080/"
    },
    "id": "4dvncTXVMyIk",
    "outputId": "69c49d1c-6017-4a4c-82a2-0fe94543df6f"
   },
   "outputs": [
    {
     "name": "stdout",
     "output_type": "stream",
     "text": [
      "edureka! 10\n"
     ]
    }
   ],
   "source": [
    "#Understanding Datatypes\n",
    "A = \"edureka!\"\n",
    "B = \" 10\"\n",
    "res= A+B\n",
    "print(res)"
   ]
  },
  {
   "cell_type": "code",
   "execution_count": null,
   "metadata": {},
   "outputs": [],
   "source": []
  }
 ],
 "metadata": {
  "colab": {
   "collapsed_sections": [],
   "name": "DS_D1_DIY_V1.0.ipynb",
   "provenance": [],
   "toc_visible": true
  },
  "kernelspec": {
   "display_name": "Python 3 (ipykernel)",
   "language": "python",
   "name": "python3"
  },
  "language_info": {
   "codemirror_mode": {
    "name": "ipython",
    "version": 3
   },
   "file_extension": ".py",
   "mimetype": "text/x-python",
   "name": "python",
   "nbconvert_exporter": "python",
   "pygments_lexer": "ipython3",
   "version": "3.9.7"
  }
 },
 "nbformat": 4,
 "nbformat_minor": 1
}
