{
  "nbformat": 4,
  "nbformat_minor": 0,
  "metadata": {
    "colab": {
      "name": "DS_D1_DIY_V1.0.ipynb",
      "provenance": [],
      "collapsed_sections": [],
      "toc_visible": true
    },
    "kernelspec": {
      "name": "python3",
      "display_name": "Python 3"
    },
    "language_info": {
      "name": "python"
    }
  },
  "cells": [
    {
      "cell_type": "markdown",
      "source": [
        "##Day 1 - DIY Solution\n",
        "**Q1. Problem Statement: Hello World**\n",
        "\n",
        "\n",
        "Write a Python program to print “Hello World!”.\n"
      ],
      "metadata": {
        "id": "PG60IRj6JEhR"
      }
    },
    {
      "cell_type": "code",
      "source": [
        "#Hello World\n",
        "print(\"Hello World!\")"
      ],
      "metadata": {
        "colab": {
          "base_uri": "https://localhost:8080/"
        },
        "id": "ZAhQrMlpIZdd",
        "outputId": "2cdfe09f-f4fc-4120-ccad-fafeb9d7341a"
      },
      "execution_count": 1,
      "outputs": [
        {
          "output_type": "stream",
          "name": "stdout",
          "text": [
            "Hello World!\n"
          ]
        }
      ]
    },
    {
      "cell_type": "markdown",
      "source": [
        "**Q2. Problem Statement: Understanding Variables**\n",
        "\n",
        "Write a Python program to create two variables, assign integer values to them and add them using “+” operator to store the result in another variable and print it. \n"
      ],
      "metadata": {
        "id": "GOhE_L2PMLui"
      }
    },
    {
      "cell_type": "code",
      "execution_count": 3,
      "metadata": {
        "colab": {
          "base_uri": "https://localhost:8080/"
        },
        "id": "ABfy8szxhRUA",
        "outputId": "97eccbcb-8c16-4ee9-f936-5e177086cca8"
      },
      "outputs": [
        {
          "output_type": "stream",
          "name": "stdout",
          "text": [
            "Result of addition is:  30\n"
          ]
        }
      ],
      "source": [
        "A = 10\n",
        "B = 20\n",
        "Res = A+B\n",
        "\n",
        "print(\"Result of addition is: \", Res)"
      ]
    },
    {
      "cell_type": "markdown",
      "source": [
        "**Q3. Problem Statement: Understanding Tokens**\n",
        "\n",
        "Write a Python program to create two variables, assign random values to them and add them using “+” operator to store the result in another variable and print it. \n"
      ],
      "metadata": {
        "id": "UBI9Ez1lMs-c"
      }
    },
    {
      "cell_type": "code",
      "source": [
        "#Understanding Datatypes\n",
        "A = \"edureka!\"\n",
        "B = \" 10\"\n",
        "res= A+B\n",
        "print(res)"
      ],
      "metadata": {
        "colab": {
          "base_uri": "https://localhost:8080/"
        },
        "id": "4dvncTXVMyIk",
        "outputId": "69c49d1c-6017-4a4c-82a2-0fe94543df6f"
      },
      "execution_count": 4,
      "outputs": [
        {
          "output_type": "stream",
          "name": "stdout",
          "text": [
            "edureka! 10\n"
          ]
        }
      ]
    }
  ]
}