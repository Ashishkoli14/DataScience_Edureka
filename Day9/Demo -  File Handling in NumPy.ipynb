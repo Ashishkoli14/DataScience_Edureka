{
  "cells": [
    {
      "cell_type": "markdown",
      "metadata": {
        "id": "wUi-6Kbu2gFQ"
      },
      "source": [
        "# Day 9 - LU1\n",
        "\n",
        "## Demo: File Handling in NumPy"
      ]
    },
    {
      "cell_type": "markdown",
      "metadata": {
        "id": "4rxRPudc2gFW"
      },
      "source": [
        "In this demo, you will be shown how to handle files in numpy."
      ]
    },
    {
      "cell_type": "markdown",
      "metadata": {
        "id": "CnJikcLK2gFX"
      },
      "source": [
        "### Loading and Saving Data in Binary file"
      ]
    },
    {
      "cell_type": "code",
      "execution_count": null,
      "metadata": {
        "id": "3FAr2aDr2gFX"
      },
      "outputs": [],
      "source": [
        "#Import the library\n",
        "import numpy as np"
      ]
    },
    {
      "cell_type": "code",
      "execution_count": null,
      "metadata": {
        "id": "XVqnMtGT2gFZ",
        "outputId": "0994074d-00e5-434f-e5e0-8801d145b267"
      },
      "outputs": [
        {
          "name": "stdout",
          "output_type": "stream",
          "text": [
            "a= [[0. 0. 0.]\n",
            " [0. 0. 0.]\n",
            " [0. 0. 0.]]\n",
            "b= [[1. 1. 1.]\n",
            " [1. 1. 1.]\n",
            " [1. 1. 1.]]\n"
          ]
        }
      ],
      "source": [
        "#Creating the array using zeros() and ones()\n",
        "a = np.zeros((3,3))\n",
        "b = np.ones((3,3))\n",
        "print('a=',a)\n",
        "print('b=',b)"
      ]
    },
    {
      "cell_type": "code",
      "execution_count": null,
      "metadata": {
        "id": "MLZKUZwq2gFb"
      },
      "outputs": [],
      "source": [
        "#SavE arrays to binary file\n",
        "np.save('file1.npy',(a,b))"
      ]
    },
    {
      "cell_type": "code",
      "execution_count": null,
      "metadata": {
        "id": "37XKYJ682gFc",
        "outputId": "ffd08d6e-ba93-4c6a-cca2-8fb17a1d3e5f"
      },
      "outputs": [
        {
          "name": "stdout",
          "output_type": "stream",
          "text": [
            "[[[0. 0. 0.]\n",
            "  [0. 0. 0.]\n",
            "  [0. 0. 0.]]\n",
            "\n",
            " [[1. 1. 1.]\n",
            "  [1. 1. 1.]\n",
            "  [1. 1. 1.]]]\n"
          ]
        }
      ],
      "source": [
        "#Load data from binary file\n",
        "c=np.load('file1.npy')\n",
        "print(c)"
      ]
    },
    {
      "cell_type": "markdown",
      "metadata": {
        "id": "EjNj7oar2gFd"
      },
      "source": [
        "### Loading and Saving data in text and csv file"
      ]
    },
    {
      "cell_type": "code",
      "execution_count": null,
      "metadata": {
        "id": "-WZboNQ52gFd"
      },
      "outputs": [],
      "source": [
        "#Import the library\n",
        "import numpy as np"
      ]
    },
    {
      "cell_type": "code",
      "execution_count": null,
      "metadata": {
        "id": "352SZPj42gFe",
        "outputId": "feca0cb3-7a69-4de8-f6a7-6055cbe7edca"
      },
      "outputs": [
        {
          "name": "stdout",
          "output_type": "stream",
          "text": [
            "[0 1 2 3 4 5 6 7 8 9]\n"
          ]
        }
      ],
      "source": [
        "#Create an array\n",
        "a = np.arange(0,10,1)\n",
        "print(a)"
      ]
    },
    {
      "cell_type": "code",
      "execution_count": null,
      "metadata": {
        "id": "PXVNRmBV2gFf",
        "outputId": "8935f3c4-62ee-4c7d-c647-5b51d431c878"
      },
      "outputs": [
        {
          "name": "stdout",
          "output_type": "stream",
          "text": [
            "the file contains:\n",
            "0.000000000000000000e+00\n",
            "1.000000000000000000e+00\n",
            "2.000000000000000000e+00\n",
            "3.000000000000000000e+00\n",
            "4.000000000000000000e+00\n",
            "5.000000000000000000e+00\n",
            "6.000000000000000000e+00\n",
            "7.000000000000000000e+00\n",
            "8.000000000000000000e+00\n",
            "9.000000000000000000e+00\n",
            "\n"
          ]
        }
      ],
      "source": [
        "#Save array to text file and reading the file\n",
        "b = np.savetxt('file2.txt', a, delimiter =', ')    \n",
        "c = open(\"file2.txt\", 'r')# open file in read mode \n",
        "  \n",
        "print(\"the file contains:\") \n",
        "print(c.read()) \n",
        "c.close()"
      ]
    },
    {
      "cell_type": "code",
      "execution_count": null,
      "metadata": {
        "id": "dGh4C7QQ2gFg",
        "outputId": "dfc7d000-4038-47c5-818b-a47543230169"
      },
      "outputs": [
        {
          "name": "stdout",
          "output_type": "stream",
          "text": [
            "[0. 1. 2. 3. 4. 5. 6. 7. 8. 9.]\n"
          ]
        }
      ],
      "source": [
        "#Recover data from text file\n",
        "d=np.genfromtxt('file2.txt')\n",
        "print(d)"
      ]
    },
    {
      "cell_type": "code",
      "execution_count": null,
      "metadata": {
        "id": "4X16LAwuJ5gv",
        "outputId": "70172359-8ea2-4f68-ffb7-97abc5ff05a9"
      },
      "outputs": [
        {
          "data": {
            "text/plain": [
              "numpy.ndarray"
            ]
          },
          "execution_count": 18,
          "metadata": {},
          "output_type": "execute_result"
        }
      ],
      "source": [
        "type(d)"
      ]
    },
    {
      "cell_type": "code",
      "execution_count": null,
      "metadata": {
        "id": "D9XSH9Tk2gFg",
        "outputId": "5c51c864-0be1-4238-f13c-9be41cfa4f34"
      },
      "outputs": [
        {
          "data": {
            "text/plain": [
              "array([420., 280., 350., 269., 317., 470., 333., 365., 305., 350., 460.,\n",
              "       474., 409., 377., 415., 382., 298., 462., 370., 313., 464., 302.,\n",
              "       252., 259., 308., 392., 424., 403., 370., 328., 398., 434., 291.,\n",
              "       472., 263., 439., 464., 449., 401., 364., 296., 292., 438., 357.,\n",
              "       331., 317., 429., 407., 321., 274., 447., 274., 437., 411., 257.,\n",
              "       310., 396., 270., 311., 459., 378., 316., 283., 266., 381., 409.,\n",
              "       313., 306., 448., 348., 292., 400., 352., 441., 428., 309., 441.,\n",
              "       439., 264., 281., 302., 432., 423., 336., 383., 321., 469., 270.,\n",
              "       341., 281., 403., 333., 323., 348., 345., 397., 449., 261., 456.,\n",
              "       370., 322., 379., 446., 404., 301., 254., 351., 444., 264., 286.,\n",
              "       463., 273., 316., 324., 465., 398., 324., 340., 414., 346., 408.,\n",
              "       332., 394., 474., 398., 262., 410., 391., 444., 461.])"
            ]
          },
          "execution_count": 20,
          "metadata": {},
          "output_type": "execute_result"
        }
      ],
      "source": [
        "#Load a marks.csv file \n",
        "data = np.loadtxt('marks.csv',delimiter=',',usecols=(5),skiprows=1)\n",
        "data"
      ]
    },
    {
      "cell_type": "markdown",
      "metadata": {
        "id": "jhVZJZD-2gFh"
      },
      "source": [
        "#### Conclusion: This code demonstrates how to perform file handling in numpy"
      ]
    }
  ],
  "metadata": {
    "colab": {
      "name": "Demo - File Handling in NumPy.ipynb",
      "provenance": []
    },
    "kernelspec": {
      "display_name": "Python 3 (ipykernel)",
      "language": "python",
      "name": "python3"
    },
    "language_info": {
      "codemirror_mode": {
        "name": "ipython",
        "version": 3
      },
      "file_extension": ".py",
      "mimetype": "text/x-python",
      "name": "python",
      "nbconvert_exporter": "python",
      "pygments_lexer": "ipython3",
      "version": "3.9.7"
    }
  },
  "nbformat": 4,
  "nbformat_minor": 0
}