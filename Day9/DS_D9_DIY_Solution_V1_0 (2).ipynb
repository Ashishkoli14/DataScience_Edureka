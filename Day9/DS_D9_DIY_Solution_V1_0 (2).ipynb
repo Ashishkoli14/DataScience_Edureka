{
 "cells": [
  {
   "cell_type": "markdown",
   "metadata": {
    "id": "6_YTV1gSWU7u"
   },
   "source": [
    "##Day 9 - DIY Solution"
   ]
  },
  {
   "cell_type": "markdown",
   "metadata": {
    "id": "KNbvtkQfXAFq"
   },
   "source": [
    "**Q1. Problem Statement: Understanding File Operations**\n",
    "\n",
    "Write a Python program that reads text from a poem.txt file (Provided on the LMS) in read-only mode and prints it line-by-line.\n"
   ]
  },
  {
   "cell_type": "code",
   "execution_count": 6,
   "metadata": {
    "colab": {
     "base_uri": "https://localhost:8080/"
    },
    "id": "reP54njlXJru",
    "outputId": "a386d2e0-e15b-4439-ffa9-c7b88317568a"
   },
   "outputs": [
    {
     "name": "stdout",
     "output_type": "stream",
     "text": [
      "Jack and Jill went up the hill\n",
      "To fetch a pail of water.\n",
      "Jack fell down and broke his crown,\n",
      "And Jill came tumbling after.\n",
      "Then up got Jack and said to Jill,\n",
      "As in his arms he took her,\n",
      "“Brush off that dirt for you’re not hurt,\n",
      "Let’s fetch that pail of water.”\n",
      "So Jack and Jill went up the hill\n",
      "To fetch the pail of water,\n",
      "And took it home to Mother dear,\n",
      "Who thanked her son and daughter.\n",
      "\n"
     ]
    }
   ],
   "source": [
    "#Reading a text file\n",
    "file = open(\"Poem.txt\",\"r\", encoding = 'utf-8')\n",
    "for line in file:\n",
    "  print(line, end=\"\")\n",
    "file.close()"
   ]
  },
  {
   "cell_type": "markdown",
   "metadata": {
    "id": "A6Q4wIVJWZes"
   },
   "source": [
    "**Q2. Problem Statement: Modifying Text File using Python**\n",
    "\n",
    "Write a Python program that opens the poem.txt file (Provided on the LMS). Replace all the words in the poem, starting from “J” to “K,” and print the new version of the poem.\n"
   ]
  },
  {
   "cell_type": "code",
   "execution_count": 5,
   "metadata": {
    "colab": {
     "base_uri": "https://localhost:8080/"
    },
    "id": "-y2vQYEqWCKw",
    "outputId": "a558cc16-24e6-4094-9e32-6aca93e631a6"
   },
   "outputs": [
    {
     "name": "stdout",
     "output_type": "stream",
     "text": [
      "Kack and Kill went up the hill\n",
      "To fetch a pail of water.\n",
      "Kack fell down and broke his crown,\n",
      "And Kill came tumbling after.\n",
      "Then up got Kack and said to Kill,\n",
      "As in his arms he took her,\n",
      "“Brush off that dirt for you’re not hurt,\n",
      "Let’s fetch that pail of water.”\n",
      "So Kack and Kill went up the hill\n",
      "To fetch the pail of water,\n",
      "And took it home to Mother dear,\n",
      "Who thanked her son and daughter.\n",
      "\n"
     ]
    }
   ],
   "source": [
    "file = open(\"Poem.txt\",\"r\", encoding = 'utf-8')\n",
    "data = file.read()\n",
    "for letter in data:\n",
    "  if letter == 'J':\n",
    "    print(\"K\",end=\"\")\n",
    "  else:\n",
    "    print(letter,end=\"\")\n",
    "\n",
    "file.close()"
   ]
  },
  {
   "cell_type": "code",
   "execution_count": null,
   "metadata": {},
   "outputs": [],
   "source": []
  }
 ],
 "metadata": {
  "colab": {
   "collapsed_sections": [],
   "name": "DS_D9_DIY_Solution_V1.0.ipynb",
   "provenance": []
  },
  "kernelspec": {
   "display_name": "Python 3 (ipykernel)",
   "language": "python",
   "name": "python3"
  },
  "language_info": {
   "codemirror_mode": {
    "name": "ipython",
    "version": 3
   },
   "file_extension": ".py",
   "mimetype": "text/x-python",
   "name": "python",
   "nbconvert_exporter": "python",
   "pygments_lexer": "ipython3",
   "version": "3.10.9"
  }
 },
 "nbformat": 4,
 "nbformat_minor": 1
}
