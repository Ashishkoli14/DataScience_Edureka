{
  "cells": [
    {
      "cell_type": "markdown",
      "metadata": {
        "id": "p7A3CHLY0TR8"
      },
      "source": [
        "# Day 9 - LU2\n",
        "\n",
        "## Demo: Movie Rating System"
      ]
    },
    {
      "cell_type": "markdown",
      "metadata": {
        "id": "VObnfccx0TSB"
      },
      "source": [
        "**Problem Statement:** \n",
        "\n",
        "A movie review website needs to create a database to store their data and perform operations on it. Create a dummy model with 100 users and 1000 movies to explain how it will work.\n",
        "\n",
        "**Topics Covered:**\n",
        "- NumPy\n",
        "    - numpy.ndarray\n",
        "    - Statistical operations using NumPy\n",
        "    - Mathematical operations using NumPy\n",
        "    \n",
        "**Tasks to be performed:**\n",
        "1. Generate 1000 movie IDs starting from 1301\n",
        "2. Create a matrix movies_matrix, to store users rating such that\n",
        "    - There are 100 users\n",
        "    - Each user can review as many movies as they want\n",
        "    - The review should be in between 0 to 10 (both inclusive)\n",
        "3. We have ten movie experts, let us take their reviews as well. 50 new movies and their reviews have to be added \n",
        "4. Create final_movie_rating matrix with four columns i.e., 'Movie ID', 'Average rating', 'Number of ratings', and           'Standard deviation of ratings'\n",
        "5. Convert the final movie ratings to have range from 0 to 10, such that the minimum rating converts to 0 and maximum to 10, and the other values in between\n",
        "6. Display the movies rating-wise, highest to lowest"
      ]
    },
    {
      "cell_type": "code",
      "execution_count": null,
      "metadata": {
        "id": "VQrUxhlEZpN5"
      },
      "outputs": [],
      "source": [
        "import numpy as np"
      ]
    },
    {
      "cell_type": "code",
      "execution_count": null,
      "metadata": {
        "id": "Gl6cwJygsjMI"
      },
      "outputs": [],
      "source": [
        "np.set_printoptions(formatter={'float_kind':'{:.3f}'.format})  #Sets the display setting so that all the float values will have 3 values after decimal"
      ]
    },
    {
      "cell_type": "markdown",
      "metadata": {
        "id": "XKkEuPFCtK6B"
      },
      "source": [
        "#### Task 1: Create a NumPy array of 1000 movie IDs starting from 1301"
      ]
    },
    {
      "cell_type": "code",
      "execution_count": null,
      "metadata": {
        "colab": {
          "base_uri": "https://localhost:8080/",
          "height": 51
        },
        "id": "UNWl1twcVzW3",
        "outputId": "33634416-df54-432d-a014-46af759c677a"
      },
      "outputs": [
        {
          "name": "stdout",
          "output_type": "stream",
          "text": [
            "[1301 1302 1303 1304 1305 1306 1307 1308 1309 1310]\n"
          ]
        },
        {
          "data": {
            "text/plain": [
              "1000"
            ]
          },
          "execution_count": 37,
          "metadata": {},
          "output_type": "execute_result"
        }
      ],
      "source": [
        "movie_id = np.arange(1301,2301)\n",
        "print(movie_id[:10])\n",
        "movie_id.size"
      ]
    },
    {
      "cell_type": "code",
      "execution_count": null,
      "metadata": {
        "id": "vspcxX6Qc9v6"
      },
      "outputs": [],
      "source": [
        "user_id = []\n",
        "for i in range(20201,20301):\n",
        "  user_id.append(i) \n",
        "user_id = np.array(user_id)"
      ]
    },
    {
      "cell_type": "code",
      "execution_count": null,
      "metadata": {
        "colab": {
          "base_uri": "https://localhost:8080/",
          "height": 34
        },
        "id": "bTthQgdYddpc",
        "outputId": "3710c9d7-6d96-4487-a52d-a16684110dee"
      },
      "outputs": [
        {
          "data": {
            "text/plain": [
              "100"
            ]
          },
          "execution_count": 39,
          "metadata": {},
          "output_type": "execute_result"
        }
      ],
      "source": [
        "user_id.size #checking the number of elements in numpy array"
      ]
    },
    {
      "cell_type": "code",
      "execution_count": null,
      "metadata": {
        "id": "5fgB8B0RMvOx",
        "outputId": "5daa3817-6c0d-415e-dff9-dd5f62c998b7"
      },
      "outputs": [
        {
          "data": {
            "text/plain": [
              "array([20201, 20202, 20203, 20204, 20205, 20206, 20207, 20208, 20209,\n",
              "       20210, 20211, 20212, 20213, 20214, 20215, 20216, 20217, 20218,\n",
              "       20219, 20220, 20221, 20222, 20223, 20224, 20225, 20226, 20227,\n",
              "       20228, 20229, 20230, 20231, 20232, 20233, 20234, 20235, 20236,\n",
              "       20237, 20238, 20239, 20240, 20241, 20242, 20243, 20244, 20245,\n",
              "       20246, 20247, 20248, 20249, 20250, 20251, 20252, 20253, 20254,\n",
              "       20255, 20256, 20257, 20258, 20259, 20260, 20261, 20262, 20263,\n",
              "       20264, 20265, 20266, 20267, 20268, 20269, 20270, 20271, 20272,\n",
              "       20273, 20274, 20275, 20276, 20277, 20278, 20279, 20280, 20281,\n",
              "       20282, 20283, 20284, 20285, 20286, 20287, 20288, 20289, 20290,\n",
              "       20291, 20292, 20293, 20294, 20295, 20296, 20297, 20298, 20299,\n",
              "       20300])"
            ]
          },
          "execution_count": 40,
          "metadata": {},
          "output_type": "execute_result"
        }
      ],
      "source": [
        "user_id"
      ]
    },
    {
      "cell_type": "markdown",
      "metadata": {
        "id": "ToOrVbEkWUm_"
      },
      "source": [
        "#### Other ways to create a numpy array"
      ]
    },
    {
      "cell_type": "code",
      "execution_count": null,
      "metadata": {
        "colab": {
          "base_uri": "https://localhost:8080/",
          "height": 34
        },
        "id": "lJ-tIqhHWazu",
        "outputId": "53307fd8-0c58-4b22-960f-c5039cfd5fca"
      },
      "outputs": [
        {
          "name": "stdout",
          "output_type": "stream",
          "text": [
            "[2 3 7]\n"
          ]
        }
      ],
      "source": [
        "#Creating a Single-Dimensional Array\n",
        "\n",
        "arr = np.array([2,3,7]) #Calling the Array Function\n",
        "print(arr)"
      ]
    },
    {
      "cell_type": "code",
      "execution_count": null,
      "metadata": {
        "colab": {
          "base_uri": "https://localhost:8080/",
          "height": 68
        },
        "id": "aptPFs4KWnND",
        "outputId": "02153c28-a13a-48d3-8fd4-5d5bc3776930"
      },
      "outputs": [
        {
          "name": "stdout",
          "output_type": "stream",
          "text": [
            "[[10 20 30]\n",
            " [40 50 60]]\n",
            "<class 'numpy.ndarray'>\n"
          ]
        }
      ],
      "source": [
        "#Creating a Multi-Dimensional Array\n",
        "\n",
        "arr = np.array([[10,20,30],[40,50,60]])\n",
        "print(arr)\n",
        "print(type(arr))"
      ]
    },
    {
      "cell_type": "code",
      "execution_count": null,
      "metadata": {
        "colab": {
          "base_uri": "https://localhost:8080/",
          "height": 51
        },
        "id": "2hoiU-CEW9FG",
        "outputId": "1143e022-c247-42ca-d394-85f07b714391"
      },
      "outputs": [
        {
          "name": "stdout",
          "output_type": "stream",
          "text": [
            "[[5 5 5]\n",
            " [5 5 5]]\n"
          ]
        }
      ],
      "source": [
        "#Using np.full()\n",
        "\n",
        "X = np.full((2,3), 5) #Returns an array with specified shape & filled with specified value\n",
        "print(X)"
      ]
    },
    {
      "cell_type": "code",
      "execution_count": null,
      "metadata": {
        "colab": {
          "base_uri": "https://localhost:8080/",
          "height": 34
        },
        "id": "t5LyK1jvXUFr",
        "outputId": "6c9781ed-87ce-4023-b953-581848a3c9db"
      },
      "outputs": [
        {
          "name": "stdout",
          "output_type": "stream",
          "text": [
            "[0.000 5.000 10.000 15.000 20.000]\n"
          ]
        }
      ],
      "source": [
        "#Using np.linspace()\n",
        "\n",
        "arr = np.linspace(0, 20, 5) #Returns a Linearly-Spaced Vector spacing\n",
        "print(arr)"
      ]
    },
    {
      "cell_type": "markdown",
      "metadata": {
        "id": "TvAJnYyP0TSQ"
      },
      "source": [
        "#### Task 2: Create a matrix movies_matrix, to store users rating such that\n",
        "    - There are 100 users\n",
        "    - Each user can review as many movies as they want\n",
        "    - The review should be in between 0 to 10 (both inclusive)\n",
        "    - The movies which are not reviewed by a user should have value -1"
      ]
    },
    {
      "cell_type": "code",
      "execution_count": null,
      "metadata": {
        "id": "2PAL08iLeRpc"
      },
      "outputs": [],
      "source": [
        "import random\n",
        "movie_matrix = []\n",
        "for user in range(100):\n",
        "  movies_rated_by_me = np.full(1000,-1)\n",
        "  num_movies_rated = random.randint(0,999)\n",
        "  #random.seed(num_movies_rated)\n",
        "  movies_that_i_will_rate = random.sample(range(0,1000),num_movies_rated)\n",
        "  #user rating for movies they chosed to rate\n",
        "  for index in movies_that_i_will_rate:\n",
        "    movies_rated_by_me[index] = random.randint(0,10)\n",
        "  movie_matrix.append(movies_rated_by_me)\n",
        "\n"
      ]
    },
    {
      "cell_type": "code",
      "execution_count": null,
      "metadata": {
        "id": "-99Gf6gnMvO2",
        "outputId": "311b9133-d56e-4d83-e7e8-14470e6ce40f"
      },
      "outputs": [
        {
          "data": {
            "text/plain": [
              "list"
            ]
          },
          "execution_count": 46,
          "metadata": {},
          "output_type": "execute_result"
        }
      ],
      "source": [
        "type(movie_matrix)"
      ]
    },
    {
      "cell_type": "code",
      "execution_count": null,
      "metadata": {
        "id": "NWXLmKjNMvO3",
        "outputId": "8270f890-b708-48f8-c34e-5a2af3227481"
      },
      "outputs": [
        {
          "data": {
            "text/plain": [
              "100"
            ]
          },
          "execution_count": 47,
          "metadata": {},
          "output_type": "execute_result"
        }
      ],
      "source": [
        "len(movie_matrix)"
      ]
    },
    {
      "cell_type": "code",
      "execution_count": null,
      "metadata": {
        "collapsed": true,
        "id": "xjH-JDh9MvO3",
        "outputId": "a2376037-bd52-420d-e02a-aeb1f8a332ef"
      },
      "outputs": [
        {
          "data": {
            "text/plain": [
              "[array([-1, -1, -1,  1, -1,  8, -1, -1,  1, -1, 10, -1, -1,  8, -1,  5,  0,\n",
              "         6, -1, -1,  4, -1, -1, -1,  1, -1, -1,  4,  6,  7,  0,  3,  1, -1,\n",
              "        -1, -1,  3,  7, -1,  6, -1, -1, -1, -1,  5,  3, 10,  4,  7, -1, -1,\n",
              "        -1, 10,  7,  8, -1,  0, 10, -1, -1,  4, -1, -1, 10, -1, -1,  0,  2,\n",
              "         2,  3, -1, -1,  8, -1,  1, -1, -1,  0,  6,  1,  3,  3, -1, -1, -1,\n",
              "        10, -1, -1, -1,  7, 10, -1,  3,  0, 10, -1, -1,  2, -1, -1,  2,  1,\n",
              "         7,  1, -1, -1, -1, -1,  2, -1,  7, -1, -1,  4, -1,  5,  5, -1,  7,\n",
              "         0,  2, -1,  3, -1,  6,  4,  5, -1, 10,  3, 10,  3,  2,  1, -1,  0,\n",
              "         6, -1,  3, -1, 10,  2,  4, -1, -1, -1,  2, -1, -1, -1, -1, -1,  8,\n",
              "         8, -1, -1,  2,  2,  7, -1, -1, -1, -1,  6,  5,  7,  4,  0,  3, 10,\n",
              "        -1, 10, -1,  9, -1,  9,  9,  2,  7, -1,  5,  4,  0,  7,  0,  9,  0,\n",
              "         0, 10, -1,  7,  3, -1, -1, -1,  3,  9,  5,  5,  7,  9,  4,  2, -1,\n",
              "        -1,  1, -1,  4,  9, -1,  5, -1, -1, -1, -1, -1, -1, -1, -1, -1, -1,\n",
              "        -1,  8,  0,  4, -1,  5, -1, -1,  9,  2,  7,  5, -1, -1, -1, -1, -1,\n",
              "        10,  4, -1,  0, 10, -1, -1, 10,  0, 10,  2, -1, -1,  1,  3, -1, 10,\n",
              "        -1, -1,  4,  3, -1, -1,  7,  3, 10, 10, -1, -1,  6, -1,  4,  2, -1,\n",
              "        -1,  5,  7, -1,  8, -1,  4,  3, -1,  2,  5, -1, -1,  4, -1,  7, -1,\n",
              "        -1,  0,  1,  0,  1,  2,  9,  2,  4,  4,  7,  8,  2,  4,  9,  5, -1,\n",
              "         1,  0, -1,  8, -1,  9, -1,  7,  1, -1, 10, -1,  9,  6,  7,  3, -1,\n",
              "         9,  7, -1, -1,  1,  6,  6,  2, -1,  0, -1,  0,  3,  6, -1, -1,  6,\n",
              "         3, -1, -1,  1,  1, -1,  2,  1,  7, -1, -1, -1, -1,  7,  8, -1,  5,\n",
              "        -1, -1, -1,  8,  1,  8,  4, -1, -1, -1, 10, -1, -1,  7, -1, -1, -1,\n",
              "        -1, -1, -1,  9,  2,  7,  3,  2, -1,  3, 10,  7, -1, -1,  1,  8,  2,\n",
              "        -1,  2, -1,  8,  9,  7, -1, -1, 10,  4, 10, -1,  7,  4,  4, -1,  8,\n",
              "        10,  2,  9, -1,  0, -1,  7, -1, -1, -1,  1,  4, -1, -1, -1, -1, -1,\n",
              "        -1,  9,  0,  5, -1,  1, -1, -1,  0, -1,  9, -1, -1,  2,  8,  6,  9,\n",
              "         9,  0,  5, -1,  7, -1,  3, -1, -1,  9,  0, 10,  2,  7, -1,  4, -1,\n",
              "         5, -1,  0, -1,  9,  9,  5, -1,  6,  8, -1, -1,  9,  6, -1, -1,  4,\n",
              "        -1,  5,  7,  3,  0, -1,  8, -1,  1,  4, -1, -1, -1,  1, -1, -1,  9,\n",
              "         1, -1, -1, -1, -1,  2, -1, -1,  4,  8, -1,  8,  3,  5, 10,  4,  9,\n",
              "         6, -1,  4,  8,  6, -1, -1,  0, -1,  3, -1,  6, -1,  2, -1,  4,  0,\n",
              "        -1,  2, -1,  9, -1,  9, -1, -1, -1,  2, -1, -1,  4, -1,  8,  5,  5,\n",
              "         7,  7,  8,  5,  8, -1, -1, -1, -1,  2,  6,  9,  9, -1, -1, -1, 10,\n",
              "         4, -1, -1,  6,  3,  2,  4,  6, -1,  0, -1,  0, -1, 10, -1, -1, 10,\n",
              "         0,  5,  3, -1, -1,  2,  1,  0, -1,  9, -1,  5,  5, 10,  2, -1, -1,\n",
              "        -1, -1, -1, -1, -1,  7, -1, -1, -1,  9, -1,  3,  4, -1,  8,  4,  8,\n",
              "        -1,  1, -1,  0,  7, 10, -1, -1,  7, -1, -1,  4, -1,  4, -1, -1,  0,\n",
              "        10, -1,  5,  9,  4, -1,  6, -1, -1, -1, -1, -1, -1, -1, 10,  5,  7,\n",
              "        -1,  0,  3,  9, -1,  2,  5, -1,  2, -1,  5,  7,  6,  3,  3,  6, -1,\n",
              "        -1,  1, -1, -1, -1,  1, -1,  3,  4, -1,  5,  4,  7,  6, -1, 10, -1,\n",
              "        -1,  8,  1, -1, -1,  0, -1,  1, -1,  3,  2, -1,  1,  9,  5,  3,  3,\n",
              "        -1, -1, -1, -1,  5, -1, 10,  8, 10, -1,  0,  6, -1,  5,  9,  5,  1,\n",
              "        -1, -1,  4, -1,  7,  8, -1, 10,  0,  1, -1, 10,  5, -1,  4, 10, -1,\n",
              "         8,  9,  7,  1, 10,  2, -1,  5,  8,  6, -1,  2,  4,  5,  8,  0,  4,\n",
              "         5, -1,  5, -1,  4, -1, -1, -1, -1,  2,  4, 10, -1,  8, -1, -1,  4,\n",
              "         2,  6,  3,  5, -1, -1,  9, -1, -1,  2, -1, -1,  9,  7, -1, -1, -1,\n",
              "        -1,  6,  9, 10,  8,  8,  3, -1,  6, -1,  9, -1, -1,  9,  3, -1,  1,\n",
              "        -1,  3,  2, -1, 10,  9, -1, -1,  2,  5,  6, -1, -1, -1, 10,  3,  5,\n",
              "        -1,  9,  8,  1, 10,  0, 10,  8, 10, -1,  7,  0, 10, -1,  4, -1, -1,\n",
              "        -1,  3,  2, 10,  6,  5, -1,  9,  4,  3,  4, -1,  5, -1,  0, -1, 10,\n",
              "         4, -1,  3, -1, -1, -1, -1, -1, -1, -1,  5,  9, 10, -1, -1, -1, -1,\n",
              "         6, -1,  1,  1,  3, -1,  3,  5,  5,  3, -1, -1, 10,  3, -1, -1, -1,\n",
              "         4,  2,  5, -1,  0, -1,  7, -1,  6, -1, -1, -1,  2, -1,  7, -1,  5,\n",
              "        -1, -1, 10,  6, -1,  7,  8,  9, -1,  5,  2,  3,  4,  9, -1, -1, -1,\n",
              "        -1,  6,  0, -1, -1,  8, -1, -1, -1, -1, -1,  7, -1,  4,  7,  9, -1,\n",
              "        10,  3, -1,  1, 10,  1, -1,  7,  5,  8, -1, -1, -1,  0,  9,  8, -1,\n",
              "         4,  9, -1, 10,  8, -1, 10, -1,  9,  8,  5, -1,  7, -1, 10, -1, -1,\n",
              "         6,  5,  7,  4, -1,  6,  7, -1, -1, -1,  9, -1, -1,  5, -1,  6, -1,\n",
              "        -1,  1, -1,  4,  6,  7,  5,  5, -1,  9, -1,  3, -1,  8]),\n",
              " array([ 2,  7,  5, 10,  2,  4, -1, -1,  7,  7,  5,  0,  0,  5,  7,  1,  6,\n",
              "        10,  4,  7,  5,  9,  1,  0, -1,  1,  6, -1,  4,  4,  2,  3,  9,  0,\n",
              "         0, 10,  5,  8,  4,  1,  5,  9,  9,  9, -1,  0,  1, -1, -1,  0,  3,\n",
              "         0, 10,  3, -1,  0,  3,  0,  1,  5, 10,  2,  9,  1,  4,  6,  9,  9,\n",
              "        -1, -1,  6,  9,  3,  0,  4,  5,  3,  5,  0,  9,  0,  0,  2,  7,  0,\n",
              "         6,  1,  2,  9,  6,  8,  3,  3,  1,  9,  7, -1,  2,  7,  1,  0,  8,\n",
              "         1,  8,  1,  0,  6, -1,  8,  6,  6,  7,  2, -1,  5,  0, -1,  9,  9,\n",
              "         9,  5,  2,  2,  9,  1,  7,  1,  7,  5,  4,  7, -1,  4,  4, 10,  0,\n",
              "         4,  9,  1, 10,  8,  9,  6,  1,  0,  3,  5,  6,  2, -1, -1,  7, -1,\n",
              "         4,  1,  7,  1, 10, -1,  1,  5,  5,  8, 10,  8,  8,  1,  1,  9,  1,\n",
              "         7,  2, 10,  8,  0,  7,  1, -1,  8,  4, 10,  4, -1, -1,  2, -1,  0,\n",
              "         4,  6, -1,  1, -1,  6, 10,  8,  2, -1,  5,  2,  2,  8,  4,  8, 10,\n",
              "         7,  6, -1, -1,  1,  7, -1,  1, -1,  8, -1, -1, 10,  5, 10, 10, -1,\n",
              "        10,  6,  8,  5, -1,  4,  9,  8,  6, -1,  8, 10,  3,  5, 10,  0,  0,\n",
              "         3,  7,  2,  7,  5,  3,  9,  8,  7,  1,  2,  3,  8,  0,  4,  1,  4,\n",
              "        -1,  7, 10,  4,  6,  5,  6,  0,  3,  9,  1, 10, 10, 10, 10,  6,  5,\n",
              "        10,  7,  5, 10,  0,  2, -1,  0, 10, 10,  1,  0, -1,  0,  9,  6,  5,\n",
              "         8,  7,  8,  1, -1,  0,  2,  3, -1,  4,  2,  1,  9, 10,  5,  6,  8,\n",
              "         7,  5, -1,  0, 10, -1,  1,  8,  8,  7,  9, -1, -1, -1,  1,  4,  9,\n",
              "         9,  7,  6,  1,  8,  4,  1,  8,  3,  0,  7,  6,  6,  9,  1, 10,  6,\n",
              "        -1,  3,  0,  2,  6, -1, -1,  4,  5,  7,  0, -1,  1,  4,  7,  7,  5,\n",
              "         3,  2,  1,  2,  8,  3,  4,  0,  5,  7, -1,  0, -1,  3,  0, -1, -1,\n",
              "         7,  2,  9, -1,  3,  5, -1,  2,  7, -1,  8,  7,  8,  4,  3,  7,  2,\n",
              "         3, 10,  6,  4,  9,  7,  2,  0, 10,  7,  5,  9,  9,  5,  9,  4,  5,\n",
              "        10,  0,  0, 10, -1,  7,  9,  1,  1,  5,  6,  1,  5,  9, 10,  6,  7,\n",
              "         8, -1,  6,  0, -1,  3,  6, -1,  3,  7,  5,  4,  8,  2,  1, -1, -1,\n",
              "         8,  9,  4,  5, -1,  5,  3, -1,  3,  6,  6,  3,  5,  5,  6,  1,  9,\n",
              "         5,  7,  1, 10,  2,  4,  7,  1,  3,  3,  4,  3,  4,  8,  4, -1,  2,\n",
              "         6, 10,  7,  9,  1,  7, -1,  4, -1,  1,  5, 10,  0,  3,  1,  5,  5,\n",
              "         9,  9,  9,  9, -1, -1,  1,  7,  1,  1,  2,  6,  3,  7,  6, 10,  8,\n",
              "         8,  6,  3, -1,  2, -1, 10,  6,  1,  7,  0, 10,  2,  4,  5, -1,  6,\n",
              "        -1, -1, -1,  3, 10,  7,  4,  5,  4,  4,  1,  4,  6, -1,  0,  7,  9,\n",
              "         1,  6,  8,  5,  9,  2,  1, -1,  2,  0, -1, -1,  7, 10,  7,  6,  9,\n",
              "        10, -1,  3,  3, -1, -1, -1,  9,  8,  9,  3, -1,  1,  8,  4,  5, -1,\n",
              "        10,  8,  1,  8,  2,  5,  2,  5,  6, -1, -1,  5,  4,  4,  9,  9,  4,\n",
              "         6,  3,  3, 10,  4,  9,  6, -1,  4,  4,  3, -1,  9,  4,  2,  0,  6,\n",
              "         8, 10, 10,  2,  1,  0,  6,  7, -1,  2,  2,  5,  5,  2,  6,  5,  3,\n",
              "        -1,  2,  7,  0,  2, -1,  7,  7,  4, -1,  3,  6,  4, 10,  8, -1,  8,\n",
              "        -1,  9, 10,  1, -1,  0,  3,  6,  9, 10,  8,  6,  3,  2,  0,  6, 10,\n",
              "        -1,  8,  7, -1, -1,  1,  3, 10,  6,  2, -1, -1,  9,  9, 10,  6,  0,\n",
              "        10,  7,  6,  3, -1, 10,  9,  2,  4,  2,  4, -1,  0,  2,  0,  8,  9,\n",
              "         8,  5,  6,  2,  1,  0,  5,  2, -1, -1,  5,  9,  9, -1,  4,  4,  1,\n",
              "         6,  3, 10,  3,  2,  4,  1,  6, -1,  9,  5,  8,  1,  3, -1,  5,  9,\n",
              "         0,  3,  7, -1,  2,  0,  2,  5, -1, 10,  0,  1,  7,  4,  6,  8, -1,\n",
              "         6,  1,  3,  3,  9,  5,  7,  6,  6,  6,  9,  2,  4,  4,  9,  3, -1,\n",
              "         9,  9, 10, -1,  4,  2, -1,  5,  7,  8, -1, 10, -1,  6,  1,  6,  3,\n",
              "        -1,  4, -1,  5,  4,  4, -1,  1,  1,  9,  5,  9,  8, -1,  1,  6, -1,\n",
              "         9,  3, -1,  7,  0,  1,  6, 10,  5,  8,  1,  6, -1,  9, -1,  7, 10,\n",
              "        -1,  3,  3,  1,  9,  3,  4,  6, -1,  1, -1,  4, -1, -1, -1,  0, 10,\n",
              "        -1, -1,  3,  7,  6,  2,  0,  9,  6,  8,  9, -1, 10,  8, 10,  2, -1,\n",
              "         7,  1, -1, -1, 10,  3,  8, -1,  3, 10,  8, -1,  6,  5,  1,  5,  3,\n",
              "         5,  1,  4,  2,  8,  4,  9,  5,  2,  9,  0,  0,  1,  0, -1, 10, -1,\n",
              "         7, -1, -1,  6,  6,  8,  7,  9, 10,  5,  6,  6, -1, -1,  0,  2,  6,\n",
              "        -1,  3,  6,  4,  8,  4, -1,  3,  9,  3,  1, -1,  5,  4,  0, -1,  7,\n",
              "        -1,  7,  9,  6,  3, -1,  7,  0,  0,  3,  7,  1,  9,  2, -1,  6,  1,\n",
              "         3,  1,  3,  7,  2,  0,  5,  3,  7,  0,  7, -1, -1, 10, -1, -1,  6,\n",
              "         0, 10,  4,  4,  6,  6,  1,  7,  6,  0,  3, 10,  7,  0,  4,  3,  4,\n",
              "         3,  7, 10,  9,  3,  8,  3,  0,  8,  0,  9,  4,  8, -1,  2,  1,  1,\n",
              "        -1,  5,  8,  7, 10, -1, 10,  1,  8,  7,  3,  5,  6, 10]),\n",
              " array([-1, -1, -1, -1, -1, -1, -1, -1, -1, -1, -1, -1, -1, -1, -1, -1, -1,\n",
              "         6, -1, -1, -1, -1, -1, -1, -1, -1, -1, -1, -1, -1, -1, -1, -1, -1,\n",
              "        -1, -1, -1, -1, -1, -1, -1, -1, -1, -1, -1, -1, -1, -1, -1, -1, -1,\n",
              "        -1, -1, -1, -1, -1, -1, -1, -1, -1, -1, -1, -1, -1, -1, -1, -1, -1,\n",
              "        -1, -1, -1, -1, -1, -1, -1, -1, -1, -1, -1, -1, -1, -1, -1, -1, -1,\n",
              "        -1, -1, -1, -1, -1, -1, -1, -1, -1, -1, -1, -1, -1, -1, -1, -1, -1,\n",
              "        -1, -1, -1, -1, -1, -1, -1, -1, -1, -1, -1, -1, -1, -1, -1, -1, -1,\n",
              "        -1, -1, -1, -1, -1, -1, -1, -1, -1, -1, -1, -1, -1, -1, -1, -1,  5,\n",
              "        -1, -1, -1, -1, -1, -1, -1, -1, -1, -1, -1, -1, -1, -1, -1, -1, -1,\n",
              "        -1, -1, -1, -1, -1, -1, -1, -1, -1, -1, -1, -1,  5, -1, -1, -1, -1,\n",
              "        -1, -1, -1, -1, -1, -1, -1, -1, -1, -1, -1, -1, -1, -1, -1, -1, -1,\n",
              "        -1, -1, -1, -1, -1, -1, -1, -1, -1, -1, -1, -1, -1, -1, -1, -1, -1,\n",
              "        -1, -1, -1, -1, -1, -1, -1, -1, -1, -1, -1, -1, -1, -1, -1, -1, -1,\n",
              "        -1, -1, -1,  2, -1, -1, -1, -1, -1, -1, -1, -1, -1, -1, -1, -1, -1,\n",
              "        -1, -1, -1, -1, -1, -1, -1, -1, -1, -1, -1, -1, -1, -1, -1, -1, -1,\n",
              "        -1, -1, -1, -1, -1, -1, -1, -1, -1, -1, -1, -1, -1, -1, -1, -1, -1,\n",
              "        -1, -1, -1, -1, -1, -1, -1, -1, -1, -1, -1, -1, -1, -1, -1, -1, -1,\n",
              "        -1, -1, -1, -1, -1, -1, -1, -1, -1, -1, -1, -1, -1, -1, -1, -1, -1,\n",
              "        -1, -1, -1, -1, -1, -1, -1, -1, -1, -1, -1, -1, -1, -1, -1, -1, -1,\n",
              "        -1, -1, -1, -1, -1, -1, -1, -1, -1, -1, -1, -1, -1, -1, -1, -1, -1,\n",
              "        -1, -1, -1, -1, -1, -1, -1, -1, -1, -1, -1, -1, -1, -1, -1, -1, -1,\n",
              "        -1, -1, -1, -1, -1, -1, -1, -1, -1, -1, -1, -1, -1, -1, -1, -1, -1,\n",
              "        -1, -1, -1, -1, -1, -1, -1, -1, -1, -1, -1, -1, -1, -1, -1, -1, -1,\n",
              "        -1, -1, -1, -1, -1, -1, -1, -1, -1, -1, -1, -1, -1, -1, -1, -1, -1,\n",
              "        -1, -1, -1, -1, -1, -1, -1, -1, -1, -1, -1, -1, -1, -1, -1, -1, -1,\n",
              "        -1, -1, -1, -1, -1, -1, -1, -1, -1, -1, -1, -1, -1, -1, -1, -1, -1,\n",
              "        -1, -1, -1, -1, -1, -1, -1, -1, -1, -1, -1, -1, -1, -1, -1, -1, -1,\n",
              "        -1, -1, -1, -1, -1, -1, -1, -1, -1, -1, -1, -1, -1, -1, -1, -1, -1,\n",
              "        -1, -1, -1, -1, -1, -1, -1, -1, -1, -1, -1, -1, -1, -1, -1, -1, -1,\n",
              "        -1, -1, -1, -1, -1, -1, -1, -1, -1, -1, -1, -1, -1, -1, -1, -1, -1,\n",
              "        -1, -1, -1, -1, -1, -1, -1, -1, -1, -1, -1, -1, -1, -1, -1, -1, -1,\n",
              "        -1, -1, -1, -1, -1, -1, -1, -1, -1, -1, -1, -1, -1, -1, -1, -1, -1,\n",
              "        -1, -1, -1, -1, -1, -1, -1, -1, 10, -1, -1, -1, -1, -1, -1, -1, -1,\n",
              "         8, -1, -1, -1, -1, -1, -1, -1, -1, -1, -1, -1, -1, -1, -1, -1, -1,\n",
              "        -1, -1, -1, -1, -1, -1, -1, -1, -1, -1, -1, -1, -1, -1, -1, -1, -1,\n",
              "        -1, -1, -1, -1, -1, -1, -1, -1, -1, -1, -1, -1, -1, -1, -1, -1, -1,\n",
              "        -1, -1, -1, -1, -1, -1, -1, -1, -1, -1, -1, -1, -1, -1, -1, -1, -1,\n",
              "        -1, -1, -1, -1, -1, -1, -1, -1, -1, -1, -1, -1,  6, -1, -1, -1, -1,\n",
              "        -1, -1, -1, -1, -1, -1, -1,  1, -1, -1, -1, -1, -1, -1, -1, -1, -1,\n",
              "        -1, -1, -1, -1, -1, -1, -1, -1, -1, -1, -1, -1, -1, -1, -1, -1, -1,\n",
              "        -1, -1, -1, -1, -1, -1, -1, -1, -1, -1, -1, -1, -1, -1, -1, -1, -1,\n",
              "        -1, -1, -1, -1, -1, -1, -1, -1, -1, -1, -1, -1, -1, -1, -1, -1, -1,\n",
              "        -1, -1, -1, -1, -1, -1, -1, -1, -1, -1, -1, -1, -1, -1, -1, -1, -1,\n",
              "        -1, -1, -1, -1, -1, -1, -1, -1, -1, -1, -1, -1, -1, -1, -1, -1, -1,\n",
              "        -1, -1, -1, -1, -1, -1, -1, -1, -1, -1, -1, -1, -1, -1, -1, -1, -1,\n",
              "        -1, -1, -1, -1, -1, -1, -1, -1, -1, -1, -1, -1, -1, -1, -1, -1, -1,\n",
              "        -1, -1, -1, -1, -1, -1, -1, -1, -1, -1, -1, -1, -1, -1, -1, -1, -1,\n",
              "        -1, -1, -1, -1, -1, -1, -1, -1, -1, -1, -1, -1, -1, -1, -1, -1, -1,\n",
              "        -1, -1, -1, -1, -1, -1, -1, -1, -1, -1, -1, -1, -1, -1, -1, -1, -1,\n",
              "        -1, -1, -1, -1, -1, -1, -1, -1, -1, -1, -1, -1, -1, -1, -1, -1, -1,\n",
              "        -1, -1, -1, -1, -1, -1, -1, -1, -1, -1, -1, -1, -1, -1, -1, -1,  4,\n",
              "        -1, -1, -1, -1, -1, -1, -1, -1, -1, -1, -1, -1, -1, -1, -1, -1, -1,\n",
              "        -1, -1, -1, -1, -1, -1, -1, -1, -1, -1, -1, -1, -1, -1, -1, -1, -1,\n",
              "        -1, -1, -1, -1, -1, -1, -1, -1, -1, -1, -1, -1, -1, -1, -1, -1, -1,\n",
              "        -1, -1, -1, -1, -1, -1, -1, -1, -1, -1, -1, -1, -1, -1, -1, -1, -1,\n",
              "        -1, -1, -1, -1, -1, -1, -1, -1, -1, -1, -1, -1, -1, -1, -1, -1, -1,\n",
              "        -1, -1, -1, -1, -1, -1, -1, -1, -1, -1, -1, -1, -1, -1, -1, -1, -1,\n",
              "        -1, -1, -1, -1, -1, -1, -1, -1, -1, -1, -1, -1, -1, -1, -1, -1, -1,\n",
              "        -1, -1, -1, -1, -1, -1, -1, -1, -1, -1, -1, -1, -1, -1])]"
            ]
          },
          "execution_count": 48,
          "metadata": {},
          "output_type": "execute_result"
        }
      ],
      "source": [
        "movie_matrix[:3]"
      ]
    },
    {
      "cell_type": "code",
      "execution_count": null,
      "metadata": {
        "id": "TgUttCSjlQIX"
      },
      "outputs": [],
      "source": [
        "movie_matrix = np.array(movie_matrix)"
      ]
    },
    {
      "cell_type": "markdown",
      "metadata": {
        "id": "e6prDfNmg2dj"
      },
      "source": [
        "Attributes of the numpy ndarray class"
      ]
    },
    {
      "cell_type": "code",
      "execution_count": null,
      "metadata": {
        "colab": {
          "base_uri": "https://localhost:8080/",
          "height": 187
        },
        "id": "hn_WQ711nbr5",
        "outputId": "58491e17-490d-4408-f074-545fdcd95c89"
      },
      "outputs": [
        {
          "name": "stdout",
          "output_type": "stream",
          "text": [
            "[[-1 -1 -1 ...  3 -1  8]\n",
            " [ 2  7  5 ...  5  6 10]\n",
            " [-1 -1 -1 ... -1 -1 -1]\n",
            " ...\n",
            " [ 6  1  3 ... -1 -1 -1]\n",
            " [ 9  7  4 ...  4  4  9]\n",
            " [-1  6 -1 ...  5 -1  1]]\n",
            "Shape of the array (100, 1000)\n",
            "Number of elements in the array 100000\n",
            "Number of dimensions in the array 2\n"
          ]
        }
      ],
      "source": [
        "print(movie_matrix)\n",
        "print('Shape of the array',movie_matrix.shape) #100 users(rows) and 1000 movies(columns)\n",
        "print('Number of elements in the array',movie_matrix.size)\n",
        "print('Number of dimensions in the array',movie_matrix.ndim)"
      ]
    },
    {
      "cell_type": "markdown",
      "metadata": {
        "id": "6tczGqkMhytM"
      },
      "source": [
        "#### Task 3: Add the reviews of 10 movie experts and 50 more movies"
      ]
    },
    {
      "cell_type": "code",
      "execution_count": null,
      "metadata": {
        "colab": {
          "base_uri": "https://localhost:8080/",
          "height": 153
        },
        "id": "UpsTw38eOfnw",
        "outputId": "a3621375-230e-4caa-a321-29f01749445e"
      },
      "outputs": [
        {
          "name": "stdout",
          "output_type": "stream",
          "text": [
            "(10, 1000)\n"
          ]
        },
        {
          "data": {
            "text/plain": [
              "array([[ 4, -1,  3, ..., -1, -1, -1],\n",
              "       [ 9, -1, -1, ...,  9, -1,  9],\n",
              "       [10, -1,  7, ..., -1, -1, -1],\n",
              "       ...,\n",
              "       [-1,  9,  9, ..., -1, -1, -1],\n",
              "       [ 3, -1, 10, ..., -1, -1, -1],\n",
              "       [ 3, -1, -1, ..., -1, -1, -1]])"
            ]
          },
          "execution_count": 51,
          "metadata": {},
          "output_type": "execute_result"
        }
      ],
      "source": [
        "#Expert movie reviews\n",
        "\n",
        "expert_matrix = []\n",
        "for user in range(10):\n",
        "  movies_rated_by_me = np.full(1000,-1)\n",
        "  num_movies_rated = random.randint(0,999)\n",
        "  #random.seed(num_movies_rated)\n",
        "  movies_that_i_will_rate = random.sample(range(0,1000),num_movies_rated)\n",
        "  #user rating for movies they chosed to rate\n",
        "  for index in movies_that_i_will_rate:\n",
        "    movies_rated_by_me[index] = random.randint(0,10)\n",
        "  expert_matrix.append(movies_rated_by_me)\n",
        "expert_matrix = np.array(expert_matrix)\n",
        "print(expert_matrix.shape)\n",
        "expert_matrix"
      ]
    },
    {
      "cell_type": "code",
      "execution_count": null,
      "metadata": {
        "colab": {
          "base_uri": "https://localhost:8080/",
          "height": 34
        },
        "id": "6CdIsoYnTha7",
        "outputId": "066492fb-ea4d-4e87-c0dd-98219807ba9b"
      },
      "outputs": [
        {
          "data": {
            "text/plain": [
              "(110, 1000)"
            ]
          },
          "execution_count": 52,
          "metadata": {},
          "output_type": "execute_result"
        }
      ],
      "source": [
        "#adding these expert reviews with original reviews\n",
        "movie_matrix = np.vstack([movie_matrix,expert_matrix]) # vstack is used to stack arrays vertically\n",
        "movie_matrix.shape"
      ]
    },
    {
      "cell_type": "code",
      "execution_count": null,
      "metadata": {
        "colab": {
          "base_uri": "https://localhost:8080/",
          "height": 153
        },
        "id": "dGXDR1lvWaIl",
        "outputId": "090c321f-653a-4fdd-e366-5bbfe971e17b"
      },
      "outputs": [
        {
          "name": "stdout",
          "output_type": "stream",
          "text": [
            "(110, 50)\n"
          ]
        },
        {
          "data": {
            "text/plain": [
              "array([[ 8, 10, -1, ...,  4,  1,  6],\n",
              "       [ 1,  8,  7, ...,  8,  0,  6],\n",
              "       [-1,  0,  5, ...,  4, -1,  8],\n",
              "       ...,\n",
              "       [ 4,  8, -1, ..., -1, -1, -1],\n",
              "       [ 2,  5,  3, ...,  1,  6, -1],\n",
              "       [-1, -1, -1, ..., -1, -1, -1]])"
            ]
          },
          "execution_count": 53,
          "metadata": {},
          "output_type": "execute_result"
        }
      ],
      "source": [
        "new_movies_matrix = []\n",
        "for user in range(110):\n",
        "  movies_rated_by_me = np.full(50,-1)\n",
        "  num_movies_rated = random.randint(0,49)\n",
        "  #random.seed(num_movies_rated)\n",
        "  movies_that_i_will_rate = random.sample(range(0,50),num_movies_rated)\n",
        "  #user rating for movies they chosed to rate\n",
        "  for index in movies_that_i_will_rate:\n",
        "    movies_rated_by_me[index] = random.randint(0,10)\n",
        "  new_movies_matrix.append(movies_rated_by_me)\n",
        "new_movies_matrix = np.array(new_movies_matrix)\n",
        "print(new_movies_matrix.shape)\n",
        "new_movies_matrix"
      ]
    },
    {
      "cell_type": "code",
      "execution_count": null,
      "metadata": {
        "colab": {
          "base_uri": "https://localhost:8080/",
          "height": 34
        },
        "id": "mBdGs_owhTw1",
        "outputId": "e39d624e-a29d-41e1-bdf7-e0f2731bac92"
      },
      "outputs": [
        {
          "data": {
            "text/plain": [
              "1050"
            ]
          },
          "execution_count": 54,
          "metadata": {},
          "output_type": "execute_result"
        }
      ],
      "source": [
        "new_movies_id = np.append(movie_id,np.arange(2301,2351))\n",
        "new_movies_id.size"
      ]
    },
    {
      "cell_type": "code",
      "execution_count": null,
      "metadata": {
        "colab": {
          "base_uri": "https://localhost:8080/",
          "height": 34
        },
        "id": "7eeZVg7nY7PF",
        "outputId": "8dff97f1-ffc7-40da-886a-3584eea3124b"
      },
      "outputs": [
        {
          "name": "stdout",
          "output_type": "stream",
          "text": [
            "(110, 1050)\n"
          ]
        }
      ],
      "source": [
        "#adding the reviews of new movies with original reviews\n",
        "movie_matrix = np.hstack([movie_matrix,new_movies_matrix]) # hstack is used to stack arrays horizontally\n",
        "print(movie_matrix.shape) #100 users + 10 experts(rows) and 1000 + 50 movies(columns)"
      ]
    },
    {
      "cell_type": "markdown",
      "metadata": {
        "id": "NuGZdqVhiSkd"
      },
      "source": [
        "We can see now that we have 110 users and 1050 movies."
      ]
    },
    {
      "cell_type": "markdown",
      "metadata": {
        "id": "4_zQkkz3rgQr"
      },
      "source": [
        "#### Indexing and Slicing in NumPy"
      ]
    },
    {
      "cell_type": "code",
      "execution_count": null,
      "metadata": {
        "colab": {
          "base_uri": "https://localhost:8080/",
          "height": 34
        },
        "id": "md1h-3XysHJP",
        "outputId": "4fe18267-508f-416f-c21f-50615a660356"
      },
      "outputs": [
        {
          "name": "stdout",
          "output_type": "stream",
          "text": [
            "Accessed Element: 6\n"
          ]
        }
      ],
      "source": [
        "#Indexing \n",
        "a = np.arange(1,10)\n",
        "print(\"Accessed Element:\",a[5]) #Accessing a Single Element"
      ]
    },
    {
      "cell_type": "code",
      "execution_count": null,
      "metadata": {
        "colab": {
          "base_uri": "https://localhost:8080/",
          "height": 51
        },
        "id": "e5-ZVDR-rmrh",
        "outputId": "fb8ba05c-b297-400f-91bd-d5f79b2c04e9"
      },
      "outputs": [
        {
          "name": "stdout",
          "output_type": "stream",
          "text": [
            "Given Array: [1 2 3 4 5 6 7 8 9]\n",
            "Retrieved Elements: [4 5 6 7 8 9]\n"
          ]
        }
      ],
      "source": [
        "print('Given Array:',a) \n",
        "print('Retrieved Elements:',a[3:])"
      ]
    },
    {
      "cell_type": "markdown",
      "metadata": {
        "id": "s5D_WknewJLD"
      },
      "source": [
        "#### Statistical Function in NumPy"
      ]
    },
    {
      "cell_type": "code",
      "execution_count": null,
      "metadata": {
        "colab": {
          "base_uri": "https://localhost:8080/",
          "height": 85
        },
        "id": "5VJS_hLuyjEX",
        "outputId": "ac813700-1489-4018-b81a-dc8e415e3793"
      },
      "outputs": [
        {
          "name": "stdout",
          "output_type": "stream",
          "text": [
            "mean of the array is 3.5\n",
            "Standard deviation of the array is 2.6299556396765835\n",
            "median of the array is 2.5\n",
            "minimum value in the array is 1\n"
          ]
        }
      ],
      "source": [
        "arr = np.array([[4,9,2],\n",
        "              [3,1,2]])\n",
        "print('mean of the array is',arr.mean())\n",
        "print('Standard deviation of the array is',arr.std()) #std() - Returns the Standard Deviation of the given data. It is the square-root of variance\n",
        "print('median of the array is',np.median(arr))\n",
        "print('minimum value in the array is',arr.min())"
      ]
    },
    {
      "cell_type": "code",
      "execution_count": null,
      "metadata": {
        "colab": {
          "base_uri": "https://localhost:8080/",
          "height": 68
        },
        "id": "g2DSvWumyi-i",
        "outputId": "d7ab5db1-e5ff-42c8-9ee5-5c116753df3d"
      },
      "outputs": [
        {
          "name": "stdout",
          "output_type": "stream",
          "text": [
            "4.111111111111111\n",
            "[2.333 5.000 5.000]\n",
            "[4.000 4.667 3.667]\n"
          ]
        }
      ],
      "source": [
        "#mean() - Returns the Mean of the given data\n",
        "\n",
        "arr = np.array([[0,5,7],\n",
        "              [4,9,1],\n",
        "              [3,1,7]])\n",
        "print(np.mean(arr))\n",
        "\n",
        "print(np.mean(arr,0)) #Mean along axis - 0\n",
        "\n",
        "print(np.mean(arr,1)) #Mean along axis - 1"
      ]
    },
    {
      "cell_type": "markdown",
      "metadata": {
        "id": "UqMGt6YP99nv"
      },
      "source": [
        "#### Task 4: Create final_movie_rating matrix with four columns i.e., \n",
        "- 'Movie ID'\n",
        "- 'Average rating'\n",
        "- 'Number of ratings'\n",
        "- 'Standard deviation of ratings'"
      ]
    },
    {
      "cell_type": "code",
      "execution_count": null,
      "metadata": {
        "id": "UZ1OBQzhnnCk"
      },
      "outputs": [],
      "source": [
        "final_movie_rating = []\n",
        "for i in range(1050):\n",
        "  #each movie's rating\n",
        "  m = movie_matrix[:,i] # taking all rows and the ith column\n",
        "  m = m[m>=0]\n",
        "  #total_rate = m.sum()\n",
        "  total_num_rating = m.size\n",
        "  rating = m.mean()\n",
        "  standard_deviation = m.std()\n",
        "  final_movie_rating.append([new_movies_id[i],rating,total_num_rating,standard_deviation])"
      ]
    },
    {
      "cell_type": "code",
      "execution_count": null,
      "metadata": {
        "colab": {
          "base_uri": "https://localhost:8080/",
          "height": 136
        },
        "id": "Wp69L8ZOpdmu",
        "outputId": "7572ac46-edd0-4117-c4ab-2a059584f2c0"
      },
      "outputs": [
        {
          "data": {
            "text/plain": [
              "array([[1301.000, 5.548, 62.000, 2.987],\n",
              "       [1302.000, 4.773, 66.000, 2.880],\n",
              "       [1303.000, 5.509, 57.000, 3.250],\n",
              "       ...,\n",
              "       [2348.000, 4.947, 57.000, 3.241],\n",
              "       [2349.000, 4.382, 55.000, 3.366],\n",
              "       [2350.000, 5.259, 54.000, 2.723]])"
            ]
          },
          "execution_count": 61,
          "metadata": {},
          "output_type": "execute_result"
        }
      ],
      "source": [
        "final_movie_rating = np.array(final_movie_rating)\n",
        "final_movie_rating"
      ]
    },
    {
      "cell_type": "markdown",
      "metadata": {
        "id": "Hfh298Bu7NBl"
      },
      "source": [
        "#### Mathematical Operation using NumPy"
      ]
    },
    {
      "cell_type": "code",
      "execution_count": null,
      "metadata": {
        "colab": {
          "base_uri": "https://localhost:8080/",
          "height": 153
        },
        "id": "YY7sN9CV7dFZ",
        "outputId": "d8aee273-48b1-4145-bfe1-0961b450a807"
      },
      "outputs": [
        {
          "name": "stdout",
          "output_type": "stream",
          "text": [
            "[[ 4  0]\n",
            " [ 8 18]]\n",
            "Another way to perform element-wise operation\n",
            " [[ 4  0]\n",
            " [ 8 18]]\n",
            "1 added to Matrix 'a' element-wise\n",
            "  [[ 3  1]\n",
            " [ 5 10]]\n"
          ]
        }
      ],
      "source": [
        "#add() - Used to add arguments element-wise\n",
        "\n",
        "a = np.array([[2,0],\n",
        "              [4,9]])\n",
        "b = np.array([[2,0],\n",
        "              [4,9]])\n",
        "print(np.add(a,b))\n",
        "print(\"Another way to perform element-wise operation\\n\",a+b)\n",
        "print(\"1 added to Matrix 'a' element-wise\\n \",a+1)"
      ]
    },
    {
      "cell_type": "code",
      "execution_count": null,
      "metadata": {
        "colab": {
          "base_uri": "https://localhost:8080/",
          "height": 34
        },
        "id": "YFc2yY4Q7dZT",
        "outputId": "d060b080-134a-4104-ebc2-09198eaf1c41"
      },
      "outputs": [
        {
          "data": {
            "text/plain": [
              "array([[ 0, 10, 20]])"
            ]
          },
          "execution_count": 63,
          "metadata": {},
          "output_type": "execute_result"
        }
      ],
      "source": [
        "#subtract() - Used to subtract arguments element-wise\n",
        "\n",
        "a = np.array([[10,20,30]])\n",
        "b = np.array([[10,10,10]])\n",
        "np.subtract(a,b)\n"
      ]
    },
    {
      "cell_type": "code",
      "execution_count": null,
      "metadata": {
        "colab": {
          "base_uri": "https://localhost:8080/",
          "height": 68
        },
        "id": "cBuF23fJ7dMY",
        "outputId": "4d399ddc-6dd6-48ca-ecf9-0d8ef0f9a856"
      },
      "outputs": [
        {
          "data": {
            "text/plain": [
              "array([[ 0, 50, 70],\n",
              "       [40, 90, 10],\n",
              "       [30, 10, 70]])"
            ]
          },
          "execution_count": 64,
          "metadata": {},
          "output_type": "execute_result"
        }
      ],
      "source": [
        "#multiply() - Used to add multiply arguments element-wise\n",
        "\n",
        "a = np.array([[0,5,7],\n",
        "              [4,9,1],\n",
        "              [3,1,7]])\n",
        "b = np.array([[10,10,10]])\n",
        "np.multiply(a,b)"
      ]
    },
    {
      "cell_type": "code",
      "execution_count": null,
      "metadata": {
        "colab": {
          "base_uri": "https://localhost:8080/",
          "height": 68
        },
        "id": "Ehb6p3on8Q3b",
        "outputId": "2abdc696-d40a-4112-c8d6-25521fb306b7"
      },
      "outputs": [
        {
          "data": {
            "text/plain": [
              "array([[10.000, 12.000, 16.000],\n",
              "       [2.000, 4.000, 9.000],\n",
              "       [1.000, 27.000, 39.000]])"
            ]
          },
          "execution_count": 65,
          "metadata": {},
          "output_type": "execute_result"
        }
      ],
      "source": [
        "#divide() - Used to divide arguments element-wise\n",
        "\n",
        "a = np.array([[20,24,32],\n",
        "              [4,8,18],\n",
        "              [2,54,78]])\n",
        "b = np.array([[2]])\n",
        "np.divide(a,b)"
      ]
    },
    {
      "cell_type": "code",
      "execution_count": null,
      "metadata": {
        "colab": {
          "base_uri": "https://localhost:8080/",
          "height": 85
        },
        "id": "CKWsVcwG9iYX",
        "outputId": "d2a80a45-ac60-417f-a2bd-4ee85b204d20"
      },
      "outputs": [
        {
          "name": "stdout",
          "output_type": "stream",
          "text": [
            "Input array : \n",
            " [7.5, 21.5, 42.8, 43.7, 14.2, 32.6, 51.9, 2.5, 1.9]\n",
            "Ceiling Values:\n",
            " [8.000 22.000 43.000 44.000 15.000 33.000 52.000 3.000 2.000]\n"
          ]
        }
      ],
      "source": [
        "#ceil() -Returns the ceiling of an input value\n",
        "\n",
        "arr = [7.5, 21.5, 42.8, 43.7, 14.2, 32.6, 51.9, 2.5, 1.9] \n",
        "print(\"Input array : \\n\",arr) \n",
        "\n",
        "print(\"Ceiling Values:\\n\",np.ceil(arr)) "
      ]
    },
    {
      "cell_type": "markdown",
      "metadata": {
        "id": "t9k7I6TY91YM"
      },
      "source": [
        "#### Task 5: Convert the final movie ratings to have range from 0 to 10, such that the minimum rating converts to 0 and maximum to 10, and the other values in between"
      ]
    },
    {
      "cell_type": "code",
      "execution_count": null,
      "metadata": {
        "id": "r1cnHOfsvLoG"
      },
      "outputs": [],
      "source": [
        "#Converting the average of movie ratings to have the range 0 to 10\n",
        "x = final_movie_rating[:,1]\n",
        "old_range = x.max()-x.min()\n",
        "new_range = (10 - 0)\n",
        "final_movie_rating[:,1] = ((x - x.min())*(new_range/old_range) + 0)"
      ]
    },
    {
      "cell_type": "code",
      "execution_count": null,
      "metadata": {
        "colab": {
          "base_uri": "https://localhost:8080/",
          "height": 136
        },
        "id": "2MiI0q7rMrjO",
        "outputId": "626098e6-cc39-4be1-e4c8-4909351757cd"
      },
      "outputs": [
        {
          "data": {
            "text/plain": [
              "array([[1301.000, 6.954, 62.000, 2.987],\n",
              "       [1302.000, 3.798, 66.000, 2.880],\n",
              "       [1303.000, 6.793, 57.000, 3.250],\n",
              "       ...,\n",
              "       [2348.000, 4.509, 57.000, 3.241],\n",
              "       [2349.000, 2.208, 55.000, 3.366],\n",
              "       [2350.000, 5.778, 54.000, 2.723]])"
            ]
          },
          "execution_count": 68,
          "metadata": {},
          "output_type": "execute_result"
        }
      ],
      "source": [
        "final_movie_rating"
      ]
    },
    {
      "cell_type": "code",
      "execution_count": null,
      "metadata": {
        "colab": {
          "base_uri": "https://localhost:8080/",
          "height": 34
        },
        "id": "aMNf2jhTNW3-",
        "outputId": "eee2054d-ce33-49fc-c398-8450ad8408c7"
      },
      "outputs": [
        {
          "data": {
            "text/plain": [
              "(1050, 4)"
            ]
          },
          "execution_count": 69,
          "metadata": {},
          "output_type": "execute_result"
        }
      ],
      "source": [
        "final_movie_rating.shape"
      ]
    },
    {
      "cell_type": "markdown",
      "metadata": {
        "id": "YvEEJDHF0TSe"
      },
      "source": [
        "#### Task 6: Display the movies rating-wise, highest to lowest"
      ]
    },
    {
      "cell_type": "code",
      "execution_count": null,
      "metadata": {
        "id": "IbsEppcTg2V7"
      },
      "outputs": [],
      "source": [
        "sorted_films = final_movie_rating[final_movie_rating[:,1].argsort()[::-1]]"
      ]
    },
    {
      "cell_type": "code",
      "execution_count": null,
      "metadata": {
        "colab": {
          "base_uri": "https://localhost:8080/",
          "height": 136
        },
        "id": "8_wiVBTRrt_M",
        "outputId": "72befc4d-b599-4606-9d5e-19f29cbb0111"
      },
      "outputs": [
        {
          "name": "stdout",
          "output_type": "stream",
          "text": [
            "[[2118.000 10.000 64.000 2.854]\n",
            " [1376.000 9.213 58.000 2.958]\n",
            " [1968.000 9.073 58.000 2.906]\n",
            " ...\n",
            " [1566.000 0.277 54.000 2.843]\n",
            " [1613.000 0.129 62.000 2.876]\n",
            " [2276.000 0.000 56.000 2.658]]\n"
          ]
        }
      ],
      "source": [
        "print(sorted_films)"
      ]
    },
    {
      "cell_type": "markdown",
      "metadata": {
        "id": "xM74N_hB5Brl"
      },
      "source": [
        "**savetxt()** method is used to write files from a NumPy array."
      ]
    },
    {
      "cell_type": "code",
      "execution_count": null,
      "metadata": {
        "id": "sliEHZ5grIl5"
      },
      "outputs": [],
      "source": [
        "np.savetxt('ranked_movie_data.csv',sorted_films, delimiter=',')"
      ]
    },
    {
      "cell_type": "markdown",
      "metadata": {
        "id": "zdnNdloz43LD"
      },
      "source": [
        "**genfromtxt()** method is used to read files in a NumPy array."
      ]
    },
    {
      "cell_type": "code",
      "execution_count": null,
      "metadata": {
        "id": "VTmzIqvB08fJ"
      },
      "outputs": [],
      "source": [
        "data = np.genfromtxt('ranked_movie_data.csv',delimiter = ',')"
      ]
    },
    {
      "cell_type": "code",
      "execution_count": null,
      "metadata": {
        "colab": {
          "base_uri": "https://localhost:8080/",
          "height": 136
        },
        "id": "cEJIdXLT1ER7",
        "outputId": "9205a1f8-4037-4da3-b08a-96bee70422ad"
      },
      "outputs": [
        {
          "data": {
            "text/plain": [
              "array([[2118.000, 10.000, 64.000, 2.854],\n",
              "       [1376.000, 9.213, 58.000, 2.958],\n",
              "       [1968.000, 9.073, 58.000, 2.906],\n",
              "       ...,\n",
              "       [1566.000, 0.277, 54.000, 2.843],\n",
              "       [1613.000, 0.129, 62.000, 2.876],\n",
              "       [2276.000, 0.000, 56.000, 2.658]])"
            ]
          },
          "execution_count": 74,
          "metadata": {},
          "output_type": "execute_result"
        }
      ],
      "source": [
        "data"
      ]
    },
    {
      "cell_type": "markdown",
      "metadata": {
        "id": "hE_vdEYA-Ejz"
      },
      "source": [
        "**If you want to learn more about NumPy [Click Here](https://numpy.org/devdocs/user/quickstart.html).**"
      ]
    }
  ],
  "metadata": {
    "colab": {
      "collapsed_sections": [
        "TvAJnYyP0TSQ",
        "6tczGqkMhytM",
        "4_zQkkz3rgQr",
        "s5D_WknewJLD",
        "UqMGt6YP99nv",
        "Hfh298Bu7NBl",
        "t9k7I6TY91YM",
        "YvEEJDHF0TSe"
      ],
      "name": "Demo - Movie_Rating_System.ipynb",
      "provenance": []
    },
    "kernelspec": {
      "display_name": "Python 3 (ipykernel)",
      "language": "python",
      "name": "python3"
    },
    "language_info": {
      "codemirror_mode": {
        "name": "ipython",
        "version": 3
      },
      "file_extension": ".py",
      "mimetype": "text/x-python",
      "name": "python",
      "nbconvert_exporter": "python",
      "pygments_lexer": "ipython3",
      "version": "3.9.7"
    }
  },
  "nbformat": 4,
  "nbformat_minor": 0
}