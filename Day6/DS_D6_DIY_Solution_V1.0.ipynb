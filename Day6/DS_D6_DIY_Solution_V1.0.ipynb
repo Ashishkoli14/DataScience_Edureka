{
 "cells": [
  {
   "cell_type": "markdown",
   "metadata": {
    "id": "Lt-KKPnXSCuz"
   },
   "source": [
    "##Day 6 - DIY Solution"
   ]
  },
  {
   "cell_type": "markdown",
   "metadata": {
    "id": "WUvzPuGqSHQk"
   },
   "source": [
    "**Q1. Problem Statement: Understanding NumPy Arrays**\n",
    "\n",
    "Write a Python program that prints odd numbers from 1 to 30 using NumPy array. Also, print the data type of output.\n"
   ]
  },
  {
   "cell_type": "code",
   "execution_count": null,
   "metadata": {
    "colab": {
     "base_uri": "https://localhost:8080/"
    },
    "id": "OquSjtDgRyqO",
    "outputId": "fbc7e7f4-c49e-4fc2-ab41-34dc9eccd152"
   },
   "outputs": [
    {
     "name": "stdout",
     "output_type": "stream",
     "text": [
      "[ 1  3  5  7  9 11 13 15 17 19 21 23 25 27 29]\n",
      "<class 'numpy.ndarray'>\n"
     ]
    }
   ],
   "source": [
    "#Using NumPy arange()\n",
    "import numpy as np # Importing NumPy \n",
    "x = np.arange(1, 30, 2)\n",
    "print(x)\n",
    "print(type(x))"
   ]
  },
  {
   "cell_type": "markdown",
   "metadata": {
    "id": "bL3SAzjiSU3m"
   },
   "source": [
    "**Q2. Problem Statement: Size Comparision**\n",
    "\n",
    "Write a Python program to declare a list and NumPy arrays(1-D, 2-D, and 3-D) and compare the size of the list and the arrays. Also, compare the size of  each element in the list and the array(in terms of memory occupancy). \n"
   ]
  },
  {
   "cell_type": "code",
   "execution_count": 1,
   "metadata": {
    "colab": {
     "base_uri": "https://localhost:8080/"
    },
    "id": "COJRFLOLSa34",
    "outputId": "578086b0-eecf-4dfb-8155-76b16ac6699e"
   },
   "outputs": [
    {
     "name": "stdout",
     "output_type": "stream",
     "text": [
      "Size of each element of list in bytes:  48\n",
      "Size of the whole list in bytes:  480\n",
      "Size of each element of the array in bytes:  8\n",
      "Size of the whole array in bytes:  80\n",
      "Size of each element of the array in bytes:  8\n",
      "Size of the whole array in bytes:  80\n",
      "Size of each element of the array in bytes:  8\n",
      "Size of the whole array in bytes:  80\n"
     ]
    }
   ],
   "source": [
    "#importing modules \n",
    "import numpy as np\n",
    "import sys \n",
    "    \n",
    "# declaring a list of 10elements  \n",
    "List = range(10) \n",
    "    \n",
    "# printing size of each element of the list \n",
    "print(\"Size of each element of\"\\\n",
    "\" list in bytes: \", sys.getsizeof(List))\n",
    "    \n",
    "# printing size of the whole list \n",
    "print(\"Size of the whole list in\"\\\n",
    "\" bytes: \", sys.getsizeof(List)*len(List)) \n",
    "    \n",
    "# declaring an array of 10 elements  \n",
    "array_size = 10\n",
    "\n",
    "one_dimensional_array  = np.random.rand(array_size)\n",
    "two_dimensional_array  = np.random.rand(array_size, 2)\n",
    "three_dimensional_array = np.random.rand(array_size, 3)\n",
    "    \n",
    "# printing size of each element of the 1-D Numpy array \n",
    "print(\"Size of each element of \"\\\n",
    "\"the array in bytes: \", one_dimensional_array.itemsize) \n",
    "    \n",
    "# printing size of the whole 1-D Numpy array \n",
    "print(\"Size of the whole array\"\\\n",
    "\" in bytes: \", len(one_dimensional_array)*one_dimensional_array.itemsize) \n",
    "\n",
    "# printing size of each element of the 2-D Numpy array \n",
    "print(\"Size of each element of \"\\\n",
    "\"the array in bytes: \", two_dimensional_array.itemsize) \n",
    "    \n",
    "# printing size of the whole 2-D Numpy array \n",
    "print(\"Size of the whole array\"\\\n",
    "\" in bytes: \", len(two_dimensional_array)*two_dimensional_array.itemsize) \n",
    "\n",
    "# printing size of each element of the 3-D Numpy array \n",
    "print(\"Size of each element of \"\\\n",
    "\"the array in bytes: \", three_dimensional_array.itemsize) \n",
    "    \n",
    "# printing size of the whole 3-D Numpy array \n",
    "print(\"Size of the whole array\"\\\n",
    "\" in bytes: \", len(three_dimensional_array)*three_dimensional_array.itemsize) \n",
    "\n"
   ]
  },
  {
   "cell_type": "code",
   "execution_count": null,
   "metadata": {},
   "outputs": [],
   "source": []
  }
 ],
 "metadata": {
  "colab": {
   "collapsed_sections": [],
   "name": "DS_D6_DIY_V1.0.ipynb",
   "provenance": []
  },
  "kernelspec": {
   "display_name": "Python 3 (ipykernel)",
   "language": "python",
   "name": "python3"
  },
  "language_info": {
   "codemirror_mode": {
    "name": "ipython",
    "version": 3
   },
   "file_extension": ".py",
   "mimetype": "text/x-python",
   "name": "python",
   "nbconvert_exporter": "python",
   "pygments_lexer": "ipython3",
   "version": "3.10.9"
  }
 },
 "nbformat": 4,
 "nbformat_minor": 1
}
