{
 "cells": [
  {
   "cell_type": "code",
   "execution_count": 1,
   "id": "4e748412",
   "metadata": {},
   "outputs": [
    {
     "name": "stderr",
     "output_type": "stream",
     "text": [
      "[nltk_data] Downloading package maxent_ne_chunker to\n",
      "[nltk_data]     C:\\Users\\navan\\AppData\\Roaming\\nltk_data...\n",
      "[nltk_data]   Unzipping chunkers\\maxent_ne_chunker.zip.\n",
      "[nltk_data] Downloading package words to\n",
      "[nltk_data]     C:\\Users\\navan\\AppData\\Roaming\\nltk_data...\n",
      "[nltk_data]   Unzipping corpora\\words.zip.\n"
     ]
    },
    {
     "data": {
      "text/plain": [
       "True"
      ]
     },
     "execution_count": 1,
     "metadata": {},
     "output_type": "execute_result"
    }
   ],
   "source": [
    "import nltk\n",
    "from nltk import ne_chunk\n",
    "nltk.download(\"maxent_ne_chunker\")\n",
    "nltk.download(\"words\")"
   ]
  },
  {
   "cell_type": "code",
   "execution_count": 2,
   "id": "6ea2a038",
   "metadata": {},
   "outputs": [
    {
     "name": "stdout",
     "output_type": "stream",
     "text": [
      "Ferrari is an Italian luxury sports car manufacturer based in Maranello. Founded by Enzo Ferrari in 1939, the company built its first car in 1940.\n"
     ]
    }
   ],
   "source": [
    "example = \"Ferrari is an Italian luxury sports car manufacturer based in Maranello. Founded by Enzo Ferrari in 1939, the company built its first car in 1940.\"\n",
    "print(example)"
   ]
  },
  {
   "cell_type": "code",
   "execution_count": 3,
   "id": "44eab1c6",
   "metadata": {},
   "outputs": [
    {
     "name": "stdout",
     "output_type": "stream",
     "text": [
      "(S\n",
      "  (GPE Ferrari/NNP)\n",
      "  is/VBZ\n",
      "  an/DT\n",
      "  (GPE Italian/JJ)\n",
      "  luxury/NN\n",
      "  sports/NNS\n",
      "  car/NN\n",
      "  manufacturer/NN\n",
      "  based/VBN\n",
      "  in/IN\n",
      "  (GPE Maranello/NNP)\n",
      "  ./.\n",
      "  Founded/VBN\n",
      "  by/IN\n",
      "  (PERSON Enzo/NNP Ferrari/NNP)\n",
      "  in/IN\n",
      "  1939/CD\n",
      "  ,/,\n",
      "  the/DT\n",
      "  company/NN\n",
      "  built/VBD\n",
      "  its/PRP$\n",
      "  first/JJ\n",
      "  car/NN\n",
      "  in/IN\n",
      "  1940/CD\n",
      "  ./.)\n"
     ]
    }
   ],
   "source": [
    "tokenized = nltk.word_tokenize(example)\n",
    "#pos tag\n",
    "tagged = nltk.pos_tag(tokenized)\n",
    "namedEnt = ne_chunk(tagged)\n",
    "print(namedEnt)"
   ]
  },
  {
   "cell_type": "code",
   "execution_count": 4,
   "id": "4d643e1b",
   "metadata": {},
   "outputs": [],
   "source": [
    "from nltk.wsd import lesk"
   ]
  },
  {
   "cell_type": "code",
   "execution_count": 5,
   "id": "b60f673b",
   "metadata": {},
   "outputs": [],
   "source": [
    "sent1 = \"She is looking for a match\"\n",
    "sent2 = \"Yesterday's Football match was exciting\""
   ]
  },
  {
   "cell_type": "code",
   "execution_count": 7,
   "id": "fe641a8d",
   "metadata": {},
   "outputs": [
    {
     "name": "stdout",
     "output_type": "stream",
     "text": [
      "Synset('peer.n.01') a person who is of equal standing with another in a group\n"
     ]
    }
   ],
   "source": [
    "c1 = lesk(nltk.word_tokenize(sent1), \"match\")\n",
    "print(c1, c1.definition())"
   ]
  },
  {
   "cell_type": "code",
   "execution_count": 8,
   "id": "cb5d0bfc",
   "metadata": {},
   "outputs": [
    {
     "name": "stdout",
     "output_type": "stream",
     "text": [
      "Synset('match.n.05') the score needed to win a match\n"
     ]
    }
   ],
   "source": [
    "c2 = lesk(nltk.word_tokenize(sent2), \"match\")\n",
    "print(c2, c2.definition())"
   ]
  },
  {
   "cell_type": "code",
   "execution_count": null,
   "id": "969971d9",
   "metadata": {},
   "outputs": [],
   "source": []
  }
 ],
 "metadata": {
  "kernelspec": {
   "display_name": "Python 3 (ipykernel)",
   "language": "python",
   "name": "python3"
  },
  "language_info": {
   "codemirror_mode": {
    "name": "ipython",
    "version": 3
   },
   "file_extension": ".py",
   "mimetype": "text/x-python",
   "name": "python",
   "nbconvert_exporter": "python",
   "pygments_lexer": "ipython3",
   "version": "3.9.7"
  }
 },
 "nbformat": 4,
 "nbformat_minor": 5
}
