{
 "cells": [
  {
   "cell_type": "code",
   "execution_count": 1,
   "id": "04cb5112",
   "metadata": {},
   "outputs": [
    {
     "data": {
      "text/plain": [
       "'measur'"
      ]
     },
     "execution_count": 1,
     "metadata": {},
     "output_type": "execute_result"
    }
   ],
   "source": [
    "import nltk\n",
    "from nltk.stem import PorterStemmer\n",
    "\n",
    "pst = PorterStemmer()\n",
    "pst.stem(\"Measure\")"
   ]
  },
  {
   "cell_type": "code",
   "execution_count": 2,
   "id": "934f5d0c",
   "metadata": {},
   "outputs": [
    {
     "data": {
      "text/plain": [
       "'measur'"
      ]
     },
     "execution_count": 2,
     "metadata": {},
     "output_type": "execute_result"
    }
   ],
   "source": [
    "pst.stem(\"Measurement\")"
   ]
  },
  {
   "cell_type": "code",
   "execution_count": 6,
   "id": "a4bbe5b7",
   "metadata": {},
   "outputs": [
    {
     "name": "stdout",
     "output_type": "stream",
     "text": [
      "measur\n",
      "measur\n",
      "measur\n"
     ]
    }
   ],
   "source": [
    "print(pst.stem(\"Measuring\"))\n",
    "print(pst.stem(\"Measurer\"))\n",
    "print(pst.stem(\"Measures\"))"
   ]
  },
  {
   "cell_type": "code",
   "execution_count": 7,
   "id": "e2bd652f",
   "metadata": {},
   "outputs": [],
   "source": [
    "from nltk.stem import LancasterStemmer"
   ]
  },
  {
   "cell_type": "code",
   "execution_count": 8,
   "id": "01142dac",
   "metadata": {},
   "outputs": [
    {
     "data": {
      "text/plain": [
       "'meas'"
      ]
     },
     "execution_count": 8,
     "metadata": {},
     "output_type": "execute_result"
    }
   ],
   "source": [
    "lancast = LancasterStemmer()\n",
    "lancast.stem(\"Measuring\")"
   ]
  },
  {
   "cell_type": "code",
   "execution_count": 9,
   "id": "8636a644",
   "metadata": {},
   "outputs": [
    {
     "name": "stdout",
     "output_type": "stream",
     "text": [
      "meas\n",
      "meas\n",
      "meas\n"
     ]
    }
   ],
   "source": [
    "print(lancast.stem(\"Measuring\"))\n",
    "print(lancast.stem(\"Measurer\"))\n",
    "print(lancast.stem(\"Measures\"))"
   ]
  },
  {
   "cell_type": "code",
   "execution_count": 11,
   "id": "37797101",
   "metadata": {},
   "outputs": [],
   "source": [
    "from nltk.stem import SnowballStemmer\n",
    "sbst = SnowballStemmer(\"spanish\")"
   ]
  },
  {
   "cell_type": "code",
   "execution_count": 12,
   "id": "f8c7c43e",
   "metadata": {},
   "outputs": [
    {
     "data": {
      "text/plain": [
       "('arabic',\n",
       " 'danish',\n",
       " 'dutch',\n",
       " 'english',\n",
       " 'finnish',\n",
       " 'french',\n",
       " 'german',\n",
       " 'hungarian',\n",
       " 'italian',\n",
       " 'norwegian',\n",
       " 'porter',\n",
       " 'portuguese',\n",
       " 'romanian',\n",
       " 'russian',\n",
       " 'spanish',\n",
       " 'swedish')"
      ]
     },
     "execution_count": 12,
     "metadata": {},
     "output_type": "execute_result"
    }
   ],
   "source": [
    "sbst.languages"
   ]
  },
  {
   "cell_type": "code",
   "execution_count": 13,
   "id": "3928ebb1",
   "metadata": {},
   "outputs": [
    {
     "name": "stdout",
     "output_type": "stream",
     "text": [
      "produccion\n",
      "product\n"
     ]
    }
   ],
   "source": [
    "print(sbst.stem(\"producción\"))\n",
    "print(sbst.stem(\"producto\"))"
   ]
  },
  {
   "cell_type": "code",
   "execution_count": 14,
   "id": "099bb483",
   "metadata": {},
   "outputs": [
    {
     "name": "stderr",
     "output_type": "stream",
     "text": [
      "[nltk_data] Downloading package wordnet to\n",
      "[nltk_data]     C:\\Users\\navan\\AppData\\Roaming\\nltk_data...\n",
      "[nltk_data]   Package wordnet is already up-to-date!\n"
     ]
    },
    {
     "data": {
      "text/plain": [
       "True"
      ]
     },
     "execution_count": 14,
     "metadata": {},
     "output_type": "execute_result"
    }
   ],
   "source": [
    "nltk.download(\"wordnet\")"
   ]
  },
  {
   "cell_type": "code",
   "execution_count": 15,
   "id": "177acb8c",
   "metadata": {},
   "outputs": [],
   "source": [
    "from nltk.stem import WordNetLemmatizer"
   ]
  },
  {
   "cell_type": "code",
   "execution_count": 16,
   "id": "43f0b24a",
   "metadata": {},
   "outputs": [],
   "source": [
    "word_lem = WordNetLemmatizer()"
   ]
  },
  {
   "cell_type": "code",
   "execution_count": 18,
   "id": "8ea5d9c6",
   "metadata": {},
   "outputs": [
    {
     "data": {
      "text/plain": [
       "'eat'"
      ]
     },
     "execution_count": 18,
     "metadata": {},
     "output_type": "execute_result"
    }
   ],
   "source": [
    "word_lem.lemmatize(\"eating\", pos=\"v\")"
   ]
  },
  {
   "cell_type": "code",
   "execution_count": 19,
   "id": "16589303",
   "metadata": {},
   "outputs": [
    {
     "data": {
      "text/plain": [
       "'eat'"
      ]
     },
     "execution_count": 19,
     "metadata": {},
     "output_type": "execute_result"
    }
   ],
   "source": [
    "word_lem.lemmatize(\"eats\", pos=\"v\")"
   ]
  },
  {
   "cell_type": "code",
   "execution_count": 20,
   "id": "85691ad3",
   "metadata": {},
   "outputs": [
    {
     "data": {
      "text/plain": [
       "'eat'"
      ]
     },
     "execution_count": 20,
     "metadata": {},
     "output_type": "execute_result"
    }
   ],
   "source": [
    "word_lem.lemmatize(\"ate\", pos=\"v\")"
   ]
  },
  {
   "cell_type": "code",
   "execution_count": null,
   "id": "7e9b5125",
   "metadata": {},
   "outputs": [],
   "source": []
  }
 ],
 "metadata": {
  "kernelspec": {
   "display_name": "Python 3 (ipykernel)",
   "language": "python",
   "name": "python3"
  },
  "language_info": {
   "codemirror_mode": {
    "name": "ipython",
    "version": 3
   },
   "file_extension": ".py",
   "mimetype": "text/x-python",
   "name": "python",
   "nbconvert_exporter": "python",
   "pygments_lexer": "ipython3",
   "version": "3.9.7"
  }
 },
 "nbformat": 4,
 "nbformat_minor": 5
}
