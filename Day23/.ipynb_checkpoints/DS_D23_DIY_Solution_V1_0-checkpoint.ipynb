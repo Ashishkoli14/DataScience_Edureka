{
 "cells": [
  {
   "cell_type": "markdown",
   "metadata": {
    "id": "v3H77GYwqNFN"
   },
   "source": [
    "## Day 23- DIY Solution\n",
    "**Q1. Problem Statement: Conditional Probability**\n",
    "\n",
    "Box-1 contains five white balls and seven black balls. Box-2 contains three whites and twelve black balls. A fair coin is flipped, if it is a Head, a ball is picked from box-1, and if it is a Tail, a ball is picked from box-2. Suppose the same coin is flipped, you got a tail, and a white ball was selected; then what is the probability that this ball was taken from box2? \n"
   ]
  },
  {
   "cell_type": "markdown",
   "metadata": {
    "id": "eYFxvFfGqNFY"
   },
   "source": [
    "**Solution** <br>\n",
    "\n",
    "<br>\n",
    "Let T be the event that the coin flip was Tails. Let W be the event that a white ball is selected. <br>\n",
    "From the given data, we know that P(W|T) = 3/15 and that P(W|Tc) = 5/12.<br>\n",
    "Since the coin is fair,we know that P(T) = P(Tc) = 1/2.<br>\n",
    "\n",
    "We want to compute P(T|W), which we do using the definition (and the same simple manipulation that results in Bayes\n",
    "Formula):\n",
    "<br>\n",
    "**P(T|W)  = P(W|T)P(T) / ((P(W|T)P(T) + P(W|Tc)P(Tc))**\n",
    "=\n",
    "(3/15)(1/2)/(\n",
    "(3/15)(1/2) + (5/12)(1/2)) =\n",
    "12/\n",
    "37"
   ]
  },
  {
   "cell_type": "markdown",
   "metadata": {
    "id": "KtTn8QVFqNFa"
   },
   "source": [
    "**Step-1:** Importing Libraries."
   ]
  },
  {
   "cell_type": "code",
   "execution_count": 1,
   "metadata": {
    "executionInfo": {
     "elapsed": 775,
     "status": "ok",
     "timestamp": 1649396061662,
     "user": {
      "displayName": "Abhishek Dodiya",
      "userId": "05457856945198063411"
     },
     "user_tz": -330
    },
    "id": "bCNLyqvhqNFb"
   },
   "outputs": [],
   "source": [
    "import pandas as pd"
   ]
  },
  {
   "cell_type": "markdown",
   "metadata": {
    "id": "KsFEurJ0qNFd"
   },
   "source": [
    "**Step-2:** Store data in variable and evaluate by using above formula"
   ]
  },
  {
   "cell_type": "code",
   "execution_count": 2,
   "metadata": {
    "colab": {
     "base_uri": "https://localhost:8080/"
    },
    "executionInfo": {
     "elapsed": 32,
     "status": "ok",
     "timestamp": 1649396061665,
     "user": {
      "displayName": "Abhishek Dodiya",
      "userId": "05457856945198063411"
     },
     "user_tz": -330
    },
    "id": "_HgcKGRiqNFe",
    "outputId": "e3cd7af3-9225-4766-f426-c69772310e01"
   },
   "outputs": [
    {
     "name": "stdout",
     "output_type": "stream",
     "text": [
      "box2 p(W|T) =  0.2\n",
      "box1 p(W|Tc) =  0.42\n",
      "bayes theorem formula P(T|W) = P(T ∩ W) P(W) = P(W|T)P(T) P(W|T)P(T) + P(W|Tc)P(Tc) =  0.32\n",
      "probability that this ball was taken from box 2 is: 0.32\n"
     ]
    }
   ],
   "source": [
    "#1 p(w/t)\n",
    "\n",
    "box1_white_ball = 5\n",
    "box1_black_ball = 7\n",
    "box2_white_ball = 3\n",
    "box2_black_ball = 12\n",
    "coin_probability = 1/2\n",
    "\n",
    "# we have given that coin if flipped and we got tail so ball will drawn from box 2\n",
    "\n",
    "#probability of white ball from box 2 \n",
    "white_box2 = box2_white_ball/(box2_white_ball+box2_black_ball)\n",
    "print(\"box2 p(W|T) = \",round(white_box2,2))\n",
    "\n",
    "#probability of white ball from box 1 \n",
    "white_box1 = box1_white_ball/(box1_white_ball+box1_black_ball)\n",
    "print(\"box1 p(W|Tc) = \",round(white_box1,2))\n",
    "\n",
    "#using bayes formula\n",
    "final_ans = (white_box2*coin_probability)/((white_box2*coin_probability) + (white_box1*coin_probability))\n",
    "\n",
    "print(\"bayes theorem formula P(T|W) = P(T ∩ W) P(W) = P(W|T)P(T) P(W|T)P(T) + P(W|Tc)P(Tc) = \",round(final_ans,2))\n",
    "print(\"probability that this ball was taken from box 2 is:\",round(final_ans,2))"
   ]
  },
  {
   "cell_type": "markdown",
   "metadata": {
    "id": "y8QIqbHnqNFj"
   },
   "source": [
    "**Q2. Problem Statement: Conditional Probability** <br>\n",
    "Approximately 1% of women aged 40-50 have breast cancer. A woman with breast cancer has a 90% chance of a positive test from a mammogram, while a woman without has a 10% chance of a false-positive result. What is the probability a woman has breast cancer given that she just had a positive test? "
   ]
  },
  {
   "cell_type": "markdown",
   "metadata": {
    "id": "JhUXdU5hqNFk"
   },
   "source": [
    "**Solution** <br>\n",
    "Let’s assume we know that 1% of women over the age of 40  \n",
    "p(cancer) = 0.01\n",
    " \n",
    "90% of women who have breast cancer will test\n",
    "positive for breast cancer in a mammogram.\n",
    "p(positive test|cancer) = 0.9\n",
    " \n",
    "Ten percent ofwomen that do NOT have cancer will also test positive.\n",
    "p(positive test|no cancer)=0.10\n",
    "\n",
    "What is the probability that a woman has cancer if she tests positive p(cancer|positive test)?\n",
    "\n",
    "<br>\n",
    "final formula = p(cancer) * p(positive test|cancer) / ((p(cancer) * p(positive test|cancer)) + p(positive test|no cancer) * (1-p(cancer)))"
   ]
  },
  {
   "cell_type": "markdown",
   "metadata": {
    "id": "CWE3tZ88qNFn"
   },
   "source": [
    "**Step-1:** Store data in variable <br> "
   ]
  },
  {
   "cell_type": "code",
   "execution_count": 3,
   "metadata": {
    "executionInfo": {
     "elapsed": 15,
     "status": "ok",
     "timestamp": 1649396061666,
     "user": {
      "displayName": "Abhishek Dodiya",
      "userId": "05457856945198063411"
     },
     "user_tz": -330
    },
    "id": "80c3D1UQqNFp"
   },
   "outputs": [],
   "source": [
    "# 1% woman over age of 40 have beast cancer\n",
    "#probability of cancer \n",
    "having_cancer = 1/100  #[p(cancer)=0.01]\n",
    "\n",
    "# 90% of women who have breast cancer will test positive for breast cancer in a mammogram.\n",
    "positive_test_cancer = 90/100 #p(positive test|cancer)=0.9\n",
    "\n",
    "#Ten percent ofwomen that do NOT have cancer will also test positive.\n",
    "positive_test_no_cancer =10/100 # p(positive test|no cancer) = 0.10"
   ]
  },
  {
   "cell_type": "markdown",
   "metadata": {
    "id": "qbocg57cqNFr"
   },
   "source": [
    "**Step-2:** Use above formula and calculate final answer"
   ]
  },
  {
   "cell_type": "code",
   "execution_count": 4,
   "metadata": {
    "colab": {
     "base_uri": "https://localhost:8080/"
    },
    "executionInfo": {
     "elapsed": 15,
     "status": "ok",
     "timestamp": 1649396061667,
     "user": {
      "displayName": "Abhishek Dodiya",
      "userId": "05457856945198063411"
     },
     "user_tz": -330
    },
    "id": "NrWCVI_eqNFs",
    "outputId": "ab177f62-c631-4206-b530-2a6a7cf8da63"
   },
   "outputs": [
    {
     "name": "stdout",
     "output_type": "stream",
     "text": [
      "the probability that a woman has cancer if she tests positive: 0.08\n"
     ]
    }
   ],
   "source": [
    "# What is the probability that a woman has cancer if she tests positive [p(cancer|positive test)]? \n",
    "#p(cancer|positive test) = ?\n",
    "#final formula = p(cancer)*p(positive test|cancer)/((p(cancer)*p(positive test|cancer))+p(positive test|no cancer)*(1-p(cancer))) \n",
    " \n",
    "final_ans  =  (positive_test_cancer*having_cancer)/((positive_test_cancer*having_cancer)+(positive_test_no_cancer*(1-having_cancer)))\n",
    "print(\"the probability that a woman has cancer if she tests positive:\",round(final_ans,2))"
   ]
  },
  {
   "cell_type": "code",
   "execution_count": 4,
   "metadata": {
    "executionInfo": {
     "elapsed": 13,
     "status": "ok",
     "timestamp": 1649396061668,
     "user": {
      "displayName": "Abhishek Dodiya",
      "userId": "05457856945198063411"
     },
     "user_tz": -330
    },
    "id": "3X8i4BBRqNFt"
   },
   "outputs": [],
   "source": []
  },
  {
   "cell_type": "code",
   "execution_count": null,
   "metadata": {
    "id": "7r24d-dbqNFu"
   },
   "outputs": [],
   "source": []
  },
  {
   "cell_type": "code",
   "execution_count": null,
   "metadata": {
    "id": "31_APIqxqNFv"
   },
   "outputs": [],
   "source": []
  },
  {
   "cell_type": "code",
   "execution_count": null,
   "metadata": {
    "id": "MFNjUgsDqNFw"
   },
   "outputs": [],
   "source": []
  },
  {
   "cell_type": "code",
   "execution_count": null,
   "metadata": {
    "id": "ussXOQFlqNFw"
   },
   "outputs": [],
   "source": []
  }
 ],
 "metadata": {
  "colab": {
   "collapsed_sections": [],
   "name": "DS_D23_DIY_Solution_V1_0.ipynb",
   "provenance": []
  },
  "kernelspec": {
   "display_name": "Python 3 (ipykernel)",
   "language": "python",
   "name": "python3"
  },
  "language_info": {
   "codemirror_mode": {
    "name": "ipython",
    "version": 3
   },
   "file_extension": ".py",
   "mimetype": "text/x-python",
   "name": "python",
   "nbconvert_exporter": "python",
   "pygments_lexer": "ipython3",
   "version": "3.10.9"
  }
 },
 "nbformat": 4,
 "nbformat_minor": 1
}
