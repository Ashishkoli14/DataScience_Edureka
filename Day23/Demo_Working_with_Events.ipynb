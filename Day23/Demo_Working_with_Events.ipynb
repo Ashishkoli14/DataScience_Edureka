{
 "cells": [
  {
   "cell_type": "markdown",
   "metadata": {},
   "source": [
    "\n",
    "\n",
    "## Demo - Working with Events"
   ]
  },
  {
   "cell_type": "markdown",
   "metadata": {},
   "source": [
    "### Calculate Probabilities of finding desired rooms on *Airbnb*"
   ]
  },
  {
   "attachments": {
    "image.png": {
     "image/png": "[encoded data removed]"
    }
   },
   "cell_type": "markdown",
   "metadata": {},
   "source": [
    "![image.png](attachment:image.png)"
   ]
  },
  {
   "cell_type": "markdown",
   "metadata": {},
   "source": [
    "*__Airbnb__* is an American online vacation-place rental company. It offers services such as lodging, homestays and other tourism services. It has become very popular in recent times due to its cheaper rental options.\n",
    "\n",
    "A Travel Agent assists customers to book rooms on Airbnb with a small commission. The agent has to constatntly keep track of the availability of rooms and recommend appropriate options to customers.\n",
    "\n",
    "Let us see how the avaialbility of rooms in different cities can be analyzed using *Probability*."
   ]
  },
  {
   "cell_type": "markdown",
   "metadata": {},
   "source": [
    "### Import Required Libraries"
   ]
  },
  {
   "cell_type": "code",
   "execution_count": 1,
   "metadata": {},
   "outputs": [],
   "source": [
    "import pandas as pd"
   ]
  },
  {
   "cell_type": "markdown",
   "metadata": {},
   "source": [
    "### Load and understand Airbnb Data"
   ]
  },
  {
   "cell_type": "code",
   "execution_count": 2,
   "metadata": {},
   "outputs": [
    {
     "data": {
      "text/html": [
       "<div>\n",
       "<style scoped>\n",
       "    .dataframe tbody tr th:only-of-type {\n",
       "        vertical-align: middle;\n",
       "    }\n",
       "\n",
       "    .dataframe tbody tr th {\n",
       "        vertical-align: top;\n",
       "    }\n",
       "\n",
       "    .dataframe thead th {\n",
       "        text-align: right;\n",
       "    }\n",
       "</style>\n",
       "<table border=\"1\" class=\"dataframe\">\n",
       "  <thead>\n",
       "    <tr style=\"text-align: right;\">\n",
       "      <th></th>\n",
       "      <th>id</th>\n",
       "      <th>name</th>\n",
       "      <th>room_type</th>\n",
       "      <th>price</th>\n",
       "      <th>minimum_nights</th>\n",
       "      <th>number_of_reviews</th>\n",
       "      <th>city</th>\n",
       "    </tr>\n",
       "  </thead>\n",
       "  <tbody>\n",
       "    <tr>\n",
       "      <th>0</th>\n",
       "      <td>3781</td>\n",
       "      <td>HARBORSIDE-Walk to subway</td>\n",
       "      <td>Apartment</td>\n",
       "      <td>146</td>\n",
       "      <td>28</td>\n",
       "      <td>16</td>\n",
       "      <td>Boston</td>\n",
       "    </tr>\n",
       "    <tr>\n",
       "      <th>1</th>\n",
       "      <td>5506</td>\n",
       "      <td>**$49 Special **   Private! Minutes to center!</td>\n",
       "      <td>Apartment</td>\n",
       "      <td>145</td>\n",
       "      <td>3</td>\n",
       "      <td>107</td>\n",
       "      <td>Boston</td>\n",
       "    </tr>\n",
       "    <tr>\n",
       "      <th>2</th>\n",
       "      <td>6695</td>\n",
       "      <td>$99 Special!! Home Away! Condo</td>\n",
       "      <td>Apartment</td>\n",
       "      <td>169</td>\n",
       "      <td>3</td>\n",
       "      <td>115</td>\n",
       "      <td>Boston</td>\n",
       "    </tr>\n",
       "    <tr>\n",
       "      <th>3</th>\n",
       "      <td>10730</td>\n",
       "      <td>Bright 1bed facing Golden Dome</td>\n",
       "      <td>Apartment</td>\n",
       "      <td>85</td>\n",
       "      <td>91</td>\n",
       "      <td>32</td>\n",
       "      <td>Boston</td>\n",
       "    </tr>\n",
       "    <tr>\n",
       "      <th>4</th>\n",
       "      <td>10813</td>\n",
       "      <td>Back Bay Apt-blocks to subway, Newbury St, The...</td>\n",
       "      <td>Apartment</td>\n",
       "      <td>87</td>\n",
       "      <td>28</td>\n",
       "      <td>10</td>\n",
       "      <td>Boston</td>\n",
       "    </tr>\n",
       "  </tbody>\n",
       "</table>\n",
       "</div>"
      ],
      "text/plain": [
       "      id                                               name  room_type  price   \n",
       "0   3781                          HARBORSIDE-Walk to subway  Apartment    146  \\\n",
       "1   5506     **$49 Special **   Private! Minutes to center!  Apartment    145   \n",
       "2   6695                     $99 Special!! Home Away! Condo  Apartment    169   \n",
       "3  10730                     Bright 1bed facing Golden Dome  Apartment     85   \n",
       "4  10813  Back Bay Apt-blocks to subway, Newbury St, The...  Apartment     87   \n",
       "\n",
       "   minimum_nights  number_of_reviews    city  \n",
       "0              28                 16  Boston  \n",
       "1               3                107  Boston  \n",
       "2               3                115  Boston  \n",
       "3              91                 32  Boston  \n",
       "4              28                 10  Boston  "
      ]
     },
     "execution_count": 2,
     "metadata": {},
     "output_type": "execute_result"
    }
   ],
   "source": [
    "#load the data from CSV file\n",
    "df = pd.read_csv(\"airbnb_data.csv\")\n",
    "df.head()"
   ]
  },
  {
   "cell_type": "code",
   "execution_count": 3,
   "metadata": {},
   "outputs": [
    {
     "name": "stdout",
     "output_type": "stream",
     "text": [
      "<class 'pandas.core.frame.DataFrame'>\n",
      "RangeIndex: 32348 entries, 0 to 32347\n",
      "Data columns (total 7 columns):\n",
      " #   Column             Non-Null Count  Dtype \n",
      "---  ------             --------------  ----- \n",
      " 0   id                 32348 non-null  int64 \n",
      " 1   name               32348 non-null  object\n",
      " 2   room_type          32348 non-null  object\n",
      " 3   price              32348 non-null  int64 \n",
      " 4   minimum_nights     32348 non-null  int64 \n",
      " 5   number_of_reviews  32348 non-null  int64 \n",
      " 6   city               32348 non-null  object\n",
      "dtypes: int64(4), object(3)\n",
      "memory usage: 1.7+ MB\n"
     ]
    }
   ],
   "source": [
    "df.info()"
   ]
  },
  {
   "cell_type": "code",
   "execution_count": 4,
   "metadata": {},
   "outputs": [
    {
     "data": {
      "text/plain": [
       "id                   False\n",
       "name                 False\n",
       "room_type            False\n",
       "price                False\n",
       "minimum_nights       False\n",
       "number_of_reviews    False\n",
       "city                 False\n",
       "dtype: bool"
      ]
     },
     "execution_count": 4,
     "metadata": {},
     "output_type": "execute_result"
    }
   ],
   "source": [
    "#check for rows with null values\n",
    "df.isnull().any()"
   ]
  },
  {
   "cell_type": "markdown",
   "metadata": {},
   "source": [
    "#### There are no null values in this data set."
   ]
  },
  {
   "cell_type": "code",
   "execution_count": 5,
   "metadata": {},
   "outputs": [
    {
     "data": {
      "text/plain": [
       "city\n",
       "Hawaii     22434\n",
       "Seattle     6575\n",
       "Boston      3339\n",
       "Name: count, dtype: int64"
      ]
     },
     "execution_count": 5,
     "metadata": {},
     "output_type": "execute_result"
    }
   ],
   "source": [
    "#check different cities\n",
    "df.city.value_counts()"
   ]
  },
  {
   "cell_type": "markdown",
   "metadata": {},
   "source": [
    "#### Data of rooms in three cities, Boston, Hawaii and Seattle, is provided."
   ]
  },
  {
   "cell_type": "code",
   "execution_count": 6,
   "metadata": {},
   "outputs": [
    {
     "data": {
      "text/plain": [
       "room_type\n",
       "Apartment    27241\n",
       "Private       4660\n",
       "HotelRoom      272\n",
       "Shared         175\n",
       "Name: count, dtype: int64"
      ]
     },
     "execution_count": 6,
     "metadata": {},
     "output_type": "execute_result"
    }
   ],
   "source": [
    "#check different types of rooms\n",
    "df.room_type.value_counts()"
   ]
  },
  {
   "cell_type": "markdown",
   "metadata": {},
   "source": [
    "#### Rooms of types Apartment, Private, Hotel Room and Shared are available."
   ]
  },
  {
   "cell_type": "markdown",
   "metadata": {},
   "source": [
    "#### Q. What is the probability of finding a room in each of the available cities?"
   ]
  },
  {
   "cell_type": "markdown",
   "metadata": {},
   "source": [
    "First, let us calculate the size of the *__Sample Space__*.\n",
    "Since there are no null values and id column has no repeated values, this column can be used to get the size of Sample Space."
   ]
  },
  {
   "cell_type": "code",
   "execution_count": 7,
   "metadata": {},
   "outputs": [
    {
     "data": {
      "text/plain": [
       "32348"
      ]
     },
     "execution_count": 7,
     "metadata": {},
     "output_type": "execute_result"
    }
   ],
   "source": [
    "#sample space of Airbnb Data\n",
    "ss_ab = df.id.count()\n",
    "ss_ab"
   ]
  },
  {
   "cell_type": "code",
   "execution_count": 8,
   "metadata": {},
   "outputs": [
    {
     "data": {
      "text/plain": [
       "city\n",
       "Hawaii     22434\n",
       "Seattle     6575\n",
       "Boston      3339\n",
       "Name: count, dtype: int64"
      ]
     },
     "execution_count": 8,
     "metadata": {},
     "output_type": "execute_result"
    }
   ],
   "source": [
    "#Available cities\n",
    "df.city.value_counts()"
   ]
  },
  {
   "cell_type": "markdown",
   "metadata": {},
   "source": [
    "Let *bos* be the event of finding a room in Boston.\n",
    "The number of favorable outcomes can be calculated as follows:"
   ]
  },
  {
   "cell_type": "code",
   "execution_count": 9,
   "metadata": {},
   "outputs": [
    {
     "data": {
      "text/plain": [
       "3339"
      ]
     },
     "execution_count": 9,
     "metadata": {},
     "output_type": "execute_result"
    }
   ],
   "source": [
    "#number of rooms in Boston\n",
    "series1 = df.apply(lambda x: True if x['city'] == 'Boston' else False , axis=1)\n",
    "bos = len(series1[series1 == True].index)\n",
    "bos"
   ]
  },
  {
   "cell_type": "code",
   "execution_count": 10,
   "metadata": {},
   "outputs": [
    {
     "data": {
      "text/plain": [
       "0.103"
      ]
     },
     "execution_count": 10,
     "metadata": {},
     "output_type": "execute_result"
    }
   ],
   "source": [
    "#probability of finding a room in Boston\n",
    "p_bos = round(bos/ss_ab,3)\n",
    "p_bos"
   ]
  },
  {
   "cell_type": "code",
   "execution_count": 11,
   "metadata": {},
   "outputs": [
    {
     "data": {
      "text/plain": [
       "0.10322121924075676"
      ]
     },
     "execution_count": 11,
     "metadata": {},
     "output_type": "execute_result"
    }
   ],
   "source": [
    "3339/32348"
   ]
  },
  {
   "cell_type": "code",
   "execution_count": 12,
   "metadata": {},
   "outputs": [
    {
     "data": {
      "text/plain": [
       "22434"
      ]
     },
     "execution_count": 12,
     "metadata": {},
     "output_type": "execute_result"
    }
   ],
   "source": [
    "#number of roms in Hawaii\n",
    "series2 = df.apply(lambda x: True if x['city'] == 'Hawaii' else False , axis=1)\n",
    "haw = len(series2[series2 == True].index)\n",
    "haw"
   ]
  },
  {
   "cell_type": "code",
   "execution_count": 13,
   "metadata": {},
   "outputs": [
    {
     "data": {
      "text/plain": [
       "0.694"
      ]
     },
     "execution_count": 13,
     "metadata": {},
     "output_type": "execute_result"
    }
   ],
   "source": [
    "#probability of finding a room in Hawaii\n",
    "p_haw = round(haw/ss_ab,3)\n",
    "p_haw"
   ]
  },
  {
   "cell_type": "code",
   "execution_count": 14,
   "metadata": {},
   "outputs": [
    {
     "data": {
      "text/plain": [
       "6575"
      ]
     },
     "execution_count": 14,
     "metadata": {},
     "output_type": "execute_result"
    }
   ],
   "source": [
    "#number of rooms in Seattle\n",
    "series3 = df.apply(lambda x: True if x['city'] == 'Seattle' else False , axis=1)\n",
    "sea = len(series3[series3 == True].index)\n",
    "sea"
   ]
  },
  {
   "cell_type": "code",
   "execution_count": 15,
   "metadata": {},
   "outputs": [
    {
     "data": {
      "text/plain": [
       "0.203"
      ]
     },
     "execution_count": 15,
     "metadata": {},
     "output_type": "execute_result"
    }
   ],
   "source": [
    "#probability of finding a room in Seattle\n",
    "p_sea = round(sea/ss_ab,3)\n",
    "p_sea"
   ]
  },
  {
   "cell_type": "code",
   "execution_count": 16,
   "metadata": {},
   "outputs": [
    {
     "data": {
      "text/plain": [
       "1.0"
      ]
     },
     "execution_count": 16,
     "metadata": {},
     "output_type": "execute_result"
    }
   ],
   "source": [
    "p_bos + p_haw + p_sea"
   ]
  },
  {
   "cell_type": "markdown",
   "metadata": {},
   "source": [
    "### Inference:\n",
    "\n",
    "1. It can be deduced from the data that these three events are *__Mututally Exclusive__* as no two events can happen at the same time.\n",
    "\n",
    "2. Probabilities of finding rooms in different cities (*__Marginal Probabilities__*) are as follows:\n",
    "    Boston: 0.103\n",
    "    Hawaii: 0.694\n",
    "    Seattle: 0.203\n",
    "\n",
    "2. Hawaii has the highest probability of finding a room. This is inline with the count of rooms calculated in the previous step.\n",
    "\n",
    "3. The sum of all three probabilities is 1. Thus these three are *__All Inclusive Events__*. Their union comprise the entire *__Sample Space__*.\n"
   ]
  },
  {
   "cell_type": "markdown",
   "metadata": {},
   "source": [
    "#### Q. Calculate the Probability of finding a room either in Boston or Hawaii."
   ]
  },
  {
   "cell_type": "markdown",
   "metadata": {},
   "source": [
    "#### From the inference of previous step, we know that the two events of *__\"Finding a room in Boston\"__* and *__\"Finding a room in Hawaii\"__* are *__Mutually Exclusive__*. Thus the probability of their __Union__ can be calculated by simply adding the individual probabilities."
   ]
  },
  {
   "cell_type": "markdown",
   "metadata": {},
   "source": [
    "#### Calculate Union"
   ]
  },
  {
   "cell_type": "code",
   "execution_count": 17,
   "metadata": {},
   "outputs": [
    {
     "data": {
      "text/plain": [
       "0.7969999999999999"
      ]
     },
     "execution_count": 17,
     "metadata": {},
     "output_type": "execute_result"
    }
   ],
   "source": [
    "p_bosORhaw = p_bos + p_haw\n",
    "p_bosORhaw"
   ]
  },
  {
   "cell_type": "markdown",
   "metadata": {},
   "source": [
    "### Inference:\n",
    "\n",
    "Probability of finding a room either in Boston or Hawaii is 0.797."
   ]
  },
  {
   "cell_type": "markdown",
   "metadata": {},
   "source": [
    "#### Q. Calculate the Probability of finding a room in Boston or an Apartment."
   ]
  },
  {
   "cell_type": "markdown",
   "metadata": {},
   "source": [
    "Check if the two events are *__Disjoint__* or not."
   ]
  },
  {
   "cell_type": "code",
   "execution_count": 18,
   "metadata": {},
   "outputs": [
    {
     "data": {
      "text/plain": [
       "2163"
      ]
     },
     "execution_count": 18,
     "metadata": {},
     "output_type": "execute_result"
    }
   ],
   "source": [
    "#number of Apartments in Boston\n",
    "n_apt_bos = df[(df['room_type']=='Apartment') & (df['city'] =='Boston')].count()['id']\n",
    "n_apt_bos"
   ]
  },
  {
   "cell_type": "markdown",
   "metadata": {},
   "source": [
    "The intersection of the two events *__\"Finding an Apartment\"__* and *__\"Finding a room in Boston\"__* is not 0. Hence these events are **Joint Events**."
   ]
  },
  {
   "cell_type": "code",
   "execution_count": 19,
   "metadata": {},
   "outputs": [
    {
     "data": {
      "text/plain": [
       "0.103"
      ]
     },
     "execution_count": 19,
     "metadata": {},
     "output_type": "execute_result"
    }
   ],
   "source": [
    "#probability of finding a room in Boston\n",
    "p_bos"
   ]
  },
  {
   "cell_type": "code",
   "execution_count": 20,
   "metadata": {},
   "outputs": [
    {
     "data": {
      "text/plain": [
       "27241"
      ]
     },
     "execution_count": 20,
     "metadata": {},
     "output_type": "execute_result"
    }
   ],
   "source": [
    "#number of Apartment type rooms\n",
    "series4 = df.apply(lambda x: True if x['room_type'] == 'Apartment' else False , axis=1)\n",
    "apts = len(series4[series4 == True].index)\n",
    "apts"
   ]
  },
  {
   "cell_type": "code",
   "execution_count": 21,
   "metadata": {},
   "outputs": [
    {
     "data": {
      "text/plain": [
       "0.842"
      ]
     },
     "execution_count": 21,
     "metadata": {},
     "output_type": "execute_result"
    }
   ],
   "source": [
    "#probability of finding an Apartment\n",
    "p_apt = round(apts/ss_ab,3)\n",
    "p_apt"
   ]
  },
  {
   "cell_type": "code",
   "execution_count": 22,
   "metadata": {},
   "outputs": [
    {
     "data": {
      "text/plain": [
       "0.067"
      ]
     },
     "execution_count": 22,
     "metadata": {},
     "output_type": "execute_result"
    }
   ],
   "source": [
    "#probability of finding an Apartment in Boston\n",
    "p_aptANDbos = round(n_apt_bos/ss_ab, 3)\n",
    "p_aptANDbos"
   ]
  },
  {
   "cell_type": "markdown",
   "metadata": {},
   "source": [
    "#### Apply Addition Rule"
   ]
  },
  {
   "cell_type": "code",
   "execution_count": 23,
   "metadata": {},
   "outputs": [
    {
     "data": {
      "text/plain": [
       "0.8779999999999999"
      ]
     },
     "execution_count": 23,
     "metadata": {},
     "output_type": "execute_result"
    }
   ],
   "source": [
    "p_bosORapt = p_bos + p_apt - p_aptANDbos\n",
    "p_bosORapt"
   ]
  },
  {
   "cell_type": "markdown",
   "metadata": {},
   "source": [
    "### Inference:\n",
    "\n",
    "1. Probability of finding a room in Boston or an Apartment is 0.878.\n",
    "\n",
    "2. The two events are Joint. Hence the probability of either one of them happening is calculated using the *Addition Rule.*"
   ]
  },
  {
   "cell_type": "markdown",
   "metadata": {},
   "source": [
    "#### Q. Calculate the probability of finding a room in *Seattle* of type *Private*."
   ]
  },
  {
   "cell_type": "markdown",
   "metadata": {},
   "source": [
    "Check if the events are *Disjoint*."
   ]
  },
  {
   "cell_type": "code",
   "execution_count": 24,
   "metadata": {},
   "outputs": [
    {
     "data": {
      "text/plain": [
       "1399"
      ]
     },
     "execution_count": 24,
     "metadata": {},
     "output_type": "execute_result"
    }
   ],
   "source": [
    "#number of Private rooms in Seattle\n",
    "n_pvt_sea = df[(df['room_type']=='Private') & (df['city'] =='Seattle')].count()['id']\n",
    "n_pvt_sea"
   ]
  },
  {
   "cell_type": "markdown",
   "metadata": {},
   "source": [
    "#### The two events _\"Finding a room in Seattle\"_ and _\"Finding a Private room\"_ are not Disjoint. Hence their intersection is not 0."
   ]
  },
  {
   "cell_type": "code",
   "execution_count": 25,
   "metadata": {},
   "outputs": [
    {
     "data": {
      "text/plain": [
       "0.043"
      ]
     },
     "execution_count": 25,
     "metadata": {},
     "output_type": "execute_result"
    }
   ],
   "source": [
    "#probability of finding a Private room in Seattle\n",
    "p_pvtANDsea = round(n_pvt_sea/ss_ab,3)\n",
    "p_pvtANDsea"
   ]
  },
  {
   "cell_type": "markdown",
   "metadata": {},
   "source": [
    "### Inference:\n",
    "\n",
    "1. Probability of finding a Private room in Seattle is very low: 0.043."
   ]
  }
 ],
 "metadata": {
  "kernelspec": {
   "display_name": "Python 3 (ipykernel)",
   "language": "python",
   "name": "python3"
  },
  "language_info": {
   "codemirror_mode": {
    "name": "ipython",
    "version": 3
   },
   "file_extension": ".py",
   "mimetype": "text/x-python",
   "name": "python",
   "nbconvert_exporter": "python",
   "pygments_lexer": "ipython3",
   "version": "3.10.11"
  }
 },
 "nbformat": 4,
 "nbformat_minor": 2
}
