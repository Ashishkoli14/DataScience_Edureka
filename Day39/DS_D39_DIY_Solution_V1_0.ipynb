{
 "cells": [
  {
   "cell_type": "markdown",
   "metadata": {
    "id": "tQ3b3U2d57fs"
   },
   "source": [
    "## Day 39 - DIY SOLUTION\n",
    "**Q1. Problem Statement: Random Forest** <br>\n",
    "\tWrite a Python program that reads the TaxiFare.csv (provided on LMS) file into a DataFrame and build a good random forest model by performing the following tasks:\n",
    "1.\tLoad the TaxiFare.csv dataset into a DataFrame\n",
    "2.\tDrop ‘unique_id’, and find missing values from the dataset\n",
    "3.\tConvert the ‘date_time_of_pickup’ column to date and time formate and extract information and create new columns as ‘hour‘, ‘dayOfTheMonth’,’ month’,   ‘dayOfTheWeek’.\n",
    "4.\tFind traveling distance based on given coordinates using the \"Haversine\" distance formula and create a new column as ‘distance’ and store the data.\n",
    "5.\tEliminate some anomalous/outlier data based on certain \"Domain\" logic\n",
    "A. Amount < 2.5 as the minimum fare is 2.5\n",
    "B. Trips with travel distance less than or equal to 1, and more than 130Kms. Let’s say this was a condition provided by clients based on travel range.\n",
    "6.\tExtract independent variables (Xs) and dependent variables (Ys) into separate data objects\n",
    "7.\tFind important features using random forest.\n",
    "8.\tBuild a model and predict the result for the test dataset based on MAPE and RMSE.\n"
   ]
  },
  {
   "cell_type": "markdown",
   "metadata": {
    "id": "bBaH17qA57f1"
   },
   "source": [
    "**Step-1:** Importing Libraries."
   ]
  },
  {
   "cell_type": "code",
   "execution_count": 1,
   "metadata": {
    "colab": {
     "base_uri": "https://localhost:8080/"
    },
    "executionInfo": {
     "elapsed": 3638,
     "status": "ok",
     "timestamp": 1650438273029,
     "user": {
      "displayName": "Abhishek Dodiya",
      "userId": "05457856945198063411"
     },
     "user_tz": -330
    },
    "id": "optlQ_NA57f2",
    "outputId": "cde03fe0-98f6-4822-91bc-82dfe76faad8"
   },
   "outputs": [],
   "source": [
    "import numpy as np\n",
    "import pandas as pd\n",
    "import matplotlib.pyplot as plt\n",
    "import seaborn as sns\n",
    "from sklearn.model_selection import train_test_split\n",
    "from statsmodels.api import add_constant, OLS\n",
    "from sklearn.tree import DecisionTreeClassifier\n",
    "from sklearn.tree import export_graphviz\n",
    "from sklearn.ensemble import RandomForestRegressor\n",
    "from sklearn.tree import plot_tree\n",
    "from sklearn.metrics import accuracy_score\n",
    "from io import StringIO"
   ]
  },
  {
   "cell_type": "markdown",
   "metadata": {
    "id": "Tl4k3RXi57f6"
   },
   "source": [
    "**Step-2:**  Load data set into dataframe."
   ]
  },
  {
   "cell_type": "code",
   "execution_count": 2,
   "metadata": {
    "executionInfo": {
     "elapsed": 694,
     "status": "ok",
     "timestamp": 1650438387559,
     "user": {
      "displayName": "Abhishek Dodiya",
      "userId": "05457856945198063411"
     },
     "user_tz": -330
    },
    "id": "IzuPBF5K57f7"
   },
   "outputs": [],
   "source": [
    "df = pd.read_csv(\"TaxiFare.csv\")"
   ]
  },
  {
   "cell_type": "code",
   "execution_count": 3,
   "metadata": {
    "id": "ksQHJr0m57f8",
    "outputId": "d9e97fd0-3d98-44aa-9366-b08cc69c8379"
   },
   "outputs": [
    {
     "data": {
      "text/html": [
       "<div>\n",
       "<style scoped>\n",
       "    .dataframe tbody tr th:only-of-type {\n",
       "        vertical-align: middle;\n",
       "    }\n",
       "\n",
       "    .dataframe tbody tr th {\n",
       "        vertical-align: top;\n",
       "    }\n",
       "\n",
       "    .dataframe thead th {\n",
       "        text-align: right;\n",
       "    }\n",
       "</style>\n",
       "<table border=\"1\" class=\"dataframe\">\n",
       "  <thead>\n",
       "    <tr style=\"text-align: right;\">\n",
       "      <th></th>\n",
       "      <th>unique_id</th>\n",
       "      <th>date_time_of_pickup</th>\n",
       "      <th>longitude_of_pickup</th>\n",
       "      <th>latitude_of_pickup</th>\n",
       "      <th>longitude_of_dropoff</th>\n",
       "      <th>latitude_of_dropoff</th>\n",
       "      <th>no_of_passenger</th>\n",
       "      <th>amount</th>\n",
       "    </tr>\n",
       "  </thead>\n",
       "  <tbody>\n",
       "    <tr>\n",
       "      <th>0</th>\n",
       "      <td>26:21.0</td>\n",
       "      <td>2009-06-15 17:26:21 UTC</td>\n",
       "      <td>-73.844311</td>\n",
       "      <td>40.721319</td>\n",
       "      <td>-73.841610</td>\n",
       "      <td>40.712278</td>\n",
       "      <td>1</td>\n",
       "      <td>4.5</td>\n",
       "    </tr>\n",
       "    <tr>\n",
       "      <th>1</th>\n",
       "      <td>52:16.0</td>\n",
       "      <td>2010-01-05 16:52:16 UTC</td>\n",
       "      <td>-74.016048</td>\n",
       "      <td>40.711303</td>\n",
       "      <td>-73.979268</td>\n",
       "      <td>40.782004</td>\n",
       "      <td>1</td>\n",
       "      <td>16.9</td>\n",
       "    </tr>\n",
       "    <tr>\n",
       "      <th>2</th>\n",
       "      <td>35:00.0</td>\n",
       "      <td>2011-08-18 00:35:00 UTC</td>\n",
       "      <td>-73.982738</td>\n",
       "      <td>40.761270</td>\n",
       "      <td>-73.991242</td>\n",
       "      <td>40.750562</td>\n",
       "      <td>2</td>\n",
       "      <td>5.7</td>\n",
       "    </tr>\n",
       "    <tr>\n",
       "      <th>3</th>\n",
       "      <td>30:42.0</td>\n",
       "      <td>2012-04-21 04:30:42 UTC</td>\n",
       "      <td>-73.987130</td>\n",
       "      <td>40.733143</td>\n",
       "      <td>-73.991567</td>\n",
       "      <td>40.758092</td>\n",
       "      <td>1</td>\n",
       "      <td>7.7</td>\n",
       "    </tr>\n",
       "    <tr>\n",
       "      <th>4</th>\n",
       "      <td>51:00.0</td>\n",
       "      <td>2010-03-09 07:51:00 UTC</td>\n",
       "      <td>-73.968095</td>\n",
       "      <td>40.768008</td>\n",
       "      <td>-73.956655</td>\n",
       "      <td>40.783762</td>\n",
       "      <td>1</td>\n",
       "      <td>5.3</td>\n",
       "    </tr>\n",
       "    <tr>\n",
       "      <th>...</th>\n",
       "      <td>...</td>\n",
       "      <td>...</td>\n",
       "      <td>...</td>\n",
       "      <td>...</td>\n",
       "      <td>...</td>\n",
       "      <td>...</td>\n",
       "      <td>...</td>\n",
       "      <td>...</td>\n",
       "    </tr>\n",
       "    <tr>\n",
       "      <th>49995</th>\n",
       "      <td>25:15.0</td>\n",
       "      <td>2013-06-12 23:25:15 UTC</td>\n",
       "      <td>-73.999973</td>\n",
       "      <td>40.748531</td>\n",
       "      <td>-74.016899</td>\n",
       "      <td>40.705993</td>\n",
       "      <td>1</td>\n",
       "      <td>15.0</td>\n",
       "    </tr>\n",
       "    <tr>\n",
       "      <th>49996</th>\n",
       "      <td>19:18.0</td>\n",
       "      <td>2015-06-22 17:19:18 UTC</td>\n",
       "      <td>-73.984756</td>\n",
       "      <td>40.768211</td>\n",
       "      <td>-73.987366</td>\n",
       "      <td>40.760597</td>\n",
       "      <td>1</td>\n",
       "      <td>7.5</td>\n",
       "    </tr>\n",
       "    <tr>\n",
       "      <th>49997</th>\n",
       "      <td>53:00.0</td>\n",
       "      <td>2011-01-30 04:53:00 UTC</td>\n",
       "      <td>-74.002698</td>\n",
       "      <td>40.739428</td>\n",
       "      <td>-73.998108</td>\n",
       "      <td>40.759483</td>\n",
       "      <td>1</td>\n",
       "      <td>6.9</td>\n",
       "    </tr>\n",
       "    <tr>\n",
       "      <th>49998</th>\n",
       "      <td>09:00.0</td>\n",
       "      <td>2012-11-06 07:09:00 UTC</td>\n",
       "      <td>-73.946062</td>\n",
       "      <td>40.777567</td>\n",
       "      <td>-73.953450</td>\n",
       "      <td>40.779687</td>\n",
       "      <td>2</td>\n",
       "      <td>4.5</td>\n",
       "    </tr>\n",
       "    <tr>\n",
       "      <th>49999</th>\n",
       "      <td>13:14.0</td>\n",
       "      <td>2010-01-13 08:13:14 UTC</td>\n",
       "      <td>-73.932603</td>\n",
       "      <td>40.763805</td>\n",
       "      <td>-73.932603</td>\n",
       "      <td>40.763805</td>\n",
       "      <td>1</td>\n",
       "      <td>10.9</td>\n",
       "    </tr>\n",
       "  </tbody>\n",
       "</table>\n",
       "<p>50000 rows × 8 columns</p>\n",
       "</div>"
      ],
      "text/plain": [
       "      unique_id      date_time_of_pickup  longitude_of_pickup  \\\n",
       "0       26:21.0  2009-06-15 17:26:21 UTC           -73.844311   \n",
       "1       52:16.0  2010-01-05 16:52:16 UTC           -74.016048   \n",
       "2       35:00.0  2011-08-18 00:35:00 UTC           -73.982738   \n",
       "3       30:42.0  2012-04-21 04:30:42 UTC           -73.987130   \n",
       "4       51:00.0  2010-03-09 07:51:00 UTC           -73.968095   \n",
       "...         ...                      ...                  ...   \n",
       "49995   25:15.0  2013-06-12 23:25:15 UTC           -73.999973   \n",
       "49996   19:18.0  2015-06-22 17:19:18 UTC           -73.984756   \n",
       "49997   53:00.0  2011-01-30 04:53:00 UTC           -74.002698   \n",
       "49998   09:00.0  2012-11-06 07:09:00 UTC           -73.946062   \n",
       "49999   13:14.0  2010-01-13 08:13:14 UTC           -73.932603   \n",
       "\n",
       "       latitude_of_pickup  longitude_of_dropoff  latitude_of_dropoff  \\\n",
       "0               40.721319            -73.841610            40.712278   \n",
       "1               40.711303            -73.979268            40.782004   \n",
       "2               40.761270            -73.991242            40.750562   \n",
       "3               40.733143            -73.991567            40.758092   \n",
       "4               40.768008            -73.956655            40.783762   \n",
       "...                   ...                   ...                  ...   \n",
       "49995           40.748531            -74.016899            40.705993   \n",
       "49996           40.768211            -73.987366            40.760597   \n",
       "49997           40.739428            -73.998108            40.759483   \n",
       "49998           40.777567            -73.953450            40.779687   \n",
       "49999           40.763805            -73.932603            40.763805   \n",
       "\n",
       "       no_of_passenger  amount  \n",
       "0                    1     4.5  \n",
       "1                    1    16.9  \n",
       "2                    2     5.7  \n",
       "3                    1     7.7  \n",
       "4                    1     5.3  \n",
       "...                ...     ...  \n",
       "49995                1    15.0  \n",
       "49996                1     7.5  \n",
       "49997                1     6.9  \n",
       "49998                2     4.5  \n",
       "49999                1    10.9  \n",
       "\n",
       "[50000 rows x 8 columns]"
      ]
     },
     "execution_count": 3,
     "metadata": {},
     "output_type": "execute_result"
    }
   ],
   "source": [
    "df"
   ]
  },
  {
   "cell_type": "markdown",
   "metadata": {
    "id": "XyLau9T857f9"
   },
   "source": [
    "**Step-3:**  Drop unwanted columns from dataset."
   ]
  },
  {
   "cell_type": "code",
   "execution_count": 6,
   "metadata": {
    "executionInfo": {
     "elapsed": 432,
     "status": "ok",
     "timestamp": 1650438413846,
     "user": {
      "displayName": "Abhishek Dodiya",
      "userId": "05457856945198063411"
     },
     "user_tz": -330
    },
    "id": "t-J5S4_-57f-"
   },
   "outputs": [
    {
     "ename": "KeyError",
     "evalue": "\"['unique_id'] not found in axis\"",
     "output_type": "error",
     "traceback": [
      "\u001b[1;31m---------------------------------------------------------------------------\u001b[0m",
      "\u001b[1;31mKeyError\u001b[0m                                  Traceback (most recent call last)",
      "Cell \u001b[1;32mIn[6], line 2\u001b[0m\n\u001b[0;32m      1\u001b[0m \u001b[38;5;66;03m# drop unnecessary data\u001b[39;00m\n\u001b[1;32m----> 2\u001b[0m df \u001b[38;5;241m=\u001b[39m \u001b[43mdf\u001b[49m\u001b[38;5;241;43m.\u001b[39;49m\u001b[43mdrop\u001b[49m\u001b[43m(\u001b[49m\u001b[38;5;124;43m\"\u001b[39;49m\u001b[38;5;124;43munique_id\u001b[39;49m\u001b[38;5;124;43m\"\u001b[39;49m\u001b[43m,\u001b[49m\u001b[43maxis\u001b[49m\u001b[43m \u001b[49m\u001b[38;5;241;43m=\u001b[39;49m\u001b[43m \u001b[49m\u001b[38;5;241;43m1\u001b[39;49m\u001b[43m)\u001b[49m\n\u001b[0;32m      3\u001b[0m df\n",
      "File \u001b[1;32m~\\anaconda3\\lib\\site-packages\\pandas\\util\\_decorators.py:331\u001b[0m, in \u001b[0;36mdeprecate_nonkeyword_arguments.<locals>.decorate.<locals>.wrapper\u001b[1;34m(*args, **kwargs)\u001b[0m\n\u001b[0;32m    325\u001b[0m \u001b[38;5;28;01mif\u001b[39;00m \u001b[38;5;28mlen\u001b[39m(args) \u001b[38;5;241m>\u001b[39m num_allow_args:\n\u001b[0;32m    326\u001b[0m     warnings\u001b[38;5;241m.\u001b[39mwarn(\n\u001b[0;32m    327\u001b[0m         msg\u001b[38;5;241m.\u001b[39mformat(arguments\u001b[38;5;241m=\u001b[39m_format_argument_list(allow_args)),\n\u001b[0;32m    328\u001b[0m         \u001b[38;5;167;01mFutureWarning\u001b[39;00m,\n\u001b[0;32m    329\u001b[0m         stacklevel\u001b[38;5;241m=\u001b[39mfind_stack_level(),\n\u001b[0;32m    330\u001b[0m     )\n\u001b[1;32m--> 331\u001b[0m \u001b[38;5;28;01mreturn\u001b[39;00m func(\u001b[38;5;241m*\u001b[39margs, \u001b[38;5;241m*\u001b[39m\u001b[38;5;241m*\u001b[39mkwargs)\n",
      "File \u001b[1;32m~\\anaconda3\\lib\\site-packages\\pandas\\core\\frame.py:5399\u001b[0m, in \u001b[0;36mDataFrame.drop\u001b[1;34m(self, labels, axis, index, columns, level, inplace, errors)\u001b[0m\n\u001b[0;32m   5251\u001b[0m \u001b[38;5;129m@deprecate_nonkeyword_arguments\u001b[39m(version\u001b[38;5;241m=\u001b[39m\u001b[38;5;28;01mNone\u001b[39;00m, allowed_args\u001b[38;5;241m=\u001b[39m[\u001b[38;5;124m\"\u001b[39m\u001b[38;5;124mself\u001b[39m\u001b[38;5;124m\"\u001b[39m, \u001b[38;5;124m\"\u001b[39m\u001b[38;5;124mlabels\u001b[39m\u001b[38;5;124m\"\u001b[39m])\n\u001b[0;32m   5252\u001b[0m \u001b[38;5;28;01mdef\u001b[39;00m \u001b[38;5;21mdrop\u001b[39m(  \u001b[38;5;66;03m# type: ignore[override]\u001b[39;00m\n\u001b[0;32m   5253\u001b[0m     \u001b[38;5;28mself\u001b[39m,\n\u001b[1;32m   (...)\u001b[0m\n\u001b[0;32m   5260\u001b[0m     errors: IgnoreRaise \u001b[38;5;241m=\u001b[39m \u001b[38;5;124m\"\u001b[39m\u001b[38;5;124mraise\u001b[39m\u001b[38;5;124m\"\u001b[39m,\n\u001b[0;32m   5261\u001b[0m ) \u001b[38;5;241m-\u001b[39m\u001b[38;5;241m>\u001b[39m DataFrame \u001b[38;5;241m|\u001b[39m \u001b[38;5;28;01mNone\u001b[39;00m:\n\u001b[0;32m   5262\u001b[0m \u001b[38;5;250m    \u001b[39m\u001b[38;5;124;03m\"\"\"\u001b[39;00m\n\u001b[0;32m   5263\u001b[0m \u001b[38;5;124;03m    Drop specified labels from rows or columns.\u001b[39;00m\n\u001b[0;32m   5264\u001b[0m \n\u001b[1;32m   (...)\u001b[0m\n\u001b[0;32m   5397\u001b[0m \u001b[38;5;124;03m            weight  1.0     0.8\u001b[39;00m\n\u001b[0;32m   5398\u001b[0m \u001b[38;5;124;03m    \"\"\"\u001b[39;00m\n\u001b[1;32m-> 5399\u001b[0m     \u001b[38;5;28;01mreturn\u001b[39;00m \u001b[38;5;28;43msuper\u001b[39;49m\u001b[43m(\u001b[49m\u001b[43m)\u001b[49m\u001b[38;5;241;43m.\u001b[39;49m\u001b[43mdrop\u001b[49m\u001b[43m(\u001b[49m\n\u001b[0;32m   5400\u001b[0m \u001b[43m        \u001b[49m\u001b[43mlabels\u001b[49m\u001b[38;5;241;43m=\u001b[39;49m\u001b[43mlabels\u001b[49m\u001b[43m,\u001b[49m\n\u001b[0;32m   5401\u001b[0m \u001b[43m        \u001b[49m\u001b[43maxis\u001b[49m\u001b[38;5;241;43m=\u001b[39;49m\u001b[43maxis\u001b[49m\u001b[43m,\u001b[49m\n\u001b[0;32m   5402\u001b[0m \u001b[43m        \u001b[49m\u001b[43mindex\u001b[49m\u001b[38;5;241;43m=\u001b[39;49m\u001b[43mindex\u001b[49m\u001b[43m,\u001b[49m\n\u001b[0;32m   5403\u001b[0m \u001b[43m        \u001b[49m\u001b[43mcolumns\u001b[49m\u001b[38;5;241;43m=\u001b[39;49m\u001b[43mcolumns\u001b[49m\u001b[43m,\u001b[49m\n\u001b[0;32m   5404\u001b[0m \u001b[43m        \u001b[49m\u001b[43mlevel\u001b[49m\u001b[38;5;241;43m=\u001b[39;49m\u001b[43mlevel\u001b[49m\u001b[43m,\u001b[49m\n\u001b[0;32m   5405\u001b[0m \u001b[43m        \u001b[49m\u001b[43minplace\u001b[49m\u001b[38;5;241;43m=\u001b[39;49m\u001b[43minplace\u001b[49m\u001b[43m,\u001b[49m\n\u001b[0;32m   5406\u001b[0m \u001b[43m        \u001b[49m\u001b[43merrors\u001b[49m\u001b[38;5;241;43m=\u001b[39;49m\u001b[43merrors\u001b[49m\u001b[43m,\u001b[49m\n\u001b[0;32m   5407\u001b[0m \u001b[43m    \u001b[49m\u001b[43m)\u001b[49m\n",
      "File \u001b[1;32m~\\anaconda3\\lib\\site-packages\\pandas\\util\\_decorators.py:331\u001b[0m, in \u001b[0;36mdeprecate_nonkeyword_arguments.<locals>.decorate.<locals>.wrapper\u001b[1;34m(*args, **kwargs)\u001b[0m\n\u001b[0;32m    325\u001b[0m \u001b[38;5;28;01mif\u001b[39;00m \u001b[38;5;28mlen\u001b[39m(args) \u001b[38;5;241m>\u001b[39m num_allow_args:\n\u001b[0;32m    326\u001b[0m     warnings\u001b[38;5;241m.\u001b[39mwarn(\n\u001b[0;32m    327\u001b[0m         msg\u001b[38;5;241m.\u001b[39mformat(arguments\u001b[38;5;241m=\u001b[39m_format_argument_list(allow_args)),\n\u001b[0;32m    328\u001b[0m         \u001b[38;5;167;01mFutureWarning\u001b[39;00m,\n\u001b[0;32m    329\u001b[0m         stacklevel\u001b[38;5;241m=\u001b[39mfind_stack_level(),\n\u001b[0;32m    330\u001b[0m     )\n\u001b[1;32m--> 331\u001b[0m \u001b[38;5;28;01mreturn\u001b[39;00m func(\u001b[38;5;241m*\u001b[39margs, \u001b[38;5;241m*\u001b[39m\u001b[38;5;241m*\u001b[39mkwargs)\n",
      "File \u001b[1;32m~\\anaconda3\\lib\\site-packages\\pandas\\core\\generic.py:4505\u001b[0m, in \u001b[0;36mNDFrame.drop\u001b[1;34m(self, labels, axis, index, columns, level, inplace, errors)\u001b[0m\n\u001b[0;32m   4503\u001b[0m \u001b[38;5;28;01mfor\u001b[39;00m axis, labels \u001b[38;5;129;01min\u001b[39;00m axes\u001b[38;5;241m.\u001b[39mitems():\n\u001b[0;32m   4504\u001b[0m     \u001b[38;5;28;01mif\u001b[39;00m labels \u001b[38;5;129;01mis\u001b[39;00m \u001b[38;5;129;01mnot\u001b[39;00m \u001b[38;5;28;01mNone\u001b[39;00m:\n\u001b[1;32m-> 4505\u001b[0m         obj \u001b[38;5;241m=\u001b[39m \u001b[43mobj\u001b[49m\u001b[38;5;241;43m.\u001b[39;49m\u001b[43m_drop_axis\u001b[49m\u001b[43m(\u001b[49m\u001b[43mlabels\u001b[49m\u001b[43m,\u001b[49m\u001b[43m \u001b[49m\u001b[43maxis\u001b[49m\u001b[43m,\u001b[49m\u001b[43m \u001b[49m\u001b[43mlevel\u001b[49m\u001b[38;5;241;43m=\u001b[39;49m\u001b[43mlevel\u001b[49m\u001b[43m,\u001b[49m\u001b[43m \u001b[49m\u001b[43merrors\u001b[49m\u001b[38;5;241;43m=\u001b[39;49m\u001b[43merrors\u001b[49m\u001b[43m)\u001b[49m\n\u001b[0;32m   4507\u001b[0m \u001b[38;5;28;01mif\u001b[39;00m inplace:\n\u001b[0;32m   4508\u001b[0m     \u001b[38;5;28mself\u001b[39m\u001b[38;5;241m.\u001b[39m_update_inplace(obj)\n",
      "File \u001b[1;32m~\\anaconda3\\lib\\site-packages\\pandas\\core\\generic.py:4546\u001b[0m, in \u001b[0;36mNDFrame._drop_axis\u001b[1;34m(self, labels, axis, level, errors, only_slice)\u001b[0m\n\u001b[0;32m   4544\u001b[0m         new_axis \u001b[38;5;241m=\u001b[39m axis\u001b[38;5;241m.\u001b[39mdrop(labels, level\u001b[38;5;241m=\u001b[39mlevel, errors\u001b[38;5;241m=\u001b[39merrors)\n\u001b[0;32m   4545\u001b[0m     \u001b[38;5;28;01melse\u001b[39;00m:\n\u001b[1;32m-> 4546\u001b[0m         new_axis \u001b[38;5;241m=\u001b[39m \u001b[43maxis\u001b[49m\u001b[38;5;241;43m.\u001b[39;49m\u001b[43mdrop\u001b[49m\u001b[43m(\u001b[49m\u001b[43mlabels\u001b[49m\u001b[43m,\u001b[49m\u001b[43m \u001b[49m\u001b[43merrors\u001b[49m\u001b[38;5;241;43m=\u001b[39;49m\u001b[43merrors\u001b[49m\u001b[43m)\u001b[49m\n\u001b[0;32m   4547\u001b[0m     indexer \u001b[38;5;241m=\u001b[39m axis\u001b[38;5;241m.\u001b[39mget_indexer(new_axis)\n\u001b[0;32m   4549\u001b[0m \u001b[38;5;66;03m# Case for non-unique axis\u001b[39;00m\n\u001b[0;32m   4550\u001b[0m \u001b[38;5;28;01melse\u001b[39;00m:\n",
      "File \u001b[1;32m~\\anaconda3\\lib\\site-packages\\pandas\\core\\indexes\\base.py:6934\u001b[0m, in \u001b[0;36mIndex.drop\u001b[1;34m(self, labels, errors)\u001b[0m\n\u001b[0;32m   6932\u001b[0m \u001b[38;5;28;01mif\u001b[39;00m mask\u001b[38;5;241m.\u001b[39many():\n\u001b[0;32m   6933\u001b[0m     \u001b[38;5;28;01mif\u001b[39;00m errors \u001b[38;5;241m!=\u001b[39m \u001b[38;5;124m\"\u001b[39m\u001b[38;5;124mignore\u001b[39m\u001b[38;5;124m\"\u001b[39m:\n\u001b[1;32m-> 6934\u001b[0m         \u001b[38;5;28;01mraise\u001b[39;00m \u001b[38;5;167;01mKeyError\u001b[39;00m(\u001b[38;5;124mf\u001b[39m\u001b[38;5;124m\"\u001b[39m\u001b[38;5;132;01m{\u001b[39;00m\u001b[38;5;28mlist\u001b[39m(labels[mask])\u001b[38;5;132;01m}\u001b[39;00m\u001b[38;5;124m not found in axis\u001b[39m\u001b[38;5;124m\"\u001b[39m)\n\u001b[0;32m   6935\u001b[0m     indexer \u001b[38;5;241m=\u001b[39m indexer[\u001b[38;5;241m~\u001b[39mmask]\n\u001b[0;32m   6936\u001b[0m \u001b[38;5;28;01mreturn\u001b[39;00m \u001b[38;5;28mself\u001b[39m\u001b[38;5;241m.\u001b[39mdelete(indexer)\n",
      "\u001b[1;31mKeyError\u001b[0m: \"['unique_id'] not found in axis\""
     ]
    }
   ],
   "source": [
    "# drop unnecessary data\n",
    "df = df.drop(\"unique_id\",axis = 1)b"
   ]
  },
  {
   "cell_type": "code",
   "execution_count": 7,
   "metadata": {},
   "outputs": [
    {
     "data": {
      "text/html": [
       "<div>\n",
       "<style scoped>\n",
       "    .dataframe tbody tr th:only-of-type {\n",
       "        vertical-align: middle;\n",
       "    }\n",
       "\n",
       "    .dataframe tbody tr th {\n",
       "        vertical-align: top;\n",
       "    }\n",
       "\n",
       "    .dataframe thead th {\n",
       "        text-align: right;\n",
       "    }\n",
       "</style>\n",
       "<table border=\"1\" class=\"dataframe\">\n",
       "  <thead>\n",
       "    <tr style=\"text-align: right;\">\n",
       "      <th></th>\n",
       "      <th>date_time_of_pickup</th>\n",
       "      <th>longitude_of_pickup</th>\n",
       "      <th>latitude_of_pickup</th>\n",
       "      <th>longitude_of_dropoff</th>\n",
       "      <th>latitude_of_dropoff</th>\n",
       "      <th>no_of_passenger</th>\n",
       "      <th>amount</th>\n",
       "    </tr>\n",
       "  </thead>\n",
       "  <tbody>\n",
       "    <tr>\n",
       "      <th>0</th>\n",
       "      <td>2009-06-15 17:26:21 UTC</td>\n",
       "      <td>-73.844311</td>\n",
       "      <td>40.721319</td>\n",
       "      <td>-73.841610</td>\n",
       "      <td>40.712278</td>\n",
       "      <td>1</td>\n",
       "      <td>4.5</td>\n",
       "    </tr>\n",
       "    <tr>\n",
       "      <th>1</th>\n",
       "      <td>2010-01-05 16:52:16 UTC</td>\n",
       "      <td>-74.016048</td>\n",
       "      <td>40.711303</td>\n",
       "      <td>-73.979268</td>\n",
       "      <td>40.782004</td>\n",
       "      <td>1</td>\n",
       "      <td>16.9</td>\n",
       "    </tr>\n",
       "    <tr>\n",
       "      <th>2</th>\n",
       "      <td>2011-08-18 00:35:00 UTC</td>\n",
       "      <td>-73.982738</td>\n",
       "      <td>40.761270</td>\n",
       "      <td>-73.991242</td>\n",
       "      <td>40.750562</td>\n",
       "      <td>2</td>\n",
       "      <td>5.7</td>\n",
       "    </tr>\n",
       "    <tr>\n",
       "      <th>3</th>\n",
       "      <td>2012-04-21 04:30:42 UTC</td>\n",
       "      <td>-73.987130</td>\n",
       "      <td>40.733143</td>\n",
       "      <td>-73.991567</td>\n",
       "      <td>40.758092</td>\n",
       "      <td>1</td>\n",
       "      <td>7.7</td>\n",
       "    </tr>\n",
       "    <tr>\n",
       "      <th>4</th>\n",
       "      <td>2010-03-09 07:51:00 UTC</td>\n",
       "      <td>-73.968095</td>\n",
       "      <td>40.768008</td>\n",
       "      <td>-73.956655</td>\n",
       "      <td>40.783762</td>\n",
       "      <td>1</td>\n",
       "      <td>5.3</td>\n",
       "    </tr>\n",
       "    <tr>\n",
       "      <th>...</th>\n",
       "      <td>...</td>\n",
       "      <td>...</td>\n",
       "      <td>...</td>\n",
       "      <td>...</td>\n",
       "      <td>...</td>\n",
       "      <td>...</td>\n",
       "      <td>...</td>\n",
       "    </tr>\n",
       "    <tr>\n",
       "      <th>49995</th>\n",
       "      <td>2013-06-12 23:25:15 UTC</td>\n",
       "      <td>-73.999973</td>\n",
       "      <td>40.748531</td>\n",
       "      <td>-74.016899</td>\n",
       "      <td>40.705993</td>\n",
       "      <td>1</td>\n",
       "      <td>15.0</td>\n",
       "    </tr>\n",
       "    <tr>\n",
       "      <th>49996</th>\n",
       "      <td>2015-06-22 17:19:18 UTC</td>\n",
       "      <td>-73.984756</td>\n",
       "      <td>40.768211</td>\n",
       "      <td>-73.987366</td>\n",
       "      <td>40.760597</td>\n",
       "      <td>1</td>\n",
       "      <td>7.5</td>\n",
       "    </tr>\n",
       "    <tr>\n",
       "      <th>49997</th>\n",
       "      <td>2011-01-30 04:53:00 UTC</td>\n",
       "      <td>-74.002698</td>\n",
       "      <td>40.739428</td>\n",
       "      <td>-73.998108</td>\n",
       "      <td>40.759483</td>\n",
       "      <td>1</td>\n",
       "      <td>6.9</td>\n",
       "    </tr>\n",
       "    <tr>\n",
       "      <th>49998</th>\n",
       "      <td>2012-11-06 07:09:00 UTC</td>\n",
       "      <td>-73.946062</td>\n",
       "      <td>40.777567</td>\n",
       "      <td>-73.953450</td>\n",
       "      <td>40.779687</td>\n",
       "      <td>2</td>\n",
       "      <td>4.5</td>\n",
       "    </tr>\n",
       "    <tr>\n",
       "      <th>49999</th>\n",
       "      <td>2010-01-13 08:13:14 UTC</td>\n",
       "      <td>-73.932603</td>\n",
       "      <td>40.763805</td>\n",
       "      <td>-73.932603</td>\n",
       "      <td>40.763805</td>\n",
       "      <td>1</td>\n",
       "      <td>10.9</td>\n",
       "    </tr>\n",
       "  </tbody>\n",
       "</table>\n",
       "<p>50000 rows × 7 columns</p>\n",
       "</div>"
      ],
      "text/plain": [
       "           date_time_of_pickup  longitude_of_pickup  latitude_of_pickup  \\\n",
       "0      2009-06-15 17:26:21 UTC           -73.844311           40.721319   \n",
       "1      2010-01-05 16:52:16 UTC           -74.016048           40.711303   \n",
       "2      2011-08-18 00:35:00 UTC           -73.982738           40.761270   \n",
       "3      2012-04-21 04:30:42 UTC           -73.987130           40.733143   \n",
       "4      2010-03-09 07:51:00 UTC           -73.968095           40.768008   \n",
       "...                        ...                  ...                 ...   \n",
       "49995  2013-06-12 23:25:15 UTC           -73.999973           40.748531   \n",
       "49996  2015-06-22 17:19:18 UTC           -73.984756           40.768211   \n",
       "49997  2011-01-30 04:53:00 UTC           -74.002698           40.739428   \n",
       "49998  2012-11-06 07:09:00 UTC           -73.946062           40.777567   \n",
       "49999  2010-01-13 08:13:14 UTC           -73.932603           40.763805   \n",
       "\n",
       "       longitude_of_dropoff  latitude_of_dropoff  no_of_passenger  amount  \n",
       "0                -73.841610            40.712278                1     4.5  \n",
       "1                -73.979268            40.782004                1    16.9  \n",
       "2                -73.991242            40.750562                2     5.7  \n",
       "3                -73.991567            40.758092                1     7.7  \n",
       "4                -73.956655            40.783762                1     5.3  \n",
       "...                     ...                  ...              ...     ...  \n",
       "49995            -74.016899            40.705993                1    15.0  \n",
       "49996            -73.987366            40.760597                1     7.5  \n",
       "49997            -73.998108            40.759483                1     6.9  \n",
       "49998            -73.953450            40.779687                2     4.5  \n",
       "49999            -73.932603            40.763805                1    10.9  \n",
       "\n",
       "[50000 rows x 7 columns]"
      ]
     },
     "execution_count": 7,
     "metadata": {},
     "output_type": "execute_result"
    }
   ],
   "source": [
    "df"
   ]
  },
  {
   "cell_type": "code",
   "execution_count": 8,
   "metadata": {
    "colab": {
     "base_uri": "https://localhost:8080/",
     "height": 300
    },
    "executionInfo": {
     "elapsed": 677,
     "status": "ok",
     "timestamp": 1650438423767,
     "user": {
      "displayName": "Abhishek Dodiya",
      "userId": "05457856945198063411"
     },
     "user_tz": -330
    },
    "id": "dMWFxGEu57gA",
    "outputId": "986363ef-4a7c-482d-c914-1f3925624a0e",
    "scrolled": true
   },
   "outputs": [
    {
     "data": {
      "text/html": [
       "<div>\n",
       "<style scoped>\n",
       "    .dataframe tbody tr th:only-of-type {\n",
       "        vertical-align: middle;\n",
       "    }\n",
       "\n",
       "    .dataframe tbody tr th {\n",
       "        vertical-align: top;\n",
       "    }\n",
       "\n",
       "    .dataframe thead th {\n",
       "        text-align: right;\n",
       "    }\n",
       "</style>\n",
       "<table border=\"1\" class=\"dataframe\">\n",
       "  <thead>\n",
       "    <tr style=\"text-align: right;\">\n",
       "      <th></th>\n",
       "      <th>longitude_of_pickup</th>\n",
       "      <th>latitude_of_pickup</th>\n",
       "      <th>longitude_of_dropoff</th>\n",
       "      <th>latitude_of_dropoff</th>\n",
       "      <th>no_of_passenger</th>\n",
       "      <th>amount</th>\n",
       "    </tr>\n",
       "  </thead>\n",
       "  <tbody>\n",
       "    <tr>\n",
       "      <th>count</th>\n",
       "      <td>50000.000000</td>\n",
       "      <td>50000.000000</td>\n",
       "      <td>50000.000000</td>\n",
       "      <td>50000.000000</td>\n",
       "      <td>50000.000000</td>\n",
       "      <td>50000.000000</td>\n",
       "    </tr>\n",
       "    <tr>\n",
       "      <th>mean</th>\n",
       "      <td>-72.509756</td>\n",
       "      <td>39.933759</td>\n",
       "      <td>-72.504616</td>\n",
       "      <td>39.926251</td>\n",
       "      <td>1.667840</td>\n",
       "      <td>11.364171</td>\n",
       "    </tr>\n",
       "    <tr>\n",
       "      <th>std</th>\n",
       "      <td>10.393860</td>\n",
       "      <td>6.224857</td>\n",
       "      <td>10.407570</td>\n",
       "      <td>6.014737</td>\n",
       "      <td>1.289195</td>\n",
       "      <td>9.685557</td>\n",
       "    </tr>\n",
       "    <tr>\n",
       "      <th>min</th>\n",
       "      <td>-75.423848</td>\n",
       "      <td>-74.006893</td>\n",
       "      <td>-84.654241</td>\n",
       "      <td>-74.006377</td>\n",
       "      <td>0.000000</td>\n",
       "      <td>-5.000000</td>\n",
       "    </tr>\n",
       "    <tr>\n",
       "      <th>25%</th>\n",
       "      <td>-73.992062</td>\n",
       "      <td>40.734880</td>\n",
       "      <td>-73.991152</td>\n",
       "      <td>40.734372</td>\n",
       "      <td>1.000000</td>\n",
       "      <td>6.000000</td>\n",
       "    </tr>\n",
       "    <tr>\n",
       "      <th>50%</th>\n",
       "      <td>-73.981840</td>\n",
       "      <td>40.752678</td>\n",
       "      <td>-73.980082</td>\n",
       "      <td>40.753372</td>\n",
       "      <td>1.000000</td>\n",
       "      <td>8.500000</td>\n",
       "    </tr>\n",
       "    <tr>\n",
       "      <th>75%</th>\n",
       "      <td>-73.967148</td>\n",
       "      <td>40.767360</td>\n",
       "      <td>-73.963584</td>\n",
       "      <td>40.768167</td>\n",
       "      <td>2.000000</td>\n",
       "      <td>12.500000</td>\n",
       "    </tr>\n",
       "    <tr>\n",
       "      <th>max</th>\n",
       "      <td>40.783472</td>\n",
       "      <td>401.083332</td>\n",
       "      <td>40.851027</td>\n",
       "      <td>43.415190</td>\n",
       "      <td>6.000000</td>\n",
       "      <td>200.000000</td>\n",
       "    </tr>\n",
       "  </tbody>\n",
       "</table>\n",
       "</div>"
      ],
      "text/plain": [
       "       longitude_of_pickup  latitude_of_pickup  longitude_of_dropoff  \\\n",
       "count         50000.000000        50000.000000          50000.000000   \n",
       "mean            -72.509756           39.933759            -72.504616   \n",
       "std              10.393860            6.224857             10.407570   \n",
       "min             -75.423848          -74.006893            -84.654241   \n",
       "25%             -73.992062           40.734880            -73.991152   \n",
       "50%             -73.981840           40.752678            -73.980082   \n",
       "75%             -73.967148           40.767360            -73.963584   \n",
       "max              40.783472          401.083332             40.851027   \n",
       "\n",
       "       latitude_of_dropoff  no_of_passenger        amount  \n",
       "count         50000.000000     50000.000000  50000.000000  \n",
       "mean             39.926251         1.667840     11.364171  \n",
       "std               6.014737         1.289195      9.685557  \n",
       "min             -74.006377         0.000000     -5.000000  \n",
       "25%              40.734372         1.000000      6.000000  \n",
       "50%              40.753372         1.000000      8.500000  \n",
       "75%              40.768167         2.000000     12.500000  \n",
       "max              43.415190         6.000000    200.000000  "
      ]
     },
     "execution_count": 8,
     "metadata": {},
     "output_type": "execute_result"
    }
   ],
   "source": [
    "df.describe()"
   ]
  },
  {
   "cell_type": "markdown",
   "metadata": {
    "id": "VkdpgwoS57gB"
   },
   "source": [
    "**Step-4:**  Missing value analysis."
   ]
  },
  {
   "cell_type": "code",
   "execution_count": 9,
   "metadata": {
    "colab": {
     "base_uri": "https://localhost:8080/"
    },
    "executionInfo": {
     "elapsed": 525,
     "status": "ok",
     "timestamp": 1650438455487,
     "user": {
      "displayName": "Abhishek Dodiya",
      "userId": "05457856945198063411"
     },
     "user_tz": -330
    },
    "id": "lk31evDh57gB",
    "outputId": "9b36634e-cbc8-4432-d0fd-abc6e798c569",
    "scrolled": false
   },
   "outputs": [
    {
     "data": {
      "text/plain": [
       "date_time_of_pickup     0\n",
       "longitude_of_pickup     0\n",
       "latitude_of_pickup      0\n",
       "longitude_of_dropoff    0\n",
       "latitude_of_dropoff     0\n",
       "no_of_passenger         0\n",
       "amount                  0\n",
       "dtype: int64"
      ]
     },
     "execution_count": 9,
     "metadata": {},
     "output_type": "execute_result"
    }
   ],
   "source": [
    "df.isna().sum() # no missing value found"
   ]
  },
  {
   "cell_type": "code",
   "execution_count": 10,
   "metadata": {},
   "outputs": [
    {
     "data": {
      "text/plain": [
       "date_time_of_pickup     0\n",
       "longitude_of_pickup     0\n",
       "latitude_of_pickup      0\n",
       "longitude_of_dropoff    0\n",
       "latitude_of_dropoff     0\n",
       "no_of_passenger         0\n",
       "amount                  0\n",
       "dtype: int64"
      ]
     },
     "execution_count": 10,
     "metadata": {},
     "output_type": "execute_result"
    }
   ],
   "source": [
    "df.isnull().sum()"
   ]
  },
  {
   "cell_type": "code",
   "execution_count": 11,
   "metadata": {
    "colab": {
     "base_uri": "https://localhost:8080/"
    },
    "executionInfo": {
     "elapsed": 3,
     "status": "ok",
     "timestamp": 1650438457288,
     "user": {
      "displayName": "Abhishek Dodiya",
      "userId": "05457856945198063411"
     },
     "user_tz": -330
    },
    "id": "UKPI97w_57gC",
    "outputId": "af33a5b8-a725-49eb-d9ff-5c1f75942904"
   },
   "outputs": [
    {
     "name": "stdout",
     "output_type": "stream",
     "text": [
      "<class 'pandas.core.frame.DataFrame'>\n",
      "RangeIndex: 50000 entries, 0 to 49999\n",
      "Data columns (total 7 columns):\n",
      " #   Column                Non-Null Count  Dtype  \n",
      "---  ------                --------------  -----  \n",
      " 0   date_time_of_pickup   50000 non-null  object \n",
      " 1   longitude_of_pickup   50000 non-null  float64\n",
      " 2   latitude_of_pickup    50000 non-null  float64\n",
      " 3   longitude_of_dropoff  50000 non-null  float64\n",
      " 4   latitude_of_dropoff   50000 non-null  float64\n",
      " 5   no_of_passenger       50000 non-null  int64  \n",
      " 6   amount                50000 non-null  float64\n",
      "dtypes: float64(5), int64(1), object(1)\n",
      "memory usage: 2.7+ MB\n"
     ]
    }
   ],
   "source": [
    "#check data type and other information \n",
    "df.info()"
   ]
  },
  {
   "cell_type": "markdown",
   "metadata": {
    "id": "Tvk9y5b257gD"
   },
   "source": [
    "**Step-5:**  Making new features based on old features."
   ]
  },
  {
   "cell_type": "code",
   "execution_count": 12,
   "metadata": {
    "colab": {
     "base_uri": "https://localhost:8080/",
     "height": 270
    },
    "executionInfo": {
     "elapsed": 7629,
     "status": "ok",
     "timestamp": 1650438489562,
     "user": {
      "displayName": "Abhishek Dodiya",
      "userId": "05457856945198063411"
     },
     "user_tz": -330
    },
    "id": "RoZjEboy57gE",
    "outputId": "683e328c-d805-4989-a6c1-ce8e65e1f047",
    "scrolled": true
   },
   "outputs": [
    {
     "data": {
      "text/html": [
       "<div>\n",
       "<style scoped>\n",
       "    .dataframe tbody tr th:only-of-type {\n",
       "        vertical-align: middle;\n",
       "    }\n",
       "\n",
       "    .dataframe tbody tr th {\n",
       "        vertical-align: top;\n",
       "    }\n",
       "\n",
       "    .dataframe thead th {\n",
       "        text-align: right;\n",
       "    }\n",
       "</style>\n",
       "<table border=\"1\" class=\"dataframe\">\n",
       "  <thead>\n",
       "    <tr style=\"text-align: right;\">\n",
       "      <th></th>\n",
       "      <th>date_time_of_pickup</th>\n",
       "      <th>longitude_of_pickup</th>\n",
       "      <th>latitude_of_pickup</th>\n",
       "      <th>longitude_of_dropoff</th>\n",
       "      <th>latitude_of_dropoff</th>\n",
       "      <th>no_of_passenger</th>\n",
       "      <th>amount</th>\n",
       "    </tr>\n",
       "  </thead>\n",
       "  <tbody>\n",
       "    <tr>\n",
       "      <th>0</th>\n",
       "      <td>2009-06-15 17:26:21+00:00</td>\n",
       "      <td>-73.844311</td>\n",
       "      <td>40.721319</td>\n",
       "      <td>-73.841610</td>\n",
       "      <td>40.712278</td>\n",
       "      <td>1</td>\n",
       "      <td>4.5</td>\n",
       "    </tr>\n",
       "    <tr>\n",
       "      <th>1</th>\n",
       "      <td>2010-01-05 16:52:16+00:00</td>\n",
       "      <td>-74.016048</td>\n",
       "      <td>40.711303</td>\n",
       "      <td>-73.979268</td>\n",
       "      <td>40.782004</td>\n",
       "      <td>1</td>\n",
       "      <td>16.9</td>\n",
       "    </tr>\n",
       "    <tr>\n",
       "      <th>2</th>\n",
       "      <td>2011-08-18 00:35:00+00:00</td>\n",
       "      <td>-73.982738</td>\n",
       "      <td>40.761270</td>\n",
       "      <td>-73.991242</td>\n",
       "      <td>40.750562</td>\n",
       "      <td>2</td>\n",
       "      <td>5.7</td>\n",
       "    </tr>\n",
       "    <tr>\n",
       "      <th>3</th>\n",
       "      <td>2012-04-21 04:30:42+00:00</td>\n",
       "      <td>-73.987130</td>\n",
       "      <td>40.733143</td>\n",
       "      <td>-73.991567</td>\n",
       "      <td>40.758092</td>\n",
       "      <td>1</td>\n",
       "      <td>7.7</td>\n",
       "    </tr>\n",
       "    <tr>\n",
       "      <th>4</th>\n",
       "      <td>2010-03-09 07:51:00+00:00</td>\n",
       "      <td>-73.968095</td>\n",
       "      <td>40.768008</td>\n",
       "      <td>-73.956655</td>\n",
       "      <td>40.783762</td>\n",
       "      <td>1</td>\n",
       "      <td>5.3</td>\n",
       "    </tr>\n",
       "    <tr>\n",
       "      <th>...</th>\n",
       "      <td>...</td>\n",
       "      <td>...</td>\n",
       "      <td>...</td>\n",
       "      <td>...</td>\n",
       "      <td>...</td>\n",
       "      <td>...</td>\n",
       "      <td>...</td>\n",
       "    </tr>\n",
       "    <tr>\n",
       "      <th>49995</th>\n",
       "      <td>2013-06-12 23:25:15+00:00</td>\n",
       "      <td>-73.999973</td>\n",
       "      <td>40.748531</td>\n",
       "      <td>-74.016899</td>\n",
       "      <td>40.705993</td>\n",
       "      <td>1</td>\n",
       "      <td>15.0</td>\n",
       "    </tr>\n",
       "    <tr>\n",
       "      <th>49996</th>\n",
       "      <td>2015-06-22 17:19:18+00:00</td>\n",
       "      <td>-73.984756</td>\n",
       "      <td>40.768211</td>\n",
       "      <td>-73.987366</td>\n",
       "      <td>40.760597</td>\n",
       "      <td>1</td>\n",
       "      <td>7.5</td>\n",
       "    </tr>\n",
       "    <tr>\n",
       "      <th>49997</th>\n",
       "      <td>2011-01-30 04:53:00+00:00</td>\n",
       "      <td>-74.002698</td>\n",
       "      <td>40.739428</td>\n",
       "      <td>-73.998108</td>\n",
       "      <td>40.759483</td>\n",
       "      <td>1</td>\n",
       "      <td>6.9</td>\n",
       "    </tr>\n",
       "    <tr>\n",
       "      <th>49998</th>\n",
       "      <td>2012-11-06 07:09:00+00:00</td>\n",
       "      <td>-73.946062</td>\n",
       "      <td>40.777567</td>\n",
       "      <td>-73.953450</td>\n",
       "      <td>40.779687</td>\n",
       "      <td>2</td>\n",
       "      <td>4.5</td>\n",
       "    </tr>\n",
       "    <tr>\n",
       "      <th>49999</th>\n",
       "      <td>2010-01-13 08:13:14+00:00</td>\n",
       "      <td>-73.932603</td>\n",
       "      <td>40.763805</td>\n",
       "      <td>-73.932603</td>\n",
       "      <td>40.763805</td>\n",
       "      <td>1</td>\n",
       "      <td>10.9</td>\n",
       "    </tr>\n",
       "  </tbody>\n",
       "</table>\n",
       "<p>50000 rows × 7 columns</p>\n",
       "</div>"
      ],
      "text/plain": [
       "            date_time_of_pickup  longitude_of_pickup  latitude_of_pickup  \\\n",
       "0     2009-06-15 17:26:21+00:00           -73.844311           40.721319   \n",
       "1     2010-01-05 16:52:16+00:00           -74.016048           40.711303   \n",
       "2     2011-08-18 00:35:00+00:00           -73.982738           40.761270   \n",
       "3     2012-04-21 04:30:42+00:00           -73.987130           40.733143   \n",
       "4     2010-03-09 07:51:00+00:00           -73.968095           40.768008   \n",
       "...                         ...                  ...                 ...   \n",
       "49995 2013-06-12 23:25:15+00:00           -73.999973           40.748531   \n",
       "49996 2015-06-22 17:19:18+00:00           -73.984756           40.768211   \n",
       "49997 2011-01-30 04:53:00+00:00           -74.002698           40.739428   \n",
       "49998 2012-11-06 07:09:00+00:00           -73.946062           40.777567   \n",
       "49999 2010-01-13 08:13:14+00:00           -73.932603           40.763805   \n",
       "\n",
       "       longitude_of_dropoff  latitude_of_dropoff  no_of_passenger  amount  \n",
       "0                -73.841610            40.712278                1     4.5  \n",
       "1                -73.979268            40.782004                1    16.9  \n",
       "2                -73.991242            40.750562                2     5.7  \n",
       "3                -73.991567            40.758092                1     7.7  \n",
       "4                -73.956655            40.783762                1     5.3  \n",
       "...                     ...                  ...              ...     ...  \n",
       "49995            -74.016899            40.705993                1    15.0  \n",
       "49996            -73.987366            40.760597                1     7.5  \n",
       "49997            -73.998108            40.759483                1     6.9  \n",
       "49998            -73.953450            40.779687                2     4.5  \n",
       "49999            -73.932603            40.763805                1    10.9  \n",
       "\n",
       "[50000 rows x 7 columns]"
      ]
     },
     "execution_count": 12,
     "metadata": {},
     "output_type": "execute_result"
    }
   ],
   "source": [
    "# Extract various date time components as seperate indep variables\n",
    "#first convert date_time_of_pickup to date and time formate\n",
    "df[\"date_time_of_pickup\"] = pd.to_datetime(df[\"date_time_of_pickup\"])\n",
    "df"
   ]
  },
  {
   "cell_type": "code",
   "execution_count": 13,
   "metadata": {},
   "outputs": [
    {
     "data": {
      "text/html": [
       "<div>\n",
       "<style scoped>\n",
       "    .dataframe tbody tr th:only-of-type {\n",
       "        vertical-align: middle;\n",
       "    }\n",
       "\n",
       "    .dataframe tbody tr th {\n",
       "        vertical-align: top;\n",
       "    }\n",
       "\n",
       "    .dataframe thead th {\n",
       "        text-align: right;\n",
       "    }\n",
       "</style>\n",
       "<table border=\"1\" class=\"dataframe\">\n",
       "  <thead>\n",
       "    <tr style=\"text-align: right;\">\n",
       "      <th></th>\n",
       "      <th>longitude_of_pickup</th>\n",
       "      <th>latitude_of_pickup</th>\n",
       "      <th>longitude_of_dropoff</th>\n",
       "      <th>latitude_of_dropoff</th>\n",
       "      <th>no_of_passenger</th>\n",
       "      <th>amount</th>\n",
       "      <th>hour</th>\n",
       "      <th>dayOfTheMonth</th>\n",
       "      <th>month</th>\n",
       "      <th>dayOfTheWeek</th>\n",
       "    </tr>\n",
       "  </thead>\n",
       "  <tbody>\n",
       "    <tr>\n",
       "      <th>0</th>\n",
       "      <td>-73.844311</td>\n",
       "      <td>40.721319</td>\n",
       "      <td>-73.841610</td>\n",
       "      <td>40.712278</td>\n",
       "      <td>1</td>\n",
       "      <td>4.5</td>\n",
       "      <td>17</td>\n",
       "      <td>15</td>\n",
       "      <td>6</td>\n",
       "      <td>0</td>\n",
       "    </tr>\n",
       "    <tr>\n",
       "      <th>1</th>\n",
       "      <td>-74.016048</td>\n",
       "      <td>40.711303</td>\n",
       "      <td>-73.979268</td>\n",
       "      <td>40.782004</td>\n",
       "      <td>1</td>\n",
       "      <td>16.9</td>\n",
       "      <td>16</td>\n",
       "      <td>5</td>\n",
       "      <td>1</td>\n",
       "      <td>1</td>\n",
       "    </tr>\n",
       "    <tr>\n",
       "      <th>2</th>\n",
       "      <td>-73.982738</td>\n",
       "      <td>40.761270</td>\n",
       "      <td>-73.991242</td>\n",
       "      <td>40.750562</td>\n",
       "      <td>2</td>\n",
       "      <td>5.7</td>\n",
       "      <td>0</td>\n",
       "      <td>18</td>\n",
       "      <td>8</td>\n",
       "      <td>3</td>\n",
       "    </tr>\n",
       "    <tr>\n",
       "      <th>3</th>\n",
       "      <td>-73.987130</td>\n",
       "      <td>40.733143</td>\n",
       "      <td>-73.991567</td>\n",
       "      <td>40.758092</td>\n",
       "      <td>1</td>\n",
       "      <td>7.7</td>\n",
       "      <td>4</td>\n",
       "      <td>21</td>\n",
       "      <td>4</td>\n",
       "      <td>5</td>\n",
       "    </tr>\n",
       "    <tr>\n",
       "      <th>4</th>\n",
       "      <td>-73.968095</td>\n",
       "      <td>40.768008</td>\n",
       "      <td>-73.956655</td>\n",
       "      <td>40.783762</td>\n",
       "      <td>1</td>\n",
       "      <td>5.3</td>\n",
       "      <td>7</td>\n",
       "      <td>9</td>\n",
       "      <td>3</td>\n",
       "      <td>1</td>\n",
       "    </tr>\n",
       "  </tbody>\n",
       "</table>\n",
       "</div>"
      ],
      "text/plain": [
       "   longitude_of_pickup  latitude_of_pickup  longitude_of_dropoff  \\\n",
       "0           -73.844311           40.721319            -73.841610   \n",
       "1           -74.016048           40.711303            -73.979268   \n",
       "2           -73.982738           40.761270            -73.991242   \n",
       "3           -73.987130           40.733143            -73.991567   \n",
       "4           -73.968095           40.768008            -73.956655   \n",
       "\n",
       "   latitude_of_dropoff  no_of_passenger  amount  hour  dayOfTheMonth  month  \\\n",
       "0            40.712278                1     4.5    17             15      6   \n",
       "1            40.782004                1    16.9    16              5      1   \n",
       "2            40.750562                2     5.7     0             18      8   \n",
       "3            40.758092                1     7.7     4             21      4   \n",
       "4            40.783762                1     5.3     7              9      3   \n",
       "\n",
       "   dayOfTheWeek  \n",
       "0             0  \n",
       "1             1  \n",
       "2             3  \n",
       "3             5  \n",
       "4             1  "
      ]
     },
     "execution_count": 13,
     "metadata": {},
     "output_type": "execute_result"
    }
   ],
   "source": [
    "#spliting the hour, day, month, weeks\n",
    "new_df = df.assign(hour = df[\"date_time_of_pickup\"].dt.hour, \n",
    "                  dayOfTheMonth = df[\"date_time_of_pickup\"].dt.day,\n",
    "                  month = df[\"date_time_of_pickup\"].dt.month, \n",
    "                  dayOfTheWeek = df[\"date_time_of_pickup\"].dt.dayofweek)\n",
    "\n",
    "# Remove date_time_of_pickup\n",
    "new_df.drop(\"date_time_of_pickup\", axis = 1, inplace = True)\n",
    "\n",
    "new_df.head()"
   ]
  },
  {
   "cell_type": "code",
   "execution_count": 14,
   "metadata": {
    "colab": {
     "base_uri": "https://localhost:8080/"
    },
    "executionInfo": {
     "elapsed": 487,
     "status": "ok",
     "timestamp": 1650438662458,
     "user": {
      "displayName": "Abhishek Dodiya",
      "userId": "05457856945198063411"
     },
     "user_tz": -330
    },
    "id": "Lk9Pum-257gE",
    "outputId": "9a3420fa-4751-470a-b54b-f3b1d1359c8b"
   },
   "outputs": [
    {
     "data": {
      "text/plain": [
       "(50000, 10)"
      ]
     },
     "execution_count": 14,
     "metadata": {},
     "output_type": "execute_result"
    }
   ],
   "source": [
    "new_df.shape"
   ]
  },
  {
   "cell_type": "markdown",
   "metadata": {
    "id": "Rqx4qi0057gF"
   },
   "source": [
    "**Step-6:**  Find traveling distance based on given coordinates using \"Haversine\" distance formula."
   ]
  },
  {
   "cell_type": "code",
   "execution_count": 15,
   "metadata": {
    "colab": {
     "base_uri": "https://localhost:8080/",
     "height": 270
    },
    "executionInfo": {
     "elapsed": 1036,
     "status": "ok",
     "timestamp": 1650438691723,
     "user": {
      "displayName": "Abhishek Dodiya",
      "userId": "05457856945198063411"
     },
     "user_tz": -330
    },
    "id": "6BbVA-PS57gF",
    "outputId": "4f558803-0850-480e-d20a-5369c5ff5c88"
   },
   "outputs": [
    {
     "data": {
      "text/html": [
       "<div>\n",
       "<style scoped>\n",
       "    .dataframe tbody tr th:only-of-type {\n",
       "        vertical-align: middle;\n",
       "    }\n",
       "\n",
       "    .dataframe tbody tr th {\n",
       "        vertical-align: top;\n",
       "    }\n",
       "\n",
       "    .dataframe thead th {\n",
       "        text-align: right;\n",
       "    }\n",
       "</style>\n",
       "<table border=\"1\" class=\"dataframe\">\n",
       "  <thead>\n",
       "    <tr style=\"text-align: right;\">\n",
       "      <th></th>\n",
       "      <th>longitude_of_pickup</th>\n",
       "      <th>latitude_of_pickup</th>\n",
       "      <th>longitude_of_dropoff</th>\n",
       "      <th>latitude_of_dropoff</th>\n",
       "      <th>no_of_passenger</th>\n",
       "      <th>amount</th>\n",
       "      <th>hour</th>\n",
       "      <th>dayOfTheMonth</th>\n",
       "      <th>month</th>\n",
       "      <th>dayOfTheWeek</th>\n",
       "      <th>distance</th>\n",
       "    </tr>\n",
       "  </thead>\n",
       "  <tbody>\n",
       "    <tr>\n",
       "      <th>0</th>\n",
       "      <td>-73.844311</td>\n",
       "      <td>40.721319</td>\n",
       "      <td>-73.841610</td>\n",
       "      <td>40.712278</td>\n",
       "      <td>1</td>\n",
       "      <td>4.5</td>\n",
       "      <td>17</td>\n",
       "      <td>15</td>\n",
       "      <td>6</td>\n",
       "      <td>0</td>\n",
       "      <td>1.030117</td>\n",
       "    </tr>\n",
       "    <tr>\n",
       "      <th>1</th>\n",
       "      <td>-74.016048</td>\n",
       "      <td>40.711303</td>\n",
       "      <td>-73.979268</td>\n",
       "      <td>40.782004</td>\n",
       "      <td>1</td>\n",
       "      <td>16.9</td>\n",
       "      <td>16</td>\n",
       "      <td>5</td>\n",
       "      <td>1</td>\n",
       "      <td>1</td>\n",
       "      <td>8.444828</td>\n",
       "    </tr>\n",
       "    <tr>\n",
       "      <th>2</th>\n",
       "      <td>-73.982738</td>\n",
       "      <td>40.761270</td>\n",
       "      <td>-73.991242</td>\n",
       "      <td>40.750562</td>\n",
       "      <td>2</td>\n",
       "      <td>5.7</td>\n",
       "      <td>0</td>\n",
       "      <td>18</td>\n",
       "      <td>8</td>\n",
       "      <td>3</td>\n",
       "      <td>1.388653</td>\n",
       "    </tr>\n",
       "    <tr>\n",
       "      <th>3</th>\n",
       "      <td>-73.987130</td>\n",
       "      <td>40.733143</td>\n",
       "      <td>-73.991567</td>\n",
       "      <td>40.758092</td>\n",
       "      <td>1</td>\n",
       "      <td>7.7</td>\n",
       "      <td>4</td>\n",
       "      <td>21</td>\n",
       "      <td>4</td>\n",
       "      <td>5</td>\n",
       "      <td>2.797513</td>\n",
       "    </tr>\n",
       "    <tr>\n",
       "      <th>4</th>\n",
       "      <td>-73.968095</td>\n",
       "      <td>40.768008</td>\n",
       "      <td>-73.956655</td>\n",
       "      <td>40.783762</td>\n",
       "      <td>1</td>\n",
       "      <td>5.3</td>\n",
       "      <td>7</td>\n",
       "      <td>9</td>\n",
       "      <td>3</td>\n",
       "      <td>1</td>\n",
       "      <td>1.997902</td>\n",
       "    </tr>\n",
       "  </tbody>\n",
       "</table>\n",
       "</div>"
      ],
      "text/plain": [
       "   longitude_of_pickup  latitude_of_pickup  longitude_of_dropoff  \\\n",
       "0           -73.844311           40.721319            -73.841610   \n",
       "1           -74.016048           40.711303            -73.979268   \n",
       "2           -73.982738           40.761270            -73.991242   \n",
       "3           -73.987130           40.733143            -73.991567   \n",
       "4           -73.968095           40.768008            -73.956655   \n",
       "\n",
       "   latitude_of_dropoff  no_of_passenger  amount  hour  dayOfTheMonth  month  \\\n",
       "0            40.712278                1     4.5    17             15      6   \n",
       "1            40.782004                1    16.9    16              5      1   \n",
       "2            40.750562                2     5.7     0             18      8   \n",
       "3            40.758092                1     7.7     4             21      4   \n",
       "4            40.783762                1     5.3     7              9      3   \n",
       "\n",
       "   dayOfTheWeek  distance  \n",
       "0             0  1.030117  \n",
       "1             1  8.444828  \n",
       "2             3  1.388653  \n",
       "3             5  2.797513  \n",
       "4             1  1.997902  "
      ]
     },
     "execution_count": 15,
     "metadata": {},
     "output_type": "execute_result"
    }
   ],
   "source": [
    "def haversine_np(lon1, lat1, lon2, lat2):\n",
    "    \"\"\"\n",
    "    Calculate the great circle distance between two points\n",
    "    on the earth (specified in decimal degrees)\n",
    "\n",
    "    All args must be of equal length.    \n",
    "\n",
    "    \"\"\"\n",
    "    lon1, lat1, lon2, lat2 = map(np.radians, [lon1, lat1, lon2, lat2])\n",
    "\n",
    "    dlon = lon2 - lon1\n",
    "    dlat = lat2 - lat1\n",
    "\n",
    "    a = np.sin(dlat/2.0)**2 + np.cos(lat1) * np.cos(lat2) * np.sin(dlon/2.0)**2\n",
    "\n",
    "    c = 2 * np.arcsin(np.sqrt(a))\n",
    "    km = 6367 * c # 6367 is radius of earth in kilometers.\n",
    "    return km\n",
    "\n",
    "new_df[\"distance\"] = haversine_np(new_df[\"longitude_of_pickup\"], new_df[\"latitude_of_pickup\"],\n",
    "                                   new_df[\"longitude_of_dropoff\"], new_df[\"latitude_of_dropoff\"])\n",
    "\n",
    "new_df.head()"
   ]
  },
  {
   "cell_type": "markdown",
   "metadata": {
    "id": "OwXI1mTP57gG"
   },
   "source": [
    "Eliminate some anamolous/outlier data based on certain \"Domain\" logic\n",
    "\n",
    "A. Amount < 2.5 as the minimum fare is $2.5\n",
    "\n",
    "B. Trips with travel distance less than or equal to 1, and more than 130Kms. Lets say this was a condition range(just a hypothesis but not necessary to do it)."
   ]
  },
  {
   "cell_type": "code",
   "execution_count": 16,
   "metadata": {
    "colab": {
     "base_uri": "https://localhost:8080/",
     "height": 394
    },
    "executionInfo": {
     "elapsed": 455,
     "status": "ok",
     "timestamp": 1650438832952,
     "user": {
      "displayName": "Abhishek Dodiya",
      "userId": "05457856945198063411"
     },
     "user_tz": -330
    },
    "id": "uttkgryK57gH",
    "outputId": "020d4823-9bee-4e7e-9842-5840e803a930",
    "scrolled": false
   },
   "outputs": [
    {
     "data": {
      "text/html": [
       "<div>\n",
       "<style scoped>\n",
       "    .dataframe tbody tr th:only-of-type {\n",
       "        vertical-align: middle;\n",
       "    }\n",
       "\n",
       "    .dataframe tbody tr th {\n",
       "        vertical-align: top;\n",
       "    }\n",
       "\n",
       "    .dataframe thead th {\n",
       "        text-align: right;\n",
       "    }\n",
       "</style>\n",
       "<table border=\"1\" class=\"dataframe\">\n",
       "  <thead>\n",
       "    <tr style=\"text-align: right;\">\n",
       "      <th></th>\n",
       "      <th>count</th>\n",
       "      <th>mean</th>\n",
       "      <th>std</th>\n",
       "      <th>min</th>\n",
       "      <th>25%</th>\n",
       "      <th>50%</th>\n",
       "      <th>75%</th>\n",
       "      <th>max</th>\n",
       "    </tr>\n",
       "  </thead>\n",
       "  <tbody>\n",
       "    <tr>\n",
       "      <th>longitude_of_pickup</th>\n",
       "      <td>50000.0</td>\n",
       "      <td>-72.509756</td>\n",
       "      <td>10.393860</td>\n",
       "      <td>-75.423848</td>\n",
       "      <td>-73.992062</td>\n",
       "      <td>-73.981840</td>\n",
       "      <td>-73.967148</td>\n",
       "      <td>40.783472</td>\n",
       "    </tr>\n",
       "    <tr>\n",
       "      <th>latitude_of_pickup</th>\n",
       "      <td>50000.0</td>\n",
       "      <td>39.933759</td>\n",
       "      <td>6.224857</td>\n",
       "      <td>-74.006893</td>\n",
       "      <td>40.734880</td>\n",
       "      <td>40.752678</td>\n",
       "      <td>40.767360</td>\n",
       "      <td>401.083332</td>\n",
       "    </tr>\n",
       "    <tr>\n",
       "      <th>longitude_of_dropoff</th>\n",
       "      <td>50000.0</td>\n",
       "      <td>-72.504616</td>\n",
       "      <td>10.407570</td>\n",
       "      <td>-84.654241</td>\n",
       "      <td>-73.991152</td>\n",
       "      <td>-73.980082</td>\n",
       "      <td>-73.963584</td>\n",
       "      <td>40.851027</td>\n",
       "    </tr>\n",
       "    <tr>\n",
       "      <th>latitude_of_dropoff</th>\n",
       "      <td>50000.0</td>\n",
       "      <td>39.926251</td>\n",
       "      <td>6.014737</td>\n",
       "      <td>-74.006377</td>\n",
       "      <td>40.734372</td>\n",
       "      <td>40.753372</td>\n",
       "      <td>40.768167</td>\n",
       "      <td>43.415190</td>\n",
       "    </tr>\n",
       "    <tr>\n",
       "      <th>no_of_passenger</th>\n",
       "      <td>50000.0</td>\n",
       "      <td>1.667840</td>\n",
       "      <td>1.289195</td>\n",
       "      <td>0.000000</td>\n",
       "      <td>1.000000</td>\n",
       "      <td>1.000000</td>\n",
       "      <td>2.000000</td>\n",
       "      <td>6.000000</td>\n",
       "    </tr>\n",
       "    <tr>\n",
       "      <th>amount</th>\n",
       "      <td>50000.0</td>\n",
       "      <td>11.364171</td>\n",
       "      <td>9.685557</td>\n",
       "      <td>-5.000000</td>\n",
       "      <td>6.000000</td>\n",
       "      <td>8.500000</td>\n",
       "      <td>12.500000</td>\n",
       "      <td>200.000000</td>\n",
       "    </tr>\n",
       "    <tr>\n",
       "      <th>hour</th>\n",
       "      <td>50000.0</td>\n",
       "      <td>13.489080</td>\n",
       "      <td>6.506935</td>\n",
       "      <td>0.000000</td>\n",
       "      <td>9.000000</td>\n",
       "      <td>14.000000</td>\n",
       "      <td>19.000000</td>\n",
       "      <td>23.000000</td>\n",
       "    </tr>\n",
       "    <tr>\n",
       "      <th>dayOfTheMonth</th>\n",
       "      <td>50000.0</td>\n",
       "      <td>15.672040</td>\n",
       "      <td>8.660789</td>\n",
       "      <td>1.000000</td>\n",
       "      <td>8.000000</td>\n",
       "      <td>16.000000</td>\n",
       "      <td>23.000000</td>\n",
       "      <td>31.000000</td>\n",
       "    </tr>\n",
       "    <tr>\n",
       "      <th>month</th>\n",
       "      <td>50000.0</td>\n",
       "      <td>6.273300</td>\n",
       "      <td>3.461157</td>\n",
       "      <td>1.000000</td>\n",
       "      <td>3.000000</td>\n",
       "      <td>6.000000</td>\n",
       "      <td>9.000000</td>\n",
       "      <td>12.000000</td>\n",
       "    </tr>\n",
       "    <tr>\n",
       "      <th>dayOfTheWeek</th>\n",
       "      <td>50000.0</td>\n",
       "      <td>3.029980</td>\n",
       "      <td>1.956936</td>\n",
       "      <td>0.000000</td>\n",
       "      <td>1.000000</td>\n",
       "      <td>3.000000</td>\n",
       "      <td>5.000000</td>\n",
       "      <td>6.000000</td>\n",
       "    </tr>\n",
       "    <tr>\n",
       "      <th>distance</th>\n",
       "      <td>50000.0</td>\n",
       "      <td>18.497326</td>\n",
       "      <td>355.341070</td>\n",
       "      <td>0.000000</td>\n",
       "      <td>1.222378</td>\n",
       "      <td>2.118783</td>\n",
       "      <td>3.893124</td>\n",
       "      <td>8662.376766</td>\n",
       "    </tr>\n",
       "  </tbody>\n",
       "</table>\n",
       "</div>"
      ],
      "text/plain": [
       "                        count       mean         std        min        25%  \\\n",
       "longitude_of_pickup   50000.0 -72.509756   10.393860 -75.423848 -73.992062   \n",
       "latitude_of_pickup    50000.0  39.933759    6.224857 -74.006893  40.734880   \n",
       "longitude_of_dropoff  50000.0 -72.504616   10.407570 -84.654241 -73.991152   \n",
       "latitude_of_dropoff   50000.0  39.926251    6.014737 -74.006377  40.734372   \n",
       "no_of_passenger       50000.0   1.667840    1.289195   0.000000   1.000000   \n",
       "amount                50000.0  11.364171    9.685557  -5.000000   6.000000   \n",
       "hour                  50000.0  13.489080    6.506935   0.000000   9.000000   \n",
       "dayOfTheMonth         50000.0  15.672040    8.660789   1.000000   8.000000   \n",
       "month                 50000.0   6.273300    3.461157   1.000000   3.000000   \n",
       "dayOfTheWeek          50000.0   3.029980    1.956936   0.000000   1.000000   \n",
       "distance              50000.0  18.497326  355.341070   0.000000   1.222378   \n",
       "\n",
       "                            50%        75%          max  \n",
       "longitude_of_pickup  -73.981840 -73.967148    40.783472  \n",
       "latitude_of_pickup    40.752678  40.767360   401.083332  \n",
       "longitude_of_dropoff -73.980082 -73.963584    40.851027  \n",
       "latitude_of_dropoff   40.753372  40.768167    43.415190  \n",
       "no_of_passenger        1.000000   2.000000     6.000000  \n",
       "amount                 8.500000  12.500000   200.000000  \n",
       "hour                  14.000000  19.000000    23.000000  \n",
       "dayOfTheMonth         16.000000  23.000000    31.000000  \n",
       "month                  6.000000   9.000000    12.000000  \n",
       "dayOfTheWeek           3.000000   5.000000     6.000000  \n",
       "distance               2.118783   3.893124  8662.376766  "
      ]
     },
     "execution_count": 16,
     "metadata": {},
     "output_type": "execute_result"
    }
   ],
   "source": [
    "# Lets do a simple check of what range is currently present in the various variables\n",
    "new_df.describe().transpose()"
   ]
  },
  {
   "cell_type": "code",
   "execution_count": 18,
   "metadata": {
    "colab": {
     "base_uri": "https://localhost:8080/"
    },
    "executionInfo": {
     "elapsed": 471,
     "status": "ok",
     "timestamp": 1650438836740,
     "user": {
      "displayName": "Abhishek Dodiya",
      "userId": "05457856945198063411"
     },
     "user_tz": -330
    },
    "id": "CRAjsISM57gH",
    "outputId": "372e2b3b-88f3-434d-f559-54b3ab9e66d7"
   },
   "outputs": [
    {
     "name": "stdout",
     "output_type": "stream",
     "text": [
      "count    40926.000000\n",
      "mean        12.394747\n",
      "std          9.652751\n",
      "min          0.000000\n",
      "25%          6.900000\n",
      "50%          9.300000\n",
      "75%         13.700000\n",
      "max        165.000000\n",
      "Name: amount, dtype: float64\n",
      "count    40926.000000\n",
      "mean        12.394747\n",
      "std          9.652751\n",
      "min          0.000000\n",
      "25%          6.900000\n",
      "50%          9.300000\n",
      "75%         13.700000\n",
      "max        165.000000\n",
      "Name: amount, dtype: float64\n"
     ]
    }
   ],
   "source": [
    "# A. Amount < 2.5 as the minimum fare is $2.5\n",
    "\n",
    "print(new_df[\"amount\"].describe())\n",
    "fullRaw = new_df[new_df[\"amount\"] >= 2.5]\n",
    "print(new_df[\"amount\"].describe())"
   ]
  },
  {
   "cell_type": "code",
   "execution_count": 17,
   "metadata": {
    "colab": {
     "base_uri": "https://localhost:8080/"
    },
    "executionInfo": {
     "elapsed": 643,
     "status": "ok",
     "timestamp": 1650438842695,
     "user": {
      "displayName": "Abhishek Dodiya",
      "userId": "05457856945198063411"
     },
     "user_tz": -330
    },
    "id": "cLIAvWm157gI",
    "outputId": "cce0b979-4fa2-4a4d-e077-322d7aa9043e"
   },
   "outputs": [
    {
     "name": "stdout",
     "output_type": "stream",
     "text": [
      "count    50000.000000\n",
      "mean        18.497326\n",
      "std        355.341070\n",
      "min          0.000000\n",
      "25%          1.222378\n",
      "50%          2.118783\n",
      "75%          3.893124\n",
      "max       8662.376766\n",
      "Name: distance, dtype: float64\n",
      "count    40926.000000\n",
      "mean         3.919168\n",
      "std          4.491177\n",
      "min          1.000150\n",
      "25%          1.662453\n",
      "50%          2.576932\n",
      "75%          4.490593\n",
      "max        129.868894\n",
      "Name: distance, dtype: float64\n"
     ]
    }
   ],
   "source": [
    "# B. Trips with travel distance greater than or equal to 1, and less than 130Kms.\n",
    "\n",
    "print(new_df[\"distance\"].describe())\n",
    "new_df = new_df[(new_df[\"distance\"] >= 1) & (new_df[\"distance\"] <= 130)]\n",
    "print(new_df[\"distance\"].describe())"
   ]
  },
  {
   "cell_type": "code",
   "execution_count": 19,
   "metadata": {
    "colab": {
     "base_uri": "https://localhost:8080/"
    },
    "executionInfo": {
     "elapsed": 716,
     "status": "ok",
     "timestamp": 1650438852393,
     "user": {
      "displayName": "Abhishek Dodiya",
      "userId": "05457856945198063411"
     },
     "user_tz": -330
    },
    "id": "xOBTgfXy57gJ",
    "outputId": "99ad0ebe-8d10-4156-8587-4cfa692e8214"
   },
   "outputs": [
    {
     "data": {
      "text/plain": [
       "(40926, 11)"
      ]
     },
     "execution_count": 19,
     "metadata": {},
     "output_type": "execute_result"
    }
   ],
   "source": [
    "new_df.shape"
   ]
  },
  {
   "cell_type": "markdown",
   "metadata": {
    "id": "3g79FwdD57gJ"
   },
   "source": [
    "**Step-7:** Extract independent variables (Xs) and dependent variables (Ys) into separate data objects"
   ]
  },
  {
   "cell_type": "code",
   "execution_count": 20,
   "metadata": {
    "colab": {
     "base_uri": "https://localhost:8080/"
    },
    "executionInfo": {
     "elapsed": 475,
     "status": "ok",
     "timestamp": 1650438863696,
     "user": {
      "displayName": "Abhishek Dodiya",
      "userId": "05457856945198063411"
     },
     "user_tz": -330
    },
    "id": "pYV2PDcj57gJ",
    "outputId": "173690e2-68eb-480c-db2a-a0ef81202cb2"
   },
   "outputs": [
    {
     "name": "stdout",
     "output_type": "stream",
     "text": [
      "(32740, 10)\n",
      "(8186, 10)\n",
      "(32740,)\n",
      "(8186,)\n"
     ]
    }
   ],
   "source": [
    "\n",
    "\n",
    "x = new_df.drop([\"amount\"], axis = 1).copy()\n",
    "y = new_df[\"amount\"].copy()\n",
    "\n",
    "\n",
    "x_train,x_test,y_train,y_test = train_test_split(x,y,test_size = 0.20,random_state=100) \n",
    "\n",
    "\n",
    "print(x_train.shape)\n",
    "print(x_test.shape)\n",
    "print(y_train.shape)\n",
    "print(y_test.shape)"
   ]
  },
  {
   "cell_type": "markdown",
   "metadata": {
    "id": "fLTQYfNI57gK"
   },
   "source": [
    "**Step-8:** Model building"
   ]
  },
  {
   "cell_type": "code",
   "execution_count": 21,
   "metadata": {
    "executionInfo": {
     "elapsed": 2,
     "status": "ok",
     "timestamp": 1650438868933,
     "user": {
      "displayName": "Abhishek Dodiya",
      "userId": "05457856945198063411"
     },
     "user_tz": -330
    },
    "id": "sKMEYZ-657gK"
   },
   "outputs": [],
   "source": [
    "\n",
    "from sklearn.ensemble import RandomForestRegressor"
   ]
  },
  {
   "cell_type": "code",
   "execution_count": 22,
   "metadata": {
    "executionInfo": {
     "elapsed": 29857,
     "status": "ok",
     "timestamp": 1650438941286,
     "user": {
      "displayName": "Abhishek Dodiya",
      "userId": "05457856945198063411"
     },
     "user_tz": -330
    },
    "id": "eQWJNmxh57gK"
   },
   "outputs": [],
   "source": [
    "M1 = RandomForestRegressor(random_state=123)\n",
    "M1 = M1.fit(x_train,y_train) # Indep, Dep variable"
   ]
  },
  {
   "cell_type": "markdown",
   "metadata": {
    "id": "FM8BAbkA57gL"
   },
   "source": [
    "**Step-9:** Feature importance "
   ]
  },
  {
   "cell_type": "code",
   "execution_count": 23,
   "metadata": {
    "colab": {
     "base_uri": "https://localhost:8080/",
     "height": 206
    },
    "executionInfo": {
     "elapsed": 5,
     "status": "ok",
     "timestamp": 1650438941287,
     "user": {
      "displayName": "Abhishek Dodiya",
      "userId": "05457856945198063411"
     },
     "user_tz": -330
    },
    "id": "Aok2j4Ke57gL",
    "outputId": "9f46b07e-0b3a-49b1-8286-6d5d79770615"
   },
   "outputs": [
    {
     "data": {
      "text/html": [
       "<div>\n",
       "<style scoped>\n",
       "    .dataframe tbody tr th:only-of-type {\n",
       "        vertical-align: middle;\n",
       "    }\n",
       "\n",
       "    .dataframe tbody tr th {\n",
       "        vertical-align: top;\n",
       "    }\n",
       "\n",
       "    .dataframe thead th {\n",
       "        text-align: right;\n",
       "    }\n",
       "</style>\n",
       "<table border=\"1\" class=\"dataframe\">\n",
       "  <thead>\n",
       "    <tr style=\"text-align: right;\">\n",
       "      <th></th>\n",
       "      <th>Importance</th>\n",
       "      <th>Variable</th>\n",
       "    </tr>\n",
       "  </thead>\n",
       "  <tbody>\n",
       "    <tr>\n",
       "      <th>9</th>\n",
       "      <td>0.833108</td>\n",
       "      <td>distance</td>\n",
       "    </tr>\n",
       "    <tr>\n",
       "      <th>2</th>\n",
       "      <td>0.046062</td>\n",
       "      <td>longitude_of_dropoff</td>\n",
       "    </tr>\n",
       "    <tr>\n",
       "      <th>3</th>\n",
       "      <td>0.033203</td>\n",
       "      <td>latitude_of_dropoff</td>\n",
       "    </tr>\n",
       "    <tr>\n",
       "      <th>0</th>\n",
       "      <td>0.026619</td>\n",
       "      <td>longitude_of_pickup</td>\n",
       "    </tr>\n",
       "    <tr>\n",
       "      <th>1</th>\n",
       "      <td>0.019757</td>\n",
       "      <td>latitude_of_pickup</td>\n",
       "    </tr>\n",
       "  </tbody>\n",
       "</table>\n",
       "</div>"
      ],
      "text/plain": [
       "   Importance              Variable\n",
       "9    0.833108              distance\n",
       "2    0.046062  longitude_of_dropoff\n",
       "3    0.033203   latitude_of_dropoff\n",
       "0    0.026619   longitude_of_pickup\n",
       "1    0.019757    latitude_of_pickup"
      ]
     },
     "execution_count": 23,
     "metadata": {},
     "output_type": "execute_result"
    }
   ],
   "source": [
    "varImpDf = pd.DataFrame()\n",
    "varImpDf[\"Importance\"] = M1.feature_importances_\n",
    "varImpDf[\"Variable\"] = x_train.columns\n",
    "varImpDf.sort_values(\"Importance\", ascending = False, inplace = True)\n",
    "\n",
    "varImpDf.head()"
   ]
  },
  {
   "cell_type": "markdown",
   "metadata": {
    "id": "vM-4MUDQ57gL"
   },
   "source": [
    "**Step-10:** Prediction on test data"
   ]
  },
  {
   "cell_type": "code",
   "execution_count": 24,
   "metadata": {
    "colab": {
     "base_uri": "https://localhost:8080/",
     "height": 206
    },
    "executionInfo": {
     "elapsed": 977,
     "status": "ok",
     "timestamp": 1650438944614,
     "user": {
      "displayName": "Abhishek Dodiya",
      "userId": "05457856945198063411"
     },
     "user_tz": -330
    },
    "id": "oDKz7Prx57gL",
    "outputId": "1002fd26-7926-44b6-8767-64cc9763b437"
   },
   "outputs": [
    {
     "data": {
      "text/html": [
       "<div>\n",
       "<style scoped>\n",
       "    .dataframe tbody tr th:only-of-type {\n",
       "        vertical-align: middle;\n",
       "    }\n",
       "\n",
       "    .dataframe tbody tr th {\n",
       "        vertical-align: top;\n",
       "    }\n",
       "\n",
       "    .dataframe thead th {\n",
       "        text-align: right;\n",
       "    }\n",
       "</style>\n",
       "<table border=\"1\" class=\"dataframe\">\n",
       "  <thead>\n",
       "    <tr style=\"text-align: right;\">\n",
       "      <th></th>\n",
       "      <th>Prediction</th>\n",
       "      <th>Actual</th>\n",
       "    </tr>\n",
       "  </thead>\n",
       "  <tbody>\n",
       "    <tr>\n",
       "      <th>0</th>\n",
       "      <td>13.2817</td>\n",
       "      <td>15.5</td>\n",
       "    </tr>\n",
       "    <tr>\n",
       "      <th>1</th>\n",
       "      <td>9.1810</td>\n",
       "      <td>10.0</td>\n",
       "    </tr>\n",
       "    <tr>\n",
       "      <th>2</th>\n",
       "      <td>8.3820</td>\n",
       "      <td>8.0</td>\n",
       "    </tr>\n",
       "    <tr>\n",
       "      <th>3</th>\n",
       "      <td>6.1400</td>\n",
       "      <td>5.0</td>\n",
       "    </tr>\n",
       "    <tr>\n",
       "      <th>4</th>\n",
       "      <td>15.7530</td>\n",
       "      <td>21.0</td>\n",
       "    </tr>\n",
       "  </tbody>\n",
       "</table>\n",
       "</div>"
      ],
      "text/plain": [
       "   Prediction  Actual\n",
       "0     13.2817    15.5\n",
       "1      9.1810    10.0\n",
       "2      8.3820     8.0\n",
       "3      6.1400     5.0\n",
       "4     15.7530    21.0"
      ]
     },
     "execution_count": 24,
     "metadata": {},
     "output_type": "execute_result"
    }
   ],
   "source": [
    "# Model Prediction on Testset\n",
    "\n",
    "testPredDf = pd.DataFrame()\n",
    "\n",
    "testPredDf[\"Prediction\"] = M1.predict(x_test)\n",
    "\n",
    "# Create a column to store actuals\n",
    "testPredDf[\"Actual\"] = y_test.values\n",
    "\n",
    "# Validate if the above worked\n",
    "testPredDf.head()"
   ]
  },
  {
   "cell_type": "markdown",
   "metadata": {
    "id": "w4LACkcv57gM"
   },
   "source": [
    "**Step-11:** evaluate score based on RMSE and MAPE"
   ]
  },
  {
   "cell_type": "code",
   "execution_count": 25,
   "metadata": {
    "colab": {
     "base_uri": "https://localhost:8080/"
    },
    "executionInfo": {
     "elapsed": 452,
     "status": "ok",
     "timestamp": 1650439033751,
     "user": {
      "displayName": "Abhishek Dodiya",
      "userId": "05457856945198063411"
     },
     "user_tz": -330
    },
    "id": "oKq9pMoZ57gM",
    "outputId": "e0b7f776-53aa-4c39-cce6-d0629d3ffc08"
   },
   "outputs": [
    {
     "name": "stdout",
     "output_type": "stream",
     "text": [
      "RMSE 4.249447879749447\n",
      "MAPE 18.924176905704467\n"
     ]
    }
   ],
   "source": [
    "# RMSE\n",
    "print(\"RMSE\",np.sqrt(np.mean((testPredDf[\"Actual\"] - testPredDf[\"Prediction\"])**2)))\n",
    "# This means on an \"average\", the taxi fare prediction would have +/- error of about $4.24\n",
    "# Lower the RMSE, better the model prediction\n",
    "\n",
    "# MAPE\n",
    "print(\"MAPE\",(np.mean(np.abs(((testPredDf[\"Actual\"] - testPredDf[\"Prediction\"])/testPredDf[\"Actual\"]))))*100)\n",
    "# This means on an \"average\", the taxi fare prediction would have +/- error of ~18%\n",
    "# Lower the MAPE, better the model prediction"
   ]
  },
  {
   "cell_type": "code",
   "execution_count": 24,
   "metadata": {
    "executionInfo": {
     "elapsed": 610,
     "status": "ok",
     "timestamp": 1650439039227,
     "user": {
      "displayName": "Abhishek Dodiya",
      "userId": "05457856945198063411"
     },
     "user_tz": -330
    },
    "id": "6WLMokKQ57gM"
   },
   "outputs": [],
   "source": []
  },
  {
   "cell_type": "markdown",
   "metadata": {
    "id": "CYgj46AC57gM"
   },
   "source": [
    "**Q2. Problem Statement: Performance Measurements**<br>\n",
    "Write a Python program that reads the h1n1_vaccine_prediction.csv (provided on LMS) file into a DataFrame and build a good random forest model by performing the following tasks:\n",
    "1.\tLoad the h1n1_vaccine_prediction.csv dataset into a DataFrame\n",
    "2.\tDo value count for the dependent variable, and check data is imbalanced or not.\n",
    "3.\tDrop columns that have more than 50% missing data. And then drop all null values\n",
    "4.\tPrint a Bar plot for the dependent variable for all categories\n",
    "5.\tDo label encoding for all categorical features\n",
    "6.\tExtract independent variables (Xs) and dependent variables (Ys) into separate data objects\n",
    "7.\tBuild a random forest model evaluate on test data.\n",
    "8.\tDo oversample and then build another random forest model for test data and compare their accuracy.\n",
    "\n"
   ]
  },
  {
   "cell_type": "markdown",
   "metadata": {
    "id": "0FUgcVuB57gN"
   },
   "source": [
    "**Step-1:** Importing Libraries."
   ]
  },
  {
   "cell_type": "code",
   "execution_count": 27,
   "metadata": {
    "executionInfo": {
     "elapsed": 1022,
     "status": "ok",
     "timestamp": 1650439271772,
     "user": {
      "displayName": "Abhishek Dodiya",
      "userId": "05457856945198063411"
     },
     "user_tz": -330
    },
    "id": "57qMq3IZWRSi"
   },
   "outputs": [],
   "source": [
    "import numpy as np\n",
    "import pandas as pd\n",
    "import matplotlib.pyplot as plt\n",
    "from sklearn.model_selection import train_test_split \n",
    "from sklearn.preprocessing import StandardScaler\n",
    "from sklearn.preprocessing  import LabelEncoder\n",
    "from sklearn.ensemble import RandomForestClassifier\n",
    "from sklearn.metrics import confusion_matrix\n",
    "from sklearn import metrics\n",
    "from imblearn.over_sampling import SMOTE\n",
    "from matplotlib.colors import ListedColormap\n",
    "from sklearn import metrics\n",
    "import seaborn as sns"
   ]
  },
  {
   "cell_type": "markdown",
   "metadata": {
    "id": "HDSIcIb057gN"
   },
   "source": [
    "**Step-2:**  Load data set into dataframe."
   ]
  },
  {
   "cell_type": "code",
   "execution_count": 28,
   "metadata": {
    "executionInfo": {
     "elapsed": 7,
     "status": "ok",
     "timestamp": 1650439272751,
     "user": {
      "displayName": "Abhishek Dodiya",
      "userId": "05457856945198063411"
     },
     "user_tz": -330
    },
    "id": "0lqNF5TcXyye"
   },
   "outputs": [],
   "source": [
    "df1 = pd.read_csv(\"h1n1_vaccine_prediction.csv\")"
   ]
  },
  {
   "cell_type": "markdown",
   "metadata": {
    "id": "qutWuJSi57gO"
   },
   "source": [
    "**Step-3:**  Data distribution of target variable."
   ]
  },
  {
   "cell_type": "code",
   "execution_count": 29,
   "metadata": {
    "colab": {
     "base_uri": "https://localhost:8080/"
    },
    "executionInfo": {
     "elapsed": 8,
     "status": "ok",
     "timestamp": 1650439272753,
     "user": {
      "displayName": "Abhishek Dodiya",
      "userId": "05457856945198063411"
     },
     "user_tz": -330
    },
    "id": "elbIzHUJYIA5",
    "outputId": "f4ab2857-9585-460a-f9d2-e7fd2462280a"
   },
   "outputs": [
    {
     "data": {
      "text/plain": [
       "0    21033\n",
       "1     5674\n",
       "Name: h1n1_vaccine, dtype: int64"
      ]
     },
     "execution_count": 29,
     "metadata": {},
     "output_type": "execute_result"
    }
   ],
   "source": [
    "df1.h1n1_vaccine.value_counts() #check data is imbalanced or not."
   ]
  },
  {
   "cell_type": "code",
   "execution_count": 30,
   "metadata": {
    "colab": {
     "base_uri": "https://localhost:8080/"
    },
    "executionInfo": {
     "elapsed": 16,
     "status": "ok",
     "timestamp": 1650439273499,
     "user": {
      "displayName": "Abhishek Dodiya",
      "userId": "05457856945198063411"
     },
     "user_tz": -330
    },
    "id": "ZrAg9Bd_YIDL",
    "outputId": "b00d1f0e-da7a-4cc1-c0e3-7fcec2281c5a"
   },
   "outputs": [
    {
     "data": {
      "text/plain": [
       "(26707, 34)"
      ]
     },
     "execution_count": 30,
     "metadata": {},
     "output_type": "execute_result"
    }
   ],
   "source": [
    "df1.shape"
   ]
  },
  {
   "cell_type": "code",
   "execution_count": 31,
   "metadata": {
    "colab": {
     "base_uri": "https://localhost:8080/",
     "height": 783
    },
    "executionInfo": {
     "elapsed": 15,
     "status": "ok",
     "timestamp": 1650439273500,
     "user": {
      "displayName": "Abhishek Dodiya",
      "userId": "05457856945198063411"
     },
     "user_tz": -330
    },
    "id": "0GZA5HZsZ8mh",
    "outputId": "b1dc6003-ccb8-4285-e850-5604aa0fa00a"
   },
   "outputs": [
    {
     "data": {
      "text/html": [
       "<div>\n",
       "<style scoped>\n",
       "    .dataframe tbody tr th:only-of-type {\n",
       "        vertical-align: middle;\n",
       "    }\n",
       "\n",
       "    .dataframe tbody tr th {\n",
       "        vertical-align: top;\n",
       "    }\n",
       "\n",
       "    .dataframe thead th {\n",
       "        text-align: right;\n",
       "    }\n",
       "</style>\n",
       "<table border=\"1\" class=\"dataframe\">\n",
       "  <thead>\n",
       "    <tr style=\"text-align: right;\">\n",
       "      <th></th>\n",
       "      <th>unique_id</th>\n",
       "      <th>h1n1_worry</th>\n",
       "      <th>h1n1_awareness</th>\n",
       "      <th>antiviral_medication</th>\n",
       "      <th>contact_avoidance</th>\n",
       "      <th>bought_face_mask</th>\n",
       "      <th>wash_hands_frequently</th>\n",
       "      <th>avoid_large_gatherings</th>\n",
       "      <th>reduced_outside_home_cont</th>\n",
       "      <th>avoid_touch_face</th>\n",
       "      <th>...</th>\n",
       "      <th>race</th>\n",
       "      <th>sex</th>\n",
       "      <th>income_level</th>\n",
       "      <th>marital_status</th>\n",
       "      <th>housing_status</th>\n",
       "      <th>employment</th>\n",
       "      <th>census_msa</th>\n",
       "      <th>no_of_adults</th>\n",
       "      <th>no_of_children</th>\n",
       "      <th>h1n1_vaccine</th>\n",
       "    </tr>\n",
       "  </thead>\n",
       "  <tbody>\n",
       "    <tr>\n",
       "      <th>0</th>\n",
       "      <td>0</td>\n",
       "      <td>1.0</td>\n",
       "      <td>0.0</td>\n",
       "      <td>0.0</td>\n",
       "      <td>0.0</td>\n",
       "      <td>0.0</td>\n",
       "      <td>0.0</td>\n",
       "      <td>0.0</td>\n",
       "      <td>1.0</td>\n",
       "      <td>1.0</td>\n",
       "      <td>...</td>\n",
       "      <td>White</td>\n",
       "      <td>Female</td>\n",
       "      <td>Below Poverty</td>\n",
       "      <td>Not Married</td>\n",
       "      <td>Own</td>\n",
       "      <td>Not in Labor Force</td>\n",
       "      <td>Non-MSA</td>\n",
       "      <td>0.0</td>\n",
       "      <td>0.0</td>\n",
       "      <td>0</td>\n",
       "    </tr>\n",
       "    <tr>\n",
       "      <th>1</th>\n",
       "      <td>1</td>\n",
       "      <td>3.0</td>\n",
       "      <td>2.0</td>\n",
       "      <td>0.0</td>\n",
       "      <td>1.0</td>\n",
       "      <td>0.0</td>\n",
       "      <td>1.0</td>\n",
       "      <td>0.0</td>\n",
       "      <td>1.0</td>\n",
       "      <td>1.0</td>\n",
       "      <td>...</td>\n",
       "      <td>White</td>\n",
       "      <td>Male</td>\n",
       "      <td>Below Poverty</td>\n",
       "      <td>Not Married</td>\n",
       "      <td>Rent</td>\n",
       "      <td>Employed</td>\n",
       "      <td>MSA, Not Principle  City</td>\n",
       "      <td>0.0</td>\n",
       "      <td>0.0</td>\n",
       "      <td>0</td>\n",
       "    </tr>\n",
       "    <tr>\n",
       "      <th>2</th>\n",
       "      <td>2</td>\n",
       "      <td>1.0</td>\n",
       "      <td>1.0</td>\n",
       "      <td>0.0</td>\n",
       "      <td>1.0</td>\n",
       "      <td>0.0</td>\n",
       "      <td>0.0</td>\n",
       "      <td>0.0</td>\n",
       "      <td>0.0</td>\n",
       "      <td>0.0</td>\n",
       "      <td>...</td>\n",
       "      <td>White</td>\n",
       "      <td>Male</td>\n",
       "      <td>&lt;= $75,000, Above Poverty</td>\n",
       "      <td>Not Married</td>\n",
       "      <td>Own</td>\n",
       "      <td>Employed</td>\n",
       "      <td>MSA, Not Principle  City</td>\n",
       "      <td>2.0</td>\n",
       "      <td>0.0</td>\n",
       "      <td>0</td>\n",
       "    </tr>\n",
       "    <tr>\n",
       "      <th>3</th>\n",
       "      <td>3</td>\n",
       "      <td>1.0</td>\n",
       "      <td>1.0</td>\n",
       "      <td>0.0</td>\n",
       "      <td>1.0</td>\n",
       "      <td>0.0</td>\n",
       "      <td>1.0</td>\n",
       "      <td>1.0</td>\n",
       "      <td>0.0</td>\n",
       "      <td>0.0</td>\n",
       "      <td>...</td>\n",
       "      <td>White</td>\n",
       "      <td>Female</td>\n",
       "      <td>Below Poverty</td>\n",
       "      <td>Not Married</td>\n",
       "      <td>Rent</td>\n",
       "      <td>Not in Labor Force</td>\n",
       "      <td>MSA, Principle City</td>\n",
       "      <td>0.0</td>\n",
       "      <td>0.0</td>\n",
       "      <td>0</td>\n",
       "    </tr>\n",
       "    <tr>\n",
       "      <th>4</th>\n",
       "      <td>4</td>\n",
       "      <td>2.0</td>\n",
       "      <td>1.0</td>\n",
       "      <td>0.0</td>\n",
       "      <td>1.0</td>\n",
       "      <td>0.0</td>\n",
       "      <td>1.0</td>\n",
       "      <td>1.0</td>\n",
       "      <td>0.0</td>\n",
       "      <td>1.0</td>\n",
       "      <td>...</td>\n",
       "      <td>White</td>\n",
       "      <td>Female</td>\n",
       "      <td>&lt;= $75,000, Above Poverty</td>\n",
       "      <td>Married</td>\n",
       "      <td>Own</td>\n",
       "      <td>Employed</td>\n",
       "      <td>MSA, Not Principle  City</td>\n",
       "      <td>1.0</td>\n",
       "      <td>0.0</td>\n",
       "      <td>0</td>\n",
       "    </tr>\n",
       "    <tr>\n",
       "      <th>...</th>\n",
       "      <td>...</td>\n",
       "      <td>...</td>\n",
       "      <td>...</td>\n",
       "      <td>...</td>\n",
       "      <td>...</td>\n",
       "      <td>...</td>\n",
       "      <td>...</td>\n",
       "      <td>...</td>\n",
       "      <td>...</td>\n",
       "      <td>...</td>\n",
       "      <td>...</td>\n",
       "      <td>...</td>\n",
       "      <td>...</td>\n",
       "      <td>...</td>\n",
       "      <td>...</td>\n",
       "      <td>...</td>\n",
       "      <td>...</td>\n",
       "      <td>...</td>\n",
       "      <td>...</td>\n",
       "      <td>...</td>\n",
       "      <td>...</td>\n",
       "    </tr>\n",
       "    <tr>\n",
       "      <th>26702</th>\n",
       "      <td>26702</td>\n",
       "      <td>2.0</td>\n",
       "      <td>0.0</td>\n",
       "      <td>0.0</td>\n",
       "      <td>1.0</td>\n",
       "      <td>0.0</td>\n",
       "      <td>0.0</td>\n",
       "      <td>0.0</td>\n",
       "      <td>1.0</td>\n",
       "      <td>0.0</td>\n",
       "      <td>...</td>\n",
       "      <td>White</td>\n",
       "      <td>Female</td>\n",
       "      <td>&lt;= $75,000, Above Poverty</td>\n",
       "      <td>Not Married</td>\n",
       "      <td>Own</td>\n",
       "      <td>Not in Labor Force</td>\n",
       "      <td>Non-MSA</td>\n",
       "      <td>0.0</td>\n",
       "      <td>0.0</td>\n",
       "      <td>0</td>\n",
       "    </tr>\n",
       "    <tr>\n",
       "      <th>26703</th>\n",
       "      <td>26703</td>\n",
       "      <td>1.0</td>\n",
       "      <td>2.0</td>\n",
       "      <td>0.0</td>\n",
       "      <td>1.0</td>\n",
       "      <td>0.0</td>\n",
       "      <td>1.0</td>\n",
       "      <td>0.0</td>\n",
       "      <td>0.0</td>\n",
       "      <td>0.0</td>\n",
       "      <td>...</td>\n",
       "      <td>White</td>\n",
       "      <td>Male</td>\n",
       "      <td>&lt;= $75,000, Above Poverty</td>\n",
       "      <td>Not Married</td>\n",
       "      <td>Rent</td>\n",
       "      <td>Employed</td>\n",
       "      <td>MSA, Principle City</td>\n",
       "      <td>1.0</td>\n",
       "      <td>0.0</td>\n",
       "      <td>0</td>\n",
       "    </tr>\n",
       "    <tr>\n",
       "      <th>26704</th>\n",
       "      <td>26704</td>\n",
       "      <td>2.0</td>\n",
       "      <td>2.0</td>\n",
       "      <td>0.0</td>\n",
       "      <td>1.0</td>\n",
       "      <td>1.0</td>\n",
       "      <td>1.0</td>\n",
       "      <td>1.0</td>\n",
       "      <td>0.0</td>\n",
       "      <td>1.0</td>\n",
       "      <td>...</td>\n",
       "      <td>White</td>\n",
       "      <td>Female</td>\n",
       "      <td>NaN</td>\n",
       "      <td>Not Married</td>\n",
       "      <td>Own</td>\n",
       "      <td>NaN</td>\n",
       "      <td>MSA, Not Principle  City</td>\n",
       "      <td>0.0</td>\n",
       "      <td>0.0</td>\n",
       "      <td>0</td>\n",
       "    </tr>\n",
       "    <tr>\n",
       "      <th>26705</th>\n",
       "      <td>26705</td>\n",
       "      <td>1.0</td>\n",
       "      <td>1.0</td>\n",
       "      <td>0.0</td>\n",
       "      <td>0.0</td>\n",
       "      <td>0.0</td>\n",
       "      <td>0.0</td>\n",
       "      <td>0.0</td>\n",
       "      <td>0.0</td>\n",
       "      <td>NaN</td>\n",
       "      <td>...</td>\n",
       "      <td>Hispanic</td>\n",
       "      <td>Female</td>\n",
       "      <td>&lt;= $75,000, Above Poverty</td>\n",
       "      <td>Married</td>\n",
       "      <td>Rent</td>\n",
       "      <td>Employed</td>\n",
       "      <td>Non-MSA</td>\n",
       "      <td>1.0</td>\n",
       "      <td>0.0</td>\n",
       "      <td>0</td>\n",
       "    </tr>\n",
       "    <tr>\n",
       "      <th>26706</th>\n",
       "      <td>26706</td>\n",
       "      <td>0.0</td>\n",
       "      <td>0.0</td>\n",
       "      <td>0.0</td>\n",
       "      <td>1.0</td>\n",
       "      <td>0.0</td>\n",
       "      <td>0.0</td>\n",
       "      <td>0.0</td>\n",
       "      <td>0.0</td>\n",
       "      <td>0.0</td>\n",
       "      <td>...</td>\n",
       "      <td>White</td>\n",
       "      <td>Male</td>\n",
       "      <td>&lt;= $75,000, Above Poverty</td>\n",
       "      <td>Married</td>\n",
       "      <td>Own</td>\n",
       "      <td>Not in Labor Force</td>\n",
       "      <td>MSA, Principle City</td>\n",
       "      <td>1.0</td>\n",
       "      <td>0.0</td>\n",
       "      <td>0</td>\n",
       "    </tr>\n",
       "  </tbody>\n",
       "</table>\n",
       "<p>26707 rows × 34 columns</p>\n",
       "</div>"
      ],
      "text/plain": [
       "       unique_id  h1n1_worry  h1n1_awareness  antiviral_medication  \\\n",
       "0              0         1.0             0.0                   0.0   \n",
       "1              1         3.0             2.0                   0.0   \n",
       "2              2         1.0             1.0                   0.0   \n",
       "3              3         1.0             1.0                   0.0   \n",
       "4              4         2.0             1.0                   0.0   \n",
       "...          ...         ...             ...                   ...   \n",
       "26702      26702         2.0             0.0                   0.0   \n",
       "26703      26703         1.0             2.0                   0.0   \n",
       "26704      26704         2.0             2.0                   0.0   \n",
       "26705      26705         1.0             1.0                   0.0   \n",
       "26706      26706         0.0             0.0                   0.0   \n",
       "\n",
       "       contact_avoidance  bought_face_mask  wash_hands_frequently  \\\n",
       "0                    0.0               0.0                    0.0   \n",
       "1                    1.0               0.0                    1.0   \n",
       "2                    1.0               0.0                    0.0   \n",
       "3                    1.0               0.0                    1.0   \n",
       "4                    1.0               0.0                    1.0   \n",
       "...                  ...               ...                    ...   \n",
       "26702                1.0               0.0                    0.0   \n",
       "26703                1.0               0.0                    1.0   \n",
       "26704                1.0               1.0                    1.0   \n",
       "26705                0.0               0.0                    0.0   \n",
       "26706                1.0               0.0                    0.0   \n",
       "\n",
       "       avoid_large_gatherings  reduced_outside_home_cont  avoid_touch_face  \\\n",
       "0                         0.0                        1.0               1.0   \n",
       "1                         0.0                        1.0               1.0   \n",
       "2                         0.0                        0.0               0.0   \n",
       "3                         1.0                        0.0               0.0   \n",
       "4                         1.0                        0.0               1.0   \n",
       "...                       ...                        ...               ...   \n",
       "26702                     0.0                        1.0               0.0   \n",
       "26703                     0.0                        0.0               0.0   \n",
       "26704                     1.0                        0.0               1.0   \n",
       "26705                     0.0                        0.0               NaN   \n",
       "26706                     0.0                        0.0               0.0   \n",
       "\n",
       "       ...      race     sex               income_level  marital_status  \\\n",
       "0      ...     White  Female              Below Poverty     Not Married   \n",
       "1      ...     White    Male              Below Poverty     Not Married   \n",
       "2      ...     White    Male  <= $75,000, Above Poverty     Not Married   \n",
       "3      ...     White  Female              Below Poverty     Not Married   \n",
       "4      ...     White  Female  <= $75,000, Above Poverty         Married   \n",
       "...    ...       ...     ...                        ...             ...   \n",
       "26702  ...     White  Female  <= $75,000, Above Poverty     Not Married   \n",
       "26703  ...     White    Male  <= $75,000, Above Poverty     Not Married   \n",
       "26704  ...     White  Female                        NaN     Not Married   \n",
       "26705  ...  Hispanic  Female  <= $75,000, Above Poverty         Married   \n",
       "26706  ...     White    Male  <= $75,000, Above Poverty         Married   \n",
       "\n",
       "       housing_status          employment                census_msa  \\\n",
       "0                 Own  Not in Labor Force                   Non-MSA   \n",
       "1                Rent            Employed  MSA, Not Principle  City   \n",
       "2                 Own            Employed  MSA, Not Principle  City   \n",
       "3                Rent  Not in Labor Force       MSA, Principle City   \n",
       "4                 Own            Employed  MSA, Not Principle  City   \n",
       "...               ...                 ...                       ...   \n",
       "26702             Own  Not in Labor Force                   Non-MSA   \n",
       "26703            Rent            Employed       MSA, Principle City   \n",
       "26704             Own                 NaN  MSA, Not Principle  City   \n",
       "26705            Rent            Employed                   Non-MSA   \n",
       "26706             Own  Not in Labor Force       MSA, Principle City   \n",
       "\n",
       "       no_of_adults  no_of_children  h1n1_vaccine  \n",
       "0               0.0             0.0             0  \n",
       "1               0.0             0.0             0  \n",
       "2               2.0             0.0             0  \n",
       "3               0.0             0.0             0  \n",
       "4               1.0             0.0             0  \n",
       "...             ...             ...           ...  \n",
       "26702           0.0             0.0             0  \n",
       "26703           1.0             0.0             0  \n",
       "26704           0.0             0.0             0  \n",
       "26705           1.0             0.0             0  \n",
       "26706           1.0             0.0             0  \n",
       "\n",
       "[26707 rows x 34 columns]"
      ]
     },
     "execution_count": 31,
     "metadata": {},
     "output_type": "execute_result"
    }
   ],
   "source": [
    "df1"
   ]
  },
  {
   "cell_type": "markdown",
   "metadata": {
    "id": "YtY_ZPD757gP"
   },
   "source": [
    "**Step-4:**  Missing value analysis."
   ]
  },
  {
   "cell_type": "code",
   "execution_count": 32,
   "metadata": {
    "colab": {
     "base_uri": "https://localhost:8080/"
    },
    "executionInfo": {
     "elapsed": 13,
     "status": "ok",
     "timestamp": 1650439273500,
     "user": {
      "displayName": "Abhishek Dodiya",
      "userId": "05457856945198063411"
     },
     "user_tz": -330
    },
    "id": "VLK3_Iu6YIGI",
    "outputId": "6b2695f4-c5fb-4668-9218-d63722e64cf3"
   },
   "outputs": [
    {
     "data": {
      "text/plain": [
       "unique_id                        0\n",
       "h1n1_worry                      92\n",
       "h1n1_awareness                 116\n",
       "antiviral_medication            71\n",
       "contact_avoidance              208\n",
       "bought_face_mask                19\n",
       "wash_hands_frequently           42\n",
       "avoid_large_gatherings          87\n",
       "reduced_outside_home_cont       82\n",
       "avoid_touch_face               128\n",
       "dr_recc_h1n1_vacc             2160\n",
       "dr_recc_seasonal_vacc         2160\n",
       "chronic_medic_condition        971\n",
       "cont_child_undr_6_mnths        820\n",
       "is_health_worker               804\n",
       "has_health_insur             12274\n",
       "is_h1n1_vacc_effective         391\n",
       "is_h1n1_risky                  388\n",
       "sick_from_h1n1_vacc            395\n",
       "is_seas_vacc_effective         462\n",
       "is_seas_risky                  514\n",
       "sick_from_seas_vacc            537\n",
       "age_bracket                      0\n",
       "qualification                 1407\n",
       "race                             0\n",
       "sex                              0\n",
       "income_level                  4423\n",
       "marital_status                1408\n",
       "housing_status                2042\n",
       "employment                    1463\n",
       "census_msa                       0\n",
       "no_of_adults                   249\n",
       "no_of_children                 249\n",
       "h1n1_vaccine                     0\n",
       "dtype: int64"
      ]
     },
     "execution_count": 32,
     "metadata": {},
     "output_type": "execute_result"
    }
   ],
   "source": [
    "df1.isnull().sum()"
   ]
  },
  {
   "cell_type": "code",
   "execution_count": 33,
   "metadata": {
    "colab": {
     "base_uri": "https://localhost:8080/"
    },
    "executionInfo": {
     "elapsed": 11,
     "status": "ok",
     "timestamp": 1650439273501,
     "user": {
      "displayName": "Abhishek Dodiya",
      "userId": "05457856945198063411"
     },
     "user_tz": -330
    },
    "id": "97nRii59YIJg",
    "outputId": "27eb2e50-9b3a-4345-dbe4-6151a7c82003"
   },
   "outputs": [
    {
     "data": {
      "text/plain": [
       "(19642, 33)"
      ]
     },
     "execution_count": 33,
     "metadata": {},
     "output_type": "execute_result"
    }
   ],
   "source": [
    "df1 = df1.drop(\"has_health_insur\",axis = 1) # drop this column because it has more than 45% dat is missing\n",
    "df1 = df1.dropna()\n",
    "df1.shape"
   ]
  },
  {
   "cell_type": "markdown",
   "metadata": {
    "id": "CL6kTO1g57gP"
   },
   "source": [
    "**Step-5:**  check balance of target variable"
   ]
  },
  {
   "cell_type": "code",
   "execution_count": 34,
   "metadata": {
    "colab": {
     "base_uri": "https://localhost:8080/",
     "height": 254
    },
    "executionInfo": {
     "elapsed": 7,
     "status": "ok",
     "timestamp": 1650439274119,
     "user": {
      "displayName": "Abhishek Dodiya",
      "userId": "05457856945198063411"
     },
     "user_tz": -330
    },
    "id": "u64GuFfJXy19",
    "outputId": "39508579-7129-4571-9ac0-78138b24ddeb"
   },
   "outputs": [
    {
     "data": {
      "image/png": "[encoded data removed]",
      "text/plain": [
       "<Figure size 640x480 with 1 Axes>"
      ]
     },
     "metadata": {},
     "output_type": "display_data"
    }
   ],
   "source": [
    "#Is Data Balanced?\n",
    "purchased=df1[df1.h1n1_vaccine==0].h1n1_vaccine.count()\n",
    "notpurchased=df1[df1.h1n1_vaccine==1].h1n1_vaccine.count()\n",
    "plt.bar(0,purchased,label='no')\n",
    "plt.bar(1,notpurchased,label='yes')\n",
    "plt.xticks([])\n",
    "plt.ylabel('Count')\n",
    "plt.legend()\n",
    "plt.show()"
   ]
  },
  {
   "cell_type": "code",
   "execution_count": 35,
   "metadata": {
    "colab": {
     "base_uri": "https://localhost:8080/"
    },
    "executionInfo": {
     "elapsed": 6,
     "status": "ok",
     "timestamp": 1650439274120,
     "user": {
      "displayName": "Abhishek Dodiya",
      "userId": "05457856945198063411"
     },
     "user_tz": -330
    },
    "id": "JO2DzffJYtKi",
    "outputId": "cf91d2bd-6790-45f7-b36f-5ced008b4cee"
   },
   "outputs": [
    {
     "name": "stdout",
     "output_type": "stream",
     "text": [
      "<class 'pandas.core.frame.DataFrame'>\n",
      "Int64Index: 19642 entries, 0 to 26706\n",
      "Data columns (total 33 columns):\n",
      " #   Column                     Non-Null Count  Dtype  \n",
      "---  ------                     --------------  -----  \n",
      " 0   unique_id                  19642 non-null  int64  \n",
      " 1   h1n1_worry                 19642 non-null  float64\n",
      " 2   h1n1_awareness             19642 non-null  float64\n",
      " 3   antiviral_medication       19642 non-null  float64\n",
      " 4   contact_avoidance          19642 non-null  float64\n",
      " 5   bought_face_mask           19642 non-null  float64\n",
      " 6   wash_hands_frequently      19642 non-null  float64\n",
      " 7   avoid_large_gatherings     19642 non-null  float64\n",
      " 8   reduced_outside_home_cont  19642 non-null  float64\n",
      " 9   avoid_touch_face           19642 non-null  float64\n",
      " 10  dr_recc_h1n1_vacc          19642 non-null  float64\n",
      " 11  dr_recc_seasonal_vacc      19642 non-null  float64\n",
      " 12  chronic_medic_condition    19642 non-null  float64\n",
      " 13  cont_child_undr_6_mnths    19642 non-null  float64\n",
      " 14  is_health_worker           19642 non-null  float64\n",
      " 15  is_h1n1_vacc_effective     19642 non-null  float64\n",
      " 16  is_h1n1_risky              19642 non-null  float64\n",
      " 17  sick_from_h1n1_vacc        19642 non-null  float64\n",
      " 18  is_seas_vacc_effective     19642 non-null  float64\n",
      " 19  is_seas_risky              19642 non-null  float64\n",
      " 20  sick_from_seas_vacc        19642 non-null  float64\n",
      " 21  age_bracket                19642 non-null  object \n",
      " 22  qualification              19642 non-null  object \n",
      " 23  race                       19642 non-null  object \n",
      " 24  sex                        19642 non-null  object \n",
      " 25  income_level               19642 non-null  object \n",
      " 26  marital_status             19642 non-null  object \n",
      " 27  housing_status             19642 non-null  object \n",
      " 28  employment                 19642 non-null  object \n",
      " 29  census_msa                 19642 non-null  object \n",
      " 30  no_of_adults               19642 non-null  float64\n",
      " 31  no_of_children             19642 non-null  float64\n",
      " 32  h1n1_vaccine               19642 non-null  int64  \n",
      "dtypes: float64(22), int64(2), object(9)\n",
      "memory usage: 5.1+ MB\n"
     ]
    }
   ],
   "source": [
    "df1.info()"
   ]
  },
  {
   "cell_type": "markdown",
   "metadata": {
    "id": "rycs37UD57gQ"
   },
   "source": [
    "**Step-6:**  Do label encoding for each catagorical data."
   ]
  },
  {
   "cell_type": "code",
   "execution_count": 36,
   "metadata": {
    "colab": {
     "base_uri": "https://localhost:8080/"
    },
    "executionInfo": {
     "elapsed": 4,
     "status": "ok",
     "timestamp": 1650439275342,
     "user": {
      "displayName": "Abhishek Dodiya",
      "userId": "05457856945198063411"
     },
     "user_tz": -330
    },
    "id": "yLZYPzUVY1mV",
    "outputId": "0a6508f4-f740-474e-a078-ea4ed9ca2de8"
   },
   "outputs": [
    {
     "data": {
      "text/plain": [
       "0        3\n",
       "1        1\n",
       "3        4\n",
       "4        2\n",
       "5        4\n",
       "        ..\n",
       "26700    3\n",
       "26701    0\n",
       "26702    4\n",
       "26703    0\n",
       "26706    4\n",
       "Name: age_bracket, Length: 19642, dtype: int32"
      ]
     },
     "execution_count": 36,
     "metadata": {},
     "output_type": "execute_result"
    }
   ],
   "source": [
    "from sklearn import preprocessing\n",
    "df1.age_bracket.unique() # we need to replce age bracate with labes\n",
    "le = preprocessing.LabelEncoder()\n",
    "df1['age_bracket'] = le.fit_transform(df1.age_bracket.values)\n",
    "df1['age_bracket']"
   ]
  },
  {
   "cell_type": "code",
   "execution_count": 37,
   "metadata": {
    "colab": {
     "base_uri": "https://localhost:8080/"
    },
    "executionInfo": {
     "elapsed": 746,
     "status": "ok",
     "timestamp": 1650439276085,
     "user": {
      "displayName": "Abhishek Dodiya",
      "userId": "05457856945198063411"
     },
     "user_tz": -330
    },
    "id": "dB-8kUneazt7",
    "outputId": "c5f462c4-03ec-4261-bcdd-47f01f737e6c"
   },
   "outputs": [
    {
     "data": {
      "text/plain": [
       "0        1\n",
       "1        0\n",
       "3        0\n",
       "4        3\n",
       "5        0\n",
       "        ..\n",
       "26700    0\n",
       "26701    2\n",
       "26702    3\n",
       "26703    2\n",
       "26706    3\n",
       "Name: qualification, Length: 19642, dtype: int32"
      ]
     },
     "execution_count": 37,
     "metadata": {},
     "output_type": "execute_result"
    }
   ],
   "source": [
    "df1.qualification = le.fit_transform(df1.qualification.values)\n",
    "df1.qualification"
   ]
  },
  {
   "cell_type": "code",
   "execution_count": 38,
   "metadata": {
    "colab": {
     "base_uri": "https://localhost:8080/",
     "height": 488
    },
    "executionInfo": {
     "elapsed": 5,
     "status": "ok",
     "timestamp": 1650439276085,
     "user": {
      "displayName": "Abhishek Dodiya",
      "userId": "05457856945198063411"
     },
     "user_tz": -330
    },
    "id": "GO-NLo2YbIaP",
    "outputId": "e4f6f830-c7f4-4c6a-e598-4d15f1723ad3"
   },
   "outputs": [
    {
     "data": {
      "text/html": [
       "<div>\n",
       "<style scoped>\n",
       "    .dataframe tbody tr th:only-of-type {\n",
       "        vertical-align: middle;\n",
       "    }\n",
       "\n",
       "    .dataframe tbody tr th {\n",
       "        vertical-align: top;\n",
       "    }\n",
       "\n",
       "    .dataframe thead th {\n",
       "        text-align: right;\n",
       "    }\n",
       "</style>\n",
       "<table border=\"1\" class=\"dataframe\">\n",
       "  <thead>\n",
       "    <tr style=\"text-align: right;\">\n",
       "      <th></th>\n",
       "      <th>unique_id</th>\n",
       "      <th>h1n1_worry</th>\n",
       "      <th>h1n1_awareness</th>\n",
       "      <th>antiviral_medication</th>\n",
       "      <th>contact_avoidance</th>\n",
       "      <th>bought_face_mask</th>\n",
       "      <th>wash_hands_frequently</th>\n",
       "      <th>avoid_large_gatherings</th>\n",
       "      <th>reduced_outside_home_cont</th>\n",
       "      <th>avoid_touch_face</th>\n",
       "      <th>...</th>\n",
       "      <th>race</th>\n",
       "      <th>sex</th>\n",
       "      <th>income_level</th>\n",
       "      <th>marital_status</th>\n",
       "      <th>housing_status</th>\n",
       "      <th>employment</th>\n",
       "      <th>census_msa</th>\n",
       "      <th>no_of_adults</th>\n",
       "      <th>no_of_children</th>\n",
       "      <th>h1n1_vaccine</th>\n",
       "    </tr>\n",
       "  </thead>\n",
       "  <tbody>\n",
       "    <tr>\n",
       "      <th>0</th>\n",
       "      <td>0</td>\n",
       "      <td>1.0</td>\n",
       "      <td>0.0</td>\n",
       "      <td>0.0</td>\n",
       "      <td>0.0</td>\n",
       "      <td>0.0</td>\n",
       "      <td>0.0</td>\n",
       "      <td>0.0</td>\n",
       "      <td>1.0</td>\n",
       "      <td>1.0</td>\n",
       "      <td>...</td>\n",
       "      <td>3</td>\n",
       "      <td>0</td>\n",
       "      <td>2</td>\n",
       "      <td>1</td>\n",
       "      <td>0</td>\n",
       "      <td>1</td>\n",
       "      <td>2</td>\n",
       "      <td>0.0</td>\n",
       "      <td>0.0</td>\n",
       "      <td>0</td>\n",
       "    </tr>\n",
       "    <tr>\n",
       "      <th>1</th>\n",
       "      <td>1</td>\n",
       "      <td>3.0</td>\n",
       "      <td>2.0</td>\n",
       "      <td>0.0</td>\n",
       "      <td>1.0</td>\n",
       "      <td>0.0</td>\n",
       "      <td>1.0</td>\n",
       "      <td>0.0</td>\n",
       "      <td>1.0</td>\n",
       "      <td>1.0</td>\n",
       "      <td>...</td>\n",
       "      <td>3</td>\n",
       "      <td>1</td>\n",
       "      <td>2</td>\n",
       "      <td>1</td>\n",
       "      <td>1</td>\n",
       "      <td>0</td>\n",
       "      <td>0</td>\n",
       "      <td>0.0</td>\n",
       "      <td>0.0</td>\n",
       "      <td>0</td>\n",
       "    </tr>\n",
       "    <tr>\n",
       "      <th>3</th>\n",
       "      <td>3</td>\n",
       "      <td>1.0</td>\n",
       "      <td>1.0</td>\n",
       "      <td>0.0</td>\n",
       "      <td>1.0</td>\n",
       "      <td>0.0</td>\n",
       "      <td>1.0</td>\n",
       "      <td>1.0</td>\n",
       "      <td>0.0</td>\n",
       "      <td>0.0</td>\n",
       "      <td>...</td>\n",
       "      <td>3</td>\n",
       "      <td>0</td>\n",
       "      <td>2</td>\n",
       "      <td>1</td>\n",
       "      <td>1</td>\n",
       "      <td>1</td>\n",
       "      <td>1</td>\n",
       "      <td>0.0</td>\n",
       "      <td>0.0</td>\n",
       "      <td>0</td>\n",
       "    </tr>\n",
       "    <tr>\n",
       "      <th>4</th>\n",
       "      <td>4</td>\n",
       "      <td>2.0</td>\n",
       "      <td>1.0</td>\n",
       "      <td>0.0</td>\n",
       "      <td>1.0</td>\n",
       "      <td>0.0</td>\n",
       "      <td>1.0</td>\n",
       "      <td>1.0</td>\n",
       "      <td>0.0</td>\n",
       "      <td>1.0</td>\n",
       "      <td>...</td>\n",
       "      <td>3</td>\n",
       "      <td>0</td>\n",
       "      <td>0</td>\n",
       "      <td>0</td>\n",
       "      <td>0</td>\n",
       "      <td>0</td>\n",
       "      <td>0</td>\n",
       "      <td>1.0</td>\n",
       "      <td>0.0</td>\n",
       "      <td>0</td>\n",
       "    </tr>\n",
       "    <tr>\n",
       "      <th>5</th>\n",
       "      <td>5</td>\n",
       "      <td>3.0</td>\n",
       "      <td>1.0</td>\n",
       "      <td>0.0</td>\n",
       "      <td>1.0</td>\n",
       "      <td>0.0</td>\n",
       "      <td>1.0</td>\n",
       "      <td>0.0</td>\n",
       "      <td>0.0</td>\n",
       "      <td>1.0</td>\n",
       "      <td>...</td>\n",
       "      <td>3</td>\n",
       "      <td>1</td>\n",
       "      <td>0</td>\n",
       "      <td>0</td>\n",
       "      <td>0</td>\n",
       "      <td>0</td>\n",
       "      <td>1</td>\n",
       "      <td>2.0</td>\n",
       "      <td>3.0</td>\n",
       "      <td>0</td>\n",
       "    </tr>\n",
       "    <tr>\n",
       "      <th>...</th>\n",
       "      <td>...</td>\n",
       "      <td>...</td>\n",
       "      <td>...</td>\n",
       "      <td>...</td>\n",
       "      <td>...</td>\n",
       "      <td>...</td>\n",
       "      <td>...</td>\n",
       "      <td>...</td>\n",
       "      <td>...</td>\n",
       "      <td>...</td>\n",
       "      <td>...</td>\n",
       "      <td>...</td>\n",
       "      <td>...</td>\n",
       "      <td>...</td>\n",
       "      <td>...</td>\n",
       "      <td>...</td>\n",
       "      <td>...</td>\n",
       "      <td>...</td>\n",
       "      <td>...</td>\n",
       "      <td>...</td>\n",
       "      <td>...</td>\n",
       "    </tr>\n",
       "    <tr>\n",
       "      <th>26700</th>\n",
       "      <td>26700</td>\n",
       "      <td>3.0</td>\n",
       "      <td>1.0</td>\n",
       "      <td>0.0</td>\n",
       "      <td>1.0</td>\n",
       "      <td>0.0</td>\n",
       "      <td>1.0</td>\n",
       "      <td>0.0</td>\n",
       "      <td>0.0</td>\n",
       "      <td>1.0</td>\n",
       "      <td>...</td>\n",
       "      <td>3</td>\n",
       "      <td>0</td>\n",
       "      <td>1</td>\n",
       "      <td>0</td>\n",
       "      <td>0</td>\n",
       "      <td>1</td>\n",
       "      <td>1</td>\n",
       "      <td>1.0</td>\n",
       "      <td>0.0</td>\n",
       "      <td>0</td>\n",
       "    </tr>\n",
       "    <tr>\n",
       "      <th>26701</th>\n",
       "      <td>26701</td>\n",
       "      <td>2.0</td>\n",
       "      <td>2.0</td>\n",
       "      <td>0.0</td>\n",
       "      <td>0.0</td>\n",
       "      <td>0.0</td>\n",
       "      <td>1.0</td>\n",
       "      <td>0.0</td>\n",
       "      <td>0.0</td>\n",
       "      <td>1.0</td>\n",
       "      <td>...</td>\n",
       "      <td>3</td>\n",
       "      <td>0</td>\n",
       "      <td>1</td>\n",
       "      <td>1</td>\n",
       "      <td>1</td>\n",
       "      <td>1</td>\n",
       "      <td>1</td>\n",
       "      <td>3.0</td>\n",
       "      <td>0.0</td>\n",
       "      <td>0</td>\n",
       "    </tr>\n",
       "    <tr>\n",
       "      <th>26702</th>\n",
       "      <td>26702</td>\n",
       "      <td>2.0</td>\n",
       "      <td>0.0</td>\n",
       "      <td>0.0</td>\n",
       "      <td>1.0</td>\n",
       "      <td>0.0</td>\n",
       "      <td>0.0</td>\n",
       "      <td>0.0</td>\n",
       "      <td>1.0</td>\n",
       "      <td>0.0</td>\n",
       "      <td>...</td>\n",
       "      <td>3</td>\n",
       "      <td>0</td>\n",
       "      <td>0</td>\n",
       "      <td>1</td>\n",
       "      <td>0</td>\n",
       "      <td>1</td>\n",
       "      <td>2</td>\n",
       "      <td>0.0</td>\n",
       "      <td>0.0</td>\n",
       "      <td>0</td>\n",
       "    </tr>\n",
       "    <tr>\n",
       "      <th>26703</th>\n",
       "      <td>26703</td>\n",
       "      <td>1.0</td>\n",
       "      <td>2.0</td>\n",
       "      <td>0.0</td>\n",
       "      <td>1.0</td>\n",
       "      <td>0.0</td>\n",
       "      <td>1.0</td>\n",
       "      <td>0.0</td>\n",
       "      <td>0.0</td>\n",
       "      <td>0.0</td>\n",
       "      <td>...</td>\n",
       "      <td>3</td>\n",
       "      <td>1</td>\n",
       "      <td>0</td>\n",
       "      <td>1</td>\n",
       "      <td>1</td>\n",
       "      <td>0</td>\n",
       "      <td>1</td>\n",
       "      <td>1.0</td>\n",
       "      <td>0.0</td>\n",
       "      <td>0</td>\n",
       "    </tr>\n",
       "    <tr>\n",
       "      <th>26706</th>\n",
       "      <td>26706</td>\n",
       "      <td>0.0</td>\n",
       "      <td>0.0</td>\n",
       "      <td>0.0</td>\n",
       "      <td>1.0</td>\n",
       "      <td>0.0</td>\n",
       "      <td>0.0</td>\n",
       "      <td>0.0</td>\n",
       "      <td>0.0</td>\n",
       "      <td>0.0</td>\n",
       "      <td>...</td>\n",
       "      <td>3</td>\n",
       "      <td>1</td>\n",
       "      <td>0</td>\n",
       "      <td>0</td>\n",
       "      <td>0</td>\n",
       "      <td>1</td>\n",
       "      <td>1</td>\n",
       "      <td>1.0</td>\n",
       "      <td>0.0</td>\n",
       "      <td>0</td>\n",
       "    </tr>\n",
       "  </tbody>\n",
       "</table>\n",
       "<p>19642 rows × 33 columns</p>\n",
       "</div>"
      ],
      "text/plain": [
       "       unique_id  h1n1_worry  h1n1_awareness  antiviral_medication  \\\n",
       "0              0         1.0             0.0                   0.0   \n",
       "1              1         3.0             2.0                   0.0   \n",
       "3              3         1.0             1.0                   0.0   \n",
       "4              4         2.0             1.0                   0.0   \n",
       "5              5         3.0             1.0                   0.0   \n",
       "...          ...         ...             ...                   ...   \n",
       "26700      26700         3.0             1.0                   0.0   \n",
       "26701      26701         2.0             2.0                   0.0   \n",
       "26702      26702         2.0             0.0                   0.0   \n",
       "26703      26703         1.0             2.0                   0.0   \n",
       "26706      26706         0.0             0.0                   0.0   \n",
       "\n",
       "       contact_avoidance  bought_face_mask  wash_hands_frequently  \\\n",
       "0                    0.0               0.0                    0.0   \n",
       "1                    1.0               0.0                    1.0   \n",
       "3                    1.0               0.0                    1.0   \n",
       "4                    1.0               0.0                    1.0   \n",
       "5                    1.0               0.0                    1.0   \n",
       "...                  ...               ...                    ...   \n",
       "26700                1.0               0.0                    1.0   \n",
       "26701                0.0               0.0                    1.0   \n",
       "26702                1.0               0.0                    0.0   \n",
       "26703                1.0               0.0                    1.0   \n",
       "26706                1.0               0.0                    0.0   \n",
       "\n",
       "       avoid_large_gatherings  reduced_outside_home_cont  avoid_touch_face  \\\n",
       "0                         0.0                        1.0               1.0   \n",
       "1                         0.0                        1.0               1.0   \n",
       "3                         1.0                        0.0               0.0   \n",
       "4                         1.0                        0.0               1.0   \n",
       "5                         0.0                        0.0               1.0   \n",
       "...                       ...                        ...               ...   \n",
       "26700                     0.0                        0.0               1.0   \n",
       "26701                     0.0                        0.0               1.0   \n",
       "26702                     0.0                        1.0               0.0   \n",
       "26703                     0.0                        0.0               0.0   \n",
       "26706                     0.0                        0.0               0.0   \n",
       "\n",
       "       ...  race  sex  income_level  marital_status  housing_status  \\\n",
       "0      ...     3    0             2               1               0   \n",
       "1      ...     3    1             2               1               1   \n",
       "3      ...     3    0             2               1               1   \n",
       "4      ...     3    0             0               0               0   \n",
       "5      ...     3    1             0               0               0   \n",
       "...    ...   ...  ...           ...             ...             ...   \n",
       "26700  ...     3    0             1               0               0   \n",
       "26701  ...     3    0             1               1               1   \n",
       "26702  ...     3    0             0               1               0   \n",
       "26703  ...     3    1             0               1               1   \n",
       "26706  ...     3    1             0               0               0   \n",
       "\n",
       "       employment  census_msa  no_of_adults  no_of_children  h1n1_vaccine  \n",
       "0               1           2           0.0             0.0             0  \n",
       "1               0           0           0.0             0.0             0  \n",
       "3               1           1           0.0             0.0             0  \n",
       "4               0           0           1.0             0.0             0  \n",
       "5               0           1           2.0             3.0             0  \n",
       "...           ...         ...           ...             ...           ...  \n",
       "26700           1           1           1.0             0.0             0  \n",
       "26701           1           1           3.0             0.0             0  \n",
       "26702           1           2           0.0             0.0             0  \n",
       "26703           0           1           1.0             0.0             0  \n",
       "26706           1           1           1.0             0.0             0  \n",
       "\n",
       "[19642 rows x 33 columns]"
      ]
     },
     "execution_count": 38,
     "metadata": {},
     "output_type": "execute_result"
    }
   ],
   "source": [
    "df1.race = le.fit_transform(df1.race.values)\n",
    "df1.sex = le.fit_transform(df1.sex.values)\n",
    "df1.income_level = le.fit_transform(df1.income_level.values)\n",
    "df1.marital_status = le.fit_transform(df1.marital_status.values)\n",
    "df1.housing_status = le.fit_transform(df1.housing_status.values)\n",
    "df1.employment = le.fit_transform(df1.employment.values)\n",
    "df1.census_msa = le.fit_transform(df1.census_msa.values)\n",
    "\n",
    "\n",
    "df1 # all column converted to numeric data"
   ]
  },
  {
   "cell_type": "markdown",
   "metadata": {
    "id": "STgtQ2DG57gR"
   },
   "source": [
    "**Step-7:** Extract independent variables (Xs) and dependent variables (Ys) into separate data objects"
   ]
  },
  {
   "cell_type": "code",
   "execution_count": 39,
   "metadata": {
    "executionInfo": {
     "elapsed": 2,
     "status": "ok",
     "timestamp": 1650439298196,
     "user": {
      "displayName": "Abhishek Dodiya",
      "userId": "05457856945198063411"
     },
     "user_tz": -330
    },
    "id": "qh7OvMLwYe7C"
   },
   "outputs": [],
   "source": [
    "x= df1.drop(\"h1n1_vaccine\",axis = 1) #independent feature\n",
    "y= df1['h1n1_vaccine'] # dependent feature "
   ]
  },
  {
   "cell_type": "markdown",
   "metadata": {
    "id": "BINdRrS-57gR"
   },
   "source": [
    "**Step-8:** Model building before applying SMOTE"
   ]
  },
  {
   "cell_type": "code",
   "execution_count": 40,
   "metadata": {
    "colab": {
     "base_uri": "https://localhost:8080/"
    },
    "executionInfo": {
     "elapsed": 2431,
     "status": "ok",
     "timestamp": 1650439306985,
     "user": {
      "displayName": "Abhishek Dodiya",
      "userId": "05457856945198063411"
     },
     "user_tz": -330
    },
    "id": "V9T21xYmd00c",
    "outputId": "827b0542-429c-4cf5-ad1b-3a95bfb97869"
   },
   "outputs": [
    {
     "name": "stdout",
     "output_type": "stream",
     "text": [
      "\n",
      "ACCURACY OF THE MODEL:  0.8353270552303385\n"
     ]
    }
   ],
   "source": [
    "#before smot\n",
    "x_train,x_test,y_train,y_test=train_test_split(x, y,test_size=0.20)\n",
    "clf = RandomForestClassifier(n_estimators = 100)\n",
    "clf.fit(x_train, y_train)\n",
    " \n",
    "# performing predictions on the test dataset\n",
    "y_pred = clf.predict(x_test)\n",
    " \n",
    "# metrics are used to find accuracy or error\n",
    "from sklearn import metrics \n",
    "print()\n",
    "score1 = metrics.accuracy_score(y_test, y_pred)\n",
    "# using metrics module for accuracy calculation\n",
    "print(\"ACCURACY OF THE MODEL: \", metrics.accuracy_score(y_test, y_pred))"
   ]
  },
  {
   "cell_type": "markdown",
   "metadata": {
    "id": "1NA_SHTV57gS"
   },
   "source": [
    "**Step-9:** Model building after applying SMOTE"
   ]
  },
  {
   "cell_type": "code",
   "execution_count": 43,
   "metadata": {
    "executionInfo": {
     "elapsed": 1066,
     "status": "ok",
     "timestamp": 1650439314625,
     "user": {
      "displayName": "Abhishek Dodiya",
      "userId": "05457856945198063411"
     },
     "user_tz": -330
    },
    "id": "fvAHjwz_YjZR"
   },
   "outputs": [],
   "source": [
    "#Over sampling the dataset\n",
    "from imblearn.over_sampling import SMOTE\n",
    "oversample = SMOTE()\n",
    "x_smot, y_smot = oversample.fit_resample(x, y)"
   ]
  },
  {
   "cell_type": "code",
   "execution_count": 44,
   "metadata": {
    "colab": {
     "base_uri": "https://localhost:8080/",
     "height": 254
    },
    "executionInfo": {
     "elapsed": 4,
     "status": "ok",
     "timestamp": 1650439316672,
     "user": {
      "displayName": "Abhishek Dodiya",
      "userId": "05457856945198063411"
     },
     "user_tz": -330
    },
    "id": "j5tjA4gMb922",
    "outputId": "44ef48eb-6e5c-4def-afff-a49b0fc3c04e"
   },
   "outputs": [
    {
     "data": {
      "image/png": "[encoded data removed]",
      "text/plain": [
       "<Figure size 640x480 with 1 Axes>"
      ]
     },
     "metadata": {},
     "output_type": "display_data"
    }
   ],
   "source": [
    "# after smot all class are equale.\n",
    "purchased=y_smot[y_smot==0].count()\n",
    "notpurchased=y_smot[y_smot==1].count()\n",
    "plt.bar(0,purchased,label='no')\n",
    "plt.bar(1,notpurchased,label='yes')\n",
    "plt.xticks([])\n",
    "plt.ylabel('Count')\n",
    "plt.legend()\n",
    "plt.show()"
   ]
  },
  {
   "cell_type": "code",
   "execution_count": 45,
   "metadata": {
    "executionInfo": {
     "elapsed": 2,
     "status": "ok",
     "timestamp": 1650439319456,
     "user": {
      "displayName": "Abhishek Dodiya",
      "userId": "05457856945198063411"
     },
     "user_tz": -330
    },
    "id": "r19NIvktYhiC"
   },
   "outputs": [],
   "source": [
    "x_train,x_test,y_train,y_test=train_test_split(x_smot, y_smot,test_size=0.20)"
   ]
  },
  {
   "cell_type": "code",
   "execution_count": 46,
   "metadata": {
    "executionInfo": {
     "elapsed": 4,
     "status": "ok",
     "timestamp": 1650439320878,
     "user": {
      "displayName": "Abhishek Dodiya",
      "userId": "05457856945198063411"
     },
     "user_tz": -330
    },
    "id": "aL8qEjAHc91J"
   },
   "outputs": [],
   "source": [
    "# model building random forest \n"
   ]
  },
  {
   "cell_type": "code",
   "execution_count": 47,
   "metadata": {
    "colab": {
     "base_uri": "https://localhost:8080/"
    },
    "executionInfo": {
     "elapsed": 3602,
     "status": "ok",
     "timestamp": 1650439325237,
     "user": {
      "displayName": "Abhishek Dodiya",
      "userId": "05457856945198063411"
     },
     "user_tz": -330
    },
    "id": "HBvJoksic93_",
    "outputId": "91248a25-e5e6-451a-aaa8-1ff224fb08c5"
   },
   "outputs": [
    {
     "name": "stdout",
     "output_type": "stream",
     "text": [
      "\n",
      "ACCURACY OF THE MODEL:  0.891606080634501\n"
     ]
    }
   ],
   "source": [
    "clf = RandomForestClassifier(n_estimators = 100)\n",
    "clf.fit(x_train, y_train)\n",
    " \n",
    "# performing predictions on the test dataset\n",
    "y_pred = clf.predict(x_test)\n",
    " \n",
    "# metrics are used to find accuracy or error\n",
    "from sklearn import metrics \n",
    "print()\n",
    "score2 =  metrics.accuracy_score(y_test, y_pred)\n",
    "# using metrics module for accuracy calculation\n",
    "print(\"ACCURACY OF THE MODEL: \", metrics.accuracy_score(y_test, y_pred))"
   ]
  },
  {
   "cell_type": "markdown",
   "metadata": {
    "id": "6lqIgkaw57gT"
   },
   "source": [
    "**Step-10:** Comparing both models."
   ]
  },
  {
   "cell_type": "code",
   "execution_count": 48,
   "metadata": {
    "colab": {
     "base_uri": "https://localhost:8080/"
    },
    "executionInfo": {
     "elapsed": 569,
     "status": "ok",
     "timestamp": 1650439336102,
     "user": {
      "displayName": "Abhishek Dodiya",
      "userId": "05457856945198063411"
     },
     "user_tz": -330
    },
    "id": "LWdgWGsec97f",
    "outputId": "7e5154a8-9c5c-4ae9-83a1-02b64ec7d4a4"
   },
   "outputs": [
    {
     "name": "stdout",
     "output_type": "stream",
     "text": [
      "before smot accuracy is: 0.8353270552303385\n",
      "after smot accuracy is: 0.891606080634501\n"
     ]
    }
   ],
   "source": [
    "print(\"before smot accuracy is:\",score1)\n",
    "print(\"after smot accuracy is:\",score2)\n"
   ]
  },
  {
   "cell_type": "code",
   "execution_count": null,
   "metadata": {},
   "outputs": [],
   "source": []
  }
 ],
 "metadata": {
  "colab": {
   "collapsed_sections": [],
   "name": "DS_D39_DIY_Solution_V1_0.ipynb",
   "provenance": []
  },
  "kernelspec": {
   "display_name": "Python 3 (ipykernel)",
   "language": "python",
   "name": "python3"
  },
  "language_info": {
   "codemirror_mode": {
    "name": "ipython",
    "version": 3
   },
   "file_extension": ".py",
   "mimetype": "text/x-python",
   "name": "python",
   "nbconvert_exporter": "python",
   "pygments_lexer": "ipython3",
   "version": "3.10.9"
  }
 },
 "nbformat": 4,
 "nbformat_minor": 1
}
