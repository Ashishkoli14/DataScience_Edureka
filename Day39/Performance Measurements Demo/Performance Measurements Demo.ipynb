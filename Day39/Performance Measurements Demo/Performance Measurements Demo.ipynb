{
 "cells": [
  {
   "cell_type": "markdown",
   "metadata": {},
   "source": [
    "## Demo - Performance Measurements in Python"
   ]
  },
  {
   "cell_type": "markdown",
   "metadata": {},
   "source": [
    "In this demo, you will use performance measurements like ROC, SMOTE to evaluate the model using scikit-learn library."
   ]
  },
  {
   "cell_type": "markdown",
   "metadata": {},
   "source": [
    "## Problem Statement"
   ]
  },
  {
   "cell_type": "markdown",
   "metadata": {},
   "source": [
    "The dataset contain details of users like User ID, Gender, Age, EstimatedSalary and Purchased. The data shows whether a person is likely to purchase the artefacts advertised or not. Based on the data we have to generate a model that can predict whether the person will make a purchase or not."
   ]
  },
  {
   "cell_type": "markdown",
   "metadata": {},
   "source": [
    "## Importing Required Libraries"
   ]
  },
  {
   "cell_type": "code",
   "execution_count": 1,
   "metadata": {},
   "outputs": [
    {
     "name": "stdout",
     "output_type": "stream",
     "text": [
      "Requirement already satisfied: imblearn in /opt/conda/lib/python3.7/site-packages (0.0)\n",
      "Requirement already satisfied: imbalanced-learn in /opt/conda/lib/python3.7/site-packages (from imblearn) (0.6.1)\n",
      "Requirement already satisfied: scipy>=0.17 in /opt/conda/lib/python3.7/site-packages (from imbalanced-learn->imblearn) (1.2.1)\n",
      "Requirement already satisfied: scikit-learn>=0.22 in /opt/conda/lib/python3.7/site-packages (from imbalanced-learn->imblearn) (0.22.1)\n",
      "Requirement already satisfied: joblib>=0.11 in /opt/conda/lib/python3.7/site-packages (from imbalanced-learn->imblearn) (0.13.2)\n",
      "Requirement already satisfied: numpy>=1.11 in /opt/conda/lib/python3.7/site-packages (from imbalanced-learn->imblearn) (1.17.0)\n"
     ]
    }
   ],
   "source": [
    "!pip install imblearn"
   ]
  },
  {
   "cell_type": "code",
   "execution_count": 1,
   "metadata": {},
   "outputs": [],
   "source": [
    "import numpy as np\n",
    "import pandas as pd\n",
    "import matplotlib.pyplot as plt\n",
    "from sklearn.model_selection import train_test_split \n",
    "from sklearn.preprocessing import StandardScaler\n",
    "from sklearn.preprocessing  import LabelEncoder\n",
    "from sklearn.linear_model import LogisticRegression\n",
    "from sklearn.tree import DecisionTreeClassifier\n",
    "from sklearn.metrics import confusion_matrix\n",
    "from sklearn import metrics\n",
    "from imblearn.over_sampling import SMOTE\n",
    "from matplotlib.colors import ListedColormap\n",
    "from sklearn import metrics\n",
    "import seaborn as sns"
   ]
  },
  {
   "cell_type": "markdown",
   "metadata": {},
   "source": [
    "---"
   ]
  },
  {
   "cell_type": "markdown",
   "metadata": {},
   "source": [
    "## Importing Dataset"
   ]
  },
  {
   "cell_type": "code",
   "execution_count": 4,
   "metadata": {},
   "outputs": [
    {
     "data": {
      "text/html": [
       "<div>\n",
       "<style scoped>\n",
       "    .dataframe tbody tr th:only-of-type {\n",
       "        vertical-align: middle;\n",
       "    }\n",
       "\n",
       "    .dataframe tbody tr th {\n",
       "        vertical-align: top;\n",
       "    }\n",
       "\n",
       "    .dataframe thead th {\n",
       "        text-align: right;\n",
       "    }\n",
       "</style>\n",
       "<table border=\"1\" class=\"dataframe\">\n",
       "  <thead>\n",
       "    <tr style=\"text-align: right;\">\n",
       "      <th></th>\n",
       "      <th>User ID</th>\n",
       "      <th>Gender</th>\n",
       "      <th>Age</th>\n",
       "      <th>EstimatedSalary</th>\n",
       "      <th>Purchased</th>\n",
       "    </tr>\n",
       "  </thead>\n",
       "  <tbody>\n",
       "    <tr>\n",
       "      <th>0</th>\n",
       "      <td>15624510</td>\n",
       "      <td>Male</td>\n",
       "      <td>19</td>\n",
       "      <td>19000</td>\n",
       "      <td>0</td>\n",
       "    </tr>\n",
       "    <tr>\n",
       "      <th>1</th>\n",
       "      <td>15810944</td>\n",
       "      <td>Male</td>\n",
       "      <td>35</td>\n",
       "      <td>20000</td>\n",
       "      <td>0</td>\n",
       "    </tr>\n",
       "    <tr>\n",
       "      <th>2</th>\n",
       "      <td>15668575</td>\n",
       "      <td>Female</td>\n",
       "      <td>26</td>\n",
       "      <td>43000</td>\n",
       "      <td>0</td>\n",
       "    </tr>\n",
       "    <tr>\n",
       "      <th>3</th>\n",
       "      <td>15603246</td>\n",
       "      <td>Female</td>\n",
       "      <td>27</td>\n",
       "      <td>57000</td>\n",
       "      <td>0</td>\n",
       "    </tr>\n",
       "    <tr>\n",
       "      <th>4</th>\n",
       "      <td>15804002</td>\n",
       "      <td>Male</td>\n",
       "      <td>19</td>\n",
       "      <td>76000</td>\n",
       "      <td>0</td>\n",
       "    </tr>\n",
       "    <tr>\n",
       "      <th>...</th>\n",
       "      <td>...</td>\n",
       "      <td>...</td>\n",
       "      <td>...</td>\n",
       "      <td>...</td>\n",
       "      <td>...</td>\n",
       "    </tr>\n",
       "    <tr>\n",
       "      <th>395</th>\n",
       "      <td>15691863</td>\n",
       "      <td>Female</td>\n",
       "      <td>46</td>\n",
       "      <td>41000</td>\n",
       "      <td>1</td>\n",
       "    </tr>\n",
       "    <tr>\n",
       "      <th>396</th>\n",
       "      <td>15706071</td>\n",
       "      <td>Male</td>\n",
       "      <td>51</td>\n",
       "      <td>23000</td>\n",
       "      <td>1</td>\n",
       "    </tr>\n",
       "    <tr>\n",
       "      <th>397</th>\n",
       "      <td>15654296</td>\n",
       "      <td>Female</td>\n",
       "      <td>50</td>\n",
       "      <td>20000</td>\n",
       "      <td>1</td>\n",
       "    </tr>\n",
       "    <tr>\n",
       "      <th>398</th>\n",
       "      <td>15755018</td>\n",
       "      <td>Male</td>\n",
       "      <td>36</td>\n",
       "      <td>33000</td>\n",
       "      <td>0</td>\n",
       "    </tr>\n",
       "    <tr>\n",
       "      <th>399</th>\n",
       "      <td>15594041</td>\n",
       "      <td>Female</td>\n",
       "      <td>49</td>\n",
       "      <td>36000</td>\n",
       "      <td>1</td>\n",
       "    </tr>\n",
       "  </tbody>\n",
       "</table>\n",
       "<p>400 rows × 5 columns</p>\n",
       "</div>"
      ],
      "text/plain": [
       "      User ID  Gender  Age  EstimatedSalary  Purchased\n",
       "0    15624510    Male   19            19000          0\n",
       "1    15810944    Male   35            20000          0\n",
       "2    15668575  Female   26            43000          0\n",
       "3    15603246  Female   27            57000          0\n",
       "4    15804002    Male   19            76000          0\n",
       "..        ...     ...  ...              ...        ...\n",
       "395  15691863  Female   46            41000          1\n",
       "396  15706071    Male   51            23000          1\n",
       "397  15654296  Female   50            20000          1\n",
       "398  15755018    Male   36            33000          0\n",
       "399  15594041  Female   49            36000          1\n",
       "\n",
       "[400 rows x 5 columns]"
      ]
     },
     "execution_count": 4,
     "metadata": {},
     "output_type": "execute_result"
    }
   ],
   "source": [
    "#Importing the dataset using pandas\n",
    "ad_data=pd.read_csv('Social_Network_Ads.csv')\n",
    "ad_data"
   ]
  },
  {
   "cell_type": "markdown",
   "metadata": {},
   "source": [
    "## Data Analysis"
   ]
  },
  {
   "cell_type": "code",
   "execution_count": 3,
   "metadata": {
    "scrolled": true
   },
   "outputs": [
    {
     "data": {
      "text/plain": [
       "(400, 5)"
      ]
     },
     "execution_count": 3,
     "metadata": {},
     "output_type": "execute_result"
    }
   ],
   "source": [
    "#Dataset shape to get number of rows and columns\n",
    "ad_data.shape"
   ]
  },
  {
   "cell_type": "markdown",
   "metadata": {},
   "source": [
    "<div style=\"background-color:##EDF9FF\">\n",
    "  <ul><li><h3>Checking Null Values</h3></li></ul>\n",
    "</div>"
   ]
  },
  {
   "cell_type": "code",
   "execution_count": 5,
   "metadata": {
    "scrolled": true
   },
   "outputs": [
    {
     "data": {
      "text/plain": [
       "User ID            0\n",
       "Gender             0\n",
       "Age                0\n",
       "EstimatedSalary    0\n",
       "Purchased          0\n",
       "dtype: int64"
      ]
     },
     "execution_count": 5,
     "metadata": {},
     "output_type": "execute_result"
    }
   ],
   "source": [
    "#Checking for null values\n",
    "ad_data.isnull().sum()"
   ]
  },
  {
   "cell_type": "markdown",
   "metadata": {},
   "source": [
    "<div style=\"background-color:##FBFFE3\">\n",
    "    <div style=\"float:left\">\n",
    "        <img src='https://drive.google.com/uc?export=download&id=1gpc8kbwaenTpaIvnO_MQR3vw12rKYQrJ', width=20,height=20,>\n",
    "    </div>\n",
    "    <span style=\"padding:20px;\">\n",
    "        None of the columns contain null values so there is no need to remove/replace data\n",
    "    </span>\n",
    "</div>"
   ]
  },
  {
   "cell_type": "markdown",
   "metadata": {},
   "source": [
    "<div style=\"background-color:##EDF9FF\">\n",
    "  <ul><li><h3>Is Data Balanced?</h3></li></ul>\n",
    "</div>"
   ]
  },
  {
   "cell_type": "code",
   "execution_count": 6,
   "metadata": {
    "scrolled": true
   },
   "outputs": [
    {
     "data": {
      "image/png": "[encoded data removed]",
      "text/plain": [
       "<Figure size 640x480 with 1 Axes>"
      ]
     },
     "metadata": {},
     "output_type": "display_data"
    }
   ],
   "source": [
    "purchased=ad_data[ad_data.Purchased==0].Purchased.count()\n",
    "notpurchased=ad_data[ad_data.Purchased==1].Purchased.count()\n",
    "plt.bar(0,purchased,label='Purchased')\n",
    "plt.bar(1,notpurchased,label='Not Purchased')\n",
    "plt.xticks([])\n",
    "plt.ylabel('Count')\n",
    "plt.legend()\n",
    "plt.show()"
   ]
  },
  {
   "cell_type": "markdown",
   "metadata": {},
   "source": [
    "- Dataset is clearly imbalanced"
   ]
  },
  {
   "cell_type": "markdown",
   "metadata": {},
   "source": [
    "## Splitting Dependent And Independent Variables"
   ]
  },
  {
   "cell_type": "code",
   "execution_count": 7,
   "metadata": {},
   "outputs": [],
   "source": [
    "#Eliminating User ID and Gender as they would not have any impact\n",
    "X=ad_data[['Age','EstimatedSalary']]\n",
    "y=ad_data['Purchased']"
   ]
  },
  {
   "cell_type": "code",
   "execution_count": 8,
   "metadata": {},
   "outputs": [
    {
     "data": {
      "text/plain": [
       "array([[-1.78179743, -1.49004624],\n",
       "       [-0.25358736, -1.46068138],\n",
       "       [-1.11320552, -0.78528968],\n",
       "       [-1.01769239, -0.37418169],\n",
       "       [-1.78179743,  0.18375059],\n",
       "       [-1.01769239, -0.34481683],\n",
       "       [-1.01769239,  0.41866944],\n",
       "       [-0.54012675,  2.35674998],\n",
       "       [-1.20871865, -1.07893824],\n",
       "       [-0.25358736, -0.13926283],\n",
       "       [-1.11320552,  0.30121002],\n",
       "       [-1.11320552, -0.52100597],\n",
       "       [-1.6862843 ,  0.47739916],\n",
       "       [-0.54012675, -1.51941109],\n",
       "       [-1.87731056,  0.35993973],\n",
       "       [-0.82666613,  0.30121002],\n",
       "       [ 0.89257019, -1.3138571 ],\n",
       "       [ 0.70154394, -1.28449224],\n",
       "       [ 0.79705706, -1.22576253],\n",
       "       [ 0.98808332, -1.19639767],\n",
       "       [ 0.70154394, -1.40195167],\n",
       "       [ 0.89257019, -0.60910054],\n",
       "       [ 0.98808332, -0.84401939],\n",
       "       [ 0.70154394, -1.40195167],\n",
       "       [ 0.79705706, -1.37258681],\n",
       "       [ 0.89257019, -1.46068138],\n",
       "       [ 1.08359645, -1.22576253],\n",
       "       [ 0.89257019, -1.16703281],\n",
       "       [-0.82666613, -0.78528968],\n",
       "       [-0.63563988, -1.51941109],\n",
       "       [-0.63563988,  0.12502088],\n",
       "       [-1.01769239,  1.97500684],\n",
       "       [-1.59077117, -1.5781408 ],\n",
       "       [-0.92217926, -0.75592482],\n",
       "       [-1.01769239,  0.59485858],\n",
       "       [-0.25358736, -1.25512738],\n",
       "       [-0.44461362, -1.22576253],\n",
       "       [-0.73115301, -0.60910054],\n",
       "       [-1.11320552,  0.06629116],\n",
       "       [-1.01769239, -1.13766796],\n",
       "       [-1.01769239, -1.54877595],\n",
       "       [-0.44461362, -0.55037082],\n",
       "       [-0.25358736,  1.123426  ],\n",
       "       [-0.73115301, -1.60750566],\n",
       "       [-0.92217926,  0.41866944],\n",
       "       [-1.39974491, -1.46068138],\n",
       "       [-1.20871865,  0.27184516],\n",
       "       [-1.01769239, -0.46227625],\n",
       "       [-0.73115301,  1.91627713],\n",
       "       [-0.63563988,  0.56549373],\n",
       "       [-1.30423178, -1.1083031 ],\n",
       "       [-1.87731056, -0.75592482],\n",
       "       [-0.82666613,  0.38930459],\n",
       "       [-0.25358736, -1.37258681],\n",
       "       [-1.01769239, -0.34481683],\n",
       "       [-1.30423178, -0.4329114 ],\n",
       "       [-1.39974491, -0.63846539],\n",
       "       [-0.92217926,  0.27184516],\n",
       "       [-1.49525804, -1.51941109],\n",
       "       [-0.54012675,  1.38770971],\n",
       "       [-1.01769239, -1.46068138],\n",
       "       [-1.20871865,  0.50676401],\n",
       "       [-1.39974491, -0.10989798],\n",
       "       [-0.54012675,  1.47580428],\n",
       "       [ 2.03872775,  0.38930459],\n",
       "       [-1.30423178, -0.34481683],\n",
       "       [-1.30423178, -1.49004624],\n",
       "       [-1.39974491,  0.35993973],\n",
       "       [-1.49525804, -0.19799255],\n",
       "       [-0.63563988, -0.05116826],\n",
       "       [-1.20871865,  0.30121002],\n",
       "       [-1.30423178, -1.25512738],\n",
       "       [-1.6862843 , -1.37258681],\n",
       "       [-0.44461362,  1.27025028],\n",
       "       [-0.54012675, -1.51941109],\n",
       "       [-0.34910049,  1.24088543],\n",
       "       [-1.87731056, -0.52100597],\n",
       "       [-1.49525804, -1.25512738],\n",
       "       [-0.92217926,  0.50676401],\n",
       "       [-1.11320552, -1.54877595],\n",
       "       [-0.73115301,  0.30121002],\n",
       "       [ 0.12846516, -0.81465453],\n",
       "       [-1.6862843 , -0.60910054],\n",
       "       [-0.25358736,  0.53612887],\n",
       "       [-0.73115301, -0.2273574 ],\n",
       "       [-0.63563988,  1.41707457],\n",
       "       [-1.30423178, -0.4329114 ],\n",
       "       [-0.92217926,  0.4480343 ],\n",
       "       [-1.11320552,  0.33057487],\n",
       "       [-0.25358736, -0.57973568],\n",
       "       [-1.49525804,  0.33057487],\n",
       "       [-0.73115301,  1.35834485],\n",
       "       [-1.11320552, -1.60750566],\n",
       "       [-0.82666613, -1.22576253],\n",
       "       [-0.82666613,  0.38930459],\n",
       "       [-0.25358736, -0.75592482],\n",
       "       [-0.25358736, -1.3138571 ],\n",
       "       [-0.92217926,  1.56389885],\n",
       "       [-0.25358736,  0.09565602],\n",
       "       [-0.92217926, -0.96147882],\n",
       "       [-1.01769239,  0.53612887],\n",
       "       [-0.92217926, -0.31545197],\n",
       "       [-0.54012675,  0.47739916],\n",
       "       [-0.44461362,  2.32738512],\n",
       "       [-1.78179743, -1.43131652],\n",
       "       [-1.59077117,  0.06629116],\n",
       "       [-1.11320552, -1.02020853],\n",
       "       [-1.01769239,  0.56549373],\n",
       "       [-1.11320552,  0.47739916],\n",
       "       [ 0.03295203,  0.30121002],\n",
       "       [ 0.12846516,  0.03692631],\n",
       "       [-0.0625611 ,  0.03692631],\n",
       "       [ 0.03295203, -0.25672226],\n",
       "       [-0.0625611 , -0.4329114 ],\n",
       "       [ 0.41500455,  0.30121002],\n",
       "       [ 0.22397829, -0.37418169],\n",
       "       [-0.25358736,  0.15438573],\n",
       "       [-0.15807423, -0.52100597],\n",
       "       [ 0.22397829, -0.31545197],\n",
       "       [ 0.31949142, -0.31545197],\n",
       "       [-0.15807423,  0.15438573],\n",
       "       [-0.0625611 ,  0.06629116],\n",
       "       [ 0.22397829,  0.15438573],\n",
       "       [-0.25358736, -0.49164111],\n",
       "       [ 0.31949142, -0.55037082],\n",
       "       [ 0.12846516, -0.25672226],\n",
       "       [ 0.41500455, -0.13926283],\n",
       "       [-1.11320552, -1.1083031 ],\n",
       "       [-0.73115301, -1.54877595],\n",
       "       [-1.11320552,  0.41866944],\n",
       "       [-0.63563988, -0.34481683],\n",
       "       [-0.44461362, -1.13766796],\n",
       "       [-0.73115301,  0.50676401],\n",
       "       [-1.59077117, -0.05116826],\n",
       "       [-0.92217926, -0.4329114 ],\n",
       "       [-1.39974491, -0.19799255],\n",
       "       [-1.6862843 ,  0.35993973],\n",
       "       [-0.73115301,  1.09406114],\n",
       "       [-0.92217926, -0.31545197],\n",
       "       [-1.78179743, -1.3138571 ],\n",
       "       [-1.78179743,  0.4480343 ],\n",
       "       [-1.87731056, -0.05116826],\n",
       "       [-0.25358736, -0.31545197],\n",
       "       [-0.73115301,  0.56549373],\n",
       "       [-0.34910049, -1.3138571 ],\n",
       "       [-1.30423178,  0.56549373],\n",
       "       [-1.01769239,  0.77104772],\n",
       "       [ 0.31949142, -1.16703281],\n",
       "       [-0.82666613, -0.25672226],\n",
       "       [-1.6862843 ,  0.12502088],\n",
       "       [-1.11320552, -1.60750566],\n",
       "       [ 0.31949142, -0.72655996],\n",
       "       [-0.63563988,  0.18375059],\n",
       "       [-0.15807423, -0.57973568],\n",
       "       [ 0.22397829, -0.66783025],\n",
       "       [-0.63563988, -1.60750566],\n",
       "       [ 0.79705706, -0.31545197],\n",
       "       [-0.82666613,  0.15438573],\n",
       "       [-1.11320552, -1.16703281],\n",
       "       [-0.54012675,  1.91627713],\n",
       "       [-0.54012675,  0.88850715],\n",
       "       [-1.20871865,  0.59485858],\n",
       "       [-0.0625611 , -1.07893824],\n",
       "       [-0.25358736, -0.93211396],\n",
       "       [-0.44461362, -0.02180341],\n",
       "       [-1.87731056,  0.47739916],\n",
       "       [-1.49525804, -0.4329114 ],\n",
       "       [-0.25358736,  0.03692631],\n",
       "       [-0.82666613,  2.29802026],\n",
       "       [-0.82666613, -0.66783025],\n",
       "       [-1.59077117,  0.53612887],\n",
       "       [-0.34910049,  1.32898   ],\n",
       "       [-1.11320552,  1.41707457],\n",
       "       [-0.34910049, -0.78528968],\n",
       "       [-0.34910049,  0.06629116],\n",
       "       [-1.39974491, -1.22576253],\n",
       "       [-0.25358736, -0.66783025],\n",
       "       [-1.20871865, -1.40195167],\n",
       "       [-1.30423178, -1.37258681],\n",
       "       [-0.63563988, -1.04957339],\n",
       "       [-1.11320552, -1.5781408 ],\n",
       "       [-0.63563988,  0.03692631],\n",
       "       [-0.54012675,  1.38770971],\n",
       "       [-0.44461362, -0.78528968],\n",
       "       [-0.44461362, -0.28608712],\n",
       "       [-0.63563988, -0.10989798],\n",
       "       [-1.6862843 ,  0.35993973],\n",
       "       [-0.44461362, -0.84401939],\n",
       "       [-0.25358736,  0.06629116],\n",
       "       [-0.92217926, -1.1083031 ],\n",
       "       [-1.30423178,  0.41866944],\n",
       "       [-1.78179743, -1.28449224],\n",
       "       [-0.82666613, -0.78528968],\n",
       "       [-1.78179743,  0.00756145],\n",
       "       [-0.92217926,  0.56549373],\n",
       "       [-0.34910049, -0.78528968],\n",
       "       [-0.73115301,  0.27184516],\n",
       "       [-1.6862843 , -0.99084367],\n",
       "       [-1.11320552,  0.30121002],\n",
       "       [-0.25358736, -1.40195167],\n",
       "       [-0.25358736, -0.9027491 ],\n",
       "       [ 1.08359645,  0.12502088],\n",
       "       [ 0.12846516,  1.88691227],\n",
       "       [ 0.31949142,  0.03692631],\n",
       "       [ 1.94321462,  0.917872  ],\n",
       "       [ 0.89257019, -0.66783025],\n",
       "       [ 1.65667523,  1.76945285],\n",
       "       [ 1.37013584,  1.29961514],\n",
       "       [ 0.22397829,  2.12183112],\n",
       "       [ 0.79705706, -1.40195167],\n",
       "       [ 0.98808332,  0.77104772],\n",
       "       [ 1.37013584,  2.35674998],\n",
       "       [ 2.03872775, -0.81465453],\n",
       "       [-0.25358736, -0.34481683],\n",
       "       [ 0.89257019, -0.78528968],\n",
       "       [ 2.13424088,  1.123426  ],\n",
       "       [ 1.08359645, -0.13926283],\n",
       "       [ 0.22397829,  0.2424803 ],\n",
       "       [ 0.79705706,  0.77104772],\n",
       "       [ 2.03872775,  2.15119598],\n",
       "       [ 0.31949142,  0.30121002],\n",
       "       [-0.25358736,  0.62422344],\n",
       "       [-0.0625611 ,  2.18056084],\n",
       "       [ 2.13424088,  0.94723686],\n",
       "       [-0.25358736, -0.28608712],\n",
       "       [-0.0625611 , -0.49164111],\n",
       "       [-0.15807423,  1.65199342],\n",
       "       [ 1.75218836,  1.85754742],\n",
       "       [ 0.22397829,  0.06629116],\n",
       "       [ 0.41500455,  0.30121002],\n",
       "       [-0.25358736,  2.26865541],\n",
       "       [ 0.12846516, -0.81465453],\n",
       "       [ 0.22397829,  1.09406114],\n",
       "       [ 1.08359645,  0.47739916],\n",
       "       [ 0.03295203,  1.24088543],\n",
       "       [ 0.79705706,  0.27184516],\n",
       "       [ 0.22397829, -0.37418169],\n",
       "       [-0.0625611 ,  0.30121002],\n",
       "       [ 0.79705706,  0.35993973],\n",
       "       [ 1.46564897,  2.15119598],\n",
       "       [ 0.41500455,  2.32738512],\n",
       "       [ 0.03295203, -0.31545197],\n",
       "       [ 1.17910958,  0.53612887],\n",
       "       [ 1.75218836,  1.00596657],\n",
       "       [ 0.31949142,  0.06629116],\n",
       "       [ 1.27462271,  2.23929055],\n",
       "       [-0.25358736, -0.57973568],\n",
       "       [ 1.84770149,  1.53453399],\n",
       "       [ 0.31949142, -0.52100597],\n",
       "       [-0.25358736,  0.80041258],\n",
       "       [ 0.60603081, -0.9027491 ],\n",
       "       [-0.0625611 , -0.52100597],\n",
       "       [ 0.98808332,  1.88691227],\n",
       "       [-0.0625611 ,  2.23929055],\n",
       "       [ 1.17910958, -0.75592482],\n",
       "       [ 1.37013584,  0.59485858],\n",
       "       [ 0.31949142,  0.06629116],\n",
       "       [ 0.22397829, -0.37418169],\n",
       "       [ 1.94321462,  0.74168287],\n",
       "       [ 0.70154394,  1.7988177 ],\n",
       "       [-0.25358736,  0.21311545],\n",
       "       [-0.15807423,  2.18056084],\n",
       "       [ 1.65667523,  1.62262856],\n",
       "       [-0.25358736,  0.06629116],\n",
       "       [ 0.98808332,  0.59485858],\n",
       "       [ 0.41500455,  1.123426  ],\n",
       "       [ 0.22397829,  0.15438573],\n",
       "       [-0.0625611 ,  0.12502088],\n",
       "       [ 0.89257019,  2.18056084],\n",
       "       [ 0.22397829, -0.25672226],\n",
       "       [ 0.51051768,  1.85754742],\n",
       "       [ 2.03872775,  0.18375059],\n",
       "       [ 2.13424088, -0.81465453],\n",
       "       [ 0.12846516,  1.06469629],\n",
       "       [ 1.84770149, -1.28449224],\n",
       "       [ 1.84770149,  0.12502088],\n",
       "       [ 0.03295203,  0.03692631],\n",
       "       [ 1.08359645,  0.53612887],\n",
       "       [ 1.37013584, -0.93211396],\n",
       "       [ 1.17910958, -0.99084367],\n",
       "       [ 2.03872775,  0.53612887],\n",
       "       [-0.25358736, -0.25672226],\n",
       "       [-0.0625611 ,  0.00756145],\n",
       "       [ 1.37013584, -1.43131652],\n",
       "       [ 0.98808332,  2.09246627],\n",
       "       [-0.0625611 ,  0.68295315],\n",
       "       [-0.0625611 , -0.2273574 ],\n",
       "       [ 0.98808332,  2.0043717 ],\n",
       "       [ 0.31949142,  0.27184516],\n",
       "       [-0.0625611 ,  0.2424803 ],\n",
       "       [ 0.12846516,  1.88691227],\n",
       "       [ 1.08359645,  0.56549373],\n",
       "       [ 1.65667523, -0.9027491 ],\n",
       "       [-0.0625611 ,  0.21311545],\n",
       "       [-0.25358736, -0.37418169],\n",
       "       [-0.15807423, -0.19799255],\n",
       "       [ 0.41500455,  0.09565602],\n",
       "       [ 0.51051768,  1.24088543],\n",
       "       [ 0.70154394,  0.27184516],\n",
       "       [ 0.79705706,  1.38770971],\n",
       "       [ 1.94321462, -0.93211396],\n",
       "       [ 0.98808332,  0.12502088],\n",
       "       [-0.0625611 ,  1.97500684],\n",
       "       [-0.0625611 ,  0.27184516],\n",
       "       [ 0.22397829, -0.28608712],\n",
       "       [ 0.41500455, -0.46227625],\n",
       "       [ 1.27462271,  1.88691227],\n",
       "       [ 0.89257019,  1.27025028],\n",
       "       [-0.15807423,  1.62262856],\n",
       "       [ 0.03295203, -0.57973568],\n",
       "       [ 0.41500455,  0.00756145],\n",
       "       [ 0.12846516,  0.77104772],\n",
       "       [ 0.03295203, -0.57973568],\n",
       "       [ 1.08359645,  2.09246627],\n",
       "       [ 0.12846516,  0.27184516],\n",
       "       [ 0.12846516,  0.15438573],\n",
       "       [ 1.5611621 ,  1.00596657],\n",
       "       [-0.25358736, -0.4329114 ],\n",
       "       [ 0.70154394, -1.1083031 ],\n",
       "       [-0.15807423, -0.28608712],\n",
       "       [ 1.37013584,  2.0043717 ],\n",
       "       [ 1.46564897,  0.35993973],\n",
       "       [ 0.31949142, -0.52100597],\n",
       "       [ 0.98808332, -1.16703281],\n",
       "       [ 0.98808332,  1.7988177 ],\n",
       "       [ 0.31949142, -0.28608712],\n",
       "       [ 0.31949142,  0.06629116],\n",
       "       [ 0.41500455,  0.15438573],\n",
       "       [-0.15807423,  1.41707457],\n",
       "       [ 0.89257019,  1.09406114],\n",
       "       [ 0.03295203, -0.55037082],\n",
       "       [ 0.98808332,  1.44643942],\n",
       "       [ 0.41500455, -0.13926283],\n",
       "       [ 0.22397829, -0.13926283],\n",
       "       [ 1.84770149, -0.28608712],\n",
       "       [-0.15807423, -0.46227625],\n",
       "       [ 1.94321462,  2.18056084],\n",
       "       [-0.25358736,  0.27184516],\n",
       "       [ 0.03295203, -0.4329114 ],\n",
       "       [ 0.12846516,  1.53453399],\n",
       "       [ 1.46564897,  1.00596657],\n",
       "       [-0.25358736,  0.15438573],\n",
       "       [ 0.03295203, -0.13926283],\n",
       "       [ 0.89257019, -0.55037082],\n",
       "       [ 0.89257019,  1.03533143],\n",
       "       [ 0.31949142, -0.19799255],\n",
       "       [ 1.46564897,  0.06629116],\n",
       "       [ 1.5611621 ,  1.123426  ],\n",
       "       [ 0.12846516,  0.21311545],\n",
       "       [ 0.03295203, -0.25672226],\n",
       "       [ 0.03295203,  1.27025028],\n",
       "       [-0.0625611 ,  0.15438573],\n",
       "       [ 0.41500455,  0.59485858],\n",
       "       [-0.0625611 , -0.37418169],\n",
       "       [-0.15807423,  0.85914229],\n",
       "       [ 2.13424088, -1.04957339],\n",
       "       [ 1.5611621 ,  0.00756145],\n",
       "       [ 0.31949142,  0.06629116],\n",
       "       [ 0.22397829,  0.03692631],\n",
       "       [ 0.41500455, -0.46227625],\n",
       "       [ 0.51051768,  1.74008799],\n",
       "       [ 1.46564897, -1.04957339],\n",
       "       [ 0.89257019, -0.57973568],\n",
       "       [ 0.41500455,  0.27184516],\n",
       "       [ 0.41500455,  1.00596657],\n",
       "       [ 2.03872775, -1.19639767],\n",
       "       [ 1.94321462, -0.66783025],\n",
       "       [ 0.79705706,  0.53612887],\n",
       "       [ 0.03295203,  0.03692631],\n",
       "       [ 1.5611621 , -1.28449224],\n",
       "       [ 2.13424088, -0.69719511],\n",
       "       [ 2.13424088,  0.38930459],\n",
       "       [ 0.12846516,  0.09565602],\n",
       "       [ 2.03872775,  1.76945285],\n",
       "       [-0.0625611 ,  0.30121002],\n",
       "       [ 0.79705706, -1.1083031 ],\n",
       "       [ 0.79705706,  0.12502088],\n",
       "       [ 0.41500455, -0.49164111],\n",
       "       [ 0.31949142,  0.50676401],\n",
       "       [ 1.94321462, -1.37258681],\n",
       "       [ 0.41500455, -0.16862769],\n",
       "       [ 0.98808332, -1.07893824],\n",
       "       [ 0.60603081,  2.03373655],\n",
       "       [ 1.08359645, -1.22576253],\n",
       "       [ 1.84770149, -1.07893824],\n",
       "       [ 1.75218836, -0.28608712],\n",
       "       [ 1.08359645, -0.9027491 ],\n",
       "       [ 0.12846516,  0.03692631],\n",
       "       [ 0.89257019, -1.04957339],\n",
       "       [ 0.98808332, -1.02020853],\n",
       "       [ 0.98808332, -1.07893824],\n",
       "       [ 0.89257019, -1.37258681],\n",
       "       [ 0.70154394, -0.72655996],\n",
       "       [ 2.13424088, -0.81465453],\n",
       "       [ 0.12846516, -0.31545197],\n",
       "       [ 0.79705706, -0.84401939],\n",
       "       [ 1.27462271, -1.37258681],\n",
       "       [ 1.17910958, -1.46068138],\n",
       "       [-0.15807423, -1.07893824],\n",
       "       [ 1.08359645, -0.99084367]])"
      ]
     },
     "execution_count": 8,
     "metadata": {},
     "output_type": "execute_result"
    }
   ],
   "source": [
    "#Feature Scaling\n",
    "sc = StandardScaler()\n",
    "X = sc.fit_transform(X)\n",
    "X"
   ]
  },
  {
   "cell_type": "code",
   "execution_count": 9,
   "metadata": {},
   "outputs": [],
   "source": [
    "X_train,X_test,y_train,y_test=train_test_split(X,y,test_size=0.20)"
   ]
  },
  {
   "cell_type": "markdown",
   "metadata": {},
   "source": [
    "## SMOTE"
   ]
  },
  {
   "cell_type": "code",
   "execution_count": 11,
   "metadata": {},
   "outputs": [],
   "source": [
    "#Over sampling the dataset\n",
    "\n",
    "smt=SMOTE()\n",
    "oX_train, oy_train = smt.fit_resample(X_train, y_train)"
   ]
  },
  {
   "cell_type": "code",
   "execution_count": 12,
   "metadata": {},
   "outputs": [
    {
     "data": {
      "image/png": "[encoded data removed]",
      "text/plain": [
       "<Figure size 640x480 with 1 Axes>"
      ]
     },
     "metadata": {},
     "output_type": "display_data"
    }
   ],
   "source": [
    "#Checking newly oversampled data\n",
    "_, counts=np.unique(oy_train,return_counts=True)\n",
    "\n",
    "\n",
    "purchased=counts[0]\n",
    "notpurchased=counts[1]\n",
    "\n",
    "\n",
    "plt.bar(0,purchased,label='Purchased')\n",
    "plt.bar(1,notpurchased,label='Not Purchased')\n",
    "plt.xticks([])\n",
    "plt.ylabel('Count')\n",
    "plt.legend()\n",
    "plt.show()"
   ]
  },
  {
   "cell_type": "markdown",
   "metadata": {},
   "source": [
    "## Training the model"
   ]
  },
  {
   "cell_type": "markdown",
   "metadata": {},
   "source": [
    "<div style=\"background-color:##EDF9FF\">\n",
    "  <ul><li><h3>Logistic Regression</h3></li></ul>\n",
    "</div>"
   ]
  },
  {
   "cell_type": "code",
   "execution_count": 13,
   "metadata": {},
   "outputs": [
    {
     "data": {
      "text/html": [
       "<style>#sk-container-id-1 {color: black;background-color: white;}#sk-container-id-1 pre{padding: 0;}#sk-container-id-1 div.sk-toggleable {background-color: white;}#sk-container-id-1 label.sk-toggleable__label {cursor: pointer;display: block;width: 100%;margin-bottom: 0;padding: 0.3em;box-sizing: border-box;text-align: center;}#sk-container-id-1 label.sk-toggleable__label-arrow:before {content: \"▸\";float: left;margin-right: 0.25em;color: #696969;}#sk-container-id-1 label.sk-toggleable__label-arrow:hover:before {color: black;}#sk-container-id-1 div.sk-estimator:hover label.sk-toggleable__label-arrow:before {color: black;}#sk-container-id-1 div.sk-toggleable__content {max-height: 0;max-width: 0;overflow: hidden;text-align: left;background-color: #f0f8ff;}#sk-container-id-1 div.sk-toggleable__content pre {margin: 0.2em;color: black;border-radius: 0.25em;background-color: #f0f8ff;}#sk-container-id-1 input.sk-toggleable__control:checked~div.sk-toggleable__content {max-height: 200px;max-width: 100%;overflow: auto;}#sk-container-id-1 input.sk-toggleable__control:checked~label.sk-toggleable__label-arrow:before {content: \"▾\";}#sk-container-id-1 div.sk-estimator input.sk-toggleable__control:checked~label.sk-toggleable__label {background-color: #d4ebff;}#sk-container-id-1 div.sk-label input.sk-toggleable__control:checked~label.sk-toggleable__label {background-color: #d4ebff;}#sk-container-id-1 input.sk-hidden--visually {border: 0;clip: rect(1px 1px 1px 1px);clip: rect(1px, 1px, 1px, 1px);height: 1px;margin: -1px;overflow: hidden;padding: 0;position: absolute;width: 1px;}#sk-container-id-1 div.sk-estimator {font-family: monospace;background-color: #f0f8ff;border: 1px dotted black;border-radius: 0.25em;box-sizing: border-box;margin-bottom: 0.5em;}#sk-container-id-1 div.sk-estimator:hover {background-color: #d4ebff;}#sk-container-id-1 div.sk-parallel-item::after {content: \"\";width: 100%;border-bottom: 1px solid gray;flex-grow: 1;}#sk-container-id-1 div.sk-label:hover label.sk-toggleable__label {background-color: #d4ebff;}#sk-container-id-1 div.sk-serial::before {content: \"\";position: absolute;border-left: 1px solid gray;box-sizing: border-box;top: 0;bottom: 0;left: 50%;z-index: 0;}#sk-container-id-1 div.sk-serial {display: flex;flex-direction: column;align-items: center;background-color: white;padding-right: 0.2em;padding-left: 0.2em;position: relative;}#sk-container-id-1 div.sk-item {position: relative;z-index: 1;}#sk-container-id-1 div.sk-parallel {display: flex;align-items: stretch;justify-content: center;background-color: white;position: relative;}#sk-container-id-1 div.sk-item::before, #sk-container-id-1 div.sk-parallel-item::before {content: \"\";position: absolute;border-left: 1px solid gray;box-sizing: border-box;top: 0;bottom: 0;left: 50%;z-index: -1;}#sk-container-id-1 div.sk-parallel-item {display: flex;flex-direction: column;z-index: 1;position: relative;background-color: white;}#sk-container-id-1 div.sk-parallel-item:first-child::after {align-self: flex-end;width: 50%;}#sk-container-id-1 div.sk-parallel-item:last-child::after {align-self: flex-start;width: 50%;}#sk-container-id-1 div.sk-parallel-item:only-child::after {width: 0;}#sk-container-id-1 div.sk-dashed-wrapped {border: 1px dashed gray;margin: 0 0.4em 0.5em 0.4em;box-sizing: border-box;padding-bottom: 0.4em;background-color: white;}#sk-container-id-1 div.sk-label label {font-family: monospace;font-weight: bold;display: inline-block;line-height: 1.2em;}#sk-container-id-1 div.sk-label-container {text-align: center;}#sk-container-id-1 div.sk-container {/* jupyter's `normalize.less` sets `[hidden] { display: none; }` but bootstrap.min.css set `[hidden] { display: none !important; }` so we also need the `!important` here to be able to override the default hidden behavior on the sphinx rendered scikit-learn.org. See: https://github.com/scikit-learn/scikit-learn/issues/21755 */display: inline-block !important;position: relative;}#sk-container-id-1 div.sk-text-repr-fallback {display: none;}</style><div id=\"sk-container-id-1\" class=\"sk-top-container\"><div class=\"sk-text-repr-fallback\"><pre>LogisticRegression(C=1, multi_class=&#x27;ovr&#x27;, solver=&#x27;liblinear&#x27;)</pre><b>In a Jupyter environment, please rerun this cell to show the HTML representation or trust the notebook. <br />On GitHub, the HTML representation is unable to render, please try loading this page with nbviewer.org.</b></div><div class=\"sk-container\" hidden><div class=\"sk-item\"><div class=\"sk-estimator sk-toggleable\"><input class=\"sk-toggleable__control sk-hidden--visually\" id=\"sk-estimator-id-1\" type=\"checkbox\" checked><label for=\"sk-estimator-id-1\" class=\"sk-toggleable__label sk-toggleable__label-arrow\">LogisticRegression</label><div class=\"sk-toggleable__content\"><pre>LogisticRegression(C=1, multi_class=&#x27;ovr&#x27;, solver=&#x27;liblinear&#x27;)</pre></div></div></div></div></div>"
      ],
      "text/plain": [
       "LogisticRegression(C=1, multi_class='ovr', solver='liblinear')"
      ]
     },
     "execution_count": 13,
     "metadata": {},
     "output_type": "execute_result"
    }
   ],
   "source": [
    "logreg = LogisticRegression(C=1,solver='liblinear', multi_class='ovr')\n",
    "logreg.fit(oX_train,oy_train)"
   ]
  },
  {
   "cell_type": "markdown",
   "metadata": {},
   "source": [
    "<div style=\"background-color:##EDF9FF\">\n",
    "  <ul><li><h3>Decision Tree</h3></li></ul>\n",
    "</div>"
   ]
  },
  {
   "cell_type": "code",
   "execution_count": 14,
   "metadata": {},
   "outputs": [
    {
     "data": {
      "text/html": [
       "<style>#sk-container-id-2 {color: black;background-color: white;}#sk-container-id-2 pre{padding: 0;}#sk-container-id-2 div.sk-toggleable {background-color: white;}#sk-container-id-2 label.sk-toggleable__label {cursor: pointer;display: block;width: 100%;margin-bottom: 0;padding: 0.3em;box-sizing: border-box;text-align: center;}#sk-container-id-2 label.sk-toggleable__label-arrow:before {content: \"▸\";float: left;margin-right: 0.25em;color: #696969;}#sk-container-id-2 label.sk-toggleable__label-arrow:hover:before {color: black;}#sk-container-id-2 div.sk-estimator:hover label.sk-toggleable__label-arrow:before {color: black;}#sk-container-id-2 div.sk-toggleable__content {max-height: 0;max-width: 0;overflow: hidden;text-align: left;background-color: #f0f8ff;}#sk-container-id-2 div.sk-toggleable__content pre {margin: 0.2em;color: black;border-radius: 0.25em;background-color: #f0f8ff;}#sk-container-id-2 input.sk-toggleable__control:checked~div.sk-toggleable__content {max-height: 200px;max-width: 100%;overflow: auto;}#sk-container-id-2 input.sk-toggleable__control:checked~label.sk-toggleable__label-arrow:before {content: \"▾\";}#sk-container-id-2 div.sk-estimator input.sk-toggleable__control:checked~label.sk-toggleable__label {background-color: #d4ebff;}#sk-container-id-2 div.sk-label input.sk-toggleable__control:checked~label.sk-toggleable__label {background-color: #d4ebff;}#sk-container-id-2 input.sk-hidden--visually {border: 0;clip: rect(1px 1px 1px 1px);clip: rect(1px, 1px, 1px, 1px);height: 1px;margin: -1px;overflow: hidden;padding: 0;position: absolute;width: 1px;}#sk-container-id-2 div.sk-estimator {font-family: monospace;background-color: #f0f8ff;border: 1px dotted black;border-radius: 0.25em;box-sizing: border-box;margin-bottom: 0.5em;}#sk-container-id-2 div.sk-estimator:hover {background-color: #d4ebff;}#sk-container-id-2 div.sk-parallel-item::after {content: \"\";width: 100%;border-bottom: 1px solid gray;flex-grow: 1;}#sk-container-id-2 div.sk-label:hover label.sk-toggleable__label {background-color: #d4ebff;}#sk-container-id-2 div.sk-serial::before {content: \"\";position: absolute;border-left: 1px solid gray;box-sizing: border-box;top: 0;bottom: 0;left: 50%;z-index: 0;}#sk-container-id-2 div.sk-serial {display: flex;flex-direction: column;align-items: center;background-color: white;padding-right: 0.2em;padding-left: 0.2em;position: relative;}#sk-container-id-2 div.sk-item {position: relative;z-index: 1;}#sk-container-id-2 div.sk-parallel {display: flex;align-items: stretch;justify-content: center;background-color: white;position: relative;}#sk-container-id-2 div.sk-item::before, #sk-container-id-2 div.sk-parallel-item::before {content: \"\";position: absolute;border-left: 1px solid gray;box-sizing: border-box;top: 0;bottom: 0;left: 50%;z-index: -1;}#sk-container-id-2 div.sk-parallel-item {display: flex;flex-direction: column;z-index: 1;position: relative;background-color: white;}#sk-container-id-2 div.sk-parallel-item:first-child::after {align-self: flex-end;width: 50%;}#sk-container-id-2 div.sk-parallel-item:last-child::after {align-self: flex-start;width: 50%;}#sk-container-id-2 div.sk-parallel-item:only-child::after {width: 0;}#sk-container-id-2 div.sk-dashed-wrapped {border: 1px dashed gray;margin: 0 0.4em 0.5em 0.4em;box-sizing: border-box;padding-bottom: 0.4em;background-color: white;}#sk-container-id-2 div.sk-label label {font-family: monospace;font-weight: bold;display: inline-block;line-height: 1.2em;}#sk-container-id-2 div.sk-label-container {text-align: center;}#sk-container-id-2 div.sk-container {/* jupyter's `normalize.less` sets `[hidden] { display: none; }` but bootstrap.min.css set `[hidden] { display: none !important; }` so we also need the `!important` here to be able to override the default hidden behavior on the sphinx rendered scikit-learn.org. See: https://github.com/scikit-learn/scikit-learn/issues/21755 */display: inline-block !important;position: relative;}#sk-container-id-2 div.sk-text-repr-fallback {display: none;}</style><div id=\"sk-container-id-2\" class=\"sk-top-container\"><div class=\"sk-text-repr-fallback\"><pre>DecisionTreeClassifier(criterion=&#x27;entropy&#x27;)</pre><b>In a Jupyter environment, please rerun this cell to show the HTML representation or trust the notebook. <br />On GitHub, the HTML representation is unable to render, please try loading this page with nbviewer.org.</b></div><div class=\"sk-container\" hidden><div class=\"sk-item\"><div class=\"sk-estimator sk-toggleable\"><input class=\"sk-toggleable__control sk-hidden--visually\" id=\"sk-estimator-id-2\" type=\"checkbox\" checked><label for=\"sk-estimator-id-2\" class=\"sk-toggleable__label sk-toggleable__label-arrow\">DecisionTreeClassifier</label><div class=\"sk-toggleable__content\"><pre>DecisionTreeClassifier(criterion=&#x27;entropy&#x27;)</pre></div></div></div></div></div>"
      ],
      "text/plain": [
       "DecisionTreeClassifier(criterion='entropy')"
      ]
     },
     "execution_count": 14,
     "metadata": {},
     "output_type": "execute_result"
    }
   ],
   "source": [
    "d_tree=DecisionTreeClassifier(criterion='entropy',splitter='best')\n",
    "d_tree.fit(oX_train,oy_train)"
   ]
  },
  {
   "cell_type": "markdown",
   "metadata": {},
   "source": [
    "## Confusion Matrix"
   ]
  },
  {
   "cell_type": "markdown",
   "metadata": {},
   "source": [
    "<div style=\"background-color:##EDF9FF\">\n",
    "  <ul><li><h3>Logistic Regression</h3></li></ul>\n",
    "</div>"
   ]
  },
  {
   "cell_type": "code",
   "execution_count": 21,
   "metadata": {},
   "outputs": [],
   "source": [
    "l_pred=logreg.predict(X_test)\n",
    "cnf_matrix = confusion_matrix(y_test, l_pred)"
   ]
  },
  {
   "cell_type": "code",
   "execution_count": 22,
   "metadata": {
    "scrolled": true
   },
   "outputs": [
    {
     "data": {
      "text/plain": [
       "Text(0.5, 23.52222222222222, 'Predicted label')"
      ]
     },
     "execution_count": 22,
     "metadata": {},
     "output_type": "execute_result"
    },
    {
     "data": {
      "image/png": "[encoded data removed]",
      "text/plain": [
       "<Figure size 640x480 with 2 Axes>"
      ]
     },
     "metadata": {},
     "output_type": "display_data"
    }
   ],
   "source": [
    "sns.heatmap(pd.DataFrame(cnf_matrix), annot=True)\n",
    "plt.title('Confusion matrix')\n",
    "plt.ylabel('Actual label')\n",
    "plt.xlabel('Predicted label')"
   ]
  },
  {
   "cell_type": "code",
   "execution_count": 23,
   "metadata": {},
   "outputs": [
    {
     "name": "stdout",
     "output_type": "stream",
     "text": [
      "Accuracy: 0.85\n",
      "Precision: 0.8055555555555556\n",
      "Recall: 0.8529411764705882\n"
     ]
    }
   ],
   "source": [
    "print(\"Accuracy:\",metrics.accuracy_score(y_test, l_pred))\n",
    "print(\"Precision:\",metrics.precision_score(y_test, l_pred))\n",
    "print(\"Recall:\",metrics.recall_score(y_test, l_pred))"
   ]
  },
  {
   "cell_type": "markdown",
   "metadata": {},
   "source": [
    "<div style=\"background-color:##EDF9FF\">\n",
    "  <ul><li><h3>Decision Tree</h3></li></ul>\n",
    "</div>"
   ]
  },
  {
   "cell_type": "code",
   "execution_count": 24,
   "metadata": {},
   "outputs": [],
   "source": [
    "d_pred=d_tree.predict(X_test)\n",
    "cnf_matrix = confusion_matrix(y_test, d_pred)\n"
   ]
  },
  {
   "cell_type": "code",
   "execution_count": 25,
   "metadata": {
    "scrolled": true
   },
   "outputs": [
    {
     "data": {
      "text/plain": [
       "Text(0.5, 23.52222222222222, 'Predicted label')"
      ]
     },
     "execution_count": 25,
     "metadata": {},
     "output_type": "execute_result"
    },
    {
     "data": {
      "image/png": "[encoded data removed]",
      "text/plain": [
       "<Figure size 640x480 with 2 Axes>"
      ]
     },
     "metadata": {},
     "output_type": "display_data"
    }
   ],
   "source": [
    "sns.heatmap(pd.DataFrame(cnf_matrix), annot=True)\n",
    "plt.title('Confusion matrix')\n",
    "plt.ylabel('Actual label')\n",
    "plt.xlabel('Predicted label')"
   ]
  },
  {
   "cell_type": "code",
   "execution_count": 26,
   "metadata": {},
   "outputs": [
    {
     "name": "stdout",
     "output_type": "stream",
     "text": [
      "Accuracy: 0.7625\n",
      "Precision: 0.7586206896551724\n",
      "Recall: 0.6470588235294118\n"
     ]
    }
   ],
   "source": [
    "print(\"Accuracy:\",metrics.accuracy_score(y_test, d_pred))\n",
    "print(\"Precision:\",metrics.precision_score(y_test, d_pred))\n",
    "print(\"Recall:\",metrics.recall_score(y_test, d_pred))"
   ]
  },
  {
   "cell_type": "markdown",
   "metadata": {},
   "source": [
    "## ROC Curve"
   ]
  },
  {
   "cell_type": "code",
   "execution_count": 27,
   "metadata": {
    "scrolled": false
   },
   "outputs": [
    {
     "data": {
      "image/png": "[encoded data removed]",
      "text/plain": [
       "<Figure size 640x480 with 1 Axes>"
      ]
     },
     "metadata": {},
     "output_type": "display_data"
    }
   ],
   "source": [
    "plt.figure()\n",
    "#For logistic regression\n",
    "logit_roc_auc = metrics.roc_auc_score(y_test, logreg.predict(X_test))\n",
    "lfpr, ltpr, lthresholds = metrics.roc_curve(y_test, logreg.predict_proba(X_test)[:,1])\n",
    "plt.plot(lfpr, ltpr, label='Logistic Regression (area = %0.2f)' % logit_roc_auc)\n",
    "\n",
    "#For Decision Tree\n",
    "decision_roc_auc = metrics.roc_auc_score(y_test, d_tree.predict(X_test))\n",
    "dfpr, dtpr, lthresholds = metrics.roc_curve(y_test, d_tree.predict_proba(X_test)[:,1])\n",
    "plt.plot(dfpr, dtpr, label='Decision Tree (area = %0.2f)' % decision_roc_auc)\n",
    "\n",
    "\n",
    "plt.plot([0, 1], [0, 1],'r--')\n",
    "plt.xlim([0.0, 1.0])\n",
    "plt.ylim([0.0, 1.0])\n",
    "plt.xlabel('False Positive Rate')\n",
    "plt.ylabel('True Positive Rate')\n",
    "plt.title('Receiver operating characteristic')\n",
    "plt.legend(loc=\"lower right\")\n",
    "plt.show()\n"
   ]
  },
  {
   "cell_type": "markdown",
   "metadata": {},
   "source": [
    "<b><i>Conclusion</i></b>: In this demonstration, we have gained an understanding on how to apply preformance measurements to evaluate the model."
   ]
  }
 ],
 "metadata": {
  "kernelspec": {
   "display_name": "Python 3 (ipykernel)",
   "language": "python",
   "name": "python3"
  },
  "language_info": {
   "codemirror_mode": {
    "name": "ipython",
    "version": 3
   },
   "file_extension": ".py",
   "mimetype": "text/x-python",
   "name": "python",
   "nbconvert_exporter": "python",
   "pygments_lexer": "ipython3",
   "version": "3.10.9"
  }
 },
 "nbformat": 4,
 "nbformat_minor": 2
}
