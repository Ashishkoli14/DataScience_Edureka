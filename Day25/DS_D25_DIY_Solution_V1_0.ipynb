{
 "cells": [
  {
   "cell_type": "markdown",
   "metadata": {
    "id": "Shf_IPXuObtQ"
   },
   "source": [
    "## Day 25- DIY Solution\n",
    "\n",
    "**Q1. Problem Statement: Probability Distribution** <br>\n",
    "Load the exam.csv dataset into a DataFrame and perform the following tasks on “math score,” ”reading score,” and “writing score” columns:\n",
    "1. Plot the distributions using the seaborn library\n",
    "2. Find the mean and standard deviation using the scipy library\n",
    "3. Find skewness and kurtosis using the stats module from the scipy library\n",
    "4. Find Standard Normal Distribution (z-score) using the stats module from the scipy\n",
    "library\n",
    "5. Plot the Z distribution using the seaborn library\n"
   ]
  },
  {
   "cell_type": "markdown",
   "metadata": {
    "id": "isNjX9WiObtU"
   },
   "source": [
    "**Step-1:** Importing Libraries."
   ]
  },
  {
   "cell_type": "code",
   "execution_count": 1,
   "metadata": {
    "id": "JQg9TeNYObtV"
   },
   "outputs": [],
   "source": [
    "# imporing packages\n",
    "\n",
    "import pandas as pd\n",
    "import numpy as np\n",
    "import seaborn as sns\n",
    "import matplotlib.pyplot as plt"
   ]
  },
  {
   "cell_type": "markdown",
   "metadata": {
    "id": "EvDuPbQWObtW"
   },
   "source": [
    "**Step-2:** Load the CSV file in to a DataFrame "
   ]
  },
  {
   "cell_type": "code",
   "execution_count": 2,
   "metadata": {
    "colab": {
     "base_uri": "https://localhost:8080/",
     "height": 485
    },
    "id": "lC9t1cDuObtW",
    "outputId": "0cb61f7d-230d-4fb5-90a1-82a21a077f56"
   },
   "outputs": [
    {
     "data": {
      "text/html": [
       "<div>\n",
       "<style scoped>\n",
       "    .dataframe tbody tr th:only-of-type {\n",
       "        vertical-align: middle;\n",
       "    }\n",
       "\n",
       "    .dataframe tbody tr th {\n",
       "        vertical-align: top;\n",
       "    }\n",
       "\n",
       "    .dataframe thead th {\n",
       "        text-align: right;\n",
       "    }\n",
       "</style>\n",
       "<table border=\"1\" class=\"dataframe\">\n",
       "  <thead>\n",
       "    <tr style=\"text-align: right;\">\n",
       "      <th></th>\n",
       "      <th>gender</th>\n",
       "      <th>race/ethnicity</th>\n",
       "      <th>parental level of education</th>\n",
       "      <th>lunch</th>\n",
       "      <th>test preparation course</th>\n",
       "      <th>math score</th>\n",
       "      <th>reading score</th>\n",
       "      <th>writing score</th>\n",
       "    </tr>\n",
       "  </thead>\n",
       "  <tbody>\n",
       "    <tr>\n",
       "      <th>0</th>\n",
       "      <td>male</td>\n",
       "      <td>group B</td>\n",
       "      <td>high school</td>\n",
       "      <td>free/reduced</td>\n",
       "      <td>none</td>\n",
       "      <td>53</td>\n",
       "      <td>50</td>\n",
       "      <td>46</td>\n",
       "    </tr>\n",
       "    <tr>\n",
       "      <th>1</th>\n",
       "      <td>male</td>\n",
       "      <td>group A</td>\n",
       "      <td>associate's degree</td>\n",
       "      <td>standard</td>\n",
       "      <td>none</td>\n",
       "      <td>73</td>\n",
       "      <td>73</td>\n",
       "      <td>68</td>\n",
       "    </tr>\n",
       "    <tr>\n",
       "      <th>2</th>\n",
       "      <td>male</td>\n",
       "      <td>group C</td>\n",
       "      <td>some high school</td>\n",
       "      <td>free/reduced</td>\n",
       "      <td>completed</td>\n",
       "      <td>45</td>\n",
       "      <td>43</td>\n",
       "      <td>41</td>\n",
       "    </tr>\n",
       "    <tr>\n",
       "      <th>3</th>\n",
       "      <td>female</td>\n",
       "      <td>group D</td>\n",
       "      <td>some high school</td>\n",
       "      <td>standard</td>\n",
       "      <td>completed</td>\n",
       "      <td>80</td>\n",
       "      <td>73</td>\n",
       "      <td>76</td>\n",
       "    </tr>\n",
       "    <tr>\n",
       "      <th>4</th>\n",
       "      <td>female</td>\n",
       "      <td>group A</td>\n",
       "      <td>bachelor's degree</td>\n",
       "      <td>standard</td>\n",
       "      <td>none</td>\n",
       "      <td>74</td>\n",
       "      <td>95</td>\n",
       "      <td>92</td>\n",
       "    </tr>\n",
       "    <tr>\n",
       "      <th>...</th>\n",
       "      <td>...</td>\n",
       "      <td>...</td>\n",
       "      <td>...</td>\n",
       "      <td>...</td>\n",
       "      <td>...</td>\n",
       "      <td>...</td>\n",
       "      <td>...</td>\n",
       "      <td>...</td>\n",
       "    </tr>\n",
       "    <tr>\n",
       "      <th>995</th>\n",
       "      <td>male</td>\n",
       "      <td>group D</td>\n",
       "      <td>some college</td>\n",
       "      <td>standard</td>\n",
       "      <td>completed</td>\n",
       "      <td>49</td>\n",
       "      <td>46</td>\n",
       "      <td>55</td>\n",
       "    </tr>\n",
       "    <tr>\n",
       "      <th>996</th>\n",
       "      <td>male</td>\n",
       "      <td>group E</td>\n",
       "      <td>master's degree</td>\n",
       "      <td>free/reduced</td>\n",
       "      <td>completed</td>\n",
       "      <td>78</td>\n",
       "      <td>78</td>\n",
       "      <td>80</td>\n",
       "    </tr>\n",
       "    <tr>\n",
       "      <th>997</th>\n",
       "      <td>female</td>\n",
       "      <td>group C</td>\n",
       "      <td>some college</td>\n",
       "      <td>free/reduced</td>\n",
       "      <td>completed</td>\n",
       "      <td>37</td>\n",
       "      <td>54</td>\n",
       "      <td>53</td>\n",
       "    </tr>\n",
       "    <tr>\n",
       "      <th>998</th>\n",
       "      <td>female</td>\n",
       "      <td>group A</td>\n",
       "      <td>associate's degree</td>\n",
       "      <td>standard</td>\n",
       "      <td>none</td>\n",
       "      <td>53</td>\n",
       "      <td>55</td>\n",
       "      <td>60</td>\n",
       "    </tr>\n",
       "    <tr>\n",
       "      <th>999</th>\n",
       "      <td>female</td>\n",
       "      <td>group B</td>\n",
       "      <td>associate's degree</td>\n",
       "      <td>standard</td>\n",
       "      <td>completed</td>\n",
       "      <td>88</td>\n",
       "      <td>100</td>\n",
       "      <td>100</td>\n",
       "    </tr>\n",
       "  </tbody>\n",
       "</table>\n",
       "<p>1000 rows × 8 columns</p>\n",
       "</div>"
      ],
      "text/plain": [
       "     gender race/ethnicity parental level of education         lunch  \\\n",
       "0      male        group B                 high school  free/reduced   \n",
       "1      male        group A          associate's degree      standard   \n",
       "2      male        group C            some high school  free/reduced   \n",
       "3    female        group D            some high school      standard   \n",
       "4    female        group A           bachelor's degree      standard   \n",
       "..      ...            ...                         ...           ...   \n",
       "995    male        group D                some college      standard   \n",
       "996    male        group E             master's degree  free/reduced   \n",
       "997  female        group C                some college  free/reduced   \n",
       "998  female        group A          associate's degree      standard   \n",
       "999  female        group B          associate's degree      standard   \n",
       "\n",
       "    test preparation course  math score  reading score  writing score  \n",
       "0                      none          53             50             46  \n",
       "1                      none          73             73             68  \n",
       "2                 completed          45             43             41  \n",
       "3                 completed          80             73             76  \n",
       "4                      none          74             95             92  \n",
       "..                      ...         ...            ...            ...  \n",
       "995               completed          49             46             55  \n",
       "996               completed          78             78             80  \n",
       "997               completed          37             54             53  \n",
       "998                    none          53             55             60  \n",
       "999               completed          88            100            100  \n",
       "\n",
       "[1000 rows x 8 columns]"
      ]
     },
     "execution_count": 2,
     "metadata": {},
     "output_type": "execute_result"
    }
   ],
   "source": [
    "df = pd.read_csv(\"exam.csv\")\n",
    "df"
   ]
  },
  {
   "cell_type": "markdown",
   "metadata": {
    "id": "tgV5ZsN_ObtX"
   },
   "source": [
    "**Step-3:** Analyzing the rows and column of  DataFrame."
   ]
  },
  {
   "cell_type": "code",
   "execution_count": 3,
   "metadata": {
    "colab": {
     "base_uri": "https://localhost:8080/"
    },
    "id": "J1RBM2cpObtX",
    "outputId": "1d60d010-40c1-4aa6-b991-37aecd0a8773"
   },
   "outputs": [
    {
     "name": "stdout",
     "output_type": "stream",
     "text": [
      "Number of rows: 1000\n",
      "Number of columns: 8\n"
     ]
    }
   ],
   "source": [
    "# shape of the data\n",
    "\n",
    "print('Number of rows:',df.shape[0])\n",
    "print('Number of columns:',df.shape[1])"
   ]
  },
  {
   "cell_type": "code",
   "execution_count": 4,
   "metadata": {
    "colab": {
     "base_uri": "https://localhost:8080/"
    },
    "id": "Dl3pqKazx4aO",
    "outputId": "fd088c49-b5c0-4fce-8431-85078050f212"
   },
   "outputs": [
    {
     "name": "stdout",
     "output_type": "stream",
     "text": [
      "<class 'pandas.core.frame.DataFrame'>\n",
      "RangeIndex: 1000 entries, 0 to 999\n",
      "Data columns (total 8 columns):\n",
      " #   Column                       Non-Null Count  Dtype \n",
      "---  ------                       --------------  ----- \n",
      " 0   gender                       1000 non-null   object\n",
      " 1   race/ethnicity               1000 non-null   object\n",
      " 2   parental level of education  1000 non-null   object\n",
      " 3   lunch                        1000 non-null   object\n",
      " 4   test preparation course      1000 non-null   object\n",
      " 5   math score                   1000 non-null   int64 \n",
      " 6   reading score                1000 non-null   int64 \n",
      " 7   writing score                1000 non-null   int64 \n",
      "dtypes: int64(3), object(5)\n",
      "memory usage: 62.6+ KB\n"
     ]
    }
   ],
   "source": [
    "df.info()"
   ]
  },
  {
   "cell_type": "code",
   "execution_count": 5,
   "metadata": {
    "colab": {
     "base_uri": "https://localhost:8080/",
     "height": 300
    },
    "id": "Aon-BNOryAc8",
    "outputId": "66fee3df-cec6-4a3f-ddf5-07df6b7f89d2"
   },
   "outputs": [
    {
     "data": {
      "text/html": [
       "<div>\n",
       "<style scoped>\n",
       "    .dataframe tbody tr th:only-of-type {\n",
       "        vertical-align: middle;\n",
       "    }\n",
       "\n",
       "    .dataframe tbody tr th {\n",
       "        vertical-align: top;\n",
       "    }\n",
       "\n",
       "    .dataframe thead th {\n",
       "        text-align: right;\n",
       "    }\n",
       "</style>\n",
       "<table border=\"1\" class=\"dataframe\">\n",
       "  <thead>\n",
       "    <tr style=\"text-align: right;\">\n",
       "      <th></th>\n",
       "      <th>math score</th>\n",
       "      <th>reading score</th>\n",
       "      <th>writing score</th>\n",
       "    </tr>\n",
       "  </thead>\n",
       "  <tbody>\n",
       "    <tr>\n",
       "      <th>count</th>\n",
       "      <td>1000.000000</td>\n",
       "      <td>1000.000000</td>\n",
       "      <td>1000.000000</td>\n",
       "    </tr>\n",
       "    <tr>\n",
       "      <th>mean</th>\n",
       "      <td>67.095000</td>\n",
       "      <td>70.189000</td>\n",
       "      <td>68.850000</td>\n",
       "    </tr>\n",
       "    <tr>\n",
       "      <th>std</th>\n",
       "      <td>14.682219</td>\n",
       "      <td>13.816808</td>\n",
       "      <td>14.465156</td>\n",
       "    </tr>\n",
       "    <tr>\n",
       "      <th>min</th>\n",
       "      <td>10.000000</td>\n",
       "      <td>21.000000</td>\n",
       "      <td>14.000000</td>\n",
       "    </tr>\n",
       "    <tr>\n",
       "      <th>25%</th>\n",
       "      <td>57.000000</td>\n",
       "      <td>60.750000</td>\n",
       "      <td>59.000000</td>\n",
       "    </tr>\n",
       "    <tr>\n",
       "      <th>50%</th>\n",
       "      <td>67.000000</td>\n",
       "      <td>71.000000</td>\n",
       "      <td>70.000000</td>\n",
       "    </tr>\n",
       "    <tr>\n",
       "      <th>75%</th>\n",
       "      <td>77.000000</td>\n",
       "      <td>80.000000</td>\n",
       "      <td>78.000000</td>\n",
       "    </tr>\n",
       "    <tr>\n",
       "      <th>max</th>\n",
       "      <td>100.000000</td>\n",
       "      <td>100.000000</td>\n",
       "      <td>100.000000</td>\n",
       "    </tr>\n",
       "  </tbody>\n",
       "</table>\n",
       "</div>"
      ],
      "text/plain": [
       "        math score  reading score  writing score\n",
       "count  1000.000000    1000.000000    1000.000000\n",
       "mean     67.095000      70.189000      68.850000\n",
       "std      14.682219      13.816808      14.465156\n",
       "min      10.000000      21.000000      14.000000\n",
       "25%      57.000000      60.750000      59.000000\n",
       "50%      67.000000      71.000000      70.000000\n",
       "75%      77.000000      80.000000      78.000000\n",
       "max     100.000000     100.000000     100.000000"
      ]
     },
     "execution_count": 5,
     "metadata": {},
     "output_type": "execute_result"
    }
   ],
   "source": [
    "df.describe()"
   ]
  },
  {
   "cell_type": "markdown",
   "metadata": {
    "id": "pJ-qDiDDObtY"
   },
   "source": [
    "**Step-4:** Plotting the data ditribution graph for given column using seaborn"
   ]
  },
  {
   "cell_type": "code",
   "execution_count": 6,
   "metadata": {
    "colab": {
     "base_uri": "https://localhost:8080/"
    },
    "id": "DLDMPQRYyWG1",
    "outputId": "1762e771-f156-478a-e304-111f3c2545ed"
   },
   "outputs": [
    {
     "ename": "NameError",
     "evalue": "name 'ax' is not defined",
     "output_type": "error",
     "traceback": [
      "\u001b[1;31m---------------------------------------------------------------------------\u001b[0m",
      "\u001b[1;31mNameError\u001b[0m                                 Traceback (most recent call last)",
      "Cell \u001b[1;32mIn[6], line 1\u001b[0m\n\u001b[1;32m----> 1\u001b[0m \u001b[43max\u001b[49m\u001b[38;5;241m.\u001b[39mflatten()\n",
      "\u001b[1;31mNameError\u001b[0m: name 'ax' is not defined"
     ]
    }
   ],
   "source": [
    "ax.flatten()"
   ]
  },
  {
   "cell_type": "code",
   "execution_count": 7,
   "metadata": {
    "colab": {
     "base_uri": "https://localhost:8080/",
     "height": 441
    },
    "id": "QUbK5wuWObtZ",
    "outputId": "8345f9e0-b3ec-4f3c-8f26-18832f0b2935"
   },
   "outputs": [
    {
     "name": "stderr",
     "output_type": "stream",
     "text": [
      "C:\\Users\\Admin\\AppData\\Local\\Temp\\ipykernel_4852\\3703696422.py:8: UserWarning: \n",
      "\n",
      "`distplot` is a deprecated function and will be removed in seaborn v0.14.0.\n",
      "\n",
      "Please adapt your code to use either `displot` (a figure-level function with\n",
      "similar flexibility) or `kdeplot` (an axes-level function for kernel density plots).\n",
      "\n",
      "For a guide to updating your code to use the new functions, please see\n",
      "https://gist.github.com/mwaskom/de44147ed2974457ad6372750bbe5751\n",
      "\n",
      "  plot  = sns.distplot(x = df[variable], ax = subplot,hist = False)\n",
      "C:\\Users\\Admin\\AppData\\Local\\Temp\\ipykernel_4852\\3703696422.py:8: UserWarning: \n",
      "\n",
      "`distplot` is a deprecated function and will be removed in seaborn v0.14.0.\n",
      "\n",
      "Please adapt your code to use either `displot` (a figure-level function with\n",
      "similar flexibility) or `kdeplot` (an axes-level function for kernel density plots).\n",
      "\n",
      "For a guide to updating your code to use the new functions, please see\n",
      "https://gist.github.com/mwaskom/de44147ed2974457ad6372750bbe5751\n",
      "\n",
      "  plot  = sns.distplot(x = df[variable], ax = subplot,hist = False)\n",
      "C:\\Users\\Admin\\AppData\\Local\\Temp\\ipykernel_4852\\3703696422.py:8: UserWarning: \n",
      "\n",
      "`distplot` is a deprecated function and will be removed in seaborn v0.14.0.\n",
      "\n",
      "Please adapt your code to use either `displot` (a figure-level function with\n",
      "similar flexibility) or `kdeplot` (an axes-level function for kernel density plots).\n",
      "\n",
      "For a guide to updating your code to use the new functions, please see\n",
      "https://gist.github.com/mwaskom/de44147ed2974457ad6372750bbe5751\n",
      "\n",
      "  plot  = sns.distplot(x = df[variable], ax = subplot,hist = False)\n"
     ]
    },
    {
     "data": {
      "image/png": "[encoded data removed]",
      "text/plain": [
       "<Figure size 1500x500 with 3 Axes>"
      ]
     },
     "metadata": {},
     "output_type": "display_data"
    }
   ],
   "source": [
    "### normal ditrubution for math score,reading score,writing score.\n",
    "# q1\n",
    "cols = [\"math score\",\"reading score\",\"writing score\"]\n",
    "# Plotting the distribution of the data\n",
    "fig, ax = plt.subplots(1,3, figsize = [15,5]) # Rows, Columns | figsize: Width, Height\n",
    "for variable, subplot in zip(cols, ax.flatten()): # ax.faltten() to get a flat array of 1*3 elements (3 plots in all)\n",
    "    \n",
    "    plot  = sns.distplot(x = df[variable], ax = subplot,hist = False)\n",
    "    plot.set_xlabel(variable, fontsize = 15) # Increase the fontsize of variable names in each plot\n",
    "\n",
    "plt.tight_layout()"
   ]
  },
  {
   "cell_type": "markdown",
   "metadata": {
    "id": "gytzgcpRObta"
   },
   "source": [
    "**Step-5:** Checking mean and standard deviation with help of scipy library"
   ]
  },
  {
   "cell_type": "code",
   "execution_count": 8,
   "metadata": {
    "colab": {
     "base_uri": "https://localhost:8080/"
    },
    "id": "dynFkA4uObtb",
    "outputId": "563cb4ee-09d6-4f64-f684-cb4e31e67561",
    "scrolled": true
   },
   "outputs": [
    {
     "name": "stdout",
     "output_type": "stream",
     "text": [
      "\n",
      "\n",
      "Mean of  math score : 67.095\n",
      "Standard Deviation of  math score : 14.674875638314619\n",
      "\n",
      "\n",
      "Mean of  reading score : 70.189\n",
      "Standard Deviation of  reading score : 13.809897863489061\n",
      "\n",
      "\n",
      "Mean of  writing score : 68.85\n",
      "Standard Deviation of  writing score : 14.457921704034769\n"
     ]
    },
    {
     "name": "stderr",
     "output_type": "stream",
     "text": [
      "C:\\Users\\Admin\\AppData\\Local\\Temp\\ipykernel_4852\\725487050.py:6: DeprecationWarning: scipy.mean is deprecated and will be removed in SciPy 2.0.0, use numpy.mean instead\n",
      "  print('Mean of ',i,':',scipy.mean(df[i]))\n",
      "C:\\Users\\Admin\\AppData\\Local\\Temp\\ipykernel_4852\\725487050.py:7: DeprecationWarning: scipy.std is deprecated and will be removed in SciPy 2.0.0, use numpy.std instead\n",
      "  print('Standard Deviation of ',i,':',scipy.std(df[i]))\n"
     ]
    }
   ],
   "source": [
    "# Calculating the mean and standard deviation of the normal distribution\n",
    "# q2\n",
    "import scipy\n",
    "for i in cols:\n",
    "    print(\"\\n\")\n",
    "    print('Mean of ',i,':',scipy.mean(df[i]))\n",
    "    print('Standard Deviation of ',i,':',scipy.std(df[i]))"
   ]
  },
  {
   "cell_type": "markdown",
   "metadata": {
    "id": "Q2MhHy0HObtb"
   },
   "source": [
    "**Step-6:** Checking skewness and kurtosis of the distribution for givel columns with help of stats library"
   ]
  },
  {
   "cell_type": "code",
   "execution_count": 9,
   "metadata": {
    "colab": {
     "base_uri": "https://localhost:8080/"
    },
    "id": "wnKEa6hyObtb",
    "outputId": "e029211c-1693-410f-abd3-f02cc62a51db"
   },
   "outputs": [
    {
     "name": "stdout",
     "output_type": "stream",
     "text": [
      "\n",
      "\n",
      "The Skewness of the math score  distribution: -0.2473493688814472\n",
      "The Kurtosis of the math score  distribution: 0.0344647614728113\n",
      "\n",
      "\n",
      "The Skewness of the reading score  distribution: -0.19513845535327878\n",
      "The Kurtosis of the reading score  distribution: -0.10424341727490205\n",
      "\n",
      "\n",
      "The Skewness of the writing score  distribution: -0.1920097699458864\n",
      "The Kurtosis of the writing score  distribution: -0.00877069922851037\n"
     ]
    }
   ],
   "source": [
    "# Finding the skewness and kurtosis of the distribution\n",
    "# q3\n",
    "from scipy import stats\n",
    "for i in cols:\n",
    "    skewness = stats.skew(df[i])\n",
    "    print(\"\\n\")\n",
    "    print('The Skewness of the',i,' distribution:',skewness)\n",
    "    \n",
    "    # Finding the kurtosis of the distribution\n",
    "    kurtosis = stats.kurtosis(df[i])\n",
    "    print('The Kurtosis of the',i,' distribution:',kurtosis)"
   ]
  },
  {
   "cell_type": "markdown",
   "metadata": {
    "id": "tFFrRvfmObtc"
   },
   "source": [
    "**Z - Distribution (Standard Normal Distribution)**"
   ]
  },
  {
   "cell_type": "markdown",
   "metadata": {
    "id": "LIiwFes4Obtc"
   },
   "source": [
    "Convert the weight data of students into Z - Distribution by calculating its z-scores "
   ]
  },
  {
   "cell_type": "markdown",
   "metadata": {
    "id": "cn7zFyd6Obtc"
   },
   "source": [
    "**Step-7:** Finding z_distribution with help of stats library"
   ]
  },
  {
   "cell_type": "code",
   "execution_count": 25,
   "metadata": {
    "colab": {
     "base_uri": "https://localhost:8080/"
    },
    "id": "u-SznAR8Obtc",
    "outputId": "c5cc2b4b-fe5b-4f45-eab8-cb1354b98b1a"
   },
   "outputs": [
    {
     "name": "stdout",
     "output_type": "stream",
     "text": [
      "\n",
      "\n",
      "z_score of math score :\n",
      " [-0.96048514  0.40238842 -1.50563457  0.87939416  0.4705321   0.94753784\n",
      "  1.01568152  0.19795738 -1.77820928 -0.55162307 -2.66407709  0.26610106\n",
      " -0.34719204 -0.61976675  0.33424474  1.0838252  -0.00647365 -0.41533572\n",
      "  0.53867577 -0.14276101  0.87939416  1.0838252  -0.14276101 -0.00647365\n",
      " -0.34719204  1.90154933  2.17412405  1.96969301 -1.23305985 -0.07461733\n",
      " -1.57377824 -1.23305985 -0.14276101 -0.75605411  0.67496313  0.40238842\n",
      "  1.0838252  -0.82419779 -3.89066329 -0.41533572  1.22011255 -0.4834794\n",
      " -1.36934721 -0.21090468  0.67496313  1.96969301  0.67496313  1.0838252\n",
      "  0.26610106 -0.00647365 -0.68791043  1.49268727 -0.07461733  0.67496313\n",
      "  1.28825623 -0.14276101 -0.00647365 -1.43749089 -0.14276101  0.87939416\n",
      "  0.87939416  1.22011255  0.26610106 -0.07461733 -0.89234146  0.4705321\n",
      " -1.57377824 -0.27904836 -0.27904836  0.26610106  1.0838252   0.53867577\n",
      " -0.75605411 -0.82419779  0.81125049  0.53867577 -0.00647365  1.49268727\n",
      " -0.68791043  1.76526198  1.62897462  0.4705321   0.87939416  0.40238842\n",
      "  2.24226772  0.74310681  1.28825623  1.28825623 -1.02862882  0.81125049\n",
      " -0.27904836  0.26610106 -0.07461733 -0.82419779 -0.89234146 -0.21090468\n",
      "  0.87939416  0.81125049  1.0838252   0.87939416  0.74310681  1.0838252\n",
      "  0.12981371  2.03783669 -0.82419779 -0.89234146  0.19795738  0.67496313\n",
      "  0.12981371  0.74310681 -0.41533572 -0.21090468 -0.68791043 -0.75605411\n",
      " -0.07461733 -0.00647365  1.28825623 -0.14276101  0.12981371  0.26610106\n",
      "  0.06167003 -0.4834794  -0.27904836  1.76526198  0.94753784  0.19795738\n",
      "  0.40238842  0.4705321  -1.43749089 -0.55162307 -0.00647365 -0.14276101\n",
      " -1.23305985  0.12981371 -0.00647365 -0.82419779  1.83340566  1.35639991\n",
      " -0.07461733  0.94753784  0.60681945  0.60681945  0.60681945  0.19795738\n",
      "  0.4705321   1.90154933  1.01568152  1.15196888 -1.50563457 -0.41533572\n",
      " -0.21090468  0.4705321  -0.89234146 -0.21090468 -0.34719204  0.60681945\n",
      "  1.22011255 -0.55162307 -0.21090468  1.49268727 -1.7100656   1.22011255\n",
      "  0.4705321   1.0838252   1.35639991 -3.00479548  1.90154933  1.0838252\n",
      " -1.64192192  0.60681945 -0.68791043  0.26610106  0.40238842 -0.34719204\n",
      "  0.12981371  1.96969301  0.67496313 -2.39150238 -0.89234146  0.33424474\n",
      "  0.06167003  0.40238842  0.53867577  0.33424474 -1.30120353 -0.07461733\n",
      " -0.14276101 -0.34719204 -0.4834794  -0.82419779 -0.21090468 -0.82419779\n",
      "  1.01568152  1.35639991 -0.4834794  -0.55162307  0.26610106  1.0838252\n",
      "  1.01568152  1.49268727 -0.00647365 -0.21090468 -0.00647365 -0.89234146\n",
      " -0.00647365 -1.02862882 -0.55162307  0.12981371 -0.34719204 -0.82419779\n",
      "  1.62897462 -1.30120353 -0.4834794   0.12981371 -0.61976675 -0.4834794\n",
      "  1.22011255  0.12981371 -1.84635296 -0.34719204 -2.80036445  0.60681945\n",
      "  1.0838252   1.42454359  2.17412405 -0.96048514 -0.55162307  0.74310681\n",
      " -1.77820928  0.87939416  0.74310681  1.22011255 -0.41533572  0.81125049\n",
      " -0.27904836  0.4705321  -0.68791043 -0.82419779 -0.55162307 -0.96048514\n",
      " -0.00647365  0.67496313 -0.00647365 -0.27904836  1.42454359  0.53867577\n",
      "  0.67496313 -0.96048514  0.81125049 -0.68791043  0.4705321   0.67496313\n",
      " -0.41533572 -1.64192192 -0.21090468  0.06167003  1.22011255 -2.80036445\n",
      " -1.43749089 -0.14276101  0.4705321  -0.68791043 -0.21090468  0.94753784\n",
      "  0.81125049 -1.30120353 -1.98264031  0.40238842 -1.16491618  0.19795738\n",
      "  0.19795738 -1.57377824  0.19795738  1.15196888  1.01568152 -1.36934721\n",
      "  2.03783669  0.60681945  1.0838252   0.26610106 -0.00647365 -0.75605411\n",
      "  0.53867577 -1.02862882 -0.07461733 -1.36934721 -0.4834794   1.22011255\n",
      " -1.0967725   1.22011255 -0.75605411 -1.77820928 -0.14276101  0.4705321\n",
      " -1.36934721 -1.43749089 -0.4834794  -0.00647365  1.0838252   0.06167003\n",
      " -0.41533572 -0.21090468 -0.61976675 -1.50563457 -0.07461733  0.81125049\n",
      " -0.89234146  0.87939416 -1.30120353  1.01568152 -0.07461733 -0.61976675\n",
      " -1.23305985 -1.98264031 -0.27904836  1.28825623  0.12981371 -1.16491618\n",
      " -1.57377824 -0.34719204  1.62897462  0.12981371 -0.4834794  -1.36934721\n",
      " -0.34719204  0.06167003  0.87939416 -0.4834794   1.01568152 -0.21090468\n",
      " -1.0967725   1.22011255  0.74310681 -0.14276101 -0.55162307  0.53867577\n",
      "  1.15196888 -0.21090468 -0.68791043  1.15196888 -0.75605411  0.67496313\n",
      "  0.33424474  2.17412405 -1.16491618 -0.27904836 -0.82419779  2.03783669\n",
      "  0.87939416  1.0838252   1.0838252   0.53867577  0.81125049  0.87939416\n",
      " -0.4834794  -1.43749089 -0.14276101  0.26610106  0.81125049  0.4705321\n",
      " -0.41533572  0.40238842  0.12981371  1.01568152  0.33424474  2.24226772\n",
      "  1.49268727 -0.55162307 -0.14276101  1.35639991  0.33424474 -0.96048514\n",
      " -0.00647365  0.33424474  0.40238842  0.12981371 -1.98264031 -0.75605411\n",
      " -0.61976675  0.19795738 -0.07461733  1.0838252   1.0838252   1.83340566\n",
      "  0.67496313  1.28825623  0.40238842  0.33424474 -0.27904836  0.06167003\n",
      " -0.89234146  1.76526198  1.56083094  0.06167003  0.40238842  0.60681945\n",
      "  0.06167003  1.0838252   0.12981371  0.40238842  1.35639991  0.87939416\n",
      " -0.34719204 -2.25521502 -0.96048514 -0.21090468 -2.11892767  0.60681945\n",
      " -0.61976675 -1.36934721  0.74310681 -0.21090468  0.19795738  1.15196888\n",
      "  0.40238842 -0.00647365 -1.23305985  1.01568152 -1.84635296  0.06167003\n",
      "  1.42454359  0.53867577  0.74310681 -0.27904836 -0.14276101  0.94753784\n",
      "  0.4705321   0.67496313 -0.14276101 -0.21090468  1.15196888 -0.89234146\n",
      " -0.27904836  2.24226772  0.06167003  0.4705321  -0.14276101  0.33424474\n",
      " -1.16491618 -0.27904836  0.33424474  1.01568152  1.15196888  0.40238842\n",
      "  1.28825623  0.06167003  1.01568152 -1.23305985  1.15196888 -0.4834794\n",
      " -1.02862882 -1.0967725   0.33424474  1.56083094  1.0838252  -0.61976675\n",
      "  1.0838252  -0.14276101 -0.21090468 -2.73222077 -0.82419779  0.33424474\n",
      " -1.84635296 -0.96048514  0.06167003 -0.68791043  1.62897462 -1.57377824\n",
      " -1.7100656   0.94753784 -0.00647365 -0.27904836  0.60681945  0.12981371\n",
      "  0.60681945  2.24226772 -1.0967725   1.0838252   0.26610106  0.4705321\n",
      "  1.56083094  1.56083094  0.26610106  0.81125049 -0.82419779  0.53867577\n",
      " -0.82419779  1.42454359 -0.00647365 -0.4834794   0.19795738  0.12981371\n",
      "  1.0838252  -0.4834794  -1.16491618 -0.34719204  0.53867577 -0.82419779\n",
      " -0.96048514  0.40238842 -0.68791043  0.53867577 -0.21090468 -0.96048514\n",
      " -2.45964606 -0.14276101  1.49268727 -0.55162307  0.67496313 -1.0967725\n",
      "  0.81125049 -0.00647365 -1.0967725  -2.45964606  0.4705321   0.53867577\n",
      "  0.33424474  1.01568152  0.87939416  0.81125049 -1.16491618 -0.68791043\n",
      "  1.01568152  0.94753784 -1.0967725  -0.96048514  0.40238842 -0.14276101\n",
      "  0.60681945  0.33424474  0.12981371  0.87939416 -0.21090468  0.06167003\n",
      "  1.0838252   0.19795738 -0.34719204  0.19795738 -1.50563457  0.60681945\n",
      " -0.14276101 -0.4834794  -2.11892767 -1.02862882  0.26610106 -1.64192192\n",
      "  0.33424474 -0.14276101 -0.96048514 -0.89234146 -0.75605411 -0.68791043\n",
      "  0.4705321   0.19795738 -1.57377824  1.83340566  0.40238842  0.60681945\n",
      " -0.34719204 -0.68791043 -0.4834794  -0.4834794   0.67496313 -1.30120353\n",
      " -0.00647365 -0.89234146  2.24226772  1.01568152 -0.07461733 -2.39150238\n",
      " -0.68791043 -0.27904836 -0.68791043 -1.7100656   0.94753784  0.40238842\n",
      "  1.42454359  0.74310681  0.06167003 -0.75605411 -1.16491618  1.6971183\n",
      "  1.28825623 -2.25521502  0.94753784 -1.0967725  -0.00647365 -0.41533572\n",
      " -1.91449663  0.60681945 -1.16491618 -1.36934721 -0.4834794  -0.07461733\n",
      " -0.75605411  1.83340566  0.87939416 -1.91449663  0.33424474 -0.68791043\n",
      " -0.4834794  -1.43749089  0.67496313 -0.07461733 -0.96048514  0.33424474\n",
      "  1.28825623 -0.68791043  0.26610106 -0.34719204  0.26610106  1.22011255\n",
      " -2.73222077  0.19795738  1.96969301 -0.00647365 -1.30120353 -1.0967725\n",
      " -1.43749089 -0.27904836  0.06167003 -0.75605411 -0.75605411 -2.25521502\n",
      "  0.40238842  0.12981371  1.28825623 -0.55162307 -2.73222077 -0.75605411\n",
      " -0.75605411 -1.0967725   1.15196888  0.94753784 -1.02862882  1.6971183\n",
      " -0.07461733 -0.75605411  0.06167003  1.42454359  0.74310681  0.74310681\n",
      " -0.75605411  1.90154933 -1.91449663 -1.0967725  -0.21090468 -2.18707135\n",
      " -0.41533572 -1.0967725   0.06167003 -1.50563457 -1.36934721 -0.34719204\n",
      " -0.14276101 -0.82419779 -1.50563457  0.40238842 -0.55162307 -0.75605411\n",
      "  0.4705321   0.19795738 -0.27904836 -2.18707135 -0.4834794  -0.21090468\n",
      "  1.62897462 -0.41533572  0.60681945 -1.16491618 -0.07461733  0.81125049\n",
      "  1.6971183  -1.02862882  0.19795738 -0.21090468  0.74310681 -0.82419779\n",
      "  0.33424474 -0.00647365  0.74310681 -0.27904836  0.74310681  2.10598037\n",
      "  0.06167003 -0.89234146  0.74310681 -0.34719204 -2.25521502  0.33424474\n",
      " -0.89234146 -0.55162307  1.0838252  -2.39150238 -0.34719204  0.94753784\n",
      "  0.67496313 -1.30120353 -0.14276101  0.33424474  0.33424474 -0.68791043\n",
      "  0.12981371 -0.27904836  0.26610106 -0.82419779 -1.91449663 -0.27904836\n",
      " -2.18707135  0.40238842 -0.21090468  1.0838252  -1.50563457 -0.61976675\n",
      "  1.35639991  0.53867577  1.42454359  0.19795738 -0.4834794   0.67496313\n",
      "  1.35639991  0.67496313  0.74310681  1.35639991 -0.61976675  0.40238842\n",
      "  0.87939416 -1.23305985 -0.07461733  1.15196888  2.17412405  1.15196888\n",
      " -0.34719204 -0.00647365  0.74310681 -0.82419779  1.49268727  1.28825623\n",
      " -1.77820928  1.35639991 -0.89234146 -0.4834794  -2.3233587   0.74310681\n",
      " -0.41533572 -0.55162307 -0.14276101 -0.89234146  0.74310681  0.81125049\n",
      "  1.35639991 -0.4834794  -0.4834794  -0.68791043  1.28825623 -1.23305985\n",
      " -1.16491618 -0.34719204 -0.07461733  0.74310681  0.87939416  1.0838252\n",
      "  0.53867577 -0.27904836 -0.00647365 -0.00647365  1.96969301  0.33424474\n",
      "  0.67496313 -0.55162307  0.19795738 -0.41533572  0.40238842  0.40238842\n",
      " -1.02862882  1.15196888  0.26610106 -0.34719204  0.33424474 -1.50563457\n",
      "  1.35639991  0.67496313 -1.16491618  0.06167003 -1.02862882  0.4705321\n",
      " -0.68791043  0.4705321  -1.02862882  0.12981371 -0.14276101 -0.07461733\n",
      " -0.14276101 -1.16491618 -1.02862882 -1.77820928 -1.02862882  0.4705321\n",
      "  0.74310681  0.26610106  0.26610106 -0.07461733  1.28825623 -2.11892767\n",
      " -0.14276101  0.60681945 -1.0967725   2.10598037 -0.4834794   1.35639991\n",
      " -0.41533572  0.12981371  0.12981371  1.0838252   0.87939416 -1.7100656\n",
      "  0.81125049 -1.77820928  0.33424474 -0.34719204 -0.4834794  -0.14276101\n",
      "  0.26610106  1.6971183   1.76526198  0.26610106 -0.14276101  1.22011255\n",
      "  1.56083094  0.19795738 -0.34719204  2.03783669 -1.50563457  1.56083094\n",
      " -0.55162307  1.56083094 -1.16491618  2.03783669  0.19795738 -0.07461733\n",
      " -0.82419779 -1.98264031  0.87939416  1.49268727 -0.00647365 -1.91449663\n",
      " -3.00479548 -0.55162307  0.94753784 -0.34719204 -0.55162307 -2.59593341\n",
      " -0.55162307  1.56083094 -1.02862882 -0.21090468 -0.96048514  0.19795738\n",
      " -1.50563457  0.33424474  0.33424474 -0.41533572 -0.68791043 -0.34719204\n",
      "  0.4705321  -1.43749089  0.33424474  2.03783669  1.6971183  -0.4834794\n",
      " -0.89234146 -0.75605411 -2.11892767  0.67496313  0.12981371 -0.21090468\n",
      "  0.87939416  0.33424474 -0.68791043  0.60681945  0.87939416 -1.36934721\n",
      "  0.67496313  0.26610106 -0.82419779  0.33424474 -0.21090468  0.33424474\n",
      "  0.33424474  0.26610106 -0.55162307 -2.05078399  2.10598037 -0.00647365\n",
      "  0.81125049 -0.21090468 -1.50563457 -0.27904836 -1.16491618 -0.61976675\n",
      "  2.24226772 -0.55162307  0.19795738 -0.07461733 -2.05078399  0.26610106\n",
      "  0.81125049 -1.23305985 -0.61976675  0.81125049 -0.41533572 -0.21090468\n",
      " -0.21090468  1.76526198 -0.41533572 -0.55162307  0.60681945 -0.41533572\n",
      "  0.4705321  -1.16491618 -0.27904836 -0.07461733 -0.82419779 -0.27904836\n",
      " -0.96048514  0.06167003  0.4705321  -1.0967725  -0.41533572  0.12981371\n",
      " -0.82419779 -0.14276101 -0.82419779 -0.27904836  0.40238842  0.53867577\n",
      " -0.89234146 -0.89234146 -1.36934721 -1.91449663 -1.23305985  0.19795738\n",
      " -0.75605411  0.67496313  0.40238842 -1.77820928  1.42454359  0.74310681\n",
      " -0.07461733 -0.4834794   0.40238842  0.33424474  0.67496313 -0.21090468\n",
      " -0.34719204 -0.00647365  0.33424474  0.40238842 -0.27904836 -0.41533572\n",
      "  0.60681945  1.76526198 -0.89234146  1.90154933 -0.61976675  0.60681945\n",
      "  1.22011255 -0.96048514  2.24226772  0.33424474  0.94753784  0.94753784\n",
      "  0.26610106  1.01568152  0.12981371 -0.27904836 -0.4834794  -0.21090468\n",
      " -1.0967725   0.12981371 -0.07461733 -1.91449663  0.81125049  0.26610106\n",
      " -0.89234146  0.06167003  0.60681945 -0.00647365  0.67496313 -0.00647365\n",
      "  0.4705321   0.53867577  0.94753784  0.87939416  0.19795738 -1.23305985\n",
      "  0.74310681 -2.05078399 -0.96048514  1.42454359]\n",
      "\n",
      "\n",
      "z_score of reading score :\n",
      " [-1.46192247  0.20354966 -1.96880529  0.20354966  1.79660996  1.36213897\n",
      "  0.85525614  0.92766798 -1.38951064 -1.17227514 -1.24468698  0.71043248\n",
      " -0.66539232  0.56560882  0.20354966  1.00007981 -0.08609767 -0.88262782\n",
      "  0.71043248  0.49319699  0.20354966  1.14490347 -1.17227514 -0.95503965\n",
      "  0.20354966  1.00007981  2.15866912  1.86902179 -0.30333316 -0.81021598\n",
      " -0.66539232 -0.01368584 -0.23092133 -1.67915797  1.2173153   0.42078515\n",
      "  1.36213897 -0.59298049 -2.83774727 -0.52056866  1.50696263 -1.31709881\n",
      " -1.09986331  0.42078515  1.65178629  1.2173153   1.57937446  2.01384545\n",
      " -0.52056866  0.13113783 -1.67915797  1.07249164 -0.44815683  0.42078515\n",
      "  1.2173153  -0.52056866  0.13113783 -1.17227514 -0.59298049  0.058726\n",
      " -0.73780415  1.57937446 -0.37574499 -0.88262782 -0.23092133  0.63802065\n",
      " -0.23092133 -0.52056866 -0.52056866 -0.01368584  0.63802065  1.4345508\n",
      " -0.81021598 -0.73780415  1.36213897  0.85525614  0.20354966  1.00007981\n",
      " -0.66539232  1.79660996  1.57937446  0.63802065  1.86902179  1.00007981\n",
      "  2.01384545  1.36213897  2.15866912 -0.08609767 -0.44815683  0.34837332\n",
      "  0.85525614 -1.02745148  0.56560882  0.058726   -0.23092133 -0.88262782\n",
      "  0.058726    1.2173153   1.00007981  0.71043248  0.49319699  1.4345508\n",
      "  0.34837332  1.14490347 -0.88262782 -1.60674613  0.71043248  1.00007981\n",
      " -0.73780415  0.42078515  0.71043248 -0.08609767  0.13113783 -1.24468698\n",
      " -0.23092133 -0.1585095   0.13113783 -0.66539232  0.63802065  0.63802065\n",
      "  0.27596149 -0.37574499  0.42078515  2.15866912  0.42078515  0.49319699\n",
      "  0.56560882 -0.1585095  -0.52056866 -0.52056866  0.27596149 -0.59298049\n",
      "  0.13113783  0.20354966  0.49319699  0.13113783  1.00007981  0.71043248\n",
      " -0.08609767  1.14490347  0.63802065  0.63802065  1.14490347  0.20354966\n",
      "  0.13113783  2.15866912  0.058726    0.13113783 -1.31709881  0.058726\n",
      "  0.49319699  1.79660996 -0.44815683 -0.23092133  0.49319699  0.85525614\n",
      "  0.85525614 -0.52056866 -0.30333316  0.56560882 -2.47568811  0.42078515\n",
      "  1.50696263  1.07249164  0.71043248 -3.56186559  1.28972713  0.42078515\n",
      " -1.24468698 -0.44815683 -0.08609767  0.13113783 -0.08609767  0.058726\n",
      "  1.07249164  1.2173153   0.34837332 -2.54809995 -0.23092133 -0.44815683\n",
      " -0.01368584 -0.01368584  0.058726    0.78284431 -0.30333316 -0.44815683\n",
      " -0.73780415 -0.23092133 -0.95503965 -0.88262782  0.34837332 -0.52056866\n",
      "  0.78284431  0.20354966 -0.59298049 -1.46192247  0.13113783  0.56560882\n",
      " -0.01368584  0.20354966  1.00007981  1.07249164  0.49319699 -0.08609767\n",
      "  0.78284431 -0.59298049 -0.88262782  0.27596149  0.13113783 -0.52056866\n",
      "  1.57937446 -1.46192247 -0.01368584  0.49319699 -0.44815683 -1.31709881\n",
      "  0.85525614  0.20354966 -2.47568811 -1.17227514 -1.31709881  0.42078515\n",
      "  0.78284431  0.42078515  1.57937446 -0.59298049  0.13113783  0.13113783\n",
      " -0.73780415 -0.44815683 -0.59298049  1.57937446 -1.67915797  0.85525614\n",
      " -0.59298049  0.058726   -0.73780415 -1.89639346  0.71043248 -0.59298049\n",
      " -1.38951064  0.49319699 -0.30333316  0.49319699  0.92766798  0.058726\n",
      "  0.49319699  0.56560882  1.94143362 -1.24468698  0.42078515  1.50696263\n",
      " -0.1585095  -2.62051178  0.56560882  0.78284431  0.71043248 -1.09986331\n",
      " -1.5343343   0.56560882  0.71043248  0.71043248 -0.08609767  0.13113783\n",
      " -0.52056866 -1.5343343  -1.31709881  0.13113783  0.42078515  0.058726\n",
      " -1.17227514 -1.31709881 -0.23092133  0.85525614  0.71043248 -2.25845262\n",
      "  1.57937446  0.49319699  0.49319699  0.34837332  0.20354966 -0.37574499\n",
      "  0.42078515 -0.30333316 -1.02745148 -0.88262782  0.058726    2.08625728\n",
      " -0.81021598  0.49319699 -1.17227514 -1.67915797  0.34837332  0.71043248\n",
      " -0.37574499 -0.81021598 -0.59298049  0.20354966  0.71043248 -0.95503965\n",
      " -0.08609767  0.42078515 -0.73780415 -1.09986331 -0.37574499  0.058726\n",
      " -0.59298049  0.56560882 -0.44815683  0.92766798  0.85525614 -1.67915797\n",
      " -0.52056866 -1.82398163  0.13113783  0.34837332 -0.73780415 -0.1585095\n",
      " -1.31709881  0.42078515  1.50696263  0.13113783 -0.66539232 -1.09986331\n",
      " -0.95503965  0.49319699 -0.37574499 -0.52056866  1.28972713  0.42078515\n",
      " -1.24468698  2.15866912  1.50696263  0.27596149 -0.1585095   0.63802065\n",
      "  1.4345508  -0.01368584  0.78284431  0.56560882 -0.66539232  0.49319699\n",
      "  0.42078515  1.28972713 -0.73780415 -0.95503965 -0.95503965  1.4345508\n",
      "  0.27596149  1.00007981  1.79660996  0.20354966  0.85525614  0.13113783\n",
      " -0.37574499 -1.02745148  0.27596149  0.20354966  1.86902179  0.42078515\n",
      " -0.23092133  0.34837332 -0.81021598  0.85525614 -0.30333316  2.15866912\n",
      "  0.78284431 -1.46192247 -1.31709881  0.63802065 -0.08609767 -0.52056866\n",
      " -0.30333316  0.49319699  0.71043248  0.20354966 -1.17227514 -1.02745148\n",
      "  0.13113783  0.49319699 -0.88262782  0.92766798  0.20354966  1.07249164\n",
      " -0.52056866  1.57937446  0.42078515 -0.30333316 -0.95503965  0.20354966\n",
      " -0.30333316  1.14490347  0.42078515  0.34837332 -0.30333316 -0.66539232\n",
      " -1.09986331  0.42078515 -0.95503965 -0.30333316  1.94143362  1.65178629\n",
      " -0.81021598 -1.02745148 -0.01368584 -1.09986331 -1.60674613  1.00007981\n",
      "  0.42078515 -0.88262782  1.07249164  0.56560882  0.42078515 -0.08609767\n",
      " -0.66539232  0.27596149 -1.5343343   0.49319699 -0.30333316 -0.59298049\n",
      "  0.49319699  0.63802065 -0.44815683 -0.59298049 -0.01368584  1.07249164\n",
      "  1.50696263  0.56560882  0.13113783  0.34837332  0.71043248 -0.01368584\n",
      "  0.058726    2.15866912  0.56560882  0.92766798  0.85525614  0.63802065\n",
      " -0.81021598  0.20354966  0.63802065  0.63802065  1.4345508   0.63802065\n",
      "  0.92766798 -0.88262782  1.4345508  -1.38951064  0.49319699 -1.17227514\n",
      " -1.24468698 -1.02745148  0.71043248  1.28972713  1.36213897 -1.17227514\n",
      "  0.42078515 -0.37574499  0.42078515 -2.04121712 -0.30333316  1.65178629\n",
      " -1.02745148 -1.31709881  1.28972713 -0.95503965  1.50696263 -2.9101591\n",
      " -0.66539232  0.20354966 -0.73780415 -0.08609767 -0.08609767  1.14490347\n",
      "  0.42078515  1.86902179 -0.66539232  1.00007981  1.4345508   0.34837332\n",
      "  2.15866912  1.28972713 -0.23092133  0.92766798 -0.95503965  0.49319699\n",
      " -0.52056866  1.00007981  0.058726   -1.09986331  1.2173153   0.20354966\n",
      "  0.92766798 -0.30333316 -0.81021598 -0.1585095   0.058726   -0.37574499\n",
      " -0.52056866  0.71043248 -1.67915797  0.058726   -0.01368584 -0.1585095\n",
      " -2.54809995  0.058726    1.79660996 -0.59298049 -0.73780415 -0.95503965\n",
      "  0.20354966  0.49319699 -0.95503965 -1.60674613  0.27596149 -0.30333316\n",
      "  1.00007981  0.27596149  1.07249164  1.00007981 -1.38951064 -0.52056866\n",
      "  0.71043248  0.71043248 -1.38951064 -1.02745148  0.20354966 -0.44815683\n",
      " -0.37574499 -0.1585095   1.14490347  0.20354966 -0.23092133 -0.73780415\n",
      "  1.4345508   0.92766798 -1.5343343   0.71043248 -1.7515698   0.56560882\n",
      " -1.31709881 -1.17227514 -2.18604079 -1.02745148  0.49319699 -1.82398163\n",
      "  1.00007981 -0.37574499 -1.09986331 -0.88262782 -0.01368584 -0.73780415\n",
      "  0.63802065  1.57937446 -1.60674613  1.65178629  0.49319699  0.34837332\n",
      " -0.88262782 -0.01368584 -0.73780415  0.20354966  0.49319699 -1.5343343\n",
      " -0.73780415 -1.31709881  2.15866912  2.15866912 -1.17227514 -2.47568811\n",
      " -0.37574499  0.34837332  0.27596149 -1.96880529  1.14490347  0.058726\n",
      "  1.4345508   0.49319699  0.85525614 -0.01368584 -1.7515698   1.2173153\n",
      "  0.49319699 -1.17227514  1.4345508  -0.30333316 -0.44815683 -0.08609767\n",
      " -1.60674613  0.85525614 -1.02745148 -0.81021598 -0.08609767 -0.01368584\n",
      " -0.66539232  1.50696263  1.2173153  -1.24468698 -0.52056866 -1.38951064\n",
      " -1.02745148 -1.24468698  0.63802065 -0.08609767 -1.02745148  0.34837332\n",
      "  1.28972713 -1.5343343  -0.30333316 -0.59298049  0.63802065  1.4345508\n",
      " -2.9101591  -0.23092133  0.92766798  0.42078515 -1.38951064 -0.01368584\n",
      " -0.52056866 -0.30333316  0.13113783 -0.37574499  0.34837332 -0.66539232\n",
      "  0.49319699 -0.44815683  0.27596149 -0.37574499 -2.9101591  -0.23092133\n",
      " -0.73780415 -0.73780415  0.56560882  1.36213897 -0.88262782  2.08625728\n",
      " -0.52056866 -1.02745148  0.56560882  1.72419812  0.63802065 -0.59298049\n",
      " -0.44815683  1.07249164 -1.38951064 -1.17227514 -0.81021598 -2.62051178\n",
      "  0.34837332 -1.24468698  0.13113783 -0.44815683 -2.04121712  0.13113783\n",
      "  0.20354966 -0.44815683 -0.66539232 -0.08609767  0.058726   -0.88262782\n",
      "  0.49319699 -0.52056866 -1.24468698 -2.54809995 -0.1585095  -0.08609767\n",
      "  0.85525614  0.27596149  0.56560882 -2.25845262  0.058726    0.42078515\n",
      "  2.08625728 -1.67915797 -0.01368584  1.07249164 -0.01368584  0.13113783\n",
      " -0.1585095   0.34837332  0.71043248  0.20354966  1.28972713  1.28972713\n",
      " -0.73780415 -1.31709881 -0.08609767 -0.88262782 -1.60674613  1.4345508\n",
      " -0.44815683  0.20354966  1.50696263 -1.82398163  0.27596149  1.79660996\n",
      "  0.56560882 -2.11362896  0.71043248 -0.08609767  0.34837332 -0.08609767\n",
      " -0.66539232  0.49319699 -0.01368584 -0.30333316 -0.44815683 -0.52056866\n",
      " -1.46192247  0.71043248 -1.7515698   1.79660996 -0.37574499 -1.24468698\n",
      "  1.28972713  1.07249164  2.15866912  0.27596149 -0.81021598 -0.52056866\n",
      "  1.28972713  0.27596149  0.71043248  2.08625728 -1.38951064 -0.73780415\n",
      "  0.13113783 -1.02745148 -0.30333316  1.79660996  2.15866912  0.27596149\n",
      " -0.73780415  0.34837332  0.63802065 -1.17227514  0.71043248  1.79660996\n",
      " -1.96880529  0.85525614 -0.73780415 -0.08609767 -1.31709881  0.92766798\n",
      " -0.1585095  -1.24468698  0.78284431 -1.96880529  0.34837332  0.92766798\n",
      "  0.27596149  0.20354966 -1.67915797  0.71043248  1.4345508  -0.88262782\n",
      " -0.73780415 -1.17227514 -0.44815683  0.058726    0.92766798  0.85525614\n",
      "  0.71043248  0.34837332 -0.30333316 -0.37574499  1.07249164  0.63802065\n",
      "  0.42078515 -0.81021598  0.058726   -0.30333316  0.20354966  1.36213897\n",
      " -0.59298049  1.14490347  0.71043248  0.78284431  0.058726   -2.25845262\n",
      "  1.28972713  1.28972713 -0.81021598  0.56560882 -1.5343343   1.14490347\n",
      " -0.1585095  -0.1585095  -0.66539232  0.13113783  0.34837332  1.14490347\n",
      " -0.59298049 -1.82398163 -0.95503965 -1.24468698 -1.17227514  0.20354966\n",
      "  0.27596149 -0.81021598 -0.44815683  0.42078515  2.01384545 -1.17227514\n",
      " -0.37574499  2.01384545 -0.81021598  1.94143362 -0.37574499  1.00007981\n",
      "  0.20354966 -0.52056866  0.27596149  0.34837332  1.72419812 -0.81021598\n",
      "  2.01384545 -1.82398163 -0.08609767 -0.81021598 -1.24468698 -0.73780415\n",
      "  0.20354966  0.85525614  1.00007981  0.058726    0.27596149  1.65178629\n",
      "  1.65178629  0.71043248 -0.08609767  2.15866912 -1.24468698  1.00007981\n",
      " -0.37574499  0.92766798 -0.37574499  1.36213897 -0.23092133  0.34837332\n",
      " -0.81021598 -1.89639346  0.34837332  0.92766798 -0.08609767 -1.38951064\n",
      " -2.76533544 -0.88262782  0.34837332  0.56560882 -0.1585095  -2.04121712\n",
      "  0.27596149  0.78284431 -1.7515698  -1.09986331 -0.88262782  1.07249164\n",
      " -2.18604079  0.27596149  0.27596149 -1.60674613 -0.66539232 -0.66539232\n",
      "  0.71043248 -2.33086445  0.34837332  0.34837332  1.72419812 -1.46192247\n",
      " -0.1585095  -0.01368584 -1.17227514  0.78284431 -0.73780415  0.42078515\n",
      "  1.36213897 -0.01368584 -0.23092133  0.56560882 -0.01368584 -1.17227514\n",
      "  0.85525614  1.14490347 -0.37574499  0.56560882 -0.59298049 -0.08609767\n",
      "  0.42078515  0.71043248 -0.23092133 -2.33086445  1.36213897 -1.24468698\n",
      "  0.92766798 -0.23092133 -1.17227514  0.34837332 -0.73780415 -0.81021598\n",
      "  1.86902179 -0.44815683  0.058726   -0.88262782 -1.24468698 -0.01368584\n",
      "  0.56560882 -1.09986331 -0.44815683  0.85525614 -0.52056866 -0.01368584\n",
      "  0.058726    1.94143362 -0.01368584  0.20354966  0.71043248 -0.37574499\n",
      "  1.14490347 -1.09986331 -1.24468698 -0.37574499 -0.73780415 -0.95503965\n",
      " -0.44815683 -0.88262782 -0.1585095  -1.5343343  -0.23092133  0.20354966\n",
      " -1.02745148  0.058726   -1.09986331 -0.37574499  0.71043248  0.56560882\n",
      "  0.058726   -0.44815683 -1.7515698  -1.38951064 -0.23092133  0.058726\n",
      " -1.24468698  0.27596149 -0.44815683 -1.24468698  1.36213897 -0.1585095\n",
      " -0.37574499 -0.01368584  0.34837332 -0.01368584  0.71043248  0.34837332\n",
      " -0.23092133 -0.37574499  0.92766798  0.20354966 -1.02745148 -0.44815683\n",
      "  1.00007981  1.28972713  0.42078515  1.36213897 -1.31709881  0.34837332\n",
      "  0.27596149 -1.24468698  1.86902179  0.56560882  0.20354966  0.20354966\n",
      "  0.71043248  1.00007981 -0.1585095  -0.1585095   0.20354966 -1.02745148\n",
      " -1.09986331 -1.5343343   0.85525614 -2.33086445  0.13113783  0.49319699\n",
      " -0.1585095  -0.23092133  1.36213897  0.78284431  0.56560882  0.13113783\n",
      "  1.36213897 -0.37574499  1.50696263  0.85525614  0.42078515 -1.7515698\n",
      "  0.56560882 -1.17227514 -1.09986331  2.15866912]\n",
      "\n",
      "\n",
      "z_score of writing score :\n",
      " [-1.58044845 -0.0587913  -1.92627963  0.49453858  1.60119832  1.9470295\n",
      "  0.97870222  0.97870222 -1.51128222 -1.30378352 -1.37294975  0.35620611\n",
      " -0.75045364  0.07954117  0.84036975  0.42537234  0.21787364 -0.26629\n",
      "  0.97870222  0.70203728  0.56370481  0.28703987 -0.40462247 -1.02711858\n",
      " -0.12795753  1.73953079  2.01619573  1.46286586 -0.0587913  -0.81961988\n",
      " -0.95795234 -0.81961988 -0.54295494 -1.37294975  0.90953598 -0.19712377\n",
      "  1.60119832 -0.75045364 -2.61794197 -0.26629     2.01619573 -1.30378352\n",
      " -0.75045364  0.70203728  1.46286586  1.53203209  1.73953079  2.08536196\n",
      "  0.01037494  0.35620611 -1.30378352  0.84036975 -0.54295494 -0.0587913\n",
      "  1.39369962 -0.81961988  0.07954117 -1.37294975 -0.75045364  0.21787364\n",
      " -0.0587913   1.60119832 -0.81961988 -1.37294975 -0.61212117  1.25536715\n",
      " -0.81961988 -0.68128741 -0.75045364 -0.4737887   0.63287104  1.25536715\n",
      " -0.81961988 -1.09628481  1.32453339  1.11703468  0.1487074   1.04786845\n",
      " -0.33545624  2.1545282   1.39369962  0.01037494  1.53203209  0.84036975\n",
      "  1.9470295   1.25536715  1.87786326  0.21787364  0.28703987  0.21787364\n",
      "  0.97870222 -0.40462247  0.42537234 -0.19712377 -0.81961988 -0.88878611\n",
      "  0.63287104  1.25536715  0.84036975  0.90953598  0.28703987  1.11703468\n",
      "  0.70203728  1.32453339 -0.4737887  -1.16545105  1.04786845  0.49453858\n",
      " -0.88878611  0.49453858  0.90953598 -0.33545624  0.42537234 -0.81961988\n",
      " -0.4737887  -0.33545624  0.77120351 -1.02711858  0.56370481  1.32453339\n",
      "  0.77120351  0.01037494 -0.33545624  2.1545282   0.97870222  0.97870222\n",
      "  0.21787364 -0.33545624 -0.68128741 -0.4737887   0.1487074  -0.68128741\n",
      " -0.33545624  0.21787364  0.07954117  0.35620611  0.97870222  1.18620092\n",
      "  0.42537234  1.60119832  0.1487074   0.49453858  0.63287104 -0.33545624\n",
      "  0.56370481  2.08536196  0.42537234  0.77120351 -1.02711858  0.42537234\n",
      "  0.35620611  1.60119832 -0.54295494 -0.40462247  0.1487074   0.70203728\n",
      "  0.42537234  0.01037494  0.35620611  0.35620611 -2.06461209  0.07954117\n",
      "  1.80869703  1.60119832  0.70203728 -3.79376795  1.25536715  0.28703987\n",
      " -0.95795234  0.01037494 -0.12795753  0.70203728 -0.95795234 -0.26629\n",
      "  0.97870222  1.53203209  0.01037494 -2.61794197 -0.19712377 -0.40462247\n",
      "  0.07954117 -0.4737887   0.21787364  0.84036975 -0.33545624  0.07954117\n",
      " -0.68128741 -0.26629    -1.02711858 -1.30378352  0.28703987 -0.75045364\n",
      "  0.56370481 -0.26629    -0.33545624 -0.95795234 -0.19712377  0.49453858\n",
      "  0.21787364  0.35620611  0.84036975  0.35620611  0.49453858  0.42537234\n",
      "  0.63287104 -0.54295494 -1.23461728  0.28703987  0.49453858 -0.4737887\n",
      "  2.1545282  -1.58044845 -0.54295494  0.56370481 -0.81961988 -1.30378352\n",
      "  0.77120351  0.21787364 -2.96377314 -0.75045364 -1.64961469  0.84036975\n",
      "  0.97870222  0.21787364  1.80869703 -0.40462247 -0.33545624  0.1487074\n",
      " -1.30378352 -0.33545624 -0.81961988  1.18620092 -1.58044845  0.63287104\n",
      " -0.33545624  0.63287104 -0.75045364 -1.51128222  0.63287104 -0.54295494\n",
      " -1.37294975  0.49453858 -0.26629     0.90953598  0.56370481  0.07954117\n",
      "  0.77120351  0.21787364  2.1545282  -1.44211599  0.07954117  0.56370481\n",
      " -1.09628481 -2.06461209  0.28703987  1.04786845  0.97870222 -1.78794716\n",
      " -1.64961469  0.70203728  0.70203728  0.63287104 -0.26629     0.56370481\n",
      "  0.07954117 -1.51128222 -0.88878611 -0.75045364  0.56370481  0.35620611\n",
      " -0.95795234 -0.81961988 -0.54295494  0.84036975  0.28703987 -1.92627963\n",
      "  2.01619573  0.42537234  0.35620611 -0.19712377 -0.19712377 -1.16545105\n",
      "  0.70203728 -0.4737887  -0.81961988 -0.54295494  0.28703987  1.46286586\n",
      " -0.4737887   0.35620611 -1.23461728 -1.64961469  0.56370481  0.35620611\n",
      " -0.95795234 -0.95795234  0.01037494  0.77120351  0.35620611 -1.16545105\n",
      " -0.33545624  0.42537234 -0.12795753 -0.81961988 -0.68128741  0.1487074\n",
      " -0.75045364  0.21787364 -0.81961988  1.39369962  0.42537234 -1.16545105\n",
      " -0.40462247 -2.13377833  0.07954117  0.63287104 -0.0587913  -0.33545624\n",
      " -1.64961469  0.63287104  0.97870222  0.1487074  -0.33545624 -1.44211599\n",
      " -1.09628481  0.35620611 -0.26629    -0.75045364  0.90953598  0.1487074\n",
      " -0.61212117  1.87786326  1.60119832  0.63287104  0.49453858  0.42537234\n",
      "  1.60119832 -0.75045364  0.63287104  0.97870222 -0.95795234  0.01037494\n",
      " -0.26629     1.25536715 -1.02711858 -0.68128741 -0.4737887   1.32453339\n",
      "  0.56370481  1.11703468  1.53203209  0.28703987  0.56370481  0.84036975\n",
      " -0.12795753 -1.16545105  0.70203728  0.01037494  1.67036456  0.56370481\n",
      " -0.4737887   0.21787364 -0.4737887   0.63287104 -0.40462247  2.1545282\n",
      "  0.84036975 -1.44211599 -1.51128222  0.01037494 -0.12795753 -0.81961988\n",
      " -0.54295494  0.77120351  0.21787364  0.01037494 -1.71878092 -0.81961988\n",
      " -0.40462247  0.56370481 -1.02711858  1.53203209  0.49453858  0.28703987\n",
      " -0.61212117  1.53203209 -0.0587913  -0.12795753 -0.68128741 -0.26629\n",
      " -0.12795753  1.11703468  0.28703987  0.49453858 -0.68128741 -0.12795753\n",
      " -1.37294975  0.49453858 -1.02711858 -0.12795753  1.80869703  1.73953079\n",
      " -1.02711858 -0.75045364 -0.12795753 -0.54295494 -1.16545105  0.84036975\n",
      "  0.49453858 -0.26629     0.63287104 -0.0587913   0.49453858  0.28703987\n",
      " -0.81961988  0.70203728 -1.02711858  0.97870222 -0.75045364 -0.95795234\n",
      "  0.35620611  0.90953598  0.01037494 -0.88878611  0.07954117  0.35620611\n",
      "  1.18620092  0.07954117  0.1487074   0.42537234  0.77120351 -0.33545624\n",
      " -0.26629     2.1545282   0.63287104  0.97870222  0.49453858  0.84036975\n",
      " -1.44211599  0.35620611  0.1487074   0.07954117  1.39369962  0.77120351\n",
      "  1.04786845 -0.61212117  1.25536715 -0.88878611  0.70203728 -0.68128741\n",
      " -1.30378352 -0.54295494  0.49453858  1.46286586  0.84036975 -1.30378352\n",
      "  0.56370481 -0.40462247  0.70203728 -1.99544586 -0.19712377  1.25536715\n",
      " -1.44211599 -1.09628481  1.25536715 -0.54295494  1.60119832 -2.75627444\n",
      " -0.75045364  0.07954117 -0.33545624  0.28703987 -0.26629     0.84036975\n",
      "  0.84036975  1.53203209 -0.19712377  0.90953598  1.04786845  0.70203728\n",
      "  2.1545282   1.11703468  0.07954117  0.35620611 -0.81961988  0.56370481\n",
      " -0.33545624  1.25536715  0.01037494 -1.16545105  0.77120351  0.1487074\n",
      "  0.1487074   0.1487074  -0.33545624 -0.4737887  -0.33545624 -0.40462247\n",
      " -0.4737887   1.11703468 -0.95795234 -0.0587913  -0.19712377 -0.19712377\n",
      " -2.34127703 -0.33545624  1.25536715 -0.75045364 -0.81961988 -1.16545105\n",
      "  0.01037494  0.49453858 -0.81961988 -1.16545105 -0.33545624 -0.0587913\n",
      "  0.42537234  0.42537234  1.11703468  0.90953598 -1.44211599 -0.68128741\n",
      "  0.35620611  1.32453339 -1.58044845 -0.75045364  0.1487074  -0.61212117\n",
      " -0.75045364  0.49453858  1.04786845  0.07954117  0.49453858 -0.75045364\n",
      "  1.53203209  0.42537234 -1.30378352  1.11703468 -1.23461728  0.35620611\n",
      " -1.44211599 -0.81961988 -2.41044327 -1.37294975  1.11703468 -1.78794716\n",
      "  0.84036975 -1.23461728 -1.09628481 -0.75045364 -0.12795753 -1.02711858\n",
      "  0.97870222  1.25536715 -1.64961469  1.9470295   0.28703987  0.42537234\n",
      " -1.09628481  0.1487074  -0.61212117  0.28703987  1.04786845 -1.64961469\n",
      " -0.54295494 -1.51128222  2.1545282   2.1545282  -0.75045364 -2.2721108\n",
      " -0.19712377  0.63287104  0.42537234 -2.2721108   0.63287104  0.07954117\n",
      "  1.53203209  0.21787364  0.77120351 -0.33545624 -1.78794716  1.18620092\n",
      "  0.97870222 -1.09628481  1.80869703  0.1487074  -0.61212117 -0.81961988\n",
      " -1.02711858  0.21787364 -0.81961988 -1.09628481 -0.12795753 -0.0587913\n",
      " -0.54295494  1.18620092  1.18620092 -0.95795234 -0.61212117 -1.51128222\n",
      " -0.95795234 -0.61212117  0.97870222 -0.26629    -1.64961469 -0.0587913\n",
      "  1.80869703 -1.51128222 -0.33545624 -0.61212117  0.35620611  1.04786845\n",
      " -3.37877055 -0.4737887   1.73953079  0.28703987 -1.02711858  0.01037494\n",
      " -0.0587913  -0.33545624  0.35620611 -0.0587913   0.63287104 -0.4737887\n",
      "  0.49453858 -0.54295494  0.42537234 -0.81961988 -3.03293937  0.01037494\n",
      " -0.81961988 -0.81961988  0.21787364  1.25536715 -1.09628481  2.1545282\n",
      " -0.33545624 -1.30378352  0.63287104  1.87786326  0.35620611 -0.88878611\n",
      " -0.33545624  0.42537234 -1.99544586 -0.61212117 -1.09628481 -2.96377314\n",
      "  0.1487074  -1.44211599  0.35620611 -0.75045364 -2.06461209  0.1487074\n",
      "  0.63287104 -1.02711858 -0.4737887  -0.61212117  0.07954117 -0.75045364\n",
      "  0.56370481 -0.4737887  -0.88878611 -2.54877573  0.01037494  0.35620611\n",
      "  0.49453858  0.42537234  0.42537234 -2.61794197 -0.40462247  0.49453858\n",
      "  2.1545282  -1.44211599 -0.12795753  0.77120351  0.01037494 -0.61212117\n",
      " -0.4737887   0.56370481  0.90953598 -0.0587913   1.67036456  0.84036975\n",
      " -0.33545624 -1.23461728  0.1487074  -1.23461728 -1.51128222  1.39369962\n",
      " -0.40462247  0.35620611  1.80869703 -1.85711339  0.01037494  1.67036456\n",
      "  0.35620611 -1.92627963  0.42537234  0.35620611  0.42537234  0.01037494\n",
      " -0.26629     0.56370481 -0.0587913  -0.26629    -0.68128741 -0.33545624\n",
      " -1.71878092  1.18620092 -1.37294975  1.11703468 -0.33545624 -0.54295494\n",
      "  1.04786845  0.77120351  2.1545282   0.49453858 -0.33545624 -0.12795753\n",
      "  0.77120351  0.49453858  0.90953598  1.25536715 -1.30378352 -0.40462247\n",
      " -0.12795753 -0.61212117 -0.81961988  2.01619573  2.1545282   0.63287104\n",
      "  0.07954117  0.49453858  0.63287104 -0.61212117  0.70203728  1.11703468\n",
      " -2.06461209  0.97870222 -0.88878611  0.01037494 -1.16545105  1.18620092\n",
      " -0.26629    -0.81961988  1.32453339 -1.51128222  0.77120351  0.97870222\n",
      "  0.42537234  0.49453858 -1.64961469  0.97870222  1.67036456 -1.09628481\n",
      " -0.75045364 -1.16545105 -0.40462247  0.21787364  0.28703987  0.63287104\n",
      "  0.42537234  0.35620611  0.1487074  -0.40462247  1.32453339  0.56370481\n",
      "  0.28703987 -0.61212117  0.21787364 -0.4737887   0.1487074   0.90953598\n",
      " -0.68128741  1.46286586  1.11703468  0.35620611  0.07954117 -1.92627963\n",
      "  1.32453339  1.53203209 -0.61212117 -0.12795753 -1.71878092  1.11703468\n",
      " -0.19712377 -0.19712377 -0.95795234  0.01037494  0.28703987  1.18620092\n",
      " -0.61212117 -1.71878092 -0.95795234 -1.58044845 -0.68128741  0.28703987\n",
      "  0.28703987 -0.4737887  -0.61212117 -0.0587913   2.1545282  -0.61212117\n",
      " -0.81961988  1.87786326 -0.54295494  1.67036456 -1.02711858  0.90953598\n",
      "  0.21787364 -0.75045364  0.42537234  0.56370481  1.67036456 -1.23461728\n",
      "  1.67036456 -1.23461728 -0.4737887  -0.68128741 -1.30378352 -0.61212117\n",
      " -0.0587913   0.70203728  0.70203728  0.90953598  0.49453858  1.67036456\n",
      "  1.80869703  0.90953598 -0.19712377  2.1545282  -1.44211599  1.25536715\n",
      " -0.54295494  0.84036975 -0.0587913   1.18620092 -0.4737887   0.01037494\n",
      " -1.16545105 -1.78794716 -0.40462247  1.04786845 -0.19712377 -1.64961469\n",
      " -2.54877573 -0.75045364  0.07954117  0.56370481 -0.19712377 -1.99544586\n",
      "  0.35620611  0.56370481 -1.37294975 -0.95795234 -0.40462247  0.70203728\n",
      " -2.41044327  1.04786845  0.28703987 -1.37294975  0.01037494 -0.88878611\n",
      "  0.56370481 -2.2721108   0.63287104  0.21787364  1.87786326 -1.09628481\n",
      " -0.26629    -0.40462247 -0.54295494  0.70203728 -0.4737887   0.1487074\n",
      "  1.60119832  0.42537234  0.07954117  0.77120351 -0.40462247 -1.30378352\n",
      "  0.49453858  0.84036975  0.01037494  0.97870222 -0.81961988 -0.12795753\n",
      "  0.49453858  1.18620092 -0.75045364 -2.41044327  0.84036975 -1.02711858\n",
      "  0.70203728 -0.0587913  -1.09628481  0.42537234 -0.61212117 -1.23461728\n",
      "  1.46286586 -0.12795753  0.42537234 -0.61212117 -1.64961469  0.28703987\n",
      "  0.1487074  -1.51128222 -0.26629     0.84036975 -0.95795234  0.21787364\n",
      " -0.12795753  1.80869703  0.1487074   0.28703987  1.11703468 -0.40462247\n",
      "  1.32453339 -1.16545105 -1.09628481 -0.68128741 -0.88878611 -0.26629\n",
      " -0.61212117 -0.26629    -0.12795753 -1.71878092 -0.54295494  0.84036975\n",
      " -1.09628481 -0.4737887  -1.51128222 -0.40462247  1.04786845  0.56370481\n",
      "  0.21787364 -0.40462247 -1.64961469 -1.37294975  0.01037494  0.07954117\n",
      " -1.02711858  0.35620611 -0.40462247 -1.92627963  1.9470295   0.1487074\n",
      " -0.4737887  -0.33545624  0.49453858  0.28703987  0.28703987  0.07954117\n",
      " -0.12795753 -0.12795753  1.18620092  0.1487074  -1.09628481 -0.0587913\n",
      "  0.35620611  1.11703468  0.28703987  1.25536715 -0.75045364  0.28703987\n",
      "  0.42537234 -1.02711858  1.9470295   0.49453858  0.21787364 -0.0587913\n",
      "  0.35620611  0.90953598 -0.4737887  -0.12795753  0.28703987 -0.88878611\n",
      " -1.09628481 -1.64961469  0.77120351 -2.13377833  0.49453858  0.42537234\n",
      " -0.19712377  0.07954117  1.73953079  0.56370481  1.04786845  0.07954117\n",
      "  0.77120351 -0.75045364  1.9470295   0.77120351  0.90953598 -0.95795234\n",
      "  0.77120351 -1.09628481 -0.61212117  2.1545282 ]\n"
     ]
    }
   ],
   "source": [
    "# q4\n",
    "for i in cols:\n",
    "    z_scores = stats.zscore(df[i], axis = 0)\n",
    "    print(\"\\n\")\n",
    "    print(\"z_score of\",i,\":\\n\",z_scores)"
   ]
  },
  {
   "cell_type": "markdown",
   "metadata": {
    "id": "xxKzBs7WObtd"
   },
   "source": [
    "**Step-8:** plotting Z distribution which was found in last step for given columns"
   ]
  },
  {
   "cell_type": "code",
   "execution_count": 22,
   "metadata": {
    "colab": {
     "base_uri": "https://localhost:8080/",
     "height": 366
    },
    "id": "vOFn6oFUObtd",
    "outputId": "d9c849dd-b616-4cc1-b829-28fcb431aabb"
   },
   "outputs": [
    {
     "name": "stderr",
     "output_type": "stream",
     "text": [
      "/usr/local/lib/python3.7/dist-packages/seaborn/distributions.py:2619: FutureWarning: `distplot` is a deprecated function and will be removed in a future version. Please adapt your code to use either `displot` (a figure-level function with similar flexibility) or `kdeplot` (an axes-level function for kernel density plots).\n",
      "  warnings.warn(msg, FutureWarning)\n",
      "/usr/local/lib/python3.7/dist-packages/seaborn/distributions.py:2619: FutureWarning: `distplot` is a deprecated function and will be removed in a future version. Please adapt your code to use either `displot` (a figure-level function with similar flexibility) or `kdeplot` (an axes-level function for kernel density plots).\n",
      "  warnings.warn(msg, FutureWarning)\n",
      "/usr/local/lib/python3.7/dist-packages/seaborn/distributions.py:2619: FutureWarning: `distplot` is a deprecated function and will be removed in a future version. Please adapt your code to use either `displot` (a figure-level function with similar flexibility) or `kdeplot` (an axes-level function for kernel density plots).\n",
      "  warnings.warn(msg, FutureWarning)\n"
     ]
    },
    {
     "data": {
      "image/png": "[encoded data removed]",
      "text/plain": [
       "<Figure size 1440x360 with 3 Axes>"
      ]
     },
     "metadata": {
      "needs_background": "light"
     },
     "output_type": "display_data"
    }
   ],
   "source": [
    "# q5\n",
    "# Plotting the distribution of the data\n",
    "fig, ax = plt.subplots(1,3, figsize = [20,5]) # Rows, Columns | figsize: Width, Height\n",
    "for variable, subplot in zip(cols, ax.flatten()):\n",
    "    plot  = sns.distplot(stats.zscore(df[variable], axis = 0), ax = subplot,hist = False)\n",
    "    plot.set_xlabel(variable, fontsize = 15)\n",
    "plt.tight_layout()"
   ]
  },
  {
   "cell_type": "markdown",
   "metadata": {
    "id": "jhx7tXZkObtd"
   },
   "source": [
    "The above distribution is a Standard Normal Distribution as the data values are standardized by converting into z-scores\n",
    "\n"
   ]
  },
  {
   "cell_type": "code",
   "execution_count": null,
   "metadata": {
    "id": "2Xo11LaeObtd"
   },
   "outputs": [],
   "source": [
    "from sklearn.preprocessing import StandardScaler\n",
    "ss = StandardScaler()\n",
    "for i in cols:\n",
    "    z_scores = ss.fit_transform(df[i].values.reshape(-1,1))\n",
    "    print(\"\\n\")\n",
    "    print(\"z_score of\",i,\":\\n\",z_scores)"
   ]
  },
  {
   "cell_type": "code",
   "execution_count": 27,
   "metadata": {
    "colab": {
     "base_uri": "https://localhost:8080/"
    },
    "id": "2coJKvgcObte",
    "outputId": "23b0b983-d1cc-45b0-aa1a-cbf395b3fdeb"
   },
   "outputs": [
    {
     "data": {
      "text/plain": [
       "array([68.85])"
      ]
     },
     "execution_count": 27,
     "metadata": {},
     "output_type": "execute_result"
    }
   ],
   "source": [
    "ss.mean_"
   ]
  },
  {
   "cell_type": "code",
   "execution_count": 28,
   "metadata": {
    "colab": {
     "base_uri": "https://localhost:8080/"
    },
    "id": "bQ75EvLGObte",
    "outputId": "1e80e48b-546f-4086-c10e-9de30300bdd7"
   },
   "outputs": [
    {
     "data": {
      "text/plain": [
       "array([209.0315])"
      ]
     },
     "execution_count": 28,
     "metadata": {},
     "output_type": "execute_result"
    }
   ],
   "source": [
    "ss.var_"
   ]
  },
  {
   "cell_type": "code",
   "execution_count": null,
   "metadata": {
    "id": "-vgbUV_pObte"
   },
   "outputs": [],
   "source": []
  },
  {
   "cell_type": "code",
   "execution_count": null,
   "metadata": {
    "id": "_nir0sxeObte"
   },
   "outputs": [],
   "source": []
  },
  {
   "cell_type": "code",
   "execution_count": null,
   "metadata": {
    "id": "C_l7c7ddObte"
   },
   "outputs": [],
   "source": []
  },
  {
   "cell_type": "code",
   "execution_count": null,
   "metadata": {
    "id": "_O1b5nRGObte"
   },
   "outputs": [],
   "source": []
  },
  {
   "cell_type": "code",
   "execution_count": null,
   "metadata": {
    "id": "4GrsuQVkObte"
   },
   "outputs": [],
   "source": []
  },
  {
   "cell_type": "code",
   "execution_count": null,
   "metadata": {
    "id": "0i3gKeotObte"
   },
   "outputs": [],
   "source": []
  },
  {
   "cell_type": "code",
   "execution_count": null,
   "metadata": {
    "id": "g_BjQNtaObtf"
   },
   "outputs": [],
   "source": []
  },
  {
   "cell_type": "code",
   "execution_count": null,
   "metadata": {
    "id": "3LqNKb01Obtf"
   },
   "outputs": [],
   "source": []
  }
 ],
 "metadata": {
  "colab": {
   "collapsed_sections": [],
   "name": "DS_D25_DIY_Solution_V1_0.ipynb",
   "provenance": []
  },
  "kernelspec": {
   "display_name": "Python 3 (ipykernel)",
   "language": "python",
   "name": "python3"
  },
  "language_info": {
   "codemirror_mode": {
    "name": "ipython",
    "version": 3
   },
   "file_extension": ".py",
   "mimetype": "text/x-python",
   "name": "python",
   "nbconvert_exporter": "python",
   "pygments_lexer": "ipython3",
   "version": "3.10.9"
  }
 },
 "nbformat": 4,
 "nbformat_minor": 1
}
