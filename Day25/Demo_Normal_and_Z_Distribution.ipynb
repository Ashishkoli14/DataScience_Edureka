{
 "cells": [
  {
   "cell_type": "markdown",
   "metadata": {
    "id": "cc3KymixN_E_"
   },
   "source": [
    "<h2>Demo - Normal Distribution and Z-Distribution</h2>\n",
    "\n",
    "#### We have a dataset of students in a university. Lets analyze the distribution of the data.\n",
    "\n",
    "The dataset has following columns:\n",
    "    <br> 1. stud.id\n",
    "    <br> 2. name  \n",
    "    3. gender    \n",
    "    4. age    \n",
    "    5. height\n",
    "    <br> 6. weight\n",
    "    <br> 7. religion\n",
    "    <br> 8. nc.score\n",
    "    <br> 9. semester\n",
    "    <br> 10. major\n",
    "    <br> 11. minor\n",
    "    <br> 12. score1\n",
    "    <br> 13. score2\n",
    "    <br> 14. online.tutorial\n",
    "    <br> 15. graduated\n",
    "    <br> 16. salary\n",
    "\n",
    "# Topics covered:\n",
    "    - Normal Distribution\n",
    "    - Z - Distribution\n",
    "    - Central Limit Theorem"
   ]
  },
  {
   "cell_type": "markdown",
   "metadata": {
    "id": "5k1ToG9eN_FE"
   },
   "source": [
    "# Objectives\n",
    "In this demo we will,\n",
    "- Find the underlying distribution of data from the dataset\n",
    "- Convert the Normal Distribution into Standard Normal Distribution by calculating Z - scores \n",
    "- Understand the Central Limit Theorem and its application"
   ]
  },
  {
   "cell_type": "code",
   "execution_count": 14,
   "metadata": {
    "id": "SUJjkI0rN_FF"
   },
   "outputs": [],
   "source": [
    "# imporing packages\n",
    "\n",
    "import pandas as pd\n",
    "import numpy as np\n",
    "import seaborn as sns"
   ]
  },
  {
   "cell_type": "code",
   "execution_count": 15,
   "metadata": {
    "id": "RcjnWdS-N_FH",
    "outputId": "676b0c91-629a-4282-fc00-3b6ff517de21"
   },
   "outputs": [
    {
     "data": {
      "text/html": [
       "<div>\n",
       "<style scoped>\n",
       "    .dataframe tbody tr th:only-of-type {\n",
       "        vertical-align: middle;\n",
       "    }\n",
       "\n",
       "    .dataframe tbody tr th {\n",
       "        vertical-align: top;\n",
       "    }\n",
       "\n",
       "    .dataframe thead th {\n",
       "        text-align: right;\n",
       "    }\n",
       "</style>\n",
       "<table border=\"1\" class=\"dataframe\">\n",
       "  <thead>\n",
       "    <tr style=\"text-align: right;\">\n",
       "      <th></th>\n",
       "      <th>stud.id</th>\n",
       "      <th>name</th>\n",
       "      <th>gender</th>\n",
       "      <th>age</th>\n",
       "      <th>height</th>\n",
       "      <th>weight</th>\n",
       "      <th>religion</th>\n",
       "      <th>nc.score</th>\n",
       "      <th>semester</th>\n",
       "      <th>major</th>\n",
       "      <th>minor</th>\n",
       "      <th>score1</th>\n",
       "      <th>score2</th>\n",
       "      <th>online.tutorial</th>\n",
       "      <th>graduated</th>\n",
       "      <th>salary</th>\n",
       "    </tr>\n",
       "  </thead>\n",
       "  <tbody>\n",
       "    <tr>\n",
       "      <th>1</th>\n",
       "      <td>833917</td>\n",
       "      <td>Gonzales, Christina</td>\n",
       "      <td>Female</td>\n",
       "      <td>19</td>\n",
       "      <td>160</td>\n",
       "      <td>64.8</td>\n",
       "      <td>Muslim</td>\n",
       "      <td>1.91</td>\n",
       "      <td>1st</td>\n",
       "      <td>Political Science</td>\n",
       "      <td>Social Sciences</td>\n",
       "      <td>NaN</td>\n",
       "      <td>NaN</td>\n",
       "      <td>0</td>\n",
       "      <td>0</td>\n",
       "      <td>NaN</td>\n",
       "    </tr>\n",
       "    <tr>\n",
       "      <th>2</th>\n",
       "      <td>898539</td>\n",
       "      <td>Lozano, T'Hani</td>\n",
       "      <td>Female</td>\n",
       "      <td>19</td>\n",
       "      <td>172</td>\n",
       "      <td>73.0</td>\n",
       "      <td>Other</td>\n",
       "      <td>1.56</td>\n",
       "      <td>2nd</td>\n",
       "      <td>Social Sciences</td>\n",
       "      <td>Mathematics and Statistics</td>\n",
       "      <td>NaN</td>\n",
       "      <td>NaN</td>\n",
       "      <td>0</td>\n",
       "      <td>0</td>\n",
       "      <td>NaN</td>\n",
       "    </tr>\n",
       "    <tr>\n",
       "      <th>3</th>\n",
       "      <td>379678</td>\n",
       "      <td>Williams, Hanh</td>\n",
       "      <td>Female</td>\n",
       "      <td>22</td>\n",
       "      <td>168</td>\n",
       "      <td>70.6</td>\n",
       "      <td>Protestant</td>\n",
       "      <td>1.24</td>\n",
       "      <td>3rd</td>\n",
       "      <td>Social Sciences</td>\n",
       "      <td>Mathematics and Statistics</td>\n",
       "      <td>45.0</td>\n",
       "      <td>46.0</td>\n",
       "      <td>0</td>\n",
       "      <td>0</td>\n",
       "      <td>NaN</td>\n",
       "    </tr>\n",
       "    <tr>\n",
       "      <th>4</th>\n",
       "      <td>807564</td>\n",
       "      <td>Nem, Denzel</td>\n",
       "      <td>Male</td>\n",
       "      <td>19</td>\n",
       "      <td>183</td>\n",
       "      <td>79.7</td>\n",
       "      <td>Other</td>\n",
       "      <td>1.37</td>\n",
       "      <td>2nd</td>\n",
       "      <td>Environmental Sciences</td>\n",
       "      <td>Mathematics and Statistics</td>\n",
       "      <td>NaN</td>\n",
       "      <td>NaN</td>\n",
       "      <td>0</td>\n",
       "      <td>0</td>\n",
       "      <td>NaN</td>\n",
       "    </tr>\n",
       "    <tr>\n",
       "      <th>5</th>\n",
       "      <td>383291</td>\n",
       "      <td>Powell, Heather</td>\n",
       "      <td>Female</td>\n",
       "      <td>21</td>\n",
       "      <td>175</td>\n",
       "      <td>71.4</td>\n",
       "      <td>Catholic</td>\n",
       "      <td>1.46</td>\n",
       "      <td>1st</td>\n",
       "      <td>Environmental Sciences</td>\n",
       "      <td>Mathematics and Statistics</td>\n",
       "      <td>NaN</td>\n",
       "      <td>NaN</td>\n",
       "      <td>0</td>\n",
       "      <td>0</td>\n",
       "      <td>NaN</td>\n",
       "    </tr>\n",
       "  </tbody>\n",
       "</table>\n",
       "</div>"
      ],
      "text/plain": [
       "   stud.id                 name  gender  age  height  weight    religion  \\\n",
       "1   833917  Gonzales, Christina  Female   19     160    64.8      Muslim   \n",
       "2   898539       Lozano, T'Hani  Female   19     172    73.0       Other   \n",
       "3   379678       Williams, Hanh  Female   22     168    70.6  Protestant   \n",
       "4   807564          Nem, Denzel    Male   19     183    79.7       Other   \n",
       "5   383291      Powell, Heather  Female   21     175    71.4    Catholic   \n",
       "\n",
       "   nc.score semester                   major                       minor  \\\n",
       "1      1.91      1st       Political Science             Social Sciences   \n",
       "2      1.56      2nd         Social Sciences  Mathematics and Statistics   \n",
       "3      1.24      3rd         Social Sciences  Mathematics and Statistics   \n",
       "4      1.37      2nd  Environmental Sciences  Mathematics and Statistics   \n",
       "5      1.46      1st  Environmental Sciences  Mathematics and Statistics   \n",
       "\n",
       "   score1  score2  online.tutorial  graduated  salary  \n",
       "1     NaN     NaN                0          0     NaN  \n",
       "2     NaN     NaN                0          0     NaN  \n",
       "3    45.0    46.0                0          0     NaN  \n",
       "4     NaN     NaN                0          0     NaN  \n",
       "5     NaN     NaN                0          0     NaN  "
      ]
     },
     "execution_count": 15,
     "metadata": {},
     "output_type": "execute_result"
    }
   ],
   "source": [
    "# Loading the data\n",
    "\n",
    "data = pd.read_csv('students.csv')\n",
    "data.head()"
   ]
  },
  {
   "cell_type": "code",
   "execution_count": 16,
   "metadata": {
    "id": "Aej-SkUnN_FI",
    "outputId": "971af73b-acae-4f79-cc21-bc6e8afcfea3"
   },
   "outputs": [
    {
     "name": "stdout",
     "output_type": "stream",
     "text": [
      "Number of rows: 8239\n",
      "Number of columns: 16\n"
     ]
    }
   ],
   "source": [
    "# shape of the data\n",
    "\n",
    "print('Number of rows:',data.shape[0])\n",
    "print('Number of columns:',data.shape[1])"
   ]
  },
  {
   "cell_type": "markdown",
   "metadata": {
    "id": "8PAJUN__N_FI"
   },
   "source": [
    "## Normal Distribution\n",
    "It is a symmetric distribution where most of the observations lies around the mean. The distribution looks like a bell curve.<br>\n",
    "Normal distribution is frequently seen in real world. For example, data related to height, age, income and many more.\n",
    "\n",
    "### Consider weight data of students from the dataset, find its distribution along with its mean and standard deviation, and also find its skewness and kurtosis\n"
   ]
  },
  {
   "cell_type": "code",
   "execution_count": 17,
   "metadata": {
    "id": "lWeKyl9JN_FJ",
    "outputId": "d6b0dc59-f329-4b61-931c-4d94e4f93cfc"
   },
   "outputs": [
    {
     "data": {
      "text/plain": [
       "1     64.8\n",
       "2     73.0\n",
       "3     70.6\n",
       "4     79.7\n",
       "5     71.4\n",
       "6     85.8\n",
       "7     65.9\n",
       "8     65.7\n",
       "9     94.4\n",
       "10    66.0\n",
       "Name: weight, dtype: float64"
      ]
     },
     "execution_count": 17,
     "metadata": {},
     "output_type": "execute_result"
    }
   ],
   "source": [
    "# Extracting weights data from the data\n",
    "\n",
    "weights = data.weight\n",
    "weights.head(10)"
   ]
  },
  {
   "cell_type": "code",
   "execution_count": 18,
   "metadata": {
    "id": "LovyJ6P0N_FJ",
    "outputId": "48b41e63-d2ae-41a5-f614-75465a9807c3"
   },
   "outputs": [
    {
     "name": "stderr",
     "output_type": "stream",
     "text": [
      "C:\\Users\\navan\\anaconda3\\lib\\site-packages\\seaborn\\distributions.py:2619: FutureWarning: `distplot` is a deprecated function and will be removed in a future version. Please adapt your code to use either `displot` (a figure-level function with similar flexibility) or `kdeplot` (an axes-level function for kernel density plots).\n",
      "  warnings.warn(msg, FutureWarning)\n"
     ]
    },
    {
     "data": {
      "text/plain": [
       "<AxesSubplot:xlabel='weight', ylabel='Density'>"
      ]
     },
     "execution_count": 18,
     "metadata": {},
     "output_type": "execute_result"
    },
    {
     "data": {
      "image/png": "[encoded data removed]",
      "text/plain": [
       "<Figure size 432x288 with 1 Axes>"
      ]
     },
     "metadata": {
      "needs_background": "light"
     },
     "output_type": "display_data"
    }
   ],
   "source": [
    "# Plotting the distribution of the data\n",
    "\n",
    "sns.distplot(weights, hist = False)"
   ]
  },
  {
   "cell_type": "code",
   "execution_count": 19,
   "metadata": {
    "id": "viqAJag9N_FJ",
    "outputId": "e8f4ef20-6634-4770-bcad-b9fa89002570"
   },
   "outputs": [
    {
     "name": "stdout",
     "output_type": "stream",
     "text": [
      "Mean: 72.99813084112117\n",
      "Standard Deviation: 8.635161688392094\n"
     ]
    }
   ],
   "source": [
    "# Calculating the mean and standard deviation of the normal distribution\n",
    "\n",
    "print('Mean:',weights.mean())\n",
    "print('Standard Deviation:',weights.std())"
   ]
  },
  {
   "cell_type": "markdown",
   "metadata": {
    "id": "5H-mWStGN_FK"
   },
   "source": [
    "The above distribution is approximately normal let's find the skewness and kurtosis of the distribution\n",
    "    - Skewness helps to find the symmetry of the distribution\n",
    "    - Kurtosis helps to describe the tails of the distribution\n",
    "#### In a normal distribution both Skewness and Kurtosis equals to zero"
   ]
  },
  {
   "cell_type": "code",
   "execution_count": 20,
   "metadata": {
    "id": "tNFzvY0lN_FK",
    "outputId": "4fd93668-5ea2-4f29-f137-eebfe5b0dc97"
   },
   "outputs": [
    {
     "name": "stdout",
     "output_type": "stream",
     "text": [
      "The Skewness of the distribution: 0.6508854364719628\n",
      "The Kurtosis of the distribution: 0.2921368367627899\n"
     ]
    }
   ],
   "source": [
    "# Finding the skewness of the distribution\n",
    "from scipy import stats\n",
    "skewness = stats.skew(weights)\n",
    "print('The Skewness of the distribution:',skewness)\n",
    "\n",
    "# Finding the kurtosis of the distribution\n",
    "kurtosis = stats.kurtosis(weights)\n",
    "print('The Kurtosis of the distribution:',kurtosis)"
   ]
  },
  {
   "cell_type": "markdown",
   "metadata": {
    "id": "C-EKC5V3N_FL"
   },
   "source": [
    "### Inference:\n",
    "1. The data is normally distributed with mean of 72.9 and standard deviation of 8.63\n",
    "2. Both Skewness and Kurtosis are approximately equal to zero"
   ]
  },
  {
   "cell_type": "markdown",
   "metadata": {
    "id": "XkQx8adaN_FL"
   },
   "source": [
    "## Z - Distribution (Standard Normal Distribution)\n",
    "Standard normal distribution is a special case of normal distribution where mean is 0 and standard deviation is 1<br>\n",
    "\n",
    "We can convert a Normal Distribution into Z - Distribution by finding the z - scores of data points of normally distributed\n",
    "data\n",
    "\n",
    "### Convert the weight data of students into Z - Distribution by calculating its z-scores and find its mean and stanrdard deviation"
   ]
  },
  {
   "cell_type": "code",
   "execution_count": 21,
   "metadata": {
    "id": "aiB97ovLN_FL",
    "outputId": "4b188919-33bb-4c01-aa19-9db3286c9132"
   },
   "outputs": [
    {
     "data": {
      "text/plain": [
       "1      -0.949447\n",
       "2       0.000216\n",
       "3      -0.277734\n",
       "4       0.776161\n",
       "5      -0.185084\n",
       "          ...   \n",
       "8235    0.706673\n",
       "8236   -0.046109\n",
       "8237   -0.613590\n",
       "8238    2.965020\n",
       "8239   -0.463034\n",
       "Name: weight, Length: 8239, dtype: float64"
      ]
     },
     "execution_count": 21,
     "metadata": {},
     "output_type": "execute_result"
    }
   ],
   "source": [
    "# Calculating z-scores\n",
    "from scipy import stats\n",
    "\n",
    "z_scores = stats.zscore(weights, axis = 0)\n",
    "z_scores"
   ]
  },
  {
   "cell_type": "code",
   "execution_count": 22,
   "metadata": {
    "id": "vkXGipbwN_FM",
    "outputId": "9462585e-a9ba-4469-edf4-61462fd0d281"
   },
   "outputs": [
    {
     "name": "stderr",
     "output_type": "stream",
     "text": [
      "C:\\Users\\navan\\anaconda3\\lib\\site-packages\\seaborn\\distributions.py:2619: FutureWarning: `distplot` is a deprecated function and will be removed in a future version. Please adapt your code to use either `displot` (a figure-level function with similar flexibility) or `kdeplot` (an axes-level function for kernel density plots).\n",
      "  warnings.warn(msg, FutureWarning)\n"
     ]
    },
    {
     "data": {
      "text/plain": [
       "<AxesSubplot:xlabel='weight', ylabel='Density'>"
      ]
     },
     "execution_count": 22,
     "metadata": {},
     "output_type": "execute_result"
    },
    {
     "data": {
      "image/png": "[encoded data removed]",
      "text/plain": [
       "<Figure size 432x288 with 1 Axes>"
      ]
     },
     "metadata": {
      "needs_background": "light"
     },
     "output_type": "display_data"
    }
   ],
   "source": [
    "# Plotting the distribution of the data\n",
    "\n",
    "sns.distplot(z_scores, hist = False)"
   ]
  },
  {
   "cell_type": "markdown",
   "metadata": {
    "id": "bnWbi5poN_FM"
   },
   "source": [
    "The above distribution is a Standard Normal Distribution as the data values are standardized by converting into z-scores\n",
    "\n",
    "#### The Mean and the Standard Deviation of a standard normal distribution is equal to 0 and 1 respectively"
   ]
  },
  {
   "cell_type": "code",
   "execution_count": 23,
   "metadata": {
    "id": "5im4D9PbN_FN",
    "outputId": "298cc08e-22c1-464b-d528-ec27e253030d"
   },
   "outputs": [
    {
     "name": "stdout",
     "output_type": "stream",
     "text": [
      "Mean: -1.4349285606474904e-15\n",
      "Standard Deviation: 1.0000606925014972\n"
     ]
    }
   ],
   "source": [
    "# Calculating the mean and standard deviation of the standard normal distribution\n",
    "\n",
    "print('Mean:',z_scores.mean())\n",
    "print('Standard Deviation:',z_scores.std())"
   ]
  },
  {
   "cell_type": "markdown",
   "metadata": {
    "id": "bWZl1VZyN_FN"
   },
   "source": [
    "### Inference\n",
    "The mean and the standard deviation of standard normal distribution is approximately equal to 0 and 1 respectively"
   ]
  },
  {
   "cell_type": "markdown",
   "metadata": {
    "id": "VJewSrtwN_FO"
   },
   "source": [
    "### Weight of the student is 60, find out the how many standard deviation away the point is located from mean where mean is 72.9 and standard deviation is 8.63 as per the weights data of students\n",
    "\n",
    "Given weight is 60<br>\n",
    "Let us consider the weight data and find its z-score"
   ]
  },
  {
   "cell_type": "code",
   "execution_count": 24,
   "metadata": {
    "id": "AfnesCOJN_FO",
    "outputId": "5d47283d-96dd-429a-e190-83a3b5920a63"
   },
   "outputs": [
    {
     "name": "stdout",
     "output_type": "stream",
     "text": [
      "Z-score of 60 is: -1.494785631517961\n"
     ]
    }
   ],
   "source": [
    "# z-score of 60 with mean = 72.9 and standard deviation = 8.63\n",
    "\n",
    "z_score = (60 - 72.9) / 8.63\n",
    "print('Z-score of 60 is:',z_score)"
   ]
  },
  {
   "cell_type": "markdown",
   "metadata": {
    "id": "sVdlFhYRN_FO"
   },
   "source": [
    "### Inference\n",
    "The given weight 60 is 1.49 standard deviations below the mean, it is below the mean because the z-score is in terms of negative value"
   ]
  },
  {
   "cell_type": "markdown",
   "metadata": {
    "id": "uQ1bBSJtN_FP"
   },
   "source": [
    "### Considering the weight data of student with mean 72.9 and standard deviation of 8.63, what is the probability of selecting a student having weight less than 65?\n",
    "In a normal distribution curve we have to find the area under the curve which is in the left side of 65 to find the probability of selecting student having weight less that 65\n",
    "\n",
    "We can find the area under the curve by converting the data into z-scores and by using z-table we can find the probability"
   ]
  },
  {
   "cell_type": "code",
   "execution_count": 25,
   "metadata": {},
   "outputs": [
    {
     "name": "stdout",
     "output_type": "stream",
     "text": [
      "Z-score of 65 is: -0.9154113557358059\n"
     ]
    }
   ],
   "source": [
    "\n",
    "z_score = (65 - 72.9) / 8.63\n",
    "print('Z-score of 65 is:',z_score)"
   ]
  },
  {
   "cell_type": "markdown",
   "metadata": {},
   "source": [
    "https://www.ztable.net/wp-content/uploads/2020/09/read-negativeztable-intersection.png"
   ]
  },
  {
   "cell_type": "code",
   "execution_count": null,
   "metadata": {},
   "outputs": [],
   "source": [
    "# p value is - 0.181 --> 18%"
   ]
  }
 ],
 "metadata": {
  "colab": {
   "name": "Demo Normal and Z-Distribution.ipynb",
   "provenance": []
  },
  "kernelspec": {
   "display_name": "Python 3 (ipykernel)",
   "language": "python",
   "name": "python3"
  },
  "language_info": {
   "codemirror_mode": {
    "name": "ipython",
    "version": 3
   },
   "file_extension": ".py",
   "mimetype": "text/x-python",
   "name": "python",
   "nbconvert_exporter": "python",
   "pygments_lexer": "ipython3",
   "version": "3.9.7"
  }
 },
 "nbformat": 4,
 "nbformat_minor": 1
}
