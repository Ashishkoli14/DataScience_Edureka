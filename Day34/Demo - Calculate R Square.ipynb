{
 "cells": [
  {
   "cell_type": "markdown",
   "metadata": {},
   "source": [
    "## DS_D34_LU2_V1.0"
   ]
  },
  {
   "cell_type": "markdown",
   "metadata": {},
   "source": [
    "In this demo, you will be calculating R-square for different inputs."
   ]
  },
  {
   "cell_type": "markdown",
   "metadata": {},
   "source": [
    "---"
   ]
  },
  {
   "cell_type": "markdown",
   "metadata": {},
   "source": [
    "<div style=\"background-color:##EDF9FF\">\n",
    " <ul><li><h3>Import required libraries</h3></li></ul>\n",
    "</div>"
   ]
  },
  {
   "cell_type": "code",
   "execution_count": 1,
   "metadata": {},
   "outputs": [],
   "source": [
    "import numpy as np \n",
    "import matplotlib.pyplot as plt \n",
    "%matplotlib inline"
   ]
  },
  {
   "cell_type": "markdown",
   "metadata": {},
   "source": [
    "<div style=\"background-color:##EDF9FF\">\n",
    " <ul><li><h3>Function to calculate intercept and slope</h3></li></ul>\n",
    "</div>"
   ]
  },
  {
   "cell_type": "code",
   "execution_count": 2,
   "metadata": {},
   "outputs": [],
   "source": [
    "#This function will be used to find the value of y intercept and slope\n",
    "def coef_estimation(x, y): \n",
    "    # number of observations/points\n",
    "    n = np.size(x) \n",
    "  \n",
    "    # Find mean of x and y\n",
    "    x_mean = np.mean(x)\n",
    "    y_mean = np.mean(y) \n",
    "  \n",
    "    # Use sum of square to find out the intercept and slope\n",
    "    \n",
    "    SS_xy = np.sum(y*x) - (n * y_mean * x_mean)\n",
    "    SS_xx = np.sum(x*x) - (n * x_mean * x_mean)\n",
    "  \n",
    "    # calculating regression coefficients \n",
    "    slope = SS_xy / SS_xx \n",
    "    y_intercept = y_mean - slope*x_mean\n",
    "  \n",
    "    return(y_intercept, slope) "
   ]
  },
  {
   "cell_type": "markdown",
   "metadata": {},
   "source": [
    "<div style=\"background-color:##EDF9FF\">\n",
    " <ul><li><h3>Finding R-squared using the above generated function and sklearn library     \n",
    "              </h3></li></ul>\n",
    "</div>"
   ]
  },
  {
   "cell_type": "markdown",
   "metadata": {},
   "source": [
    "<div style=\"background-color:##EDF9FF\">\n",
    " <ul><li><h3>Example-1</h3></li></ul>\n",
    "</div>"
   ]
  },
  {
   "cell_type": "code",
   "execution_count": 3,
   "metadata": {},
   "outputs": [
    {
     "name": "stdout",
     "output_type": "stream",
     "text": [
      "R-Square:  0.9597000937207123\n"
     ]
    }
   ],
   "source": [
    "from sklearn.metrics import r2_score\n",
    "\n",
    "x = np.array([0, 1, 2, 3, 4, 5, 6, 7, 8, 9]) \n",
    "y = np.array([1, 3, 2, 5, 7, 7, 8, 9, 10, 12]) \n",
    "\n",
    "c, m = coef_estimation(x,y)\n",
    "y_pred = c+ m*x\n",
    "print(\"R-Square: \",r2_score(y, y_pred))"
   ]
  },
  {
   "cell_type": "markdown",
   "metadata": {},
   "source": [
    "<div style=\"background-color:##EDF9FF\">\n",
    " <ul><li><h3>Example-2</h3></li></ul>\n",
    "</div>"
   ]
  },
  {
   "cell_type": "code",
   "execution_count": 4,
   "metadata": {},
   "outputs": [
    {
     "name": "stdout",
     "output_type": "stream",
     "text": [
      "R-Square:  0.3076923076923078\n"
     ]
    }
   ],
   "source": [
    "from sklearn.metrics import r2_score\n",
    "\n",
    "x = np.array([1, 2, 3, 4, 5]) \n",
    "y = np.array([3, 4, 2, 4, 5]) \n",
    "\n",
    "c, m = coef_estimation(x,y)\n",
    "y_pred = c+ m*x\n",
    "print(\"R-Square: \",r2_score(y, y_pred))"
   ]
  },
  {
   "cell_type": "markdown",
   "metadata": {},
   "source": [
    "<b> conclusion </b> : we have calculated R-squared for different values of input"
   ]
  }
 ],
 "metadata": {
  "kernelspec": {
   "display_name": "Python 3",
   "language": "python",
   "name": "python3"
  },
  "language_info": {
   "codemirror_mode": {
    "name": "ipython",
    "version": 3
   },
   "file_extension": ".py",
   "mimetype": "text/x-python",
   "name": "python",
   "nbconvert_exporter": "python",
   "pygments_lexer": "ipython3",
   "version": "3.8.5"
  }
 },
 "nbformat": 4,
 "nbformat_minor": 2
}
