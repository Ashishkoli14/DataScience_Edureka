{
  "nbformat": 4,
  "nbformat_minor": 0,
  "metadata": {
    "colab": {
      "name": "DS_D20_DIY_solution_V1.0.ipynb",
      "provenance": [],
      "collapsed_sections": []
    },
    "kernelspec": {
      "name": "python3",
      "display_name": "Python 3"
    },
    "language_info": {
      "name": "python"
    }
  },
  "cells": [
    {
      "cell_type": "markdown",
      "source": [
        "##Day 20 - DIY Solution"
      ],
      "metadata": {
        "id": "IndvqwZjdqO4"
      }
    },
    {
      "cell_type": "markdown",
      "source": [
        "**Q1. Problem Statement: Measures of Dispersion**\n",
        "\n",
        "Load the “HRDataset_v14.csv” dataset  into a DataFrame and group the data based on the “Department” column. From the grouped DataFrame and perform following tasks:\n",
        "1.\tCalculate Mean and Median, of the “Salary” column.\n",
        "2.\tFind out which Department has highest number of employees\n",
        "3.\tCalculate the standard deviation and variance of  “Salary” column\n",
        "4.\tFind interquartile range of \"Salary\" column\n",
        "5.\tFind skewness and kurtosis of the original dataset\n",
        "6.\tFind the z-score of \"Salary\" column\n",
        "7.\tFind the 30th percentile of \"Salary\" cloumn\n",
        "8.\tFind the Quartiles of \"GenderID\" column (You can set quartile values of your choice)\n",
        "\n"
      ],
      "metadata": {
        "id": "DbDTn0U-dt65"
      }
    },
    {
      "cell_type": "markdown",
      "source": [
        "**Step-1:** Loading the dataset into a DataFrame."
      ],
      "metadata": {
        "id": "MterG_yTBUuF"
      }
    },
    {
      "cell_type": "code",
      "execution_count": null,
      "metadata": {
        "id": "vVzmq0-GdHSb",
        "colab": {
          "base_uri": "https://localhost:8080/",
          "height": 369
        },
        "outputId": "45ea9795-9c5d-4174-d359-608c669ddf52"
      },
      "outputs": [
        {
          "output_type": "display_data",
          "data": {
            "text/plain": [
              "              Employee_Name  EmpID  MarriedID  MaritalStatusID  GenderID  \\\n",
              "0       Adinolfi, Wilson  K  10026          0                0         1   \n",
              "1  Ait Sidi, Karthikeyan     10084          1                1         1   \n",
              "2         Akinkuolie, Sarah  10196          1                1         0   \n",
              "3              Alagbe,Trina  10088          1                1         0   \n",
              "4          Anderson, Carol   10069          0                2         0   \n",
              "\n",
              "   EmpStatusID  DeptID  PerfScoreID  FromDiversityJobFairID  Salary  ...  \\\n",
              "0            1       5            4                       0   62506  ...   \n",
              "1            5       3            3                       0  104437  ...   \n",
              "2            5       5            3                       0   64955  ...   \n",
              "3            1       5            3                       0   64991  ...   \n",
              "4            5       5            3                       0   50825  ...   \n",
              "\n",
              "      ManagerName  ManagerID RecruitmentSource PerformanceScore  \\\n",
              "0  Michael Albert       22.0          LinkedIn          Exceeds   \n",
              "1      Simon Roup        4.0            Indeed      Fully Meets   \n",
              "2  Kissy Sullivan       20.0          LinkedIn      Fully Meets   \n",
              "3    Elijiah Gray       16.0            Indeed      Fully Meets   \n",
              "4  Webster Butler       39.0     Google Search      Fully Meets   \n",
              "\n",
              "   EngagementSurvey EmpSatisfaction SpecialProjectsCount  \\\n",
              "0              4.60               5                    0   \n",
              "1              4.96               3                    6   \n",
              "2              3.02               3                    0   \n",
              "3              4.84               5                    0   \n",
              "4              5.00               4                    0   \n",
              "\n",
              "  LastPerformanceReview_Date DaysLateLast30 Absences  \n",
              "0                  1/17/2019              0        1  \n",
              "1                  2/24/2016              0       17  \n",
              "2                  5/15/2012              0        3  \n",
              "3                   1/3/2019              0       15  \n",
              "4                   2/1/2016              0        2  \n",
              "\n",
              "[5 rows x 36 columns]"
            ],
            "text/html": [
              "\n",
              "  <div id=\"df-60177f83-c48d-4658-a891-f58145f676a8\">\n",
              "    <div class=\"colab-df-container\">\n",
              "      <div>\n",
              "<style scoped>\n",
              "    .dataframe tbody tr th:only-of-type {\n",
              "        vertical-align: middle;\n",
              "    }\n",
              "\n",
              "    .dataframe tbody tr th {\n",
              "        vertical-align: top;\n",
              "    }\n",
              "\n",
              "    .dataframe thead th {\n",
              "        text-align: right;\n",
              "    }\n",
              "</style>\n",
              "<table border=\"1\" class=\"dataframe\">\n",
              "  <thead>\n",
              "    <tr style=\"text-align: right;\">\n",
              "      <th></th>\n",
              "      <th>Employee_Name</th>\n",
              "      <th>EmpID</th>\n",
              "      <th>MarriedID</th>\n",
              "      <th>MaritalStatusID</th>\n",
              "      <th>GenderID</th>\n",
              "      <th>EmpStatusID</th>\n",
              "      <th>DeptID</th>\n",
              "      <th>PerfScoreID</th>\n",
              "      <th>FromDiversityJobFairID</th>\n",
              "      <th>Salary</th>\n",
              "      <th>...</th>\n",
              "      <th>ManagerName</th>\n",
              "      <th>ManagerID</th>\n",
              "      <th>RecruitmentSource</th>\n",
              "      <th>PerformanceScore</th>\n",
              "      <th>EngagementSurvey</th>\n",
              "      <th>EmpSatisfaction</th>\n",
              "      <th>SpecialProjectsCount</th>\n",
              "      <th>LastPerformanceReview_Date</th>\n",
              "      <th>DaysLateLast30</th>\n",
              "      <th>Absences</th>\n",
              "    </tr>\n",
              "  </thead>\n",
              "  <tbody>\n",
              "    <tr>\n",
              "      <th>0</th>\n",
              "      <td>Adinolfi, Wilson  K</td>\n",
              "      <td>10026</td>\n",
              "      <td>0</td>\n",
              "      <td>0</td>\n",
              "      <td>1</td>\n",
              "      <td>1</td>\n",
              "      <td>5</td>\n",
              "      <td>4</td>\n",
              "      <td>0</td>\n",
              "      <td>62506</td>\n",
              "      <td>...</td>\n",
              "      <td>Michael Albert</td>\n",
              "      <td>22.0</td>\n",
              "      <td>LinkedIn</td>\n",
              "      <td>Exceeds</td>\n",
              "      <td>4.60</td>\n",
              "      <td>5</td>\n",
              "      <td>0</td>\n",
              "      <td>1/17/2019</td>\n",
              "      <td>0</td>\n",
              "      <td>1</td>\n",
              "    </tr>\n",
              "    <tr>\n",
              "      <th>1</th>\n",
              "      <td>Ait Sidi, Karthikeyan</td>\n",
              "      <td>10084</td>\n",
              "      <td>1</td>\n",
              "      <td>1</td>\n",
              "      <td>1</td>\n",
              "      <td>5</td>\n",
              "      <td>3</td>\n",
              "      <td>3</td>\n",
              "      <td>0</td>\n",
              "      <td>104437</td>\n",
              "      <td>...</td>\n",
              "      <td>Simon Roup</td>\n",
              "      <td>4.0</td>\n",
              "      <td>Indeed</td>\n",
              "      <td>Fully Meets</td>\n",
              "      <td>4.96</td>\n",
              "      <td>3</td>\n",
              "      <td>6</td>\n",
              "      <td>2/24/2016</td>\n",
              "      <td>0</td>\n",
              "      <td>17</td>\n",
              "    </tr>\n",
              "    <tr>\n",
              "      <th>2</th>\n",
              "      <td>Akinkuolie, Sarah</td>\n",
              "      <td>10196</td>\n",
              "      <td>1</td>\n",
              "      <td>1</td>\n",
              "      <td>0</td>\n",
              "      <td>5</td>\n",
              "      <td>5</td>\n",
              "      <td>3</td>\n",
              "      <td>0</td>\n",
              "      <td>64955</td>\n",
              "      <td>...</td>\n",
              "      <td>Kissy Sullivan</td>\n",
              "      <td>20.0</td>\n",
              "      <td>LinkedIn</td>\n",
              "      <td>Fully Meets</td>\n",
              "      <td>3.02</td>\n",
              "      <td>3</td>\n",
              "      <td>0</td>\n",
              "      <td>5/15/2012</td>\n",
              "      <td>0</td>\n",
              "      <td>3</td>\n",
              "    </tr>\n",
              "    <tr>\n",
              "      <th>3</th>\n",
              "      <td>Alagbe,Trina</td>\n",
              "      <td>10088</td>\n",
              "      <td>1</td>\n",
              "      <td>1</td>\n",
              "      <td>0</td>\n",
              "      <td>1</td>\n",
              "      <td>5</td>\n",
              "      <td>3</td>\n",
              "      <td>0</td>\n",
              "      <td>64991</td>\n",
              "      <td>...</td>\n",
              "      <td>Elijiah Gray</td>\n",
              "      <td>16.0</td>\n",
              "      <td>Indeed</td>\n",
              "      <td>Fully Meets</td>\n",
              "      <td>4.84</td>\n",
              "      <td>5</td>\n",
              "      <td>0</td>\n",
              "      <td>1/3/2019</td>\n",
              "      <td>0</td>\n",
              "      <td>15</td>\n",
              "    </tr>\n",
              "    <tr>\n",
              "      <th>4</th>\n",
              "      <td>Anderson, Carol</td>\n",
              "      <td>10069</td>\n",
              "      <td>0</td>\n",
              "      <td>2</td>\n",
              "      <td>0</td>\n",
              "      <td>5</td>\n",
              "      <td>5</td>\n",
              "      <td>3</td>\n",
              "      <td>0</td>\n",
              "      <td>50825</td>\n",
              "      <td>...</td>\n",
              "      <td>Webster Butler</td>\n",
              "      <td>39.0</td>\n",
              "      <td>Google Search</td>\n",
              "      <td>Fully Meets</td>\n",
              "      <td>5.00</td>\n",
              "      <td>4</td>\n",
              "      <td>0</td>\n",
              "      <td>2/1/2016</td>\n",
              "      <td>0</td>\n",
              "      <td>2</td>\n",
              "    </tr>\n",
              "  </tbody>\n",
              "</table>\n",
              "<p>5 rows × 36 columns</p>\n",
              "</div>\n",
              "      <button class=\"colab-df-convert\" onclick=\"convertToInteractive('df-60177f83-c48d-4658-a891-f58145f676a8')\"\n",
              "              title=\"Convert this dataframe to an interactive table.\"\n",
              "              style=\"display:none;\">\n",
              "        \n",
              "  <svg xmlns=\"http://www.w3.org/2000/svg\" height=\"24px\"viewBox=\"0 0 24 24\"\n",
              "       width=\"24px\">\n",
              "    <path d=\"M0 0h24v24H0V0z\" fill=\"none\"/>\n",
              "    <path d=\"M18.56 5.44l.94 2.06.94-2.06 2.06-.94-2.06-.94-.94-2.06-.94 2.06-2.06.94zm-11 1L8.5 8.5l.94-2.06 2.06-.94-2.06-.94L8.5 2.5l-.94 2.06-2.06.94zm10 10l.94 2.06.94-2.06 2.06-.94-2.06-.94-.94-2.06-.94 2.06-2.06.94z\"/><path d=\"M17.41 7.96l-1.37-1.37c-.4-.4-.92-.59-1.43-.59-.52 0-1.04.2-1.43.59L10.3 9.45l-7.72 7.72c-.78.78-.78 2.05 0 2.83L4 21.41c.39.39.9.59 1.41.59.51 0 1.02-.2 1.41-.59l7.78-7.78 2.81-2.81c.8-.78.8-2.07 0-2.86zM5.41 20L4 18.59l7.72-7.72 1.47 1.35L5.41 20z\"/>\n",
              "  </svg>\n",
              "      </button>\n",
              "      \n",
              "  <style>\n",
              "    .colab-df-container {\n",
              "      display:flex;\n",
              "      flex-wrap:wrap;\n",
              "      gap: 12px;\n",
              "    }\n",
              "\n",
              "    .colab-df-convert {\n",
              "      background-color: #E8F0FE;\n",
              "      border: none;\n",
              "      border-radius: 50%;\n",
              "      cursor: pointer;\n",
              "      display: none;\n",
              "      fill: #1967D2;\n",
              "      height: 32px;\n",
              "      padding: 0 0 0 0;\n",
              "      width: 32px;\n",
              "    }\n",
              "\n",
              "    .colab-df-convert:hover {\n",
              "      background-color: #E2EBFA;\n",
              "      box-shadow: 0px 1px 2px rgba(60, 64, 67, 0.3), 0px 1px 3px 1px rgba(60, 64, 67, 0.15);\n",
              "      fill: #174EA6;\n",
              "    }\n",
              "\n",
              "    [theme=dark] .colab-df-convert {\n",
              "      background-color: #3B4455;\n",
              "      fill: #D2E3FC;\n",
              "    }\n",
              "\n",
              "    [theme=dark] .colab-df-convert:hover {\n",
              "      background-color: #434B5C;\n",
              "      box-shadow: 0px 1px 3px 1px rgba(0, 0, 0, 0.15);\n",
              "      filter: drop-shadow(0px 1px 2px rgba(0, 0, 0, 0.3));\n",
              "      fill: #FFFFFF;\n",
              "    }\n",
              "  </style>\n",
              "\n",
              "      <script>\n",
              "        const buttonEl =\n",
              "          document.querySelector('#df-60177f83-c48d-4658-a891-f58145f676a8 button.colab-df-convert');\n",
              "        buttonEl.style.display =\n",
              "          google.colab.kernel.accessAllowed ? 'block' : 'none';\n",
              "\n",
              "        async function convertToInteractive(key) {\n",
              "          const element = document.querySelector('#df-60177f83-c48d-4658-a891-f58145f676a8');\n",
              "          const dataTable =\n",
              "            await google.colab.kernel.invokeFunction('convertToInteractive',\n",
              "                                                     [key], {});\n",
              "          if (!dataTable) return;\n",
              "\n",
              "          const docLinkHtml = 'Like what you see? Visit the ' +\n",
              "            '<a target=\"_blank\" href=https://colab.research.google.com/notebooks/data_table.ipynb>data table notebook</a>'\n",
              "            + ' to learn more about interactive tables.';\n",
              "          element.innerHTML = '';\n",
              "          dataTable['output_type'] = 'display_data';\n",
              "          await google.colab.output.renderOutput(dataTable, element);\n",
              "          const docLink = document.createElement('div');\n",
              "          docLink.innerHTML = docLinkHtml;\n",
              "          element.appendChild(docLink);\n",
              "        }\n",
              "      </script>\n",
              "    </div>\n",
              "  </div>\n",
              "  "
            ]
          },
          "metadata": {}
        }
      ],
      "source": [
        "#Importing libraries\n",
        "import numpy as np\n",
        "import pandas as pd\n",
        "import matplotlib.pyplot as plt\n",
        "import seaborn as sns\n",
        "\n",
        "#Loading the data in DataFrame\n",
        "df = pd.read_csv(\"/content/HRDataset_v14.csv\")\n",
        "display(df.head())"
      ]
    },
    {
      "cell_type": "markdown",
      "source": [
        "**Step-2:** Analyzing the data."
      ],
      "metadata": {
        "id": "rvPkWlg7BaPU"
      }
    },
    {
      "cell_type": "code",
      "source": [
        "df.info()"
      ],
      "metadata": {
        "colab": {
          "base_uri": "https://localhost:8080/"
        },
        "id": "egKhDaPZBjZm",
        "outputId": "7712bf29-ec6e-4ccc-9933-82c18aed7184"
      },
      "execution_count": null,
      "outputs": [
        {
          "output_type": "stream",
          "name": "stdout",
          "text": [
            "<class 'pandas.core.frame.DataFrame'>\n",
            "RangeIndex: 311 entries, 0 to 310\n",
            "Data columns (total 36 columns):\n",
            " #   Column                      Non-Null Count  Dtype  \n",
            "---  ------                      --------------  -----  \n",
            " 0   Employee_Name               311 non-null    object \n",
            " 1   EmpID                       311 non-null    int64  \n",
            " 2   MarriedID                   311 non-null    int64  \n",
            " 3   MaritalStatusID             311 non-null    int64  \n",
            " 4   GenderID                    311 non-null    int64  \n",
            " 5   EmpStatusID                 311 non-null    int64  \n",
            " 6   DeptID                      311 non-null    int64  \n",
            " 7   PerfScoreID                 311 non-null    int64  \n",
            " 8   FromDiversityJobFairID      311 non-null    int64  \n",
            " 9   Salary                      311 non-null    int64  \n",
            " 10  Termd                       311 non-null    int64  \n",
            " 11  PositionID                  311 non-null    int64  \n",
            " 12  Position                    311 non-null    object \n",
            " 13  State                       311 non-null    object \n",
            " 14  Zip                         311 non-null    int64  \n",
            " 15  DOB                         311 non-null    object \n",
            " 16  Sex                         311 non-null    object \n",
            " 17  MaritalDesc                 311 non-null    object \n",
            " 18  CitizenDesc                 311 non-null    object \n",
            " 19  HispanicLatino              311 non-null    object \n",
            " 20  RaceDesc                    311 non-null    object \n",
            " 21  DateofHire                  311 non-null    object \n",
            " 22  DateofTermination           104 non-null    object \n",
            " 23  TermReason                  311 non-null    object \n",
            " 24  EmploymentStatus            311 non-null    object \n",
            " 25  Department                  311 non-null    object \n",
            " 26  ManagerName                 311 non-null    object \n",
            " 27  ManagerID                   303 non-null    float64\n",
            " 28  RecruitmentSource           311 non-null    object \n",
            " 29  PerformanceScore            311 non-null    object \n",
            " 30  EngagementSurvey            311 non-null    float64\n",
            " 31  EmpSatisfaction             311 non-null    int64  \n",
            " 32  SpecialProjectsCount        311 non-null    int64  \n",
            " 33  LastPerformanceReview_Date  311 non-null    object \n",
            " 34  DaysLateLast30              311 non-null    int64  \n",
            " 35  Absences                    311 non-null    int64  \n",
            "dtypes: float64(2), int64(16), object(18)\n",
            "memory usage: 87.6+ KB\n"
          ]
        }
      ]
    },
    {
      "cell_type": "markdown",
      "source": [
        "**Step-3:** Grouping data based on \"Department\" column."
      ],
      "metadata": {
        "id": "-6oz7tEEBnrv"
      }
    },
    {
      "cell_type": "code",
      "source": [
        "grouped_df =  df.groupby(['Department'])\n",
        "print((grouped_df).first())"
      ],
      "metadata": {
        "colab": {
          "base_uri": "https://localhost:8080/"
        },
        "id": "ds2c8BHKB6Nh",
        "outputId": "9f899147-5a50-42f8-cbac-e7b6bbafbff7"
      },
      "execution_count": null,
      "outputs": [
        {
          "output_type": "stream",
          "name": "stdout",
          "text": [
            "                                 Employee_Name  EmpID  MarriedID  \\\n",
            "Department                                                         \n",
            "Admin Offices                Boutwell, Bonalyn  10081          1   \n",
            "Executive Office                   King, Janet  10089          1   \n",
            "IT/IS                 Ait Sidi, Karthikeyan     10084          1   \n",
            "Production                 Adinolfi, Wilson  K  10026          0   \n",
            "Sales                         Bunbury, Jessica  10188          1   \n",
            "Software Engineering           Andreola, Colby  10194          0   \n",
            "\n",
            "                      MaritalStatusID  GenderID  EmpStatusID  DeptID  \\\n",
            "Department                                                             \n",
            "Admin Offices                       1         0            1       1   \n",
            "Executive Office                    1         0            1       2   \n",
            "IT/IS                               1         1            5       3   \n",
            "Production                          0         1            1       5   \n",
            "Sales                               1         0            5       6   \n",
            "Software Engineering                0         0            1       4   \n",
            "\n",
            "                      PerfScoreID  FromDiversityJobFairID  Salary  ...  \\\n",
            "Department                                                         ...   \n",
            "Admin Offices                   3                       1  106367  ...   \n",
            "Executive Office                3                       0  250000  ...   \n",
            "IT/IS                           3                       0  104437  ...   \n",
            "Production                      4                       0   62506  ...   \n",
            "Sales                           3                       0   74326  ...   \n",
            "Software Engineering            3                       0   95660  ...   \n",
            "\n",
            "                             ManagerName  ManagerID   RecruitmentSource  \\\n",
            "Department                                                                \n",
            "Admin Offices         Brandon R. LeBlanc        3.0  Diversity Job Fair   \n",
            "Executive Office      Board of Directors        9.0              Indeed   \n",
            "IT/IS                         Simon Roup        4.0              Indeed   \n",
            "Production                Michael Albert       22.0            LinkedIn   \n",
            "Sales                         John Smith       17.0       Google Search   \n",
            "Software Engineering     Alex Sweetwater       10.0            LinkedIn   \n",
            "\n",
            "                     PerformanceScore  EngagementSurvey EmpSatisfaction  \\\n",
            "Department                                                                \n",
            "Admin Offices             Fully Meets              5.00               4   \n",
            "Executive Office          Fully Meets              4.83               3   \n",
            "IT/IS                     Fully Meets              4.96               3   \n",
            "Production                    Exceeds              4.60               5   \n",
            "Sales                     Fully Meets              3.14               5   \n",
            "Software Engineering      Fully Meets              3.04               3   \n",
            "\n",
            "                     SpecialProjectsCount LastPerformanceReview_Date  \\\n",
            "Department                                                             \n",
            "Admin Offices                           3                  2/18/2019   \n",
            "Executive Office                        0                  1/17/2019   \n",
            "IT/IS                                   6                  2/24/2016   \n",
            "Production                              0                  1/17/2019   \n",
            "Sales                                   0                  2/10/2013   \n",
            "Software Engineering                    4                   1/2/2019   \n",
            "\n",
            "                     DaysLateLast30 Absences  \n",
            "Department                                    \n",
            "Admin Offices                     0        4  \n",
            "Executive Office                  0       10  \n",
            "IT/IS                             0       17  \n",
            "Production                        0        1  \n",
            "Sales                             1       19  \n",
            "Software Engineering              0       19  \n",
            "\n",
            "[6 rows x 35 columns]\n"
          ]
        }
      ]
    },
    {
      "cell_type": "markdown",
      "source": [
        "**Step-4:** Finding the mean and median of \"salary\" column for each department."
      ],
      "metadata": {
        "id": "nJuNGwKzCJZA"
      }
    },
    {
      "cell_type": "code",
      "source": [
        "#Average Salary(Mean)\n",
        "dept_Salary_df =  df.groupby(['Department'],as_index=False).Salary.mean()\n",
        "display(dept_Salary_df)"
      ],
      "metadata": {
        "colab": {
          "base_uri": "https://localhost:8080/",
          "height": 238
        },
        "id": "Q8IY4tCdCXfi",
        "outputId": "6f9ee5c1-491b-42e1-8662-129512a988df"
      },
      "execution_count": null,
      "outputs": [
        {
          "output_type": "display_data",
          "data": {
            "text/plain": [
              "             Department         Salary\n",
              "0         Admin Offices   71791.888889\n",
              "1      Executive Office  250000.000000\n",
              "2                 IT/IS   97064.640000\n",
              "3     Production          59953.545455\n",
              "4                 Sales   69061.258065\n",
              "5  Software Engineering   94989.454545"
            ],
            "text/html": [
              "\n",
              "  <div id=\"df-f00c12de-83a9-4d74-93c3-5d4c4ff6778b\">\n",
              "    <div class=\"colab-df-container\">\n",
              "      <div>\n",
              "<style scoped>\n",
              "    .dataframe tbody tr th:only-of-type {\n",
              "        vertical-align: middle;\n",
              "    }\n",
              "\n",
              "    .dataframe tbody tr th {\n",
              "        vertical-align: top;\n",
              "    }\n",
              "\n",
              "    .dataframe thead th {\n",
              "        text-align: right;\n",
              "    }\n",
              "</style>\n",
              "<table border=\"1\" class=\"dataframe\">\n",
              "  <thead>\n",
              "    <tr style=\"text-align: right;\">\n",
              "      <th></th>\n",
              "      <th>Department</th>\n",
              "      <th>Salary</th>\n",
              "    </tr>\n",
              "  </thead>\n",
              "  <tbody>\n",
              "    <tr>\n",
              "      <th>0</th>\n",
              "      <td>Admin Offices</td>\n",
              "      <td>71791.888889</td>\n",
              "    </tr>\n",
              "    <tr>\n",
              "      <th>1</th>\n",
              "      <td>Executive Office</td>\n",
              "      <td>250000.000000</td>\n",
              "    </tr>\n",
              "    <tr>\n",
              "      <th>2</th>\n",
              "      <td>IT/IS</td>\n",
              "      <td>97064.640000</td>\n",
              "    </tr>\n",
              "    <tr>\n",
              "      <th>3</th>\n",
              "      <td>Production</td>\n",
              "      <td>59953.545455</td>\n",
              "    </tr>\n",
              "    <tr>\n",
              "      <th>4</th>\n",
              "      <td>Sales</td>\n",
              "      <td>69061.258065</td>\n",
              "    </tr>\n",
              "    <tr>\n",
              "      <th>5</th>\n",
              "      <td>Software Engineering</td>\n",
              "      <td>94989.454545</td>\n",
              "    </tr>\n",
              "  </tbody>\n",
              "</table>\n",
              "</div>\n",
              "      <button class=\"colab-df-convert\" onclick=\"convertToInteractive('df-f00c12de-83a9-4d74-93c3-5d4c4ff6778b')\"\n",
              "              title=\"Convert this dataframe to an interactive table.\"\n",
              "              style=\"display:none;\">\n",
              "        \n",
              "  <svg xmlns=\"http://www.w3.org/2000/svg\" height=\"24px\"viewBox=\"0 0 24 24\"\n",
              "       width=\"24px\">\n",
              "    <path d=\"M0 0h24v24H0V0z\" fill=\"none\"/>\n",
              "    <path d=\"M18.56 5.44l.94 2.06.94-2.06 2.06-.94-2.06-.94-.94-2.06-.94 2.06-2.06.94zm-11 1L8.5 8.5l.94-2.06 2.06-.94-2.06-.94L8.5 2.5l-.94 2.06-2.06.94zm10 10l.94 2.06.94-2.06 2.06-.94-2.06-.94-.94-2.06-.94 2.06-2.06.94z\"/><path d=\"M17.41 7.96l-1.37-1.37c-.4-.4-.92-.59-1.43-.59-.52 0-1.04.2-1.43.59L10.3 9.45l-7.72 7.72c-.78.78-.78 2.05 0 2.83L4 21.41c.39.39.9.59 1.41.59.51 0 1.02-.2 1.41-.59l7.78-7.78 2.81-2.81c.8-.78.8-2.07 0-2.86zM5.41 20L4 18.59l7.72-7.72 1.47 1.35L5.41 20z\"/>\n",
              "  </svg>\n",
              "      </button>\n",
              "      \n",
              "  <style>\n",
              "    .colab-df-container {\n",
              "      display:flex;\n",
              "      flex-wrap:wrap;\n",
              "      gap: 12px;\n",
              "    }\n",
              "\n",
              "    .colab-df-convert {\n",
              "      background-color: #E8F0FE;\n",
              "      border: none;\n",
              "      border-radius: 50%;\n",
              "      cursor: pointer;\n",
              "      display: none;\n",
              "      fill: #1967D2;\n",
              "      height: 32px;\n",
              "      padding: 0 0 0 0;\n",
              "      width: 32px;\n",
              "    }\n",
              "\n",
              "    .colab-df-convert:hover {\n",
              "      background-color: #E2EBFA;\n",
              "      box-shadow: 0px 1px 2px rgba(60, 64, 67, 0.3), 0px 1px 3px 1px rgba(60, 64, 67, 0.15);\n",
              "      fill: #174EA6;\n",
              "    }\n",
              "\n",
              "    [theme=dark] .colab-df-convert {\n",
              "      background-color: #3B4455;\n",
              "      fill: #D2E3FC;\n",
              "    }\n",
              "\n",
              "    [theme=dark] .colab-df-convert:hover {\n",
              "      background-color: #434B5C;\n",
              "      box-shadow: 0px 1px 3px 1px rgba(0, 0, 0, 0.15);\n",
              "      filter: drop-shadow(0px 1px 2px rgba(0, 0, 0, 0.3));\n",
              "      fill: #FFFFFF;\n",
              "    }\n",
              "  </style>\n",
              "\n",
              "      <script>\n",
              "        const buttonEl =\n",
              "          document.querySelector('#df-f00c12de-83a9-4d74-93c3-5d4c4ff6778b button.colab-df-convert');\n",
              "        buttonEl.style.display =\n",
              "          google.colab.kernel.accessAllowed ? 'block' : 'none';\n",
              "\n",
              "        async function convertToInteractive(key) {\n",
              "          const element = document.querySelector('#df-f00c12de-83a9-4d74-93c3-5d4c4ff6778b');\n",
              "          const dataTable =\n",
              "            await google.colab.kernel.invokeFunction('convertToInteractive',\n",
              "                                                     [key], {});\n",
              "          if (!dataTable) return;\n",
              "\n",
              "          const docLinkHtml = 'Like what you see? Visit the ' +\n",
              "            '<a target=\"_blank\" href=https://colab.research.google.com/notebooks/data_table.ipynb>data table notebook</a>'\n",
              "            + ' to learn more about interactive tables.';\n",
              "          element.innerHTML = '';\n",
              "          dataTable['output_type'] = 'display_data';\n",
              "          await google.colab.output.renderOutput(dataTable, element);\n",
              "          const docLink = document.createElement('div');\n",
              "          docLink.innerHTML = docLinkHtml;\n",
              "          element.appendChild(docLink);\n",
              "        }\n",
              "      </script>\n",
              "    </div>\n",
              "  </div>\n",
              "  "
            ]
          },
          "metadata": {}
        }
      ]
    },
    {
      "cell_type": "code",
      "source": [
        "#Calculating median of salary column\n",
        "dept_Salary_df =  df.groupby(['Department'],as_index=False).Salary.median()\n",
        "display(dept_Salary_df)"
      ],
      "metadata": {
        "colab": {
          "base_uri": "https://localhost:8080/",
          "height": 238
        },
        "id": "h92dWzVkE_vX",
        "outputId": "090fb44f-42d6-4757-a657-e7f2e0616ebd"
      },
      "execution_count": null,
      "outputs": [
        {
          "output_type": "display_data",
          "data": {
            "text/plain": [
              "             Department    Salary\n",
              "0         Admin Offices   63003.0\n",
              "1      Executive Office  250000.0\n",
              "2                 IT/IS   92328.5\n",
              "3     Production          59472.0\n",
              "4                 Sales   65310.0\n",
              "5  Software Engineering   95660.0"
            ],
            "text/html": [
              "\n",
              "  <div id=\"df-a6588044-0a2a-467e-8ea6-193eed4ddd9b\">\n",
              "    <div class=\"colab-df-container\">\n",
              "      <div>\n",
              "<style scoped>\n",
              "    .dataframe tbody tr th:only-of-type {\n",
              "        vertical-align: middle;\n",
              "    }\n",
              "\n",
              "    .dataframe tbody tr th {\n",
              "        vertical-align: top;\n",
              "    }\n",
              "\n",
              "    .dataframe thead th {\n",
              "        text-align: right;\n",
              "    }\n",
              "</style>\n",
              "<table border=\"1\" class=\"dataframe\">\n",
              "  <thead>\n",
              "    <tr style=\"text-align: right;\">\n",
              "      <th></th>\n",
              "      <th>Department</th>\n",
              "      <th>Salary</th>\n",
              "    </tr>\n",
              "  </thead>\n",
              "  <tbody>\n",
              "    <tr>\n",
              "      <th>0</th>\n",
              "      <td>Admin Offices</td>\n",
              "      <td>63003.0</td>\n",
              "    </tr>\n",
              "    <tr>\n",
              "      <th>1</th>\n",
              "      <td>Executive Office</td>\n",
              "      <td>250000.0</td>\n",
              "    </tr>\n",
              "    <tr>\n",
              "      <th>2</th>\n",
              "      <td>IT/IS</td>\n",
              "      <td>92328.5</td>\n",
              "    </tr>\n",
              "    <tr>\n",
              "      <th>3</th>\n",
              "      <td>Production</td>\n",
              "      <td>59472.0</td>\n",
              "    </tr>\n",
              "    <tr>\n",
              "      <th>4</th>\n",
              "      <td>Sales</td>\n",
              "      <td>65310.0</td>\n",
              "    </tr>\n",
              "    <tr>\n",
              "      <th>5</th>\n",
              "      <td>Software Engineering</td>\n",
              "      <td>95660.0</td>\n",
              "    </tr>\n",
              "  </tbody>\n",
              "</table>\n",
              "</div>\n",
              "      <button class=\"colab-df-convert\" onclick=\"convertToInteractive('df-a6588044-0a2a-467e-8ea6-193eed4ddd9b')\"\n",
              "              title=\"Convert this dataframe to an interactive table.\"\n",
              "              style=\"display:none;\">\n",
              "        \n",
              "  <svg xmlns=\"http://www.w3.org/2000/svg\" height=\"24px\"viewBox=\"0 0 24 24\"\n",
              "       width=\"24px\">\n",
              "    <path d=\"M0 0h24v24H0V0z\" fill=\"none\"/>\n",
              "    <path d=\"M18.56 5.44l.94 2.06.94-2.06 2.06-.94-2.06-.94-.94-2.06-.94 2.06-2.06.94zm-11 1L8.5 8.5l.94-2.06 2.06-.94-2.06-.94L8.5 2.5l-.94 2.06-2.06.94zm10 10l.94 2.06.94-2.06 2.06-.94-2.06-.94-.94-2.06-.94 2.06-2.06.94z\"/><path d=\"M17.41 7.96l-1.37-1.37c-.4-.4-.92-.59-1.43-.59-.52 0-1.04.2-1.43.59L10.3 9.45l-7.72 7.72c-.78.78-.78 2.05 0 2.83L4 21.41c.39.39.9.59 1.41.59.51 0 1.02-.2 1.41-.59l7.78-7.78 2.81-2.81c.8-.78.8-2.07 0-2.86zM5.41 20L4 18.59l7.72-7.72 1.47 1.35L5.41 20z\"/>\n",
              "  </svg>\n",
              "      </button>\n",
              "      \n",
              "  <style>\n",
              "    .colab-df-container {\n",
              "      display:flex;\n",
              "      flex-wrap:wrap;\n",
              "      gap: 12px;\n",
              "    }\n",
              "\n",
              "    .colab-df-convert {\n",
              "      background-color: #E8F0FE;\n",
              "      border: none;\n",
              "      border-radius: 50%;\n",
              "      cursor: pointer;\n",
              "      display: none;\n",
              "      fill: #1967D2;\n",
              "      height: 32px;\n",
              "      padding: 0 0 0 0;\n",
              "      width: 32px;\n",
              "    }\n",
              "\n",
              "    .colab-df-convert:hover {\n",
              "      background-color: #E2EBFA;\n",
              "      box-shadow: 0px 1px 2px rgba(60, 64, 67, 0.3), 0px 1px 3px 1px rgba(60, 64, 67, 0.15);\n",
              "      fill: #174EA6;\n",
              "    }\n",
              "\n",
              "    [theme=dark] .colab-df-convert {\n",
              "      background-color: #3B4455;\n",
              "      fill: #D2E3FC;\n",
              "    }\n",
              "\n",
              "    [theme=dark] .colab-df-convert:hover {\n",
              "      background-color: #434B5C;\n",
              "      box-shadow: 0px 1px 3px 1px rgba(0, 0, 0, 0.15);\n",
              "      filter: drop-shadow(0px 1px 2px rgba(0, 0, 0, 0.3));\n",
              "      fill: #FFFFFF;\n",
              "    }\n",
              "  </style>\n",
              "\n",
              "      <script>\n",
              "        const buttonEl =\n",
              "          document.querySelector('#df-a6588044-0a2a-467e-8ea6-193eed4ddd9b button.colab-df-convert');\n",
              "        buttonEl.style.display =\n",
              "          google.colab.kernel.accessAllowed ? 'block' : 'none';\n",
              "\n",
              "        async function convertToInteractive(key) {\n",
              "          const element = document.querySelector('#df-a6588044-0a2a-467e-8ea6-193eed4ddd9b');\n",
              "          const dataTable =\n",
              "            await google.colab.kernel.invokeFunction('convertToInteractive',\n",
              "                                                     [key], {});\n",
              "          if (!dataTable) return;\n",
              "\n",
              "          const docLinkHtml = 'Like what you see? Visit the ' +\n",
              "            '<a target=\"_blank\" href=https://colab.research.google.com/notebooks/data_table.ipynb>data table notebook</a>'\n",
              "            + ' to learn more about interactive tables.';\n",
              "          element.innerHTML = '';\n",
              "          dataTable['output_type'] = 'display_data';\n",
              "          await google.colab.output.renderOutput(dataTable, element);\n",
              "          const docLink = document.createElement('div');\n",
              "          docLink.innerHTML = docLinkHtml;\n",
              "          element.appendChild(docLink);\n",
              "        }\n",
              "      </script>\n",
              "    </div>\n",
              "  </div>\n",
              "  "
            ]
          },
          "metadata": {}
        }
      ]
    },
    {
      "cell_type": "markdown",
      "source": [
        "**Step-5:** Finding the department with highest number of employees (Mode of the \"department\" column)."
      ],
      "metadata": {
        "id": "eqYrF5DCCagh"
      }
    },
    {
      "cell_type": "code",
      "source": [
        "#Calculation which department has highest employees\n",
        "print(\"This department has highest number of employees\")\n",
        "display(df['Department'].mode())"
      ],
      "metadata": {
        "colab": {
          "base_uri": "https://localhost:8080/",
          "height": 69
        },
        "id": "Uea6d8E5FkDX",
        "outputId": "85c49c56-212a-4cc0-81a1-8d8823f80a08"
      },
      "execution_count": null,
      "outputs": [
        {
          "output_type": "stream",
          "name": "stdout",
          "text": [
            "This department has highest number of employees\n"
          ]
        },
        {
          "output_type": "display_data",
          "data": {
            "text/plain": [
              "0    Production       \n",
              "dtype: object"
            ]
          },
          "metadata": {}
        }
      ]
    },
    {
      "cell_type": "markdown",
      "source": [
        "**Step-6:** Calculating the standard deviation and variance of the \"Salary\" column."
      ],
      "metadata": {
        "id": "B4etqVcDFsq9"
      }
    },
    {
      "cell_type": "code",
      "source": [
        "#Standard deviation of salary column\n",
        "print(\"Department-wise Standard deviation of salary:______\")\n",
        "dept_Salary_df['Salary'].std()"
      ],
      "metadata": {
        "colab": {
          "base_uri": "https://localhost:8080/"
        },
        "id": "Azs5el1hF1Bw",
        "outputId": "3cb04817-6b5c-4ae1-e325-e799a7c503ec"
      },
      "execution_count": null,
      "outputs": [
        {
          "output_type": "stream",
          "name": "stdout",
          "text": [
            "Department-wise Standard deviation of salary:______\n"
          ]
        },
        {
          "output_type": "execute_result",
          "data": {
            "text/plain": [
              "73050.21312523098"
            ]
          },
          "metadata": {},
          "execution_count": 7
        }
      ]
    },
    {
      "cell_type": "code",
      "source": [
        "print(\"Department-wise Variance of salary:______\")\n",
        "dept_Salary_df['Salary'].var()"
      ],
      "metadata": {
        "colab": {
          "base_uri": "https://localhost:8080/"
        },
        "id": "srjoh8a2F-Gh",
        "outputId": "de970dd2-db15-4165-8293-12d2deddfe5f"
      },
      "execution_count": null,
      "outputs": [
        {
          "output_type": "stream",
          "name": "stdout",
          "text": [
            "Department-wise Variance of salary:______\n"
          ]
        },
        {
          "output_type": "execute_result",
          "data": {
            "text/plain": [
              "5336333637.641668"
            ]
          },
          "metadata": {},
          "execution_count": 8
        }
      ]
    },
    {
      "cell_type": "markdown",
      "source": [
        "**Step-7:** Find interquartile range of \"Salary\" column."
      ],
      "metadata": {
        "id": "vxuegoqRF_Pd"
      }
    },
    {
      "cell_type": "code",
      "source": [
        "from scipy.stats import iqr\n",
        "print(\"Interquartile range of salary:______\")\n",
        "iqr(dept_Salary_df['Salary'])"
      ],
      "metadata": {
        "colab": {
          "base_uri": "https://localhost:8080/"
        },
        "id": "dJK6fNwBGO24",
        "outputId": "eea7227c-156a-4f0f-8b1d-c6a948bec08a"
      },
      "execution_count": null,
      "outputs": [
        {
          "output_type": "stream",
          "name": "stdout",
          "text": [
            "Interquartile range of salary:______\n"
          ]
        },
        {
          "output_type": "execute_result",
          "data": {
            "text/plain": [
              "31247.375"
            ]
          },
          "metadata": {},
          "execution_count": 9
        }
      ]
    },
    {
      "cell_type": "markdown",
      "source": [
        "**step-8:** Find skewness and kurtosis of the original dataset."
      ],
      "metadata": {
        "id": "m_09NbRIGlAw"
      }
    },
    {
      "cell_type": "code",
      "source": [
        "print(\"Skewness in Original Dataset: __________\")\n",
        "print(df.skew())"
      ],
      "metadata": {
        "colab": {
          "base_uri": "https://localhost:8080/"
        },
        "id": "jxD-SQMeGZ-a",
        "outputId": "c6d97d64-0ea1-46c9-9553-b26bc0a8712a"
      },
      "execution_count": null,
      "outputs": [
        {
          "output_type": "stream",
          "name": "stdout",
          "text": [
            "Skewness in Original Dataset: __________\n",
            "EmpID                     0.000000\n",
            "MarriedID                 0.415730\n",
            "MaritalStatusID           1.408602\n",
            "GenderID                  0.267278\n",
            "EmpStatusID               0.631944\n",
            "DeptID                   -1.536392\n",
            "PerfScoreID              -1.248091\n",
            "FromDiversityJobFairID    2.811250\n",
            "Salary                    3.306181\n",
            "Termd                     0.705404\n",
            "PositionID               -1.231676\n",
            "Zip                       4.105494\n",
            "ManagerID                 0.759271\n",
            "EngagementSurvey         -1.116979\n",
            "EmpSatisfaction          -0.222609\n",
            "SpecialProjectsCount      1.539271\n",
            "DaysLateLast30            3.143468\n",
            "Absences                  0.029283\n",
            "dtype: float64\n"
          ]
        },
        {
          "output_type": "stream",
          "name": "stderr",
          "text": [
            "/usr/local/lib/python3.7/dist-packages/ipykernel_launcher.py:2: FutureWarning: Dropping of nuisance columns in DataFrame reductions (with 'numeric_only=None') is deprecated; in a future version this will raise TypeError.  Select only valid columns before calling the reduction.\n",
            "  \n"
          ]
        }
      ]
    },
    {
      "cell_type": "code",
      "source": [
        "print(\"Kurtosis in Original Dataset: __________\")\n",
        "print(df.kurt())"
      ],
      "metadata": {
        "colab": {
          "base_uri": "https://localhost:8080/"
        },
        "id": "IPQiGB30GdWU",
        "outputId": "91d78bac-b2f1-4a24-bd4c-aa626c66c081"
      },
      "execution_count": null,
      "outputs": [
        {
          "output_type": "stream",
          "name": "stdout",
          "text": [
            "Kurtosis in Original Dataset: __________\n",
            "EmpID                     -1.200000\n",
            "MarriedID                 -1.839037\n",
            "MaritalStatusID            2.053512\n",
            "GenderID                  -1.941087\n",
            "EmpStatusID               -1.488610\n",
            "DeptID                     2.241434\n",
            "PerfScoreID                4.049610\n",
            "FromDiversityJobFairID     5.941296\n",
            "Salary                    15.452149\n",
            "Termd                     -1.512171\n",
            "PositionID                 0.812346\n",
            "Zip                       16.187425\n",
            "ManagerID                  1.608422\n",
            "EngagementSurvey           1.164560\n",
            "EmpSatisfaction           -0.762600\n",
            "SpecialProjectsCount       0.641415\n",
            "DaysLateLast30             8.830523\n",
            "Absences                  -1.301962\n",
            "dtype: float64\n"
          ]
        },
        {
          "output_type": "stream",
          "name": "stderr",
          "text": [
            "/usr/local/lib/python3.7/dist-packages/ipykernel_launcher.py:2: FutureWarning: Dropping of nuisance columns in DataFrame reductions (with 'numeric_only=None') is deprecated; in a future version this will raise TypeError.  Select only valid columns before calling the reduction.\n",
            "  \n"
          ]
        }
      ]
    },
    {
      "cell_type": "markdown",
      "source": [
        "**Step-9:** Finding z-score of \"Salary\" column."
      ],
      "metadata": {
        "id": "7-K692b7GyCx"
      }
    },
    {
      "cell_type": "code",
      "source": [
        "from scipy.stats import zscore\n",
        "zscores = zscore(dept_Salary_df['Salary'])\n",
        "print(\"Department-wise z-score of salaries:____________ \")\n",
        "display(zscores)"
      ],
      "metadata": {
        "colab": {
          "base_uri": "https://localhost:8080/",
          "height": 69
        },
        "id": "18WbCBCNGwwW",
        "outputId": "146b10dc-9338-44b3-9ba4-34611a35a058"
      },
      "execution_count": null,
      "outputs": [
        {
          "output_type": "stream",
          "name": "stdout",
          "text": [
            "Department-wise z-score of salaries:____________ \n"
          ]
        },
        {
          "output_type": "display_data",
          "data": {
            "text/plain": [
              "array([-0.6192146 ,  2.18495176, -0.17945578, -0.67216471, -0.58461933,\n",
              "       -0.12949733])"
            ]
          },
          "metadata": {}
        }
      ]
    },
    {
      "cell_type": "markdown",
      "source": [
        "**Step-10:** FInding 30th percentile of \"Salary\" cloumn."
      ],
      "metadata": {
        "id": "YfF9sYfsG89Y"
      }
    },
    {
      "cell_type": "code",
      "source": [
        "import numpy\n",
        "ptl = numpy.percentile(df[\"Salary\"], 65)\n",
        "print(\"65th percentile of Salary column is:\")\n",
        "print(ptl)"
      ],
      "metadata": {
        "colab": {
          "base_uri": "https://localhost:8080/"
        },
        "id": "fclZD7XkG8fd",
        "outputId": "e0cde826-1c58-477b-db4f-880bde192c94"
      },
      "execution_count": null,
      "outputs": [
        {
          "output_type": "stream",
          "name": "stdout",
          "text": [
            "65th percentile of Salary column is:\n",
            "65988.0\n"
          ]
        }
      ]
    },
    {
      "cell_type": "markdown",
      "source": [
        "**Step-11:** Finding Quartiles of \"GenderID\" column. "
      ],
      "metadata": {
        "id": "QIUibJi2HH5N"
      }
    },
    {
      "cell_type": "code",
      "source": [
        "#Quartiles of GenderID column\n",
        "x = numpy.quantile([20, 40], df[\"GenderID\"])\n",
        "print(\"Quartile values of 20, 40 from GenderID column:\")\n",
        "print(x)"
      ],
      "metadata": {
        "colab": {
          "base_uri": "https://localhost:8080/"
        },
        "id": "6I_TLDjjIUdo",
        "outputId": "22dae26f-2267-4975-b85b-add01779c801"
      },
      "execution_count": null,
      "outputs": [
        {
          "output_type": "stream",
          "name": "stdout",
          "text": [
            "Quartile values of 20, 40 from GenderID column:\n",
            "[40 40 20 20 20 20 20 40 20 40 20 40 40 40 40 40 20 20 20 40 40 20 20 20\n",
            " 20 40 20 40 20 20 40 20 20 20 40 40 40 20 40 20 20 20 40 20 40 40 20 20\n",
            " 40 20 40 40 40 40 40 40 20 40 20 40 20 20 20 40 40 40 20 40 20 40 40 40\n",
            " 20 20 20 20 40 20 20 20 20 40 40 20 40 20 20 20 20 20 40 40 20 40 20 40\n",
            " 40 20 40 20 40 20 20 20 20 40 20 20 20 40 20 40 40 20 20 40 20 20 40 20\n",
            " 40 40 20 40 20 20 40 20 40 20 20 20 20 20 20 20 20 40 20 20 20 20 20 40\n",
            " 20 20 20 20 40 40 20 20 20 40 40 40 40 40 20 40 40 40 20 20 40 40 40 20\n",
            " 20 40 20 20 20 20 20 40 20 20 20 20 20 20 20 20 40 20 20 40 40 40 40 20\n",
            " 40 20 20 40 40 40 40 40 40 20 20 20 20 20 20 20 40 40 40 20 40 40 40 20\n",
            " 20 20 20 20 20 40 40 20 20 40 20 40 20 40 40 40 20 20 40 40 20 40 20 20\n",
            " 20 20 40 40 40 20 20 40 40 40 20 20 20 20 40 20 20 40 40 20 20 20 40 20\n",
            " 20 20 20 40 40 40 20 20 40 20 40 40 20 20 20 20 40 20 40 20 40 40 20 40\n",
            " 20 40 40 40 40 20 20 40 20 20 40 20 40 40 20 20 40 20 40 20 20 20 20]\n"
          ]
        }
      ]
    }
  ]
}