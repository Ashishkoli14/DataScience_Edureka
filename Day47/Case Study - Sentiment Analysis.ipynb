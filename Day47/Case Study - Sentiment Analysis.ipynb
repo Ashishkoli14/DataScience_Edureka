{
 "cells": [
  {
   "cell_type": "markdown",
   "metadata": {},
   "source": [
    "## Case Study - Sentiment Analysis\n",
    "\n",
    "In this case study, you will be shown how to perform Sentiment Analysis on Twitter data using NLP techniques from Python."
   ]
  },
  {
   "cell_type": "markdown",
   "metadata": {},
   "source": [
    "##### Scenario:\n",
    "\n",
    "The demonetization of Indian currency was a step taken by Government of India on November 8 leaving the entire country into shock. Some of currency notes were banned and entire country became emotional and few have taken to twitter to express their feelings.\n",
    "\n",
    "##### Challenge:\n",
    "\n",
    "It's important to understand the implications of the steps taken by Government and take actions based on the citizen's response. You, as a Data Scientist, have to analyse these tweets to understand the overall reaction of citizens.\n",
    "\n",
    "##### Dataset:\n",
    "\n",
    "Data of tweets on #demonetization has been extracted from Twitter and is available in the file \"demonetization_tweets_data.csv\". This dataset contains 7470 rows and 12 columns. The description of the columns is as given below:\n",
    "\n",
    "- <b>text</b>: Text of tweet\n",
    "- <b>favorited</b>: Boolean; indicates whether the tweet has been liked by authenticating user\n",
    "- <b>favoriteCount</b>: Number of times this tweet has been liked\n",
    "- <b>replyToSN</b>: Screen Name of original tweet's author if this tweet is a reply\n",
    "- <b>created</b>: Timestamp of creation of tweet\n",
    "- <b>truncated</b>: Boolean; indicates whether the tweet has been truncated due to length limits\n",
    "- <b>replyToSID</b>: ID of the original tweet if this tweet is a reply\n",
    "- <b>statusSource</b>: Source used to post the tweet\n",
    "- <b>screenName</b>: Screen Name of the author of the tweet\n",
    "- <b>retweetCount</b>: Number of times this tweet has been retweeted\n",
    "- <b>isRetweet</b>: Boolean; indicates whether this tweet is a retweet or not\n",
    "- <b>retweeted</b>: Boolean; indicates whether this tweet has been retweeted by authenticating user\n"
   ]
  },
  {
   "cell_type": "markdown",
   "metadata": {},
   "source": [
    "- ### Load the required libraries"
   ]
  },
  {
   "cell_type": "code",
   "execution_count": 1,
   "metadata": {},
   "outputs": [],
   "source": [
    "# Load the required libraries from Python\n",
    "# Make sure all the libraries have been download else download using nltk.download command\n",
    "import pandas as pd\n",
    "import numpy as np\n",
    "import matplotlib.pyplot as plt\n",
    "%matplotlib inline\n",
    "import re\n",
    "import nltk "
   ]
  },
  {
   "cell_type": "markdown",
   "metadata": {},
   "source": [
    "- ### Load and analyse the data \n",
    "\n",
    "\n",
    "    - Load the data from the required location into a DataFrame\n",
    "    - Analyse the shape of the data by printing its total number of rows & columns\n",
    "    - Also print 5 rows of the DataFrame\n",
    "    - Print the 'text' of the tweet with highest number of retweets"
   ]
  },
  {
   "cell_type": "code",
   "execution_count": 2,
   "metadata": {},
   "outputs": [],
   "source": [
    "tweets = pd.read_csv(\"demonetization-tweets_data.csv\",encoding = \"ISO-8859-1\")"
   ]
  },
  {
   "cell_type": "code",
   "execution_count": 3,
   "metadata": {},
   "outputs": [
    {
     "data": {
      "text/plain": [
       "(7470, 12)"
      ]
     },
     "execution_count": 3,
     "metadata": {},
     "output_type": "execute_result"
    }
   ],
   "source": [
    "tweets.shape"
   ]
  },
  {
   "cell_type": "code",
   "execution_count": 4,
   "metadata": {},
   "outputs": [
    {
     "data": {
      "text/html": [
       "<div>\n",
       "<style scoped>\n",
       "    .dataframe tbody tr th:only-of-type {\n",
       "        vertical-align: middle;\n",
       "    }\n",
       "\n",
       "    .dataframe tbody tr th {\n",
       "        vertical-align: top;\n",
       "    }\n",
       "\n",
       "    .dataframe thead th {\n",
       "        text-align: right;\n",
       "    }\n",
       "</style>\n",
       "<table border=\"1\" class=\"dataframe\">\n",
       "  <thead>\n",
       "    <tr style=\"text-align: right;\">\n",
       "      <th></th>\n",
       "      <th>text</th>\n",
       "      <th>favorited</th>\n",
       "      <th>favoriteCount</th>\n",
       "      <th>replyToSN</th>\n",
       "      <th>created</th>\n",
       "      <th>truncated</th>\n",
       "      <th>replyToSID</th>\n",
       "      <th>statusSource</th>\n",
       "      <th>screenName</th>\n",
       "      <th>retweetCount</th>\n",
       "      <th>isRetweet</th>\n",
       "      <th>retweeted</th>\n",
       "    </tr>\n",
       "  </thead>\n",
       "  <tbody>\n",
       "    <tr>\n",
       "      <th>0</th>\n",
       "      <td>RT @rssurjewala: Critical question: Was PayTM ...</td>\n",
       "      <td>False</td>\n",
       "      <td>0</td>\n",
       "      <td>NaN</td>\n",
       "      <td>11/23/2016 18:40</td>\n",
       "      <td>False</td>\n",
       "      <td>NaN</td>\n",
       "      <td>&lt;a href=\"http://twitter.com/download/android\" ...</td>\n",
       "      <td>HASHTAGFARZIWAL</td>\n",
       "      <td>331</td>\n",
       "      <td>True</td>\n",
       "      <td>False</td>\n",
       "    </tr>\n",
       "    <tr>\n",
       "      <th>1</th>\n",
       "      <td>RT @roshankar: Former FinSec, RBI Dy Governor,...</td>\n",
       "      <td>False</td>\n",
       "      <td>0</td>\n",
       "      <td>NaN</td>\n",
       "      <td>11/23/2016 18:40</td>\n",
       "      <td>False</td>\n",
       "      <td>NaN</td>\n",
       "      <td>&lt;a href=\"http://twitter.com/download/android\" ...</td>\n",
       "      <td>rahulja13034944</td>\n",
       "      <td>12</td>\n",
       "      <td>True</td>\n",
       "      <td>False</td>\n",
       "    </tr>\n",
       "    <tr>\n",
       "      <th>2</th>\n",
       "      <td>RT @satishacharya: Reddy Wedding! @mail_today ...</td>\n",
       "      <td>False</td>\n",
       "      <td>0</td>\n",
       "      <td>NaN</td>\n",
       "      <td>11/23/2016 18:39</td>\n",
       "      <td>False</td>\n",
       "      <td>NaN</td>\n",
       "      <td>&lt;a href=\"http://cpimharyana.com\" rel=\"nofollow...</td>\n",
       "      <td>CPIMBadli</td>\n",
       "      <td>120</td>\n",
       "      <td>True</td>\n",
       "      <td>False</td>\n",
       "    </tr>\n",
       "    <tr>\n",
       "      <th>3</th>\n",
       "      <td>RT @gauravcsawant: Rs 40 lakh looted from a ba...</td>\n",
       "      <td>False</td>\n",
       "      <td>0</td>\n",
       "      <td>NaN</td>\n",
       "      <td>11/23/2016 18:38</td>\n",
       "      <td>False</td>\n",
       "      <td>NaN</td>\n",
       "      <td>&lt;a href=\"http://twitter.com/download/android\" ...</td>\n",
       "      <td>bhodia1</td>\n",
       "      <td>637</td>\n",
       "      <td>True</td>\n",
       "      <td>False</td>\n",
       "    </tr>\n",
       "    <tr>\n",
       "      <th>4</th>\n",
       "      <td>RT @sumitbhati2002: Many opposition leaders ar...</td>\n",
       "      <td>False</td>\n",
       "      <td>0</td>\n",
       "      <td>NaN</td>\n",
       "      <td>11/23/2016 18:38</td>\n",
       "      <td>False</td>\n",
       "      <td>NaN</td>\n",
       "      <td>&lt;a href=\"http://twitter.com/download/android\" ...</td>\n",
       "      <td>sumitbhati2002</td>\n",
       "      <td>1</td>\n",
       "      <td>True</td>\n",
       "      <td>False</td>\n",
       "    </tr>\n",
       "  </tbody>\n",
       "</table>\n",
       "</div>"
      ],
      "text/plain": [
       "                                                text  favorited  \\\n",
       "0  RT @rssurjewala: Critical question: Was PayTM ...      False   \n",
       "1  RT @roshankar: Former FinSec, RBI Dy Governor,...      False   \n",
       "2  RT @satishacharya: Reddy Wedding! @mail_today ...      False   \n",
       "3  RT @gauravcsawant: Rs 40 lakh looted from a ba...      False   \n",
       "4  RT @sumitbhati2002: Many opposition leaders ar...      False   \n",
       "\n",
       "   favoriteCount replyToSN           created  truncated  replyToSID  \\\n",
       "0              0       NaN  11/23/2016 18:40      False         NaN   \n",
       "1              0       NaN  11/23/2016 18:40      False         NaN   \n",
       "2              0       NaN  11/23/2016 18:39      False         NaN   \n",
       "3              0       NaN  11/23/2016 18:38      False         NaN   \n",
       "4              0       NaN  11/23/2016 18:38      False         NaN   \n",
       "\n",
       "                                        statusSource       screenName  \\\n",
       "0  <a href=\"http://twitter.com/download/android\" ...  HASHTAGFARZIWAL   \n",
       "1  <a href=\"http://twitter.com/download/android\" ...  rahulja13034944   \n",
       "2  <a href=\"http://cpimharyana.com\" rel=\"nofollow...        CPIMBadli   \n",
       "3  <a href=\"http://twitter.com/download/android\" ...          bhodia1   \n",
       "4  <a href=\"http://twitter.com/download/android\" ...   sumitbhati2002   \n",
       "\n",
       "   retweetCount  isRetweet  retweeted  \n",
       "0           331       True      False  \n",
       "1            12       True      False  \n",
       "2           120       True      False  \n",
       "3           637       True      False  \n",
       "4             1       True      False  "
      ]
     },
     "execution_count": 4,
     "metadata": {},
     "output_type": "execute_result"
    }
   ],
   "source": [
    "tweets.head()"
   ]
  },
  {
   "cell_type": "code",
   "execution_count": 5,
   "metadata": {},
   "outputs": [
    {
     "data": {
      "text/plain": [
       "'RT @RNTata2000: The government\\x92s bold implementation of the demonetization programme needs the nation\\x92s support. https://t.co/tx1ZILSor8'"
      ]
     },
     "execution_count": 5,
     "metadata": {},
     "output_type": "execute_result"
    }
   ],
   "source": [
    "tweets.iloc[tweets['retweetCount'].idxmax()]['text']"
   ]
  },
  {
   "cell_type": "markdown",
   "metadata": {},
   "source": [
    "- ### Clean the data\n",
    "\n",
    "\n",
    "    - Observe that the tweet text contains various elements such as 'Retweet tag RT@', 'punctuation marks' and 'stop words'\n",
    "    - Use functions from Python libraries such as re, string and NLTK to remove these unnecessary elements\n"
   ]
  },
  {
   "cell_type": "code",
   "execution_count": 6,
   "metadata": {},
   "outputs": [],
   "source": [
    "# Load the required libraries for cleaning\n",
    "import string,re\n",
    "from nltk.tokenize import word_tokenize\n",
    "from nltk.corpus import stopwords"
   ]
  },
  {
   "cell_type": "code",
   "execution_count": 7,
   "metadata": {},
   "outputs": [],
   "source": [
    "# Create a function to generate cleaned data from raw text\n",
    "def clean_text(tweets):\n",
    "    tweets = word_tokenize(tweets) # Create tokens\n",
    "    tweets = tweets[4:] # Remove RT@\n",
    "    tweets= \" \".join(tweets) # Join tokens\n",
    "    tweets= re.sub('https','',tweets) # Remove 'https' text with blank\n",
    "    tweets = [char for char in tweets if char not in string.punctuation] # Remove punctuations\n",
    "    tweets = ''.join(tweets) # Join the leters\n",
    "    tweets = [word for word in tweets.split() if word.lower() not in stopwords.words('english')] # Remove common english words (I, you, we,...)\n",
    "    return \" \".join(tweets)"
   ]
  },
  {
   "cell_type": "code",
   "execution_count": 8,
   "metadata": {},
   "outputs": [],
   "source": [
    "# Apply the function to 'text' to clean it\n",
    "# Add cleaned data as a separate column to the DataFrame\n",
    "\n",
    "tweets['cleaned_text']=tweets['text'].apply(clean_text)"
   ]
  },
  {
   "cell_type": "code",
   "execution_count": 9,
   "metadata": {},
   "outputs": [
    {
     "data": {
      "text/plain": [
       "0    Critical question PayTM informed Demonetizatio...\n",
       "1    Former FinSec RBI Dy Governor CBDT Chair Harva...\n",
       "2    Reddy Wedding mailtoday cartoon demonetization...\n",
       "3    Rs 40 lakh looted bank Kishtwar J amp K Third ...\n",
       "4    Many opposition leaders narendramodi Demonetiz...\n",
       "Name: cleaned_text, dtype: object"
      ]
     },
     "execution_count": 9,
     "metadata": {},
     "output_type": "execute_result"
    }
   ],
   "source": [
    "# Print the first 5 values of cleaned tweet data\n",
    "\n",
    "tweets['cleaned_text'].head()"
   ]
  },
  {
   "cell_type": "markdown",
   "metadata": {},
   "source": [
    "- ### Process the data\n",
    "\n",
    "\n",
    "    - Apart from cleaning, data also needs to be processed to remove elements which may cause issues in analysis\n",
    "    - Examples of such elements are 'single characters', 'multiple spaces', 'Upper-cased'\n",
    "    - Apply various text pre-processing techniques one-by-one to the cleaned data\n",
    "    \n",
    "        - Remove all the special characters\n",
    "        - Remove single characters appearing in the text except the start\n",
    "        - Remove single characters appearing at the start\n",
    "        - Substitute multiple spaces with a single space\n",
    "        - Remove prefix 'b'\n",
    "        - Convert to lowercase\n",
    "        - Print first five values of processed data\n",
    "        - Add the processed data as a separate column to the DataFrame\n"
   ]
  },
  {
   "cell_type": "code",
   "execution_count": 10,
   "metadata": {},
   "outputs": [],
   "source": [
    "features = tweets['cleaned_text']\n",
    "processed_features = []\n",
    "\n",
    "for sentence in range(0, len(features)):\n",
    "    # Remove all the special characters\n",
    "    processed_feature = re.sub(r'\\W', ' ', str(features[sentence]))\n",
    "    \n",
    "    # Remove single characters appearing in the text except the start\n",
    "    processed_feature= re.sub(r'\\s+[a-zA-Z]\\s+', ' ', processed_feature)\n",
    "    \n",
    "    # Remove single characters appearing at the start\n",
    "    processed_feature = re.sub(r'\\^[a-zA-Z]\\s+', ' ', processed_feature) \n",
    "    \n",
    "    # Substitute multiple spaces with a single space\n",
    "    processed_feature = re.sub(r'\\s+', ' ', processed_feature, flags=re.I)\n",
    "    \n",
    "    # Remove prefix 'b'\n",
    "    processed_feature = re.sub(r'^b\\s+', '', processed_feature)\n",
    "    \n",
    "    # Convert to lowercase\n",
    "    processed_feature = processed_feature.lower()\n",
    "\n",
    "    processed_features.append(processed_feature)"
   ]
  },
  {
   "cell_type": "code",
   "execution_count": 11,
   "metadata": {},
   "outputs": [
    {
     "data": {
      "text/plain": [
       "['critical question paytm informed demonetization edict pm clearly fishy requires full disclosure amp',\n",
       " 'former finsec rbi dy governor cbdt chair harvard professor lambaste demonetization aam aadmi listen th',\n",
       " 'reddy wedding mailtoday cartoon demonetization reddywedding tcou7glnrq31f',\n",
       " 'rs 40 lakh looted bank kishtwar amp third incident since demonetization terrorists',\n",
       " 'many opposition leaders narendramodi demonetization respect decision support oppositio']"
      ]
     },
     "execution_count": 11,
     "metadata": {},
     "output_type": "execute_result"
    }
   ],
   "source": [
    "# Print first five values of processed data\n",
    "processed_features[:5]"
   ]
  },
  {
   "cell_type": "code",
   "execution_count": 12,
   "metadata": {},
   "outputs": [],
   "source": [
    "# Add the processed data as a separate column to the DataFrame\n",
    "\n",
    "tweets['processed_text'] = processed_features"
   ]
  },
  {
   "cell_type": "code",
   "execution_count": 13,
   "metadata": {},
   "outputs": [
    {
     "data": {
      "text/html": [
       "<div>\n",
       "<style scoped>\n",
       "    .dataframe tbody tr th:only-of-type {\n",
       "        vertical-align: middle;\n",
       "    }\n",
       "\n",
       "    .dataframe tbody tr th {\n",
       "        vertical-align: top;\n",
       "    }\n",
       "\n",
       "    .dataframe thead th {\n",
       "        text-align: right;\n",
       "    }\n",
       "</style>\n",
       "<table border=\"1\" class=\"dataframe\">\n",
       "  <thead>\n",
       "    <tr style=\"text-align: right;\">\n",
       "      <th></th>\n",
       "      <th>text</th>\n",
       "      <th>favorited</th>\n",
       "      <th>favoriteCount</th>\n",
       "      <th>replyToSN</th>\n",
       "      <th>created</th>\n",
       "      <th>truncated</th>\n",
       "      <th>replyToSID</th>\n",
       "      <th>statusSource</th>\n",
       "      <th>screenName</th>\n",
       "      <th>retweetCount</th>\n",
       "      <th>isRetweet</th>\n",
       "      <th>retweeted</th>\n",
       "      <th>cleaned_text</th>\n",
       "      <th>processed_text</th>\n",
       "    </tr>\n",
       "  </thead>\n",
       "  <tbody>\n",
       "    <tr>\n",
       "      <th>0</th>\n",
       "      <td>RT @rssurjewala: Critical question: Was PayTM ...</td>\n",
       "      <td>False</td>\n",
       "      <td>0</td>\n",
       "      <td>NaN</td>\n",
       "      <td>11/23/2016 18:40</td>\n",
       "      <td>False</td>\n",
       "      <td>NaN</td>\n",
       "      <td>&lt;a href=\"http://twitter.com/download/android\" ...</td>\n",
       "      <td>HASHTAGFARZIWAL</td>\n",
       "      <td>331</td>\n",
       "      <td>True</td>\n",
       "      <td>False</td>\n",
       "      <td>Critical question PayTM informed Demonetizatio...</td>\n",
       "      <td>critical question paytm informed demonetizatio...</td>\n",
       "    </tr>\n",
       "    <tr>\n",
       "      <th>1</th>\n",
       "      <td>RT @roshankar: Former FinSec, RBI Dy Governor,...</td>\n",
       "      <td>False</td>\n",
       "      <td>0</td>\n",
       "      <td>NaN</td>\n",
       "      <td>11/23/2016 18:40</td>\n",
       "      <td>False</td>\n",
       "      <td>NaN</td>\n",
       "      <td>&lt;a href=\"http://twitter.com/download/android\" ...</td>\n",
       "      <td>rahulja13034944</td>\n",
       "      <td>12</td>\n",
       "      <td>True</td>\n",
       "      <td>False</td>\n",
       "      <td>Former FinSec RBI Dy Governor CBDT Chair Harva...</td>\n",
       "      <td>former finsec rbi dy governor cbdt chair harva...</td>\n",
       "    </tr>\n",
       "    <tr>\n",
       "      <th>2</th>\n",
       "      <td>RT @satishacharya: Reddy Wedding! @mail_today ...</td>\n",
       "      <td>False</td>\n",
       "      <td>0</td>\n",
       "      <td>NaN</td>\n",
       "      <td>11/23/2016 18:39</td>\n",
       "      <td>False</td>\n",
       "      <td>NaN</td>\n",
       "      <td>&lt;a href=\"http://cpimharyana.com\" rel=\"nofollow...</td>\n",
       "      <td>CPIMBadli</td>\n",
       "      <td>120</td>\n",
       "      <td>True</td>\n",
       "      <td>False</td>\n",
       "      <td>Reddy Wedding mailtoday cartoon demonetization...</td>\n",
       "      <td>reddy wedding mailtoday cartoon demonetization...</td>\n",
       "    </tr>\n",
       "    <tr>\n",
       "      <th>3</th>\n",
       "      <td>RT @gauravcsawant: Rs 40 lakh looted from a ba...</td>\n",
       "      <td>False</td>\n",
       "      <td>0</td>\n",
       "      <td>NaN</td>\n",
       "      <td>11/23/2016 18:38</td>\n",
       "      <td>False</td>\n",
       "      <td>NaN</td>\n",
       "      <td>&lt;a href=\"http://twitter.com/download/android\" ...</td>\n",
       "      <td>bhodia1</td>\n",
       "      <td>637</td>\n",
       "      <td>True</td>\n",
       "      <td>False</td>\n",
       "      <td>Rs 40 lakh looted bank Kishtwar J amp K Third ...</td>\n",
       "      <td>rs 40 lakh looted bank kishtwar amp third inci...</td>\n",
       "    </tr>\n",
       "    <tr>\n",
       "      <th>4</th>\n",
       "      <td>RT @sumitbhati2002: Many opposition leaders ar...</td>\n",
       "      <td>False</td>\n",
       "      <td>0</td>\n",
       "      <td>NaN</td>\n",
       "      <td>11/23/2016 18:38</td>\n",
       "      <td>False</td>\n",
       "      <td>NaN</td>\n",
       "      <td>&lt;a href=\"http://twitter.com/download/android\" ...</td>\n",
       "      <td>sumitbhati2002</td>\n",
       "      <td>1</td>\n",
       "      <td>True</td>\n",
       "      <td>False</td>\n",
       "      <td>Many opposition leaders narendramodi Demonetiz...</td>\n",
       "      <td>many opposition leaders narendramodi demonetiz...</td>\n",
       "    </tr>\n",
       "  </tbody>\n",
       "</table>\n",
       "</div>"
      ],
      "text/plain": [
       "                                                text  favorited  \\\n",
       "0  RT @rssurjewala: Critical question: Was PayTM ...      False   \n",
       "1  RT @roshankar: Former FinSec, RBI Dy Governor,...      False   \n",
       "2  RT @satishacharya: Reddy Wedding! @mail_today ...      False   \n",
       "3  RT @gauravcsawant: Rs 40 lakh looted from a ba...      False   \n",
       "4  RT @sumitbhati2002: Many opposition leaders ar...      False   \n",
       "\n",
       "   favoriteCount replyToSN           created  truncated  replyToSID  \\\n",
       "0              0       NaN  11/23/2016 18:40      False         NaN   \n",
       "1              0       NaN  11/23/2016 18:40      False         NaN   \n",
       "2              0       NaN  11/23/2016 18:39      False         NaN   \n",
       "3              0       NaN  11/23/2016 18:38      False         NaN   \n",
       "4              0       NaN  11/23/2016 18:38      False         NaN   \n",
       "\n",
       "                                        statusSource       screenName  \\\n",
       "0  <a href=\"http://twitter.com/download/android\" ...  HASHTAGFARZIWAL   \n",
       "1  <a href=\"http://twitter.com/download/android\" ...  rahulja13034944   \n",
       "2  <a href=\"http://cpimharyana.com\" rel=\"nofollow...        CPIMBadli   \n",
       "3  <a href=\"http://twitter.com/download/android\" ...          bhodia1   \n",
       "4  <a href=\"http://twitter.com/download/android\" ...   sumitbhati2002   \n",
       "\n",
       "   retweetCount  isRetweet  retweeted  \\\n",
       "0           331       True      False   \n",
       "1            12       True      False   \n",
       "2           120       True      False   \n",
       "3           637       True      False   \n",
       "4             1       True      False   \n",
       "\n",
       "                                        cleaned_text  \\\n",
       "0  Critical question PayTM informed Demonetizatio...   \n",
       "1  Former FinSec RBI Dy Governor CBDT Chair Harva...   \n",
       "2  Reddy Wedding mailtoday cartoon demonetization...   \n",
       "3  Rs 40 lakh looted bank Kishtwar J amp K Third ...   \n",
       "4  Many opposition leaders narendramodi Demonetiz...   \n",
       "\n",
       "                                      processed_text  \n",
       "0  critical question paytm informed demonetizatio...  \n",
       "1  former finsec rbi dy governor cbdt chair harva...  \n",
       "2  reddy wedding mailtoday cartoon demonetization...  \n",
       "3  rs 40 lakh looted bank kishtwar amp third inci...  \n",
       "4  many opposition leaders narendramodi demonetiz...  "
      ]
     },
     "execution_count": 13,
     "metadata": {},
     "output_type": "execute_result"
    }
   ],
   "source": [
    "# Observe the entire data\n",
    "\n",
    "tweets.head()"
   ]
  },
  {
   "cell_type": "markdown",
   "metadata": {},
   "source": [
    "- ### Run Sentiment analysis\n",
    "\n",
    "    1. Import TextBlob from Python to calculate various Sentiment scores as described below:\n",
    "        - <b>Polarity</b> is a float value within the range [-1.0 to 1.0] where 0 indicates neutral, +1 indicates a very positive sentiment and -1 represents a very negative sentiment.\n",
    "        - <b>Subjectivity</b> is a float value within the range [0.0 to 1.0] where 0.0 is very objective and 1.0 is very subjective. Subjective sentence expresses some personal feelings, views, beliefs, opinions, allegations, desires, beliefs, suspicions, and speculations where as Objective sentences are factual.\n",
    "\n",
    "    2. After calculating the above scores, encode the polarity scores into three categories- 'positive', 'negative' and 'neutral'\n",
    "    \n",
    "    3. Print the most positive and most negative tweet using Polarity score\n",
    "    \n",
    "    4. Print the most subjective and most objective tweet using Subjectivity score"
   ]
  },
  {
   "cell_type": "code",
   "execution_count": 15,
   "metadata": {},
   "outputs": [
    {
     "name": "stdout",
     "output_type": "stream",
     "text": [
      "Collecting textblob\n",
      "  Downloading textblob-0.17.1-py2.py3-none-any.whl (636 kB)\n",
      "     -------------------------------------- 636.8/636.8 kB 8.0 MB/s eta 0:00:00\n",
      "Requirement already satisfied: nltk>=3.1 in c:\\users\\admin\\anaconda3\\lib\\site-packages (from textblob) (3.7)\n",
      "Requirement already satisfied: click in c:\\users\\admin\\anaconda3\\lib\\site-packages (from nltk>=3.1->textblob) (8.0.4)\n",
      "Requirement already satisfied: joblib in c:\\users\\admin\\anaconda3\\lib\\site-packages (from nltk>=3.1->textblob) (1.1.1)\n",
      "Requirement already satisfied: tqdm in c:\\users\\admin\\anaconda3\\lib\\site-packages (from nltk>=3.1->textblob) (4.64.1)\n",
      "Requirement already satisfied: regex>=2021.8.3 in c:\\users\\admin\\anaconda3\\lib\\site-packages (from nltk>=3.1->textblob) (2022.7.9)\n",
      "Requirement already satisfied: colorama in c:\\users\\admin\\appdata\\roaming\\python\\python310\\site-packages (from click->nltk>=3.1->textblob) (0.4.6)\n",
      "Installing collected packages: textblob\n",
      "Successfully installed textblob-0.17.1\n"
     ]
    }
   ],
   "source": [
    "!pip install textblob"
   ]
  },
  {
   "cell_type": "code",
   "execution_count": 16,
   "metadata": {},
   "outputs": [],
   "source": [
    "from textblob import TextBlob  ### Python library to create sentiment analysis"
   ]
  },
  {
   "cell_type": "code",
   "execution_count": 17,
   "metadata": {},
   "outputs": [],
   "source": [
    "# Create a function to calculate Sentiment scores for each text\n",
    "def generate_polarity(text):\n",
    "    sentiment = TextBlob(text).sentiment\n",
    "    return sentiment"
   ]
  },
  {
   "cell_type": "code",
   "execution_count": 18,
   "metadata": {},
   "outputs": [
    {
     "data": {
      "text/html": [
       "<div>\n",
       "<style scoped>\n",
       "    .dataframe tbody tr th:only-of-type {\n",
       "        vertical-align: middle;\n",
       "    }\n",
       "\n",
       "    .dataframe tbody tr th {\n",
       "        vertical-align: top;\n",
       "    }\n",
       "\n",
       "    .dataframe thead th {\n",
       "        text-align: right;\n",
       "    }\n",
       "</style>\n",
       "<table border=\"1\" class=\"dataframe\">\n",
       "  <thead>\n",
       "    <tr style=\"text-align: right;\">\n",
       "      <th></th>\n",
       "      <th>processed_text</th>\n",
       "    </tr>\n",
       "  </thead>\n",
       "  <tbody>\n",
       "    <tr>\n",
       "      <th>0</th>\n",
       "      <td>(0.15, 0.5777777777777778)</td>\n",
       "    </tr>\n",
       "    <tr>\n",
       "      <th>1</th>\n",
       "      <td>(0.0, 0.0)</td>\n",
       "    </tr>\n",
       "    <tr>\n",
       "      <th>2</th>\n",
       "      <td>(0.0, 0.0)</td>\n",
       "    </tr>\n",
       "    <tr>\n",
       "      <th>3</th>\n",
       "      <td>(0.0, 0.0)</td>\n",
       "    </tr>\n",
       "    <tr>\n",
       "      <th>4</th>\n",
       "      <td>(0.5, 0.5)</td>\n",
       "    </tr>\n",
       "  </tbody>\n",
       "</table>\n",
       "</div>"
      ],
      "text/plain": [
       "               processed_text\n",
       "0  (0.15, 0.5777777777777778)\n",
       "1                  (0.0, 0.0)\n",
       "2                  (0.0, 0.0)\n",
       "3                  (0.0, 0.0)\n",
       "4                  (0.5, 0.5)"
      ]
     },
     "execution_count": 18,
     "metadata": {},
     "output_type": "execute_result"
    }
   ],
   "source": [
    "# Apply the function to processed data\n",
    "sentiment = tweets['processed_text'].apply(generate_polarity)\n",
    "sentiment = sentiment.to_frame()\n",
    "sentiment.head()"
   ]
  },
  {
   "cell_type": "code",
   "execution_count": 19,
   "metadata": {},
   "outputs": [],
   "source": [
    "# Use the first element as Polarity\n",
    "sentiment['polarity'] = sentiment['processed_text'].apply(lambda x:x[0])\n",
    "\n",
    "# Use the second element as Subjectivity\n",
    "sentiment ['subjectivity'] = sentiment['processed_text'].apply(lambda x:x[1])"
   ]
  },
  {
   "cell_type": "code",
   "execution_count": 20,
   "metadata": {},
   "outputs": [],
   "source": [
    "# Add two columns to DataFrame for Polarity and Subjectivity score respectively\n",
    "\n",
    "tweets['polarity'] = sentiment['polarity']\n",
    "tweets['subjectivity'] = sentiment['subjectivity']"
   ]
  },
  {
   "cell_type": "code",
   "execution_count": 21,
   "metadata": {},
   "outputs": [],
   "source": [
    "# Encode polarity into 'positive', 'negative' and 'neutral' based on the score\n",
    "\n",
    "tweets['polarity_encoded'] = ['positive' if x > 0 else 'negative' if x < 0 else 'neutral' for x in tweets['polarity']]"
   ]
  },
  {
   "cell_type": "code",
   "execution_count": 22,
   "metadata": {},
   "outputs": [
    {
     "data": {
      "text/plain": [
       "neutral     3720\n",
       "positive    2648\n",
       "negative    1102\n",
       "Name: polarity_encoded, dtype: int64"
      ]
     },
     "execution_count": 22,
     "metadata": {},
     "output_type": "execute_result"
    }
   ],
   "source": [
    "# Print the number of tweets of each category of polarity\n",
    "tweets['polarity_encoded'].value_counts()"
   ]
  },
  {
   "cell_type": "code",
   "execution_count": 23,
   "metadata": {},
   "outputs": [
    {
     "name": "stdout",
     "output_type": "stream",
     "text": [
      "The most positive tweet: one greatest computer scientists dr vijay bhatkar views demonetization decision hon pm narendramodi h\n",
      "The most negative tweet: pathetic journalism media thought get stds atms another attempt malign demonetization tco\n"
     ]
    }
   ],
   "source": [
    "# Print the most positive and most negative tweet\n",
    "\n",
    "print(\"The most positive tweet:\",tweets.iloc[tweets['polarity'].idxmax()]['processed_text'])\n",
    "print(\"The most negative tweet:\",tweets.iloc[tweets['polarity'].idxmin()]['processed_text']) "
   ]
  },
  {
   "cell_type": "code",
   "execution_count": 24,
   "metadata": {},
   "outputs": [
    {
     "name": "stdout",
     "output_type": "stream",
     "text": [
      "The most subjective tweet: demonetization harbhajansingh gives hilarious shagun suggestion struggling wedding season\n",
      "The most objective tweet: former finsec rbi dy governor cbdt chair harvard professor lambaste demonetization aam aadmi listen th\n"
     ]
    }
   ],
   "source": [
    "# Print the most subjective and most objective tweet\n",
    "\n",
    "print(\"The most subjective tweet:\",tweets.iloc[tweets['subjectivity'].idxmax()]['processed_text'])\n",
    "print(\"The most objective tweet:\",tweets.iloc[tweets['subjectivity'].idxmin()]['processed_text']) "
   ]
  },
  {
   "cell_type": "markdown",
   "metadata": {},
   "source": [
    "- ### Apply Vectorization\n",
    "\n",
    "    1. Create a DataFrame containing only the columns of interest- Processed text & Polarity Category\n",
    "    2. Tokenize the text using TweetTokenizer from NLTK\n",
    "    3. Calculate the number of unique words (Bag of Words) using Count Vectorizer"
   ]
  },
  {
   "cell_type": "code",
   "execution_count": 25,
   "metadata": {},
   "outputs": [
    {
     "data": {
      "text/plain": [
       "Index(['text', 'favorited', 'favoriteCount', 'replyToSN', 'created',\n",
       "       'truncated', 'replyToSID', 'statusSource', 'screenName', 'retweetCount',\n",
       "       'isRetweet', 'retweeted', 'cleaned_text', 'processed_text', 'polarity',\n",
       "       'subjectivity', 'polarity_encoded'],\n",
       "      dtype='object')"
      ]
     },
     "execution_count": 25,
     "metadata": {},
     "output_type": "execute_result"
    }
   ],
   "source": [
    "# Create a DataFrame containing only the columns of interest- Processed text & Polarity Category\n",
    "tweets.columns"
   ]
  },
  {
   "cell_type": "code",
   "execution_count": 26,
   "metadata": {},
   "outputs": [],
   "source": [
    "df = tweets[['processed_text', 'polarity_encoded']]"
   ]
  },
  {
   "cell_type": "code",
   "execution_count": 27,
   "metadata": {},
   "outputs": [
    {
     "data": {
      "text/html": [
       "<div>\n",
       "<style scoped>\n",
       "    .dataframe tbody tr th:only-of-type {\n",
       "        vertical-align: middle;\n",
       "    }\n",
       "\n",
       "    .dataframe tbody tr th {\n",
       "        vertical-align: top;\n",
       "    }\n",
       "\n",
       "    .dataframe thead th {\n",
       "        text-align: right;\n",
       "    }\n",
       "</style>\n",
       "<table border=\"1\" class=\"dataframe\">\n",
       "  <thead>\n",
       "    <tr style=\"text-align: right;\">\n",
       "      <th></th>\n",
       "      <th>processed_text</th>\n",
       "      <th>polarity_encoded</th>\n",
       "    </tr>\n",
       "  </thead>\n",
       "  <tbody>\n",
       "    <tr>\n",
       "      <th>0</th>\n",
       "      <td>critical question paytm informed demonetizatio...</td>\n",
       "      <td>positive</td>\n",
       "    </tr>\n",
       "    <tr>\n",
       "      <th>1</th>\n",
       "      <td>former finsec rbi dy governor cbdt chair harva...</td>\n",
       "      <td>neutral</td>\n",
       "    </tr>\n",
       "    <tr>\n",
       "      <th>2</th>\n",
       "      <td>reddy wedding mailtoday cartoon demonetization...</td>\n",
       "      <td>neutral</td>\n",
       "    </tr>\n",
       "    <tr>\n",
       "      <th>3</th>\n",
       "      <td>rs 40 lakh looted bank kishtwar amp third inci...</td>\n",
       "      <td>neutral</td>\n",
       "    </tr>\n",
       "    <tr>\n",
       "      <th>4</th>\n",
       "      <td>many opposition leaders narendramodi demonetiz...</td>\n",
       "      <td>positive</td>\n",
       "    </tr>\n",
       "  </tbody>\n",
       "</table>\n",
       "</div>"
      ],
      "text/plain": [
       "                                      processed_text polarity_encoded\n",
       "0  critical question paytm informed demonetizatio...         positive\n",
       "1  former finsec rbi dy governor cbdt chair harva...          neutral\n",
       "2  reddy wedding mailtoday cartoon demonetization...          neutral\n",
       "3  rs 40 lakh looted bank kishtwar amp third inci...          neutral\n",
       "4  many opposition leaders narendramodi demonetiz...         positive"
      ]
     },
     "execution_count": 27,
     "metadata": {},
     "output_type": "execute_result"
    }
   ],
   "source": [
    "df.head()"
   ]
  },
  {
   "cell_type": "code",
   "execution_count": 28,
   "metadata": {},
   "outputs": [
    {
     "data": {
      "text/plain": [
       "(7470, 2)"
      ]
     },
     "execution_count": 28,
     "metadata": {},
     "output_type": "execute_result"
    }
   ],
   "source": [
    "df.shape"
   ]
  },
  {
   "cell_type": "code",
   "execution_count": 29,
   "metadata": {},
   "outputs": [],
   "source": [
    "# Tokenize the text using TweetTokenizer from NLTK\n",
    "\n",
    "from nltk.tokenize import TweetTokenizer\n",
    "from sklearn.feature_extraction.text import CountVectorizer, TfidfTransformer\n",
    "from sklearn.feature_extraction.text import TfidfVectorizer\n",
    "from sklearn.model_selection import train_test_split"
   ]
  },
  {
   "cell_type": "code",
   "execution_count": 30,
   "metadata": {},
   "outputs": [],
   "source": [
    "# Function to generate tokens using TweetTokenizer\n",
    "def tokenize(text): \n",
    "    tk = TweetTokenizer()\n",
    "    return tk.tokenize(text)\n",
    "\n",
    "vectorizer = CountVectorizer(analyzer = 'word',tokenizer = tokenize,lowercase = True,ngram_range=(1, 1))"
   ]
  },
  {
   "cell_type": "code",
   "execution_count": 31,
   "metadata": {},
   "outputs": [
    {
     "name": "stderr",
     "output_type": "stream",
     "text": [
      "C:\\Users\\Admin\\anaconda3\\lib\\site-packages\\sklearn\\feature_extraction\\text.py:528: UserWarning: The parameter 'token_pattern' will not be used since 'tokenizer' is not None'\n",
      "  warnings.warn(\n"
     ]
    }
   ],
   "source": [
    "# Generate unique words from the processed data by applying Count Vectorizer along with TweetTokenizer\n",
    "\n",
    "count= vectorizer.fit_transform(df['processed_text'])"
   ]
  },
  {
   "cell_type": "code",
   "execution_count": 32,
   "metadata": {},
   "outputs": [
    {
     "data": {
      "text/plain": [
       "(7470, 8912)"
      ]
     },
     "execution_count": 32,
     "metadata": {},
     "output_type": "execute_result"
    }
   ],
   "source": [
    "# What is the shape of the data- Count vectorizer provides information about unique words present in data\n",
    "count.shape\n",
    "# This returns the shape of the term-document matrix geerated by application of Count Vectorizer\n",
    "# The matrix contains same number of rows as in the input DataFrame and number of columns represent the number of unique ngrams (here unigrams) created by vectorizer"
   ]
  },
  {
   "cell_type": "markdown",
   "metadata": {},
   "source": [
    "- ### Create a classification model on our data\n",
    "\n",
    "    1. Split the data into training and testing data sets\n",
    "        - Use processed data as independent variable and polarity as dependent variable\n",
    "    2. Extract features using TFIDF Vectorizer\n",
    "    3. Perform Multinomial Naive Bayes Claasification\n",
    "        - Apply MultinomialNB on training data\n",
    "        - Predict polarity by fitting the model to testing data\n",
    "        - Calculate accuracy of predicted values\n",
    "    4. Perform Random Forest classification on the processed data and compare the accuracy score of both these models"
   ]
  },
  {
   "cell_type": "code",
   "execution_count": 33,
   "metadata": {},
   "outputs": [],
   "source": [
    "# Load the libraries required for performing classification\n",
    "\n",
    "from sklearn.naive_bayes import MultinomialNB\n",
    "from sklearn.metrics import confusion_matrix, accuracy_score, f1_score, precision_score, recall_score"
   ]
  },
  {
   "cell_type": "code",
   "execution_count": 34,
   "metadata": {},
   "outputs": [],
   "source": [
    "# Split the data into training and testing data sets\n",
    "# Use processed data as independent variable and polarity as dependent variable\n",
    "\n",
    "X = df['processed_text'].values\n",
    "y = df['polarity_encoded'].values\n",
    "\n",
    "X_train, X_test, y_train, y_test = train_test_split(X,y, random_state=100, test_size=0.3)"
   ]
  },
  {
   "cell_type": "code",
   "execution_count": 35,
   "metadata": {},
   "outputs": [],
   "source": [
    "# Extract features using TFIDF Vectorizer\n",
    "\n",
    "vectorizer = TfidfVectorizer(max_features=1000)\n",
    "X_train_idf = vectorizer.fit_transform(X_train)\n",
    "X_test_idf = vectorizer.transform(X_test)"
   ]
  },
  {
   "cell_type": "code",
   "execution_count": 37,
   "metadata": {},
   "outputs": [
    {
     "data": {
      "text/html": [
       "<div>\n",
       "<style scoped>\n",
       "    .dataframe tbody tr th:only-of-type {\n",
       "        vertical-align: middle;\n",
       "    }\n",
       "\n",
       "    .dataframe tbody tr th {\n",
       "        vertical-align: top;\n",
       "    }\n",
       "\n",
       "    .dataframe thead th {\n",
       "        text-align: right;\n",
       "    }\n",
       "</style>\n",
       "<table border=\"1\" class=\"dataframe\">\n",
       "  <thead>\n",
       "    <tr style=\"text-align: right;\">\n",
       "      <th></th>\n",
       "      <th>idf_weights</th>\n",
       "    </tr>\n",
       "  </thead>\n",
       "  <tbody>\n",
       "    <tr>\n",
       "      <th>ysrcp</th>\n",
       "      <td>7.770407</td>\n",
       "    </tr>\n",
       "    <tr>\n",
       "      <th>u092c</th>\n",
       "      <td>7.482725</td>\n",
       "    </tr>\n",
       "    <tr>\n",
       "      <th>oppn</th>\n",
       "      <td>7.364942</td>\n",
       "    </tr>\n",
       "    <tr>\n",
       "      <th>lakhs</th>\n",
       "      <td>7.364942</td>\n",
       "    </tr>\n",
       "    <tr>\n",
       "      <th>lets</th>\n",
       "      <td>7.364942</td>\n",
       "    </tr>\n",
       "  </tbody>\n",
       "</table>\n",
       "</div>"
      ],
      "text/plain": [
       "       idf_weights\n",
       "ysrcp     7.770407\n",
       "u092c     7.482725\n",
       "oppn      7.364942\n",
       "lakhs     7.364942\n",
       "lets      7.364942"
      ]
     },
     "execution_count": 37,
     "metadata": {},
     "output_type": "execute_result"
    }
   ],
   "source": [
    "# Print idf values\n",
    "df_idf = pd.DataFrame(vectorizer.idf_, index=vectorizer.get_feature_names_out(),columns=[\"idf_weights\"])\n",
    "# Sort ascending\n",
    "df_idf.sort_values(by=['idf_weights'],ascending = False).head()"
   ]
  },
  {
   "cell_type": "code",
   "execution_count": 38,
   "metadata": {},
   "outputs": [
    {
     "data": {
      "text/html": [
       "<style>#sk-container-id-1 {color: black;background-color: white;}#sk-container-id-1 pre{padding: 0;}#sk-container-id-1 div.sk-toggleable {background-color: white;}#sk-container-id-1 label.sk-toggleable__label {cursor: pointer;display: block;width: 100%;margin-bottom: 0;padding: 0.3em;box-sizing: border-box;text-align: center;}#sk-container-id-1 label.sk-toggleable__label-arrow:before {content: \"▸\";float: left;margin-right: 0.25em;color: #696969;}#sk-container-id-1 label.sk-toggleable__label-arrow:hover:before {color: black;}#sk-container-id-1 div.sk-estimator:hover label.sk-toggleable__label-arrow:before {color: black;}#sk-container-id-1 div.sk-toggleable__content {max-height: 0;max-width: 0;overflow: hidden;text-align: left;background-color: #f0f8ff;}#sk-container-id-1 div.sk-toggleable__content pre {margin: 0.2em;color: black;border-radius: 0.25em;background-color: #f0f8ff;}#sk-container-id-1 input.sk-toggleable__control:checked~div.sk-toggleable__content {max-height: 200px;max-width: 100%;overflow: auto;}#sk-container-id-1 input.sk-toggleable__control:checked~label.sk-toggleable__label-arrow:before {content: \"▾\";}#sk-container-id-1 div.sk-estimator input.sk-toggleable__control:checked~label.sk-toggleable__label {background-color: #d4ebff;}#sk-container-id-1 div.sk-label input.sk-toggleable__control:checked~label.sk-toggleable__label {background-color: #d4ebff;}#sk-container-id-1 input.sk-hidden--visually {border: 0;clip: rect(1px 1px 1px 1px);clip: rect(1px, 1px, 1px, 1px);height: 1px;margin: -1px;overflow: hidden;padding: 0;position: absolute;width: 1px;}#sk-container-id-1 div.sk-estimator {font-family: monospace;background-color: #f0f8ff;border: 1px dotted black;border-radius: 0.25em;box-sizing: border-box;margin-bottom: 0.5em;}#sk-container-id-1 div.sk-estimator:hover {background-color: #d4ebff;}#sk-container-id-1 div.sk-parallel-item::after {content: \"\";width: 100%;border-bottom: 1px solid gray;flex-grow: 1;}#sk-container-id-1 div.sk-label:hover label.sk-toggleable__label {background-color: #d4ebff;}#sk-container-id-1 div.sk-serial::before {content: \"\";position: absolute;border-left: 1px solid gray;box-sizing: border-box;top: 0;bottom: 0;left: 50%;z-index: 0;}#sk-container-id-1 div.sk-serial {display: flex;flex-direction: column;align-items: center;background-color: white;padding-right: 0.2em;padding-left: 0.2em;position: relative;}#sk-container-id-1 div.sk-item {position: relative;z-index: 1;}#sk-container-id-1 div.sk-parallel {display: flex;align-items: stretch;justify-content: center;background-color: white;position: relative;}#sk-container-id-1 div.sk-item::before, #sk-container-id-1 div.sk-parallel-item::before {content: \"\";position: absolute;border-left: 1px solid gray;box-sizing: border-box;top: 0;bottom: 0;left: 50%;z-index: -1;}#sk-container-id-1 div.sk-parallel-item {display: flex;flex-direction: column;z-index: 1;position: relative;background-color: white;}#sk-container-id-1 div.sk-parallel-item:first-child::after {align-self: flex-end;width: 50%;}#sk-container-id-1 div.sk-parallel-item:last-child::after {align-self: flex-start;width: 50%;}#sk-container-id-1 div.sk-parallel-item:only-child::after {width: 0;}#sk-container-id-1 div.sk-dashed-wrapped {border: 1px dashed gray;margin: 0 0.4em 0.5em 0.4em;box-sizing: border-box;padding-bottom: 0.4em;background-color: white;}#sk-container-id-1 div.sk-label label {font-family: monospace;font-weight: bold;display: inline-block;line-height: 1.2em;}#sk-container-id-1 div.sk-label-container {text-align: center;}#sk-container-id-1 div.sk-container {/* jupyter's `normalize.less` sets `[hidden] { display: none; }` but bootstrap.min.css set `[hidden] { display: none !important; }` so we also need the `!important` here to be able to override the default hidden behavior on the sphinx rendered scikit-learn.org. See: https://github.com/scikit-learn/scikit-learn/issues/21755 */display: inline-block !important;position: relative;}#sk-container-id-1 div.sk-text-repr-fallback {display: none;}</style><div id=\"sk-container-id-1\" class=\"sk-top-container\"><div class=\"sk-text-repr-fallback\"><pre>MultinomialNB()</pre><b>In a Jupyter environment, please rerun this cell to show the HTML representation or trust the notebook. <br />On GitHub, the HTML representation is unable to render, please try loading this page with nbviewer.org.</b></div><div class=\"sk-container\" hidden><div class=\"sk-item\"><div class=\"sk-estimator sk-toggleable\"><input class=\"sk-toggleable__control sk-hidden--visually\" id=\"sk-estimator-id-1\" type=\"checkbox\" checked><label for=\"sk-estimator-id-1\" class=\"sk-toggleable__label sk-toggleable__label-arrow\">MultinomialNB</label><div class=\"sk-toggleable__content\"><pre>MultinomialNB()</pre></div></div></div></div></div>"
      ],
      "text/plain": [
       "MultinomialNB()"
      ]
     },
     "execution_count": 38,
     "metadata": {},
     "output_type": "execute_result"
    }
   ],
   "source": [
    "# Perform Multinomial Naive Bayes Classification\n",
    "# Apply MultinomialNB on training data\n",
    "mnb = MultinomialNB()\n",
    "mnb.fit(X_train_idf, y_train)"
   ]
  },
  {
   "cell_type": "code",
   "execution_count": 39,
   "metadata": {},
   "outputs": [
    {
     "name": "stdout",
     "output_type": "stream",
     "text": [
      "                     Model  Accuracy\n",
      "0  Multinomial Naive Bayes    0.8639\n"
     ]
    }
   ],
   "source": [
    "# Predict polarity by fitting the model to testing data\n",
    "pred_mnb = mnb.predict(X_test_idf)\n",
    "\n",
    "# Calculate accuracy of predicted values\n",
    "acc = accuracy_score(y_test, pred_mnb)\n",
    "\n",
    "\n",
    "results = pd.DataFrame([['Multinomial Naive Bayes', acc]],\n",
    "               columns = ['Model', 'Accuracy'])\n",
    "\n",
    "print(results)"
   ]
  },
  {
   "cell_type": "code",
   "execution_count": 37,
   "metadata": {},
   "outputs": [
    {
     "name": "stdout",
     "output_type": "stream",
     "text": [
      "                     Model  Accuracy\n",
      "0  Multinomial Naive Bayes  0.862115\n",
      "1      Random Forest(Gini)  0.927711\n"
     ]
    }
   ],
   "source": [
    "# Perform Random Forest classification on the processed data and compare the accuracy score of both these models\n",
    "\n",
    "# Random Forest Classifier with 'gini'\n",
    "\n",
    "from sklearn.ensemble import RandomForestClassifier\n",
    "clf_rf = RandomForestClassifier()\n",
    "clf_rf.fit(X_train_idf, y_train)\n",
    "\n",
    "# Predict using testing data\n",
    "y_pred_rf = clf_rf.predict(X_test_idf)\n",
    "\n",
    "# Calculate accuracy\n",
    "acc = accuracy_score(y_test, y_pred_rf)\n",
    "\n",
    "model_results = pd.DataFrame([['Random Forest(Gini)', acc]],\n",
    "               columns = ['Model', 'Accuracy'])\n",
    "\n",
    "results = results.append(model_results, ignore_index = True)\n",
    "print(results)"
   ]
  },
  {
   "cell_type": "code",
   "execution_count": 38,
   "metadata": {},
   "outputs": [
    {
     "name": "stdout",
     "output_type": "stream",
     "text": [
      "                     Model  Accuracy\n",
      "0  Multinomial Naive Bayes  0.862115\n",
      "1      Random Forest(Gini)  0.927711\n",
      "2   Random Forest(Entropy)  0.920571\n"
     ]
    }
   ],
   "source": [
    "# Random Forest Classifier with 'entropy'\n",
    "\n",
    "from sklearn.ensemble import RandomForestClassifier\n",
    "clf_rf = RandomForestClassifier(criterion='entropy')\n",
    "clf_rf.fit(X_train_idf, y_train)\n",
    "\n",
    "# Predict using testing data\n",
    "y_pred_rf = clf_rf.predict(X_test_idf)\n",
    "\n",
    "# Calculate accuracy\n",
    "acc = accuracy_score(y_test, y_pred_rf)\n",
    "\n",
    "model_results = pd.DataFrame([['Random Forest(Entropy)', acc]],\n",
    "               columns = ['Model', 'Accuracy'])\n",
    "\n",
    "results = results.append(model_results, ignore_index = True)\n",
    "print(results)"
   ]
  },
  {
   "cell_type": "code",
   "execution_count": 39,
   "metadata": {},
   "outputs": [
    {
     "data": {
      "text/plain": [
       "array([[ 270,   75,    9],\n",
       "       [   6, 1048,    5],\n",
       "       [   5,   78,  745]])"
      ]
     },
     "execution_count": 39,
     "metadata": {},
     "output_type": "execute_result"
    }
   ],
   "source": [
    "# Display confusion matrix for Random Forest\n",
    "\n",
    "confusion_matrix(y_test,y_pred_rf) ### Confusion matrix for Random Forest"
   ]
  },
  {
   "cell_type": "markdown",
   "metadata": {},
   "source": [
    "<b><i>Conclusion</i></b>: In this demonstration of the case study, we examined how to perform Sentiment Analysis on Twitter data through various phases such as data cleaning, data pre-processing, tokenization, sentiment scoring, feature extraction and classification using Machine Learning algorithms."
   ]
  }
 ],
 "metadata": {
  "kernelspec": {
   "display_name": "Python 3 (ipykernel)",
   "language": "python",
   "name": "python3"
  },
  "language_info": {
   "codemirror_mode": {
    "name": "ipython",
    "version": 3
   },
   "file_extension": ".py",
   "mimetype": "text/x-python",
   "name": "python",
   "nbconvert_exporter": "python",
   "pygments_lexer": "ipython3",
   "version": "3.10.9"
  }
 },
 "nbformat": 4,
 "nbformat_minor": 2
}
