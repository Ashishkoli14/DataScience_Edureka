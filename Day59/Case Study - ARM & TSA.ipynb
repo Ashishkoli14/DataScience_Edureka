{
 "cells": [
  {
   "cell_type": "markdown",
   "metadata": {},
   "source": [
    "<h2> Case Study: Association Rule Mining and Time Series Analysis on Retail Store Data </h2>\n",
    "\n",
    "In this case study, you will perform Association Rule Mining on data to discover the rules that govern purchases in the store.\n",
    "Moreover, you will be performing Time Series Analysis to understand how the store's revenue is changing with time."
   ]
  },
  {
   "cell_type": "markdown",
   "metadata": {},
   "source": [
    "## Discovering purchasing patterns using Market Basket Analysis"
   ]
  },
  {
   "cell_type": "code",
   "execution_count": 1,
   "metadata": {},
   "outputs": [],
   "source": [
    "#Import the required libraries\n",
    "import numpy as np\n",
    "import pandas as pd\n",
    "from mlxtend.frequent_patterns import apriori\n",
    "from mlxtend.frequent_patterns import association_rules\n",
    "import matplotlib.pyplot as plt\n",
    "import matplotlib"
   ]
  },
  {
   "cell_type": "code",
   "execution_count": 2,
   "metadata": {},
   "outputs": [
    {
     "name": "stdout",
     "output_type": "stream",
     "text": [
      "  InvoiceNo StockCode                          Description  Quantity  \\\n",
      "0    536365    85123A   WHITE HANGING HEART T-LIGHT HOLDER         6   \n",
      "1    536365     71053                  WHITE METAL LANTERN         6   \n",
      "2    536365    84406B       CREAM CUPID HEARTS COAT HANGER         8   \n",
      "3    536365    84029G  KNITTED UNION FLAG HOT WATER BOTTLE         6   \n",
      "4    536365    84029E       RED WOOLLY HOTTIE WHITE HEART.         6   \n",
      "\n",
      "      InvoiceDate  UnitPrice  CustomerID         Country  \n",
      "0  12/1/2010 8:26       2.55     17850.0  United Kingdom  \n",
      "1  12/1/2010 8:26       3.39     17850.0  United Kingdom  \n",
      "2  12/1/2010 8:26       2.75     17850.0  United Kingdom  \n",
      "3  12/1/2010 8:26       3.39     17850.0  United Kingdom  \n",
      "4  12/1/2010 8:26       3.39     17850.0  United Kingdom  \n"
     ]
    }
   ],
   "source": [
    "#Read the uploaded csv file\n",
    "data = pd.read_csv(\"data.csv\",encoding = \"ISO-8859-1\")\n",
    "print (data.head())"
   ]
  },
  {
   "cell_type": "code",
   "execution_count": 3,
   "metadata": {},
   "outputs": [
    {
     "data": {
      "text/plain": [
       "(541909, 8)"
      ]
     },
     "execution_count": 3,
     "metadata": {},
     "output_type": "execute_result"
    }
   ],
   "source": [
    "data.shape"
   ]
  },
  {
   "cell_type": "markdown",
   "metadata": {},
   "source": [
    "## Exploratory Data Analysis\n",
    "\n",
    "Since this is a huge dataset, let us understand the number of <b>unique transactions</b> in the dataset."
   ]
  },
  {
   "cell_type": "code",
   "execution_count": 4,
   "metadata": {},
   "outputs": [
    {
     "data": {
      "text/plain": [
       "25900"
      ]
     },
     "execution_count": 4,
     "metadata": {},
     "output_type": "execute_result"
    }
   ],
   "source": [
    "len(data.groupby(['InvoiceNo'])['Quantity'].count())"
   ]
  },
  {
   "cell_type": "markdown",
   "metadata": {},
   "source": [
    "Who is the <b>highest billed</b> customer?"
   ]
  },
  {
   "cell_type": "code",
   "execution_count": 5,
   "metadata": {},
   "outputs": [
    {
     "data": {
      "text/html": [
       "<div>\n",
       "<style scoped>\n",
       "    .dataframe tbody tr th:only-of-type {\n",
       "        vertical-align: middle;\n",
       "    }\n",
       "\n",
       "    .dataframe tbody tr th {\n",
       "        vertical-align: top;\n",
       "    }\n",
       "\n",
       "    .dataframe thead th {\n",
       "        text-align: right;\n",
       "    }\n",
       "</style>\n",
       "<table border=\"1\" class=\"dataframe\">\n",
       "  <thead>\n",
       "    <tr style=\"text-align: right;\">\n",
       "      <th></th>\n",
       "      <th>CustomerID</th>\n",
       "      <th>UnitPrice</th>\n",
       "    </tr>\n",
       "  </thead>\n",
       "  <tbody>\n",
       "    <tr>\n",
       "      <th>1300</th>\n",
       "      <td>14096.0</td>\n",
       "      <td>41376.33</td>\n",
       "    </tr>\n",
       "    <tr>\n",
       "      <th>2027</th>\n",
       "      <td>15098.0</td>\n",
       "      <td>40278.90</td>\n",
       "    </tr>\n",
       "    <tr>\n",
       "      <th>1895</th>\n",
       "      <td>14911.0</td>\n",
       "      <td>31060.66</td>\n",
       "    </tr>\n",
       "    <tr>\n",
       "      <th>328</th>\n",
       "      <td>12744.0</td>\n",
       "      <td>25108.89</td>\n",
       "    </tr>\n",
       "    <tr>\n",
       "      <th>2722</th>\n",
       "      <td>16029.0</td>\n",
       "      <td>24111.14</td>\n",
       "    </tr>\n",
       "  </tbody>\n",
       "</table>\n",
       "</div>"
      ],
      "text/plain": [
       "      CustomerID  UnitPrice\n",
       "1300     14096.0   41376.33\n",
       "2027     15098.0   40278.90\n",
       "1895     14911.0   31060.66\n",
       "328      12744.0   25108.89\n",
       "2722     16029.0   24111.14"
      ]
     },
     "execution_count": 5,
     "metadata": {},
     "output_type": "execute_result"
    }
   ],
   "source": [
    "max_buy = pd.DataFrame(data.groupby(['CustomerID'])['UnitPrice'].sum().reset_index())\n",
    "max_buy = max_buy.sort_values(by='UnitPrice', ascending=False)\n",
    "max_buy.head()"
   ]
  },
  {
   "cell_type": "code",
   "execution_count": 6,
   "metadata": {},
   "outputs": [
    {
     "data": {
      "text/html": [
       "<div>\n",
       "<style scoped>\n",
       "    .dataframe tbody tr th:only-of-type {\n",
       "        vertical-align: middle;\n",
       "    }\n",
       "\n",
       "    .dataframe tbody tr th {\n",
       "        vertical-align: top;\n",
       "    }\n",
       "\n",
       "    .dataframe thead th {\n",
       "        text-align: right;\n",
       "    }\n",
       "</style>\n",
       "<table border=\"1\" class=\"dataframe\">\n",
       "  <thead>\n",
       "    <tr style=\"text-align: right;\">\n",
       "      <th></th>\n",
       "      <th>InvoiceNo</th>\n",
       "      <th>StockCode</th>\n",
       "      <th>Description</th>\n",
       "      <th>Quantity</th>\n",
       "      <th>InvoiceDate</th>\n",
       "      <th>UnitPrice</th>\n",
       "      <th>CustomerID</th>\n",
       "      <th>Country</th>\n",
       "    </tr>\n",
       "  </thead>\n",
       "  <tbody>\n",
       "    <tr>\n",
       "      <th>528082</th>\n",
       "      <td>580727</td>\n",
       "      <td>DOT</td>\n",
       "      <td>DOTCOM POSTAGE</td>\n",
       "      <td>1</td>\n",
       "      <td>12/5/2011 17:17</td>\n",
       "      <td>1599.26</td>\n",
       "      <td>14096.0</td>\n",
       "      <td>United Kingdom</td>\n",
       "    </tr>\n",
       "    <tr>\n",
       "      <th>508459</th>\n",
       "      <td>579196</td>\n",
       "      <td>DOT</td>\n",
       "      <td>DOTCOM POSTAGE</td>\n",
       "      <td>1</td>\n",
       "      <td>11/28/2011 15:54</td>\n",
       "      <td>1526.76</td>\n",
       "      <td>14096.0</td>\n",
       "      <td>United Kingdom</td>\n",
       "    </tr>\n",
       "    <tr>\n",
       "      <th>467436</th>\n",
       "      <td>576339</td>\n",
       "      <td>DOT</td>\n",
       "      <td>DOTCOM POSTAGE</td>\n",
       "      <td>1</td>\n",
       "      <td>11/14/2011 15:27</td>\n",
       "      <td>1500.36</td>\n",
       "      <td>14096.0</td>\n",
       "      <td>United Kingdom</td>\n",
       "    </tr>\n",
       "    <tr>\n",
       "      <th>494728</th>\n",
       "      <td>578270</td>\n",
       "      <td>DOT</td>\n",
       "      <td>DOTCOM POSTAGE</td>\n",
       "      <td>1</td>\n",
       "      <td>11/23/2011 13:39</td>\n",
       "      <td>1270.06</td>\n",
       "      <td>14096.0</td>\n",
       "      <td>United Kingdom</td>\n",
       "    </tr>\n",
       "    <tr>\n",
       "      <th>528087</th>\n",
       "      <td>C580726</td>\n",
       "      <td>CRUK</td>\n",
       "      <td>CRUK Commission</td>\n",
       "      <td>-1</td>\n",
       "      <td>12/5/2011 17:17</td>\n",
       "      <td>1100.44</td>\n",
       "      <td>14096.0</td>\n",
       "      <td>United Kingdom</td>\n",
       "    </tr>\n",
       "  </tbody>\n",
       "</table>\n",
       "</div>"
      ],
      "text/plain": [
       "       InvoiceNo StockCode      Description  Quantity       InvoiceDate  \\\n",
       "528082    580727       DOT   DOTCOM POSTAGE         1   12/5/2011 17:17   \n",
       "508459    579196       DOT   DOTCOM POSTAGE         1  11/28/2011 15:54   \n",
       "467436    576339       DOT   DOTCOM POSTAGE         1  11/14/2011 15:27   \n",
       "494728    578270       DOT   DOTCOM POSTAGE         1  11/23/2011 13:39   \n",
       "528087   C580726      CRUK  CRUK Commission        -1   12/5/2011 17:17   \n",
       "\n",
       "        UnitPrice  CustomerID         Country  \n",
       "528082    1599.26     14096.0  United Kingdom  \n",
       "508459    1526.76     14096.0  United Kingdom  \n",
       "467436    1500.36     14096.0  United Kingdom  \n",
       "494728    1270.06     14096.0  United Kingdom  \n",
       "528087    1100.44     14096.0  United Kingdom  "
      ]
     },
     "execution_count": 6,
     "metadata": {},
     "output_type": "execute_result"
    }
   ],
   "source": [
    "#Let us take a look at the purchases made by the highest billed customer\n",
    "highest_cust = data[data['CustomerID']==14096]\n",
    "highest_cust = highest_cust.sort_values(by='UnitPrice', ascending=False)\n",
    "highest_cust.head()"
   ]
  },
  {
   "cell_type": "markdown",
   "metadata": {},
   "source": [
    "You can observe that products whose description is `DOTCOM POSTAGE`are priced really high."
   ]
  },
  {
   "cell_type": "markdown",
   "metadata": {},
   "source": [
    "## Feature Engineering\n",
    "\n",
    "In order to perform <b>Association Rule Mining</b>, we need the data to be in a <b>user*product matrix</b> format."
   ]
  },
  {
   "cell_type": "code",
   "execution_count": 7,
   "metadata": {},
   "outputs": [
    {
     "data": {
      "text/plain": [
       "(24446, 4223)"
      ]
     },
     "execution_count": 7,
     "metadata": {},
     "output_type": "execute_result"
    }
   ],
   "source": [
    "basket = pd.pivot_table(data,index='InvoiceNo', columns='Description',values='Quantity', fill_value=0)\n",
    "basket.shape"
   ]
  },
  {
   "cell_type": "markdown",
   "metadata": {},
   "source": [
    "For us, whether an item is present in a transaction is the only thing that matters. We do not care about the <b>no.of units sold</b> in a transaction for performing Association Rule Mining."
   ]
  },
  {
   "cell_type": "code",
   "execution_count": 8,
   "metadata": {},
   "outputs": [],
   "source": [
    "#This is a function to replace natural number with 1\n",
    "def encode_units(x):\n",
    "    if x <= 0:\n",
    "        return 0\n",
    "    if x >= 1:\n",
    "        return 1\n",
    "\n",
    "basket_sets = basket.applymap(encode_units)\n",
    "basket_sets.drop('POSTAGE', inplace=True, axis=1) #dropping off the records which have been posted\n"
   ]
  },
  {
   "cell_type": "markdown",
   "metadata": {},
   "source": [
    "Let us generate <b>'Frequent Item Sets'</b> by applying the <b>Apriori algorithm</b>. We will consider only those frequent item sets that have a support value greater than 0.03."
   ]
  },
  {
   "cell_type": "code",
   "execution_count": 9,
   "metadata": {},
   "outputs": [
    {
     "data": {
      "text/html": [
       "<div>\n",
       "<style scoped>\n",
       "    .dataframe tbody tr th:only-of-type {\n",
       "        vertical-align: middle;\n",
       "    }\n",
       "\n",
       "    .dataframe tbody tr th {\n",
       "        vertical-align: top;\n",
       "    }\n",
       "\n",
       "    .dataframe thead th {\n",
       "        text-align: right;\n",
       "    }\n",
       "</style>\n",
       "<table border=\"1\" class=\"dataframe\">\n",
       "  <thead>\n",
       "    <tr style=\"text-align: right;\">\n",
       "      <th></th>\n",
       "      <th>support</th>\n",
       "      <th>itemsets</th>\n",
       "    </tr>\n",
       "  </thead>\n",
       "  <tbody>\n",
       "    <tr>\n",
       "      <th>0</th>\n",
       "      <td>0.039066</td>\n",
       "      <td>(6 RIBBONS RUSTIC CHARM)</td>\n",
       "    </tr>\n",
       "    <tr>\n",
       "      <th>1</th>\n",
       "      <td>0.033871</td>\n",
       "      <td>(60 TEATIME FAIRY CAKE CASES)</td>\n",
       "    </tr>\n",
       "    <tr>\n",
       "      <th>2</th>\n",
       "      <td>0.040088</td>\n",
       "      <td>(ALARM CLOCK BAKELIKE GREEN)</td>\n",
       "    </tr>\n",
       "    <tr>\n",
       "      <th>3</th>\n",
       "      <td>0.032030</td>\n",
       "      <td>(ALARM CLOCK BAKELIKE PINK)</td>\n",
       "    </tr>\n",
       "    <tr>\n",
       "      <th>4</th>\n",
       "      <td>0.042993</td>\n",
       "      <td>(ALARM CLOCK BAKELIKE RED )</td>\n",
       "    </tr>\n",
       "  </tbody>\n",
       "</table>\n",
       "</div>"
      ],
      "text/plain": [
       "    support                       itemsets\n",
       "0  0.039066       (6 RIBBONS RUSTIC CHARM)\n",
       "1  0.033871  (60 TEATIME FAIRY CAKE CASES)\n",
       "2  0.040088   (ALARM CLOCK BAKELIKE GREEN)\n",
       "3  0.032030    (ALARM CLOCK BAKELIKE PINK)\n",
       "4  0.042993    (ALARM CLOCK BAKELIKE RED )"
      ]
     },
     "execution_count": 9,
     "metadata": {},
     "output_type": "execute_result"
    }
   ],
   "source": [
    "frequent_itemsets = apriori(basket_sets, min_support=0.03, use_colnames=True)\n",
    "frequent_itemsets.head()"
   ]
  },
  {
   "cell_type": "markdown",
   "metadata": {},
   "source": [
    "Let us now generate the association rules from the dataset along with the <b>lift</b> and <b>confidence</b> values"
   ]
  },
  {
   "cell_type": "code",
   "execution_count": 10,
   "metadata": {},
   "outputs": [
    {
     "data": {
      "text/html": [
       "<div>\n",
       "<style scoped>\n",
       "    .dataframe tbody tr th:only-of-type {\n",
       "        vertical-align: middle;\n",
       "    }\n",
       "\n",
       "    .dataframe tbody tr th {\n",
       "        vertical-align: top;\n",
       "    }\n",
       "\n",
       "    .dataframe thead th {\n",
       "        text-align: right;\n",
       "    }\n",
       "</style>\n",
       "<table border=\"1\" class=\"dataframe\">\n",
       "  <thead>\n",
       "    <tr style=\"text-align: right;\">\n",
       "      <th></th>\n",
       "      <th>antecedents</th>\n",
       "      <th>consequents</th>\n",
       "      <th>antecedent support</th>\n",
       "      <th>consequent support</th>\n",
       "      <th>support</th>\n",
       "      <th>confidence</th>\n",
       "      <th>lift</th>\n",
       "      <th>leverage</th>\n",
       "      <th>conviction</th>\n",
       "    </tr>\n",
       "  </thead>\n",
       "  <tbody>\n",
       "    <tr>\n",
       "      <th>0</th>\n",
       "      <td>(GREEN REGENCY TEACUP AND SAUCER)</td>\n",
       "      <td>(ROSES REGENCY TEACUP AND SAUCER )</td>\n",
       "      <td>0.041520</td>\n",
       "      <td>0.043606</td>\n",
       "      <td>0.031416</td>\n",
       "      <td>0.756650</td>\n",
       "      <td>17.351850</td>\n",
       "      <td>0.029606</td>\n",
       "      <td>3.930120</td>\n",
       "    </tr>\n",
       "    <tr>\n",
       "      <th>1</th>\n",
       "      <td>(ROSES REGENCY TEACUP AND SAUCER )</td>\n",
       "      <td>(GREEN REGENCY TEACUP AND SAUCER)</td>\n",
       "      <td>0.043606</td>\n",
       "      <td>0.041520</td>\n",
       "      <td>0.031416</td>\n",
       "      <td>0.720450</td>\n",
       "      <td>17.351850</td>\n",
       "      <td>0.029606</td>\n",
       "      <td>3.428656</td>\n",
       "    </tr>\n",
       "    <tr>\n",
       "      <th>2</th>\n",
       "      <td>(JUMBO BAG PINK POLKADOT)</td>\n",
       "      <td>(JUMBO BAG RED RETROSPOT)</td>\n",
       "      <td>0.049824</td>\n",
       "      <td>0.085576</td>\n",
       "      <td>0.033748</td>\n",
       "      <td>0.677340</td>\n",
       "      <td>7.915034</td>\n",
       "      <td>0.029484</td>\n",
       "      <td>2.834015</td>\n",
       "    </tr>\n",
       "    <tr>\n",
       "      <th>3</th>\n",
       "      <td>(JUMBO BAG RED RETROSPOT)</td>\n",
       "      <td>(JUMBO BAG PINK POLKADOT)</td>\n",
       "      <td>0.085576</td>\n",
       "      <td>0.049824</td>\n",
       "      <td>0.033748</td>\n",
       "      <td>0.394359</td>\n",
       "      <td>7.915034</td>\n",
       "      <td>0.029484</td>\n",
       "      <td>1.568878</td>\n",
       "    </tr>\n",
       "  </tbody>\n",
       "</table>\n",
       "</div>"
      ],
      "text/plain": [
       "                          antecedents                         consequents  \\\n",
       "0   (GREEN REGENCY TEACUP AND SAUCER)  (ROSES REGENCY TEACUP AND SAUCER )   \n",
       "1  (ROSES REGENCY TEACUP AND SAUCER )   (GREEN REGENCY TEACUP AND SAUCER)   \n",
       "2           (JUMBO BAG PINK POLKADOT)           (JUMBO BAG RED RETROSPOT)   \n",
       "3           (JUMBO BAG RED RETROSPOT)           (JUMBO BAG PINK POLKADOT)   \n",
       "\n",
       "   antecedent support  consequent support   support  confidence       lift  \\\n",
       "0            0.041520            0.043606  0.031416    0.756650  17.351850   \n",
       "1            0.043606            0.041520  0.031416    0.720450  17.351850   \n",
       "2            0.049824            0.085576  0.033748    0.677340   7.915034   \n",
       "3            0.085576            0.049824  0.033748    0.394359   7.915034   \n",
       "\n",
       "   leverage  conviction  \n",
       "0  0.029606    3.930120  \n",
       "1  0.029606    3.428656  \n",
       "2  0.029484    2.834015  \n",
       "3  0.029484    1.568878  "
      ]
     },
     "execution_count": 10,
     "metadata": {},
     "output_type": "execute_result"
    }
   ],
   "source": [
    "rules = association_rules(frequent_itemsets, metric=\"lift\")\n",
    "rules"
   ]
  },
  {
   "cell_type": "markdown",
   "metadata": {},
   "source": [
    "We will only consider the most important rules - the ones which have <b>lift > 6</b> and <b>confidence > 0.8</b>"
   ]
  },
  {
   "cell_type": "code",
   "execution_count": 11,
   "metadata": {},
   "outputs": [
    {
     "data": {
      "text/html": [
       "<div>\n",
       "<style scoped>\n",
       "    .dataframe tbody tr th:only-of-type {\n",
       "        vertical-align: middle;\n",
       "    }\n",
       "\n",
       "    .dataframe tbody tr th {\n",
       "        vertical-align: top;\n",
       "    }\n",
       "\n",
       "    .dataframe thead th {\n",
       "        text-align: right;\n",
       "    }\n",
       "</style>\n",
       "<table border=\"1\" class=\"dataframe\">\n",
       "  <thead>\n",
       "    <tr style=\"text-align: right;\">\n",
       "      <th></th>\n",
       "      <th>antecedents</th>\n",
       "      <th>consequents</th>\n",
       "      <th>antecedent support</th>\n",
       "      <th>consequent support</th>\n",
       "      <th>support</th>\n",
       "      <th>confidence</th>\n",
       "      <th>lift</th>\n",
       "      <th>leverage</th>\n",
       "      <th>conviction</th>\n",
       "    </tr>\n",
       "  </thead>\n",
       "  <tbody>\n",
       "    <tr>\n",
       "      <th>0</th>\n",
       "      <td>(GREEN REGENCY TEACUP AND SAUCER)</td>\n",
       "      <td>(ROSES REGENCY TEACUP AND SAUCER )</td>\n",
       "      <td>0.041520</td>\n",
       "      <td>0.043606</td>\n",
       "      <td>0.031416</td>\n",
       "      <td>0.75665</td>\n",
       "      <td>17.351850</td>\n",
       "      <td>0.029606</td>\n",
       "      <td>3.930120</td>\n",
       "    </tr>\n",
       "    <tr>\n",
       "      <th>1</th>\n",
       "      <td>(ROSES REGENCY TEACUP AND SAUCER )</td>\n",
       "      <td>(GREEN REGENCY TEACUP AND SAUCER)</td>\n",
       "      <td>0.043606</td>\n",
       "      <td>0.041520</td>\n",
       "      <td>0.031416</td>\n",
       "      <td>0.72045</td>\n",
       "      <td>17.351850</td>\n",
       "      <td>0.029606</td>\n",
       "      <td>3.428656</td>\n",
       "    </tr>\n",
       "    <tr>\n",
       "      <th>2</th>\n",
       "      <td>(JUMBO BAG PINK POLKADOT)</td>\n",
       "      <td>(JUMBO BAG RED RETROSPOT)</td>\n",
       "      <td>0.049824</td>\n",
       "      <td>0.085576</td>\n",
       "      <td>0.033748</td>\n",
       "      <td>0.67734</td>\n",
       "      <td>7.915034</td>\n",
       "      <td>0.029484</td>\n",
       "      <td>2.834015</td>\n",
       "    </tr>\n",
       "  </tbody>\n",
       "</table>\n",
       "</div>"
      ],
      "text/plain": [
       "                          antecedents                         consequents  \\\n",
       "0   (GREEN REGENCY TEACUP AND SAUCER)  (ROSES REGENCY TEACUP AND SAUCER )   \n",
       "1  (ROSES REGENCY TEACUP AND SAUCER )   (GREEN REGENCY TEACUP AND SAUCER)   \n",
       "2           (JUMBO BAG PINK POLKADOT)           (JUMBO BAG RED RETROSPOT)   \n",
       "\n",
       "   antecedent support  consequent support   support  confidence       lift  \\\n",
       "0            0.041520            0.043606  0.031416     0.75665  17.351850   \n",
       "1            0.043606            0.041520  0.031416     0.72045  17.351850   \n",
       "2            0.049824            0.085576  0.033748     0.67734   7.915034   \n",
       "\n",
       "   leverage  conviction  \n",
       "0  0.029606    3.930120  \n",
       "1  0.029606    3.428656  \n",
       "2  0.029484    2.834015  "
      ]
     },
     "execution_count": 11,
     "metadata": {},
     "output_type": "execute_result"
    }
   ],
   "source": [
    "rules[ (rules['lift'] >= 6) &\n",
    "       (rules['confidence'] >= 0.6) ]"
   ]
  },
  {
   "cell_type": "markdown",
   "metadata": {},
   "source": [
    "From the above analysis, you can conclude that <b>Green Regency Teacup and Saucer</b> and <b>Roses Regency Teacup and Saucer</b> have been mostly bought together by customers. Also, you can show <b>Jumbo Bag red retrospot</b> as a possible product recommendation for customers who buy <b>Jumbo Bag Pink Polkadot.</b> \n",
    "\n",
    "This is the power of <b>Apriori Algorithm </b>- it helps you in discovering purchasing relationships by analysing your market basket data."
   ]
  },
  {
   "cell_type": "markdown",
   "metadata": {},
   "source": [
    "# Time Series Analysis\n",
    "\n",
    "Retailer was fascinated by the Market Basket Analysis and decided to further analyze the transaction data by performing <b>Time Series Analysis</b>. The goal is to understand how the store's <b>revenue</b> is changing with time."
   ]
  },
  {
   "cell_type": "markdown",
   "metadata": {},
   "source": [
    "## Data Preparation\n",
    "\n",
    "We need to convert the `InvoiceDate` column to a <b>datetime</b> column."
   ]
  },
  {
   "cell_type": "code",
   "execution_count": 12,
   "metadata": {},
   "outputs": [
    {
     "data": {
      "text/plain": [
       "0    12/1/2010 8:26\n",
       "1    12/1/2010 8:26\n",
       "2    12/1/2010 8:26\n",
       "3    12/1/2010 8:26\n",
       "4    12/1/2010 8:26\n",
       "Name: InvoiceDate, dtype: object"
      ]
     },
     "execution_count": 12,
     "metadata": {},
     "output_type": "execute_result"
    }
   ],
   "source": [
    "data.InvoiceDate.head()"
   ]
  },
  {
   "cell_type": "code",
   "execution_count": 13,
   "metadata": {},
   "outputs": [],
   "source": [
    "#Convert to datetime format\n",
    "data['Invoice_Date']=pd.to_datetime(data['InvoiceDate'])"
   ]
  },
  {
   "cell_type": "code",
   "execution_count": 14,
   "metadata": {},
   "outputs": [
    {
     "data": {
      "text/plain": [
       "0   2010-12-01 08:26:00\n",
       "1   2010-12-01 08:26:00\n",
       "2   2010-12-01 08:26:00\n",
       "3   2010-12-01 08:26:00\n",
       "4   2010-12-01 08:26:00\n",
       "Name: Invoice_Date, dtype: datetime64[ns]"
      ]
     },
     "execution_count": 14,
     "metadata": {},
     "output_type": "execute_result"
    }
   ],
   "source": [
    "data['Invoice_Date'].head()"
   ]
  },
  {
   "cell_type": "markdown",
   "metadata": {},
   "source": [
    "We will also extract the <b>week</b> and <b>year</b> details from the `Invoice_Date` column."
   ]
  },
  {
   "cell_type": "code",
   "execution_count": 15,
   "metadata": {},
   "outputs": [],
   "source": [
    "data['week_year']=data['Invoice_Date'].dt.week"
   ]
  },
  {
   "cell_type": "code",
   "execution_count": 16,
   "metadata": {},
   "outputs": [],
   "source": [
    "data['Year'] = data['Invoice_Date'].dt.year"
   ]
  },
  {
   "cell_type": "code",
   "execution_count": 17,
   "metadata": {},
   "outputs": [
    {
     "data": {
      "text/html": [
       "<div>\n",
       "<style scoped>\n",
       "    .dataframe tbody tr th:only-of-type {\n",
       "        vertical-align: middle;\n",
       "    }\n",
       "\n",
       "    .dataframe tbody tr th {\n",
       "        vertical-align: top;\n",
       "    }\n",
       "\n",
       "    .dataframe thead th {\n",
       "        text-align: right;\n",
       "    }\n",
       "</style>\n",
       "<table border=\"1\" class=\"dataframe\">\n",
       "  <thead>\n",
       "    <tr style=\"text-align: right;\">\n",
       "      <th></th>\n",
       "      <th>InvoiceNo</th>\n",
       "      <th>StockCode</th>\n",
       "      <th>Description</th>\n",
       "      <th>Quantity</th>\n",
       "      <th>InvoiceDate</th>\n",
       "      <th>UnitPrice</th>\n",
       "      <th>CustomerID</th>\n",
       "      <th>Country</th>\n",
       "      <th>Invoice_Date</th>\n",
       "      <th>week_year</th>\n",
       "      <th>Year</th>\n",
       "    </tr>\n",
       "  </thead>\n",
       "  <tbody>\n",
       "    <tr>\n",
       "      <th>0</th>\n",
       "      <td>536365</td>\n",
       "      <td>85123A</td>\n",
       "      <td>WHITE HANGING HEART T-LIGHT HOLDER</td>\n",
       "      <td>6</td>\n",
       "      <td>12/1/2010 8:26</td>\n",
       "      <td>2.55</td>\n",
       "      <td>17850.0</td>\n",
       "      <td>United Kingdom</td>\n",
       "      <td>2010-12-01 08:26:00</td>\n",
       "      <td>48</td>\n",
       "      <td>2010</td>\n",
       "    </tr>\n",
       "    <tr>\n",
       "      <th>1</th>\n",
       "      <td>536365</td>\n",
       "      <td>71053</td>\n",
       "      <td>WHITE METAL LANTERN</td>\n",
       "      <td>6</td>\n",
       "      <td>12/1/2010 8:26</td>\n",
       "      <td>3.39</td>\n",
       "      <td>17850.0</td>\n",
       "      <td>United Kingdom</td>\n",
       "      <td>2010-12-01 08:26:00</td>\n",
       "      <td>48</td>\n",
       "      <td>2010</td>\n",
       "    </tr>\n",
       "    <tr>\n",
       "      <th>2</th>\n",
       "      <td>536365</td>\n",
       "      <td>84406B</td>\n",
       "      <td>CREAM CUPID HEARTS COAT HANGER</td>\n",
       "      <td>8</td>\n",
       "      <td>12/1/2010 8:26</td>\n",
       "      <td>2.75</td>\n",
       "      <td>17850.0</td>\n",
       "      <td>United Kingdom</td>\n",
       "      <td>2010-12-01 08:26:00</td>\n",
       "      <td>48</td>\n",
       "      <td>2010</td>\n",
       "    </tr>\n",
       "    <tr>\n",
       "      <th>3</th>\n",
       "      <td>536365</td>\n",
       "      <td>84029G</td>\n",
       "      <td>KNITTED UNION FLAG HOT WATER BOTTLE</td>\n",
       "      <td>6</td>\n",
       "      <td>12/1/2010 8:26</td>\n",
       "      <td>3.39</td>\n",
       "      <td>17850.0</td>\n",
       "      <td>United Kingdom</td>\n",
       "      <td>2010-12-01 08:26:00</td>\n",
       "      <td>48</td>\n",
       "      <td>2010</td>\n",
       "    </tr>\n",
       "    <tr>\n",
       "      <th>4</th>\n",
       "      <td>536365</td>\n",
       "      <td>84029E</td>\n",
       "      <td>RED WOOLLY HOTTIE WHITE HEART.</td>\n",
       "      <td>6</td>\n",
       "      <td>12/1/2010 8:26</td>\n",
       "      <td>3.39</td>\n",
       "      <td>17850.0</td>\n",
       "      <td>United Kingdom</td>\n",
       "      <td>2010-12-01 08:26:00</td>\n",
       "      <td>48</td>\n",
       "      <td>2010</td>\n",
       "    </tr>\n",
       "  </tbody>\n",
       "</table>\n",
       "</div>"
      ],
      "text/plain": [
       "  InvoiceNo StockCode                          Description  Quantity  \\\n",
       "0    536365    85123A   WHITE HANGING HEART T-LIGHT HOLDER         6   \n",
       "1    536365     71053                  WHITE METAL LANTERN         6   \n",
       "2    536365    84406B       CREAM CUPID HEARTS COAT HANGER         8   \n",
       "3    536365    84029G  KNITTED UNION FLAG HOT WATER BOTTLE         6   \n",
       "4    536365    84029E       RED WOOLLY HOTTIE WHITE HEART.         6   \n",
       "\n",
       "      InvoiceDate  UnitPrice  CustomerID         Country        Invoice_Date  \\\n",
       "0  12/1/2010 8:26       2.55     17850.0  United Kingdom 2010-12-01 08:26:00   \n",
       "1  12/1/2010 8:26       3.39     17850.0  United Kingdom 2010-12-01 08:26:00   \n",
       "2  12/1/2010 8:26       2.75     17850.0  United Kingdom 2010-12-01 08:26:00   \n",
       "3  12/1/2010 8:26       3.39     17850.0  United Kingdom 2010-12-01 08:26:00   \n",
       "4  12/1/2010 8:26       3.39     17850.0  United Kingdom 2010-12-01 08:26:00   \n",
       "\n",
       "   week_year  Year  \n",
       "0         48  2010  \n",
       "1         48  2010  \n",
       "2         48  2010  \n",
       "3         48  2010  \n",
       "4         48  2010  "
      ]
     },
     "execution_count": 17,
     "metadata": {},
     "output_type": "execute_result"
    }
   ],
   "source": [
    "data.head()"
   ]
  },
  {
   "cell_type": "code",
   "execution_count": 18,
   "metadata": {},
   "outputs": [
    {
     "data": {
      "text/html": [
       "<div>\n",
       "<style scoped>\n",
       "    .dataframe tbody tr th:only-of-type {\n",
       "        vertical-align: middle;\n",
       "    }\n",
       "\n",
       "    .dataframe tbody tr th {\n",
       "        vertical-align: top;\n",
       "    }\n",
       "\n",
       "    .dataframe thead th {\n",
       "        text-align: right;\n",
       "    }\n",
       "</style>\n",
       "<table border=\"1\" class=\"dataframe\">\n",
       "  <thead>\n",
       "    <tr style=\"text-align: right;\">\n",
       "      <th></th>\n",
       "      <th>InvoiceNo</th>\n",
       "      <th>StockCode</th>\n",
       "      <th>Description</th>\n",
       "      <th>Quantity</th>\n",
       "      <th>InvoiceDate</th>\n",
       "      <th>UnitPrice</th>\n",
       "      <th>CustomerID</th>\n",
       "      <th>Country</th>\n",
       "      <th>Invoice_Date</th>\n",
       "      <th>week_year</th>\n",
       "      <th>Year</th>\n",
       "    </tr>\n",
       "  </thead>\n",
       "  <tbody>\n",
       "    <tr>\n",
       "      <th>541904</th>\n",
       "      <td>581587</td>\n",
       "      <td>22613</td>\n",
       "      <td>PACK OF 20 SPACEBOY NAPKINS</td>\n",
       "      <td>12</td>\n",
       "      <td>12/9/2011 12:50</td>\n",
       "      <td>0.85</td>\n",
       "      <td>12680.0</td>\n",
       "      <td>France</td>\n",
       "      <td>2011-12-09 12:50:00</td>\n",
       "      <td>49</td>\n",
       "      <td>2011</td>\n",
       "    </tr>\n",
       "    <tr>\n",
       "      <th>541905</th>\n",
       "      <td>581587</td>\n",
       "      <td>22899</td>\n",
       "      <td>CHILDREN'S APRON DOLLY GIRL</td>\n",
       "      <td>6</td>\n",
       "      <td>12/9/2011 12:50</td>\n",
       "      <td>2.10</td>\n",
       "      <td>12680.0</td>\n",
       "      <td>France</td>\n",
       "      <td>2011-12-09 12:50:00</td>\n",
       "      <td>49</td>\n",
       "      <td>2011</td>\n",
       "    </tr>\n",
       "    <tr>\n",
       "      <th>541906</th>\n",
       "      <td>581587</td>\n",
       "      <td>23254</td>\n",
       "      <td>CHILDRENS CUTLERY DOLLY GIRL</td>\n",
       "      <td>4</td>\n",
       "      <td>12/9/2011 12:50</td>\n",
       "      <td>4.15</td>\n",
       "      <td>12680.0</td>\n",
       "      <td>France</td>\n",
       "      <td>2011-12-09 12:50:00</td>\n",
       "      <td>49</td>\n",
       "      <td>2011</td>\n",
       "    </tr>\n",
       "    <tr>\n",
       "      <th>541907</th>\n",
       "      <td>581587</td>\n",
       "      <td>23255</td>\n",
       "      <td>CHILDRENS CUTLERY CIRCUS PARADE</td>\n",
       "      <td>4</td>\n",
       "      <td>12/9/2011 12:50</td>\n",
       "      <td>4.15</td>\n",
       "      <td>12680.0</td>\n",
       "      <td>France</td>\n",
       "      <td>2011-12-09 12:50:00</td>\n",
       "      <td>49</td>\n",
       "      <td>2011</td>\n",
       "    </tr>\n",
       "    <tr>\n",
       "      <th>541908</th>\n",
       "      <td>581587</td>\n",
       "      <td>22138</td>\n",
       "      <td>BAKING SET 9 PIECE RETROSPOT</td>\n",
       "      <td>3</td>\n",
       "      <td>12/9/2011 12:50</td>\n",
       "      <td>4.95</td>\n",
       "      <td>12680.0</td>\n",
       "      <td>France</td>\n",
       "      <td>2011-12-09 12:50:00</td>\n",
       "      <td>49</td>\n",
       "      <td>2011</td>\n",
       "    </tr>\n",
       "  </tbody>\n",
       "</table>\n",
       "</div>"
      ],
      "text/plain": [
       "       InvoiceNo StockCode                      Description  Quantity  \\\n",
       "541904    581587     22613      PACK OF 20 SPACEBOY NAPKINS        12   \n",
       "541905    581587     22899     CHILDREN'S APRON DOLLY GIRL          6   \n",
       "541906    581587     23254    CHILDRENS CUTLERY DOLLY GIRL          4   \n",
       "541907    581587     23255  CHILDRENS CUTLERY CIRCUS PARADE         4   \n",
       "541908    581587     22138    BAKING SET 9 PIECE RETROSPOT          3   \n",
       "\n",
       "            InvoiceDate  UnitPrice  CustomerID Country        Invoice_Date  \\\n",
       "541904  12/9/2011 12:50       0.85     12680.0  France 2011-12-09 12:50:00   \n",
       "541905  12/9/2011 12:50       2.10     12680.0  France 2011-12-09 12:50:00   \n",
       "541906  12/9/2011 12:50       4.15     12680.0  France 2011-12-09 12:50:00   \n",
       "541907  12/9/2011 12:50       4.15     12680.0  France 2011-12-09 12:50:00   \n",
       "541908  12/9/2011 12:50       4.95     12680.0  France 2011-12-09 12:50:00   \n",
       "\n",
       "        week_year  Year  \n",
       "541904         49  2011  \n",
       "541905         49  2011  \n",
       "541906         49  2011  \n",
       "541907         49  2011  \n",
       "541908         49  2011  "
      ]
     },
     "execution_count": 18,
     "metadata": {},
     "output_type": "execute_result"
    }
   ],
   "source": [
    "data.tail()"
   ]
  },
  {
   "cell_type": "code",
   "execution_count": 19,
   "metadata": {},
   "outputs": [
    {
     "data": {
      "text/plain": [
       "array([ 1,  2,  3,  4,  5,  6,  7,  8,  9, 10, 11, 12, 13, 14, 15, 16, 17,\n",
       "       18, 19, 20, 21, 22, 23, 24, 25, 26, 27, 28, 29, 30, 31, 32, 33, 34,\n",
       "       35, 36, 37, 38, 39, 40, 41, 42, 43, 44, 45, 46, 47, 48, 49, 50, 51],\n",
       "      dtype=int64)"
      ]
     },
     "execution_count": 19,
     "metadata": {},
     "output_type": "execute_result"
    }
   ],
   "source": [
    "np.sort(data['week_year'].unique())"
   ]
  },
  {
   "cell_type": "markdown",
   "metadata": {},
   "source": [
    "If you notice, as the data is spread across two separate years, we need to maintain the <b>sequence</b> of week numbers."
   ]
  },
  {
   "cell_type": "code",
   "execution_count": 20,
   "metadata": {},
   "outputs": [],
   "source": [
    "data = data[((data.Year == 2011) & (data.week_year <= 26)) | ((data.Year ==2010) & (data.week_year >= 28))]"
   ]
  },
  {
   "cell_type": "code",
   "execution_count": 21,
   "metadata": {},
   "outputs": [],
   "source": [
    "import operator\n",
    "#Keeping the trend of the weeks in the data and hence adding 53 to the weeks of 2016. week_year is just an index\n",
    "data['week_year']=np.where((operator.and_(data['week_year']<=26, data['Year']==2011)),data['week_year']+53,data['week_year'])"
   ]
  },
  {
   "cell_type": "code",
   "execution_count": 22,
   "metadata": {},
   "outputs": [
    {
     "data": {
      "text/html": [
       "<div>\n",
       "<style scoped>\n",
       "    .dataframe tbody tr th:only-of-type {\n",
       "        vertical-align: middle;\n",
       "    }\n",
       "\n",
       "    .dataframe tbody tr th {\n",
       "        vertical-align: top;\n",
       "    }\n",
       "\n",
       "    .dataframe thead th {\n",
       "        text-align: right;\n",
       "    }\n",
       "</style>\n",
       "<table border=\"1\" class=\"dataframe\">\n",
       "  <thead>\n",
       "    <tr style=\"text-align: right;\">\n",
       "      <th></th>\n",
       "      <th>InvoiceNo</th>\n",
       "      <th>StockCode</th>\n",
       "      <th>Description</th>\n",
       "      <th>Quantity</th>\n",
       "      <th>InvoiceDate</th>\n",
       "      <th>UnitPrice</th>\n",
       "      <th>CustomerID</th>\n",
       "      <th>Country</th>\n",
       "      <th>Invoice_Date</th>\n",
       "      <th>week_year</th>\n",
       "      <th>Year</th>\n",
       "    </tr>\n",
       "  </thead>\n",
       "  <tbody>\n",
       "    <tr>\n",
       "      <th>0</th>\n",
       "      <td>536365</td>\n",
       "      <td>85123A</td>\n",
       "      <td>WHITE HANGING HEART T-LIGHT HOLDER</td>\n",
       "      <td>6</td>\n",
       "      <td>12/1/2010 8:26</td>\n",
       "      <td>2.55</td>\n",
       "      <td>17850.0</td>\n",
       "      <td>United Kingdom</td>\n",
       "      <td>2010-12-01 08:26:00</td>\n",
       "      <td>48</td>\n",
       "      <td>2010</td>\n",
       "    </tr>\n",
       "    <tr>\n",
       "      <th>1</th>\n",
       "      <td>536365</td>\n",
       "      <td>71053</td>\n",
       "      <td>WHITE METAL LANTERN</td>\n",
       "      <td>6</td>\n",
       "      <td>12/1/2010 8:26</td>\n",
       "      <td>3.39</td>\n",
       "      <td>17850.0</td>\n",
       "      <td>United Kingdom</td>\n",
       "      <td>2010-12-01 08:26:00</td>\n",
       "      <td>48</td>\n",
       "      <td>2010</td>\n",
       "    </tr>\n",
       "    <tr>\n",
       "      <th>2</th>\n",
       "      <td>536365</td>\n",
       "      <td>84406B</td>\n",
       "      <td>CREAM CUPID HEARTS COAT HANGER</td>\n",
       "      <td>8</td>\n",
       "      <td>12/1/2010 8:26</td>\n",
       "      <td>2.75</td>\n",
       "      <td>17850.0</td>\n",
       "      <td>United Kingdom</td>\n",
       "      <td>2010-12-01 08:26:00</td>\n",
       "      <td>48</td>\n",
       "      <td>2010</td>\n",
       "    </tr>\n",
       "    <tr>\n",
       "      <th>3</th>\n",
       "      <td>536365</td>\n",
       "      <td>84029G</td>\n",
       "      <td>KNITTED UNION FLAG HOT WATER BOTTLE</td>\n",
       "      <td>6</td>\n",
       "      <td>12/1/2010 8:26</td>\n",
       "      <td>3.39</td>\n",
       "      <td>17850.0</td>\n",
       "      <td>United Kingdom</td>\n",
       "      <td>2010-12-01 08:26:00</td>\n",
       "      <td>48</td>\n",
       "      <td>2010</td>\n",
       "    </tr>\n",
       "    <tr>\n",
       "      <th>4</th>\n",
       "      <td>536365</td>\n",
       "      <td>84029E</td>\n",
       "      <td>RED WOOLLY HOTTIE WHITE HEART.</td>\n",
       "      <td>6</td>\n",
       "      <td>12/1/2010 8:26</td>\n",
       "      <td>3.39</td>\n",
       "      <td>17850.0</td>\n",
       "      <td>United Kingdom</td>\n",
       "      <td>2010-12-01 08:26:00</td>\n",
       "      <td>48</td>\n",
       "      <td>2010</td>\n",
       "    </tr>\n",
       "    <tr>\n",
       "      <th>5</th>\n",
       "      <td>536365</td>\n",
       "      <td>22752</td>\n",
       "      <td>SET 7 BABUSHKA NESTING BOXES</td>\n",
       "      <td>2</td>\n",
       "      <td>12/1/2010 8:26</td>\n",
       "      <td>7.65</td>\n",
       "      <td>17850.0</td>\n",
       "      <td>United Kingdom</td>\n",
       "      <td>2010-12-01 08:26:00</td>\n",
       "      <td>48</td>\n",
       "      <td>2010</td>\n",
       "    </tr>\n",
       "    <tr>\n",
       "      <th>6</th>\n",
       "      <td>536365</td>\n",
       "      <td>21730</td>\n",
       "      <td>GLASS STAR FROSTED T-LIGHT HOLDER</td>\n",
       "      <td>6</td>\n",
       "      <td>12/1/2010 8:26</td>\n",
       "      <td>4.25</td>\n",
       "      <td>17850.0</td>\n",
       "      <td>United Kingdom</td>\n",
       "      <td>2010-12-01 08:26:00</td>\n",
       "      <td>48</td>\n",
       "      <td>2010</td>\n",
       "    </tr>\n",
       "    <tr>\n",
       "      <th>7</th>\n",
       "      <td>536366</td>\n",
       "      <td>22633</td>\n",
       "      <td>HAND WARMER UNION JACK</td>\n",
       "      <td>6</td>\n",
       "      <td>12/1/2010 8:28</td>\n",
       "      <td>1.85</td>\n",
       "      <td>17850.0</td>\n",
       "      <td>United Kingdom</td>\n",
       "      <td>2010-12-01 08:28:00</td>\n",
       "      <td>48</td>\n",
       "      <td>2010</td>\n",
       "    </tr>\n",
       "    <tr>\n",
       "      <th>8</th>\n",
       "      <td>536366</td>\n",
       "      <td>22632</td>\n",
       "      <td>HAND WARMER RED POLKA DOT</td>\n",
       "      <td>6</td>\n",
       "      <td>12/1/2010 8:28</td>\n",
       "      <td>1.85</td>\n",
       "      <td>17850.0</td>\n",
       "      <td>United Kingdom</td>\n",
       "      <td>2010-12-01 08:28:00</td>\n",
       "      <td>48</td>\n",
       "      <td>2010</td>\n",
       "    </tr>\n",
       "    <tr>\n",
       "      <th>9</th>\n",
       "      <td>536367</td>\n",
       "      <td>84879</td>\n",
       "      <td>ASSORTED COLOUR BIRD ORNAMENT</td>\n",
       "      <td>32</td>\n",
       "      <td>12/1/2010 8:34</td>\n",
       "      <td>1.69</td>\n",
       "      <td>13047.0</td>\n",
       "      <td>United Kingdom</td>\n",
       "      <td>2010-12-01 08:34:00</td>\n",
       "      <td>48</td>\n",
       "      <td>2010</td>\n",
       "    </tr>\n",
       "    <tr>\n",
       "      <th>10</th>\n",
       "      <td>536367</td>\n",
       "      <td>22745</td>\n",
       "      <td>POPPY'S PLAYHOUSE BEDROOM</td>\n",
       "      <td>6</td>\n",
       "      <td>12/1/2010 8:34</td>\n",
       "      <td>2.10</td>\n",
       "      <td>13047.0</td>\n",
       "      <td>United Kingdom</td>\n",
       "      <td>2010-12-01 08:34:00</td>\n",
       "      <td>48</td>\n",
       "      <td>2010</td>\n",
       "    </tr>\n",
       "    <tr>\n",
       "      <th>11</th>\n",
       "      <td>536367</td>\n",
       "      <td>22748</td>\n",
       "      <td>POPPY'S PLAYHOUSE KITCHEN</td>\n",
       "      <td>6</td>\n",
       "      <td>12/1/2010 8:34</td>\n",
       "      <td>2.10</td>\n",
       "      <td>13047.0</td>\n",
       "      <td>United Kingdom</td>\n",
       "      <td>2010-12-01 08:34:00</td>\n",
       "      <td>48</td>\n",
       "      <td>2010</td>\n",
       "    </tr>\n",
       "    <tr>\n",
       "      <th>12</th>\n",
       "      <td>536367</td>\n",
       "      <td>22749</td>\n",
       "      <td>FELTCRAFT PRINCESS CHARLOTTE DOLL</td>\n",
       "      <td>8</td>\n",
       "      <td>12/1/2010 8:34</td>\n",
       "      <td>3.75</td>\n",
       "      <td>13047.0</td>\n",
       "      <td>United Kingdom</td>\n",
       "      <td>2010-12-01 08:34:00</td>\n",
       "      <td>48</td>\n",
       "      <td>2010</td>\n",
       "    </tr>\n",
       "    <tr>\n",
       "      <th>13</th>\n",
       "      <td>536367</td>\n",
       "      <td>22310</td>\n",
       "      <td>IVORY KNITTED MUG COSY</td>\n",
       "      <td>6</td>\n",
       "      <td>12/1/2010 8:34</td>\n",
       "      <td>1.65</td>\n",
       "      <td>13047.0</td>\n",
       "      <td>United Kingdom</td>\n",
       "      <td>2010-12-01 08:34:00</td>\n",
       "      <td>48</td>\n",
       "      <td>2010</td>\n",
       "    </tr>\n",
       "    <tr>\n",
       "      <th>14</th>\n",
       "      <td>536367</td>\n",
       "      <td>84969</td>\n",
       "      <td>BOX OF 6 ASSORTED COLOUR TEASPOONS</td>\n",
       "      <td>6</td>\n",
       "      <td>12/1/2010 8:34</td>\n",
       "      <td>4.25</td>\n",
       "      <td>13047.0</td>\n",
       "      <td>United Kingdom</td>\n",
       "      <td>2010-12-01 08:34:00</td>\n",
       "      <td>48</td>\n",
       "      <td>2010</td>\n",
       "    </tr>\n",
       "    <tr>\n",
       "      <th>15</th>\n",
       "      <td>536367</td>\n",
       "      <td>22623</td>\n",
       "      <td>BOX OF VINTAGE JIGSAW BLOCKS</td>\n",
       "      <td>3</td>\n",
       "      <td>12/1/2010 8:34</td>\n",
       "      <td>4.95</td>\n",
       "      <td>13047.0</td>\n",
       "      <td>United Kingdom</td>\n",
       "      <td>2010-12-01 08:34:00</td>\n",
       "      <td>48</td>\n",
       "      <td>2010</td>\n",
       "    </tr>\n",
       "    <tr>\n",
       "      <th>16</th>\n",
       "      <td>536367</td>\n",
       "      <td>22622</td>\n",
       "      <td>BOX OF VINTAGE ALPHABET BLOCKS</td>\n",
       "      <td>2</td>\n",
       "      <td>12/1/2010 8:34</td>\n",
       "      <td>9.95</td>\n",
       "      <td>13047.0</td>\n",
       "      <td>United Kingdom</td>\n",
       "      <td>2010-12-01 08:34:00</td>\n",
       "      <td>48</td>\n",
       "      <td>2010</td>\n",
       "    </tr>\n",
       "    <tr>\n",
       "      <th>17</th>\n",
       "      <td>536367</td>\n",
       "      <td>21754</td>\n",
       "      <td>HOME BUILDING BLOCK WORD</td>\n",
       "      <td>3</td>\n",
       "      <td>12/1/2010 8:34</td>\n",
       "      <td>5.95</td>\n",
       "      <td>13047.0</td>\n",
       "      <td>United Kingdom</td>\n",
       "      <td>2010-12-01 08:34:00</td>\n",
       "      <td>48</td>\n",
       "      <td>2010</td>\n",
       "    </tr>\n",
       "    <tr>\n",
       "      <th>18</th>\n",
       "      <td>536367</td>\n",
       "      <td>21755</td>\n",
       "      <td>LOVE BUILDING BLOCK WORD</td>\n",
       "      <td>3</td>\n",
       "      <td>12/1/2010 8:34</td>\n",
       "      <td>5.95</td>\n",
       "      <td>13047.0</td>\n",
       "      <td>United Kingdom</td>\n",
       "      <td>2010-12-01 08:34:00</td>\n",
       "      <td>48</td>\n",
       "      <td>2010</td>\n",
       "    </tr>\n",
       "    <tr>\n",
       "      <th>19</th>\n",
       "      <td>536367</td>\n",
       "      <td>21777</td>\n",
       "      <td>RECIPE BOX WITH METAL HEART</td>\n",
       "      <td>4</td>\n",
       "      <td>12/1/2010 8:34</td>\n",
       "      <td>7.95</td>\n",
       "      <td>13047.0</td>\n",
       "      <td>United Kingdom</td>\n",
       "      <td>2010-12-01 08:34:00</td>\n",
       "      <td>48</td>\n",
       "      <td>2010</td>\n",
       "    </tr>\n",
       "    <tr>\n",
       "      <th>20</th>\n",
       "      <td>536367</td>\n",
       "      <td>48187</td>\n",
       "      <td>DOORMAT NEW ENGLAND</td>\n",
       "      <td>4</td>\n",
       "      <td>12/1/2010 8:34</td>\n",
       "      <td>7.95</td>\n",
       "      <td>13047.0</td>\n",
       "      <td>United Kingdom</td>\n",
       "      <td>2010-12-01 08:34:00</td>\n",
       "      <td>48</td>\n",
       "      <td>2010</td>\n",
       "    </tr>\n",
       "    <tr>\n",
       "      <th>21</th>\n",
       "      <td>536368</td>\n",
       "      <td>22960</td>\n",
       "      <td>JAM MAKING SET WITH JARS</td>\n",
       "      <td>6</td>\n",
       "      <td>12/1/2010 8:34</td>\n",
       "      <td>4.25</td>\n",
       "      <td>13047.0</td>\n",
       "      <td>United Kingdom</td>\n",
       "      <td>2010-12-01 08:34:00</td>\n",
       "      <td>48</td>\n",
       "      <td>2010</td>\n",
       "    </tr>\n",
       "    <tr>\n",
       "      <th>22</th>\n",
       "      <td>536368</td>\n",
       "      <td>22913</td>\n",
       "      <td>RED COAT RACK PARIS FASHION</td>\n",
       "      <td>3</td>\n",
       "      <td>12/1/2010 8:34</td>\n",
       "      <td>4.95</td>\n",
       "      <td>13047.0</td>\n",
       "      <td>United Kingdom</td>\n",
       "      <td>2010-12-01 08:34:00</td>\n",
       "      <td>48</td>\n",
       "      <td>2010</td>\n",
       "    </tr>\n",
       "    <tr>\n",
       "      <th>23</th>\n",
       "      <td>536368</td>\n",
       "      <td>22912</td>\n",
       "      <td>YELLOW COAT RACK PARIS FASHION</td>\n",
       "      <td>3</td>\n",
       "      <td>12/1/2010 8:34</td>\n",
       "      <td>4.95</td>\n",
       "      <td>13047.0</td>\n",
       "      <td>United Kingdom</td>\n",
       "      <td>2010-12-01 08:34:00</td>\n",
       "      <td>48</td>\n",
       "      <td>2010</td>\n",
       "    </tr>\n",
       "    <tr>\n",
       "      <th>24</th>\n",
       "      <td>536368</td>\n",
       "      <td>22914</td>\n",
       "      <td>BLUE COAT RACK PARIS FASHION</td>\n",
       "      <td>3</td>\n",
       "      <td>12/1/2010 8:34</td>\n",
       "      <td>4.95</td>\n",
       "      <td>13047.0</td>\n",
       "      <td>United Kingdom</td>\n",
       "      <td>2010-12-01 08:34:00</td>\n",
       "      <td>48</td>\n",
       "      <td>2010</td>\n",
       "    </tr>\n",
       "    <tr>\n",
       "      <th>25</th>\n",
       "      <td>536369</td>\n",
       "      <td>21756</td>\n",
       "      <td>BATH BUILDING BLOCK WORD</td>\n",
       "      <td>3</td>\n",
       "      <td>12/1/2010 8:35</td>\n",
       "      <td>5.95</td>\n",
       "      <td>13047.0</td>\n",
       "      <td>United Kingdom</td>\n",
       "      <td>2010-12-01 08:35:00</td>\n",
       "      <td>48</td>\n",
       "      <td>2010</td>\n",
       "    </tr>\n",
       "    <tr>\n",
       "      <th>26</th>\n",
       "      <td>536370</td>\n",
       "      <td>22728</td>\n",
       "      <td>ALARM CLOCK BAKELIKE PINK</td>\n",
       "      <td>24</td>\n",
       "      <td>12/1/2010 8:45</td>\n",
       "      <td>3.75</td>\n",
       "      <td>12583.0</td>\n",
       "      <td>France</td>\n",
       "      <td>2010-12-01 08:45:00</td>\n",
       "      <td>48</td>\n",
       "      <td>2010</td>\n",
       "    </tr>\n",
       "    <tr>\n",
       "      <th>27</th>\n",
       "      <td>536370</td>\n",
       "      <td>22727</td>\n",
       "      <td>ALARM CLOCK BAKELIKE RED</td>\n",
       "      <td>24</td>\n",
       "      <td>12/1/2010 8:45</td>\n",
       "      <td>3.75</td>\n",
       "      <td>12583.0</td>\n",
       "      <td>France</td>\n",
       "      <td>2010-12-01 08:45:00</td>\n",
       "      <td>48</td>\n",
       "      <td>2010</td>\n",
       "    </tr>\n",
       "    <tr>\n",
       "      <th>28</th>\n",
       "      <td>536370</td>\n",
       "      <td>22726</td>\n",
       "      <td>ALARM CLOCK BAKELIKE GREEN</td>\n",
       "      <td>12</td>\n",
       "      <td>12/1/2010 8:45</td>\n",
       "      <td>3.75</td>\n",
       "      <td>12583.0</td>\n",
       "      <td>France</td>\n",
       "      <td>2010-12-01 08:45:00</td>\n",
       "      <td>48</td>\n",
       "      <td>2010</td>\n",
       "    </tr>\n",
       "    <tr>\n",
       "      <th>29</th>\n",
       "      <td>536370</td>\n",
       "      <td>21724</td>\n",
       "      <td>PANDA AND BUNNIES STICKER SHEET</td>\n",
       "      <td>12</td>\n",
       "      <td>12/1/2010 8:45</td>\n",
       "      <td>0.85</td>\n",
       "      <td>12583.0</td>\n",
       "      <td>France</td>\n",
       "      <td>2010-12-01 08:45:00</td>\n",
       "      <td>48</td>\n",
       "      <td>2010</td>\n",
       "    </tr>\n",
       "    <tr>\n",
       "      <th>...</th>\n",
       "      <td>...</td>\n",
       "      <td>...</td>\n",
       "      <td>...</td>\n",
       "      <td>...</td>\n",
       "      <td>...</td>\n",
       "      <td>...</td>\n",
       "      <td>...</td>\n",
       "      <td>...</td>\n",
       "      <td>...</td>\n",
       "      <td>...</td>\n",
       "      <td>...</td>\n",
       "    </tr>\n",
       "    <tr>\n",
       "      <th>247502</th>\n",
       "      <td>558771</td>\n",
       "      <td>21232</td>\n",
       "      <td>STRAWBERRY CERAMIC TRINKET BOX</td>\n",
       "      <td>8</td>\n",
       "      <td>7/3/2011 15:53</td>\n",
       "      <td>1.25</td>\n",
       "      <td>17105.0</td>\n",
       "      <td>United Kingdom</td>\n",
       "      <td>2011-07-03 15:53:00</td>\n",
       "      <td>79</td>\n",
       "      <td>2011</td>\n",
       "    </tr>\n",
       "    <tr>\n",
       "      <th>247503</th>\n",
       "      <td>558771</td>\n",
       "      <td>22423</td>\n",
       "      <td>REGENCY CAKESTAND 3 TIER</td>\n",
       "      <td>1</td>\n",
       "      <td>7/3/2011 15:53</td>\n",
       "      <td>12.75</td>\n",
       "      <td>17105.0</td>\n",
       "      <td>United Kingdom</td>\n",
       "      <td>2011-07-03 15:53:00</td>\n",
       "      <td>79</td>\n",
       "      <td>2011</td>\n",
       "    </tr>\n",
       "    <tr>\n",
       "      <th>247504</th>\n",
       "      <td>558771</td>\n",
       "      <td>23323</td>\n",
       "      <td>WHITE WICKER STAR</td>\n",
       "      <td>2</td>\n",
       "      <td>7/3/2011 15:53</td>\n",
       "      <td>2.10</td>\n",
       "      <td>17105.0</td>\n",
       "      <td>United Kingdom</td>\n",
       "      <td>2011-07-03 15:53:00</td>\n",
       "      <td>79</td>\n",
       "      <td>2011</td>\n",
       "    </tr>\n",
       "    <tr>\n",
       "      <th>247505</th>\n",
       "      <td>558771</td>\n",
       "      <td>35265</td>\n",
       "      <td>COLOURFUL FLOWER FRUIT BOWL</td>\n",
       "      <td>1</td>\n",
       "      <td>7/3/2011 15:53</td>\n",
       "      <td>1.00</td>\n",
       "      <td>17105.0</td>\n",
       "      <td>United Kingdom</td>\n",
       "      <td>2011-07-03 15:53:00</td>\n",
       "      <td>79</td>\n",
       "      <td>2011</td>\n",
       "    </tr>\n",
       "    <tr>\n",
       "      <th>247506</th>\n",
       "      <td>558771</td>\n",
       "      <td>22470</td>\n",
       "      <td>HEART OF WICKER LARGE</td>\n",
       "      <td>2</td>\n",
       "      <td>7/3/2011 15:53</td>\n",
       "      <td>2.95</td>\n",
       "      <td>17105.0</td>\n",
       "      <td>United Kingdom</td>\n",
       "      <td>2011-07-03 15:53:00</td>\n",
       "      <td>79</td>\n",
       "      <td>2011</td>\n",
       "    </tr>\n",
       "    <tr>\n",
       "      <th>247507</th>\n",
       "      <td>558771</td>\n",
       "      <td>23321</td>\n",
       "      <td>SMALL WHITE HEART OF WICKER</td>\n",
       "      <td>2</td>\n",
       "      <td>7/3/2011 15:53</td>\n",
       "      <td>1.65</td>\n",
       "      <td>17105.0</td>\n",
       "      <td>United Kingdom</td>\n",
       "      <td>2011-07-03 15:53:00</td>\n",
       "      <td>79</td>\n",
       "      <td>2011</td>\n",
       "    </tr>\n",
       "    <tr>\n",
       "      <th>247508</th>\n",
       "      <td>558771</td>\n",
       "      <td>22469</td>\n",
       "      <td>HEART OF WICKER SMALL</td>\n",
       "      <td>2</td>\n",
       "      <td>7/3/2011 15:53</td>\n",
       "      <td>1.65</td>\n",
       "      <td>17105.0</td>\n",
       "      <td>United Kingdom</td>\n",
       "      <td>2011-07-03 15:53:00</td>\n",
       "      <td>79</td>\n",
       "      <td>2011</td>\n",
       "    </tr>\n",
       "    <tr>\n",
       "      <th>247509</th>\n",
       "      <td>558771</td>\n",
       "      <td>23322</td>\n",
       "      <td>LARGE WHITE HEART OF WICKER</td>\n",
       "      <td>2</td>\n",
       "      <td>7/3/2011 15:53</td>\n",
       "      <td>2.95</td>\n",
       "      <td>17105.0</td>\n",
       "      <td>United Kingdom</td>\n",
       "      <td>2011-07-03 15:53:00</td>\n",
       "      <td>79</td>\n",
       "      <td>2011</td>\n",
       "    </tr>\n",
       "    <tr>\n",
       "      <th>247510</th>\n",
       "      <td>558772</td>\n",
       "      <td>22772</td>\n",
       "      <td>PINK DRAWER KNOB ACRYLIC EDWARDIAN</td>\n",
       "      <td>12</td>\n",
       "      <td>7/3/2011 16:00</td>\n",
       "      <td>1.25</td>\n",
       "      <td>15007.0</td>\n",
       "      <td>United Kingdom</td>\n",
       "      <td>2011-07-03 16:00:00</td>\n",
       "      <td>79</td>\n",
       "      <td>2011</td>\n",
       "    </tr>\n",
       "    <tr>\n",
       "      <th>247511</th>\n",
       "      <td>558772</td>\n",
       "      <td>22771</td>\n",
       "      <td>CLEAR DRAWER KNOB ACRYLIC EDWARDIAN</td>\n",
       "      <td>12</td>\n",
       "      <td>7/3/2011 16:00</td>\n",
       "      <td>1.25</td>\n",
       "      <td>15007.0</td>\n",
       "      <td>United Kingdom</td>\n",
       "      <td>2011-07-03 16:00:00</td>\n",
       "      <td>79</td>\n",
       "      <td>2011</td>\n",
       "    </tr>\n",
       "    <tr>\n",
       "      <th>247512</th>\n",
       "      <td>558772</td>\n",
       "      <td>23321</td>\n",
       "      <td>SMALL WHITE HEART OF WICKER</td>\n",
       "      <td>5</td>\n",
       "      <td>7/3/2011 16:00</td>\n",
       "      <td>1.65</td>\n",
       "      <td>15007.0</td>\n",
       "      <td>United Kingdom</td>\n",
       "      <td>2011-07-03 16:00:00</td>\n",
       "      <td>79</td>\n",
       "      <td>2011</td>\n",
       "    </tr>\n",
       "    <tr>\n",
       "      <th>247513</th>\n",
       "      <td>558772</td>\n",
       "      <td>22607</td>\n",
       "      <td>WOODEN ROUNDERS GARDEN SET</td>\n",
       "      <td>1</td>\n",
       "      <td>7/3/2011 16:00</td>\n",
       "      <td>9.95</td>\n",
       "      <td>15007.0</td>\n",
       "      <td>United Kingdom</td>\n",
       "      <td>2011-07-03 16:00:00</td>\n",
       "      <td>79</td>\n",
       "      <td>2011</td>\n",
       "    </tr>\n",
       "    <tr>\n",
       "      <th>247514</th>\n",
       "      <td>558772</td>\n",
       "      <td>22469</td>\n",
       "      <td>HEART OF WICKER SMALL</td>\n",
       "      <td>2</td>\n",
       "      <td>7/3/2011 16:00</td>\n",
       "      <td>1.65</td>\n",
       "      <td>15007.0</td>\n",
       "      <td>United Kingdom</td>\n",
       "      <td>2011-07-03 16:00:00</td>\n",
       "      <td>79</td>\n",
       "      <td>2011</td>\n",
       "    </tr>\n",
       "    <tr>\n",
       "      <th>247515</th>\n",
       "      <td>558772</td>\n",
       "      <td>23199</td>\n",
       "      <td>JUMBO BAG APPLES</td>\n",
       "      <td>2</td>\n",
       "      <td>7/3/2011 16:00</td>\n",
       "      <td>2.08</td>\n",
       "      <td>15007.0</td>\n",
       "      <td>United Kingdom</td>\n",
       "      <td>2011-07-03 16:00:00</td>\n",
       "      <td>79</td>\n",
       "      <td>2011</td>\n",
       "    </tr>\n",
       "    <tr>\n",
       "      <th>247516</th>\n",
       "      <td>558772</td>\n",
       "      <td>20725</td>\n",
       "      <td>LUNCH BAG RED RETROSPOT</td>\n",
       "      <td>10</td>\n",
       "      <td>7/3/2011 16:00</td>\n",
       "      <td>1.65</td>\n",
       "      <td>15007.0</td>\n",
       "      <td>United Kingdom</td>\n",
       "      <td>2011-07-03 16:00:00</td>\n",
       "      <td>79</td>\n",
       "      <td>2011</td>\n",
       "    </tr>\n",
       "    <tr>\n",
       "      <th>247517</th>\n",
       "      <td>558772</td>\n",
       "      <td>23206</td>\n",
       "      <td>LUNCH BAG APPLE DESIGN</td>\n",
       "      <td>10</td>\n",
       "      <td>7/3/2011 16:00</td>\n",
       "      <td>1.65</td>\n",
       "      <td>15007.0</td>\n",
       "      <td>United Kingdom</td>\n",
       "      <td>2011-07-03 16:00:00</td>\n",
       "      <td>79</td>\n",
       "      <td>2011</td>\n",
       "    </tr>\n",
       "    <tr>\n",
       "      <th>247518</th>\n",
       "      <td>558772</td>\n",
       "      <td>21156</td>\n",
       "      <td>RETROSPOT CHILDRENS APRON</td>\n",
       "      <td>2</td>\n",
       "      <td>7/3/2011 16:00</td>\n",
       "      <td>1.95</td>\n",
       "      <td>15007.0</td>\n",
       "      <td>United Kingdom</td>\n",
       "      <td>2011-07-03 16:00:00</td>\n",
       "      <td>79</td>\n",
       "      <td>2011</td>\n",
       "    </tr>\n",
       "    <tr>\n",
       "      <th>247519</th>\n",
       "      <td>558772</td>\n",
       "      <td>22628</td>\n",
       "      <td>PICNIC BOXES SET OF 3 RETROSPOT</td>\n",
       "      <td>1</td>\n",
       "      <td>7/3/2011 16:00</td>\n",
       "      <td>4.95</td>\n",
       "      <td>15007.0</td>\n",
       "      <td>United Kingdom</td>\n",
       "      <td>2011-07-03 16:00:00</td>\n",
       "      <td>79</td>\n",
       "      <td>2011</td>\n",
       "    </tr>\n",
       "    <tr>\n",
       "      <th>247520</th>\n",
       "      <td>558772</td>\n",
       "      <td>21246</td>\n",
       "      <td>RED RETROSPOT BIG BOWL</td>\n",
       "      <td>6</td>\n",
       "      <td>7/3/2011 16:00</td>\n",
       "      <td>4.95</td>\n",
       "      <td>15007.0</td>\n",
       "      <td>United Kingdom</td>\n",
       "      <td>2011-07-03 16:00:00</td>\n",
       "      <td>79</td>\n",
       "      <td>2011</td>\n",
       "    </tr>\n",
       "    <tr>\n",
       "      <th>247521</th>\n",
       "      <td>558772</td>\n",
       "      <td>23184</td>\n",
       "      <td>BULL DOG BOTTLE OPENER</td>\n",
       "      <td>6</td>\n",
       "      <td>7/3/2011 16:00</td>\n",
       "      <td>4.95</td>\n",
       "      <td>15007.0</td>\n",
       "      <td>United Kingdom</td>\n",
       "      <td>2011-07-03 16:00:00</td>\n",
       "      <td>79</td>\n",
       "      <td>2011</td>\n",
       "    </tr>\n",
       "    <tr>\n",
       "      <th>247522</th>\n",
       "      <td>558773</td>\n",
       "      <td>21564</td>\n",
       "      <td>PINK  HEART SHAPE LOVE BUCKET</td>\n",
       "      <td>1</td>\n",
       "      <td>7/3/2011 16:00</td>\n",
       "      <td>2.95</td>\n",
       "      <td>17781.0</td>\n",
       "      <td>United Kingdom</td>\n",
       "      <td>2011-07-03 16:00:00</td>\n",
       "      <td>79</td>\n",
       "      <td>2011</td>\n",
       "    </tr>\n",
       "    <tr>\n",
       "      <th>247523</th>\n",
       "      <td>558773</td>\n",
       "      <td>21563</td>\n",
       "      <td>RED HEART SHAPE LOVE BUCKET</td>\n",
       "      <td>1</td>\n",
       "      <td>7/3/2011 16:00</td>\n",
       "      <td>2.95</td>\n",
       "      <td>17781.0</td>\n",
       "      <td>United Kingdom</td>\n",
       "      <td>2011-07-03 16:00:00</td>\n",
       "      <td>79</td>\n",
       "      <td>2011</td>\n",
       "    </tr>\n",
       "    <tr>\n",
       "      <th>247524</th>\n",
       "      <td>558773</td>\n",
       "      <td>21381</td>\n",
       "      <td>MINI WOODEN HAPPY BIRTHDAY GARLAND</td>\n",
       "      <td>6</td>\n",
       "      <td>7/3/2011 16:00</td>\n",
       "      <td>1.69</td>\n",
       "      <td>17781.0</td>\n",
       "      <td>United Kingdom</td>\n",
       "      <td>2011-07-03 16:00:00</td>\n",
       "      <td>79</td>\n",
       "      <td>2011</td>\n",
       "    </tr>\n",
       "    <tr>\n",
       "      <th>247525</th>\n",
       "      <td>558773</td>\n",
       "      <td>21918</td>\n",
       "      <td>SET 12 KIDS COLOUR  CHALK STICKS</td>\n",
       "      <td>2</td>\n",
       "      <td>7/3/2011 16:00</td>\n",
       "      <td>0.42</td>\n",
       "      <td>17781.0</td>\n",
       "      <td>United Kingdom</td>\n",
       "      <td>2011-07-03 16:00:00</td>\n",
       "      <td>79</td>\n",
       "      <td>2011</td>\n",
       "    </tr>\n",
       "    <tr>\n",
       "      <th>247526</th>\n",
       "      <td>558773</td>\n",
       "      <td>21916</td>\n",
       "      <td>SET 12 RETRO WHITE CHALK STICKS</td>\n",
       "      <td>2</td>\n",
       "      <td>7/3/2011 16:00</td>\n",
       "      <td>0.42</td>\n",
       "      <td>17781.0</td>\n",
       "      <td>United Kingdom</td>\n",
       "      <td>2011-07-03 16:00:00</td>\n",
       "      <td>79</td>\n",
       "      <td>2011</td>\n",
       "    </tr>\n",
       "    <tr>\n",
       "      <th>247527</th>\n",
       "      <td>558773</td>\n",
       "      <td>85135B</td>\n",
       "      <td>BLUE DRAGONFLY HELICOPTER</td>\n",
       "      <td>1</td>\n",
       "      <td>7/3/2011 16:00</td>\n",
       "      <td>7.95</td>\n",
       "      <td>17781.0</td>\n",
       "      <td>United Kingdom</td>\n",
       "      <td>2011-07-03 16:00:00</td>\n",
       "      <td>79</td>\n",
       "      <td>2011</td>\n",
       "    </tr>\n",
       "    <tr>\n",
       "      <th>247528</th>\n",
       "      <td>558773</td>\n",
       "      <td>85136A</td>\n",
       "      <td>YELLOW SHARK HELICOPTER</td>\n",
       "      <td>1</td>\n",
       "      <td>7/3/2011 16:00</td>\n",
       "      <td>7.95</td>\n",
       "      <td>17781.0</td>\n",
       "      <td>United Kingdom</td>\n",
       "      <td>2011-07-03 16:00:00</td>\n",
       "      <td>79</td>\n",
       "      <td>2011</td>\n",
       "    </tr>\n",
       "    <tr>\n",
       "      <th>247529</th>\n",
       "      <td>558773</td>\n",
       "      <td>21363</td>\n",
       "      <td>HOME SMALL WOOD LETTERS</td>\n",
       "      <td>1</td>\n",
       "      <td>7/3/2011 16:00</td>\n",
       "      <td>4.95</td>\n",
       "      <td>17781.0</td>\n",
       "      <td>United Kingdom</td>\n",
       "      <td>2011-07-03 16:00:00</td>\n",
       "      <td>79</td>\n",
       "      <td>2011</td>\n",
       "    </tr>\n",
       "    <tr>\n",
       "      <th>247530</th>\n",
       "      <td>558773</td>\n",
       "      <td>21359</td>\n",
       "      <td>RELAX LARGE WOOD LETTERS</td>\n",
       "      <td>10</td>\n",
       "      <td>7/3/2011 16:00</td>\n",
       "      <td>3.95</td>\n",
       "      <td>17781.0</td>\n",
       "      <td>United Kingdom</td>\n",
       "      <td>2011-07-03 16:00:00</td>\n",
       "      <td>79</td>\n",
       "      <td>2011</td>\n",
       "    </tr>\n",
       "    <tr>\n",
       "      <th>247531</th>\n",
       "      <td>558773</td>\n",
       "      <td>82484</td>\n",
       "      <td>WOOD BLACK BOARD ANT WHITE FINISH</td>\n",
       "      <td>1</td>\n",
       "      <td>7/3/2011 16:00</td>\n",
       "      <td>7.95</td>\n",
       "      <td>17781.0</td>\n",
       "      <td>United Kingdom</td>\n",
       "      <td>2011-07-03 16:00:00</td>\n",
       "      <td>79</td>\n",
       "      <td>2011</td>\n",
       "    </tr>\n",
       "  </tbody>\n",
       "</table>\n",
       "<p>247532 rows × 11 columns</p>\n",
       "</div>"
      ],
      "text/plain": [
       "       InvoiceNo StockCode                          Description  Quantity  \\\n",
       "0         536365    85123A   WHITE HANGING HEART T-LIGHT HOLDER         6   \n",
       "1         536365     71053                  WHITE METAL LANTERN         6   \n",
       "2         536365    84406B       CREAM CUPID HEARTS COAT HANGER         8   \n",
       "3         536365    84029G  KNITTED UNION FLAG HOT WATER BOTTLE         6   \n",
       "4         536365    84029E       RED WOOLLY HOTTIE WHITE HEART.         6   \n",
       "5         536365     22752         SET 7 BABUSHKA NESTING BOXES         2   \n",
       "6         536365     21730    GLASS STAR FROSTED T-LIGHT HOLDER         6   \n",
       "7         536366     22633               HAND WARMER UNION JACK         6   \n",
       "8         536366     22632            HAND WARMER RED POLKA DOT         6   \n",
       "9         536367     84879        ASSORTED COLOUR BIRD ORNAMENT        32   \n",
       "10        536367     22745           POPPY'S PLAYHOUSE BEDROOM          6   \n",
       "11        536367     22748            POPPY'S PLAYHOUSE KITCHEN         6   \n",
       "12        536367     22749    FELTCRAFT PRINCESS CHARLOTTE DOLL         8   \n",
       "13        536367     22310              IVORY KNITTED MUG COSY          6   \n",
       "14        536367     84969   BOX OF 6 ASSORTED COLOUR TEASPOONS         6   \n",
       "15        536367     22623        BOX OF VINTAGE JIGSAW BLOCKS          3   \n",
       "16        536367     22622       BOX OF VINTAGE ALPHABET BLOCKS         2   \n",
       "17        536367     21754             HOME BUILDING BLOCK WORD         3   \n",
       "18        536367     21755             LOVE BUILDING BLOCK WORD         3   \n",
       "19        536367     21777          RECIPE BOX WITH METAL HEART         4   \n",
       "20        536367     48187                  DOORMAT NEW ENGLAND         4   \n",
       "21        536368     22960             JAM MAKING SET WITH JARS         6   \n",
       "22        536368     22913          RED COAT RACK PARIS FASHION         3   \n",
       "23        536368     22912       YELLOW COAT RACK PARIS FASHION         3   \n",
       "24        536368     22914         BLUE COAT RACK PARIS FASHION         3   \n",
       "25        536369     21756             BATH BUILDING BLOCK WORD         3   \n",
       "26        536370     22728            ALARM CLOCK BAKELIKE PINK        24   \n",
       "27        536370     22727            ALARM CLOCK BAKELIKE RED         24   \n",
       "28        536370     22726           ALARM CLOCK BAKELIKE GREEN        12   \n",
       "29        536370     21724      PANDA AND BUNNIES STICKER SHEET        12   \n",
       "...          ...       ...                                  ...       ...   \n",
       "247502    558771     21232       STRAWBERRY CERAMIC TRINKET BOX         8   \n",
       "247503    558771     22423             REGENCY CAKESTAND 3 TIER         1   \n",
       "247504    558771     23323                   WHITE WICKER STAR          2   \n",
       "247505    558771     35265          COLOURFUL FLOWER FRUIT BOWL         1   \n",
       "247506    558771     22470                HEART OF WICKER LARGE         2   \n",
       "247507    558771     23321          SMALL WHITE HEART OF WICKER         2   \n",
       "247508    558771     22469                HEART OF WICKER SMALL         2   \n",
       "247509    558771     23322          LARGE WHITE HEART OF WICKER         2   \n",
       "247510    558772     22772   PINK DRAWER KNOB ACRYLIC EDWARDIAN        12   \n",
       "247511    558772     22771  CLEAR DRAWER KNOB ACRYLIC EDWARDIAN        12   \n",
       "247512    558772     23321          SMALL WHITE HEART OF WICKER         5   \n",
       "247513    558772     22607          WOODEN ROUNDERS GARDEN SET          1   \n",
       "247514    558772     22469                HEART OF WICKER SMALL         2   \n",
       "247515    558772     23199                     JUMBO BAG APPLES         2   \n",
       "247516    558772     20725              LUNCH BAG RED RETROSPOT        10   \n",
       "247517    558772     23206               LUNCH BAG APPLE DESIGN        10   \n",
       "247518    558772     21156            RETROSPOT CHILDRENS APRON         2   \n",
       "247519    558772     22628     PICNIC BOXES SET OF 3 RETROSPOT          1   \n",
       "247520    558772     21246               RED RETROSPOT BIG BOWL         6   \n",
       "247521    558772     23184               BULL DOG BOTTLE OPENER         6   \n",
       "247522    558773     21564       PINK  HEART SHAPE LOVE BUCKET          1   \n",
       "247523    558773     21563         RED HEART SHAPE LOVE BUCKET          1   \n",
       "247524    558773     21381   MINI WOODEN HAPPY BIRTHDAY GARLAND         6   \n",
       "247525    558773     21918     SET 12 KIDS COLOUR  CHALK STICKS         2   \n",
       "247526    558773     21916      SET 12 RETRO WHITE CHALK STICKS         2   \n",
       "247527    558773    85135B            BLUE DRAGONFLY HELICOPTER         1   \n",
       "247528    558773    85136A              YELLOW SHARK HELICOPTER         1   \n",
       "247529    558773     21363              HOME SMALL WOOD LETTERS         1   \n",
       "247530    558773     21359             RELAX LARGE WOOD LETTERS        10   \n",
       "247531    558773     82484    WOOD BLACK BOARD ANT WHITE FINISH         1   \n",
       "\n",
       "           InvoiceDate  UnitPrice  CustomerID         Country  \\\n",
       "0       12/1/2010 8:26       2.55     17850.0  United Kingdom   \n",
       "1       12/1/2010 8:26       3.39     17850.0  United Kingdom   \n",
       "2       12/1/2010 8:26       2.75     17850.0  United Kingdom   \n",
       "3       12/1/2010 8:26       3.39     17850.0  United Kingdom   \n",
       "4       12/1/2010 8:26       3.39     17850.0  United Kingdom   \n",
       "5       12/1/2010 8:26       7.65     17850.0  United Kingdom   \n",
       "6       12/1/2010 8:26       4.25     17850.0  United Kingdom   \n",
       "7       12/1/2010 8:28       1.85     17850.0  United Kingdom   \n",
       "8       12/1/2010 8:28       1.85     17850.0  United Kingdom   \n",
       "9       12/1/2010 8:34       1.69     13047.0  United Kingdom   \n",
       "10      12/1/2010 8:34       2.10     13047.0  United Kingdom   \n",
       "11      12/1/2010 8:34       2.10     13047.0  United Kingdom   \n",
       "12      12/1/2010 8:34       3.75     13047.0  United Kingdom   \n",
       "13      12/1/2010 8:34       1.65     13047.0  United Kingdom   \n",
       "14      12/1/2010 8:34       4.25     13047.0  United Kingdom   \n",
       "15      12/1/2010 8:34       4.95     13047.0  United Kingdom   \n",
       "16      12/1/2010 8:34       9.95     13047.0  United Kingdom   \n",
       "17      12/1/2010 8:34       5.95     13047.0  United Kingdom   \n",
       "18      12/1/2010 8:34       5.95     13047.0  United Kingdom   \n",
       "19      12/1/2010 8:34       7.95     13047.0  United Kingdom   \n",
       "20      12/1/2010 8:34       7.95     13047.0  United Kingdom   \n",
       "21      12/1/2010 8:34       4.25     13047.0  United Kingdom   \n",
       "22      12/1/2010 8:34       4.95     13047.0  United Kingdom   \n",
       "23      12/1/2010 8:34       4.95     13047.0  United Kingdom   \n",
       "24      12/1/2010 8:34       4.95     13047.0  United Kingdom   \n",
       "25      12/1/2010 8:35       5.95     13047.0  United Kingdom   \n",
       "26      12/1/2010 8:45       3.75     12583.0          France   \n",
       "27      12/1/2010 8:45       3.75     12583.0          France   \n",
       "28      12/1/2010 8:45       3.75     12583.0          France   \n",
       "29      12/1/2010 8:45       0.85     12583.0          France   \n",
       "...                ...        ...         ...             ...   \n",
       "247502  7/3/2011 15:53       1.25     17105.0  United Kingdom   \n",
       "247503  7/3/2011 15:53      12.75     17105.0  United Kingdom   \n",
       "247504  7/3/2011 15:53       2.10     17105.0  United Kingdom   \n",
       "247505  7/3/2011 15:53       1.00     17105.0  United Kingdom   \n",
       "247506  7/3/2011 15:53       2.95     17105.0  United Kingdom   \n",
       "247507  7/3/2011 15:53       1.65     17105.0  United Kingdom   \n",
       "247508  7/3/2011 15:53       1.65     17105.0  United Kingdom   \n",
       "247509  7/3/2011 15:53       2.95     17105.0  United Kingdom   \n",
       "247510  7/3/2011 16:00       1.25     15007.0  United Kingdom   \n",
       "247511  7/3/2011 16:00       1.25     15007.0  United Kingdom   \n",
       "247512  7/3/2011 16:00       1.65     15007.0  United Kingdom   \n",
       "247513  7/3/2011 16:00       9.95     15007.0  United Kingdom   \n",
       "247514  7/3/2011 16:00       1.65     15007.0  United Kingdom   \n",
       "247515  7/3/2011 16:00       2.08     15007.0  United Kingdom   \n",
       "247516  7/3/2011 16:00       1.65     15007.0  United Kingdom   \n",
       "247517  7/3/2011 16:00       1.65     15007.0  United Kingdom   \n",
       "247518  7/3/2011 16:00       1.95     15007.0  United Kingdom   \n",
       "247519  7/3/2011 16:00       4.95     15007.0  United Kingdom   \n",
       "247520  7/3/2011 16:00       4.95     15007.0  United Kingdom   \n",
       "247521  7/3/2011 16:00       4.95     15007.0  United Kingdom   \n",
       "247522  7/3/2011 16:00       2.95     17781.0  United Kingdom   \n",
       "247523  7/3/2011 16:00       2.95     17781.0  United Kingdom   \n",
       "247524  7/3/2011 16:00       1.69     17781.0  United Kingdom   \n",
       "247525  7/3/2011 16:00       0.42     17781.0  United Kingdom   \n",
       "247526  7/3/2011 16:00       0.42     17781.0  United Kingdom   \n",
       "247527  7/3/2011 16:00       7.95     17781.0  United Kingdom   \n",
       "247528  7/3/2011 16:00       7.95     17781.0  United Kingdom   \n",
       "247529  7/3/2011 16:00       4.95     17781.0  United Kingdom   \n",
       "247530  7/3/2011 16:00       3.95     17781.0  United Kingdom   \n",
       "247531  7/3/2011 16:00       7.95     17781.0  United Kingdom   \n",
       "\n",
       "              Invoice_Date  week_year  Year  \n",
       "0      2010-12-01 08:26:00         48  2010  \n",
       "1      2010-12-01 08:26:00         48  2010  \n",
       "2      2010-12-01 08:26:00         48  2010  \n",
       "3      2010-12-01 08:26:00         48  2010  \n",
       "4      2010-12-01 08:26:00         48  2010  \n",
       "5      2010-12-01 08:26:00         48  2010  \n",
       "6      2010-12-01 08:26:00         48  2010  \n",
       "7      2010-12-01 08:28:00         48  2010  \n",
       "8      2010-12-01 08:28:00         48  2010  \n",
       "9      2010-12-01 08:34:00         48  2010  \n",
       "10     2010-12-01 08:34:00         48  2010  \n",
       "11     2010-12-01 08:34:00         48  2010  \n",
       "12     2010-12-01 08:34:00         48  2010  \n",
       "13     2010-12-01 08:34:00         48  2010  \n",
       "14     2010-12-01 08:34:00         48  2010  \n",
       "15     2010-12-01 08:34:00         48  2010  \n",
       "16     2010-12-01 08:34:00         48  2010  \n",
       "17     2010-12-01 08:34:00         48  2010  \n",
       "18     2010-12-01 08:34:00         48  2010  \n",
       "19     2010-12-01 08:34:00         48  2010  \n",
       "20     2010-12-01 08:34:00         48  2010  \n",
       "21     2010-12-01 08:34:00         48  2010  \n",
       "22     2010-12-01 08:34:00         48  2010  \n",
       "23     2010-12-01 08:34:00         48  2010  \n",
       "24     2010-12-01 08:34:00         48  2010  \n",
       "25     2010-12-01 08:35:00         48  2010  \n",
       "26     2010-12-01 08:45:00         48  2010  \n",
       "27     2010-12-01 08:45:00         48  2010  \n",
       "28     2010-12-01 08:45:00         48  2010  \n",
       "29     2010-12-01 08:45:00         48  2010  \n",
       "...                    ...        ...   ...  \n",
       "247502 2011-07-03 15:53:00         79  2011  \n",
       "247503 2011-07-03 15:53:00         79  2011  \n",
       "247504 2011-07-03 15:53:00         79  2011  \n",
       "247505 2011-07-03 15:53:00         79  2011  \n",
       "247506 2011-07-03 15:53:00         79  2011  \n",
       "247507 2011-07-03 15:53:00         79  2011  \n",
       "247508 2011-07-03 15:53:00         79  2011  \n",
       "247509 2011-07-03 15:53:00         79  2011  \n",
       "247510 2011-07-03 16:00:00         79  2011  \n",
       "247511 2011-07-03 16:00:00         79  2011  \n",
       "247512 2011-07-03 16:00:00         79  2011  \n",
       "247513 2011-07-03 16:00:00         79  2011  \n",
       "247514 2011-07-03 16:00:00         79  2011  \n",
       "247515 2011-07-03 16:00:00         79  2011  \n",
       "247516 2011-07-03 16:00:00         79  2011  \n",
       "247517 2011-07-03 16:00:00         79  2011  \n",
       "247518 2011-07-03 16:00:00         79  2011  \n",
       "247519 2011-07-03 16:00:00         79  2011  \n",
       "247520 2011-07-03 16:00:00         79  2011  \n",
       "247521 2011-07-03 16:00:00         79  2011  \n",
       "247522 2011-07-03 16:00:00         79  2011  \n",
       "247523 2011-07-03 16:00:00         79  2011  \n",
       "247524 2011-07-03 16:00:00         79  2011  \n",
       "247525 2011-07-03 16:00:00         79  2011  \n",
       "247526 2011-07-03 16:00:00         79  2011  \n",
       "247527 2011-07-03 16:00:00         79  2011  \n",
       "247528 2011-07-03 16:00:00         79  2011  \n",
       "247529 2011-07-03 16:00:00         79  2011  \n",
       "247530 2011-07-03 16:00:00         79  2011  \n",
       "247531 2011-07-03 16:00:00         79  2011  \n",
       "\n",
       "[247532 rows x 11 columns]"
      ]
     },
     "execution_count": 22,
     "metadata": {},
     "output_type": "execute_result"
    }
   ],
   "source": [
    "data"
   ]
  },
  {
   "cell_type": "markdown",
   "metadata": {},
   "source": [
    "Let us create the `Revenue` column."
   ]
  },
  {
   "cell_type": "code",
   "execution_count": 23,
   "metadata": {},
   "outputs": [],
   "source": [
    "data['Revenue']=data.Quantity * data.UnitPrice"
   ]
  },
  {
   "cell_type": "markdown",
   "metadata": {},
   "source": [
    "## Data Exploration\n",
    "\n",
    "Create a `category` column that extracts the category of the item from description."
   ]
  },
  {
   "cell_type": "code",
   "execution_count": 24,
   "metadata": {},
   "outputs": [
    {
     "name": "stdout",
     "output_type": "stream",
     "text": [
      "DESIGN       12103\n",
      "HOLDER        7094\n",
      "SIGN          6709\n",
      "RETROSPOT     6620\n",
      "BOX           6187\n",
      "BAG           5035\n",
      "CASES         4268\n",
      "SET           4169\n",
      "MUG           3454\n",
      "BUNTING       3309\n",
      "Name: category, dtype: int64\n"
     ]
    }
   ],
   "source": [
    "data['category'] = data.Description.str.split().str[-1]\n",
    "\n",
    "print  (data.category.value_counts().head(10))\n"
   ]
  },
  {
   "cell_type": "markdown",
   "metadata": {},
   "source": [
    "Extract the <b>month</b> details from the `InvoiceDate` column."
   ]
  },
  {
   "cell_type": "code",
   "execution_count": 25,
   "metadata": {},
   "outputs": [
    {
     "name": "stdout",
     "output_type": "stream",
     "text": [
      "Sales by Month : \n",
      " 12    42481\n",
      "5     37030\n",
      "6     36874\n",
      "3     36748\n",
      "1     35147\n",
      "4     29916\n",
      "2     27707\n",
      "7      1629\n",
      "Name: InvoiceDate, dtype: int64\n"
     ]
    },
    {
     "name": "stderr",
     "output_type": "stream",
     "text": [
      "C:\\Users\\Prerna\\Anaconda3\\lib\\site-packages\\ipykernel_launcher.py:1: UserWarning: Pandas doesn't allow columns to be created via a new attribute name - see https://pandas.pydata.org/pandas-docs/stable/indexing.html#attribute-access\n",
      "  \"\"\"Entry point for launching an IPython kernel.\n"
     ]
    }
   ],
   "source": [
    "data.month = data.InvoiceDate.str.split('/').str[0]\n",
    "\n",
    "print (\"Sales by Month : \\n\", data.month.value_counts())"
   ]
  },
  {
   "cell_type": "code",
   "execution_count": 26,
   "metadata": {},
   "outputs": [
    {
     "data": {
      "image/png": "[encoded data removed]",
      "text/plain": [
       "<Figure size 432x288 with 1 Axes>"
      ]
     },
     "metadata": {
      "needs_background": "light"
     },
     "output_type": "display_data"
    }
   ],
   "source": [
    "plt.scatter(data.month.value_counts().keys(),data.month.value_counts(), c='r', s=100, alpha=0.7)\n",
    "plt.xlabel('Months 1-Jan, 2-Feb.....12-Dec')\n",
    "plt.ylabel('Number of purchases')\n",
    "plt.title('Time Series analysis by Month Jan-Dec')\n",
    "plt.show()"
   ]
  },
  {
   "cell_type": "markdown",
   "metadata": {},
   "source": [
    "Many purchases seem to happen during <b>Christmas</b> time. \n",
    "\n",
    "Let us group all the transactions by `week_year`. "
   ]
  },
  {
   "cell_type": "code",
   "execution_count": 27,
   "metadata": {},
   "outputs": [],
   "source": [
    "time_df = data.groupby('week_year').sum()"
   ]
  },
  {
   "cell_type": "code",
   "execution_count": 29,
   "metadata": {},
   "outputs": [
    {
     "data": {
      "text/plain": [
       "[<matplotlib.lines.Line2D at 0x218ba67a4e0>]"
      ]
     },
     "execution_count": 29,
     "metadata": {},
     "output_type": "execute_result"
    },
    {
     "data": {
      "image/png": "[encoded data removed]",
      "text/plain": [
       "<Figure size 432x288 with 1 Axes>"
      ]
     },
     "metadata": {
      "needs_background": "light"
     },
     "output_type": "display_data"
    }
   ],
   "source": [
    "#Let us see the original data spread\n",
    "plt.plot(time_df.Revenue)"
   ]
  },
  {
   "cell_type": "markdown",
   "metadata": {},
   "source": [
    "Since there is a lot of <b>variance</b> across different weeks, this is a difficult <b>timeseries</b> to model. Let us smoothen it by using <b>log transformation</b>."
   ]
  },
  {
   "cell_type": "code",
   "execution_count": 30,
   "metadata": {},
   "outputs": [
    {
     "data": {
      "text/html": [
       "<div>\n",
       "<style scoped>\n",
       "    .dataframe tbody tr th:only-of-type {\n",
       "        vertical-align: middle;\n",
       "    }\n",
       "\n",
       "    .dataframe tbody tr th {\n",
       "        vertical-align: top;\n",
       "    }\n",
       "\n",
       "    .dataframe thead th {\n",
       "        text-align: right;\n",
       "    }\n",
       "</style>\n",
       "<table border=\"1\" class=\"dataframe\">\n",
       "  <thead>\n",
       "    <tr style=\"text-align: right;\">\n",
       "      <th></th>\n",
       "      <th>Quantity</th>\n",
       "      <th>UnitPrice</th>\n",
       "      <th>CustomerID</th>\n",
       "      <th>Year</th>\n",
       "      <th>Revenue</th>\n",
       "    </tr>\n",
       "    <tr>\n",
       "      <th>week_year</th>\n",
       "      <th></th>\n",
       "      <th></th>\n",
       "      <th></th>\n",
       "      <th></th>\n",
       "      <th></th>\n",
       "    </tr>\n",
       "  </thead>\n",
       "  <tbody>\n",
       "    <tr>\n",
       "      <th>48</th>\n",
       "      <td>79062</td>\n",
       "      <td>38727.19</td>\n",
       "      <td>122249393.0</td>\n",
       "      <td>20389440</td>\n",
       "      <td>181847.25</td>\n",
       "    </tr>\n",
       "    <tr>\n",
       "      <th>49</th>\n",
       "      <td>118448</td>\n",
       "      <td>144262.85</td>\n",
       "      <td>153871225.0</td>\n",
       "      <td>33341880</td>\n",
       "      <td>270287.03</td>\n",
       "    </tr>\n",
       "    <tr>\n",
       "      <th>50</th>\n",
       "      <td>105446</td>\n",
       "      <td>51191.06</td>\n",
       "      <td>111863691.0</td>\n",
       "      <td>22403460</td>\n",
       "      <td>207052.17</td>\n",
       "    </tr>\n",
       "    <tr>\n",
       "      <th>51</th>\n",
       "      <td>39272</td>\n",
       "      <td>26339.75</td>\n",
       "      <td>28713439.0</td>\n",
       "      <td>9252030</td>\n",
       "      <td>89770.57</td>\n",
       "    </tr>\n",
       "    <tr>\n",
       "      <th>54</th>\n",
       "      <td>73491</td>\n",
       "      <td>60913.67</td>\n",
       "      <td>81041033.0</td>\n",
       "      <td>15424370</td>\n",
       "      <td>93720.93</td>\n",
       "    </tr>\n",
       "  </tbody>\n",
       "</table>\n",
       "</div>"
      ],
      "text/plain": [
       "           Quantity  UnitPrice   CustomerID      Year    Revenue\n",
       "week_year                                                       \n",
       "48            79062   38727.19  122249393.0  20389440  181847.25\n",
       "49           118448  144262.85  153871225.0  33341880  270287.03\n",
       "50           105446   51191.06  111863691.0  22403460  207052.17\n",
       "51            39272   26339.75   28713439.0   9252030   89770.57\n",
       "54            73491   60913.67   81041033.0  15424370   93720.93"
      ]
     },
     "execution_count": 30,
     "metadata": {},
     "output_type": "execute_result"
    }
   ],
   "source": [
    "time_df.head()"
   ]
  },
  {
   "cell_type": "code",
   "execution_count": 31,
   "metadata": {},
   "outputs": [
    {
     "data": {
      "text/plain": [
       "week_year\n",
       "48    12.110922\n",
       "49    12.507240\n",
       "50    12.240726\n",
       "51    11.405012\n",
       "54    11.448077\n",
       "55    12.160002\n",
       "56    11.803974\n",
       "57    11.688028\n",
       "58    11.725147\n",
       "59    11.535635\n",
       "Name: Revenue, dtype: float64"
      ]
     },
     "execution_count": 31,
     "metadata": {},
     "output_type": "execute_result"
    }
   ],
   "source": [
    "log_revenue = np.log(time_df.Revenue)\n",
    "log_revenue[0:10]"
   ]
  },
  {
   "cell_type": "code",
   "execution_count": 32,
   "metadata": {},
   "outputs": [
    {
     "data": {
      "text/plain": [
       "[<matplotlib.lines.Line2D at 0x218ba695d68>]"
      ]
     },
     "execution_count": 32,
     "metadata": {},
     "output_type": "execute_result"
    },
    {
     "data": {
      "image/png": "[encoded data removed]",
      "text/plain": [
       "<Figure size 432x288 with 1 Axes>"
      ]
     },
     "metadata": {
      "needs_background": "light"
     },
     "output_type": "display_data"
    }
   ],
   "source": [
    "#Let us see the original data spread\n",
    "plt.plot(log_revenue)"
   ]
  },
  {
   "cell_type": "markdown",
   "metadata": {},
   "source": [
    "Still, we do not see a major difference in the variance. Let us do a <b>first-order differencing</b> on the time series and see if it helps."
   ]
  },
  {
   "cell_type": "code",
   "execution_count": 33,
   "metadata": {},
   "outputs": [],
   "source": [
    "log_revenue_diff = log_revenue - log_revenue.shift()"
   ]
  },
  {
   "cell_type": "code",
   "execution_count": 34,
   "metadata": {},
   "outputs": [
    {
     "data": {
      "text/plain": [
       "week_year\n",
       "50   -0.266514\n",
       "51   -0.835714\n",
       "54    0.043064\n",
       "55    0.711926\n",
       "56   -0.356029\n",
       "57   -0.115946\n",
       "58    0.037119\n",
       "59   -0.189512\n",
       "60    0.311364\n",
       "Name: Revenue, dtype: float64"
      ]
     },
     "execution_count": 34,
     "metadata": {},
     "output_type": "execute_result"
    }
   ],
   "source": [
    "log_revenue_diff.dropna(inplace=True)\n",
    "log_revenue_diff[1:10]"
   ]
  },
  {
   "cell_type": "code",
   "execution_count": 35,
   "metadata": {},
   "outputs": [
    {
     "data": {
      "text/plain": [
       "[<matplotlib.lines.Line2D at 0x218ba6b1668>]"
      ]
     },
     "execution_count": 35,
     "metadata": {},
     "output_type": "execute_result"
    },
    {
     "data": {
      "image/png": "[encoded data removed]",
      "text/plain": [
       "<Figure size 432x288 with 1 Axes>"
      ]
     },
     "metadata": {
      "needs_background": "light"
     },
     "output_type": "display_data"
    }
   ],
   "source": [
    "#Data after log normalizing & 1st order differencing\n",
    "plt.plot(log_revenue_diff)"
   ]
  },
  {
   "cell_type": "markdown",
   "metadata": {},
   "source": [
    "First-order differencing slightly normalized the variance. You can try second-order and third-order differencing to further normalize the variance."
   ]
  },
  {
   "cell_type": "markdown",
   "metadata": {},
   "source": [
    "## Stationarity Test\n",
    "\n",
    "Visualizations can only provide so much information about a Time Series. Let us apply <b>Dickey Fuller test</b> to verify if the timeseries is stationary or not."
   ]
  },
  {
   "cell_type": "code",
   "execution_count": 36,
   "metadata": {},
   "outputs": [],
   "source": [
    "from statsmodels.tsa.stattools import adfuller"
   ]
  },
  {
   "cell_type": "code",
   "execution_count": 37,
   "metadata": {},
   "outputs": [],
   "source": [
    "#ceating a function to test wheather the time series is stationary or not\n",
    "def test_stationarity(timeseries):\n",
    "    \n",
    "    #Determing rolling statistics\n",
    "    rolmean = timeseries.rolling(window=12,center=False).mean() \n",
    "    rolstd = timeseries.rolling(window=12,center=False).std()\n",
    "\n",
    "    #Plot rolling statistics:\n",
    "    orig = plt.plot(timeseries, color='blue',label='Original')\n",
    "    mean = plt.plot(rolmean, color='red', label='Rolling Mean')\n",
    "    std = plt.plot(rolstd, color='black', label = 'Rolling Std')\n",
    "    plt.legend(loc='best')\n",
    "    plt.title('Rolling Mean & Standard Deviation')\n",
    "    plt.show(block=False)\n",
    "    \n",
    "    #Perform Dickey-Fuller test:\n",
    "    print('Results of Dickey-Fuller Test:')\n",
    "    dftest = adfuller(timeseries, autolag='AIC')\n",
    "    dfoutput = pd.Series(dftest[0:4], index=['Test Statistic','p-value','#Lags Used','Number of Observations Used'])\n",
    "    for key,value in dftest[4].items():\n",
    "        dfoutput['Critical Value (%s)'%key] = value\n",
    "    print(dfoutput)"
   ]
  },
  {
   "cell_type": "code",
   "execution_count": 38,
   "metadata": {},
   "outputs": [
    {
     "data": {
      "image/png": "[encoded data removed]",
      "text/plain": [
       "<Figure size 432x288 with 1 Axes>"
      ]
     },
     "metadata": {
      "needs_background": "light"
     },
     "output_type": "display_data"
    },
    {
     "name": "stdout",
     "output_type": "stream",
     "text": [
      "Results of Dickey-Fuller Test:\n",
      "Test Statistic                 -3.036167\n",
      "p-value                         0.031652\n",
      "#Lags Used                      6.000000\n",
      "Number of Observations Used    22.000000\n",
      "Critical Value (1%)            -3.769733\n",
      "Critical Value (5%)            -3.005426\n",
      "Critical Value (10%)           -2.642501\n",
      "dtype: float64\n"
     ]
    }
   ],
   "source": [
    "test_stationarity(log_revenue_diff)"
   ]
  },
  {
   "cell_type": "markdown",
   "metadata": {},
   "source": [
    "Since the p-value is less than 0.05, we reject the null hypothesis that the Time Series is not stationary. We are dealing with a stationary time series and the differenced value(d) is 1. "
   ]
  },
  {
   "cell_type": "markdown",
   "metadata": {},
   "source": [
    "## Forecast Revenue using ARIMA model\n",
    "\n",
    "In order to forecast revenue using ARIMA, we need to find the <b>(p,d,q)</b> values. From the above analysis, we already know the 'd' value to be 2."
   ]
  },
  {
   "cell_type": "code",
   "execution_count": 39,
   "metadata": {},
   "outputs": [
    {
     "name": "stderr",
     "output_type": "stream",
     "text": [
      "C:\\Users\\Prerna\\Anaconda3\\lib\\site-packages\\statsmodels\\tsa\\stattools.py:541: FutureWarning: fft=True will become the default in a future version of statsmodels. To suppress this warning, explicitly set fft=False.\n",
      "  warnings.warn(msg, FutureWarning)\n",
      "C:\\Users\\Prerna\\Anaconda3\\lib\\site-packages\\statsmodels\\regression\\linear_model.py:1358: RuntimeWarning: invalid value encountered in sqrt\n",
      "  return rho, np.sqrt(sigmasq)\n"
     ]
    }
   ],
   "source": [
    "from statsmodels.tsa.stattools import adfuller, acf, pacf\n",
    "lag_acf = acf(log_revenue_diff.values, nlags = 20)\n",
    "lag_pacf = pacf(log_revenue_diff.values, nlags = 20)"
   ]
  },
  {
   "cell_type": "code",
   "execution_count": 40,
   "metadata": {},
   "outputs": [
    {
     "data": {
      "text/plain": [
       "<matplotlib.lines.Line2D at 0x218ba9b3c18>"
      ]
     },
     "execution_count": 40,
     "metadata": {},
     "output_type": "execute_result"
    },
    {
     "data": {
      "image/png": "[encoded data removed]",
      "text/plain": [
       "<Figure size 432x288 with 1 Axes>"
      ]
     },
     "metadata": {
      "needs_background": "light"
     },
     "output_type": "display_data"
    }
   ],
   "source": [
    "plt.subplot(121) \n",
    "plt.plot(lag_acf)\n",
    "plt.axhline(y=0,linestyle='--')\n",
    "plt.axhline(y=-1.96/np.sqrt(len(log_revenue_diff)),linestyle='--')\n",
    "plt.axhline(y=1.96/np.sqrt(len(log_revenue_diff)),linestyle='--')"
   ]
  },
  {
   "cell_type": "markdown",
   "metadata": {},
   "source": [
    "From the above <b>'ACF'</b> plot, we can conclude that the <b>'q'</b> value is 2."
   ]
  },
  {
   "cell_type": "code",
   "execution_count": 41,
   "metadata": {},
   "outputs": [
    {
     "data": {
      "text/plain": [
       "<matplotlib.lines.Line2D at 0x218ba9d09e8>"
      ]
     },
     "execution_count": 41,
     "metadata": {},
     "output_type": "execute_result"
    },
    {
     "data": {
      "image/png": "[encoded data removed]",
      "text/plain": [
       "<Figure size 432x288 with 1 Axes>"
      ]
     },
     "metadata": {
      "needs_background": "light"
     },
     "output_type": "display_data"
    }
   ],
   "source": [
    "plt.subplot(121) \n",
    "plt.plot(lag_pacf)\n",
    "plt.axhline(y=0,linestyle='--')\n",
    "plt.axhline(y=-1.96/np.sqrt(len(log_revenue_diff)),linestyle='--')\n",
    "plt.axhline(y=1.96/np.sqrt(len(log_revenue_diff)),linestyle='--')"
   ]
  },
  {
   "cell_type": "markdown",
   "metadata": {},
   "source": [
    "From the above <b>'PACF'</b> plot, we can conclude that the <b>'p'</b> value is 0.\n",
    "\n",
    "Let us now build the ARIMA model with the (p,d,q) values as (0,1,2)"
   ]
  },
  {
   "cell_type": "code",
   "execution_count": 42,
   "metadata": {},
   "outputs": [],
   "source": [
    "from statsmodels.tsa.arima_model import ARIMA"
   ]
  },
  {
   "cell_type": "code",
   "execution_count": 43,
   "metadata": {},
   "outputs": [
    {
     "name": "stderr",
     "output_type": "stream",
     "text": [
      "C:\\Users\\Prerna\\Anaconda3\\lib\\site-packages\\statsmodels\\tsa\\base\\tsa_model.py:215: ValueWarning: An unsupported index was provided and will be ignored when e.g. forecasting.\n",
      "  ' ignored when e.g. forecasting.', ValueWarning)\n",
      "C:\\Users\\Prerna\\Anaconda3\\lib\\site-packages\\statsmodels\\tsa\\base\\tsa_model.py:215: ValueWarning: An unsupported index was provided and will be ignored when e.g. forecasting.\n",
      "  ' ignored when e.g. forecasting.', ValueWarning)\n"
     ]
    },
    {
     "data": {
      "text/plain": [
       "Text(0.5, 1.0, 'RSS: 1.9771')"
      ]
     },
     "execution_count": 43,
     "metadata": {},
     "output_type": "execute_result"
    },
    {
     "data": {
      "image/png": "[encoded data removed]",
      "text/plain": [
       "<Figure size 432x288 with 1 Axes>"
      ]
     },
     "metadata": {
      "needs_background": "light"
     },
     "output_type": "display_data"
    }
   ],
   "source": [
    "# ARIMA model\n",
    "model = ARIMA(log_revenue, order=(0, 1, 2))  \n",
    "results_ARIMA = model.fit(disp=-1)  \n",
    "plt.plot(log_revenue_diff)\n",
    "plt.plot(results_ARIMA.fittedvalues, color='red')\n",
    "plt.title('RSS: %.4f'% sum((results_ARIMA.fittedvalues-log_revenue_diff)**2))"
   ]
  },
  {
   "cell_type": "markdown",
   "metadata": {},
   "source": [
    "Let us store the ARIMA model predictions in a Series object."
   ]
  },
  {
   "cell_type": "code",
   "execution_count": 44,
   "metadata": {},
   "outputs": [
    {
     "name": "stdout",
     "output_type": "stream",
     "text": [
      "week_year\n",
      "49   -0.000488\n",
      "50   -0.041364\n",
      "51   -0.125267\n",
      "54    0.228880\n",
      "55    0.384337\n",
      "dtype: float64\n"
     ]
    }
   ],
   "source": [
    "predictions_ARIMA_diff = pd.Series(results_ARIMA.fittedvalues, copy=True)\n",
    "print(predictions_ARIMA_diff.head())"
   ]
  },
  {
   "cell_type": "markdown",
   "metadata": {},
   "source": [
    "As we need to forecast the <b>actual revenue numbers</b>, we need to renormalize the obtained values. Let us first calculate the <b>cumulative sum of the log differences.</b>"
   ]
  },
  {
   "cell_type": "code",
   "execution_count": 45,
   "metadata": {},
   "outputs": [
    {
     "name": "stdout",
     "output_type": "stream",
     "text": [
      "week_year\n",
      "49   -0.000488\n",
      "50   -0.041853\n",
      "51   -0.167120\n",
      "54    0.061760\n",
      "55    0.446097\n",
      "dtype: float64\n"
     ]
    }
   ],
   "source": [
    "predictions_ARIMA_diff_cumsum = predictions_ARIMA_diff.cumsum()\n",
    "print(predictions_ARIMA_diff_cumsum.head())"
   ]
  },
  {
   "cell_type": "markdown",
   "metadata": {},
   "source": [
    "Get the base revenue value from the <b>first week</b> in the dataset."
   ]
  },
  {
   "cell_type": "code",
   "execution_count": 46,
   "metadata": {},
   "outputs": [
    {
     "data": {
      "text/plain": [
       "12.110922327947232"
      ]
     },
     "execution_count": 46,
     "metadata": {},
     "output_type": "execute_result"
    }
   ],
   "source": [
    "log_revenue.iloc[0]"
   ]
  },
  {
   "cell_type": "markdown",
   "metadata": {},
   "source": [
    "Now add the cumulative sum values to the base value. We will obtain the log value for predicted revenues for all the weeks."
   ]
  },
  {
   "cell_type": "code",
   "execution_count": 47,
   "metadata": {},
   "outputs": [
    {
     "data": {
      "text/plain": [
       "week_year\n",
       "48    12.110922\n",
       "49    12.110434\n",
       "50    12.069070\n",
       "51    11.943802\n",
       "54    12.172683\n",
       "dtype: float64"
      ]
     },
     "execution_count": 47,
     "metadata": {},
     "output_type": "execute_result"
    }
   ],
   "source": [
    "predictions_ARIMA_log = pd.Series(log_revenue.iloc[0], index=log_revenue.index)\n",
    "predictions_ARIMA_log = predictions_ARIMA_log.add(predictions_ARIMA_diff_cumsum,fill_value=0)\n",
    "predictions_ARIMA_log.head()"
   ]
  },
  {
   "cell_type": "markdown",
   "metadata": {},
   "source": [
    "Now convert the log values obtained above to <b>actual revenue numbers</b> and plot the forecasted revenue alongside actual revenue."
   ]
  },
  {
   "cell_type": "code",
   "execution_count": 48,
   "metadata": {},
   "outputs": [
    {
     "name": "stdout",
     "output_type": "stream",
     "text": [
      "week_year\n",
      "48    181847.250\n",
      "49    270287.030\n",
      "50    207052.170\n",
      "51     89770.570\n",
      "54     93720.930\n",
      "55    190994.960\n",
      "56    133782.910\n",
      "57    119136.810\n",
      "58    123642.180\n",
      "59    102296.930\n",
      "60    139664.580\n",
      "61    133069.930\n",
      "62    130435.560\n",
      "63    129180.960\n",
      "64    145262.610\n",
      "65    147909.800\n",
      "66    183501.710\n",
      "67    121598.220\n",
      "68    147459.771\n",
      "69    115461.250\n",
      "70     84382.660\n",
      "71    130354.310\n",
      "72    205445.230\n",
      "73    198031.530\n",
      "74    160569.820\n",
      "75    116932.520\n",
      "76    177916.870\n",
      "77    184016.500\n",
      "78    117086.710\n",
      "79    136287.440\n",
      "Name: Revenue, dtype: float64\n"
     ]
    }
   ],
   "source": [
    "#Actual Revenue\n",
    "print (time_df.Revenue)"
   ]
  },
  {
   "cell_type": "code",
   "execution_count": 49,
   "metadata": {},
   "outputs": [
    {
     "name": "stdout",
     "output_type": "stream",
     "text": [
      "week_year\n",
      "48    181847.250000\n",
      "49    181758.459908\n",
      "50    174393.507293\n",
      "51    153860.619000\n",
      "54    193432.233124\n",
      "55    284082.269559\n",
      "56    286620.036209\n",
      "57    266577.943153\n",
      "58    326589.392607\n",
      "59    350782.010699\n",
      "60    415140.333353\n",
      "61    457953.984148\n",
      "62    443120.973688\n",
      "63    478548.777707\n",
      "64    488548.199561\n",
      "65    496497.907005\n",
      "66    469547.566621\n",
      "67    427526.719972\n",
      "68    408159.447020\n",
      "69    450469.474593\n",
      "70    442298.822429\n",
      "71    597161.518552\n",
      "72    674828.510267\n",
      "73    554730.562093\n",
      "74    432204.121520\n",
      "75    388334.999576\n",
      "76    408932.583649\n",
      "77    404554.102284\n",
      "78    321154.309375\n",
      "79    338885.167184\n",
      "dtype: float64\n"
     ]
    },
    {
     "data": {
      "text/plain": [
       "[<matplotlib.lines.Line2D at 0x218ba9bea58>]"
      ]
     },
     "execution_count": 49,
     "metadata": {},
     "output_type": "execute_result"
    },
    {
     "data": {
      "image/png": "[encoded data removed]",
      "text/plain": [
       "<Figure size 432x288 with 1 Axes>"
      ]
     },
     "metadata": {
      "needs_background": "light"
     },
     "output_type": "display_data"
    }
   ],
   "source": [
    "predictions_ARIMA = np.exp(predictions_ARIMA_log)\n",
    "print (predictions_ARIMA)\n",
    "plt.plot(time_df.Revenue)\n",
    "plt.plot(predictions_ARIMA)"
   ]
  },
  {
   "cell_type": "markdown",
   "metadata": {},
   "source": [
    "Above plot showcases the <b>forecasted revenue</b> from the ARIMA model in 'Yellow'. As you can see, our forecast was able to capture the trend but did not capture the level. This is due to the dataset being small and also the fact that between weeks <b>51-55</b>, a lot of volatility seems to be present in the sales. This might be due to sales waning after the festive period. We need more data to model this volatility and make our forecast more accurate. "
   ]
  }
 ],
 "metadata": {
  "kernelspec": {
   "display_name": "Python 3",
   "language": "python",
   "name": "python3"
  },
  "language_info": {
   "codemirror_mode": {
    "name": "ipython",
    "version": 3
   },
   "file_extension": ".py",
   "mimetype": "text/x-python",
   "name": "python",
   "nbconvert_exporter": "python",
   "pygments_lexer": "ipython3",
   "version": "3.7.3"
  }
 },
 "nbformat": 4,
 "nbformat_minor": 2
}
