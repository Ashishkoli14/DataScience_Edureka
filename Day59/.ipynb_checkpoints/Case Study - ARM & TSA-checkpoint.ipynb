{
 "cells": [
  {
   "cell_type": "markdown",
   "metadata": {},
   "source": [
    "<h2> Case Study: Association Rule Mining and Time Series Analysis on Retail Store Data </h2>\n",
    "\n",
    "In this case study, you will perform Association Rule Mining on data to discover the rules that govern purchases in the store.\n",
    "Moreover, you will be performing Time Series Analysis to understand how the store's revenue is changing with time."
   ]
  },
  {
   "cell_type": "markdown",
   "metadata": {},
   "source": [
    "## Discovering purchasing patterns using Market Basket Analysis"
   ]
  },
  {
   "cell_type": "code",
   "execution_count": 1,
   "metadata": {},
   "outputs": [],
   "source": [
    "#Import the required libraries\n",
    "import numpy as np\n",
    "import pandas as pd\n",
    "from mlxtend.frequent_patterns import apriori\n",
    "from mlxtend.frequent_patterns import association_rules\n",
    "import matplotlib.pyplot as plt\n",
    "import matplotlib"
   ]
  },
  {
   "cell_type": "code",
   "execution_count": 2,
   "metadata": {},
   "outputs": [
    {
     "name": "stdout",
     "output_type": "stream",
     "text": [
      "  InvoiceNo StockCode                          Description  Quantity  \\\n",
      "0    536365    85123A   WHITE HANGING HEART T-LIGHT HOLDER         6   \n",
      "1    536365     71053                  WHITE METAL LANTERN         6   \n",
      "2    536365    84406B       CREAM CUPID HEARTS COAT HANGER         8   \n",
      "3    536365    84029G  KNITTED UNION FLAG HOT WATER BOTTLE         6   \n",
      "4    536365    84029E       RED WOOLLY HOTTIE WHITE HEART.         6   \n",
      "\n",
      "      InvoiceDate  UnitPrice  CustomerID         Country  \n",
      "0  12/1/2010 8:26       2.55     17850.0  United Kingdom  \n",
      "1  12/1/2010 8:26       3.39     17850.0  United Kingdom  \n",
      "2  12/1/2010 8:26       2.75     17850.0  United Kingdom  \n",
      "3  12/1/2010 8:26       3.39     17850.0  United Kingdom  \n",
      "4  12/1/2010 8:26       3.39     17850.0  United Kingdom  \n"
     ]
    }
   ],
   "source": [
    "#Read the uploaded csv file\n",
    "data = pd.read_csv(\"data.csv\",encoding = \"ISO-8859-1\")\n",
    "print (data.head())"
   ]
  },
  {
   "cell_type": "code",
   "execution_count": 3,
   "metadata": {},
   "outputs": [
    {
     "data": {
      "text/plain": [
       "(541909, 8)"
      ]
     },
     "execution_count": 3,
     "metadata": {},
     "output_type": "execute_result"
    }
   ],
   "source": [
    "data.shape"
   ]
  },
  {
   "cell_type": "markdown",
   "metadata": {},
   "source": [
    "## Exploratory Data Analysis\n",
    "\n",
    "Since this is a huge dataset, let us understand the number of <b>unique transactions</b> in the dataset."
   ]
  },
  {
   "cell_type": "code",
   "execution_count": 4,
   "metadata": {},
   "outputs": [
    {
     "data": {
      "text/plain": [
       "25900"
      ]
     },
     "execution_count": 4,
     "metadata": {},
     "output_type": "execute_result"
    }
   ],
   "source": [
    "len(data.groupby(['InvoiceNo'])['Quantity'].count())"
   ]
  },
  {
   "cell_type": "markdown",
   "metadata": {},
   "source": [
    "Who is the <b>highest billed</b> customer?"
   ]
  },
  {
   "cell_type": "code",
   "execution_count": 5,
   "metadata": {},
   "outputs": [
    {
     "data": {
      "text/html": [
       "<div>\n",
       "<style scoped>\n",
       "    .dataframe tbody tr th:only-of-type {\n",
       "        vertical-align: middle;\n",
       "    }\n",
       "\n",
       "    .dataframe tbody tr th {\n",
       "        vertical-align: top;\n",
       "    }\n",
       "\n",
       "    .dataframe thead th {\n",
       "        text-align: right;\n",
       "    }\n",
       "</style>\n",
       "<table border=\"1\" class=\"dataframe\">\n",
       "  <thead>\n",
       "    <tr style=\"text-align: right;\">\n",
       "      <th></th>\n",
       "      <th>CustomerID</th>\n",
       "      <th>UnitPrice</th>\n",
       "    </tr>\n",
       "  </thead>\n",
       "  <tbody>\n",
       "    <tr>\n",
       "      <th>1300</th>\n",
       "      <td>14096.0</td>\n",
       "      <td>41376.33</td>\n",
       "    </tr>\n",
       "    <tr>\n",
       "      <th>2027</th>\n",
       "      <td>15098.0</td>\n",
       "      <td>40278.90</td>\n",
       "    </tr>\n",
       "    <tr>\n",
       "      <th>1895</th>\n",
       "      <td>14911.0</td>\n",
       "      <td>31060.66</td>\n",
       "    </tr>\n",
       "    <tr>\n",
       "      <th>328</th>\n",
       "      <td>12744.0</td>\n",
       "      <td>25108.89</td>\n",
       "    </tr>\n",
       "    <tr>\n",
       "      <th>2722</th>\n",
       "      <td>16029.0</td>\n",
       "      <td>24111.14</td>\n",
       "    </tr>\n",
       "  </tbody>\n",
       "</table>\n",
       "</div>"
      ],
      "text/plain": [
       "      CustomerID  UnitPrice\n",
       "1300     14096.0   41376.33\n",
       "2027     15098.0   40278.90\n",
       "1895     14911.0   31060.66\n",
       "328      12744.0   25108.89\n",
       "2722     16029.0   24111.14"
      ]
     },
     "execution_count": 5,
     "metadata": {},
     "output_type": "execute_result"
    }
   ],
   "source": [
    "max_buy = pd.DataFrame(data.groupby(['CustomerID'])['UnitPrice'].sum().reset_index())\n",
    "max_buy = max_buy.sort_values(by='UnitPrice', ascending=False)\n",
    "max_buy.head()"
   ]
  },
  {
   "cell_type": "code",
   "execution_count": 6,
   "metadata": {},
   "outputs": [
    {
     "data": {
      "text/html": [
       "<div>\n",
       "<style scoped>\n",
       "    .dataframe tbody tr th:only-of-type {\n",
       "        vertical-align: middle;\n",
       "    }\n",
       "\n",
       "    .dataframe tbody tr th {\n",
       "        vertical-align: top;\n",
       "    }\n",
       "\n",
       "    .dataframe thead th {\n",
       "        text-align: right;\n",
       "    }\n",
       "</style>\n",
       "<table border=\"1\" class=\"dataframe\">\n",
       "  <thead>\n",
       "    <tr style=\"text-align: right;\">\n",
       "      <th></th>\n",
       "      <th>InvoiceNo</th>\n",
       "      <th>StockCode</th>\n",
       "      <th>Description</th>\n",
       "      <th>Quantity</th>\n",
       "      <th>InvoiceDate</th>\n",
       "      <th>UnitPrice</th>\n",
       "      <th>CustomerID</th>\n",
       "      <th>Country</th>\n",
       "    </tr>\n",
       "  </thead>\n",
       "  <tbody>\n",
       "    <tr>\n",
       "      <th>528082</th>\n",
       "      <td>580727</td>\n",
       "      <td>DOT</td>\n",
       "      <td>DOTCOM POSTAGE</td>\n",
       "      <td>1</td>\n",
       "      <td>12/5/2011 17:17</td>\n",
       "      <td>1599.26</td>\n",
       "      <td>14096.0</td>\n",
       "      <td>United Kingdom</td>\n",
       "    </tr>\n",
       "    <tr>\n",
       "      <th>508459</th>\n",
       "      <td>579196</td>\n",
       "      <td>DOT</td>\n",
       "      <td>DOTCOM POSTAGE</td>\n",
       "      <td>1</td>\n",
       "      <td>11/28/2011 15:54</td>\n",
       "      <td>1526.76</td>\n",
       "      <td>14096.0</td>\n",
       "      <td>United Kingdom</td>\n",
       "    </tr>\n",
       "    <tr>\n",
       "      <th>467436</th>\n",
       "      <td>576339</td>\n",
       "      <td>DOT</td>\n",
       "      <td>DOTCOM POSTAGE</td>\n",
       "      <td>1</td>\n",
       "      <td>11/14/2011 15:27</td>\n",
       "      <td>1500.36</td>\n",
       "      <td>14096.0</td>\n",
       "      <td>United Kingdom</td>\n",
       "    </tr>\n",
       "    <tr>\n",
       "      <th>494728</th>\n",
       "      <td>578270</td>\n",
       "      <td>DOT</td>\n",
       "      <td>DOTCOM POSTAGE</td>\n",
       "      <td>1</td>\n",
       "      <td>11/23/2011 13:39</td>\n",
       "      <td>1270.06</td>\n",
       "      <td>14096.0</td>\n",
       "      <td>United Kingdom</td>\n",
       "    </tr>\n",
       "    <tr>\n",
       "      <th>528087</th>\n",
       "      <td>C580726</td>\n",
       "      <td>CRUK</td>\n",
       "      <td>CRUK Commission</td>\n",
       "      <td>-1</td>\n",
       "      <td>12/5/2011 17:17</td>\n",
       "      <td>1100.44</td>\n",
       "      <td>14096.0</td>\n",
       "      <td>United Kingdom</td>\n",
       "    </tr>\n",
       "  </tbody>\n",
       "</table>\n",
       "</div>"
      ],
      "text/plain": [
       "       InvoiceNo StockCode      Description  Quantity       InvoiceDate  \\\n",
       "528082    580727       DOT   DOTCOM POSTAGE         1   12/5/2011 17:17   \n",
       "508459    579196       DOT   DOTCOM POSTAGE         1  11/28/2011 15:54   \n",
       "467436    576339       DOT   DOTCOM POSTAGE         1  11/14/2011 15:27   \n",
       "494728    578270       DOT   DOTCOM POSTAGE         1  11/23/2011 13:39   \n",
       "528087   C580726      CRUK  CRUK Commission        -1   12/5/2011 17:17   \n",
       "\n",
       "        UnitPrice  CustomerID         Country  \n",
       "528082    1599.26     14096.0  United Kingdom  \n",
       "508459    1526.76     14096.0  United Kingdom  \n",
       "467436    1500.36     14096.0  United Kingdom  \n",
       "494728    1270.06     14096.0  United Kingdom  \n",
       "528087    1100.44     14096.0  United Kingdom  "
      ]
     },
     "execution_count": 6,
     "metadata": {},
     "output_type": "execute_result"
    }
   ],
   "source": [
    "#Let us take a look at the purchases made by the highest billed customer\n",
    "highest_cust = data[data['CustomerID']==14096]\n",
    "highest_cust = highest_cust.sort_values(by='UnitPrice', ascending=False)\n",
    "highest_cust.head()"
   ]
  },
  {
   "cell_type": "markdown",
   "metadata": {},
   "source": [
    "You can observe that products whose description is `DOTCOM POSTAGE`are priced really high."
   ]
  },
  {
   "cell_type": "markdown",
   "metadata": {},
   "source": [
    "## Feature Engineering\n",
    "\n",
    "In order to perform <b>Association Rule Mining</b>, we need the data to be in a <b>user*product matrix</b> format."
   ]
  },
  {
   "cell_type": "code",
   "execution_count": 7,
   "metadata": {},
   "outputs": [
    {
     "data": {
      "text/plain": [
       "(24446, 4223)"
      ]
     },
     "execution_count": 7,
     "metadata": {},
     "output_type": "execute_result"
    }
   ],
   "source": [
    "basket = pd.pivot_table(data,index='InvoiceNo', columns='Description',values='Quantity', fill_value=0)\n",
    "basket.shape"
   ]
  },
  {
   "cell_type": "markdown",
   "metadata": {},
   "source": [
    "For us, whether an item is present in a transaction is the only thing that matters. We do not care about the <b>no.of units sold</b> in a transaction for performing Association Rule Mining."
   ]
  },
  {
   "cell_type": "code",
   "execution_count": 8,
   "metadata": {},
   "outputs": [],
   "source": [
    "#This is a function to replace natural number with 1\n",
    "def encode_units(x):\n",
    "    if x <= 0:\n",
    "        return 0\n",
    "    if x >= 1:\n",
    "        return 1\n",
    "\n",
    "basket_sets = basket.applymap(encode_units)\n",
    "basket_sets.drop('POSTAGE', inplace=True, axis=1) #dropping off the records which have been posted\n"
   ]
  },
  {
   "cell_type": "markdown",
   "metadata": {},
   "source": [
    "Let us generate <b>'Frequent Item Sets'</b> by applying the <b>Apriori algorithm</b>. We will consider only those frequent item sets that have a support value greater than 0.03."
   ]
  },
  {
   "cell_type": "code",
   "execution_count": 9,
   "metadata": {},
   "outputs": [
    {
     "name": "stderr",
     "output_type": "stream",
     "text": [
      "C:\\Users\\Admin\\anaconda3\\lib\\site-packages\\mlxtend\\frequent_patterns\\fpcommon.py:110: DeprecationWarning: DataFrames with non-bool types result in worse computationalperformance and their support might be discontinued in the future.Please use a DataFrame with bool type\n",
      "  warnings.warn(\n"
     ]
    },
    {
     "data": {
      "text/html": [
       "<div>\n",
       "<style scoped>\n",
       "    .dataframe tbody tr th:only-of-type {\n",
       "        vertical-align: middle;\n",
       "    }\n",
       "\n",
       "    .dataframe tbody tr th {\n",
       "        vertical-align: top;\n",
       "    }\n",
       "\n",
       "    .dataframe thead th {\n",
       "        text-align: right;\n",
       "    }\n",
       "</style>\n",
       "<table border=\"1\" class=\"dataframe\">\n",
       "  <thead>\n",
       "    <tr style=\"text-align: right;\">\n",
       "      <th></th>\n",
       "      <th>support</th>\n",
       "      <th>itemsets</th>\n",
       "    </tr>\n",
       "  </thead>\n",
       "  <tbody>\n",
       "    <tr>\n",
       "      <th>0</th>\n",
       "      <td>0.039066</td>\n",
       "      <td>(6 RIBBONS RUSTIC CHARM)</td>\n",
       "    </tr>\n",
       "    <tr>\n",
       "      <th>1</th>\n",
       "      <td>0.033871</td>\n",
       "      <td>(60 TEATIME FAIRY CAKE CASES)</td>\n",
       "    </tr>\n",
       "    <tr>\n",
       "      <th>2</th>\n",
       "      <td>0.040088</td>\n",
       "      <td>(ALARM CLOCK BAKELIKE GREEN)</td>\n",
       "    </tr>\n",
       "    <tr>\n",
       "      <th>3</th>\n",
       "      <td>0.032030</td>\n",
       "      <td>(ALARM CLOCK BAKELIKE PINK)</td>\n",
       "    </tr>\n",
       "    <tr>\n",
       "      <th>4</th>\n",
       "      <td>0.042993</td>\n",
       "      <td>(ALARM CLOCK BAKELIKE RED )</td>\n",
       "    </tr>\n",
       "  </tbody>\n",
       "</table>\n",
       "</div>"
      ],
      "text/plain": [
       "    support                       itemsets\n",
       "0  0.039066       (6 RIBBONS RUSTIC CHARM)\n",
       "1  0.033871  (60 TEATIME FAIRY CAKE CASES)\n",
       "2  0.040088   (ALARM CLOCK BAKELIKE GREEN)\n",
       "3  0.032030    (ALARM CLOCK BAKELIKE PINK)\n",
       "4  0.042993    (ALARM CLOCK BAKELIKE RED )"
      ]
     },
     "execution_count": 9,
     "metadata": {},
     "output_type": "execute_result"
    }
   ],
   "source": [
    "frequent_itemsets = apriori(basket_sets, min_support=0.03, use_colnames=True)\n",
    "frequent_itemsets.head()"
   ]
  },
  {
   "cell_type": "markdown",
   "metadata": {},
   "source": [
    "Let us now generate the association rules from the dataset along with the <b>lift</b> and <b>confidence</b> values"
   ]
  },
  {
   "cell_type": "code",
   "execution_count": 10,
   "metadata": {},
   "outputs": [
    {
     "data": {
      "text/html": [
       "<div>\n",
       "<style scoped>\n",
       "    .dataframe tbody tr th:only-of-type {\n",
       "        vertical-align: middle;\n",
       "    }\n",
       "\n",
       "    .dataframe tbody tr th {\n",
       "        vertical-align: top;\n",
       "    }\n",
       "\n",
       "    .dataframe thead th {\n",
       "        text-align: right;\n",
       "    }\n",
       "</style>\n",
       "<table border=\"1\" class=\"dataframe\">\n",
       "  <thead>\n",
       "    <tr style=\"text-align: right;\">\n",
       "      <th></th>\n",
       "      <th>antecedents</th>\n",
       "      <th>consequents</th>\n",
       "      <th>antecedent support</th>\n",
       "      <th>consequent support</th>\n",
       "      <th>support</th>\n",
       "      <th>confidence</th>\n",
       "      <th>lift</th>\n",
       "      <th>leverage</th>\n",
       "      <th>conviction</th>\n",
       "      <th>zhangs_metric</th>\n",
       "    </tr>\n",
       "  </thead>\n",
       "  <tbody>\n",
       "    <tr>\n",
       "      <th>0</th>\n",
       "      <td>(ROSES REGENCY TEACUP AND SAUCER )</td>\n",
       "      <td>(GREEN REGENCY TEACUP AND SAUCER)</td>\n",
       "      <td>0.043606</td>\n",
       "      <td>0.041520</td>\n",
       "      <td>0.031416</td>\n",
       "      <td>0.720450</td>\n",
       "      <td>17.351850</td>\n",
       "      <td>0.029606</td>\n",
       "      <td>3.428656</td>\n",
       "      <td>0.985336</td>\n",
       "    </tr>\n",
       "    <tr>\n",
       "      <th>1</th>\n",
       "      <td>(GREEN REGENCY TEACUP AND SAUCER)</td>\n",
       "      <td>(ROSES REGENCY TEACUP AND SAUCER )</td>\n",
       "      <td>0.041520</td>\n",
       "      <td>0.043606</td>\n",
       "      <td>0.031416</td>\n",
       "      <td>0.756650</td>\n",
       "      <td>17.351850</td>\n",
       "      <td>0.029606</td>\n",
       "      <td>3.930120</td>\n",
       "      <td>0.983191</td>\n",
       "    </tr>\n",
       "    <tr>\n",
       "      <th>2</th>\n",
       "      <td>(JUMBO BAG RED RETROSPOT)</td>\n",
       "      <td>(JUMBO BAG PINK POLKADOT)</td>\n",
       "      <td>0.085576</td>\n",
       "      <td>0.049824</td>\n",
       "      <td>0.033748</td>\n",
       "      <td>0.394359</td>\n",
       "      <td>7.915034</td>\n",
       "      <td>0.029484</td>\n",
       "      <td>1.568878</td>\n",
       "      <td>0.955419</td>\n",
       "    </tr>\n",
       "    <tr>\n",
       "      <th>3</th>\n",
       "      <td>(JUMBO BAG PINK POLKADOT)</td>\n",
       "      <td>(JUMBO BAG RED RETROSPOT)</td>\n",
       "      <td>0.049824</td>\n",
       "      <td>0.085576</td>\n",
       "      <td>0.033748</td>\n",
       "      <td>0.677340</td>\n",
       "      <td>7.915034</td>\n",
       "      <td>0.029484</td>\n",
       "      <td>2.834015</td>\n",
       "      <td>0.919470</td>\n",
       "    </tr>\n",
       "  </tbody>\n",
       "</table>\n",
       "</div>"
      ],
      "text/plain": [
       "                          antecedents                         consequents  \\\n",
       "0  (ROSES REGENCY TEACUP AND SAUCER )   (GREEN REGENCY TEACUP AND SAUCER)   \n",
       "1   (GREEN REGENCY TEACUP AND SAUCER)  (ROSES REGENCY TEACUP AND SAUCER )   \n",
       "2           (JUMBO BAG RED RETROSPOT)           (JUMBO BAG PINK POLKADOT)   \n",
       "3           (JUMBO BAG PINK POLKADOT)           (JUMBO BAG RED RETROSPOT)   \n",
       "\n",
       "   antecedent support  consequent support   support  confidence       lift  \\\n",
       "0            0.043606            0.041520  0.031416    0.720450  17.351850   \n",
       "1            0.041520            0.043606  0.031416    0.756650  17.351850   \n",
       "2            0.085576            0.049824  0.033748    0.394359   7.915034   \n",
       "3            0.049824            0.085576  0.033748    0.677340   7.915034   \n",
       "\n",
       "   leverage  conviction  zhangs_metric  \n",
       "0  0.029606    3.428656       0.985336  \n",
       "1  0.029606    3.930120       0.983191  \n",
       "2  0.029484    1.568878       0.955419  \n",
       "3  0.029484    2.834015       0.919470  "
      ]
     },
     "execution_count": 10,
     "metadata": {},
     "output_type": "execute_result"
    }
   ],
   "source": [
    "rules = association_rules(frequent_itemsets, metric=\"lift\")\n",
    "rules"
   ]
  },
  {
   "cell_type": "markdown",
   "metadata": {},
   "source": [
    "We will only consider the most important rules - the ones which have <b>lift > 6</b> and <b>confidence > 0.8</b>"
   ]
  },
  {
   "cell_type": "code",
   "execution_count": 11,
   "metadata": {},
   "outputs": [
    {
     "data": {
      "text/html": [
       "<div>\n",
       "<style scoped>\n",
       "    .dataframe tbody tr th:only-of-type {\n",
       "        vertical-align: middle;\n",
       "    }\n",
       "\n",
       "    .dataframe tbody tr th {\n",
       "        vertical-align: top;\n",
       "    }\n",
       "\n",
       "    .dataframe thead th {\n",
       "        text-align: right;\n",
       "    }\n",
       "</style>\n",
       "<table border=\"1\" class=\"dataframe\">\n",
       "  <thead>\n",
       "    <tr style=\"text-align: right;\">\n",
       "      <th></th>\n",
       "      <th>antecedents</th>\n",
       "      <th>consequents</th>\n",
       "      <th>antecedent support</th>\n",
       "      <th>consequent support</th>\n",
       "      <th>support</th>\n",
       "      <th>confidence</th>\n",
       "      <th>lift</th>\n",
       "      <th>leverage</th>\n",
       "      <th>conviction</th>\n",
       "      <th>zhangs_metric</th>\n",
       "    </tr>\n",
       "  </thead>\n",
       "  <tbody>\n",
       "    <tr>\n",
       "      <th>0</th>\n",
       "      <td>(ROSES REGENCY TEACUP AND SAUCER )</td>\n",
       "      <td>(GREEN REGENCY TEACUP AND SAUCER)</td>\n",
       "      <td>0.043606</td>\n",
       "      <td>0.041520</td>\n",
       "      <td>0.031416</td>\n",
       "      <td>0.72045</td>\n",
       "      <td>17.351850</td>\n",
       "      <td>0.029606</td>\n",
       "      <td>3.428656</td>\n",
       "      <td>0.985336</td>\n",
       "    </tr>\n",
       "    <tr>\n",
       "      <th>1</th>\n",
       "      <td>(GREEN REGENCY TEACUP AND SAUCER)</td>\n",
       "      <td>(ROSES REGENCY TEACUP AND SAUCER )</td>\n",
       "      <td>0.041520</td>\n",
       "      <td>0.043606</td>\n",
       "      <td>0.031416</td>\n",
       "      <td>0.75665</td>\n",
       "      <td>17.351850</td>\n",
       "      <td>0.029606</td>\n",
       "      <td>3.930120</td>\n",
       "      <td>0.983191</td>\n",
       "    </tr>\n",
       "    <tr>\n",
       "      <th>3</th>\n",
       "      <td>(JUMBO BAG PINK POLKADOT)</td>\n",
       "      <td>(JUMBO BAG RED RETROSPOT)</td>\n",
       "      <td>0.049824</td>\n",
       "      <td>0.085576</td>\n",
       "      <td>0.033748</td>\n",
       "      <td>0.67734</td>\n",
       "      <td>7.915034</td>\n",
       "      <td>0.029484</td>\n",
       "      <td>2.834015</td>\n",
       "      <td>0.919470</td>\n",
       "    </tr>\n",
       "  </tbody>\n",
       "</table>\n",
       "</div>"
      ],
      "text/plain": [
       "                          antecedents                         consequents  \\\n",
       "0  (ROSES REGENCY TEACUP AND SAUCER )   (GREEN REGENCY TEACUP AND SAUCER)   \n",
       "1   (GREEN REGENCY TEACUP AND SAUCER)  (ROSES REGENCY TEACUP AND SAUCER )   \n",
       "3           (JUMBO BAG PINK POLKADOT)           (JUMBO BAG RED RETROSPOT)   \n",
       "\n",
       "   antecedent support  consequent support   support  confidence       lift  \\\n",
       "0            0.043606            0.041520  0.031416     0.72045  17.351850   \n",
       "1            0.041520            0.043606  0.031416     0.75665  17.351850   \n",
       "3            0.049824            0.085576  0.033748     0.67734   7.915034   \n",
       "\n",
       "   leverage  conviction  zhangs_metric  \n",
       "0  0.029606    3.428656       0.985336  \n",
       "1  0.029606    3.930120       0.983191  \n",
       "3  0.029484    2.834015       0.919470  "
      ]
     },
     "execution_count": 11,
     "metadata": {},
     "output_type": "execute_result"
    }
   ],
   "source": [
    "rules[ (rules['lift'] >= 6) &\n",
    "       (rules['confidence'] >= 0.6) ]"
   ]
  },
  {
   "cell_type": "markdown",
   "metadata": {},
   "source": [
    "From the above analysis, you can conclude that <b>Green Regency Teacup and Saucer</b> and <b>Roses Regency Teacup and Saucer</b> have been mostly bought together by customers. Also, you can show <b>Jumbo Bag red retrospot</b> as a possible product recommendation for customers who buy <b>Jumbo Bag Pink Polkadot.</b> \n",
    "\n",
    "This is the power of <b>Apriori Algorithm </b>- it helps you in discovering purchasing relationships by analysing your market basket data."
   ]
  },
  {
   "cell_type": "markdown",
   "metadata": {},
   "source": [
    "# Time Series Analysis\n",
    "\n",
    "Retailer was fascinated by the Market Basket Analysis and decided to further analyze the transaction data by performing <b>Time Series Analysis</b>. The goal is to understand how the store's <b>revenue</b> is changing with time."
   ]
  },
  {
   "cell_type": "markdown",
   "metadata": {},
   "source": [
    "## Data Preparation\n",
    "\n",
    "We need to convert the `InvoiceDate` column to a <b>datetime</b> column."
   ]
  },
  {
   "cell_type": "code",
   "execution_count": 12,
   "metadata": {},
   "outputs": [
    {
     "data": {
      "text/plain": [
       "0    12/1/2010 8:26\n",
       "1    12/1/2010 8:26\n",
       "2    12/1/2010 8:26\n",
       "3    12/1/2010 8:26\n",
       "4    12/1/2010 8:26\n",
       "Name: InvoiceDate, dtype: object"
      ]
     },
     "execution_count": 12,
     "metadata": {},
     "output_type": "execute_result"
    }
   ],
   "source": [
    "data.InvoiceDate.head()"
   ]
  },
  {
   "cell_type": "code",
   "execution_count": 13,
   "metadata": {},
   "outputs": [],
   "source": [
    "#Convert to datetime format\n",
    "data['Invoice_Date']=pd.to_datetime(data['InvoiceDate'])"
   ]
  },
  {
   "cell_type": "code",
   "execution_count": 14,
   "metadata": {},
   "outputs": [
    {
     "data": {
      "text/plain": [
       "0   2010-12-01 08:26:00\n",
       "1   2010-12-01 08:26:00\n",
       "2   2010-12-01 08:26:00\n",
       "3   2010-12-01 08:26:00\n",
       "4   2010-12-01 08:26:00\n",
       "Name: Invoice_Date, dtype: datetime64[ns]"
      ]
     },
     "execution_count": 14,
     "metadata": {},
     "output_type": "execute_result"
    }
   ],
   "source": [
    "data['Invoice_Date'].head()"
   ]
  },
  {
   "cell_type": "markdown",
   "metadata": {},
   "source": [
    "We will also extract the <b>week</b> and <b>year</b> details from the `Invoice_Date` column."
   ]
  },
  {
   "cell_type": "code",
   "execution_count": 15,
   "metadata": {},
   "outputs": [
    {
     "name": "stderr",
     "output_type": "stream",
     "text": [
      "C:\\Users\\Admin\\AppData\\Local\\Temp\\ipykernel_7492\\3178375496.py:1: FutureWarning: Series.dt.weekofyear and Series.dt.week have been deprecated. Please use Series.dt.isocalendar().week instead.\n",
      "  data['week_year']=data['Invoice_Date'].dt.week\n"
     ]
    }
   ],
   "source": [
    "data['week_year']=data['Invoice_Date'].dt.week"
   ]
  },
  {
   "cell_type": "code",
   "execution_count": 16,
   "metadata": {},
   "outputs": [],
   "source": [
    "data['Year'] = data['Invoice_Date'].dt.year"
   ]
  },
  {
   "cell_type": "code",
   "execution_count": 17,
   "metadata": {},
   "outputs": [
    {
     "data": {
      "text/html": [
       "<div>\n",
       "<style scoped>\n",
       "    .dataframe tbody tr th:only-of-type {\n",
       "        vertical-align: middle;\n",
       "    }\n",
       "\n",
       "    .dataframe tbody tr th {\n",
       "        vertical-align: top;\n",
       "    }\n",
       "\n",
       "    .dataframe thead th {\n",
       "        text-align: right;\n",
       "    }\n",
       "</style>\n",
       "<table border=\"1\" class=\"dataframe\">\n",
       "  <thead>\n",
       "    <tr style=\"text-align: right;\">\n",
       "      <th></th>\n",
       "      <th>InvoiceNo</th>\n",
       "      <th>StockCode</th>\n",
       "      <th>Description</th>\n",
       "      <th>Quantity</th>\n",
       "      <th>InvoiceDate</th>\n",
       "      <th>UnitPrice</th>\n",
       "      <th>CustomerID</th>\n",
       "      <th>Country</th>\n",
       "      <th>Invoice_Date</th>\n",
       "      <th>week_year</th>\n",
       "      <th>Year</th>\n",
       "    </tr>\n",
       "  </thead>\n",
       "  <tbody>\n",
       "    <tr>\n",
       "      <th>0</th>\n",
       "      <td>536365</td>\n",
       "      <td>85123A</td>\n",
       "      <td>WHITE HANGING HEART T-LIGHT HOLDER</td>\n",
       "      <td>6</td>\n",
       "      <td>12/1/2010 8:26</td>\n",
       "      <td>2.55</td>\n",
       "      <td>17850.0</td>\n",
       "      <td>United Kingdom</td>\n",
       "      <td>2010-12-01 08:26:00</td>\n",
       "      <td>48</td>\n",
       "      <td>2010</td>\n",
       "    </tr>\n",
       "    <tr>\n",
       "      <th>1</th>\n",
       "      <td>536365</td>\n",
       "      <td>71053</td>\n",
       "      <td>WHITE METAL LANTERN</td>\n",
       "      <td>6</td>\n",
       "      <td>12/1/2010 8:26</td>\n",
       "      <td>3.39</td>\n",
       "      <td>17850.0</td>\n",
       "      <td>United Kingdom</td>\n",
       "      <td>2010-12-01 08:26:00</td>\n",
       "      <td>48</td>\n",
       "      <td>2010</td>\n",
       "    </tr>\n",
       "    <tr>\n",
       "      <th>2</th>\n",
       "      <td>536365</td>\n",
       "      <td>84406B</td>\n",
       "      <td>CREAM CUPID HEARTS COAT HANGER</td>\n",
       "      <td>8</td>\n",
       "      <td>12/1/2010 8:26</td>\n",
       "      <td>2.75</td>\n",
       "      <td>17850.0</td>\n",
       "      <td>United Kingdom</td>\n",
       "      <td>2010-12-01 08:26:00</td>\n",
       "      <td>48</td>\n",
       "      <td>2010</td>\n",
       "    </tr>\n",
       "    <tr>\n",
       "      <th>3</th>\n",
       "      <td>536365</td>\n",
       "      <td>84029G</td>\n",
       "      <td>KNITTED UNION FLAG HOT WATER BOTTLE</td>\n",
       "      <td>6</td>\n",
       "      <td>12/1/2010 8:26</td>\n",
       "      <td>3.39</td>\n",
       "      <td>17850.0</td>\n",
       "      <td>United Kingdom</td>\n",
       "      <td>2010-12-01 08:26:00</td>\n",
       "      <td>48</td>\n",
       "      <td>2010</td>\n",
       "    </tr>\n",
       "    <tr>\n",
       "      <th>4</th>\n",
       "      <td>536365</td>\n",
       "      <td>84029E</td>\n",
       "      <td>RED WOOLLY HOTTIE WHITE HEART.</td>\n",
       "      <td>6</td>\n",
       "      <td>12/1/2010 8:26</td>\n",
       "      <td>3.39</td>\n",
       "      <td>17850.0</td>\n",
       "      <td>United Kingdom</td>\n",
       "      <td>2010-12-01 08:26:00</td>\n",
       "      <td>48</td>\n",
       "      <td>2010</td>\n",
       "    </tr>\n",
       "  </tbody>\n",
       "</table>\n",
       "</div>"
      ],
      "text/plain": [
       "  InvoiceNo StockCode                          Description  Quantity  \\\n",
       "0    536365    85123A   WHITE HANGING HEART T-LIGHT HOLDER         6   \n",
       "1    536365     71053                  WHITE METAL LANTERN         6   \n",
       "2    536365    84406B       CREAM CUPID HEARTS COAT HANGER         8   \n",
       "3    536365    84029G  KNITTED UNION FLAG HOT WATER BOTTLE         6   \n",
       "4    536365    84029E       RED WOOLLY HOTTIE WHITE HEART.         6   \n",
       "\n",
       "      InvoiceDate  UnitPrice  CustomerID         Country        Invoice_Date  \\\n",
       "0  12/1/2010 8:26       2.55     17850.0  United Kingdom 2010-12-01 08:26:00   \n",
       "1  12/1/2010 8:26       3.39     17850.0  United Kingdom 2010-12-01 08:26:00   \n",
       "2  12/1/2010 8:26       2.75     17850.0  United Kingdom 2010-12-01 08:26:00   \n",
       "3  12/1/2010 8:26       3.39     17850.0  United Kingdom 2010-12-01 08:26:00   \n",
       "4  12/1/2010 8:26       3.39     17850.0  United Kingdom 2010-12-01 08:26:00   \n",
       "\n",
       "   week_year  Year  \n",
       "0         48  2010  \n",
       "1         48  2010  \n",
       "2         48  2010  \n",
       "3         48  2010  \n",
       "4         48  2010  "
      ]
     },
     "execution_count": 17,
     "metadata": {},
     "output_type": "execute_result"
    }
   ],
   "source": [
    "data.head()"
   ]
  },
  {
   "cell_type": "code",
   "execution_count": 18,
   "metadata": {},
   "outputs": [
    {
     "data": {
      "text/html": [
       "<div>\n",
       "<style scoped>\n",
       "    .dataframe tbody tr th:only-of-type {\n",
       "        vertical-align: middle;\n",
       "    }\n",
       "\n",
       "    .dataframe tbody tr th {\n",
       "        vertical-align: top;\n",
       "    }\n",
       "\n",
       "    .dataframe thead th {\n",
       "        text-align: right;\n",
       "    }\n",
       "</style>\n",
       "<table border=\"1\" class=\"dataframe\">\n",
       "  <thead>\n",
       "    <tr style=\"text-align: right;\">\n",
       "      <th></th>\n",
       "      <th>InvoiceNo</th>\n",
       "      <th>StockCode</th>\n",
       "      <th>Description</th>\n",
       "      <th>Quantity</th>\n",
       "      <th>InvoiceDate</th>\n",
       "      <th>UnitPrice</th>\n",
       "      <th>CustomerID</th>\n",
       "      <th>Country</th>\n",
       "      <th>Invoice_Date</th>\n",
       "      <th>week_year</th>\n",
       "      <th>Year</th>\n",
       "    </tr>\n",
       "  </thead>\n",
       "  <tbody>\n",
       "    <tr>\n",
       "      <th>541904</th>\n",
       "      <td>581587</td>\n",
       "      <td>22613</td>\n",
       "      <td>PACK OF 20 SPACEBOY NAPKINS</td>\n",
       "      <td>12</td>\n",
       "      <td>12/9/2011 12:50</td>\n",
       "      <td>0.85</td>\n",
       "      <td>12680.0</td>\n",
       "      <td>France</td>\n",
       "      <td>2011-12-09 12:50:00</td>\n",
       "      <td>49</td>\n",
       "      <td>2011</td>\n",
       "    </tr>\n",
       "    <tr>\n",
       "      <th>541905</th>\n",
       "      <td>581587</td>\n",
       "      <td>22899</td>\n",
       "      <td>CHILDREN'S APRON DOLLY GIRL</td>\n",
       "      <td>6</td>\n",
       "      <td>12/9/2011 12:50</td>\n",
       "      <td>2.10</td>\n",
       "      <td>12680.0</td>\n",
       "      <td>France</td>\n",
       "      <td>2011-12-09 12:50:00</td>\n",
       "      <td>49</td>\n",
       "      <td>2011</td>\n",
       "    </tr>\n",
       "    <tr>\n",
       "      <th>541906</th>\n",
       "      <td>581587</td>\n",
       "      <td>23254</td>\n",
       "      <td>CHILDRENS CUTLERY DOLLY GIRL</td>\n",
       "      <td>4</td>\n",
       "      <td>12/9/2011 12:50</td>\n",
       "      <td>4.15</td>\n",
       "      <td>12680.0</td>\n",
       "      <td>France</td>\n",
       "      <td>2011-12-09 12:50:00</td>\n",
       "      <td>49</td>\n",
       "      <td>2011</td>\n",
       "    </tr>\n",
       "    <tr>\n",
       "      <th>541907</th>\n",
       "      <td>581587</td>\n",
       "      <td>23255</td>\n",
       "      <td>CHILDRENS CUTLERY CIRCUS PARADE</td>\n",
       "      <td>4</td>\n",
       "      <td>12/9/2011 12:50</td>\n",
       "      <td>4.15</td>\n",
       "      <td>12680.0</td>\n",
       "      <td>France</td>\n",
       "      <td>2011-12-09 12:50:00</td>\n",
       "      <td>49</td>\n",
       "      <td>2011</td>\n",
       "    </tr>\n",
       "    <tr>\n",
       "      <th>541908</th>\n",
       "      <td>581587</td>\n",
       "      <td>22138</td>\n",
       "      <td>BAKING SET 9 PIECE RETROSPOT</td>\n",
       "      <td>3</td>\n",
       "      <td>12/9/2011 12:50</td>\n",
       "      <td>4.95</td>\n",
       "      <td>12680.0</td>\n",
       "      <td>France</td>\n",
       "      <td>2011-12-09 12:50:00</td>\n",
       "      <td>49</td>\n",
       "      <td>2011</td>\n",
       "    </tr>\n",
       "  </tbody>\n",
       "</table>\n",
       "</div>"
      ],
      "text/plain": [
       "       InvoiceNo StockCode                      Description  Quantity  \\\n",
       "541904    581587     22613      PACK OF 20 SPACEBOY NAPKINS        12   \n",
       "541905    581587     22899     CHILDREN'S APRON DOLLY GIRL          6   \n",
       "541906    581587     23254    CHILDRENS CUTLERY DOLLY GIRL          4   \n",
       "541907    581587     23255  CHILDRENS CUTLERY CIRCUS PARADE         4   \n",
       "541908    581587     22138    BAKING SET 9 PIECE RETROSPOT          3   \n",
       "\n",
       "            InvoiceDate  UnitPrice  CustomerID Country        Invoice_Date  \\\n",
       "541904  12/9/2011 12:50       0.85     12680.0  France 2011-12-09 12:50:00   \n",
       "541905  12/9/2011 12:50       2.10     12680.0  France 2011-12-09 12:50:00   \n",
       "541906  12/9/2011 12:50       4.15     12680.0  France 2011-12-09 12:50:00   \n",
       "541907  12/9/2011 12:50       4.15     12680.0  France 2011-12-09 12:50:00   \n",
       "541908  12/9/2011 12:50       4.95     12680.0  France 2011-12-09 12:50:00   \n",
       "\n",
       "        week_year  Year  \n",
       "541904         49  2011  \n",
       "541905         49  2011  \n",
       "541906         49  2011  \n",
       "541907         49  2011  \n",
       "541908         49  2011  "
      ]
     },
     "execution_count": 18,
     "metadata": {},
     "output_type": "execute_result"
    }
   ],
   "source": [
    "data.tail()"
   ]
  },
  {
   "cell_type": "code",
   "execution_count": 19,
   "metadata": {},
   "outputs": [
    {
     "data": {
      "text/plain": [
       "array([ 1,  2,  3,  4,  5,  6,  7,  8,  9, 10, 11, 12, 13, 14, 15, 16, 17,\n",
       "       18, 19, 20, 21, 22, 23, 24, 25, 26, 27, 28, 29, 30, 31, 32, 33, 34,\n",
       "       35, 36, 37, 38, 39, 40, 41, 42, 43, 44, 45, 46, 47, 48, 49, 50, 51],\n",
       "      dtype=int64)"
      ]
     },
     "execution_count": 19,
     "metadata": {},
     "output_type": "execute_result"
    }
   ],
   "source": [
    "np.sort(data['week_year'].unique())"
   ]
  },
  {
   "cell_type": "markdown",
   "metadata": {},
   "source": [
    "If you notice, as the data is spread across two separate years, we need to maintain the <b>sequence</b> of week numbers."
   ]
  },
  {
   "cell_type": "code",
   "execution_count": 20,
   "metadata": {},
   "outputs": [],
   "source": [
    "data = data[((data.Year == 2011) & (data.week_year <= 26)) | ((data.Year ==2010) & (data.week_year >= 28))]"
   ]
  },
  {
   "cell_type": "code",
   "execution_count": 21,
   "metadata": {},
   "outputs": [],
   "source": [
    "import operator\n",
    "#Keeping the trend of the weeks in the data and hence adding 53 to the weeks of 2016. week_year is just an index\n",
    "data['week_year']=np.where((operator.and_(data['week_year']<=26, data['Year']==2011)),data['week_year']+53,data['week_year'])"
   ]
  },
  {
   "cell_type": "code",
   "execution_count": 22,
   "metadata": {},
   "outputs": [
    {
     "data": {
      "text/html": [
       "<div>\n",
       "<style scoped>\n",
       "    .dataframe tbody tr th:only-of-type {\n",
       "        vertical-align: middle;\n",
       "    }\n",
       "\n",
       "    .dataframe tbody tr th {\n",
       "        vertical-align: top;\n",
       "    }\n",
       "\n",
       "    .dataframe thead th {\n",
       "        text-align: right;\n",
       "    }\n",
       "</style>\n",
       "<table border=\"1\" class=\"dataframe\">\n",
       "  <thead>\n",
       "    <tr style=\"text-align: right;\">\n",
       "      <th></th>\n",
       "      <th>InvoiceNo</th>\n",
       "      <th>StockCode</th>\n",
       "      <th>Description</th>\n",
       "      <th>Quantity</th>\n",
       "      <th>InvoiceDate</th>\n",
       "      <th>UnitPrice</th>\n",
       "      <th>CustomerID</th>\n",
       "      <th>Country</th>\n",
       "      <th>Invoice_Date</th>\n",
       "      <th>week_year</th>\n",
       "      <th>Year</th>\n",
       "    </tr>\n",
       "  </thead>\n",
       "  <tbody>\n",
       "    <tr>\n",
       "      <th>0</th>\n",
       "      <td>536365</td>\n",
       "      <td>85123A</td>\n",
       "      <td>WHITE HANGING HEART T-LIGHT HOLDER</td>\n",
       "      <td>6</td>\n",
       "      <td>12/1/2010 8:26</td>\n",
       "      <td>2.55</td>\n",
       "      <td>17850.0</td>\n",
       "      <td>United Kingdom</td>\n",
       "      <td>2010-12-01 08:26:00</td>\n",
       "      <td>48</td>\n",
       "      <td>2010</td>\n",
       "    </tr>\n",
       "    <tr>\n",
       "      <th>1</th>\n",
       "      <td>536365</td>\n",
       "      <td>71053</td>\n",
       "      <td>WHITE METAL LANTERN</td>\n",
       "      <td>6</td>\n",
       "      <td>12/1/2010 8:26</td>\n",
       "      <td>3.39</td>\n",
       "      <td>17850.0</td>\n",
       "      <td>United Kingdom</td>\n",
       "      <td>2010-12-01 08:26:00</td>\n",
       "      <td>48</td>\n",
       "      <td>2010</td>\n",
       "    </tr>\n",
       "    <tr>\n",
       "      <th>2</th>\n",
       "      <td>536365</td>\n",
       "      <td>84406B</td>\n",
       "      <td>CREAM CUPID HEARTS COAT HANGER</td>\n",
       "      <td>8</td>\n",
       "      <td>12/1/2010 8:26</td>\n",
       "      <td>2.75</td>\n",
       "      <td>17850.0</td>\n",
       "      <td>United Kingdom</td>\n",
       "      <td>2010-12-01 08:26:00</td>\n",
       "      <td>48</td>\n",
       "      <td>2010</td>\n",
       "    </tr>\n",
       "    <tr>\n",
       "      <th>3</th>\n",
       "      <td>536365</td>\n",
       "      <td>84029G</td>\n",
       "      <td>KNITTED UNION FLAG HOT WATER BOTTLE</td>\n",
       "      <td>6</td>\n",
       "      <td>12/1/2010 8:26</td>\n",
       "      <td>3.39</td>\n",
       "      <td>17850.0</td>\n",
       "      <td>United Kingdom</td>\n",
       "      <td>2010-12-01 08:26:00</td>\n",
       "      <td>48</td>\n",
       "      <td>2010</td>\n",
       "    </tr>\n",
       "    <tr>\n",
       "      <th>4</th>\n",
       "      <td>536365</td>\n",
       "      <td>84029E</td>\n",
       "      <td>RED WOOLLY HOTTIE WHITE HEART.</td>\n",
       "      <td>6</td>\n",
       "      <td>12/1/2010 8:26</td>\n",
       "      <td>3.39</td>\n",
       "      <td>17850.0</td>\n",
       "      <td>United Kingdom</td>\n",
       "      <td>2010-12-01 08:26:00</td>\n",
       "      <td>48</td>\n",
       "      <td>2010</td>\n",
       "    </tr>\n",
       "    <tr>\n",
       "      <th>...</th>\n",
       "      <td>...</td>\n",
       "      <td>...</td>\n",
       "      <td>...</td>\n",
       "      <td>...</td>\n",
       "      <td>...</td>\n",
       "      <td>...</td>\n",
       "      <td>...</td>\n",
       "      <td>...</td>\n",
       "      <td>...</td>\n",
       "      <td>...</td>\n",
       "      <td>...</td>\n",
       "    </tr>\n",
       "    <tr>\n",
       "      <th>247527</th>\n",
       "      <td>558773</td>\n",
       "      <td>85135B</td>\n",
       "      <td>BLUE DRAGONFLY HELICOPTER</td>\n",
       "      <td>1</td>\n",
       "      <td>7/3/2011 16:00</td>\n",
       "      <td>7.95</td>\n",
       "      <td>17781.0</td>\n",
       "      <td>United Kingdom</td>\n",
       "      <td>2011-07-03 16:00:00</td>\n",
       "      <td>79</td>\n",
       "      <td>2011</td>\n",
       "    </tr>\n",
       "    <tr>\n",
       "      <th>247528</th>\n",
       "      <td>558773</td>\n",
       "      <td>85136A</td>\n",
       "      <td>YELLOW SHARK HELICOPTER</td>\n",
       "      <td>1</td>\n",
       "      <td>7/3/2011 16:00</td>\n",
       "      <td>7.95</td>\n",
       "      <td>17781.0</td>\n",
       "      <td>United Kingdom</td>\n",
       "      <td>2011-07-03 16:00:00</td>\n",
       "      <td>79</td>\n",
       "      <td>2011</td>\n",
       "    </tr>\n",
       "    <tr>\n",
       "      <th>247529</th>\n",
       "      <td>558773</td>\n",
       "      <td>21363</td>\n",
       "      <td>HOME SMALL WOOD LETTERS</td>\n",
       "      <td>1</td>\n",
       "      <td>7/3/2011 16:00</td>\n",
       "      <td>4.95</td>\n",
       "      <td>17781.0</td>\n",
       "      <td>United Kingdom</td>\n",
       "      <td>2011-07-03 16:00:00</td>\n",
       "      <td>79</td>\n",
       "      <td>2011</td>\n",
       "    </tr>\n",
       "    <tr>\n",
       "      <th>247530</th>\n",
       "      <td>558773</td>\n",
       "      <td>21359</td>\n",
       "      <td>RELAX LARGE WOOD LETTERS</td>\n",
       "      <td>10</td>\n",
       "      <td>7/3/2011 16:00</td>\n",
       "      <td>3.95</td>\n",
       "      <td>17781.0</td>\n",
       "      <td>United Kingdom</td>\n",
       "      <td>2011-07-03 16:00:00</td>\n",
       "      <td>79</td>\n",
       "      <td>2011</td>\n",
       "    </tr>\n",
       "    <tr>\n",
       "      <th>247531</th>\n",
       "      <td>558773</td>\n",
       "      <td>82484</td>\n",
       "      <td>WOOD BLACK BOARD ANT WHITE FINISH</td>\n",
       "      <td>1</td>\n",
       "      <td>7/3/2011 16:00</td>\n",
       "      <td>7.95</td>\n",
       "      <td>17781.0</td>\n",
       "      <td>United Kingdom</td>\n",
       "      <td>2011-07-03 16:00:00</td>\n",
       "      <td>79</td>\n",
       "      <td>2011</td>\n",
       "    </tr>\n",
       "  </tbody>\n",
       "</table>\n",
       "<p>247532 rows × 11 columns</p>\n",
       "</div>"
      ],
      "text/plain": [
       "       InvoiceNo StockCode                          Description  Quantity  \\\n",
       "0         536365    85123A   WHITE HANGING HEART T-LIGHT HOLDER         6   \n",
       "1         536365     71053                  WHITE METAL LANTERN         6   \n",
       "2         536365    84406B       CREAM CUPID HEARTS COAT HANGER         8   \n",
       "3         536365    84029G  KNITTED UNION FLAG HOT WATER BOTTLE         6   \n",
       "4         536365    84029E       RED WOOLLY HOTTIE WHITE HEART.         6   \n",
       "...          ...       ...                                  ...       ...   \n",
       "247527    558773    85135B            BLUE DRAGONFLY HELICOPTER         1   \n",
       "247528    558773    85136A              YELLOW SHARK HELICOPTER         1   \n",
       "247529    558773     21363              HOME SMALL WOOD LETTERS         1   \n",
       "247530    558773     21359             RELAX LARGE WOOD LETTERS        10   \n",
       "247531    558773     82484    WOOD BLACK BOARD ANT WHITE FINISH         1   \n",
       "\n",
       "           InvoiceDate  UnitPrice  CustomerID         Country  \\\n",
       "0       12/1/2010 8:26       2.55     17850.0  United Kingdom   \n",
       "1       12/1/2010 8:26       3.39     17850.0  United Kingdom   \n",
       "2       12/1/2010 8:26       2.75     17850.0  United Kingdom   \n",
       "3       12/1/2010 8:26       3.39     17850.0  United Kingdom   \n",
       "4       12/1/2010 8:26       3.39     17850.0  United Kingdom   \n",
       "...                ...        ...         ...             ...   \n",
       "247527  7/3/2011 16:00       7.95     17781.0  United Kingdom   \n",
       "247528  7/3/2011 16:00       7.95     17781.0  United Kingdom   \n",
       "247529  7/3/2011 16:00       4.95     17781.0  United Kingdom   \n",
       "247530  7/3/2011 16:00       3.95     17781.0  United Kingdom   \n",
       "247531  7/3/2011 16:00       7.95     17781.0  United Kingdom   \n",
       "\n",
       "              Invoice_Date  week_year  Year  \n",
       "0      2010-12-01 08:26:00         48  2010  \n",
       "1      2010-12-01 08:26:00         48  2010  \n",
       "2      2010-12-01 08:26:00         48  2010  \n",
       "3      2010-12-01 08:26:00         48  2010  \n",
       "4      2010-12-01 08:26:00         48  2010  \n",
       "...                    ...        ...   ...  \n",
       "247527 2011-07-03 16:00:00         79  2011  \n",
       "247528 2011-07-03 16:00:00         79  2011  \n",
       "247529 2011-07-03 16:00:00         79  2011  \n",
       "247530 2011-07-03 16:00:00         79  2011  \n",
       "247531 2011-07-03 16:00:00         79  2011  \n",
       "\n",
       "[247532 rows x 11 columns]"
      ]
     },
     "execution_count": 22,
     "metadata": {},
     "output_type": "execute_result"
    }
   ],
   "source": [
    "data"
   ]
  },
  {
   "cell_type": "markdown",
   "metadata": {},
   "source": [
    "Let us create the `Revenue` column."
   ]
  },
  {
   "cell_type": "code",
   "execution_count": 23,
   "metadata": {},
   "outputs": [],
   "source": [
    "data['Revenue']=data.Quantity * data.UnitPrice"
   ]
  },
  {
   "cell_type": "markdown",
   "metadata": {},
   "source": [
    "## Data Exploration\n",
    "\n",
    "Create a `category` column that extracts the category of the item from description."
   ]
  },
  {
   "cell_type": "code",
   "execution_count": 24,
   "metadata": {},
   "outputs": [
    {
     "name": "stdout",
     "output_type": "stream",
     "text": [
      "DESIGN       12103\n",
      "HOLDER        7094\n",
      "SIGN          6709\n",
      "RETROSPOT     6620\n",
      "BOX           6187\n",
      "BAG           5035\n",
      "CASES         4268\n",
      "SET           4169\n",
      "MUG           3454\n",
      "BUNTING       3309\n",
      "Name: category, dtype: int64\n"
     ]
    }
   ],
   "source": [
    "data['category'] = data.Description.str.split().str[-1]\n",
    "\n",
    "print  (data.category.value_counts().head(10))\n"
   ]
  },
  {
   "cell_type": "markdown",
   "metadata": {},
   "source": [
    "Extract the <b>month</b> details from the `InvoiceDate` column."
   ]
  },
  {
   "cell_type": "code",
   "execution_count": 25,
   "metadata": {},
   "outputs": [
    {
     "name": "stdout",
     "output_type": "stream",
     "text": [
      "Sales by Month : \n",
      " 12    42481\n",
      "5     37030\n",
      "6     36874\n",
      "3     36748\n",
      "1     35147\n",
      "4     29916\n",
      "2     27707\n",
      "7      1629\n",
      "Name: InvoiceDate, dtype: int64\n"
     ]
    },
    {
     "name": "stderr",
     "output_type": "stream",
     "text": [
      "C:\\Users\\Admin\\AppData\\Local\\Temp\\ipykernel_7492\\769306828.py:1: UserWarning: Pandas doesn't allow columns to be created via a new attribute name - see https://pandas.pydata.org/pandas-docs/stable/indexing.html#attribute-access\n",
      "  data.month = data.InvoiceDate.str.split('/').str[0]\n"
     ]
    }
   ],
   "source": [
    "data.month = data.InvoiceDate.str.split('/').str[0]\n",
    "\n",
    "print (\"Sales by Month : \\n\", data.month.value_counts())"
   ]
  },
  {
   "cell_type": "code",
   "execution_count": 26,
   "metadata": {},
   "outputs": [
    {
     "data": {
      "image/png": "[encoded data removed]",
      "text/plain": [
       "<Figure size 640x480 with 1 Axes>"
      ]
     },
     "metadata": {},
     "output_type": "display_data"
    }
   ],
   "source": [
    "plt.scatter(data.month.value_counts().keys(),data.month.value_counts(), c='r', s=100, alpha=0.7)\n",
    "plt.xlabel('Months 1-Jan, 2-Feb.....12-Dec')\n",
    "plt.ylabel('Number of purchases')\n",
    "plt.title('Time Series analysis by Month Jan-Dec')\n",
    "plt.show()"
   ]
  },
  {
   "cell_type": "markdown",
   "metadata": {},
   "source": [
    "Many purchases seem to happen during <b>Christmas</b> time. \n",
    "\n",
    "Let us group all the transactions by `week_year`. "
   ]
  },
  {
   "cell_type": "code",
   "execution_count": 27,
   "metadata": {},
   "outputs": [
    {
     "name": "stderr",
     "output_type": "stream",
     "text": [
      "C:\\Users\\Admin\\AppData\\Local\\Temp\\ipykernel_7492\\1710496322.py:1: FutureWarning: The default value of numeric_only in DataFrameGroupBy.sum is deprecated. In a future version, numeric_only will default to False. Either specify numeric_only or select only columns which should be valid for the function.\n",
      "  time_df = data.groupby('week_year').sum()\n"
     ]
    }
   ],
   "source": [
    "time_df = data.groupby('week_year').sum()"
   ]
  },
  {
   "cell_type": "code",
   "execution_count": 28,
   "metadata": {},
   "outputs": [
    {
     "data": {
      "text/plain": [
       "[<matplotlib.lines.Line2D at 0x2376c31e200>]"
      ]
     },
     "execution_count": 28,
     "metadata": {},
     "output_type": "execute_result"
    },
    {
     "data": {
      "image/png": "[encoded data removed]",
      "text/plain": [
       "<Figure size 640x480 with 1 Axes>"
      ]
     },
     "metadata": {},
     "output_type": "display_data"
    }
   ],
   "source": [
    "#Let us see the original data spread\n",
    "plt.plot(time_df.Revenue)"
   ]
  },
  {
   "cell_type": "markdown",
   "metadata": {},
   "source": [
    "Since there is a lot of <b>variance</b> across different weeks, this is a difficult <b>timeseries</b> to model. Let us smoothen it by using <b>log transformation</b>."
   ]
  },
  {
   "cell_type": "code",
   "execution_count": 29,
   "metadata": {},
   "outputs": [
    {
     "data": {
      "text/html": [
       "<div>\n",
       "<style scoped>\n",
       "    .dataframe tbody tr th:only-of-type {\n",
       "        vertical-align: middle;\n",
       "    }\n",
       "\n",
       "    .dataframe tbody tr th {\n",
       "        vertical-align: top;\n",
       "    }\n",
       "\n",
       "    .dataframe thead th {\n",
       "        text-align: right;\n",
       "    }\n",
       "</style>\n",
       "<table border=\"1\" class=\"dataframe\">\n",
       "  <thead>\n",
       "    <tr style=\"text-align: right;\">\n",
       "      <th></th>\n",
       "      <th>Quantity</th>\n",
       "      <th>UnitPrice</th>\n",
       "      <th>CustomerID</th>\n",
       "      <th>Year</th>\n",
       "      <th>Revenue</th>\n",
       "    </tr>\n",
       "    <tr>\n",
       "      <th>week_year</th>\n",
       "      <th></th>\n",
       "      <th></th>\n",
       "      <th></th>\n",
       "      <th></th>\n",
       "      <th></th>\n",
       "    </tr>\n",
       "  </thead>\n",
       "  <tbody>\n",
       "    <tr>\n",
       "      <th>48</th>\n",
       "      <td>79062</td>\n",
       "      <td>38727.19</td>\n",
       "      <td>122249393.0</td>\n",
       "      <td>20389440</td>\n",
       "      <td>181847.25</td>\n",
       "    </tr>\n",
       "    <tr>\n",
       "      <th>49</th>\n",
       "      <td>118448</td>\n",
       "      <td>144262.85</td>\n",
       "      <td>153871225.0</td>\n",
       "      <td>33341880</td>\n",
       "      <td>270287.03</td>\n",
       "    </tr>\n",
       "    <tr>\n",
       "      <th>50</th>\n",
       "      <td>105446</td>\n",
       "      <td>51191.06</td>\n",
       "      <td>111863691.0</td>\n",
       "      <td>22403460</td>\n",
       "      <td>207052.17</td>\n",
       "    </tr>\n",
       "    <tr>\n",
       "      <th>51</th>\n",
       "      <td>39272</td>\n",
       "      <td>26339.75</td>\n",
       "      <td>28713439.0</td>\n",
       "      <td>9252030</td>\n",
       "      <td>89770.57</td>\n",
       "    </tr>\n",
       "    <tr>\n",
       "      <th>54</th>\n",
       "      <td>73491</td>\n",
       "      <td>60913.67</td>\n",
       "      <td>81041033.0</td>\n",
       "      <td>15424370</td>\n",
       "      <td>93720.93</td>\n",
       "    </tr>\n",
       "  </tbody>\n",
       "</table>\n",
       "</div>"
      ],
      "text/plain": [
       "           Quantity  UnitPrice   CustomerID      Year    Revenue\n",
       "week_year                                                       \n",
       "48            79062   38727.19  122249393.0  20389440  181847.25\n",
       "49           118448  144262.85  153871225.0  33341880  270287.03\n",
       "50           105446   51191.06  111863691.0  22403460  207052.17\n",
       "51            39272   26339.75   28713439.0   9252030   89770.57\n",
       "54            73491   60913.67   81041033.0  15424370   93720.93"
      ]
     },
     "execution_count": 29,
     "metadata": {},
     "output_type": "execute_result"
    }
   ],
   "source": [
    "time_df.head()"
   ]
  },
  {
   "cell_type": "code",
   "execution_count": 30,
   "metadata": {},
   "outputs": [
    {
     "data": {
      "text/plain": [
       "week_year\n",
       "48    12.110922\n",
       "49    12.507240\n",
       "50    12.240726\n",
       "51    11.405012\n",
       "54    11.448077\n",
       "55    12.160002\n",
       "56    11.803974\n",
       "57    11.688028\n",
       "58    11.725147\n",
       "59    11.535635\n",
       "Name: Revenue, dtype: float64"
      ]
     },
     "execution_count": 30,
     "metadata": {},
     "output_type": "execute_result"
    }
   ],
   "source": [
    "log_revenue = np.log(time_df.Revenue)\n",
    "log_revenue[0:10]"
   ]
  },
  {
   "cell_type": "code",
   "execution_count": 31,
   "metadata": {},
   "outputs": [
    {
     "data": {
      "text/plain": [
       "[<matplotlib.lines.Line2D at 0x2376e945540>]"
      ]
     },
     "execution_count": 31,
     "metadata": {},
     "output_type": "execute_result"
    },
    {
     "data": {
      "image/png": "[encoded data removed]",
      "text/plain": [
       "<Figure size 640x480 with 1 Axes>"
      ]
     },
     "metadata": {},
     "output_type": "display_data"
    }
   ],
   "source": [
    "#Let us see the original data spread\n",
    "plt.plot(log_revenue)"
   ]
  },
  {
   "cell_type": "markdown",
   "metadata": {},
   "source": [
    "Still, we do not see a major difference in the variance. Let us do a <b>first-order differencing</b> on the time series and see if it helps."
   ]
  },
  {
   "cell_type": "code",
   "execution_count": 32,
   "metadata": {},
   "outputs": [],
   "source": [
    "log_revenue_diff = log_revenue - log_revenue.shift()"
   ]
  },
  {
   "cell_type": "code",
   "execution_count": 33,
   "metadata": {},
   "outputs": [
    {
     "data": {
      "text/plain": [
       "week_year\n",
       "50   -0.266514\n",
       "51   -0.835714\n",
       "54    0.043064\n",
       "55    0.711926\n",
       "56   -0.356029\n",
       "57   -0.115946\n",
       "58    0.037119\n",
       "59   -0.189512\n",
       "60    0.311364\n",
       "Name: Revenue, dtype: float64"
      ]
     },
     "execution_count": 33,
     "metadata": {},
     "output_type": "execute_result"
    }
   ],
   "source": [
    "log_revenue_diff.dropna(inplace=True)\n",
    "log_revenue_diff[1:10]"
   ]
  },
  {
   "cell_type": "code",
   "execution_count": 34,
   "metadata": {},
   "outputs": [
    {
     "data": {
      "text/plain": [
       "[<matplotlib.lines.Line2D at 0x2377147f7c0>]"
      ]
     },
     "execution_count": 34,
     "metadata": {},
     "output_type": "execute_result"
    },
    {
     "data": {
      "image/png": "[encoded data removed]",
      "text/plain": [
       "<Figure size 640x480 with 1 Axes>"
      ]
     },
     "metadata": {},
     "output_type": "display_data"
    }
   ],
   "source": [
    "#Data after log normalizing & 1st order differencing\n",
    "plt.plot(log_revenue_diff)"
   ]
  },
  {
   "cell_type": "markdown",
   "metadata": {},
   "source": [
    "First-order differencing slightly normalized the variance. You can try second-order and third-order differencing to further normalize the variance."
   ]
  },
  {
   "cell_type": "markdown",
   "metadata": {},
   "source": [
    "## Stationarity Test\n",
    "\n",
    "Visualizations can only provide so much information about a Time Series. Let us apply <b>Dickey Fuller test</b> to verify if the timeseries is stationary or not."
   ]
  },
  {
   "cell_type": "code",
   "execution_count": 35,
   "metadata": {},
   "outputs": [],
   "source": [
    "from statsmodels.tsa.stattools import adfuller"
   ]
  },
  {
   "cell_type": "code",
   "execution_count": 36,
   "metadata": {},
   "outputs": [],
   "source": [
    "#ceating a function to test wheather the time series is stationary or not\n",
    "def test_stationarity(timeseries):\n",
    "    \n",
    "    #Determing rolling statistics\n",
    "    rolmean = timeseries.rolling(window=12,center=False).mean() \n",
    "    rolstd = timeseries.rolling(window=12,center=False).std()\n",
    "\n",
    "    #Plot rolling statistics:\n",
    "    orig = plt.plot(timeseries, color='blue',label='Original')\n",
    "    mean = plt.plot(rolmean, color='red', label='Rolling Mean')\n",
    "    std = plt.plot(rolstd, color='black', label = 'Rolling Std')\n",
    "    plt.legend(loc='best')\n",
    "    plt.title('Rolling Mean & Standard Deviation')\n",
    "    plt.show(block=False)\n",
    "    \n",
    "    #Perform Dickey-Fuller test:\n",
    "    print('Results of Dickey-Fuller Test:')\n",
    "    dftest = adfuller(timeseries, autolag='AIC')\n",
    "    dfoutput = pd.Series(dftest[0:4], index=['Test Statistic','p-value','#Lags Used','Number of Observations Used'])\n",
    "    for key,value in dftest[4].items():\n",
    "        dfoutput['Critical Value (%s)'%key] = value\n",
    "    print(dfoutput)"
   ]
  },
  {
   "cell_type": "code",
   "execution_count": 37,
   "metadata": {},
   "outputs": [
    {
     "data": {
      "image/png": "[encoded data removed]",
      "text/plain": [
       "<Figure size 640x480 with 1 Axes>"
      ]
     },
     "metadata": {},
     "output_type": "display_data"
    },
    {
     "name": "stdout",
     "output_type": "stream",
     "text": [
      "Results of Dickey-Fuller Test:\n",
      "Test Statistic                 -3.036167\n",
      "p-value                         0.031652\n",
      "#Lags Used                      6.000000\n",
      "Number of Observations Used    22.000000\n",
      "Critical Value (1%)            -3.769733\n",
      "Critical Value (5%)            -3.005426\n",
      "Critical Value (10%)           -2.642501\n",
      "dtype: float64\n"
     ]
    }
   ],
   "source": [
    "test_stationarity(log_revenue_diff)"
   ]
  },
  {
   "cell_type": "markdown",
   "metadata": {},
   "source": [
    "Since the p-value is less than 0.05, we reject the null hypothesis that the Time Series is not stationary. We are dealing with a stationary time series and the differenced value(d) is 1. "
   ]
  },
  {
   "cell_type": "markdown",
   "metadata": {},
   "source": [
    "## Forecast Revenue using ARIMA model\n",
    "\n",
    "In order to forecast revenue using ARIMA, we need to find the <b>(p,d,q)</b> values. From the above analysis, we already know the 'd' value to be 2."
   ]
  },
  {
   "cell_type": "code",
   "execution_count": 47,
   "metadata": {},
   "outputs": [],
   "source": [
    "from statsmodels.tsa.stattools import adfuller, acf, pacf\n",
    "\n",
    "# Assuming log_revenue_diff is the time series data you are working with\n",
    "nlags = 12\n",
    "lag_acf = acf(log_revenue_diff.values, nlags=nlags)\n",
    "lag_pacf = pacf(log_revenue_diff.values, nlags=nlags)\n"
   ]
  },
  {
   "cell_type": "code",
   "execution_count": 48,
   "metadata": {},
   "outputs": [
    {
     "data": {
      "text/plain": [
       "<matplotlib.lines.Line2D at 0x23771c87d30>"
      ]
     },
     "execution_count": 48,
     "metadata": {},
     "output_type": "execute_result"
    },
    {
     "data": {
      "image/png": "[encoded data removed]",
      "text/plain": [
       "<Figure size 640x480 with 1 Axes>"
      ]
     },
     "metadata": {},
     "output_type": "display_data"
    }
   ],
   "source": [
    "plt.subplot(121) \n",
    "plt.plot(lag_acf)\n",
    "plt.axhline(y=0,linestyle='--')\n",
    "plt.axhline(y=-1.96/np.sqrt(len(log_revenue_diff)),linestyle='--')\n",
    "plt.axhline(y=1.96/np.sqrt(len(log_revenue_diff)),linestyle='--')"
   ]
  },
  {
   "cell_type": "markdown",
   "metadata": {},
   "source": [
    "From the above <b>'ACF'</b> plot, we can conclude that the <b>'q'</b> value is 2."
   ]
  },
  {
   "cell_type": "code",
   "execution_count": 49,
   "metadata": {},
   "outputs": [
    {
     "data": {
      "text/plain": [
       "<matplotlib.lines.Line2D at 0x23798a66290>"
      ]
     },
     "execution_count": 49,
     "metadata": {},
     "output_type": "execute_result"
    },
    {
     "data": {
      "image/png": "[encoded data removed]",
      "text/plain": [
       "<Figure size 640x480 with 1 Axes>"
      ]
     },
     "metadata": {},
     "output_type": "display_data"
    }
   ],
   "source": [
    "plt.subplot(121) \n",
    "plt.plot(lag_pacf)\n",
    "plt.axhline(y=0,linestyle='--')\n",
    "plt.axhline(y=-1.96/np.sqrt(len(log_revenue_diff)),linestyle='--')\n",
    "plt.axhline(y=1.96/np.sqrt(len(log_revenue_diff)),linestyle='--')"
   ]
  },
  {
   "cell_type": "markdown",
   "metadata": {},
   "source": [
    "From the above <b>'PACF'</b> plot, we can conclude that the <b>'p'</b> value is 0.\n",
    "\n",
    "Let us now build the ARIMA model with the (p,d,q) values as (0,1,2)"
   ]
  },
  {
   "cell_type": "code",
   "execution_count": 57,
   "metadata": {},
   "outputs": [
    {
     "name": "stderr",
     "output_type": "stream",
     "text": [
      "C:\\Users\\Admin\\anaconda3\\lib\\site-packages\\statsmodels\\tsa\\base\\tsa_model.py:471: ValueWarning: An unsupported index was provided and will be ignored when e.g. forecasting.\n",
      "  self._init_dates(dates, freq)\n",
      "C:\\Users\\Admin\\anaconda3\\lib\\site-packages\\statsmodels\\tsa\\base\\tsa_model.py:471: ValueWarning: An unsupported index was provided and will be ignored when e.g. forecasting.\n",
      "  self._init_dates(dates, freq)\n"
     ]
    },
    {
     "data": {
      "text/plain": [
       "Text(0.5, 1.0, 'RSS: 4111.4306')"
      ]
     },
     "execution_count": 57,
     "metadata": {},
     "output_type": "execute_result"
    },
    {
     "data": {
      "image/png": "[encoded data removed]",
      "text/plain": [
       "<Figure size 640x480 with 1 Axes>"
      ]
     },
     "metadata": {},
     "output_type": "display_data"
    }
   ],
   "source": [
    "import numpy as np\n",
    "from statsmodels.tsa.statespace.sarimax import SARIMAX\n",
    "\n",
    "# ARIMA model\n",
    "model = SARIMAX(log_revenue, order=(0, 1, 2))  \n",
    "results_ARIMA = model.fit(disp=-1)  \n",
    "\n",
    "plt.plot(log_revenue_diff)\n",
    "plt.plot(results_ARIMA.fittedvalues, color='red')\n",
    "rss = np.nansum((results_ARIMA.fittedvalues - log_revenue_diff)**2)\n",
    "plt.title('RSS: %.4f' % rss)\n"
   ]
  },
  {
   "cell_type": "markdown",
   "metadata": {},
   "source": [
    "Let us store the ARIMA model predictions in a Series object."
   ]
  },
  {
   "cell_type": "code",
   "execution_count": 58,
   "metadata": {},
   "outputs": [
    {
     "name": "stdout",
     "output_type": "stream",
     "text": [
      "week_year\n",
      "48     0.000000\n",
      "49    12.110922\n",
      "50    12.466391\n",
      "51    12.116256\n",
      "54    11.634795\n",
      "dtype: float64\n"
     ]
    }
   ],
   "source": [
    "predictions_ARIMA_diff = pd.Series(results_ARIMA.fittedvalues, copy=True)\n",
    "print(predictions_ARIMA_diff.head())"
   ]
  },
  {
   "cell_type": "markdown",
   "metadata": {},
   "source": [
    "As we need to forecast the <b>actual revenue numbers</b>, we need to renormalize the obtained values. Let us first calculate the <b>cumulative sum of the log differences.</b>"
   ]
  },
  {
   "cell_type": "code",
   "execution_count": 59,
   "metadata": {},
   "outputs": [
    {
     "name": "stdout",
     "output_type": "stream",
     "text": [
      "week_year\n",
      "48     0.000000\n",
      "49    12.110922\n",
      "50    24.577314\n",
      "51    36.693569\n",
      "54    48.328364\n",
      "dtype: float64\n"
     ]
    }
   ],
   "source": [
    "predictions_ARIMA_diff_cumsum = predictions_ARIMA_diff.cumsum()\n",
    "print(predictions_ARIMA_diff_cumsum.head())"
   ]
  },
  {
   "cell_type": "markdown",
   "metadata": {},
   "source": [
    "Get the base revenue value from the <b>first week</b> in the dataset."
   ]
  },
  {
   "cell_type": "code",
   "execution_count": 60,
   "metadata": {},
   "outputs": [
    {
     "data": {
      "text/plain": [
       "12.110922327947202"
      ]
     },
     "execution_count": 60,
     "metadata": {},
     "output_type": "execute_result"
    }
   ],
   "source": [
    "log_revenue.iloc[0]"
   ]
  },
  {
   "cell_type": "markdown",
   "metadata": {},
   "source": [
    "Now add the cumulative sum values to the base value. We will obtain the log value for predicted revenues for all the weeks."
   ]
  },
  {
   "cell_type": "code",
   "execution_count": 61,
   "metadata": {},
   "outputs": [
    {
     "data": {
      "text/plain": [
       "week_year\n",
       "48    12.110922\n",
       "49    24.221845\n",
       "50    36.688236\n",
       "51    48.804492\n",
       "54    60.439287\n",
       "dtype: float64"
      ]
     },
     "execution_count": 61,
     "metadata": {},
     "output_type": "execute_result"
    }
   ],
   "source": [
    "predictions_ARIMA_log = pd.Series(log_revenue.iloc[0], index=log_revenue.index)\n",
    "predictions_ARIMA_log = predictions_ARIMA_log.add(predictions_ARIMA_diff_cumsum,fill_value=0)\n",
    "predictions_ARIMA_log.head()"
   ]
  },
  {
   "cell_type": "markdown",
   "metadata": {},
   "source": [
    "Now convert the log values obtained above to <b>actual revenue numbers</b> and plot the forecasted revenue alongside actual revenue."
   ]
  },
  {
   "cell_type": "code",
   "execution_count": 62,
   "metadata": {},
   "outputs": [
    {
     "name": "stdout",
     "output_type": "stream",
     "text": [
      "week_year\n",
      "48    181847.250\n",
      "49    270287.030\n",
      "50    207052.170\n",
      "51     89770.570\n",
      "54     93720.930\n",
      "55    190994.960\n",
      "56    133782.910\n",
      "57    119136.810\n",
      "58    123642.180\n",
      "59    102296.930\n",
      "60    139664.580\n",
      "61    133069.930\n",
      "62    130435.560\n",
      "63    129180.960\n",
      "64    145262.610\n",
      "65    147909.800\n",
      "66    183501.710\n",
      "67    121598.220\n",
      "68    147459.771\n",
      "69    115461.250\n",
      "70     84382.660\n",
      "71    130354.310\n",
      "72    205445.230\n",
      "73    198031.530\n",
      "74    160569.820\n",
      "75    116932.520\n",
      "76    177916.870\n",
      "77    184016.500\n",
      "78    117086.710\n",
      "79    136287.440\n",
      "Name: Revenue, dtype: float64\n"
     ]
    }
   ],
   "source": [
    "#Actual Revenue\n",
    "print (time_df.Revenue)"
   ]
  },
  {
   "cell_type": "code",
   "execution_count": 63,
   "metadata": {},
   "outputs": [
    {
     "name": "stdout",
     "output_type": "stream",
     "text": [
      "week_year\n",
      "48     1.818472e+05\n",
      "49     3.306842e+10\n",
      "50     8.580220e+15\n",
      "51     1.568633e+21\n",
      "54     1.771939e+26\n",
      "55     2.441458e+31\n",
      "56     4.710096e+36\n",
      "57     5.868854e+41\n",
      "58     8.578428e+46\n",
      "59     1.141133e+52\n",
      "60     1.383996e+57\n",
      "61     2.136403e+62\n",
      "62     2.756660e+67\n",
      "63     3.891801e+72\n",
      "64     5.144927e+77\n",
      "65     7.614492e+82\n",
      "66     1.068019e+88\n",
      "67     1.789482e+93\n",
      "68     2.083771e+98\n",
      "69    3.401781e+103\n",
      "70    3.869552e+108\n",
      "71    4.423714e+113\n",
      "72    6.540035e+118\n",
      "73    1.108634e+124\n",
      "74    1.717249e+129\n",
      "75    2.487608e+134\n",
      "76    3.076153e+139\n",
      "77    5.437876e+144\n",
      "78    7.980017e+149\n",
      "79    9.905732e+154\n",
      "dtype: float64\n"
     ]
    },
    {
     "data": {
      "text/plain": [
       "[<matplotlib.lines.Line2D at 0x23799716fe0>]"
      ]
     },
     "execution_count": 63,
     "metadata": {},
     "output_type": "execute_result"
    },
    {
     "data": {
      "image/png": "[encoded data removed]",
      "text/plain": [
       "<Figure size 640x480 with 1 Axes>"
      ]
     },
     "metadata": {},
     "output_type": "display_data"
    }
   ],
   "source": [
    "predictions_ARIMA = np.exp(predictions_ARIMA_log)\n",
    "print (predictions_ARIMA)\n",
    "plt.plot(time_df.Revenue)\n",
    "plt.plot(predictions_ARIMA)"
   ]
  },
  {
   "cell_type": "markdown",
   "metadata": {},
   "source": [
    "Above plot showcases the <b>forecasted revenue</b> from the ARIMA model in 'Yellow'. As you can see, our forecast was able to capture the trend but did not capture the level. This is due to the dataset being small and also the fact that between weeks <b>51-55</b>, a lot of volatility seems to be present in the sales. This might be due to sales waning after the festive period. We need more data to model this volatility and make our forecast more accurate. "
   ]
  },
  {
   "cell_type": "code",
   "execution_count": null,
   "metadata": {},
   "outputs": [],
   "source": []
  }
 ],
 "metadata": {
  "kernelspec": {
   "display_name": "Python 3 (ipykernel)",
   "language": "python",
   "name": "python3"
  },
  "language_info": {
   "codemirror_mode": {
    "name": "ipython",
    "version": 3
   },
   "file_extension": ".py",
   "mimetype": "text/x-python",
   "name": "python",
   "nbconvert_exporter": "python",
   "pygments_lexer": "ipython3",
   "version": "3.10.9"
  }
 },
 "nbformat": 4,
 "nbformat_minor": 2
}
