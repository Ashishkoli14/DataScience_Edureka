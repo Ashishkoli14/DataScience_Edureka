{
  "nbformat": 4,
  "nbformat_minor": 0,
  "metadata": {
    "colab": {
      "name": "DS_D4_DIY_V1.0.ipynb",
      "provenance": [],
      "collapsed_sections": []
    },
    "kernelspec": {
      "name": "python3",
      "display_name": "Python 3"
    },
    "language_info": {
      "name": "python"
    }
  },
  "cells": [
    {
      "cell_type": "markdown",
      "source": [
        "##Day 4 - DIY Solution"
      ],
      "metadata": {
        "id": "2DOFiXtAO1Nc"
      }
    },
    {
      "cell_type": "markdown",
      "source": [
        "**Q1. Problem Statement: Quotient and Remainder**\n",
        "\n",
        "Write a Python program with a user-defined function that takes two integers as input, dividend, and divisor. Print quotient and remainder of the two numbers by dividing them using “//” and “%” operators.\n"
      ],
      "metadata": {
        "id": "wLeUuW-8PAfg"
      }
    },
    {
      "cell_type": "code",
      "execution_count": null,
      "metadata": {
        "colab": {
          "base_uri": "https://localhost:8080/"
        },
        "id": "B227-Y4DOw-U",
        "outputId": "ab61ddea-261a-41c9-ce6d-7556c7b9467c"
      },
      "outputs": [
        {
          "output_type": "stream",
          "name": "stdout",
          "text": [
            "Enter the Dividend: 60\n",
            "Enter the Divisor: 7\n",
            "Quotient:  8\n",
            "Remainder 4\n",
            "None\n"
          ]
        }
      ],
      "source": [
        "# Quotient and reminder of two numbers\n",
        "\n",
        "##Writing a Function \n",
        "def find(dividend, divisor):\n",
        "      \n",
        "    # for quotient\n",
        "    q = dividend//divisor\n",
        "    print(\"Quotient: \", q)\n",
        "      \n",
        "    # for remainder\n",
        "    r = dividend%divisor\n",
        "    print(\"Remainder\", r)\n",
        "      \n",
        "##Taking input from user\n",
        "dividend = int(input(\"Enter the Dividend: \"))\n",
        "divisor = int(input(\"Enter the Divisor: \"))\n",
        "\n",
        "##Driver Code\n",
        "print(find(dividend, divisor))\n"
      ]
    },
    {
      "cell_type": "markdown",
      "source": [
        "**Q2. Problem Statement: Simple Interest Calculator**\n",
        "\n",
        "Write a program in Python to calculate simple interest using the lambda function.\n",
        "Hint: Simple interest =  (P * R * T)/100  , where P is the principal amount, R is the rate, and T is the time/number of years.\n"
      ],
      "metadata": {
        "id": "ac3FLecVPd3o"
      }
    },
    {
      "cell_type": "code",
      "source": [
        "#Simple Interest Calculator\n",
        "\n",
        "principle=float(input(\"Enter the Principle Amount:\"))\n",
        "time=int(input(\"Enter the Time(Number of years):\"))\n",
        "rate=float(input(\"Enter the Interest Rate:\"))\n",
        "\n",
        "##Declaring a lambda function\n",
        "Simple_interest=lambda a, b, c: (a*b*c)//100\n",
        "print(\"The Simple Interest is:\",Simple_interest(principle, time, rate))"
      ],
      "metadata": {
        "colab": {
          "base_uri": "https://localhost:8080/"
        },
        "id": "UwXh3Y6oPiYa",
        "outputId": "d0757a65-0162-4217-c265-d1248283b9a3"
      },
      "execution_count": null,
      "outputs": [
        {
          "output_type": "stream",
          "name": "stdout",
          "text": [
            "Enter the Principle Amount:60000\n",
            "Enter the Time(Number of years):8\n",
            "Enter the Interest Rate:8\n",
            "The Simple Interest is: 38400.0\n"
          ]
        }
      ]
    }
  ]
}