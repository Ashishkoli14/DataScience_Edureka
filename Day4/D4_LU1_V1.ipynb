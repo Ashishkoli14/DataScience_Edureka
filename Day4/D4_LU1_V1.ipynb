{
 "cells": [
  {
   "cell_type": "markdown",
   "id": "5e2e9ffe",
   "metadata": {},
   "source": [
    "# Functions in Python"
   ]
  },
  {
   "cell_type": "code",
   "execution_count": 1,
   "id": "867fe394",
   "metadata": {},
   "outputs": [],
   "source": [
    "def Example():\n",
    "    print(\"Good morning\")"
   ]
  },
  {
   "cell_type": "markdown",
   "id": "bb054b2a",
   "metadata": {},
   "source": [
    "### Call the Function.\n",
    "\n",
    "To call the function we write as:`function_name(parameters)`"
   ]
  },
  {
   "cell_type": "code",
   "execution_count": 2,
   "id": "56ceb86e",
   "metadata": {},
   "outputs": [
    {
     "name": "stdout",
     "output_type": "stream",
     "text": [
      "Good morning\n"
     ]
    }
   ],
   "source": [
    "Example() # invoking a function"
   ]
  },
  {
   "cell_type": "code",
   "execution_count": 3,
   "id": "12b4d08b",
   "metadata": {},
   "outputs": [],
   "source": [
    "def Example2(name):\n",
    "    print(f\"Good morning {name}\")"
   ]
  },
  {
   "cell_type": "code",
   "execution_count": 4,
   "id": "6fa2e665",
   "metadata": {},
   "outputs": [
    {
     "name": "stdout",
     "output_type": "stream",
     "text": [
      "Good morning John\n"
     ]
    }
   ],
   "source": [
    "Example2(\"John\")"
   ]
  },
  {
   "cell_type": "markdown",
   "id": "9767e2c7",
   "metadata": {},
   "source": [
    "### Return Statements"
   ]
  },
  {
   "cell_type": "code",
   "execution_count": 5,
   "id": "f4bcfcab",
   "metadata": {},
   "outputs": [],
   "source": [
    "def add(a1,a2):\n",
    "  return a1+a2"
   ]
  },
  {
   "cell_type": "code",
   "execution_count": 6,
   "id": "0def4a52",
   "metadata": {},
   "outputs": [
    {
     "name": "stdout",
     "output_type": "stream",
     "text": [
      "30\n"
     ]
    }
   ],
   "source": [
    "result = add(10,20)\n",
    "print(result)"
   ]
  },
  {
   "cell_type": "code",
   "execution_count": 7,
   "id": "3aeeb43d",
   "metadata": {},
   "outputs": [],
   "source": [
    "def Sum(num1,num2):\n",
    "    return num1+num2\n",
    "\n",
    "def Average(num1,num2):\n",
    "    return (num1+num2)/2\n",
    "\n",
    "def F1(num1,num2):\n",
    "    add = Sum(num1,num2)\n",
    "    avg = Average(num1,num2)\n",
    "    return add,avg"
   ]
  },
  {
   "cell_type": "code",
   "execution_count": 8,
   "id": "798e80cb",
   "metadata": {},
   "outputs": [],
   "source": [
    "result1,result2 = F1(10,20)"
   ]
  },
  {
   "cell_type": "code",
   "execution_count": 9,
   "id": "5ff9ae93",
   "metadata": {},
   "outputs": [
    {
     "data": {
      "text/plain": [
       "30"
      ]
     },
     "execution_count": 9,
     "metadata": {},
     "output_type": "execute_result"
    }
   ],
   "source": [
    "result1"
   ]
  },
  {
   "cell_type": "code",
   "execution_count": 10,
   "id": "3cc7b4c1",
   "metadata": {},
   "outputs": [
    {
     "data": {
      "text/plain": [
       "15.0"
      ]
     },
     "execution_count": 10,
     "metadata": {},
     "output_type": "execute_result"
    }
   ],
   "source": [
    "result2"
   ]
  },
  {
   "cell_type": "code",
   "execution_count": null,
   "id": "a7799b53",
   "metadata": {},
   "outputs": [],
   "source": []
  }
 ],
 "metadata": {
  "kernelspec": {
   "display_name": "Python 3 (ipykernel)",
   "language": "python",
   "name": "python3"
  },
  "language_info": {
   "codemirror_mode": {
    "name": "ipython",
    "version": 3
   },
   "file_extension": ".py",
   "mimetype": "text/x-python",
   "name": "python",
   "nbconvert_exporter": "python",
   "pygments_lexer": "ipython3",
   "version": "3.9.7"
  }
 },
 "nbformat": 4,
 "nbformat_minor": 5
}
