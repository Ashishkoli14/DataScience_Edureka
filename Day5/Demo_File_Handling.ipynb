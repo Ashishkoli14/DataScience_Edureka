{
 "cells": [
  {
   "cell_type": "markdown",
   "metadata": {
    "id": "ssuLpDle2PEg"
   },
   "source": [
    "## Demo: File Handling"
   ]
  },
  {
   "cell_type": "markdown",
   "metadata": {
    "id": "fcnomPR52PEi"
   },
   "source": [
    "In this demo, you will be shown how to perform file handling operation in python."
   ]
  },
  {
   "cell_type": "markdown",
   "metadata": {
    "id": "umRUWHbK2PEj"
   },
   "source": [
    "### Step 1: Open and read from the file"
   ]
  },
  {
   "cell_type": "code",
   "execution_count": 7,
   "metadata": {
    "id": "k2w4-Vb92PEk",
    "outputId": "3a14d6d2-3422-465f-d6e0-996611d9cf34"
   },
   "outputs": [
    {
     "name": "stdout",
     "output_type": "stream",
     "text": [
      "Itâ€™s been said that Data Scientist is the sexiest job title of the 21st century. Why is it such \n",
      "\n",
      "a demanded position these days? The short answer is that over the last decade thereâ€™s been a\n",
      "\n",
      "massive explosion in both the data generated and retained by companies, as well as you and\n",
      "\n",
      "me. Sometimes we call this big data, and like a pile of lumber we'd like to build something\n",
      "\n",
      "with it. Data scientists are the people who make sense out of all this data and figure out just\n",
      "\n",
      "what can be done with it.\n"
     ]
    }
   ],
   "source": [
    "file=open('DataScience.txt','r')\n",
    "for each in file:\n",
    "    print(each)\n",
    "file.close()"
   ]
  },
  {
   "cell_type": "markdown",
   "metadata": {
    "id": "0p40sKQp2PEm"
   },
   "source": [
    "### Step 2: Write the content of DataScience file to new file i.e. Data file and perform replace operation on it"
   ]
  },
  {
   "cell_type": "code",
   "execution_count": 13,
   "metadata": {
    "id": "EUmQn0fW2PEm",
    "outputId": "499ea160-2fa5-4658-998c-62e13319a6ba"
   },
   "outputs": [],
   "source": [
    "ds = open(\"DataScience.txt\", \"r\")\n",
    "new = open('Data.txt','w')\n",
    "for i in ds:\n",
    "    i=i.replace('data','tata')\n",
    "    new.write(i)\n",
    "ds.close()\n",
    "new.close()"
   ]
  },
  {
   "cell_type": "code",
   "execution_count": 14,
   "metadata": {},
   "outputs": [
    {
     "name": "stdout",
     "output_type": "stream",
     "text": [
      "Itâ€™s been said that Data Scientist is the sexiest job title of the 21st century. Why is it such \n",
      "\n",
      "a demanded position these days? The short answer is that over the last decade thereâ€™s been a\n",
      "\n",
      "massive explosion in both the tata generated and retained by companies, as well as you and\n",
      "\n",
      "me. Sometimes we call this big tata, and like a pile of lumber we'd like to build something\n",
      "\n",
      "with it. Data scientists are the people who make sense out of all this tata and figure out just\n",
      "\n",
      "what can be done with it.\n"
     ]
    }
   ],
   "source": [
    "sci=open('Data.txt','r')\n",
    "for i in sci:\n",
    "    print(i)\n",
    "sci.close()"
   ]
  },
  {
   "cell_type": "markdown",
   "metadata": {
    "id": "9xUJHGc-2PEn"
   },
   "source": [
    "### Step 3: Close the DataScience file"
   ]
  },
  {
   "cell_type": "code",
   "execution_count": 15,
   "metadata": {
    "id": "wlr4qAKW2PEn"
   },
   "outputs": [],
   "source": [
    "ds.close()"
   ]
  },
  {
   "cell_type": "markdown",
   "metadata": {
    "id": "3Hn2GVZX2PEn"
   },
   "source": [
    "# Step 4: Rename the Data file as New_Science"
   ]
  },
  {
   "cell_type": "code",
   "execution_count": 17,
   "metadata": {
    "id": "p11CLDrJ2PEo"
   },
   "outputs": [],
   "source": [
    "import os\n",
    "os.rename(\"Data.txt\",\"New_Science.txt\")"
   ]
  },
  {
   "cell_type": "markdown",
   "metadata": {
    "id": "Paecv5oM2PEo"
   },
   "source": [
    "### Step 5: Append the New_Science file"
   ]
  },
  {
   "cell_type": "code",
   "execution_count": 9,
   "metadata": {
    "id": "2f-524B72PEo"
   },
   "outputs": [],
   "source": [
    "file = open(\"New_Science.txt\", \"a\")\n",
    "file.write(\"A data scientist is the adult version of the kid who can’t stop asking Why?.\")\n",
    "file.close()"
   ]
  },
  {
   "cell_type": "markdown",
   "metadata": {
    "id": "9Hn3uCnz2PEv"
   },
   "source": [
    "#### Conclusion: This code demonstrates the file handling in python\n"
   ]
  },
  {
   "cell_type": "code",
   "execution_count": 4,
   "metadata": {},
   "outputs": [],
   "source": [
    "import math as m"
   ]
  },
  {
   "cell_type": "code",
   "execution_count": 6,
   "metadata": {},
   "outputs": [
    {
     "data": {
      "text/plain": [
       "2.8284271247461903"
      ]
     },
     "execution_count": 6,
     "metadata": {},
     "output_type": "execute_result"
    }
   ],
   "source": [
    "m.sqrt()"
   ]
  },
  {
   "cell_type": "code",
   "execution_count": null,
   "metadata": {},
   "outputs": [],
   "source": []
  }
 ],
 "metadata": {
  "colab": {
   "name": "Demo: File Handling.ipynb",
   "provenance": []
  },
  "kernelspec": {
   "display_name": "Python 3 (ipykernel)",
   "language": "python",
   "name": "python3"
  },
  "language_info": {
   "codemirror_mode": {
    "name": "ipython",
    "version": 3
   },
   "file_extension": ".py",
   "mimetype": "text/x-python",
   "name": "python",
   "nbconvert_exporter": "python",
   "pygments_lexer": "ipython3",
   "version": "3.10.9"
  }
 },
 "nbformat": 4,
 "nbformat_minor": 1
}
