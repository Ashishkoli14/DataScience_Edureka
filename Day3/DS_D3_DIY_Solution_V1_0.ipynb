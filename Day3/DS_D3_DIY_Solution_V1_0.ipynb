{
  "nbformat": 4,
  "nbformat_minor": 0,
  "metadata": {
    "colab": {
      "name": "DS_D3_DIY_V1.0.ipynb",
      "provenance": [],
      "collapsed_sections": []
    },
    "kernelspec": {
      "name": "python3",
      "display_name": "Python 3"
    },
    "language_info": {
      "name": "python"
    }
  },
  "cells": [
    {
      "cell_type": "markdown",
      "source": [
        "##Day 3 - DIY Solution"
      ],
      "metadata": {
        "id": "C1TRXhWjN8bE"
      }
    },
    {
      "cell_type": "markdown",
      "source": [
        "**Q1. Problem Statement: Vowel or a Consonant**\n",
        "\n",
        "Write a Python program that takes a character as an input from the user and prints whether the character entered by the user is a vowel or a consonant.\n"
      ],
      "metadata": {
        "id": "5KA5wFZqOA7_"
      }
    },
    {
      "cell_type": "code",
      "execution_count": 1,
      "metadata": {
        "colab": {
          "base_uri": "https://localhost:8080/"
        },
        "id": "UAr5FnZtN28G",
        "outputId": "b411b2f5-6499-489e-ab4e-f0b147fa4150"
      },
      "outputs": [
        {
          "output_type": "stream",
          "name": "stdout",
          "text": [
            "Hello User, Plese Enter a Character: s\n",
            "s is a Consonant\n"
          ]
        }
      ],
      "source": [
        "#Vowel or consonant\n",
        "ch = input(\"Hello User, Plese Enter a Character: \")\n",
        "\n",
        "if(ch=='A' or ch=='a' or ch=='E' or ch =='e' or ch=='I'\n",
        " or ch=='i' or ch=='O' or ch=='o' or ch=='U' or ch=='u'):\n",
        "    print(ch, \"is a Vowel\")\n",
        "else:\n",
        "    print(ch, \"is a Consonant\")"
      ]
    },
    {
      "cell_type": "markdown",
      "source": [
        "**Q2. Problem Statement: Multiplication Table**\n",
        "\n",
        "Write a Python program that takes an integer as input and prints a multiplication table from 1 to 10.\n"
      ],
      "metadata": {
        "id": "BPCfvquGOj4K"
      }
    },
    {
      "cell_type": "code",
      "source": [
        "# Multiplication table (from 1 to 10) \n",
        "\n",
        "num = int(input(\"Please Enter a Number: \"))\n",
        "\n",
        "# To take input from the user\n",
        "# num = int(input(\"Display multiplication table of? \"))\n",
        "\n",
        "# Iterate 10 times from i = 1 to 10\n",
        "print(\"The Multiplication Table (From 1 to 10)\", \"of\", num, \"is\")\n",
        "for i in range(1, 11):\n",
        "   print(num, 'x', i, '=', num*i)"
      ],
      "metadata": {
        "colab": {
          "base_uri": "https://localhost:8080/"
        },
        "id": "MCxrUZ5COmMM",
        "outputId": "90510a42-e3d1-4901-fb29-e4428425ad05"
      },
      "execution_count": 2,
      "outputs": [
        {
          "output_type": "stream",
          "name": "stdout",
          "text": [
            "Please Enter a Number: 5\n",
            "The Multiplication Table (From 1 to 10) of 5 is\n",
            "5 x 1 = 5\n",
            "5 x 2 = 10\n",
            "5 x 3 = 15\n",
            "5 x 4 = 20\n",
            "5 x 5 = 25\n",
            "5 x 6 = 30\n",
            "5 x 7 = 35\n",
            "5 x 8 = 40\n",
            "5 x 9 = 45\n",
            "5 x 10 = 50\n"
          ]
        }
      ]
    }
  ]
}