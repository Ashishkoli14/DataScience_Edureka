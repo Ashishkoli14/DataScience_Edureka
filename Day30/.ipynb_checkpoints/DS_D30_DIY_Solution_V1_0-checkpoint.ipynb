{
 "cells": [
  {
   "cell_type": "markdown",
   "metadata": {
    "id": "i9UkeZLHYiHm"
   },
   "source": [
    "##Day 30 - DIY Solution"
   ]
  },
  {
   "cell_type": "markdown",
   "metadata": {
    "id": "6XbE-EO7ngHj"
   },
   "source": [
    "**Q1. Problem Statement: Chi-Square Test**\n",
    "\n",
    "The “titanic.csv” dataset has details of passengers on board the Titanic when it met its fate in 1912. Your job is to compare how Passenger class affects the probability of survival with the help of the Chi-Square test. Load the “titanic.csv“ data into a DataFrame and perform the following tasks:\n",
    "1.\tCreate a DataFrame with three columns from the original dataset –\"PassengerID,\" \"PClass,\" \"Survived or not\"\n",
    "2.\tVisualize the \"PClass\" and the \"Survived or not\" columns to get an overview of the columns\n",
    "3.\tPlot the correlation between passenger class and chances of survival and Calculating the survival rate for each class\n",
    "4.\tState Null hypothesis based on the class-wise survival rate\n",
    "5.\tPlot the difference between expected and observed correlations between passenger class and survival using heat maps to decide if there is a need for a Chi-Square Test\n",
    "6.\tCalculate Chi-Square and P – Values for each passenger class and the entire distribution\n",
    "7.\tAccept or reject the Null hypothesis based on the results obtained \n"
   ]
  },
  {
   "cell_type": "markdown",
   "metadata": {
    "id": "RpFSbZD9gM1M"
   },
   "source": [
    "**Step-1:** Loading the dataset into a DataFrame."
   ]
  },
  {
   "cell_type": "code",
   "execution_count": 1,
   "metadata": {
    "colab": {
     "base_uri": "https://localhost:8080/",
     "height": 455
    },
    "id": "P0sJHhsQYb47",
    "outputId": "b8685ae9-1d30-471f-a9f3-33dd1f16e282",
    "scrolled": true
   },
   "outputs": [
    {
     "data": {
      "text/html": [
       "<div>\n",
       "<style scoped>\n",
       "    .dataframe tbody tr th:only-of-type {\n",
       "        vertical-align: middle;\n",
       "    }\n",
       "\n",
       "    .dataframe tbody tr th {\n",
       "        vertical-align: top;\n",
       "    }\n",
       "\n",
       "    .dataframe thead th {\n",
       "        text-align: right;\n",
       "    }\n",
       "</style>\n",
       "<table border=\"1\" class=\"dataframe\">\n",
       "  <thead>\n",
       "    <tr style=\"text-align: right;\">\n",
       "      <th></th>\n",
       "      <th>Survived</th>\n",
       "      <th>Pclass</th>\n",
       "    </tr>\n",
       "    <tr>\n",
       "      <th>PassengerId</th>\n",
       "      <th></th>\n",
       "      <th></th>\n",
       "    </tr>\n",
       "  </thead>\n",
       "  <tbody>\n",
       "    <tr>\n",
       "      <th>1</th>\n",
       "      <td>0</td>\n",
       "      <td>3</td>\n",
       "    </tr>\n",
       "    <tr>\n",
       "      <th>2</th>\n",
       "      <td>1</td>\n",
       "      <td>1</td>\n",
       "    </tr>\n",
       "    <tr>\n",
       "      <th>3</th>\n",
       "      <td>1</td>\n",
       "      <td>3</td>\n",
       "    </tr>\n",
       "    <tr>\n",
       "      <th>4</th>\n",
       "      <td>1</td>\n",
       "      <td>1</td>\n",
       "    </tr>\n",
       "    <tr>\n",
       "      <th>5</th>\n",
       "      <td>0</td>\n",
       "      <td>3</td>\n",
       "    </tr>\n",
       "    <tr>\n",
       "      <th>...</th>\n",
       "      <td>...</td>\n",
       "      <td>...</td>\n",
       "    </tr>\n",
       "    <tr>\n",
       "      <th>887</th>\n",
       "      <td>0</td>\n",
       "      <td>2</td>\n",
       "    </tr>\n",
       "    <tr>\n",
       "      <th>888</th>\n",
       "      <td>1</td>\n",
       "      <td>1</td>\n",
       "    </tr>\n",
       "    <tr>\n",
       "      <th>889</th>\n",
       "      <td>0</td>\n",
       "      <td>3</td>\n",
       "    </tr>\n",
       "    <tr>\n",
       "      <th>890</th>\n",
       "      <td>1</td>\n",
       "      <td>1</td>\n",
       "    </tr>\n",
       "    <tr>\n",
       "      <th>891</th>\n",
       "      <td>0</td>\n",
       "      <td>3</td>\n",
       "    </tr>\n",
       "  </tbody>\n",
       "</table>\n",
       "<p>891 rows × 2 columns</p>\n",
       "</div>"
      ],
      "text/plain": [
       "             Survived  Pclass\n",
       "PassengerId                  \n",
       "1                   0       3\n",
       "2                   1       1\n",
       "3                   1       3\n",
       "4                   1       1\n",
       "5                   0       3\n",
       "...               ...     ...\n",
       "887                 0       2\n",
       "888                 1       1\n",
       "889                 0       3\n",
       "890                 1       1\n",
       "891                 0       3\n",
       "\n",
       "[891 rows x 2 columns]"
      ]
     },
     "execution_count": 1,
     "metadata": {},
     "output_type": "execute_result"
    }
   ],
   "source": [
    "import pandas as pd\n",
    "import numpy as np\n",
    "import matplotlib.pyplot as plt\n",
    "import seaborn as sns\n",
    "data = pd.read_csv(\"titanic_dataset.csv\", index_col='PassengerId', usecols=['PassengerId','Pclass','Survived'])\n",
    "data"
   ]
  },
  {
   "cell_type": "code",
   "execution_count": 2,
   "metadata": {
    "colab": {
     "base_uri": "https://localhost:8080/"
    },
    "id": "P8rN0PBCgItF",
    "outputId": "b9cce07a-6de2-49f9-ea36-851eaa01f528"
   },
   "outputs": [
    {
     "name": "stdout",
     "output_type": "stream",
     "text": [
      "<class 'pandas.core.frame.DataFrame'>\n",
      "Int64Index: 891 entries, 1 to 891\n",
      "Data columns (total 2 columns):\n",
      " #   Column    Non-Null Count  Dtype\n",
      "---  ------    --------------  -----\n",
      " 0   Survived  891 non-null    int64\n",
      " 1   Pclass    891 non-null    int64\n",
      "dtypes: int64(2)\n",
      "memory usage: 20.9 KB\n"
     ]
    }
   ],
   "source": [
    "data.info()"
   ]
  },
  {
   "cell_type": "markdown",
   "metadata": {
    "id": "GIBevuMwgZUY"
   },
   "source": [
    "**Step-2:** Visualizing the \"PClass\" column using Seaborn."
   ]
  },
  {
   "cell_type": "code",
   "execution_count": 3,
   "metadata": {
    "colab": {
     "base_uri": "https://localhost:8080/",
     "height": 350
    },
    "id": "it5ovFZaga5U",
    "outputId": "14e2ba7f-8df6-4ebc-8400-85cb630bfb28"
   },
   "outputs": [
    {
     "data": {
      "image/png": "[encoded data removed]",
      "text/plain": [
       "<Figure size 1000x400 with 2 Axes>"
      ]
     },
     "metadata": {},
     "output_type": "display_data"
    }
   ],
   "source": [
    "import matplotlib.pyplot as plt\n",
    "import seaborn as sns\n",
    "\n",
    "# Create a figure with two subplots\n",
    "fig, axes = plt.subplots(1, 2, figsize=(10, 4))\n",
    "\n",
    "# Plot the count of passengers in each passenger class\n",
    "sns.countplot(data=data, x=\"Pclass\", ax=axes[0])\n",
    "axes[0].set_title(\"Passenger Class Distribution\")\n",
    "\n",
    "# Plot the count of survivors and non-survivors\n",
    "sns.countplot(data=data, x=\"Survived\", ax=axes[1])\n",
    "axes[1].set_title(\"Survival Distribution\")\n",
    "\n",
    "# Adjust the spacing between subplots\n",
    "plt.tight_layout()\n",
    "\n",
    "# Display the figure\n",
    "plt.show()\n"
   ]
  },
  {
   "cell_type": "markdown",
   "metadata": {
    "id": "91riGLj0grZI"
   },
   "source": [
    "**Step-2:** Visualizing the \"Survived or not\" column using Seaborn."
   ]
  },
  {
   "cell_type": "markdown",
   "metadata": {
    "id": "-czcvVg_g5W-"
   },
   "source": [
    "**Step-3:** Creating a pivot table using \"PClass\" and \"Survived or not\" columns."
   ]
  },
  {
   "cell_type": "code",
   "execution_count": 4,
   "metadata": {
    "colab": {
     "base_uri": "https://localhost:8080/",
     "height": 175
    },
    "id": "PyK71AtOhNgJ",
    "outputId": "ff0fc914-012f-414b-d5bd-b459ce7557cb"
   },
   "outputs": [
    {
     "data": {
      "text/html": [
       "<div>\n",
       "<style scoped>\n",
       "    .dataframe tbody tr th:only-of-type {\n",
       "        vertical-align: middle;\n",
       "    }\n",
       "\n",
       "    .dataframe tbody tr th {\n",
       "        vertical-align: top;\n",
       "    }\n",
       "\n",
       "    .dataframe thead th {\n",
       "        text-align: right;\n",
       "    }\n",
       "</style>\n",
       "<table border=\"1\" class=\"dataframe\">\n",
       "  <thead>\n",
       "    <tr style=\"text-align: right;\">\n",
       "      <th>Survived</th>\n",
       "      <th>0</th>\n",
       "      <th>1</th>\n",
       "    </tr>\n",
       "    <tr>\n",
       "      <th>Pclass</th>\n",
       "      <th></th>\n",
       "      <th></th>\n",
       "    </tr>\n",
       "  </thead>\n",
       "  <tbody>\n",
       "    <tr>\n",
       "      <th>1</th>\n",
       "      <td>80</td>\n",
       "      <td>136</td>\n",
       "    </tr>\n",
       "    <tr>\n",
       "      <th>2</th>\n",
       "      <td>97</td>\n",
       "      <td>87</td>\n",
       "    </tr>\n",
       "    <tr>\n",
       "      <th>3</th>\n",
       "      <td>372</td>\n",
       "      <td>119</td>\n",
       "    </tr>\n",
       "  </tbody>\n",
       "</table>\n",
       "</div>"
      ],
      "text/plain": [
       "Survived    0    1\n",
       "Pclass            \n",
       "1          80  136\n",
       "2          97   87\n",
       "3         372  119"
      ]
     },
     "execution_count": 4,
     "metadata": {},
     "output_type": "execute_result"
    }
   ],
   "source": [
    "PClass_survd = pd.crosstab(index=data[\"Pclass\"], columns=data[\"Survived\"])\n",
    "PClass_survd\n"
   ]
  },
  {
   "cell_type": "markdown",
   "metadata": {
    "id": "cyNvrRGQhRtq"
   },
   "source": [
    "**Step-4:** Plotting correlation between passenger class and chances of survival."
   ]
  },
  {
   "cell_type": "code",
   "execution_count": 5,
   "metadata": {
    "colab": {
     "base_uri": "https://localhost:8080/",
     "height": 300
    },
    "id": "DbKdI8BqhdGZ",
    "outputId": "4e2a7265-949b-4b2a-9bb6-f90e00829f70"
   },
   "outputs": [
    {
     "data": {
      "image/png": "[encoded data removed]",
      "text/plain": [
       "<Figure size 640x480 with 2 Axes>"
      ]
     },
     "metadata": {},
     "output_type": "display_data"
    }
   ],
   "source": [
    "sns.heatmap(PClass_survd,annot=True, fmt='g',cmap='hot')\n",
    "plt.title('Class Vs Survived',fontsize=20)\n",
    "plt.show()"
   ]
  },
  {
   "cell_type": "markdown",
   "metadata": {
    "id": "Qs3YGPzOhhBX"
   },
   "source": [
    "**Observation:** 891 entries are present in the data. Most of the people in 3rd class died while most of the people in 1st class survived. In order to see whether there is a bias in the data, we can do the **Chi Square Test** with an assumption that there is no biase between the columns.."
   ]
  },
  {
   "cell_type": "markdown",
   "metadata": {
    "id": "Sxkt9U1ilGIL"
   },
   "source": [
    "**Step-5:** Calculating the rate of survival for each class."
   ]
  },
  {
   "cell_type": "code",
   "execution_count": 6,
   "metadata": {
    "colab": {
     "base_uri": "https://localhost:8080/"
    },
    "id": "YUcJ2sYjh2JY",
    "outputId": "6f81f178-35ee-4a87-8bc9-b1339390b2d4"
   },
   "outputs": [
    {
     "data": {
      "text/plain": [
       "Pclass\n",
       "1    0.242424\n",
       "2    0.206510\n",
       "3    0.551066\n",
       "dtype: float64"
      ]
     },
     "execution_count": 6,
     "metadata": {},
     "output_type": "execute_result"
    }
   ],
   "source": [
    "pct_class = PClass_survd.sum(axis=1)/891  # p_class\n",
    "pct_class"
   ]
  },
  {
   "cell_type": "code",
   "execution_count": 7,
   "metadata": {
    "colab": {
     "base_uri": "https://localhost:8080/"
    },
    "id": "2aoXmvyzh8MM",
    "outputId": "4d12c88d-6413-4bf4-e294-7a3f353384e1"
   },
   "outputs": [
    {
     "data": {
      "text/plain": [
       "Survived\n",
       "0    0.616162\n",
       "1    0.383838\n",
       "dtype: float64"
      ]
     },
     "execution_count": 7,
     "metadata": {},
     "output_type": "execute_result"
    }
   ],
   "source": [
    "pct_survived = PClass_survd.sum(axis=0)/891  #Survived\n",
    "pct_survived"
   ]
  },
  {
   "cell_type": "markdown",
   "metadata": {
    "id": "wXZyXoBIlRTH"
   },
   "source": [
    "**Step-6:** Stating the Null hypotheisis based on survival rates."
   ]
  },
  {
   "cell_type": "markdown",
   "metadata": {
    "id": "vU8EMcnEh_MU"
   },
   "source": [
    "We can see that there is 24% of total passengers in Class 1, 20.65% of total passengers in Class 2 and remaining 55.11% in Class 3.\n",
    "\n",
    "Also 61.62% of total passeneger survived.\n",
    "\n",
    "If we have,\n",
    "\n",
    "**Null hypothesis:** 'The Survival does not depend on the Class the passengers were travelling'."
   ]
  },
  {
   "cell_type": "markdown",
   "metadata": {
    "id": "azSDkMjrmHhl"
   },
   "source": [
    "**Step-7:** Showing the the difference between expected and observed correlations between passenger class and survival using heat maps. "
   ]
  },
  {
   "cell_type": "code",
   "execution_count": 10,
   "metadata": {
    "colab": {
     "base_uri": "https://localhost:8080/",
     "height": 297
    },
    "id": "0HTKK0eyiMEk",
    "outputId": "bfc420af-24bb-4b30-94f2-0132a60ec5d7"
   },
   "outputs": [
    {
     "data": {
      "image/png": "[encoded data removed]",
      "text/plain": [
       "<Figure size 1000x400 with 4 Axes>"
      ]
     },
     "metadata": {},
     "output_type": "display_data"
    }
   ],
   "source": [
    "plt.figure(figsize=(10, 4))\n",
    "\n",
    "plt.subplot(121)  # Specify the subplot as 121\n",
    "sns.heatmap(PClass_survd, annot=True, fmt='g', square=True, cmap='hot')\n",
    "plt.title('Observed', fontsize=20)\n",
    "\n",
    "plt.subplot(122)  # Specify the subplot as 122\n",
    "sns.heatmap(exp, annot=True, fmt='g', square=True, cmap='hot')\n",
    "plt.title('Expected', fontsize=20)\n",
    "\n",
    "plt.tight_layout()\n",
    "plt.show()\n"
   ]
  },
  {
   "cell_type": "markdown",
   "metadata": {
    "id": "B_nC5EmciOkf"
   },
   "source": [
    "**Observation:** There is a visible difference between the expected and the observed distributions. So are they by chance or not? Lets now find the Chi value and P value."
   ]
  },
  {
   "cell_type": "markdown",
   "metadata": {
    "id": "eTld9s8zjmlk"
   },
   "source": [
    "**Step-7:** We can also conduct Chi square test from contigency table."
   ]
  },
  {
   "cell_type": "code",
   "execution_count": 13,
   "metadata": {
    "colab": {
     "base_uri": "https://localhost:8080/"
    },
    "id": "o0F1eBr7jufm",
    "outputId": "c86c5dac-fbbb-47c6-e8f3-ad61c853f5d7",
    "scrolled": true
   },
   "outputs": [
    {
     "name": "stdout",
     "output_type": "stream",
     "text": [
      "Chi square value is  102.88898875696056\n",
      "P value is 4.549251711298793e-23\n",
      "Degrees of Freedom: 2\n"
     ]
    }
   ],
   "source": [
    "from scipy import stats\n",
    "chi2_stat, p_val, dof, ex = stats.chi2_contingency(PClass_survd)\n",
    "\n",
    "print(\"Chi square value is \",chi2_stat)\n",
    "print(\"P value is\",p_val)\n",
    "print(\"Degrees of Freedom:\",dof)"
   ]
  },
  {
   "cell_type": "code",
   "execution_count": 15,
   "metadata": {},
   "outputs": [
    {
     "name": "stdout",
     "output_type": "stream",
     "text": [
      "Entire Distribution: Reject the null hypothesis. There is a significant association between passenger class and survival.\n"
     ]
    }
   ],
   "source": [
    "# Define the significance level (alpha)\n",
    "alpha = 0.05\n",
    "\n",
    "# Determine the decision for the entire distribution\n",
    "if p_val < alpha:\n",
    "    print(\"Entire Distribution: Reject the null hypothesis. There is a significant association between passenger class and survival.\")\n",
    "else:\n",
    "    print(\"Entire Distribution: Accept the null hypothesis. There is no significant association between passenger class and survival.\")\n"
   ]
  },
  {
   "cell_type": "markdown",
   "metadata": {
    "id": "xMZQZPtUmxeV"
   },
   "source": [
    "**Result:** Here we see that the P value is much less than zero and we can reject the null hypothesis.\n",
    "\n",
    "There is a great dependence of survival on the passenger class.\n",
    "\n",
    "Having made comparisons between two categorical columns. We can use this methodology for feature selection as well."
   ]
  }
 ],
 "metadata": {
  "colab": {
   "collapsed_sections": [],
   "name": "DS_D30_DIY_Solution_V1_0.ipynb",
   "provenance": []
  },
  "kernelspec": {
   "display_name": "Python 3 (ipykernel)",
   "language": "python",
   "name": "python3"
  },
  "language_info": {
   "codemirror_mode": {
    "name": "ipython",
    "version": 3
   },
   "file_extension": ".py",
   "mimetype": "text/x-python",
   "name": "python",
   "nbconvert_exporter": "python",
   "pygments_lexer": "ipython3",
   "version": "3.10.9"
  }
 },
 "nbformat": 4,
 "nbformat_minor": 1
}
