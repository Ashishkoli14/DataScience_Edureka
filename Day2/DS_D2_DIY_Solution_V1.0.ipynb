{
  "nbformat": 4,
  "nbformat_minor": 0,
  "metadata": {
    "colab": {
      "name": "DS_D2_DIY_V1.0.ipynb",
      "provenance": [],
      "collapsed_sections": []
    },
    "kernelspec": {
      "name": "python3",
      "display_name": "Python 3"
    },
    "language_info": {
      "name": "python"
    }
  },
  "cells": [
    {
      "cell_type": "markdown",
      "source": [
        "##Day 2 - DIY Solution"
      ],
      "metadata": {
        "id": "C_PuRomsL_w6"
      }
    },
    {
      "cell_type": "markdown",
      "source": [
        "**Q1. Problem Statement: The Percentage Calculator**\n",
        "\n",
        "Write a Python program that takes marks as input for six subjects, maximum marks being 600, prints total marks, average marks, and percentage obtained by a student.\n"
      ],
      "metadata": {
        "id": "vpSyDDv1Mlgm"
      }
    },
    {
      "cell_type": "code",
      "source": [
        "#Percentage calculator\n",
        "print(\"Enter the marks of all six subjects, one by one -\")\n",
        "\n",
        "Subject_1 = float (input (\"Enter the marks out of 100 obtained in subject-1: \"))\n",
        "Subject_2 = float (input (\"Enter the marks obtained out of 100 in subject-2: \"))\n",
        "Subject_3 = float (input (\"Enter the marks obtained out of 100  in subject-3: \"))\n",
        "Subject_4 = float (input (\"Enter the marks obtained out of 100 in subject-4: \"))\n",
        "Subject_5 = float (input (\"Enter the marks obtained in out of 100  subject-5: \"))\n",
        "Subject_6 = float (input (\"Enter the marks obtained in out of 100 subject-6: \"))\n",
        "total, average, percentage = None, None, None\n",
        "\n",
        "#This will calculate the Total, Average and Percentage\n",
        "total = Subject_1 + Subject_2 + Subject_3 + Subject_4 + Subject_5 + Subject_6\n",
        "average = total / 6\n",
        "percentage = (total / 600) * 100\n",
        "\n",
        "print(\"Total marks obtained :\", total)\n",
        "print(\"Average marks obtained:\", average)\n",
        "print(\"Percentage obtained: \", percentage)"
      ],
      "metadata": {
        "colab": {
          "base_uri": "https://localhost:8080/"
        },
        "id": "yE69-y4vMkbB",
        "outputId": "f6a1177f-76b7-4344-f216-3d2df088644b"
      },
      "execution_count": null,
      "outputs": [
        {
          "output_type": "stream",
          "name": "stdout",
          "text": [
            "Enter the marks of all six subjects, one by one -\n",
            "Enter the marks out of 100 obtained in subject-1: 78\n",
            "Enter the marks obtained out of 100 in subject-2: 67\n",
            "Enter the marks obtained out of 100  in subject-3: 56\n",
            "Enter the marks obtained out of 100 in subject-4: 82\n",
            "Enter the marks obtained in out of 100  subject-5: 65\n",
            "Enter the marks obtained in out of 100 subject-6: 74\n",
            "Total marks obtained : 422.0\n",
            "Average marks obtained: 70.33333333333333\n",
            "Percentage obtained:  70.33333333333334\n"
          ]
        }
      ]
    },
    {
      "cell_type": "markdown",
      "source": [
        "**Q2. Problem Statement: The Score Card**\n",
        "\n",
        "Declare a nested list with Exam scores and Students' names as shown here - \"score=[[10, 'John'],[20, 'Lucy']..]\" .Write a Python program to sort the list based on scores, and print the students' names with first and second-highest scores. \n"
      ],
      "metadata": {
        "id": "sLePM1WCNZwj"
      }
    },
    {
      "cell_type": "code",
      "source": [
        "#Score card\n",
        "score=[[10, 'John'],[20, 'Lucy'],[4, 'Amit'],[5, 'Abhishek'],[4, 'Sumit'],[6, 'Amogh'],[46, 'Shweta'],[43, 'Ali'],[4, 'Jibran'],[64, 'Jay'],[65, 'Harshit'],[8, 'Ayushi'],[45, 'Akshay'],[55, 'Sachin'],[558, 'Vishal'],[15, 'Ashish'],[5, 'Vimal'],[4, 'Megha'],[6, 'Sunny'],[5, 'Ravi'],[255, 'Vinay'],[5, 'Yash']]\n",
        "score.sort()\n",
        "score.reverse()\n",
        "max_score=(score[0][1])\n",
        "sec_max=(score[1][1])\n",
        "print(score)\n",
        "print(\"Student with highest marks  is:\", max_score)\n",
        "print(\"And the student with second highest marks is:\",sec_max)"
      ],
      "metadata": {
        "colab": {
          "base_uri": "https://localhost:8080/"
        },
        "id": "iG-7righNhxJ",
        "outputId": "d5a50702-4d34-401d-b1f5-6105767b8edf"
      },
      "execution_count": null,
      "outputs": [
        {
          "output_type": "stream",
          "name": "stdout",
          "text": [
            "[[558, 'Vishal'], [255, 'Vinay'], [65, 'Harshit'], [64, 'Jay'], [55, 'Sachin'], [46, 'Shweta'], [45, 'Akshay'], [43, 'Ali'], [20, 'Lucy'], [15, 'Ashish'], [10, 'John'], [8, 'Ayushi'], [6, 'Sunny'], [6, 'Amogh'], [5, 'Yash'], [5, 'Vimal'], [5, 'Ravi'], [5, 'Abhishek'], [4, 'Sumit'], [4, 'Megha'], [4, 'Jibran'], [4, 'Amit']]\n",
            "Student with highest marks  is: Vishal\n",
            "And the student with second highest marks is: Vinay\n"
          ]
        }
      ]
    }
  ]
}