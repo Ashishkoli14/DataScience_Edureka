{
 "cells": [
  {
   "cell_type": "markdown",
   "metadata": {},
   "source": [
    "# Day 24 - LU1\n",
    "<h2>Demo - Conditional Probaility</h2>"
   ]
  },
  {
   "cell_type": "markdown",
   "metadata": {},
   "source": [
    "#### Q. A customer is planning to go to Seattle and wants to know which type of room has the highest chance of being available in Seattle."
   ]
  },
  {
   "cell_type": "markdown",
   "metadata": {},
   "source": [
    "Note that the event of _\"Finding a room of a specific type given that it is in Seattle\"_ is *__Dependent__* on the event of _\"Finding a room in Seattle\"_."
   ]
  },
  {
   "cell_type": "markdown",
   "metadata": {},
   "source": [
    "Let us first calculate the required probability by looking at the data."
   ]
  },
  {
   "cell_type": "code",
   "execution_count": 1,
   "metadata": {},
   "outputs": [
    {
     "data": {
      "text/html": [
       "<div>\n",
       "<style scoped>\n",
       "    .dataframe tbody tr th:only-of-type {\n",
       "        vertical-align: middle;\n",
       "    }\n",
       "\n",
       "    .dataframe tbody tr th {\n",
       "        vertical-align: top;\n",
       "    }\n",
       "\n",
       "    .dataframe thead th {\n",
       "        text-align: right;\n",
       "    }\n",
       "</style>\n",
       "<table border=\"1\" class=\"dataframe\">\n",
       "  <thead>\n",
       "    <tr style=\"text-align: right;\">\n",
       "      <th></th>\n",
       "      <th>city</th>\n",
       "      <th>room_type</th>\n",
       "      <th>count</th>\n",
       "    </tr>\n",
       "  </thead>\n",
       "  <tbody>\n",
       "    <tr>\n",
       "      <th>8</th>\n",
       "      <td>Seattle</td>\n",
       "      <td>Apartment</td>\n",
       "      <td>5028</td>\n",
       "    </tr>\n",
       "    <tr>\n",
       "      <th>9</th>\n",
       "      <td>Seattle</td>\n",
       "      <td>HotelRoom</td>\n",
       "      <td>51</td>\n",
       "    </tr>\n",
       "    <tr>\n",
       "      <th>10</th>\n",
       "      <td>Seattle</td>\n",
       "      <td>Private</td>\n",
       "      <td>1399</td>\n",
       "    </tr>\n",
       "    <tr>\n",
       "      <th>11</th>\n",
       "      <td>Seattle</td>\n",
       "      <td>Shared</td>\n",
       "      <td>97</td>\n",
       "    </tr>\n",
       "  </tbody>\n",
       "</table>\n",
       "</div>"
      ],
      "text/plain": [
       "       city  room_type  count\n",
       "8   Seattle  Apartment   5028\n",
       "9   Seattle  HotelRoom     51\n",
       "10  Seattle    Private   1399\n",
       "11  Seattle     Shared     97"
      ]
     },
     "execution_count": 1,
     "metadata": {},
     "output_type": "execute_result"
    }
   ],
   "source": [
    "import pandas as pd\n",
    "df = pd.read_csv(\"airbnb_data.csv\")\n",
    "#View the number of rooms of different types in Seattle\n",
    "df2 = pd.DataFrame({'count' : df.groupby( [ \"city\", \"room_type\"] ).size()}).reset_index()\n",
    "#df2[(df2['room_type']=='Apartment') & (df2['city'] =='Boston')].count\n",
    "df2[(df2['city']=='Seattle')]"
   ]
  },
  {
   "cell_type": "code",
   "execution_count": 3,
   "metadata": {},
   "outputs": [
    {
     "data": {
      "text/html": [
       "<div>\n",
       "<style scoped>\n",
       "    .dataframe tbody tr th:only-of-type {\n",
       "        vertical-align: middle;\n",
       "    }\n",
       "\n",
       "    .dataframe tbody tr th {\n",
       "        vertical-align: top;\n",
       "    }\n",
       "\n",
       "    .dataframe thead th {\n",
       "        text-align: right;\n",
       "    }\n",
       "</style>\n",
       "<table border=\"1\" class=\"dataframe\">\n",
       "  <thead>\n",
       "    <tr style=\"text-align: right;\">\n",
       "      <th></th>\n",
       "      <th>id</th>\n",
       "      <th>name</th>\n",
       "      <th>room_type</th>\n",
       "      <th>price</th>\n",
       "      <th>minimum_nights</th>\n",
       "      <th>number_of_reviews</th>\n",
       "      <th>city</th>\n",
       "    </tr>\n",
       "  </thead>\n",
       "  <tbody>\n",
       "    <tr>\n",
       "      <th>0</th>\n",
       "      <td>3781</td>\n",
       "      <td>HARBORSIDE-Walk to subway</td>\n",
       "      <td>Apartment</td>\n",
       "      <td>146</td>\n",
       "      <td>28</td>\n",
       "      <td>16</td>\n",
       "      <td>Boston</td>\n",
       "    </tr>\n",
       "    <tr>\n",
       "      <th>1</th>\n",
       "      <td>5506</td>\n",
       "      <td>**$49 Special **   Private! Minutes to center!</td>\n",
       "      <td>Apartment</td>\n",
       "      <td>145</td>\n",
       "      <td>3</td>\n",
       "      <td>107</td>\n",
       "      <td>Boston</td>\n",
       "    </tr>\n",
       "    <tr>\n",
       "      <th>2</th>\n",
       "      <td>6695</td>\n",
       "      <td>$99 Special!! Home Away! Condo</td>\n",
       "      <td>Apartment</td>\n",
       "      <td>169</td>\n",
       "      <td>3</td>\n",
       "      <td>115</td>\n",
       "      <td>Boston</td>\n",
       "    </tr>\n",
       "    <tr>\n",
       "      <th>3</th>\n",
       "      <td>10730</td>\n",
       "      <td>Bright 1bed facing Golden Dome</td>\n",
       "      <td>Apartment</td>\n",
       "      <td>85</td>\n",
       "      <td>91</td>\n",
       "      <td>32</td>\n",
       "      <td>Boston</td>\n",
       "    </tr>\n",
       "    <tr>\n",
       "      <th>4</th>\n",
       "      <td>10813</td>\n",
       "      <td>Back Bay Apt-blocks to subway, Newbury St, The...</td>\n",
       "      <td>Apartment</td>\n",
       "      <td>87</td>\n",
       "      <td>28</td>\n",
       "      <td>10</td>\n",
       "      <td>Boston</td>\n",
       "    </tr>\n",
       "  </tbody>\n",
       "</table>\n",
       "</div>"
      ],
      "text/plain": [
       "      id                                               name  room_type  price  \\\n",
       "0   3781                          HARBORSIDE-Walk to subway  Apartment    146   \n",
       "1   5506     **$49 Special **   Private! Minutes to center!  Apartment    145   \n",
       "2   6695                     $99 Special!! Home Away! Condo  Apartment    169   \n",
       "3  10730                     Bright 1bed facing Golden Dome  Apartment     85   \n",
       "4  10813  Back Bay Apt-blocks to subway, Newbury St, The...  Apartment     87   \n",
       "\n",
       "   minimum_nights  number_of_reviews    city  \n",
       "0              28                 16  Boston  \n",
       "1               3                107  Boston  \n",
       "2               3                115  Boston  \n",
       "3              91                 32  Boston  \n",
       "4              28                 10  Boston  "
      ]
     },
     "execution_count": 3,
     "metadata": {},
     "output_type": "execute_result"
    }
   ],
   "source": [
    "df.head()"
   ]
  },
  {
   "cell_type": "code",
   "execution_count": 4,
   "metadata": {},
   "outputs": [
    {
     "data": {
      "text/plain": [
       "6575"
      ]
     },
     "execution_count": 4,
     "metadata": {},
     "output_type": "execute_result"
    }
   ],
   "source": [
    "#calculating the number of rooms in Seattle again\n",
    "n_sea = df2[(df2['city']=='Seattle')]['count'].sum()\n",
    "n_sea"
   ]
  },
  {
   "cell_type": "code",
   "execution_count": 5,
   "metadata": {},
   "outputs": [
    {
     "data": {
      "text/plain": [
       "0.765"
      ]
     },
     "execution_count": 5,
     "metadata": {},
     "output_type": "execute_result"
    }
   ],
   "source": [
    "#probability of finding an Apartment given that it is in Seattle\n",
    "p_aptINsea = round(5028/n_sea,3)\n",
    "p_aptINsea"
   ]
  },
  {
   "cell_type": "code",
   "execution_count": 6,
   "metadata": {},
   "outputs": [
    {
     "data": {
      "text/plain": [
       "0.213"
      ]
     },
     "execution_count": 6,
     "metadata": {},
     "output_type": "execute_result"
    }
   ],
   "source": [
    "#probability of finding a Private room given that it is in Seattle\n",
    "p_pvtINsea = round(1399/n_sea,3)\n",
    "p_pvtINsea"
   ]
  },
  {
   "cell_type": "code",
   "execution_count": 7,
   "metadata": {},
   "outputs": [
    {
     "data": {
      "text/plain": [
       "0.008"
      ]
     },
     "execution_count": 7,
     "metadata": {},
     "output_type": "execute_result"
    }
   ],
   "source": [
    "#probability of finding a Hotel room given that it is in Seattle\n",
    "p_htlINsea = round(51/n_sea,3)\n",
    "p_htlINsea"
   ]
  },
  {
   "cell_type": "code",
   "execution_count": 8,
   "metadata": {},
   "outputs": [
    {
     "data": {
      "text/plain": [
       "0.015"
      ]
     },
     "execution_count": 8,
     "metadata": {},
     "output_type": "execute_result"
    }
   ],
   "source": [
    "#probability of finding a Shared room given that it is in Seattle\n",
    "p_shdINsea = round(97/n_sea,3)\n",
    "p_shdINsea"
   ]
  },
  {
   "cell_type": "markdown",
   "metadata": {},
   "source": [
    "### Inference:\n",
    "\n",
    "1. If the customer tries to book an Apartment in Seattle, then he/she has the maximum chance of getting it compared to other types of rooms.\n",
    "2. There is teh least chance of getting a Hotel Room in Seattle."
   ]
  },
  {
   "attachments": {
    "image.png": {
     "image/png": "[encoded data removed]"
    }
   },
   "cell_type": "markdown",
   "metadata": {},
   "source": [
    "#### Let's calculate the probability of _\"Finding an Apartment in Seattle\"_ using the formula of Conditional Probability.\n",
    "\n",
    "**Probability of a dependent event:**\n",
    "![image.png](attachment:image.png)"
   ]
  },
  {
   "attachments": {
    "image.png": {
     "image/png": "[encoded data removed]"
    }
   },
   "cell_type": "markdown",
   "metadata": {},
   "source": [
    "\n",
    "**Probability of intersection of two dependent events:**\n",
    "![image.png](attachment:image.png)"
   ]
  },
  {
   "cell_type": "code",
   "execution_count": 9,
   "metadata": {},
   "outputs": [],
   "source": [
    "#probability of finding a room in Seattle - P(A)\n",
    "\n",
    "p_sea = 0.203 # From last hands on"
   ]
  },
  {
   "cell_type": "code",
   "execution_count": 10,
   "metadata": {},
   "outputs": [
    {
     "data": {
      "text/plain": [
       "0.765"
      ]
     },
     "execution_count": 10,
     "metadata": {},
     "output_type": "execute_result"
    }
   ],
   "source": [
    "#probability that a room is an Apartment given that it is Seattle - P(B|A)\n",
    "p_aptINsea"
   ]
  },
  {
   "cell_type": "code",
   "execution_count": 11,
   "metadata": {},
   "outputs": [
    {
     "data": {
      "text/plain": [
       "0.15529500000000002"
      ]
     },
     "execution_count": 11,
     "metadata": {},
     "output_type": "execute_result"
    }
   ],
   "source": [
    "#probability of finding an Apartment given that it is in Seattle - P(B AND A)\n",
    "p_aptINsea * p_sea"
   ]
  },
  {
   "cell_type": "markdown",
   "metadata": {},
   "source": [
    "### Inference:\n",
    "\n",
    "1. Probability of finding an Apartment in Seattle calculated using formula for Conditional Probability is 0.155.\n",
    "2. This probability matches with probability of intersection calculated directly from the data."
   ]
  },
  {
   "cell_type": "markdown",
   "metadata": {},
   "source": [
    "#### Q. A host wants to invest in real estate and then use that property for renting though _Airbnb_. The host has decided to buy an Apartment type property but hasn't decided the city yet. Can you help the host find which city has less chance of finding apartments so that the host can decide to buy in that city?"
   ]
  },
  {
   "cell_type": "markdown",
   "metadata": {},
   "source": [
    "The required probability is _\"Finding a room in a specific city given that it is of type Apartment\"_. Let's calculate these probabilities for different cities using the formula of __Conditional Probability__."
   ]
  },
  {
   "cell_type": "markdown",
   "metadata": {},
   "source": [
    "1) Probability of finding a room in Boston given that it is an Apartment = (Probability of finding an Apartment in Boston)/(Probabiliy of finding an Apartment)"
   ]
  },
  {
   "cell_type": "code",
   "execution_count": 12,
   "metadata": {},
   "outputs": [],
   "source": [
    "#probability of finding an Apartment in Boston\n",
    "p_aptANDbos = 0.067"
   ]
  },
  {
   "cell_type": "code",
   "execution_count": 13,
   "metadata": {},
   "outputs": [
    {
     "data": {
      "text/plain": [
       "0.842"
      ]
     },
     "execution_count": 13,
     "metadata": {},
     "output_type": "execute_result"
    }
   ],
   "source": [
    "#probability of finding an Apartment\n",
    "p_apt = 0.842\n",
    "p_apt"
   ]
  },
  {
   "cell_type": "code",
   "execution_count": 14,
   "metadata": {},
   "outputs": [
    {
     "data": {
      "text/plain": [
       "0.08"
      ]
     },
     "execution_count": 14,
     "metadata": {},
     "output_type": "execute_result"
    }
   ],
   "source": [
    "#Dependent probability of finding a room in Boston given that it is an Apartment\n",
    "p_bos_given_apt = round(p_aptANDbos/p_apt,3)\n",
    "p_bos_given_apt"
   ]
  },
  {
   "cell_type": "markdown",
   "metadata": {},
   "source": [
    "2) Probability of finding a room in Hawaii given that it is an Apartment = (Probability of finding an Apartment in Hawaii)/(Probabiliy of finding an Apartment)"
   ]
  },
  {
   "cell_type": "code",
   "execution_count": 15,
   "metadata": {},
   "outputs": [
    {
     "data": {
      "text/plain": [
       "0.736"
      ]
     },
     "execution_count": 15,
     "metadata": {},
     "output_type": "execute_result"
    }
   ],
   "source": [
    "#probability of finding an Apartment in Hawai\n",
    "ss_ab = 32348\n",
    "n_apt_haw = df[(df['room_type']=='Apartment') & (df['city'] =='Hawaii')].count()['id']\n",
    "p_aptANDhaw = (n_apt_haw/ss_ab)\n",
    "\n",
    "#Dependent probability of finding a room in Hawaii given that it is an Apartment\n",
    "p_haw_given_apt = round(p_aptANDhaw/p_apt,3)\n",
    "p_haw_given_apt"
   ]
  },
  {
   "cell_type": "markdown",
   "metadata": {},
   "source": [
    "3) Probability of finding a room in Seattle given that it is an Apartment = (Probability of finding an Apartment in Seattle)/(Probabiliy of finding an Apartment)"
   ]
  },
  {
   "cell_type": "code",
   "execution_count": 16,
   "metadata": {},
   "outputs": [
    {
     "data": {
      "text/plain": [
       "0.185"
      ]
     },
     "execution_count": 16,
     "metadata": {},
     "output_type": "execute_result"
    }
   ],
   "source": [
    "#probability of finding an Apartment in Seattle\n",
    "n_apt_sea = df[(df['room_type']=='Apartment') & (df['city'] =='Seattle')].count()['id']\n",
    "p_aptANDsea = (n_apt_sea/ss_ab)\n",
    "\n",
    "#Dependent probability of finding a room in Hawaii given that it is an Apartment\n",
    "p_sea_given_apt = round(p_aptANDsea/p_apt,3)\n",
    "p_sea_given_apt"
   ]
  },
  {
   "cell_type": "markdown",
   "metadata": {},
   "source": [
    "### Inference:\n",
    "\n",
    "1. Probability of Apartment type rooms is least in Boston. Hence the host should buy an Apartment in Boston to get more profits."
   ]
  },
  {
   "cell_type": "code",
   "execution_count": null,
   "metadata": {},
   "outputs": [],
   "source": []
  }
 ],
 "metadata": {
  "kernelspec": {
   "display_name": "Python 3 (ipykernel)",
   "language": "python",
   "name": "python3"
  },
  "language_info": {
   "codemirror_mode": {
    "name": "ipython",
    "version": 3
   },
   "file_extension": ".py",
   "mimetype": "text/x-python",
   "name": "python",
   "nbconvert_exporter": "python",
   "pygments_lexer": "ipython3",
   "version": "3.9.7"
  }
 },
 "nbformat": 4,
 "nbformat_minor": 2
}
