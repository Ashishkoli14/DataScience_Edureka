{
  "nbformat": 4,
  "nbformat_minor": 0,
  "metadata": {
    "colab": {
      "name": "DS_D24_DIY_Solution_V1_0.ipynb",
      "provenance": [],
      "collapsed_sections": []
    },
    "kernelspec": {
      "name": "python3",
      "display_name": "Python 3"
    },
    "language_info": {
      "name": "python"
    }
  },
  "cells": [
    {
      "cell_type": "markdown",
      "source": [
        "##Day 24 - DIY Solution"
      ],
      "metadata": {
        "id": "sEA20NXf9qBD"
      }
    },
    {
      "cell_type": "markdown",
      "source": [
        "**Q1. Problem Statement: Conditional Probability**\n",
        "\n",
        "Load the “kerala.csv” data into a DataFrame and perform the following tasks:\n",
        "1.\tExplore the DataFrame using info() and describe() functions\n",
        "2.\tJune and July are the peak months of rainfall. Consider that if it rains more than 500mm, then chances of flood become more; create a Datarame with columns –“YEAR”,  “JUN_GT_500” (Contains a boolean value to show whether it rained more thn 500 mm in the month of June) , “JUL_GT_500” (Contains a boolean value to show whether it rained more thn 500 mm in the month of July), and “FLOODS” (Contains a boolean value to show whether it flooded that year)\n",
        "3.\tCalculate the probability of flood given it rained more than 500 mm in June (P(A|B))\n",
        "4.\tCalculate the probability of rain more than 500 mm in June, given it flooded that year (P(B|A))\n",
        "5.\tProbability of flood given it rained more than 500 mm in July\n",
        "6.\tProbability of rain more than 500 mm in July given it flooded that year (P(B|A))\n",
        "\n"
      ],
      "metadata": {
        "id": "5yBsVFiDcNzr"
      }
    },
    {
      "cell_type": "markdown",
      "source": [
        "**Step-1:** Loading the dataset into a DataFrame."
      ],
      "metadata": {
        "id": "GkFFLNjjOWnK"
      }
    },
    {
      "cell_type": "code",
      "execution_count": 13,
      "metadata": {
        "colab": {
          "base_uri": "https://localhost:8080/",
          "height": 206
        },
        "id": "k9N5YO7F9kXt",
        "outputId": "4d2f8ae7-b6a1-4982-c275-07cee97baa81"
      },
      "outputs": [
        {
          "output_type": "execute_result",
          "data": {
            "text/plain": [
              "  SUBDIVISION  YEAR   JAN   FEB   MAR    APR    MAY     JUN     JUL    AUG  \\\n",
              "0      KERALA  1901  28.7  44.7  51.6  160.0  174.7   824.6   743.0  357.5   \n",
              "1      KERALA  1902   6.7   2.6  57.3   83.9  134.5   390.9  1205.0  315.8   \n",
              "2      KERALA  1903   3.2  18.6   3.1   83.6  249.7   558.6  1022.5  420.2   \n",
              "3      KERALA  1904  23.7   3.0  32.2   71.5  235.7  1098.2   725.5  351.8   \n",
              "4      KERALA  1905   1.2  22.3   9.4  105.9  263.3   850.2   520.5  293.6   \n",
              "\n",
              "     SEP    OCT    NOV    DEC   ANNUAL RAINFALL FLOODS  \n",
              "0  197.7  266.9  350.8   48.4            3248.6    YES  \n",
              "1  491.6  358.4  158.3  121.5            3326.6    YES  \n",
              "2  341.8  354.1  157.0   59.0            3271.2    YES  \n",
              "3  222.7  328.1   33.9    3.3            3129.7    YES  \n",
              "4  217.2  383.5   74.4    0.2            2741.6     NO  "
            ],
            "text/html": [
              "\n",
              "  <div id=\"df-50086d5a-21a0-4564-991d-0c7211d5b0f9\">\n",
              "    <div class=\"colab-df-container\">\n",
              "      <div>\n",
              "<style scoped>\n",
              "    .dataframe tbody tr th:only-of-type {\n",
              "        vertical-align: middle;\n",
              "    }\n",
              "\n",
              "    .dataframe tbody tr th {\n",
              "        vertical-align: top;\n",
              "    }\n",
              "\n",
              "    .dataframe thead th {\n",
              "        text-align: right;\n",
              "    }\n",
              "</style>\n",
              "<table border=\"1\" class=\"dataframe\">\n",
              "  <thead>\n",
              "    <tr style=\"text-align: right;\">\n",
              "      <th></th>\n",
              "      <th>SUBDIVISION</th>\n",
              "      <th>YEAR</th>\n",
              "      <th>JAN</th>\n",
              "      <th>FEB</th>\n",
              "      <th>MAR</th>\n",
              "      <th>APR</th>\n",
              "      <th>MAY</th>\n",
              "      <th>JUN</th>\n",
              "      <th>JUL</th>\n",
              "      <th>AUG</th>\n",
              "      <th>SEP</th>\n",
              "      <th>OCT</th>\n",
              "      <th>NOV</th>\n",
              "      <th>DEC</th>\n",
              "      <th>ANNUAL RAINFALL</th>\n",
              "      <th>FLOODS</th>\n",
              "    </tr>\n",
              "  </thead>\n",
              "  <tbody>\n",
              "    <tr>\n",
              "      <th>0</th>\n",
              "      <td>KERALA</td>\n",
              "      <td>1901</td>\n",
              "      <td>28.7</td>\n",
              "      <td>44.7</td>\n",
              "      <td>51.6</td>\n",
              "      <td>160.0</td>\n",
              "      <td>174.7</td>\n",
              "      <td>824.6</td>\n",
              "      <td>743.0</td>\n",
              "      <td>357.5</td>\n",
              "      <td>197.7</td>\n",
              "      <td>266.9</td>\n",
              "      <td>350.8</td>\n",
              "      <td>48.4</td>\n",
              "      <td>3248.6</td>\n",
              "      <td>YES</td>\n",
              "    </tr>\n",
              "    <tr>\n",
              "      <th>1</th>\n",
              "      <td>KERALA</td>\n",
              "      <td>1902</td>\n",
              "      <td>6.7</td>\n",
              "      <td>2.6</td>\n",
              "      <td>57.3</td>\n",
              "      <td>83.9</td>\n",
              "      <td>134.5</td>\n",
              "      <td>390.9</td>\n",
              "      <td>1205.0</td>\n",
              "      <td>315.8</td>\n",
              "      <td>491.6</td>\n",
              "      <td>358.4</td>\n",
              "      <td>158.3</td>\n",
              "      <td>121.5</td>\n",
              "      <td>3326.6</td>\n",
              "      <td>YES</td>\n",
              "    </tr>\n",
              "    <tr>\n",
              "      <th>2</th>\n",
              "      <td>KERALA</td>\n",
              "      <td>1903</td>\n",
              "      <td>3.2</td>\n",
              "      <td>18.6</td>\n",
              "      <td>3.1</td>\n",
              "      <td>83.6</td>\n",
              "      <td>249.7</td>\n",
              "      <td>558.6</td>\n",
              "      <td>1022.5</td>\n",
              "      <td>420.2</td>\n",
              "      <td>341.8</td>\n",
              "      <td>354.1</td>\n",
              "      <td>157.0</td>\n",
              "      <td>59.0</td>\n",
              "      <td>3271.2</td>\n",
              "      <td>YES</td>\n",
              "    </tr>\n",
              "    <tr>\n",
              "      <th>3</th>\n",
              "      <td>KERALA</td>\n",
              "      <td>1904</td>\n",
              "      <td>23.7</td>\n",
              "      <td>3.0</td>\n",
              "      <td>32.2</td>\n",
              "      <td>71.5</td>\n",
              "      <td>235.7</td>\n",
              "      <td>1098.2</td>\n",
              "      <td>725.5</td>\n",
              "      <td>351.8</td>\n",
              "      <td>222.7</td>\n",
              "      <td>328.1</td>\n",
              "      <td>33.9</td>\n",
              "      <td>3.3</td>\n",
              "      <td>3129.7</td>\n",
              "      <td>YES</td>\n",
              "    </tr>\n",
              "    <tr>\n",
              "      <th>4</th>\n",
              "      <td>KERALA</td>\n",
              "      <td>1905</td>\n",
              "      <td>1.2</td>\n",
              "      <td>22.3</td>\n",
              "      <td>9.4</td>\n",
              "      <td>105.9</td>\n",
              "      <td>263.3</td>\n",
              "      <td>850.2</td>\n",
              "      <td>520.5</td>\n",
              "      <td>293.6</td>\n",
              "      <td>217.2</td>\n",
              "      <td>383.5</td>\n",
              "      <td>74.4</td>\n",
              "      <td>0.2</td>\n",
              "      <td>2741.6</td>\n",
              "      <td>NO</td>\n",
              "    </tr>\n",
              "  </tbody>\n",
              "</table>\n",
              "</div>\n",
              "      <button class=\"colab-df-convert\" onclick=\"convertToInteractive('df-50086d5a-21a0-4564-991d-0c7211d5b0f9')\"\n",
              "              title=\"Convert this dataframe to an interactive table.\"\n",
              "              style=\"display:none;\">\n",
              "        \n",
              "  <svg xmlns=\"http://www.w3.org/2000/svg\" height=\"24px\"viewBox=\"0 0 24 24\"\n",
              "       width=\"24px\">\n",
              "    <path d=\"M0 0h24v24H0V0z\" fill=\"none\"/>\n",
              "    <path d=\"M18.56 5.44l.94 2.06.94-2.06 2.06-.94-2.06-.94-.94-2.06-.94 2.06-2.06.94zm-11 1L8.5 8.5l.94-2.06 2.06-.94-2.06-.94L8.5 2.5l-.94 2.06-2.06.94zm10 10l.94 2.06.94-2.06 2.06-.94-2.06-.94-.94-2.06-.94 2.06-2.06.94z\"/><path d=\"M17.41 7.96l-1.37-1.37c-.4-.4-.92-.59-1.43-.59-.52 0-1.04.2-1.43.59L10.3 9.45l-7.72 7.72c-.78.78-.78 2.05 0 2.83L4 21.41c.39.39.9.59 1.41.59.51 0 1.02-.2 1.41-.59l7.78-7.78 2.81-2.81c.8-.78.8-2.07 0-2.86zM5.41 20L4 18.59l7.72-7.72 1.47 1.35L5.41 20z\"/>\n",
              "  </svg>\n",
              "      </button>\n",
              "      \n",
              "  <style>\n",
              "    .colab-df-container {\n",
              "      display:flex;\n",
              "      flex-wrap:wrap;\n",
              "      gap: 12px;\n",
              "    }\n",
              "\n",
              "    .colab-df-convert {\n",
              "      background-color: #E8F0FE;\n",
              "      border: none;\n",
              "      border-radius: 50%;\n",
              "      cursor: pointer;\n",
              "      display: none;\n",
              "      fill: #1967D2;\n",
              "      height: 32px;\n",
              "      padding: 0 0 0 0;\n",
              "      width: 32px;\n",
              "    }\n",
              "\n",
              "    .colab-df-convert:hover {\n",
              "      background-color: #E2EBFA;\n",
              "      box-shadow: 0px 1px 2px rgba(60, 64, 67, 0.3), 0px 1px 3px 1px rgba(60, 64, 67, 0.15);\n",
              "      fill: #174EA6;\n",
              "    }\n",
              "\n",
              "    [theme=dark] .colab-df-convert {\n",
              "      background-color: #3B4455;\n",
              "      fill: #D2E3FC;\n",
              "    }\n",
              "\n",
              "    [theme=dark] .colab-df-convert:hover {\n",
              "      background-color: #434B5C;\n",
              "      box-shadow: 0px 1px 3px 1px rgba(0, 0, 0, 0.15);\n",
              "      filter: drop-shadow(0px 1px 2px rgba(0, 0, 0, 0.3));\n",
              "      fill: #FFFFFF;\n",
              "    }\n",
              "  </style>\n",
              "\n",
              "      <script>\n",
              "        const buttonEl =\n",
              "          document.querySelector('#df-50086d5a-21a0-4564-991d-0c7211d5b0f9 button.colab-df-convert');\n",
              "        buttonEl.style.display =\n",
              "          google.colab.kernel.accessAllowed ? 'block' : 'none';\n",
              "\n",
              "        async function convertToInteractive(key) {\n",
              "          const element = document.querySelector('#df-50086d5a-21a0-4564-991d-0c7211d5b0f9');\n",
              "          const dataTable =\n",
              "            await google.colab.kernel.invokeFunction('convertToInteractive',\n",
              "                                                     [key], {});\n",
              "          if (!dataTable) return;\n",
              "\n",
              "          const docLinkHtml = 'Like what you see? Visit the ' +\n",
              "            '<a target=\"_blank\" href=https://colab.research.google.com/notebooks/data_table.ipynb>data table notebook</a>'\n",
              "            + ' to learn more about interactive tables.';\n",
              "          element.innerHTML = '';\n",
              "          dataTable['output_type'] = 'display_data';\n",
              "          await google.colab.output.renderOutput(dataTable, element);\n",
              "          const docLink = document.createElement('div');\n",
              "          docLink.innerHTML = docLinkHtml;\n",
              "          element.appendChild(docLink);\n",
              "        }\n",
              "      </script>\n",
              "    </div>\n",
              "  </div>\n",
              "  "
            ]
          },
          "metadata": {},
          "execution_count": 13
        }
      ],
      "source": [
        "# Import libraries\n",
        "import numpy as np\n",
        "import pandas as pd\n",
        "\n",
        "# Read the data\n",
        "df = pd.read_csv(\"/content/kerala.csv\")\n",
        "df.head()"
      ]
    },
    {
      "cell_type": "markdown",
      "source": [
        "**Step-2:** Replacing the target column with numeric values (0 and 1)."
      ],
      "metadata": {
        "id": "0BxMnQVEOeyN"
      }
    },
    {
      "cell_type": "code",
      "source": [
        "# Changing the target column to numeric values\n",
        "df[\"FLOODS\"] = df[\"FLOODS\"].map({\"YES\": 1, \"NO\": 0})"
      ],
      "metadata": {
        "id": "lGYDLsyFOVej"
      },
      "execution_count": 14,
      "outputs": []
    },
    {
      "cell_type": "markdown",
      "source": [
        "**Step-3:** Creating binary data for the months of June and July using the rainfall threshold as 500mm."
      ],
      "metadata": {
        "id": "N7Ms8z19OpM4"
      }
    },
    {
      "cell_type": "code",
      "source": [
        "#Creating binary data for the months of June and July using the rainfall threshold\n",
        "df[\"JUN_GT_500\"] = (df[\"JUN\"] > 500).astype(\"int\")\n",
        "df[\"JUL_GT_500\"] = (df[\"JUL\"] > 500).astype(\"int\")\n",
        "df_small = df.loc[:, [\"YEAR\", \"JUN_GT_500\", \"JUL_GT_500\", \"FLOODS\"]]\n",
        "df_small[\"COUNT\"] = 1\n",
        "df_small.head()"
      ],
      "metadata": {
        "colab": {
          "base_uri": "https://localhost:8080/",
          "height": 206
        },
        "id": "LaADxhr7Oyyt",
        "outputId": "bea5219f-8c61-45ab-af16-d1132b74e285"
      },
      "execution_count": 15,
      "outputs": [
        {
          "output_type": "execute_result",
          "data": {
            "text/plain": [
              "   YEAR  JUN_GT_500  JUL_GT_500  FLOODS  COUNT\n",
              "0  1901           1           1       1      1\n",
              "1  1902           0           1       1      1\n",
              "2  1903           1           1       1      1\n",
              "3  1904           1           1       1      1\n",
              "4  1905           1           1       0      1"
            ],
            "text/html": [
              "\n",
              "  <div id=\"df-d242318d-e3b5-4a00-8526-4fcc6dfe461f\">\n",
              "    <div class=\"colab-df-container\">\n",
              "      <div>\n",
              "<style scoped>\n",
              "    .dataframe tbody tr th:only-of-type {\n",
              "        vertical-align: middle;\n",
              "    }\n",
              "\n",
              "    .dataframe tbody tr th {\n",
              "        vertical-align: top;\n",
              "    }\n",
              "\n",
              "    .dataframe thead th {\n",
              "        text-align: right;\n",
              "    }\n",
              "</style>\n",
              "<table border=\"1\" class=\"dataframe\">\n",
              "  <thead>\n",
              "    <tr style=\"text-align: right;\">\n",
              "      <th></th>\n",
              "      <th>YEAR</th>\n",
              "      <th>JUN_GT_500</th>\n",
              "      <th>JUL_GT_500</th>\n",
              "      <th>FLOODS</th>\n",
              "      <th>COUNT</th>\n",
              "    </tr>\n",
              "  </thead>\n",
              "  <tbody>\n",
              "    <tr>\n",
              "      <th>0</th>\n",
              "      <td>1901</td>\n",
              "      <td>1</td>\n",
              "      <td>1</td>\n",
              "      <td>1</td>\n",
              "      <td>1</td>\n",
              "    </tr>\n",
              "    <tr>\n",
              "      <th>1</th>\n",
              "      <td>1902</td>\n",
              "      <td>0</td>\n",
              "      <td>1</td>\n",
              "      <td>1</td>\n",
              "      <td>1</td>\n",
              "    </tr>\n",
              "    <tr>\n",
              "      <th>2</th>\n",
              "      <td>1903</td>\n",
              "      <td>1</td>\n",
              "      <td>1</td>\n",
              "      <td>1</td>\n",
              "      <td>1</td>\n",
              "    </tr>\n",
              "    <tr>\n",
              "      <th>3</th>\n",
              "      <td>1904</td>\n",
              "      <td>1</td>\n",
              "      <td>1</td>\n",
              "      <td>1</td>\n",
              "      <td>1</td>\n",
              "    </tr>\n",
              "    <tr>\n",
              "      <th>4</th>\n",
              "      <td>1905</td>\n",
              "      <td>1</td>\n",
              "      <td>1</td>\n",
              "      <td>0</td>\n",
              "      <td>1</td>\n",
              "    </tr>\n",
              "  </tbody>\n",
              "</table>\n",
              "</div>\n",
              "      <button class=\"colab-df-convert\" onclick=\"convertToInteractive('df-d242318d-e3b5-4a00-8526-4fcc6dfe461f')\"\n",
              "              title=\"Convert this dataframe to an interactive table.\"\n",
              "              style=\"display:none;\">\n",
              "        \n",
              "  <svg xmlns=\"http://www.w3.org/2000/svg\" height=\"24px\"viewBox=\"0 0 24 24\"\n",
              "       width=\"24px\">\n",
              "    <path d=\"M0 0h24v24H0V0z\" fill=\"none\"/>\n",
              "    <path d=\"M18.56 5.44l.94 2.06.94-2.06 2.06-.94-2.06-.94-.94-2.06-.94 2.06-2.06.94zm-11 1L8.5 8.5l.94-2.06 2.06-.94-2.06-.94L8.5 2.5l-.94 2.06-2.06.94zm10 10l.94 2.06.94-2.06 2.06-.94-2.06-.94-.94-2.06-.94 2.06-2.06.94z\"/><path d=\"M17.41 7.96l-1.37-1.37c-.4-.4-.92-.59-1.43-.59-.52 0-1.04.2-1.43.59L10.3 9.45l-7.72 7.72c-.78.78-.78 2.05 0 2.83L4 21.41c.39.39.9.59 1.41.59.51 0 1.02-.2 1.41-.59l7.78-7.78 2.81-2.81c.8-.78.8-2.07 0-2.86zM5.41 20L4 18.59l7.72-7.72 1.47 1.35L5.41 20z\"/>\n",
              "  </svg>\n",
              "      </button>\n",
              "      \n",
              "  <style>\n",
              "    .colab-df-container {\n",
              "      display:flex;\n",
              "      flex-wrap:wrap;\n",
              "      gap: 12px;\n",
              "    }\n",
              "\n",
              "    .colab-df-convert {\n",
              "      background-color: #E8F0FE;\n",
              "      border: none;\n",
              "      border-radius: 50%;\n",
              "      cursor: pointer;\n",
              "      display: none;\n",
              "      fill: #1967D2;\n",
              "      height: 32px;\n",
              "      padding: 0 0 0 0;\n",
              "      width: 32px;\n",
              "    }\n",
              "\n",
              "    .colab-df-convert:hover {\n",
              "      background-color: #E2EBFA;\n",
              "      box-shadow: 0px 1px 2px rgba(60, 64, 67, 0.3), 0px 1px 3px 1px rgba(60, 64, 67, 0.15);\n",
              "      fill: #174EA6;\n",
              "    }\n",
              "\n",
              "    [theme=dark] .colab-df-convert {\n",
              "      background-color: #3B4455;\n",
              "      fill: #D2E3FC;\n",
              "    }\n",
              "\n",
              "    [theme=dark] .colab-df-convert:hover {\n",
              "      background-color: #434B5C;\n",
              "      box-shadow: 0px 1px 3px 1px rgba(0, 0, 0, 0.15);\n",
              "      filter: drop-shadow(0px 1px 2px rgba(0, 0, 0, 0.3));\n",
              "      fill: #FFFFFF;\n",
              "    }\n",
              "  </style>\n",
              "\n",
              "      <script>\n",
              "        const buttonEl =\n",
              "          document.querySelector('#df-d242318d-e3b5-4a00-8526-4fcc6dfe461f button.colab-df-convert');\n",
              "        buttonEl.style.display =\n",
              "          google.colab.kernel.accessAllowed ? 'block' : 'none';\n",
              "\n",
              "        async function convertToInteractive(key) {\n",
              "          const element = document.querySelector('#df-d242318d-e3b5-4a00-8526-4fcc6dfe461f');\n",
              "          const dataTable =\n",
              "            await google.colab.kernel.invokeFunction('convertToInteractive',\n",
              "                                                     [key], {});\n",
              "          if (!dataTable) return;\n",
              "\n",
              "          const docLinkHtml = 'Like what you see? Visit the ' +\n",
              "            '<a target=\"_blank\" href=https://colab.research.google.com/notebooks/data_table.ipynb>data table notebook</a>'\n",
              "            + ' to learn more about interactive tables.';\n",
              "          element.innerHTML = '';\n",
              "          dataTable['output_type'] = 'display_data';\n",
              "          await google.colab.output.renderOutput(dataTable, element);\n",
              "          const docLink = document.createElement('div');\n",
              "          docLink.innerHTML = docLinkHtml;\n",
              "          element.appendChild(docLink);\n",
              "        }\n",
              "      </script>\n",
              "    </div>\n",
              "  </div>\n",
              "  "
            ]
          },
          "metadata": {},
          "execution_count": 15
        }
      ]
    },
    {
      "cell_type": "code",
      "source": [
        "df_small.shape"
      ],
      "metadata": {
        "colab": {
          "base_uri": "https://localhost:8080/"
        },
        "id": "4797FkDJPAbh",
        "outputId": "604bbd1e-2241-4a41-99f5-505454273f4e"
      },
      "execution_count": 16,
      "outputs": [
        {
          "output_type": "execute_result",
          "data": {
            "text/plain": [
              "(118, 5)"
            ]
          },
          "metadata": {},
          "execution_count": 16
        }
      ]
    },
    {
      "cell_type": "markdown",
      "source": [
        "**Step-5:** Creating the tabular data based on the counts."
      ],
      "metadata": {
        "id": "ap_UmzTSPDYq"
      }
    },
    {
      "cell_type": "code",
      "source": [
        "# Creating the tabular data based on the counts\n",
        "pd.crosstab(df_small[\"FLOODS\"], df_small[\"JUN_GT_500\"])"
      ],
      "metadata": {
        "colab": {
          "base_uri": "https://localhost:8080/",
          "height": 143
        },
        "id": "25ucEYuPPEYw",
        "outputId": "8469686f-106f-4e05-b1ce-11bed3ebb70f"
      },
      "execution_count": 17,
      "outputs": [
        {
          "output_type": "execute_result",
          "data": {
            "text/plain": [
              "JUN_GT_500   0   1\n",
              "FLOODS            \n",
              "0           19  39\n",
              "1            6  54"
            ],
            "text/html": [
              "\n",
              "  <div id=\"df-49d7324a-7f16-4471-bda1-3cb4f088fc8c\">\n",
              "    <div class=\"colab-df-container\">\n",
              "      <div>\n",
              "<style scoped>\n",
              "    .dataframe tbody tr th:only-of-type {\n",
              "        vertical-align: middle;\n",
              "    }\n",
              "\n",
              "    .dataframe tbody tr th {\n",
              "        vertical-align: top;\n",
              "    }\n",
              "\n",
              "    .dataframe thead th {\n",
              "        text-align: right;\n",
              "    }\n",
              "</style>\n",
              "<table border=\"1\" class=\"dataframe\">\n",
              "  <thead>\n",
              "    <tr style=\"text-align: right;\">\n",
              "      <th>JUN_GT_500</th>\n",
              "      <th>0</th>\n",
              "      <th>1</th>\n",
              "    </tr>\n",
              "    <tr>\n",
              "      <th>FLOODS</th>\n",
              "      <th></th>\n",
              "      <th></th>\n",
              "    </tr>\n",
              "  </thead>\n",
              "  <tbody>\n",
              "    <tr>\n",
              "      <th>0</th>\n",
              "      <td>19</td>\n",
              "      <td>39</td>\n",
              "    </tr>\n",
              "    <tr>\n",
              "      <th>1</th>\n",
              "      <td>6</td>\n",
              "      <td>54</td>\n",
              "    </tr>\n",
              "  </tbody>\n",
              "</table>\n",
              "</div>\n",
              "      <button class=\"colab-df-convert\" onclick=\"convertToInteractive('df-49d7324a-7f16-4471-bda1-3cb4f088fc8c')\"\n",
              "              title=\"Convert this dataframe to an interactive table.\"\n",
              "              style=\"display:none;\">\n",
              "        \n",
              "  <svg xmlns=\"http://www.w3.org/2000/svg\" height=\"24px\"viewBox=\"0 0 24 24\"\n",
              "       width=\"24px\">\n",
              "    <path d=\"M0 0h24v24H0V0z\" fill=\"none\"/>\n",
              "    <path d=\"M18.56 5.44l.94 2.06.94-2.06 2.06-.94-2.06-.94-.94-2.06-.94 2.06-2.06.94zm-11 1L8.5 8.5l.94-2.06 2.06-.94-2.06-.94L8.5 2.5l-.94 2.06-2.06.94zm10 10l.94 2.06.94-2.06 2.06-.94-2.06-.94-.94-2.06-.94 2.06-2.06.94z\"/><path d=\"M17.41 7.96l-1.37-1.37c-.4-.4-.92-.59-1.43-.59-.52 0-1.04.2-1.43.59L10.3 9.45l-7.72 7.72c-.78.78-.78 2.05 0 2.83L4 21.41c.39.39.9.59 1.41.59.51 0 1.02-.2 1.41-.59l7.78-7.78 2.81-2.81c.8-.78.8-2.07 0-2.86zM5.41 20L4 18.59l7.72-7.72 1.47 1.35L5.41 20z\"/>\n",
              "  </svg>\n",
              "      </button>\n",
              "      \n",
              "  <style>\n",
              "    .colab-df-container {\n",
              "      display:flex;\n",
              "      flex-wrap:wrap;\n",
              "      gap: 12px;\n",
              "    }\n",
              "\n",
              "    .colab-df-convert {\n",
              "      background-color: #E8F0FE;\n",
              "      border: none;\n",
              "      border-radius: 50%;\n",
              "      cursor: pointer;\n",
              "      display: none;\n",
              "      fill: #1967D2;\n",
              "      height: 32px;\n",
              "      padding: 0 0 0 0;\n",
              "      width: 32px;\n",
              "    }\n",
              "\n",
              "    .colab-df-convert:hover {\n",
              "      background-color: #E2EBFA;\n",
              "      box-shadow: 0px 1px 2px rgba(60, 64, 67, 0.3), 0px 1px 3px 1px rgba(60, 64, 67, 0.15);\n",
              "      fill: #174EA6;\n",
              "    }\n",
              "\n",
              "    [theme=dark] .colab-df-convert {\n",
              "      background-color: #3B4455;\n",
              "      fill: #D2E3FC;\n",
              "    }\n",
              "\n",
              "    [theme=dark] .colab-df-convert:hover {\n",
              "      background-color: #434B5C;\n",
              "      box-shadow: 0px 1px 3px 1px rgba(0, 0, 0, 0.15);\n",
              "      filter: drop-shadow(0px 1px 2px rgba(0, 0, 0, 0.3));\n",
              "      fill: #FFFFFF;\n",
              "    }\n",
              "  </style>\n",
              "\n",
              "      <script>\n",
              "        const buttonEl =\n",
              "          document.querySelector('#df-49d7324a-7f16-4471-bda1-3cb4f088fc8c button.colab-df-convert');\n",
              "        buttonEl.style.display =\n",
              "          google.colab.kernel.accessAllowed ? 'block' : 'none';\n",
              "\n",
              "        async function convertToInteractive(key) {\n",
              "          const element = document.querySelector('#df-49d7324a-7f16-4471-bda1-3cb4f088fc8c');\n",
              "          const dataTable =\n",
              "            await google.colab.kernel.invokeFunction('convertToInteractive',\n",
              "                                                     [key], {});\n",
              "          if (!dataTable) return;\n",
              "\n",
              "          const docLinkHtml = 'Like what you see? Visit the ' +\n",
              "            '<a target=\"_blank\" href=https://colab.research.google.com/notebooks/data_table.ipynb>data table notebook</a>'\n",
              "            + ' to learn more about interactive tables.';\n",
              "          element.innerHTML = '';\n",
              "          dataTable['output_type'] = 'display_data';\n",
              "          await google.colab.output.renderOutput(dataTable, element);\n",
              "          const docLink = document.createElement('div');\n",
              "          docLink.innerHTML = docLinkHtml;\n",
              "          element.appendChild(docLink);\n",
              "        }\n",
              "      </script>\n",
              "    </div>\n",
              "  </div>\n",
              "  "
            ]
          },
          "metadata": {},
          "execution_count": 17
        }
      ]
    },
    {
      "cell_type": "markdown",
      "source": [
        "**Step-6:** Defining the variables:\n",
        "\n",
        "P(F): Probability of flooding\n",
        "\n",
        "P(J): Probability of having more than 500 mm rain in June\n",
        "\n",
        "P(F ∩ J): Probability of flooding and having more than 500 mm rain in June\n",
        "\n",
        "P(F|J): Probability of flooding given it rained more than 500 mm in June\n",
        "\n",
        "Based on the above table we can easily find these probabilities."
      ],
      "metadata": {
        "id": "81M0f1TmPQiQ"
      }
    },
    {
      "cell_type": "code",
      "source": [
        "P_F = (6 + 54) / (6 + 54 + 19 + 39)\n",
        "P_J = (39 + 54) / (6 + 54 + 19 + 39)\n",
        "P_F_intersect_J = 54 / (6 + 54 + 19 + 39)\n",
        "print(f\"P(Flood): {P_F}\") \n",
        "print(f\"P(June): {P_J}\")\n",
        "print(f\"P(Flood AND June): {P_F_intersect_J}\")"
      ],
      "metadata": {
        "colab": {
          "base_uri": "https://localhost:8080/"
        },
        "id": "0cQQyDBSPdsd",
        "outputId": "f7fb21e1-20d9-4089-eb2c-8268a7ea91e2"
      },
      "execution_count": 18,
      "outputs": [
        {
          "output_type": "stream",
          "name": "stdout",
          "text": [
            "P(Flood): 0.5084745762711864\n",
            "P(June): 0.788135593220339\n",
            "P(Flood AND June): 0.4576271186440678\n"
          ]
        }
      ]
    },
    {
      "cell_type": "markdown",
      "source": [
        "**Step-7:** Using the formula - P(A|B) = P(A ∩ B) / P(B) calculate the conditional probability."
      ],
      "metadata": {
        "id": "E9eOG1iDPkuI"
      }
    },
    {
      "cell_type": "code",
      "source": [
        "# Now calculate probabilitity of flood given it rained more than 500 mm in June (P(A|B))\n",
        "P_F_J = P_F_intersect_J / P_J\n",
        "print(\"Probailitity of flood given it rained more than 500 mm in June (P(A|B)): \")\n",
        "print(f\"P(Flood|June): {P_F_J}\")"
      ],
      "metadata": {
        "colab": {
          "base_uri": "https://localhost:8080/"
        },
        "id": "JC4kZ2p1PrUR",
        "outputId": "e65bc58a-0fd5-4d2c-d631-7630004b42cf"
      },
      "execution_count": 19,
      "outputs": [
        {
          "output_type": "stream",
          "name": "stdout",
          "text": [
            "Probailitity of flood given it rained more than 500 mm in June (P(A|B)): \n",
            "P(Flood|June): 0.5806451612903226\n"
          ]
        }
      ]
    },
    {
      "cell_type": "markdown",
      "source": [
        "We can conclude that: Given that it flooded in Kerala in a given year what is the probability that it rained more than 500 mm in the month of June or July? This is where Bayes Theorem comes into action."
      ],
      "metadata": {
        "id": "V9b20wY0PxFj"
      }
    },
    {
      "cell_type": "markdown",
      "source": [
        "**Step-8:** Probability of rain more than 500 mm in June given it flooded that year (P(B|A))."
      ],
      "metadata": {
        "id": "4CAiAR0LP0aG"
      }
    },
    {
      "cell_type": "code",
      "source": [
        "# Probability of rain more than 500 mm in June given it flooded that year (P(B|A))\n",
        "P_J_F = (P_F_J * P_J) / P_F\n",
        "print(\"Probability of rain more than 500 mm in June given it flooded that year (P(B|A)): \")\n",
        "print(f\"P(June|Flood): {P_J_F}\")"
      ],
      "metadata": {
        "colab": {
          "base_uri": "https://localhost:8080/"
        },
        "id": "KHmN_VJFP1x7",
        "outputId": "bdb74366-8813-4724-ddc6-495fc80832c0"
      },
      "execution_count": 20,
      "outputs": [
        {
          "output_type": "stream",
          "name": "stdout",
          "text": [
            "Probability of rain more than 500 mm in June given it flooded that year (P(B|A)): \n",
            "P(June|Flood): 0.9000000000000001\n"
          ]
        }
      ]
    },
    {
      "cell_type": "markdown",
      "source": [
        "**Step-9:** Creating the tabular data based on the counts for July."
      ],
      "metadata": {
        "id": "BQFcaB2RYYYJ"
      }
    },
    {
      "cell_type": "code",
      "source": [
        "# We can similarly do it for july\n",
        "pd.crosstab(df_small[\"FLOODS\"], df_small[\"JUL_GT_500\"])"
      ],
      "metadata": {
        "colab": {
          "base_uri": "https://localhost:8080/",
          "height": 143
        },
        "id": "FYix52tUYd0f",
        "outputId": "82a607ef-6515-4adb-d0aa-de2a7d7bcfc5"
      },
      "execution_count": 21,
      "outputs": [
        {
          "output_type": "execute_result",
          "data": {
            "text/plain": [
              "JUL_GT_500   0   1\n",
              "FLOODS            \n",
              "0           19  39\n",
              "1            3  57"
            ],
            "text/html": [
              "\n",
              "  <div id=\"df-a06bf9c7-3699-43d1-863f-139f47095564\">\n",
              "    <div class=\"colab-df-container\">\n",
              "      <div>\n",
              "<style scoped>\n",
              "    .dataframe tbody tr th:only-of-type {\n",
              "        vertical-align: middle;\n",
              "    }\n",
              "\n",
              "    .dataframe tbody tr th {\n",
              "        vertical-align: top;\n",
              "    }\n",
              "\n",
              "    .dataframe thead th {\n",
              "        text-align: right;\n",
              "    }\n",
              "</style>\n",
              "<table border=\"1\" class=\"dataframe\">\n",
              "  <thead>\n",
              "    <tr style=\"text-align: right;\">\n",
              "      <th>JUL_GT_500</th>\n",
              "      <th>0</th>\n",
              "      <th>1</th>\n",
              "    </tr>\n",
              "    <tr>\n",
              "      <th>FLOODS</th>\n",
              "      <th></th>\n",
              "      <th></th>\n",
              "    </tr>\n",
              "  </thead>\n",
              "  <tbody>\n",
              "    <tr>\n",
              "      <th>0</th>\n",
              "      <td>19</td>\n",
              "      <td>39</td>\n",
              "    </tr>\n",
              "    <tr>\n",
              "      <th>1</th>\n",
              "      <td>3</td>\n",
              "      <td>57</td>\n",
              "    </tr>\n",
              "  </tbody>\n",
              "</table>\n",
              "</div>\n",
              "      <button class=\"colab-df-convert\" onclick=\"convertToInteractive('df-a06bf9c7-3699-43d1-863f-139f47095564')\"\n",
              "              title=\"Convert this dataframe to an interactive table.\"\n",
              "              style=\"display:none;\">\n",
              "        \n",
              "  <svg xmlns=\"http://www.w3.org/2000/svg\" height=\"24px\"viewBox=\"0 0 24 24\"\n",
              "       width=\"24px\">\n",
              "    <path d=\"M0 0h24v24H0V0z\" fill=\"none\"/>\n",
              "    <path d=\"M18.56 5.44l.94 2.06.94-2.06 2.06-.94-2.06-.94-.94-2.06-.94 2.06-2.06.94zm-11 1L8.5 8.5l.94-2.06 2.06-.94-2.06-.94L8.5 2.5l-.94 2.06-2.06.94zm10 10l.94 2.06.94-2.06 2.06-.94-2.06-.94-.94-2.06-.94 2.06-2.06.94z\"/><path d=\"M17.41 7.96l-1.37-1.37c-.4-.4-.92-.59-1.43-.59-.52 0-1.04.2-1.43.59L10.3 9.45l-7.72 7.72c-.78.78-.78 2.05 0 2.83L4 21.41c.39.39.9.59 1.41.59.51 0 1.02-.2 1.41-.59l7.78-7.78 2.81-2.81c.8-.78.8-2.07 0-2.86zM5.41 20L4 18.59l7.72-7.72 1.47 1.35L5.41 20z\"/>\n",
              "  </svg>\n",
              "      </button>\n",
              "      \n",
              "  <style>\n",
              "    .colab-df-container {\n",
              "      display:flex;\n",
              "      flex-wrap:wrap;\n",
              "      gap: 12px;\n",
              "    }\n",
              "\n",
              "    .colab-df-convert {\n",
              "      background-color: #E8F0FE;\n",
              "      border: none;\n",
              "      border-radius: 50%;\n",
              "      cursor: pointer;\n",
              "      display: none;\n",
              "      fill: #1967D2;\n",
              "      height: 32px;\n",
              "      padding: 0 0 0 0;\n",
              "      width: 32px;\n",
              "    }\n",
              "\n",
              "    .colab-df-convert:hover {\n",
              "      background-color: #E2EBFA;\n",
              "      box-shadow: 0px 1px 2px rgba(60, 64, 67, 0.3), 0px 1px 3px 1px rgba(60, 64, 67, 0.15);\n",
              "      fill: #174EA6;\n",
              "    }\n",
              "\n",
              "    [theme=dark] .colab-df-convert {\n",
              "      background-color: #3B4455;\n",
              "      fill: #D2E3FC;\n",
              "    }\n",
              "\n",
              "    [theme=dark] .colab-df-convert:hover {\n",
              "      background-color: #434B5C;\n",
              "      box-shadow: 0px 1px 3px 1px rgba(0, 0, 0, 0.15);\n",
              "      filter: drop-shadow(0px 1px 2px rgba(0, 0, 0, 0.3));\n",
              "      fill: #FFFFFF;\n",
              "    }\n",
              "  </style>\n",
              "\n",
              "      <script>\n",
              "        const buttonEl =\n",
              "          document.querySelector('#df-a06bf9c7-3699-43d1-863f-139f47095564 button.colab-df-convert');\n",
              "        buttonEl.style.display =\n",
              "          google.colab.kernel.accessAllowed ? 'block' : 'none';\n",
              "\n",
              "        async function convertToInteractive(key) {\n",
              "          const element = document.querySelector('#df-a06bf9c7-3699-43d1-863f-139f47095564');\n",
              "          const dataTable =\n",
              "            await google.colab.kernel.invokeFunction('convertToInteractive',\n",
              "                                                     [key], {});\n",
              "          if (!dataTable) return;\n",
              "\n",
              "          const docLinkHtml = 'Like what you see? Visit the ' +\n",
              "            '<a target=\"_blank\" href=https://colab.research.google.com/notebooks/data_table.ipynb>data table notebook</a>'\n",
              "            + ' to learn more about interactive tables.';\n",
              "          element.innerHTML = '';\n",
              "          dataTable['output_type'] = 'display_data';\n",
              "          await google.colab.output.renderOutput(dataTable, element);\n",
              "          const docLink = document.createElement('div');\n",
              "          docLink.innerHTML = docLinkHtml;\n",
              "          element.appendChild(docLink);\n",
              "        }\n",
              "      </script>\n",
              "    </div>\n",
              "  </div>\n",
              "  "
            ]
          },
          "metadata": {},
          "execution_count": 21
        }
      ]
    },
    {
      "cell_type": "markdown",
      "source": [
        "**Step-10:** Defining the similar parameters for July:\n",
        "\n",
        "P(F): Probability of flooding \n",
        "\n",
        "P(J): Probability of having more than 500 mm rain in July \n",
        "\n",
        "P(F ∩ J): Probability of flooding and having more than 500 mm rain in July \n",
        "\n",
        "P(F|J): Probability of flooding given it rained more than 500 mm in July"
      ],
      "metadata": {
        "id": "dT0TgDCEQENN"
      }
    },
    {
      "cell_type": "code",
      "source": [
        "P_F = (3 + 57) / (3 + 57 + 19 + 39)\n",
        "P_J = (39 + 57) / (3 + 57 + 19 + 39)\n",
        "P_F_intersect_J = 57 / (3 + 57 + 19 + 39)\n",
        "print(f\"P(Flood): {P_F}\") \n",
        "print(f\"P(July): {P_J}\")\n",
        "print(f\"P(Flood AND July): {P_F_intersect_J}\")"
      ],
      "metadata": {
        "colab": {
          "base_uri": "https://localhost:8080/"
        },
        "id": "A_QrZk9uQX7w",
        "outputId": "abee6db1-888e-4b68-9578-f859743c60d6"
      },
      "execution_count": 22,
      "outputs": [
        {
          "output_type": "stream",
          "name": "stdout",
          "text": [
            "P(Flood): 0.5084745762711864\n",
            "P(July): 0.8135593220338984\n",
            "P(Flood AND July): 0.4830508474576271\n"
          ]
        }
      ]
    },
    {
      "cell_type": "markdown",
      "source": [
        "**Step-11:** Now calculate probailitity of flood given it rained more than 500 mm in July."
      ],
      "metadata": {
        "id": "irVcTw_IQakV"
      }
    },
    {
      "cell_type": "code",
      "source": [
        "# Now calculate probabilitity of flood given it rained more than 500 mm in July\n",
        "P_F_J = P_F_intersect_J / P_J\n",
        "print(\"Probabilitity of flood given it rained more than 500 mm in July: \")\n",
        "print(f\"P(Flood|July): {P_F_J}\")"
      ],
      "metadata": {
        "colab": {
          "base_uri": "https://localhost:8080/"
        },
        "id": "O_P3B43rQg_b",
        "outputId": "ca83a062-ba8b-44a3-f278-038535ef771b"
      },
      "execution_count": 23,
      "outputs": [
        {
          "output_type": "stream",
          "name": "stdout",
          "text": [
            "Probabilitity of flood given it rained more than 500 mm in July: \n",
            "P(Flood|July): 0.59375\n"
          ]
        }
      ]
    },
    {
      "cell_type": "markdown",
      "source": [
        "**Step-12:** # Probability of rain more than 500 mm in July given it flooded that year (P(B|A))."
      ],
      "metadata": {
        "id": "PtUFjAZIQkiJ"
      }
    },
    {
      "cell_type": "code",
      "source": [
        "# Probability of rain more than 500 mm in July given it flooded that year (P(B|A))\n",
        "P_J_F = (P_F_J * P_J) / P_F\n",
        "print(\"Probability of rain more than 500 mm in July given it flooded that year (P(B|A)): \")\n",
        "print(f\"P(July|Flood): {P_J_F}\")"
      ],
      "metadata": {
        "colab": {
          "base_uri": "https://localhost:8080/"
        },
        "id": "mCoQru59Qpze",
        "outputId": "8cab37da-5df7-4d86-8b69-8f9c2041f4a3"
      },
      "execution_count": 24,
      "outputs": [
        {
          "output_type": "stream",
          "name": "stdout",
          "text": [
            "Probability of rain more than 500 mm in July given it flooded that year (P(B|A)): \n",
            "P(July|Flood): 0.9500000000000002\n"
          ]
        }
      ]
    },
    {
      "cell_type": "markdown",
      "source": [
        "Based on the probability outputs above we can easily infer that it flooded almost 59% of the time in the year when it rained more than 500 mm in July whereas for June it's only 58%. This means only rainfall in the months of June and July are not completely responsible for the flooding in Kerala.\n",
        "But, Using Bayes theorem we found that whenever it flooded in Kerala, both June and July have a very high probability (90% and 95% respectively) of rain for more than 500 mm."
      ],
      "metadata": {
        "id": "Tv8ETXO3QtKm"
      }
    }
  ]
}