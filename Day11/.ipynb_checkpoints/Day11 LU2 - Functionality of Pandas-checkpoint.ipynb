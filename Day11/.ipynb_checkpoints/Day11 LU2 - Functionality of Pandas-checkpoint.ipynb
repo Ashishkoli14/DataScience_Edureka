{
 "cells": [
  {
   "cell_type": "markdown",
   "metadata": {
    "id": "42kPs-dExkhA"
   },
   "source": [
    "<h2>Demo - Functionality of Pandas Series</h2>\n",
    "\n",
    "In this demo, you will be shown how to create Series in Python and use various attributes and functionality of Series using pandas."
   ]
  },
  {
   "cell_type": "markdown",
   "metadata": {
    "id": "0lErM4XUxkhD"
   },
   "source": [
    "##### Question 1:\n",
    "\n",
    "    1) Create a pandas Series from a list  x = [13, -5, 7, 19]\n",
    "    2) Create a series using a numpy array having values \"23, 3.0, 7, 11\" and specifying index values as \"a, b, c, d\"\n",
    "    3) Get the values and index of the series of the above series\n",
    "    4) Access individual elements of the string\n",
    "    5) Assign new values to the elements"
   ]
  },
  {
   "cell_type": "code",
   "execution_count": 1,
   "metadata": {
    "colab": {
     "base_uri": "https://localhost:8080/"
    },
    "id": "k6zEoCXCxkhE",
    "outputId": "8528ef2f-913f-4a74-a0ae-110378f7e640"
   },
   "outputs": [
    {
     "name": "stdout",
     "output_type": "stream",
     "text": [
      "0    13\n",
      "1    -5\n",
      "2     7\n",
      "3    19\n",
      "dtype: int64\n"
     ]
    }
   ],
   "source": [
    "# Import the required libraries\n",
    "\n",
    "import pandas as pd\n",
    "import numpy as np\n",
    "\n",
    "# 1.1 Create a pandas Series from a list  x = [13, -5, 7, 19]\n",
    "x = [13, -5, 7, 19]\n",
    "s1 = pd.Series(x)\n",
    "\n",
    "# Print the series and observe the default indices created\n",
    "print(s1)"
   ]
  },
  {
   "cell_type": "code",
   "execution_count": null,
   "metadata": {
    "id": "PvJEPromxkhG"
   },
   "outputs": [],
   "source": [
    "# Notice that the data type is automatically set for the series as 'int64'"
   ]
  },
  {
   "cell_type": "code",
   "execution_count": 2,
   "metadata": {
    "colab": {
     "base_uri": "https://localhost:8080/"
    },
    "id": "2BqqzglAxkhH",
    "outputId": "5b71ac00-9cd3-4406-eeae-b9c5611827c8"
   },
   "outputs": [
    {
     "name": "stdout",
     "output_type": "stream",
     "text": [
      "a    23.0\n",
      "b     3.0\n",
      "c     7.0\n",
      "d    11.0\n",
      "dtype: float64\n"
     ]
    }
   ],
   "source": [
    "# 1.2 Create a series using a numpy array\n",
    "\n",
    "y = np.array([23, 3., 7, 11])\n",
    "s2 = pd.Series(y, index=['a', 'b', 'c', 'd'])\n",
    "\n",
    "print(s2)"
   ]
  },
  {
   "cell_type": "code",
   "execution_count": 3,
   "metadata": {
    "colab": {
     "base_uri": "https://localhost:8080/"
    },
    "id": "UNrXcMlRxkhH",
    "outputId": "8a4a5705-315d-4803-d45d-e803359cda5a"
   },
   "outputs": [
    {
     "data": {
      "text/plain": [
       "dtype('float64')"
      ]
     },
     "execution_count": 3,
     "metadata": {},
     "output_type": "execute_result"
    }
   ],
   "source": [
    "# Note that indices are specifies at the time of creation.\n",
    "\n",
    "# Check the data type of the series\n",
    "s2.dtype"
   ]
  },
  {
   "cell_type": "code",
   "execution_count": null,
   "metadata": {
    "id": "wluJruOxxkhH"
   },
   "outputs": [],
   "source": [
    "# The data type is set as float since one of the values is a float"
   ]
  },
  {
   "cell_type": "code",
   "execution_count": 4,
   "metadata": {
    "colab": {
     "base_uri": "https://localhost:8080/"
    },
    "id": "DQ9khsaZxkhI",
    "outputId": "fbf9ebd6-d36d-4ef5-aa37-2cf3fdedec28"
   },
   "outputs": [
    {
     "name": "stdout",
     "output_type": "stream",
     "text": [
      "Values: [23.  3.  7. 11.]\n",
      "Index: Index(['a', 'b', 'c', 'd'], dtype='object')\n"
     ]
    }
   ],
   "source": [
    "# 1.3 Get the values and index of the series\n",
    "\n",
    "print(\"Values:\", s2.values)\n",
    "\n",
    "print(\"Index:\", s2.index)"
   ]
  },
  {
   "cell_type": "code",
   "execution_count": 5,
   "metadata": {
    "colab": {
     "base_uri": "https://localhost:8080/"
    },
    "id": "T5Rv3VtbxkhI",
    "outputId": "c341b54d-acc4-40ae-b731-e3495fef91de"
   },
   "outputs": [
    {
     "name": "stdout",
     "output_type": "stream",
     "text": [
      "Third element:  7.0\n",
      "First two elements:\n",
      "\n",
      "a    23.0\n",
      "b     3.0\n",
      "dtype: float64\n",
      "Element having index 'd':\n",
      "11.0\n"
     ]
    }
   ],
   "source": [
    "# 1.4 Access the elements of Series\n",
    "\n",
    "print(\"Third element: \", s2[2])\n",
    "\n",
    "print(\"First two elements:\\n\")\n",
    "print(s2[0:2])\n",
    "\n",
    "print(\"Element having index 'd':\")\n",
    "print(s2['d'])\n"
   ]
  },
  {
   "cell_type": "code",
   "execution_count": 6,
   "metadata": {
    "id": "29hLlEjZd3p2",
    "outputId": "ab97e757-996f-4dbf-ece4-7405f695a385"
   },
   "outputs": [
    {
     "data": {
      "text/plain": [
       "23.0"
      ]
     },
     "execution_count": 6,
     "metadata": {},
     "output_type": "execute_result"
    }
   ],
   "source": [
    "s2[\"a\"]"
   ]
  },
  {
   "cell_type": "code",
   "execution_count": 7,
   "metadata": {
    "id": "5VkuRMwld3p4",
    "outputId": "a2271b18-7a88-49da-9d39-ee6820bb5e1d"
   },
   "outputs": [
    {
     "data": {
      "text/plain": [
       "11.0"
      ]
     },
     "execution_count": 7,
     "metadata": {},
     "output_type": "execute_result"
    }
   ],
   "source": [
    "s2[3]"
   ]
  },
  {
   "cell_type": "code",
   "execution_count": 8,
   "metadata": {
    "id": "Q1UT4L9Od3p5",
    "outputId": "279dd6e0-d79a-4798-88c1-9b692051d557"
   },
   "outputs": [
    {
     "data": {
      "text/plain": [
       "a    23.0\n",
       "b     3.0\n",
       "c     7.0\n",
       "d    11.0\n",
       "dtype: float64"
      ]
     },
     "execution_count": 8,
     "metadata": {},
     "output_type": "execute_result"
    }
   ],
   "source": [
    "s2"
   ]
  },
  {
   "cell_type": "code",
   "execution_count": 10,
   "metadata": {
    "colab": {
     "base_uri": "https://localhost:8080/"
    },
    "id": "58f5KTHzxkhI",
    "outputId": "b273abd0-b4c9-4e66-ab9e-ffa2fa4cc280"
   },
   "outputs": [
    {
     "name": "stdout",
     "output_type": "stream",
     "text": [
      "a    10.0\n",
      "b    11.0\n",
      "c     7.0\n",
      "d    11.0\n",
      "dtype: float64\n"
     ]
    }
   ],
   "source": [
    "# 1.5 Assign new values to the elements OR Reassignment of values\n",
    "\n",
    "s2['a'] = 10\n",
    "\n",
    "s2[1] = 11\n",
    "print(s2)"
   ]
  },
  {
   "cell_type": "markdown",
   "metadata": {
    "id": "YZ_mSVjFxkhJ"
   },
   "source": [
    "##### Question 2:\n",
    "\n",
    "From the raw data below create a Pandas Series\n",
    "\n",
    "'Amit', 'Bob', 'Kate', 'A', 'b', np.nan, 'Car', 'dog', 'cat'\n",
    "\n",
    "    1) Print all elements in lower case\n",
    "    2) Print all the elements in upper case\t\n",
    "    3) Print the length of all the elements\n"
   ]
  },
  {
   "cell_type": "code",
   "execution_count": 11,
   "metadata": {
    "colab": {
     "base_uri": "https://localhost:8080/"
    },
    "id": "3SsjqqqZxkhJ",
    "outputId": "40dc6dde-bc02-4b03-bac4-80e44b8b6876"
   },
   "outputs": [
    {
     "name": "stdout",
     "output_type": "stream",
     "text": [
      "0    amit\n",
      "1     bob\n",
      "2    kate\n",
      "3       a\n",
      "4       b\n",
      "5     NaN\n",
      "6     car\n",
      "7     dog\n",
      "8     cat\n",
      "dtype: object\n"
     ]
    }
   ],
   "source": [
    "# 2.1\n",
    "s = pd.Series(['Amit', 'Bob', 'Kate', 'A', 'b', np.nan, 'Car', 'dog', 'cat'])\n",
    "print(s.str.lower())"
   ]
  },
  {
   "cell_type": "code",
   "execution_count": 12,
   "metadata": {
    "colab": {
     "base_uri": "https://localhost:8080/"
    },
    "id": "ReL7CfHdxkhJ",
    "outputId": "7d61991d-a7b3-4c6f-faab-cb91c487172f"
   },
   "outputs": [
    {
     "name": "stdout",
     "output_type": "stream",
     "text": [
      "0    AMIT\n",
      "1     BOB\n",
      "2    KATE\n",
      "3       A\n",
      "4       B\n",
      "5     NaN\n",
      "6     CAR\n",
      "7     DOG\n",
      "8     CAT\n",
      "dtype: object\n"
     ]
    }
   ],
   "source": [
    "# 2.2\n",
    "\n",
    "print(s.str.upper()) "
   ]
  },
  {
   "cell_type": "code",
   "execution_count": 13,
   "metadata": {
    "colab": {
     "base_uri": "https://localhost:8080/"
    },
    "id": "v6KAK98MxkhK",
    "outputId": "3b6456a7-f163-48f0-8f42-cecfcae8a706"
   },
   "outputs": [
    {
     "name": "stdout",
     "output_type": "stream",
     "text": [
      "0    4.0\n",
      "1    3.0\n",
      "2    4.0\n",
      "3    1.0\n",
      "4    1.0\n",
      "5    NaN\n",
      "6    3.0\n",
      "7    3.0\n",
      "8    3.0\n",
      "dtype: float64\n"
     ]
    }
   ],
   "source": [
    "# 2.3\n",
    "\n",
    "print(s.str.len())"
   ]
  },
  {
   "cell_type": "markdown",
   "metadata": {
    "id": "inrscGfZxkhK"
   },
   "source": [
    "##### Question 3:\n",
    "\n",
    "From the raw data below create a Pandas Series\n",
    "\n",
    "' Arya', 'John ', ' jack ', 'Sam'\n",
    "\n",
    "    1) Print all elements after stripping spaces from the left and right\n",
    "    2) Print all the elements after removing spaces from the left only\n",
    "    3) Print all the elements after removing spaces from the right only\n"
   ]
  },
  {
   "cell_type": "code",
   "execution_count": 14,
   "metadata": {
    "id": "79pYPocOd3p-",
    "outputId": "636532eb-36b0-43d1-e392-9b61e68980a7"
   },
   "outputs": [
    {
     "name": "stdout",
     "output_type": "stream",
     "text": [
      "Index([' Arya', 'John ', ' jack ', 'Sam'], dtype='object')\n"
     ]
    }
   ],
   "source": [
    "# 3.1\n",
    "s = pd.Index([' Arya', 'John ', ' jack ', 'Sam'])\n",
    "\n",
    "print(s)"
   ]
  },
  {
   "cell_type": "code",
   "execution_count": 15,
   "metadata": {
    "colab": {
     "base_uri": "https://localhost:8080/"
    },
    "id": "hK1HpXO8xkhL",
    "outputId": "e2e54fb6-a06d-48d9-a27b-127b841eba92"
   },
   "outputs": [
    {
     "name": "stdout",
     "output_type": "stream",
     "text": [
      "Index(['Arya', 'John', 'jack', 'Sam'], dtype='object')\n"
     ]
    }
   ],
   "source": [
    "print(s.str.strip())"
   ]
  },
  {
   "cell_type": "code",
   "execution_count": 16,
   "metadata": {
    "colab": {
     "base_uri": "https://localhost:8080/"
    },
    "id": "8rtNyYp5xkhL",
    "outputId": "9c121767-966e-4200-e1b8-2694491e3cd9"
   },
   "outputs": [
    {
     "name": "stdout",
     "output_type": "stream",
     "text": [
      "Index(['Arya', 'John ', 'jack ', 'Sam'], dtype='object')\n"
     ]
    }
   ],
   "source": [
    "# 3.2\n",
    "print(s.str.lstrip())"
   ]
  },
  {
   "cell_type": "code",
   "execution_count": 17,
   "metadata": {
    "colab": {
     "base_uri": "https://localhost:8080/"
    },
    "id": "cabwwScdxkhL",
    "outputId": "917f69f0-0d79-4272-963c-5a5c33397571"
   },
   "outputs": [
    {
     "name": "stdout",
     "output_type": "stream",
     "text": [
      "Index([' Arya', 'John', ' jack', 'Sam'], dtype='object')\n"
     ]
    }
   ],
   "source": [
    "# 3.3\n",
    "print(s.str.rstrip())"
   ]
  },
  {
   "cell_type": "markdown",
   "metadata": {
    "id": "SoJuTG1dxkhM"
   },
   "source": [
    "##### Conclusion: This code demonstrates how to create Series in pandas and use various functionality of series"
   ]
  }
 ],
 "metadata": {
  "colab": {
   "name": "Demo - Functionality of Pandas.ipynb",
   "provenance": []
  },
  "kernelspec": {
   "display_name": "Python 3 (ipykernel)",
   "language": "python",
   "name": "python3"
  },
  "language_info": {
   "codemirror_mode": {
    "name": "ipython",
    "version": 3
   },
   "file_extension": ".py",
   "mimetype": "text/x-python",
   "name": "python",
   "nbconvert_exporter": "python",
   "pygments_lexer": "ipython3",
   "version": "3.10.9"
  }
 },
 "nbformat": 4,
 "nbformat_minor": 1
}
